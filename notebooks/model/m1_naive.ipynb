{
 "cells": [
  {
   "cell_type": "code",
   "execution_count": null,
   "metadata": {},
   "outputs": [],
   "source": [
    "def train_model_m1_naive(hyperparameter, train_df_X, train_df_y):\n",
    "    \"\"\"Train a naive model for point forecasting.\n",
    "\n",
    "    For the naive model, no actual training is required. The model \n",
    "    simply stores configuration (if any) and will produce lagged forecasts.\n",
    "\n",
    "    Args:\n",
    "        hyperparameter (pd.DataFrame): Hyperparameter values (e.g., number of features).\n",
    "        train_df_X (pd.DataFrame): Features matrix for training.\n",
    "        train_df_y (pd.DataFrame): Target values for training.\n",
    "\n",
    "    Returns:\n",
    "        model (dict): Trained naive model object containing all features.\n",
    "    \"\"\"\n",
    "    \n",
    "    #UNPACK HYPERPARAMETER\n",
    "    #no hyperparameter for naive model\n",
    "    \n",
    "    #TRAIN MODEL\n",
    "    #no training is required for naive model\n",
    "  \n",
    "    # PACK MODEL\n",
    "    model = {}\n",
    "  \n",
    "\n",
    "    return model"
   ]
  },
  {
   "cell_type": "code",
   "execution_count": null,
   "metadata": {},
   "outputs": [],
   "source": [
    "def produce_forecast_m1_naive(model, train_df_X, test_df_X):\n",
    "    \"\"\"Generate naive forecasts for training and test sets using lagged values.\n",
    "\n",
    "    Args:\n",
    "        model (dict): Parameters of the trained model.\n",
    "        train_df_X (pd.DataFrame): Predictor data for the training set.\n",
    "        test_df_X (pd.DataFrame): Predictor data for the test set.\n",
    "\n",
    "    Returns:\n",
    "        train_df_y_hat (pd.Series): Forecast results for the training set.\n",
    "        test_df_y_hat (pd.Series): Forecast results for the test set.\n",
    "    \"\"\"\n",
    "    \n",
    "    # PRODUCE FORECAST\n",
    "    horizon_timedelta = pd.Timedelta(minutes=forecast_horizon)\n",
    "    last_observation = f'y_lag_{horizon_timedelta}m'\n",
    "    train_df_y_hat = train_df_X[last_observation]\n",
    "    test_df_y_hat = test_df_X[last_observation]\n",
    "    \n",
    "    return train_df_y_hat, test_df_y_hat"
   ]
  }
 ],
 "metadata": {
  "kernelspec": {
   "display_name": ".venv",
   "language": "python",
   "name": "python3"
  },
  "language_info": {
   "codemirror_mode": {
    "name": "ipython",
    "version": 3
   },
   "file_extension": ".py",
   "mimetype": "text/x-python",
   "name": "python",
   "nbconvert_exporter": "python",
   "pygments_lexer": "ipython3",
   "version": "3.12.3"
  }
 },
 "nbformat": 4,
 "nbformat_minor": 2
}
