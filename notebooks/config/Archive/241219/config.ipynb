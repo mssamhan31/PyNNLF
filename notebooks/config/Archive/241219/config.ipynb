{
 "cells": [
  {
   "cell_type": "markdown",
   "metadata": {},
   "source": [
    "## Goal\n",
    "1. Populate all hard coded path, file name, values, including hyperparameters"
   ]
  },
  {
   "cell_type": "markdown",
   "metadata": {},
   "source": [
    "# PATH"
   ]
  },
  {
   "cell_type": "code",
   "execution_count": 8,
   "metadata": {},
   "outputs": [],
   "source": [
    "path_data_raw_ausgrid = '../../data/1. raw/Solar Home Electricity Data/'\n",
    "path_data_cleaned  = '../../data/3. cleaned/'\n",
    "path_result = '../../experiment_result/'"
   ]
  },
  {
   "cell_type": "markdown",
   "metadata": {},
   "source": [
    "# FILE NAME"
   ]
  },
  {
   "cell_type": "code",
   "execution_count": 3,
   "metadata": {},
   "outputs": [],
   "source": [
    "filename_ausgrid_raw1 = '2010-2011 Solar home electricity data.csv'\n",
    "filename_ausgrid_raw2 = '2011-2012 Solar home electricity data v2.csv'\n",
    "filename_ausgrid_raw3 = '2012-2013 Solar home electricity data v2.csv'\n",
    "\n",
    "filename_ausgrid_cleaned = 'ds1_ausgrid.csv'"
   ]
  },
  {
   "cell_type": "code",
   "execution_count": 3,
   "metadata": {},
   "outputs": [],
   "source": [
    "ds1 = 'ds1_ausgrid.csv'"
   ]
  },
  {
   "cell_type": "markdown",
   "metadata": {},
   "source": [
    "# IMAGE CONFIG: COLOR PALETTE, FONT SETTING"
   ]
  },
  {
   "cell_type": "code",
   "execution_count": 2,
   "metadata": {},
   "outputs": [],
   "source": [
    "black = 'black'\n",
    "dark_blue = '#22303D'\n",
    "blue = '#2F4D67'\n",
    "light_blue = '#5C7D99'\n",
    "slight_blue = '#B7C9D9'\n",
    "orange = '#EB932C'\n",
    "platinum = '#EBE3E3'\n",
    "unsw_yellow = '#ffd600'\n",
    "\n",
    "my_figsize = (8,6)\n",
    "\n",
    "my_font = 'arial'\n",
    "font_normal ='16'\n",
    "font_big = '20'\n",
    "font_small = '12'\n",
    "\n",
    "fontdict_normal = {'family': my_font,  # Set font family (e.g., 'serif', 'sans-serif', 'monospace')\n",
    "                   'color':  black, # Set font color\n",
    "                   'weight': 'normal',    # Set font weight (e.g., 'bold', 'normal')\n",
    "                   'size': font_normal}          # Set font size"
   ]
  },
  {
   "cell_type": "markdown",
   "metadata": {},
   "source": [
    "# CROSS VALIDATION"
   ]
  },
  {
   "cell_type": "code",
   "execution_count": 6,
   "metadata": {},
   "outputs": [],
   "source": [
    "train_pct = 0.6\n",
    "dev_pct = 0.2\n",
    "test_pct = 0.2\n",
    "n_days_predictors = 30"
   ]
  },
  {
   "cell_type": "code",
   "execution_count": null,
   "metadata": {},
   "outputs": [],
   "source": []
  },
  {
   "cell_type": "markdown",
   "metadata": {},
   "source": [
    "# FEATURE ENGINEERING"
   ]
  },
  {
   "cell_type": "code",
   "execution_count": 7,
   "metadata": {},
   "outputs": [],
   "source": [
    "max_lag_day = 7"
   ]
  },
  {
   "cell_type": "markdown",
   "metadata": {},
   "source": [
    "# FORECAST HORIZON"
   ]
  },
  {
   "cell_type": "code",
   "execution_count": 2,
   "metadata": {},
   "outputs": [],
   "source": [
    "#all in minutes\n",
    "fh1 = 30\n",
    "fh2 = 60\n",
    "fh3 = 120\n",
    "fh4 = 180\n",
    "fh5 = 240\n",
    "fh6 = 300\n",
    "fh7 = 360\n",
    "fh8 = 1440 # 1 day\n",
    "fh9 = 10080 # 1 week\n",
    "fh10 = 43200 # 1 month \n",
    "\n"
   ]
  },
  {
   "cell_type": "code",
   "execution_count": null,
   "metadata": {},
   "outputs": [],
   "source": []
  }
 ],
 "metadata": {
  "kernelspec": {
   "display_name": ".venv",
   "language": "python",
   "name": "python3"
  },
  "language_info": {
   "codemirror_mode": {
    "name": "ipython",
    "version": 3
   },
   "file_extension": ".py",
   "mimetype": "text/x-python",
   "name": "python",
   "nbconvert_exporter": "python",
   "pygments_lexer": "ipython3",
   "version": "3.12.3"
  }
 },
 "nbformat": 4,
 "nbformat_minor": 2
}
