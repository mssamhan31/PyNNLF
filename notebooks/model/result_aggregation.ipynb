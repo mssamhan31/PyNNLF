{
 "cells": [
  {
   "cell_type": "code",
   "execution_count": null,
   "id": "fb59fb94",
   "metadata": {},
   "outputs": [],
   "source": [
    "import pandas as pd\n",
    "import os\n",
    "from pathlib import Path\n",
    "\n",
    "# Create an empty Df\n",
    "df = pd.DataFrame()\n",
    "exp_result_folder = '../../experiment_result/'\n",
    "\n",
    "# Compute the number of folder in the experiment result folder \n",
    "def get_number_of_folders(path):\n",
    "    return len([name for name in os.listdir(path) if os.path.isdir(os.path.join(path, name))])\n",
    "\n",
    "# Get the number of folders in the experiment result folder\n",
    "number_of_folders = get_number_of_folders(exp_result_folder)\n",
    "n_experiments = number_of_folders - 1\n",
    "\n",
    "parent = Path(exp_result_folder)        # adjust\n",
    "\n",
    "for i in range(1, n_experiments + 1):        # 1 → n (change to 0-based if you need)\n",
    "    # “E” + 5-digit zero-padded index, e.g. 1 → E00001, 12 → E00012, 123 → E00123\n",
    "    pattern = f\"E{i:05d}_*\"                  # tail “_*” matches any suffix\n",
    "    for folder in parent.glob(pattern):      # returns Path objects for every match\n",
    "        print(folder)                        # ↪ or os.chdir(folder) / open files here\n",
    "        try:\n",
    "            # any file that ends with “…_experiment_result[.csv]”\n",
    "            csv_path = next(folder.glob(\"*_experiment_result*.csv\"))\n",
    "            row_df = pd.read_csv(csv_path, nrows=1)     # one-row DataFrame\n",
    "            df = pd.concat([df, row_df], ignore_index=True)\n",
    "        except StopIteration:\n",
    "            print(f\"⚠️ no result file in {folder}\")\n",
    "        except Exception as e:\n",
    "            print(f\"⚠️ error reading {folder}: {e}\")\n",
    "            \n",
    "# export df to excel file on experiment_result folder\n",
    "output_file = Path(exp_result_folder) / 'result_summary.xlsx'\n",
    "df.to_excel(output_file, sheet_name='result', index=False)"
   ]
  }
 ],
 "metadata": {
  "kernelspec": {
   "display_name": ".venv (3.12.3)",
   "language": "python",
   "name": "python3"
  },
  "language_info": {
   "codemirror_mode": {
    "name": "ipython",
    "version": 3
   },
   "file_extension": ".py",
   "mimetype": "text/x-python",
   "name": "python",
   "nbconvert_exporter": "python",
   "pygments_lexer": "ipython3",
   "version": "3.12.3"
  }
 },
 "nbformat": 4,
 "nbformat_minor": 5
}
