{
 "cells": [
  {
   "cell_type": "code",
   "execution_count": 7,
   "id": "b3352d28",
   "metadata": {},
   "outputs": [
    {
     "name": "stdout",
     "output_type": "stream",
     "text": [
      "         station_number             datetime  air_temperature_in_degrees_c  \\\n",
      "1747282           66037  2022-12-01 00:00:00                          18.4   \n",
      "1747283           66037  2022-12-01 00:30:00                          18.2   \n",
      "1747284           66037  2022-12-01 01:00:00                          18.3   \n",
      "1747285           66037  2022-12-01 01:30:00                          18.2   \n",
      "1747286           66037  2022-12-01 02:00:00                          18.1   \n",
      "\n",
      "         relative_humidity_in_percentage  wind_speed_in_km_h  \n",
      "1747282                             63.0                13.0  \n",
      "1747283                             65.0                13.0  \n",
      "1747284                             66.0                13.0  \n",
      "1747285                             68.0                13.0  \n",
      "1747286                             69.0                13.0  \n"
     ]
    }
   ],
   "source": [
    "import pandas as pd\n",
    "\n",
    "# Define the condition for filtering (stations you're interested in)\n",
    "column_name = 'station_number'  # Replace with your column name\n",
    "value_conditions = [66037]  # List of station numbers to include (Sydney Airport)\n",
    "\n",
    "# Define the columns to read (make sure to include 'station_number' in col_to_include)\n",
    "col_to_include = ['station_number', 'datetime', 'air_temperature_in_degrees_c', 'wind_speed_in_km_h', 'relative_humidity_in_percentage']\n",
    "\n",
    "# Specify the chunk size (e.g., 10000 rows per chunk)\n",
    "chunk_size = 10000\n",
    "\n",
    "# Initialize an empty list to store filtered chunks\n",
    "filtered_chunks = []\n",
    "\n",
    "# Iterate over the file in chunks\n",
    "for chunk in pd.read_csv(r'c:\\Users\\z5404477\\OneDrive - UNSW\\04_Workspace\\2. WIP\\data\\1. raw\\BOM Weather Data\\bom_data_nsw55167608.csv', \n",
    "                         usecols=col_to_include, chunksize=chunk_size):\n",
    "    # Filter rows where 'station_number' is in the list of value_conditions\n",
    "    filtered_chunk = chunk[chunk[column_name].isin(value_conditions)]\n",
    "    filtered_chunks.append(filtered_chunk)\n",
    "\n",
    "# Concatenate the filtered chunks into a single DataFrame\n",
    "filtered_df = pd.concat(filtered_chunks)\n",
    "\n",
    "# Display the first 5 filtered rows\n",
    "print(filtered_df.head(5))\n"
   ]
  },
  {
   "cell_type": "code",
   "execution_count": 9,
   "id": "ad76d89c",
   "metadata": {},
   "outputs": [],
   "source": [
    "filtered_df['datetime'] = pd.to_datetime(filtered_df['datetime'], format='%Y-%m-%d %H:%M:%S')"
   ]
  },
  {
   "cell_type": "code",
   "execution_count": 10,
   "id": "af927521",
   "metadata": {},
   "outputs": [],
   "source": [
    "filtered_df_2 = filtered_df[filtered_df['station_number'] == 66037] #use Sydney Airport station only\n",
    "\n",
    "# make datetime the index\n",
    "filtered_df_2.set_index('datetime', inplace=True)\n",
    "#sort the index\n",
    "filtered_df_2.sort_index(inplace=True)"
   ]
  },
  {
   "cell_type": "code",
   "execution_count": 11,
   "id": "b181ea91",
   "metadata": {},
   "outputs": [
    {
     "data": {
      "application/vnd.microsoft.datawrangler.viewer.v0+json": {
       "columns": [
        {
         "name": "datetime",
         "rawType": "datetime64[ns]",
         "type": "datetime"
        },
        {
         "name": "station_number",
         "rawType": "int64",
         "type": "integer"
        },
        {
         "name": "air_temperature_in_degrees_c",
         "rawType": "float64",
         "type": "float"
        },
        {
         "name": "relative_humidity_in_percentage",
         "rawType": "float64",
         "type": "float"
        },
        {
         "name": "wind_speed_in_km_h",
         "rawType": "float64",
         "type": "float"
        }
       ],
       "ref": "e0ba2c64-0270-4ed4-a393-c1d31fdafdb9",
       "rows": [
        [
         "2010-01-01 00:00:00",
         "66037",
         "23.6",
         "84.0",
         "14.8"
        ],
        [
         "2010-01-01 00:30:00",
         "66037",
         "22.9",
         "89.0",
         "14.8"
        ],
        [
         "2010-01-01 01:00:00",
         "66037",
         "23.4",
         "86.0",
         "14.8"
        ],
        [
         "2010-01-01 01:30:00",
         "66037",
         "23.3",
         "87.0",
         "14.8"
        ],
        [
         "2010-01-01 02:00:00",
         "66037",
         "23.6",
         "84.0",
         "9.4"
        ],
        [
         "2010-01-01 02:30:00",
         "66037",
         "22.7",
         "90.0",
         "9.4"
        ],
        [
         "2010-01-01 03:00:00",
         "66037",
         "23.4",
         "86.0",
         "9.4"
        ],
        [
         "2010-01-01 03:30:00",
         "66037",
         "23.5",
         "84.0",
         "9.4"
        ],
        [
         "2010-01-01 04:00:00",
         "66037",
         "23.4",
         "84.0",
         "11.2"
        ],
        [
         "2010-01-01 04:30:00",
         "66037",
         "22.8",
         "89.0",
         "7.6"
        ],
        [
         "2010-01-01 05:00:00",
         "66037",
         "22.6",
         "90.0",
         "5.4"
        ],
        [
         "2010-01-01 05:30:00",
         "66037",
         "22.6",
         "91.0",
         "5.4"
        ],
        [
         "2010-01-01 06:00:00",
         "66037",
         "22.7",
         "91.0",
         "1.8"
        ],
        [
         "2010-01-01 06:30:00",
         "66037",
         "23.7",
         "84.0",
         "11.2"
        ],
        [
         "2010-01-01 07:00:00",
         "66037",
         "24.0",
         "83.0",
         "14.8"
        ],
        [
         "2010-01-01 07:30:00",
         "66037",
         "24.6",
         "78.0",
         "14.8"
        ],
        [
         "2010-01-01 08:00:00",
         "66037",
         "25.5",
         "74.0",
         "14.8"
        ],
        [
         "2010-01-01 08:30:00",
         "66037",
         "25.4",
         "72.0",
         "16.6"
        ],
        [
         "2010-01-01 09:00:00",
         "66037",
         "25.5",
         "61.0",
         "27.7"
        ],
        [
         "2010-01-01 09:30:00",
         "66037",
         "25.4",
         "62.0",
         "27.7"
        ],
        [
         "2010-01-01 10:00:00",
         "66037",
         "25.5",
         "63.0",
         "31.3"
        ],
        [
         "2010-01-01 10:30:00",
         "66037",
         "26.0",
         "59.0",
         "31.3"
        ],
        [
         "2010-01-01 11:00:00",
         "66037",
         "26.8",
         "58.0",
         "25.9"
        ],
        [
         "2010-01-01 11:30:00",
         "66037",
         "26.4",
         "61.0",
         "29.5"
        ],
        [
         "2010-01-01 12:00:00",
         "66037",
         "27.5",
         "58.0",
         "24.1"
        ],
        [
         "2010-01-01 12:30:00",
         "66037",
         "28.2",
         "53.0",
         "20.5"
        ],
        [
         "2010-01-01 13:00:00",
         "66037",
         "29.5",
         "48.0",
         "22.3"
        ],
        [
         "2010-01-01 13:30:00",
         "66037",
         "29.4",
         "50.0",
         "25.9"
        ],
        [
         "2010-01-01 14:00:00",
         "66037",
         "29.4",
         "50.0",
         "29.5"
        ],
        [
         "2010-01-01 14:30:00",
         "66037",
         "29.4",
         "49.0",
         "33.5"
        ],
        [
         "2010-01-01 15:00:00",
         "66037",
         "29.2",
         "48.0",
         "35.3"
        ],
        [
         "2010-01-01 15:30:00",
         "66037",
         "29.1",
         "49.0",
         "35.3"
        ],
        [
         "2010-01-01 16:00:00",
         "66037",
         "29.7",
         "49.0",
         "29.5"
        ],
        [
         "2010-01-01 16:30:00",
         "66037",
         "29.8",
         "47.0",
         "29.5"
        ],
        [
         "2010-01-01 17:00:00",
         "66037",
         "29.2",
         "49.0",
         "33.5"
        ],
        [
         "2010-01-01 17:30:00",
         "66037",
         "28.9",
         "49.0",
         "35.3"
        ],
        [
         "2010-01-01 18:00:00",
         "66037",
         "28.2",
         "51.0",
         "31.3"
        ],
        [
         "2010-01-01 18:30:00",
         "66037",
         "27.9",
         "53.0",
         "31.3"
        ],
        [
         "2010-01-01 19:00:00",
         "66037",
         "27.5",
         "56.0",
         "27.7"
        ],
        [
         "2010-01-01 19:30:00",
         "66037",
         "27.1",
         "57.0",
         "27.7"
        ],
        [
         "2010-01-01 20:00:00",
         "66037",
         "26.8",
         "59.0",
         "25.9"
        ],
        [
         "2010-01-01 20:30:00",
         "66037",
         "26.7",
         "60.0",
         "24.1"
        ],
        [
         "2010-01-01 21:00:00",
         "66037",
         "26.4",
         "61.0",
         "20.5"
        ],
        [
         "2010-01-01 21:30:00",
         "66037",
         "26.1",
         "63.0",
         "20.5"
        ],
        [
         "2010-01-01 22:00:00",
         "66037",
         "25.9",
         "63.0",
         "18.4"
        ],
        [
         "2010-01-01 22:30:00",
         "66037",
         "25.9",
         "64.0",
         "18.4"
        ],
        [
         "2010-01-01 23:00:00",
         "66037",
         "25.6",
         "64.0",
         "18.4"
        ],
        [
         "2010-01-01 23:30:00",
         "66037",
         "25.5",
         "65.0",
         "20.5"
        ],
        [
         "2010-01-02 00:00:00",
         "66037",
         "25.1",
         "68.0",
         "16.6"
        ],
        [
         "2010-01-02 00:30:00",
         "66037",
         "25.0",
         "67.0",
         "16.6"
        ]
       ],
       "shape": {
        "columns": 4,
        "rows": 285347
       }
      },
      "text/html": [
       "<div>\n",
       "<style scoped>\n",
       "    .dataframe tbody tr th:only-of-type {\n",
       "        vertical-align: middle;\n",
       "    }\n",
       "\n",
       "    .dataframe tbody tr th {\n",
       "        vertical-align: top;\n",
       "    }\n",
       "\n",
       "    .dataframe thead th {\n",
       "        text-align: right;\n",
       "    }\n",
       "</style>\n",
       "<table border=\"1\" class=\"dataframe\">\n",
       "  <thead>\n",
       "    <tr style=\"text-align: right;\">\n",
       "      <th></th>\n",
       "      <th>station_number</th>\n",
       "      <th>air_temperature_in_degrees_c</th>\n",
       "      <th>relative_humidity_in_percentage</th>\n",
       "      <th>wind_speed_in_km_h</th>\n",
       "    </tr>\n",
       "    <tr>\n",
       "      <th>datetime</th>\n",
       "      <th></th>\n",
       "      <th></th>\n",
       "      <th></th>\n",
       "      <th></th>\n",
       "    </tr>\n",
       "  </thead>\n",
       "  <tbody>\n",
       "    <tr>\n",
       "      <th>2010-01-01 00:00:00</th>\n",
       "      <td>66037</td>\n",
       "      <td>23.6</td>\n",
       "      <td>84.0</td>\n",
       "      <td>14.8</td>\n",
       "    </tr>\n",
       "    <tr>\n",
       "      <th>2010-01-01 00:30:00</th>\n",
       "      <td>66037</td>\n",
       "      <td>22.9</td>\n",
       "      <td>89.0</td>\n",
       "      <td>14.8</td>\n",
       "    </tr>\n",
       "    <tr>\n",
       "      <th>2010-01-01 01:00:00</th>\n",
       "      <td>66037</td>\n",
       "      <td>23.4</td>\n",
       "      <td>86.0</td>\n",
       "      <td>14.8</td>\n",
       "    </tr>\n",
       "    <tr>\n",
       "      <th>2010-01-01 01:30:00</th>\n",
       "      <td>66037</td>\n",
       "      <td>23.3</td>\n",
       "      <td>87.0</td>\n",
       "      <td>14.8</td>\n",
       "    </tr>\n",
       "    <tr>\n",
       "      <th>2010-01-01 02:00:00</th>\n",
       "      <td>66037</td>\n",
       "      <td>23.6</td>\n",
       "      <td>84.0</td>\n",
       "      <td>9.4</td>\n",
       "    </tr>\n",
       "    <tr>\n",
       "      <th>...</th>\n",
       "      <td>...</td>\n",
       "      <td>...</td>\n",
       "      <td>...</td>\n",
       "      <td>...</td>\n",
       "    </tr>\n",
       "    <tr>\n",
       "      <th>2025-05-31 21:30:00</th>\n",
       "      <td>66037</td>\n",
       "      <td>14.7</td>\n",
       "      <td>86.0</td>\n",
       "      <td>9.4</td>\n",
       "    </tr>\n",
       "    <tr>\n",
       "      <th>2025-05-31 22:00:00</th>\n",
       "      <td>66037</td>\n",
       "      <td>14.7</td>\n",
       "      <td>84.0</td>\n",
       "      <td>7.6</td>\n",
       "    </tr>\n",
       "    <tr>\n",
       "      <th>2025-05-31 22:30:00</th>\n",
       "      <td>66037</td>\n",
       "      <td>14.7</td>\n",
       "      <td>84.0</td>\n",
       "      <td>5.4</td>\n",
       "    </tr>\n",
       "    <tr>\n",
       "      <th>2025-05-31 23:00:00</th>\n",
       "      <td>66037</td>\n",
       "      <td>14.0</td>\n",
       "      <td>86.0</td>\n",
       "      <td>5.4</td>\n",
       "    </tr>\n",
       "    <tr>\n",
       "      <th>2025-05-31 23:30:00</th>\n",
       "      <td>66037</td>\n",
       "      <td>14.0</td>\n",
       "      <td>86.0</td>\n",
       "      <td>9.4</td>\n",
       "    </tr>\n",
       "  </tbody>\n",
       "</table>\n",
       "<p>285347 rows × 4 columns</p>\n",
       "</div>"
      ],
      "text/plain": [
       "                     station_number  air_temperature_in_degrees_c  \\\n",
       "datetime                                                            \n",
       "2010-01-01 00:00:00           66037                          23.6   \n",
       "2010-01-01 00:30:00           66037                          22.9   \n",
       "2010-01-01 01:00:00           66037                          23.4   \n",
       "2010-01-01 01:30:00           66037                          23.3   \n",
       "2010-01-01 02:00:00           66037                          23.6   \n",
       "...                             ...                           ...   \n",
       "2025-05-31 21:30:00           66037                          14.7   \n",
       "2025-05-31 22:00:00           66037                          14.7   \n",
       "2025-05-31 22:30:00           66037                          14.7   \n",
       "2025-05-31 23:00:00           66037                          14.0   \n",
       "2025-05-31 23:30:00           66037                          14.0   \n",
       "\n",
       "                     relative_humidity_in_percentage  wind_speed_in_km_h  \n",
       "datetime                                                                  \n",
       "2010-01-01 00:00:00                             84.0                14.8  \n",
       "2010-01-01 00:30:00                             89.0                14.8  \n",
       "2010-01-01 01:00:00                             86.0                14.8  \n",
       "2010-01-01 01:30:00                             87.0                14.8  \n",
       "2010-01-01 02:00:00                             84.0                 9.4  \n",
       "...                                              ...                 ...  \n",
       "2025-05-31 21:30:00                             86.0                 9.4  \n",
       "2025-05-31 22:00:00                             84.0                 7.6  \n",
       "2025-05-31 22:30:00                             84.0                 5.4  \n",
       "2025-05-31 23:00:00                             86.0                 5.4  \n",
       "2025-05-31 23:30:00                             86.0                 9.4  \n",
       "\n",
       "[285347 rows x 4 columns]"
      ]
     },
     "execution_count": 11,
     "metadata": {},
     "output_type": "execute_result"
    }
   ],
   "source": [
    "filtered_df_2"
   ]
  },
  {
   "cell_type": "code",
   "execution_count": 12,
   "id": "883c9349",
   "metadata": {},
   "outputs": [],
   "source": [
    "#delete station_number column\n",
    "filtered_df_2.drop(columns=['station_number'], inplace=True)"
   ]
  },
  {
   "cell_type": "code",
   "execution_count": 13,
   "id": "91bce724",
   "metadata": {},
   "outputs": [
    {
     "data": {
      "application/vnd.microsoft.datawrangler.viewer.v0+json": {
       "columns": [
        {
         "name": "datetime",
         "rawType": "datetime64[ns]",
         "type": "datetime"
        },
        {
         "name": "air_temperature_in_degrees_c",
         "rawType": "float64",
         "type": "float"
        },
        {
         "name": "relative_humidity_in_percentage",
         "rawType": "float64",
         "type": "float"
        },
        {
         "name": "wind_speed_in_km_h",
         "rawType": "float64",
         "type": "float"
        }
       ],
       "ref": "e4b913d3-0e3d-48b1-b3c3-5ae051ad254b",
       "rows": [
        [
         "2010-01-01 00:00:00",
         "23.6",
         "84.0",
         "14.8"
        ],
        [
         "2010-01-01 00:30:00",
         "22.9",
         "89.0",
         "14.8"
        ],
        [
         "2010-01-01 01:00:00",
         "23.4",
         "86.0",
         "14.8"
        ],
        [
         "2010-01-01 01:30:00",
         "23.3",
         "87.0",
         "14.8"
        ],
        [
         "2010-01-01 02:00:00",
         "23.6",
         "84.0",
         "9.4"
        ],
        [
         "2010-01-01 02:30:00",
         "22.7",
         "90.0",
         "9.4"
        ],
        [
         "2010-01-01 03:00:00",
         "23.4",
         "86.0",
         "9.4"
        ],
        [
         "2010-01-01 03:30:00",
         "23.5",
         "84.0",
         "9.4"
        ],
        [
         "2010-01-01 04:00:00",
         "23.4",
         "84.0",
         "11.2"
        ],
        [
         "2010-01-01 04:30:00",
         "22.8",
         "89.0",
         "7.6"
        ],
        [
         "2010-01-01 05:00:00",
         "22.6",
         "90.0",
         "5.4"
        ],
        [
         "2010-01-01 05:30:00",
         "22.6",
         "91.0",
         "5.4"
        ],
        [
         "2010-01-01 06:00:00",
         "22.7",
         "91.0",
         "1.8"
        ],
        [
         "2010-01-01 06:30:00",
         "23.7",
         "84.0",
         "11.2"
        ],
        [
         "2010-01-01 07:00:00",
         "24.0",
         "83.0",
         "14.8"
        ],
        [
         "2010-01-01 07:30:00",
         "24.6",
         "78.0",
         "14.8"
        ],
        [
         "2010-01-01 08:00:00",
         "25.5",
         "74.0",
         "14.8"
        ],
        [
         "2010-01-01 08:30:00",
         "25.4",
         "72.0",
         "16.6"
        ],
        [
         "2010-01-01 09:00:00",
         "25.5",
         "61.0",
         "27.7"
        ],
        [
         "2010-01-01 09:30:00",
         "25.4",
         "62.0",
         "27.7"
        ],
        [
         "2010-01-01 10:00:00",
         "25.5",
         "63.0",
         "31.3"
        ],
        [
         "2010-01-01 10:30:00",
         "26.0",
         "59.0",
         "31.3"
        ],
        [
         "2010-01-01 11:00:00",
         "26.8",
         "58.0",
         "25.9"
        ],
        [
         "2010-01-01 11:30:00",
         "26.4",
         "61.0",
         "29.5"
        ],
        [
         "2010-01-01 12:00:00",
         "27.5",
         "58.0",
         "24.1"
        ],
        [
         "2010-01-01 12:30:00",
         "28.2",
         "53.0",
         "20.5"
        ],
        [
         "2010-01-01 13:00:00",
         "29.5",
         "48.0",
         "22.3"
        ],
        [
         "2010-01-01 13:30:00",
         "29.4",
         "50.0",
         "25.9"
        ],
        [
         "2010-01-01 14:00:00",
         "29.4",
         "50.0",
         "29.5"
        ],
        [
         "2010-01-01 14:30:00",
         "29.4",
         "49.0",
         "33.5"
        ],
        [
         "2010-01-01 15:00:00",
         "29.2",
         "48.0",
         "35.3"
        ],
        [
         "2010-01-01 15:30:00",
         "29.1",
         "49.0",
         "35.3"
        ],
        [
         "2010-01-01 16:00:00",
         "29.7",
         "49.0",
         "29.5"
        ],
        [
         "2010-01-01 16:30:00",
         "29.8",
         "47.0",
         "29.5"
        ],
        [
         "2010-01-01 17:00:00",
         "29.2",
         "49.0",
         "33.5"
        ],
        [
         "2010-01-01 17:30:00",
         "28.9",
         "49.0",
         "35.3"
        ],
        [
         "2010-01-01 18:00:00",
         "28.2",
         "51.0",
         "31.3"
        ],
        [
         "2010-01-01 18:30:00",
         "27.9",
         "53.0",
         "31.3"
        ],
        [
         "2010-01-01 19:00:00",
         "27.5",
         "56.0",
         "27.7"
        ],
        [
         "2010-01-01 19:30:00",
         "27.1",
         "57.0",
         "27.7"
        ],
        [
         "2010-01-01 20:00:00",
         "26.8",
         "59.0",
         "25.9"
        ],
        [
         "2010-01-01 20:30:00",
         "26.7",
         "60.0",
         "24.1"
        ],
        [
         "2010-01-01 21:00:00",
         "26.4",
         "61.0",
         "20.5"
        ],
        [
         "2010-01-01 21:30:00",
         "26.1",
         "63.0",
         "20.5"
        ],
        [
         "2010-01-01 22:00:00",
         "25.9",
         "63.0",
         "18.4"
        ],
        [
         "2010-01-01 22:30:00",
         "25.9",
         "64.0",
         "18.4"
        ],
        [
         "2010-01-01 23:00:00",
         "25.6",
         "64.0",
         "18.4"
        ],
        [
         "2010-01-01 23:30:00",
         "25.5",
         "65.0",
         "20.5"
        ],
        [
         "2010-01-02 00:00:00",
         "25.1",
         "68.0",
         "16.6"
        ],
        [
         "2010-01-02 00:30:00",
         "25.0",
         "67.0",
         "16.6"
        ]
       ],
       "shape": {
        "columns": 3,
        "rows": 285347
       }
      },
      "text/html": [
       "<div>\n",
       "<style scoped>\n",
       "    .dataframe tbody tr th:only-of-type {\n",
       "        vertical-align: middle;\n",
       "    }\n",
       "\n",
       "    .dataframe tbody tr th {\n",
       "        vertical-align: top;\n",
       "    }\n",
       "\n",
       "    .dataframe thead th {\n",
       "        text-align: right;\n",
       "    }\n",
       "</style>\n",
       "<table border=\"1\" class=\"dataframe\">\n",
       "  <thead>\n",
       "    <tr style=\"text-align: right;\">\n",
       "      <th></th>\n",
       "      <th>air_temperature_in_degrees_c</th>\n",
       "      <th>relative_humidity_in_percentage</th>\n",
       "      <th>wind_speed_in_km_h</th>\n",
       "    </tr>\n",
       "    <tr>\n",
       "      <th>datetime</th>\n",
       "      <th></th>\n",
       "      <th></th>\n",
       "      <th></th>\n",
       "    </tr>\n",
       "  </thead>\n",
       "  <tbody>\n",
       "    <tr>\n",
       "      <th>2010-01-01 00:00:00</th>\n",
       "      <td>23.6</td>\n",
       "      <td>84.0</td>\n",
       "      <td>14.8</td>\n",
       "    </tr>\n",
       "    <tr>\n",
       "      <th>2010-01-01 00:30:00</th>\n",
       "      <td>22.9</td>\n",
       "      <td>89.0</td>\n",
       "      <td>14.8</td>\n",
       "    </tr>\n",
       "    <tr>\n",
       "      <th>2010-01-01 01:00:00</th>\n",
       "      <td>23.4</td>\n",
       "      <td>86.0</td>\n",
       "      <td>14.8</td>\n",
       "    </tr>\n",
       "    <tr>\n",
       "      <th>2010-01-01 01:30:00</th>\n",
       "      <td>23.3</td>\n",
       "      <td>87.0</td>\n",
       "      <td>14.8</td>\n",
       "    </tr>\n",
       "    <tr>\n",
       "      <th>2010-01-01 02:00:00</th>\n",
       "      <td>23.6</td>\n",
       "      <td>84.0</td>\n",
       "      <td>9.4</td>\n",
       "    </tr>\n",
       "    <tr>\n",
       "      <th>...</th>\n",
       "      <td>...</td>\n",
       "      <td>...</td>\n",
       "      <td>...</td>\n",
       "    </tr>\n",
       "    <tr>\n",
       "      <th>2025-05-31 21:30:00</th>\n",
       "      <td>14.7</td>\n",
       "      <td>86.0</td>\n",
       "      <td>9.4</td>\n",
       "    </tr>\n",
       "    <tr>\n",
       "      <th>2025-05-31 22:00:00</th>\n",
       "      <td>14.7</td>\n",
       "      <td>84.0</td>\n",
       "      <td>7.6</td>\n",
       "    </tr>\n",
       "    <tr>\n",
       "      <th>2025-05-31 22:30:00</th>\n",
       "      <td>14.7</td>\n",
       "      <td>84.0</td>\n",
       "      <td>5.4</td>\n",
       "    </tr>\n",
       "    <tr>\n",
       "      <th>2025-05-31 23:00:00</th>\n",
       "      <td>14.0</td>\n",
       "      <td>86.0</td>\n",
       "      <td>5.4</td>\n",
       "    </tr>\n",
       "    <tr>\n",
       "      <th>2025-05-31 23:30:00</th>\n",
       "      <td>14.0</td>\n",
       "      <td>86.0</td>\n",
       "      <td>9.4</td>\n",
       "    </tr>\n",
       "  </tbody>\n",
       "</table>\n",
       "<p>285347 rows × 3 columns</p>\n",
       "</div>"
      ],
      "text/plain": [
       "                     air_temperature_in_degrees_c  \\\n",
       "datetime                                            \n",
       "2010-01-01 00:00:00                          23.6   \n",
       "2010-01-01 00:30:00                          22.9   \n",
       "2010-01-01 01:00:00                          23.4   \n",
       "2010-01-01 01:30:00                          23.3   \n",
       "2010-01-01 02:00:00                          23.6   \n",
       "...                                           ...   \n",
       "2025-05-31 21:30:00                          14.7   \n",
       "2025-05-31 22:00:00                          14.7   \n",
       "2025-05-31 22:30:00                          14.7   \n",
       "2025-05-31 23:00:00                          14.0   \n",
       "2025-05-31 23:30:00                          14.0   \n",
       "\n",
       "                     relative_humidity_in_percentage  wind_speed_in_km_h  \n",
       "datetime                                                                  \n",
       "2010-01-01 00:00:00                             84.0                14.8  \n",
       "2010-01-01 00:30:00                             89.0                14.8  \n",
       "2010-01-01 01:00:00                             86.0                14.8  \n",
       "2010-01-01 01:30:00                             87.0                14.8  \n",
       "2010-01-01 02:00:00                             84.0                 9.4  \n",
       "...                                              ...                 ...  \n",
       "2025-05-31 21:30:00                             86.0                 9.4  \n",
       "2025-05-31 22:00:00                             84.0                 7.6  \n",
       "2025-05-31 22:30:00                             84.0                 5.4  \n",
       "2025-05-31 23:00:00                             86.0                 5.4  \n",
       "2025-05-31 23:30:00                             86.0                 9.4  \n",
       "\n",
       "[285347 rows x 3 columns]"
      ]
     },
     "execution_count": 13,
     "metadata": {},
     "output_type": "execute_result"
    }
   ],
   "source": [
    "filtered_df_2"
   ]
  },
  {
   "cell_type": "code",
   "execution_count": 14,
   "id": "a1d3de76",
   "metadata": {},
   "outputs": [
    {
     "name": "stderr",
     "output_type": "stream",
     "text": [
      "C:\\Users\\z5404477\\AppData\\Local\\Temp\\ipykernel_32276\\3005662459.py:19: FutureWarning: DataFrame.fillna with 'method' is deprecated and will raise in a future version. Use obj.ffill() or obj.bfill() instead.\n",
      "  weather_data_df.fillna(method='ffill', inplace=True)\n"
     ]
    }
   ],
   "source": [
    "#filter the datetime to include only from 1 July 2020 00:00:00 am to 30 June 2023 23:30:00, which is ASHD data\n",
    "start_date = '2020-07-01 00:00:00'\n",
    "end_date = '2023-06-30 23:30:00'\n",
    "filtered_df = filtered_df[(filtered_df['datetime'] >= start_date) & (filtered_df['datetime'] <= end_date)]\n",
    "\n",
    "# create a column of datetime from 1 July 2020 to 30 June 2023 with 30 minute intervals\n",
    "expected_date_range = pd.date_range(start=start_date, end=end_date, freq='30min')\n",
    "\n",
    "# make weather data df with the expected date range\n",
    "weather_data_df = pd.DataFrame(index=expected_date_range)\n",
    "\n",
    "# set  index name to 'datetime'\n",
    "weather_data_df.index.name = 'datetime'\n",
    "\n",
    "# merge the weather data with the filtered data, keeping both datetime from the weather data and the filtered data\n",
    "weather_data_df = weather_data_df.merge(filtered_df_2, left_index=True, right_index=True, how='outer')\n",
    "\n",
    "# fill NaN values the nearest previous value\n",
    "weather_data_df.fillna(method='ffill', inplace=True)\n",
    "\n",
    "# include only the row with expected date range\n",
    "weather_data_df = weather_data_df.loc[expected_date_range]\n",
    "\n",
    "\n",
    "\n",
    "#delete rows with duplicate datetime index\n",
    "weather_data_df = weather_data_df[~weather_data_df.index.duplicated(keep='first')]\n",
    "\n",
    "weather_data_df.to_csv(r'c:\\Users\\z5404477\\OneDrive - UNSW\\04_Workspace\\2. WIP\\data\\2. processed\\mascot_zs_weather_data.csv')"
   ]
  },
  {
   "cell_type": "code",
   "execution_count": 31,
   "id": "816f80a5",
   "metadata": {},
   "outputs": [],
   "source": [
    "ds14 = pd.read_csv('../../../data/ds14_ausgrid_zs_mascot.csv', index_col=0, parse_dates=True)"
   ]
  },
  {
   "cell_type": "code",
   "execution_count": 32,
   "id": "07f3a747",
   "metadata": {},
   "outputs": [],
   "source": [
    "ds15 = ds14[(ds14.index >= start_date) & (ds14.index <= end_date)]"
   ]
  },
  {
   "cell_type": "code",
   "execution_count": 33,
   "id": "82b003fa",
   "metadata": {},
   "outputs": [],
   "source": [
    "ds15 = ds15.resample('30min').mean()"
   ]
  },
  {
   "cell_type": "code",
   "execution_count": 34,
   "id": "987b8748",
   "metadata": {},
   "outputs": [],
   "source": [
    "#merge the ds1 dataframe with the weather_data_df dataframe\n",
    "ds15 = ds15.merge(weather_data_df, left_index=True, right_index=True, how='outer')"
   ]
  },
  {
   "cell_type": "code",
   "execution_count": 36,
   "id": "d0024698",
   "metadata": {},
   "outputs": [
    {
     "name": "stdout",
     "output_type": "stream",
     "text": [
      "Series([], dtype: int64)\n"
     ]
    }
   ],
   "source": [
    "#check missing data in ds15\n",
    "missing_data = ds15.isnull().sum()\n",
    "print(missing_data[missing_data > 0])"
   ]
  },
  {
   "cell_type": "code",
   "execution_count": 37,
   "id": "5b5cb1e1",
   "metadata": {},
   "outputs": [],
   "source": [
    "ds15.to_csv('../../../data/ds15_ausgrid_zs_mascot_30min_with_weather.csv')"
   ]
  },
  {
   "cell_type": "code",
   "execution_count": null,
   "id": "dc5db986",
   "metadata": {},
   "outputs": [],
   "source": []
  }
 ],
 "metadata": {
  "kernelspec": {
   "display_name": ".venv",
   "language": "python",
   "name": "python3"
  },
  "language_info": {
   "codemirror_mode": {
    "name": "ipython",
    "version": 3
   },
   "file_extension": ".py",
   "mimetype": "text/x-python",
   "name": "python",
   "nbconvert_exporter": "python",
   "pygments_lexer": "ipython3",
   "version": "3.12.3"
  }
 },
 "nbformat": 4,
 "nbformat_minor": 5
}
