{
 "cells": [
  {
   "cell_type": "code",
   "execution_count": 2,
   "id": "b3352d28",
   "metadata": {},
   "outputs": [
    {
     "name": "stdout",
     "output_type": "stream",
     "text": [
      "         station_number             datetime  air_temperature_in_degrees_c  \\\n",
      "1747282           66037  2022-12-01 00:00:00                          18.4   \n",
      "1747283           66037  2022-12-01 00:30:00                          18.2   \n",
      "1747284           66037  2022-12-01 01:00:00                          18.3   \n",
      "1747285           66037  2022-12-01 01:30:00                          18.2   \n",
      "1747286           66037  2022-12-01 02:00:00                          18.1   \n",
      "\n",
      "         relative_humidity_in_percentage  wind_speed_in_km_h  \n",
      "1747282                             63.0                13.0  \n",
      "1747283                             65.0                13.0  \n",
      "1747284                             66.0                13.0  \n",
      "1747285                             68.0                13.0  \n",
      "1747286                             69.0                13.0  \n"
     ]
    }
   ],
   "source": [
    "import pandas as pd\n",
    "\n",
    "# Define the condition for filtering (stations you're interested in)\n",
    "column_name = 'station_number'  # Replace with your column name\n",
    "# value_conditions = [66062, 66037, 67105]  # List of station numbers to include (Observatory Hill, Sydney Airport, and Richmond)\n",
    "value_conditions = [66037]  # List of station numbers to include (Sydney Airport)\n",
    "\n",
    "# Define the columns to read (make sure to include 'station_number' in col_to_include)\n",
    "col_to_include = ['station_number', 'datetime', 'air_temperature_in_degrees_c', 'wind_speed_in_km_h', 'relative_humidity_in_percentage']\n",
    "\n",
    "# Specify the chunk size (e.g., 10000 rows per chunk)\n",
    "chunk_size = 10000\n",
    "\n",
    "# Initialize an empty list to store filtered chunks\n",
    "filtered_chunks = []\n",
    "\n",
    "# Iterate over the file in chunks\n",
    "for chunk in pd.read_csv(r'c:\\Users\\z5404477\\OneDrive - UNSW\\04_Workspace\\2. WIP\\data\\1. raw\\BOM Weather Data\\bom_data_nsw55167608.csv', \n",
    "                         usecols=col_to_include, chunksize=chunk_size):\n",
    "    # Filter rows where 'station_number' is in the list of value_conditions\n",
    "    filtered_chunk = chunk[chunk[column_name].isin(value_conditions)]\n",
    "    filtered_chunks.append(filtered_chunk)\n",
    "\n",
    "# Concatenate the filtered chunks into a single DataFrame\n",
    "filtered_df = pd.concat(filtered_chunks)\n",
    "\n",
    "# Display the first 5 filtered rows\n",
    "print(filtered_df.head(5))\n"
   ]
  },
  {
   "cell_type": "code",
   "execution_count": 3,
   "id": "987b8748",
   "metadata": {},
   "outputs": [],
   "source": [
    "filtered_df['datetime'] = pd.to_datetime(filtered_df['datetime'], format='%Y-%m-%d %H:%M:%S')\n",
    "#filter the datetime to include only from 1 July 2021 00:00:00 am to 30 June 2024 23:30:00, which is AEDP data\n",
    "start_date = '2021-07-01 00:00:00'\n",
    "end_date = '2024-06-30 23:30:00'\n",
    "filtered_df = filtered_df[(filtered_df['datetime'] >= start_date) & (filtered_df['datetime'] <= end_date)]\n",
    "\n",
    "filtered_df_2 = filtered_df[filtered_df['station_number'] == 66037] #use Sydney Airport station only\n",
    "\n",
    "# make datetime the index\n",
    "filtered_df_2.set_index('datetime', inplace=True)\n",
    "#sort the index\n",
    "filtered_df_2.sort_index(inplace=True)\n",
    "\n",
    "\n",
    "\n"
   ]
  },
  {
   "cell_type": "code",
   "execution_count": 4,
   "id": "6b54909c",
   "metadata": {},
   "outputs": [],
   "source": [
    "expected_date_range = pd.date_range(start=start_date, end=end_date, freq='30min')\n",
    "\n",
    "# make weather data df with the expected date range\n",
    "weather_data_df = pd.DataFrame(index=expected_date_range)\n",
    "\n",
    "# set  index name to 'datetime'\n",
    "weather_data_df.index.name = 'datetime'\n",
    "\n",
    "# merge the weather data with the filtered data, keeping both datetime from the weather data and the filtered data\n",
    "weather_data_df = weather_data_df.merge(filtered_df_2, left_index=True, right_index=True, how='outer')"
   ]
  },
  {
   "cell_type": "code",
   "execution_count": 5,
   "id": "828ca90e",
   "metadata": {},
   "outputs": [
    {
     "data": {
      "application/vnd.microsoft.datawrangler.viewer.v0+json": {
       "columns": [
        {
         "name": "datetime",
         "rawType": "datetime64[ns]",
         "type": "datetime"
        },
        {
         "name": "station_number",
         "rawType": "float64",
         "type": "float"
        },
        {
         "name": "air_temperature_in_degrees_c",
         "rawType": "float64",
         "type": "float"
        },
        {
         "name": "relative_humidity_in_percentage",
         "rawType": "float64",
         "type": "float"
        },
        {
         "name": "wind_speed_in_km_h",
         "rawType": "float64",
         "type": "float"
        }
       ],
       "ref": "ee3a3123-9fb0-43fd-8d7d-c8927140cccf",
       "rows": [
        [
         "2021-07-01 00:00:00",
         "66037.0",
         "13.7",
         "96.0",
         "13.0"
        ],
        [
         "2021-07-01 00:30:00",
         "66037.0",
         "13.2",
         "96.0",
         "9.4"
        ],
        [
         "2021-07-01 00:53:00",
         "66037.0",
         "12.8",
         "96.0",
         "13.0"
        ],
        [
         "2021-07-01 01:00:00",
         "66037.0",
         "13.3",
         "97.0",
         "11.2"
        ],
        [
         "2021-07-01 01:05:00",
         "66037.0",
         "13.3",
         "97.0",
         "11.2"
        ],
        [
         "2021-07-01 01:09:00",
         "66037.0",
         "13.4",
         "97.0",
         "9.4"
        ],
        [
         "2021-07-01 01:12:00",
         "66037.0",
         "13.4",
         "97.0",
         "9.4"
        ],
        [
         "2021-07-01 01:30:00",
         "66037.0",
         "13.2",
         "97.0",
         "7.6"
        ],
        [
         "2021-07-01 02:00:00",
         "66037.0",
         "12.9",
         "98.0",
         "7.6"
        ],
        [
         "2021-07-01 02:30:00",
         "66037.0",
         "12.6",
         "98.0",
         "0.0"
        ],
        [
         "2021-07-01 03:00:00",
         "66037.0",
         "12.3",
         "98.0",
         "7.6"
        ],
        [
         "2021-07-01 03:30:00",
         "66037.0",
         "12.1",
         "98.0",
         "7.6"
        ],
        [
         "2021-07-01 04:00:00",
         "66037.0",
         "11.7",
         "98.0",
         "11.2"
        ],
        [
         "2021-07-01 04:30:00",
         "66037.0",
         "11.7",
         "99.0",
         "9.4"
        ],
        [
         "2021-07-01 05:00:00",
         "66037.0",
         "11.3",
         "99.0",
         "11.2"
        ],
        [
         "2021-07-01 05:30:00",
         "66037.0",
         "11.1",
         "99.0",
         "9.4"
        ],
        [
         "2021-07-01 06:00:00",
         "66037.0",
         "11.1",
         "99.0",
         "11.2"
        ],
        [
         "2021-07-01 06:03:00",
         "66037.0",
         "11.1",
         "99.0",
         "9.4"
        ],
        [
         "2021-07-01 06:20:00",
         "66037.0",
         "10.7",
         "99.0",
         "9.4"
        ],
        [
         "2021-07-01 06:30:00",
         "66037.0",
         "10.6",
         "99.0",
         "7.6"
        ],
        [
         "2021-07-01 06:45:00",
         "66037.0",
         "10.7",
         "99.0",
         "9.4"
        ],
        [
         "2021-07-01 07:00:00",
         "66037.0",
         "10.9",
         "99.0",
         "7.6"
        ],
        [
         "2021-07-01 07:30:00",
         "66037.0",
         "11.3",
         "99.0",
         "0.0"
        ],
        [
         "2021-07-01 08:00:00",
         "66037.0",
         "11.7",
         "99.0",
         "7.6"
        ],
        [
         "2021-07-01 08:30:00",
         "66037.0",
         "11.9",
         "97.0",
         "11.2"
        ],
        [
         "2021-07-01 08:42:00",
         "66037.0",
         "12.4",
         "97.0",
         "9.4"
        ],
        [
         "2021-07-01 08:51:00",
         "66037.0",
         "11.9",
         "96.0",
         "11.2"
        ],
        [
         "2021-07-01 09:00:00",
         "66037.0",
         "12.3",
         "96.0",
         "13.0"
        ],
        [
         "2021-07-01 09:30:00",
         "66037.0",
         "12.9",
         "96.0",
         "13.0"
        ],
        [
         "2021-07-01 10:00:00",
         "66037.0",
         "13.3",
         "95.0",
         "9.4"
        ],
        [
         "2021-07-01 10:30:00",
         "66037.0",
         "13.4",
         "94.0",
         "9.4"
        ],
        [
         "2021-07-01 11:00:00",
         "66037.0",
         "14.1",
         "93.0",
         "9.4"
        ],
        [
         "2021-07-01 11:20:00",
         "66037.0",
         "14.4",
         "91.0",
         "9.4"
        ],
        [
         "2021-07-01 11:30:00",
         "66037.0",
         "14.4",
         "90.0",
         "9.4"
        ],
        [
         "2021-07-01 11:52:00",
         "66037.0",
         "14.7",
         "89.0",
         "9.4"
        ],
        [
         "2021-07-01 12:00:00",
         "66037.0",
         "15.1",
         "88.0",
         "9.4"
        ],
        [
         "2021-07-01 12:30:00",
         "66037.0",
         "15.9",
         "83.0",
         "9.4"
        ],
        [
         "2021-07-01 13:00:00",
         "66037.0",
         "15.1",
         "82.0",
         "5.4"
        ],
        [
         "2021-07-01 13:30:00",
         "66037.0",
         "15.3",
         "84.0",
         "7.6"
        ],
        [
         "2021-07-01 14:00:00",
         "66037.0",
         "15.4",
         "85.0",
         "7.6"
        ],
        [
         "2021-07-01 14:30:00",
         "66037.0",
         "16.2",
         "79.0",
         "9.4"
        ],
        [
         "2021-07-01 15:00:00",
         "66037.0",
         "16.0",
         "81.0",
         "7.6"
        ],
        [
         "2021-07-01 15:30:00",
         "66037.0",
         "16.6",
         "74.0",
         "13.0"
        ],
        [
         "2021-07-01 16:00:00",
         "66037.0",
         "16.7",
         "75.0",
         "13.0"
        ],
        [
         "2021-07-01 16:30:00",
         "66037.0",
         "16.5",
         "77.0",
         "13.0"
        ],
        [
         "2021-07-01 17:00:00",
         "66037.0",
         "16.1",
         "80.0",
         "9.4"
        ],
        [
         "2021-07-01 17:30:00",
         "66037.0",
         "16.1",
         "80.0",
         "9.4"
        ],
        [
         "2021-07-01 18:00:00",
         "66037.0",
         "16.2",
         "80.0",
         "9.4"
        ],
        [
         "2021-07-01 18:30:00",
         "66037.0",
         "16.1",
         "81.0",
         "9.4"
        ],
        [
         "2021-07-01 19:00:00",
         "66037.0",
         "15.8",
         "83.0",
         "11.2"
        ]
       ],
       "shape": {
        "columns": 4,
        "rows": 56894
       }
      },
      "text/html": [
       "<div>\n",
       "<style scoped>\n",
       "    .dataframe tbody tr th:only-of-type {\n",
       "        vertical-align: middle;\n",
       "    }\n",
       "\n",
       "    .dataframe tbody tr th {\n",
       "        vertical-align: top;\n",
       "    }\n",
       "\n",
       "    .dataframe thead th {\n",
       "        text-align: right;\n",
       "    }\n",
       "</style>\n",
       "<table border=\"1\" class=\"dataframe\">\n",
       "  <thead>\n",
       "    <tr style=\"text-align: right;\">\n",
       "      <th></th>\n",
       "      <th>station_number</th>\n",
       "      <th>air_temperature_in_degrees_c</th>\n",
       "      <th>relative_humidity_in_percentage</th>\n",
       "      <th>wind_speed_in_km_h</th>\n",
       "    </tr>\n",
       "    <tr>\n",
       "      <th>datetime</th>\n",
       "      <th></th>\n",
       "      <th></th>\n",
       "      <th></th>\n",
       "      <th></th>\n",
       "    </tr>\n",
       "  </thead>\n",
       "  <tbody>\n",
       "    <tr>\n",
       "      <th>2021-07-01 00:00:00</th>\n",
       "      <td>66037.0</td>\n",
       "      <td>13.7</td>\n",
       "      <td>96.0</td>\n",
       "      <td>13.0</td>\n",
       "    </tr>\n",
       "    <tr>\n",
       "      <th>2021-07-01 00:30:00</th>\n",
       "      <td>66037.0</td>\n",
       "      <td>13.2</td>\n",
       "      <td>96.0</td>\n",
       "      <td>9.4</td>\n",
       "    </tr>\n",
       "    <tr>\n",
       "      <th>2021-07-01 00:53:00</th>\n",
       "      <td>66037.0</td>\n",
       "      <td>12.8</td>\n",
       "      <td>96.0</td>\n",
       "      <td>13.0</td>\n",
       "    </tr>\n",
       "    <tr>\n",
       "      <th>2021-07-01 01:00:00</th>\n",
       "      <td>66037.0</td>\n",
       "      <td>13.3</td>\n",
       "      <td>97.0</td>\n",
       "      <td>11.2</td>\n",
       "    </tr>\n",
       "    <tr>\n",
       "      <th>2021-07-01 01:05:00</th>\n",
       "      <td>66037.0</td>\n",
       "      <td>13.3</td>\n",
       "      <td>97.0</td>\n",
       "      <td>11.2</td>\n",
       "    </tr>\n",
       "    <tr>\n",
       "      <th>...</th>\n",
       "      <td>...</td>\n",
       "      <td>...</td>\n",
       "      <td>...</td>\n",
       "      <td>...</td>\n",
       "    </tr>\n",
       "    <tr>\n",
       "      <th>2024-06-30 21:30:00</th>\n",
       "      <td>66037.0</td>\n",
       "      <td>9.7</td>\n",
       "      <td>85.0</td>\n",
       "      <td>22.3</td>\n",
       "    </tr>\n",
       "    <tr>\n",
       "      <th>2024-06-30 22:00:00</th>\n",
       "      <td>66037.0</td>\n",
       "      <td>9.7</td>\n",
       "      <td>82.0</td>\n",
       "      <td>20.5</td>\n",
       "    </tr>\n",
       "    <tr>\n",
       "      <th>2024-06-30 22:30:00</th>\n",
       "      <td>66037.0</td>\n",
       "      <td>9.5</td>\n",
       "      <td>82.0</td>\n",
       "      <td>16.6</td>\n",
       "    </tr>\n",
       "    <tr>\n",
       "      <th>2024-06-30 23:00:00</th>\n",
       "      <td>66037.0</td>\n",
       "      <td>9.0</td>\n",
       "      <td>82.0</td>\n",
       "      <td>16.6</td>\n",
       "    </tr>\n",
       "    <tr>\n",
       "      <th>2024-06-30 23:30:00</th>\n",
       "      <td>66037.0</td>\n",
       "      <td>8.8</td>\n",
       "      <td>84.0</td>\n",
       "      <td>18.4</td>\n",
       "    </tr>\n",
       "  </tbody>\n",
       "</table>\n",
       "<p>56894 rows × 4 columns</p>\n",
       "</div>"
      ],
      "text/plain": [
       "                     station_number  air_temperature_in_degrees_c  \\\n",
       "datetime                                                            \n",
       "2021-07-01 00:00:00         66037.0                          13.7   \n",
       "2021-07-01 00:30:00         66037.0                          13.2   \n",
       "2021-07-01 00:53:00         66037.0                          12.8   \n",
       "2021-07-01 01:00:00         66037.0                          13.3   \n",
       "2021-07-01 01:05:00         66037.0                          13.3   \n",
       "...                             ...                           ...   \n",
       "2024-06-30 21:30:00         66037.0                           9.7   \n",
       "2024-06-30 22:00:00         66037.0                           9.7   \n",
       "2024-06-30 22:30:00         66037.0                           9.5   \n",
       "2024-06-30 23:00:00         66037.0                           9.0   \n",
       "2024-06-30 23:30:00         66037.0                           8.8   \n",
       "\n",
       "                     relative_humidity_in_percentage  wind_speed_in_km_h  \n",
       "datetime                                                                  \n",
       "2021-07-01 00:00:00                             96.0                13.0  \n",
       "2021-07-01 00:30:00                             96.0                 9.4  \n",
       "2021-07-01 00:53:00                             96.0                13.0  \n",
       "2021-07-01 01:00:00                             97.0                11.2  \n",
       "2021-07-01 01:05:00                             97.0                11.2  \n",
       "...                                              ...                 ...  \n",
       "2024-06-30 21:30:00                             85.0                22.3  \n",
       "2024-06-30 22:00:00                             82.0                20.5  \n",
       "2024-06-30 22:30:00                             82.0                16.6  \n",
       "2024-06-30 23:00:00                             82.0                16.6  \n",
       "2024-06-30 23:30:00                             84.0                18.4  \n",
       "\n",
       "[56894 rows x 4 columns]"
      ]
     },
     "execution_count": 5,
     "metadata": {},
     "output_type": "execute_result"
    }
   ],
   "source": [
    "weather_data_df"
   ]
  },
  {
   "cell_type": "code",
   "execution_count": 6,
   "id": "9d7030de",
   "metadata": {},
   "outputs": [
    {
     "name": "stderr",
     "output_type": "stream",
     "text": [
      "C:\\Users\\z5404477\\AppData\\Local\\Temp\\ipykernel_45764\\2207699421.py:2: FutureWarning: DataFrame.fillna with 'method' is deprecated and will raise in a future version. Use obj.ffill() or obj.bfill() instead.\n",
      "  weather_data_df.fillna(method='ffill', inplace=True)\n"
     ]
    }
   ],
   "source": [
    "# fill NaN values the nearest previous value\n",
    "weather_data_df.fillna(method='ffill', inplace=True)\n",
    "\n",
    "# include only the row with expected date range\n",
    "weather_data_df = weather_data_df.loc[expected_date_range]\n",
    "\n",
    "#delete station_number column\n",
    "weather_data_df.drop(columns=['station_number'], inplace=True)"
   ]
  },
  {
   "cell_type": "code",
   "execution_count": 11,
   "id": "d58fc978",
   "metadata": {},
   "outputs": [],
   "source": [
    "#delete rows with duplicate datetime index\n",
    "weather_data_df = weather_data_df[~weather_data_df.index.duplicated(keep='first')]"
   ]
  },
  {
   "cell_type": "code",
   "execution_count": 12,
   "id": "311edbf1",
   "metadata": {},
   "outputs": [
    {
     "data": {
      "application/vnd.microsoft.datawrangler.viewer.v0+json": {
       "columns": [
        {
         "name": "datetime",
         "rawType": "datetime64[ns]",
         "type": "datetime"
        },
        {
         "name": "air_temperature_in_degrees_c",
         "rawType": "float64",
         "type": "float"
        },
        {
         "name": "relative_humidity_in_percentage",
         "rawType": "float64",
         "type": "float"
        },
        {
         "name": "wind_speed_in_km_h",
         "rawType": "float64",
         "type": "float"
        }
       ],
       "ref": "e6d71a5e-c874-48a1-af3a-d70503b34a3a",
       "rows": [
        [
         "2021-07-01 00:00:00",
         "13.7",
         "96.0",
         "13.0"
        ],
        [
         "2021-07-01 00:30:00",
         "13.2",
         "96.0",
         "9.4"
        ],
        [
         "2021-07-01 01:00:00",
         "13.3",
         "97.0",
         "11.2"
        ],
        [
         "2021-07-01 01:30:00",
         "13.2",
         "97.0",
         "7.6"
        ],
        [
         "2021-07-01 02:00:00",
         "12.9",
         "98.0",
         "7.6"
        ],
        [
         "2021-07-01 02:30:00",
         "12.6",
         "98.0",
         "0.0"
        ],
        [
         "2021-07-01 03:00:00",
         "12.3",
         "98.0",
         "7.6"
        ],
        [
         "2021-07-01 03:30:00",
         "12.1",
         "98.0",
         "7.6"
        ],
        [
         "2021-07-01 04:00:00",
         "11.7",
         "98.0",
         "11.2"
        ],
        [
         "2021-07-01 04:30:00",
         "11.7",
         "99.0",
         "9.4"
        ],
        [
         "2021-07-01 05:00:00",
         "11.3",
         "99.0",
         "11.2"
        ],
        [
         "2021-07-01 05:30:00",
         "11.1",
         "99.0",
         "9.4"
        ],
        [
         "2021-07-01 06:00:00",
         "11.1",
         "99.0",
         "11.2"
        ],
        [
         "2021-07-01 06:30:00",
         "10.6",
         "99.0",
         "7.6"
        ],
        [
         "2021-07-01 07:00:00",
         "10.9",
         "99.0",
         "7.6"
        ],
        [
         "2021-07-01 07:30:00",
         "11.3",
         "99.0",
         "0.0"
        ],
        [
         "2021-07-01 08:00:00",
         "11.7",
         "99.0",
         "7.6"
        ],
        [
         "2021-07-01 08:30:00",
         "11.9",
         "97.0",
         "11.2"
        ],
        [
         "2021-07-01 09:00:00",
         "12.3",
         "96.0",
         "13.0"
        ],
        [
         "2021-07-01 09:30:00",
         "12.9",
         "96.0",
         "13.0"
        ],
        [
         "2021-07-01 10:00:00",
         "13.3",
         "95.0",
         "9.4"
        ],
        [
         "2021-07-01 10:30:00",
         "13.4",
         "94.0",
         "9.4"
        ],
        [
         "2021-07-01 11:00:00",
         "14.1",
         "93.0",
         "9.4"
        ],
        [
         "2021-07-01 11:30:00",
         "14.4",
         "90.0",
         "9.4"
        ],
        [
         "2021-07-01 12:00:00",
         "15.1",
         "88.0",
         "9.4"
        ],
        [
         "2021-07-01 12:30:00",
         "15.9",
         "83.0",
         "9.4"
        ],
        [
         "2021-07-01 13:00:00",
         "15.1",
         "82.0",
         "5.4"
        ],
        [
         "2021-07-01 13:30:00",
         "15.3",
         "84.0",
         "7.6"
        ],
        [
         "2021-07-01 14:00:00",
         "15.4",
         "85.0",
         "7.6"
        ],
        [
         "2021-07-01 14:30:00",
         "16.2",
         "79.0",
         "9.4"
        ],
        [
         "2021-07-01 15:00:00",
         "16.0",
         "81.0",
         "7.6"
        ],
        [
         "2021-07-01 15:30:00",
         "16.6",
         "74.0",
         "13.0"
        ],
        [
         "2021-07-01 16:00:00",
         "16.7",
         "75.0",
         "13.0"
        ],
        [
         "2021-07-01 16:30:00",
         "16.5",
         "77.0",
         "13.0"
        ],
        [
         "2021-07-01 17:00:00",
         "16.1",
         "80.0",
         "9.4"
        ],
        [
         "2021-07-01 17:30:00",
         "16.1",
         "80.0",
         "9.4"
        ],
        [
         "2021-07-01 18:00:00",
         "16.2",
         "80.0",
         "9.4"
        ],
        [
         "2021-07-01 18:30:00",
         "16.1",
         "81.0",
         "9.4"
        ],
        [
         "2021-07-01 19:00:00",
         "15.8",
         "83.0",
         "11.2"
        ],
        [
         "2021-07-01 19:30:00",
         "15.7",
         "85.0",
         "13.0"
        ],
        [
         "2021-07-01 20:00:00",
         "14.7",
         "90.0",
         "13.0"
        ],
        [
         "2021-07-01 20:30:00",
         "14.7",
         "91.0",
         "5.4"
        ],
        [
         "2021-07-01 21:00:00",
         "14.2",
         "93.0",
         "13.0"
        ],
        [
         "2021-07-01 21:30:00",
         "14.3",
         "95.0",
         "7.6"
        ],
        [
         "2021-07-01 22:00:00",
         "14.3",
         "95.0",
         "11.2"
        ],
        [
         "2021-07-01 22:30:00",
         "14.1",
         "95.0",
         "13.0"
        ],
        [
         "2021-07-01 23:00:00",
         "13.7",
         "96.0",
         "13.0"
        ],
        [
         "2021-07-01 23:30:00",
         "13.5",
         "96.0",
         "11.2"
        ],
        [
         "2021-07-02 00:00:00",
         "13.4",
         "96.0",
         "9.4"
        ],
        [
         "2021-07-02 00:30:00",
         "13.4",
         "96.0",
         "9.4"
        ]
       ],
       "shape": {
        "columns": 3,
        "rows": 52608
       }
      },
      "text/html": [
       "<div>\n",
       "<style scoped>\n",
       "    .dataframe tbody tr th:only-of-type {\n",
       "        vertical-align: middle;\n",
       "    }\n",
       "\n",
       "    .dataframe tbody tr th {\n",
       "        vertical-align: top;\n",
       "    }\n",
       "\n",
       "    .dataframe thead th {\n",
       "        text-align: right;\n",
       "    }\n",
       "</style>\n",
       "<table border=\"1\" class=\"dataframe\">\n",
       "  <thead>\n",
       "    <tr style=\"text-align: right;\">\n",
       "      <th></th>\n",
       "      <th>air_temperature_in_degrees_c</th>\n",
       "      <th>relative_humidity_in_percentage</th>\n",
       "      <th>wind_speed_in_km_h</th>\n",
       "    </tr>\n",
       "    <tr>\n",
       "      <th>datetime</th>\n",
       "      <th></th>\n",
       "      <th></th>\n",
       "      <th></th>\n",
       "    </tr>\n",
       "  </thead>\n",
       "  <tbody>\n",
       "    <tr>\n",
       "      <th>2021-07-01 00:00:00</th>\n",
       "      <td>13.7</td>\n",
       "      <td>96.0</td>\n",
       "      <td>13.0</td>\n",
       "    </tr>\n",
       "    <tr>\n",
       "      <th>2021-07-01 00:30:00</th>\n",
       "      <td>13.2</td>\n",
       "      <td>96.0</td>\n",
       "      <td>9.4</td>\n",
       "    </tr>\n",
       "    <tr>\n",
       "      <th>2021-07-01 01:00:00</th>\n",
       "      <td>13.3</td>\n",
       "      <td>97.0</td>\n",
       "      <td>11.2</td>\n",
       "    </tr>\n",
       "    <tr>\n",
       "      <th>2021-07-01 01:30:00</th>\n",
       "      <td>13.2</td>\n",
       "      <td>97.0</td>\n",
       "      <td>7.6</td>\n",
       "    </tr>\n",
       "    <tr>\n",
       "      <th>2021-07-01 02:00:00</th>\n",
       "      <td>12.9</td>\n",
       "      <td>98.0</td>\n",
       "      <td>7.6</td>\n",
       "    </tr>\n",
       "    <tr>\n",
       "      <th>...</th>\n",
       "      <td>...</td>\n",
       "      <td>...</td>\n",
       "      <td>...</td>\n",
       "    </tr>\n",
       "    <tr>\n",
       "      <th>2024-06-30 21:30:00</th>\n",
       "      <td>9.7</td>\n",
       "      <td>85.0</td>\n",
       "      <td>22.3</td>\n",
       "    </tr>\n",
       "    <tr>\n",
       "      <th>2024-06-30 22:00:00</th>\n",
       "      <td>9.7</td>\n",
       "      <td>82.0</td>\n",
       "      <td>20.5</td>\n",
       "    </tr>\n",
       "    <tr>\n",
       "      <th>2024-06-30 22:30:00</th>\n",
       "      <td>9.5</td>\n",
       "      <td>82.0</td>\n",
       "      <td>16.6</td>\n",
       "    </tr>\n",
       "    <tr>\n",
       "      <th>2024-06-30 23:00:00</th>\n",
       "      <td>9.0</td>\n",
       "      <td>82.0</td>\n",
       "      <td>16.6</td>\n",
       "    </tr>\n",
       "    <tr>\n",
       "      <th>2024-06-30 23:30:00</th>\n",
       "      <td>8.8</td>\n",
       "      <td>84.0</td>\n",
       "      <td>18.4</td>\n",
       "    </tr>\n",
       "  </tbody>\n",
       "</table>\n",
       "<p>52608 rows × 3 columns</p>\n",
       "</div>"
      ],
      "text/plain": [
       "                     air_temperature_in_degrees_c  \\\n",
       "datetime                                            \n",
       "2021-07-01 00:00:00                          13.7   \n",
       "2021-07-01 00:30:00                          13.2   \n",
       "2021-07-01 01:00:00                          13.3   \n",
       "2021-07-01 01:30:00                          13.2   \n",
       "2021-07-01 02:00:00                          12.9   \n",
       "...                                           ...   \n",
       "2024-06-30 21:30:00                           9.7   \n",
       "2024-06-30 22:00:00                           9.7   \n",
       "2024-06-30 22:30:00                           9.5   \n",
       "2024-06-30 23:00:00                           9.0   \n",
       "2024-06-30 23:30:00                           8.8   \n",
       "\n",
       "                     relative_humidity_in_percentage  wind_speed_in_km_h  \n",
       "datetime                                                                  \n",
       "2021-07-01 00:00:00                             96.0                13.0  \n",
       "2021-07-01 00:30:00                             96.0                 9.4  \n",
       "2021-07-01 01:00:00                             97.0                11.2  \n",
       "2021-07-01 01:30:00                             97.0                 7.6  \n",
       "2021-07-01 02:00:00                             98.0                 7.6  \n",
       "...                                              ...                 ...  \n",
       "2024-06-30 21:30:00                             85.0                22.3  \n",
       "2024-06-30 22:00:00                             82.0                20.5  \n",
       "2024-06-30 22:30:00                             82.0                16.6  \n",
       "2024-06-30 23:00:00                             82.0                16.6  \n",
       "2024-06-30 23:30:00                             84.0                18.4  \n",
       "\n",
       "[52608 rows x 3 columns]"
      ]
     },
     "execution_count": 12,
     "metadata": {},
     "output_type": "execute_result"
    }
   ],
   "source": [
    "weather_data_df"
   ]
  },
  {
   "cell_type": "code",
   "execution_count": 13,
   "id": "4cf04935",
   "metadata": {},
   "outputs": [],
   "source": [
    "weather_data_df.to_csv(r'c:\\Users\\z5404477\\OneDrive - UNSW\\04_Workspace\\2. WIP\\data\\2. processed\\aedp_weather_data.csv')\n"
   ]
  },
  {
   "cell_type": "code",
   "execution_count": 8,
   "id": "414f3e77",
   "metadata": {},
   "outputs": [],
   "source": [
    "ds3 = pd.read_csv('../../data/ds3_aedp_30min.csv')"
   ]
  },
  {
   "cell_type": "code",
   "execution_count": 10,
   "id": "4a6adc41",
   "metadata": {},
   "outputs": [
    {
     "data": {
      "application/vnd.microsoft.datawrangler.viewer.v0+json": {
       "columns": [
        {
         "name": "index",
         "rawType": "int64",
         "type": "integer"
        },
        {
         "name": "datetime",
         "rawType": "object",
         "type": "string"
        },
        {
         "name": "netload_kW",
         "rawType": "float64",
         "type": "float"
        }
       ],
       "ref": "7f4c7cb9-2e5c-4150-a861-723886a3cace",
       "rows": [
        [
         "0",
         "2021-07-01 00:00:00",
         "116.4556258"
        ],
        [
         "1",
         "2021-07-01 00:30:00",
         "88.273554"
        ],
        [
         "2",
         "2021-07-01 01:00:00",
         "65.6255824"
        ],
        [
         "3",
         "2021-07-01 01:30:00",
         "37.1422192"
        ],
        [
         "4",
         "2021-07-01 02:00:00",
         "22.757475600000003"
        ],
        [
         "5",
         "2021-07-01 02:30:00",
         "24.9731562"
        ],
        [
         "6",
         "2021-07-01 03:00:00",
         "20.812371400000004"
        ],
        [
         "7",
         "2021-07-01 03:30:00",
         "64.324156"
        ],
        [
         "8",
         "2021-07-01 04:00:00",
         "67.0584368"
        ],
        [
         "9",
         "2021-07-01 04:30:00",
         "84.1016896"
        ],
        [
         "10",
         "2021-07-01 05:00:00",
         "106.3141584"
        ],
        [
         "11",
         "2021-07-01 05:30:00",
         "148.146129"
        ],
        [
         "12",
         "2021-07-01 06:00:00",
         "194.598127"
        ],
        [
         "13",
         "2021-07-01 06:30:00",
         "220.37417"
        ],
        [
         "14",
         "2021-07-01 07:00:00",
         "256.5013478"
        ],
        [
         "15",
         "2021-07-01 07:30:00",
         "272.0449264"
        ],
        [
         "16",
         "2021-07-01 08:00:00",
         "241.58925740000004"
        ],
        [
         "17",
         "2021-07-01 08:30:00",
         "216.4116144"
        ],
        [
         "18",
         "2021-07-01 09:00:00",
         "166.8204512"
        ],
        [
         "19",
         "2021-07-01 09:30:00",
         "85.66022880000001"
        ],
        [
         "20",
         "2021-07-01 10:00:00",
         "66.6774846"
        ],
        [
         "21",
         "2021-07-01 10:30:00",
         "22.518306"
        ],
        [
         "22",
         "2021-07-01 11:00:00",
         "-8.710196400000001"
        ],
        [
         "23",
         "2021-07-01 11:30:00",
         "-35.8773952"
        ],
        [
         "24",
         "2021-07-01 12:00:00",
         "-37.158234"
        ],
        [
         "25",
         "2021-07-01 12:30:00",
         "-60.402919"
        ],
        [
         "26",
         "2021-07-01 13:00:00",
         "-50.0101478"
        ],
        [
         "27",
         "2021-07-01 13:30:00",
         "-22.656318400000004"
        ],
        [
         "28",
         "2021-07-01 14:00:00",
         "34.643244200000005"
        ],
        [
         "29",
         "2021-07-01 14:30:00",
         "82.90511120000001"
        ],
        [
         "30",
         "2021-07-01 15:00:00",
         "115.2963644"
        ],
        [
         "31",
         "2021-07-01 15:30:00",
         "151.8599824"
        ],
        [
         "32",
         "2021-07-01 16:00:00",
         "188.7153152"
        ],
        [
         "33",
         "2021-07-01 16:30:00",
         "247.0072602"
        ],
        [
         "34",
         "2021-07-01 17:00:00",
         "277.8222928"
        ],
        [
         "35",
         "2021-07-01 17:30:00",
         "290.82140380000004"
        ],
        [
         "36",
         "2021-07-01 18:00:00",
         "285.5561442"
        ],
        [
         "37",
         "2021-07-01 18:30:00",
         "286.3669064"
        ],
        [
         "38",
         "2021-07-01 19:00:00",
         "277.99214980000005"
        ],
        [
         "39",
         "2021-07-01 19:30:00",
         "274.1812564"
        ],
        [
         "40",
         "2021-07-01 20:00:00",
         "265.1602164"
        ],
        [
         "41",
         "2021-07-01 20:30:00",
         "264.05093460000006"
        ],
        [
         "42",
         "2021-07-01 21:00:00",
         "264.052742"
        ],
        [
         "43",
         "2021-07-01 21:30:00",
         "269.96613560000003"
        ],
        [
         "44",
         "2021-07-01 22:00:00",
         "242.411584"
        ],
        [
         "45",
         "2021-07-01 22:30:00",
         "228.9348412"
        ],
        [
         "46",
         "2021-07-01 23:00:00",
         "181.4151606"
        ],
        [
         "47",
         "2021-07-01 23:30:00",
         "167.08135560000002"
        ],
        [
         "48",
         "2021-07-02 00:00:00",
         "136.8878764"
        ],
        [
         "49",
         "2021-07-02 00:30:00",
         "84.7565318"
        ]
       ],
       "shape": {
        "columns": 2,
        "rows": 52608
       }
      },
      "text/html": [
       "<div>\n",
       "<style scoped>\n",
       "    .dataframe tbody tr th:only-of-type {\n",
       "        vertical-align: middle;\n",
       "    }\n",
       "\n",
       "    .dataframe tbody tr th {\n",
       "        vertical-align: top;\n",
       "    }\n",
       "\n",
       "    .dataframe thead th {\n",
       "        text-align: right;\n",
       "    }\n",
       "</style>\n",
       "<table border=\"1\" class=\"dataframe\">\n",
       "  <thead>\n",
       "    <tr style=\"text-align: right;\">\n",
       "      <th></th>\n",
       "      <th>datetime</th>\n",
       "      <th>netload_kW</th>\n",
       "    </tr>\n",
       "  </thead>\n",
       "  <tbody>\n",
       "    <tr>\n",
       "      <th>0</th>\n",
       "      <td>2021-07-01 00:00:00</td>\n",
       "      <td>116.455626</td>\n",
       "    </tr>\n",
       "    <tr>\n",
       "      <th>1</th>\n",
       "      <td>2021-07-01 00:30:00</td>\n",
       "      <td>88.273554</td>\n",
       "    </tr>\n",
       "    <tr>\n",
       "      <th>2</th>\n",
       "      <td>2021-07-01 01:00:00</td>\n",
       "      <td>65.625582</td>\n",
       "    </tr>\n",
       "    <tr>\n",
       "      <th>3</th>\n",
       "      <td>2021-07-01 01:30:00</td>\n",
       "      <td>37.142219</td>\n",
       "    </tr>\n",
       "    <tr>\n",
       "      <th>4</th>\n",
       "      <td>2021-07-01 02:00:00</td>\n",
       "      <td>22.757476</td>\n",
       "    </tr>\n",
       "    <tr>\n",
       "      <th>...</th>\n",
       "      <td>...</td>\n",
       "      <td>...</td>\n",
       "    </tr>\n",
       "    <tr>\n",
       "      <th>52603</th>\n",
       "      <td>2024-06-30 21:30:00</td>\n",
       "      <td>218.549158</td>\n",
       "    </tr>\n",
       "    <tr>\n",
       "      <th>52604</th>\n",
       "      <td>2024-06-30 22:00:00</td>\n",
       "      <td>205.936298</td>\n",
       "    </tr>\n",
       "    <tr>\n",
       "      <th>52605</th>\n",
       "      <td>2024-06-30 22:30:00</td>\n",
       "      <td>170.634693</td>\n",
       "    </tr>\n",
       "    <tr>\n",
       "      <th>52606</th>\n",
       "      <td>2024-06-30 23:00:00</td>\n",
       "      <td>147.510773</td>\n",
       "    </tr>\n",
       "    <tr>\n",
       "      <th>52607</th>\n",
       "      <td>2024-06-30 23:30:00</td>\n",
       "      <td>113.311886</td>\n",
       "    </tr>\n",
       "  </tbody>\n",
       "</table>\n",
       "<p>52608 rows × 2 columns</p>\n",
       "</div>"
      ],
      "text/plain": [
       "                  datetime  netload_kW\n",
       "0      2021-07-01 00:00:00  116.455626\n",
       "1      2021-07-01 00:30:00   88.273554\n",
       "2      2021-07-01 01:00:00   65.625582\n",
       "3      2021-07-01 01:30:00   37.142219\n",
       "4      2021-07-01 02:00:00   22.757476\n",
       "...                    ...         ...\n",
       "52603  2024-06-30 21:30:00  218.549158\n",
       "52604  2024-06-30 22:00:00  205.936298\n",
       "52605  2024-06-30 22:30:00  170.634693\n",
       "52606  2024-06-30 23:00:00  147.510773\n",
       "52607  2024-06-30 23:30:00  113.311886\n",
       "\n",
       "[52608 rows x 2 columns]"
      ]
     },
     "execution_count": 10,
     "metadata": {},
     "output_type": "execute_result"
    }
   ],
   "source": [
    "ds3\n"
   ]
  },
  {
   "cell_type": "code",
   "execution_count": 15,
   "id": "3fe80949",
   "metadata": {},
   "outputs": [
    {
     "ename": "KeyError",
     "evalue": "'datetime'",
     "output_type": "error",
     "traceback": [
      "\u001b[1;31m---------------------------------------------------------------------------\u001b[0m",
      "\u001b[1;31mKeyError\u001b[0m                                  Traceback (most recent call last)",
      "File \u001b[1;32mc:\\Users\\z5404477\\OneDrive - UNSW\\04_Workspace\\2. WIP\\to Github\\.venv\\Lib\\site-packages\\pandas\\core\\indexes\\base.py:3805\u001b[0m, in \u001b[0;36mIndex.get_loc\u001b[1;34m(self, key)\u001b[0m\n\u001b[0;32m   3804\u001b[0m \u001b[38;5;28;01mtry\u001b[39;00m:\n\u001b[1;32m-> 3805\u001b[0m     \u001b[38;5;28;01mreturn\u001b[39;00m \u001b[38;5;28;43mself\u001b[39;49m\u001b[38;5;241;43m.\u001b[39;49m\u001b[43m_engine\u001b[49m\u001b[38;5;241;43m.\u001b[39;49m\u001b[43mget_loc\u001b[49m\u001b[43m(\u001b[49m\u001b[43mcasted_key\u001b[49m\u001b[43m)\u001b[49m\n\u001b[0;32m   3806\u001b[0m \u001b[38;5;28;01mexcept\u001b[39;00m \u001b[38;5;167;01mKeyError\u001b[39;00m \u001b[38;5;28;01mas\u001b[39;00m err:\n",
      "File \u001b[1;32mindex.pyx:167\u001b[0m, in \u001b[0;36mpandas._libs.index.IndexEngine.get_loc\u001b[1;34m()\u001b[0m\n",
      "File \u001b[1;32mindex.pyx:196\u001b[0m, in \u001b[0;36mpandas._libs.index.IndexEngine.get_loc\u001b[1;34m()\u001b[0m\n",
      "File \u001b[1;32mpandas\\\\_libs\\\\hashtable_class_helper.pxi:7081\u001b[0m, in \u001b[0;36mpandas._libs.hashtable.PyObjectHashTable.get_item\u001b[1;34m()\u001b[0m\n",
      "File \u001b[1;32mpandas\\\\_libs\\\\hashtable_class_helper.pxi:7089\u001b[0m, in \u001b[0;36mpandas._libs.hashtable.PyObjectHashTable.get_item\u001b[1;34m()\u001b[0m\n",
      "\u001b[1;31mKeyError\u001b[0m: 'datetime'",
      "\nThe above exception was the direct cause of the following exception:\n",
      "\u001b[1;31mKeyError\u001b[0m                                  Traceback (most recent call last)",
      "Cell \u001b[1;32mIn[15], line 2\u001b[0m\n\u001b[0;32m      1\u001b[0m \u001b[38;5;66;03m# make datetime column the index on ds1 dataframe\u001b[39;00m\n\u001b[1;32m----> 2\u001b[0m ds3\u001b[38;5;241m.\u001b[39mindex \u001b[38;5;241m=\u001b[39m \u001b[43mds3\u001b[49m\u001b[43m[\u001b[49m\u001b[38;5;124;43m'\u001b[39;49m\u001b[38;5;124;43mdatetime\u001b[39;49m\u001b[38;5;124;43m'\u001b[39;49m\u001b[43m]\u001b[49m\n\u001b[0;32m      4\u001b[0m ds3\u001b[38;5;241m.\u001b[39mdrop(columns\u001b[38;5;241m=\u001b[39m[\u001b[38;5;124m'\u001b[39m\u001b[38;5;124mdatetime\u001b[39m\u001b[38;5;124m'\u001b[39m], inplace\u001b[38;5;241m=\u001b[39m\u001b[38;5;28;01mTrue\u001b[39;00m)\n\u001b[0;32m      6\u001b[0m \u001b[38;5;66;03m#convert the index to datetime\u001b[39;00m\n",
      "File \u001b[1;32mc:\\Users\\z5404477\\OneDrive - UNSW\\04_Workspace\\2. WIP\\to Github\\.venv\\Lib\\site-packages\\pandas\\core\\frame.py:4102\u001b[0m, in \u001b[0;36mDataFrame.__getitem__\u001b[1;34m(self, key)\u001b[0m\n\u001b[0;32m   4100\u001b[0m \u001b[38;5;28;01mif\u001b[39;00m \u001b[38;5;28mself\u001b[39m\u001b[38;5;241m.\u001b[39mcolumns\u001b[38;5;241m.\u001b[39mnlevels \u001b[38;5;241m>\u001b[39m \u001b[38;5;241m1\u001b[39m:\n\u001b[0;32m   4101\u001b[0m     \u001b[38;5;28;01mreturn\u001b[39;00m \u001b[38;5;28mself\u001b[39m\u001b[38;5;241m.\u001b[39m_getitem_multilevel(key)\n\u001b[1;32m-> 4102\u001b[0m indexer \u001b[38;5;241m=\u001b[39m \u001b[38;5;28;43mself\u001b[39;49m\u001b[38;5;241;43m.\u001b[39;49m\u001b[43mcolumns\u001b[49m\u001b[38;5;241;43m.\u001b[39;49m\u001b[43mget_loc\u001b[49m\u001b[43m(\u001b[49m\u001b[43mkey\u001b[49m\u001b[43m)\u001b[49m\n\u001b[0;32m   4103\u001b[0m \u001b[38;5;28;01mif\u001b[39;00m is_integer(indexer):\n\u001b[0;32m   4104\u001b[0m     indexer \u001b[38;5;241m=\u001b[39m [indexer]\n",
      "File \u001b[1;32mc:\\Users\\z5404477\\OneDrive - UNSW\\04_Workspace\\2. WIP\\to Github\\.venv\\Lib\\site-packages\\pandas\\core\\indexes\\base.py:3812\u001b[0m, in \u001b[0;36mIndex.get_loc\u001b[1;34m(self, key)\u001b[0m\n\u001b[0;32m   3807\u001b[0m     \u001b[38;5;28;01mif\u001b[39;00m \u001b[38;5;28misinstance\u001b[39m(casted_key, \u001b[38;5;28mslice\u001b[39m) \u001b[38;5;129;01mor\u001b[39;00m (\n\u001b[0;32m   3808\u001b[0m         \u001b[38;5;28misinstance\u001b[39m(casted_key, abc\u001b[38;5;241m.\u001b[39mIterable)\n\u001b[0;32m   3809\u001b[0m         \u001b[38;5;129;01mand\u001b[39;00m \u001b[38;5;28many\u001b[39m(\u001b[38;5;28misinstance\u001b[39m(x, \u001b[38;5;28mslice\u001b[39m) \u001b[38;5;28;01mfor\u001b[39;00m x \u001b[38;5;129;01min\u001b[39;00m casted_key)\n\u001b[0;32m   3810\u001b[0m     ):\n\u001b[0;32m   3811\u001b[0m         \u001b[38;5;28;01mraise\u001b[39;00m InvalidIndexError(key)\n\u001b[1;32m-> 3812\u001b[0m     \u001b[38;5;28;01mraise\u001b[39;00m \u001b[38;5;167;01mKeyError\u001b[39;00m(key) \u001b[38;5;28;01mfrom\u001b[39;00m \u001b[38;5;21;01merr\u001b[39;00m\n\u001b[0;32m   3813\u001b[0m \u001b[38;5;28;01mexcept\u001b[39;00m \u001b[38;5;167;01mTypeError\u001b[39;00m:\n\u001b[0;32m   3814\u001b[0m     \u001b[38;5;66;03m# If we have a listlike key, _check_indexing_error will raise\u001b[39;00m\n\u001b[0;32m   3815\u001b[0m     \u001b[38;5;66;03m#  InvalidIndexError. Otherwise we fall through and re-raise\u001b[39;00m\n\u001b[0;32m   3816\u001b[0m     \u001b[38;5;66;03m#  the TypeError.\u001b[39;00m\n\u001b[0;32m   3817\u001b[0m     \u001b[38;5;28mself\u001b[39m\u001b[38;5;241m.\u001b[39m_check_indexing_error(key)\n",
      "\u001b[1;31mKeyError\u001b[0m: 'datetime'"
     ]
    }
   ],
   "source": [
    "# make datetime column the index on ds1 dataframe\n",
    "ds3.index = ds3['datetime']\n",
    "\n",
    "ds3.drop(columns=['datetime'], inplace=True)\n",
    "\n",
    "#convert the index to datetime\n",
    "ds3.index = pd.to_datetime(ds3.index, format='%Y-%m-%d %H:%M:%S')\n",
    "\n",
    "#merge the ds3 dataframe with the weather_data_df dataframe\n",
    "ds5 = ds3.merge(weather_data_df, left_index=True, right_index=True, how='outer')\n",
    "\n"
   ]
  },
  {
   "cell_type": "code",
   "execution_count": 16,
   "id": "feae2fa3",
   "metadata": {},
   "outputs": [],
   "source": [
    "ds5.to_csv('../../data/ds5_aedp_30min_with_weather.csv')"
   ]
  },
  {
   "cell_type": "code",
   "execution_count": null,
   "id": "0bfc4330",
   "metadata": {},
   "outputs": [],
   "source": []
  }
 ],
 "metadata": {
  "kernelspec": {
   "display_name": ".venv",
   "language": "python",
   "name": "python3"
  },
  "language_info": {
   "codemirror_mode": {
    "name": "ipython",
    "version": 3
   },
   "file_extension": ".py",
   "mimetype": "text/x-python",
   "name": "python",
   "nbconvert_exporter": "python",
   "pygments_lexer": "ipython3",
   "version": "3.12.3"
  }
 },
 "nbformat": 4,
 "nbformat_minor": 5
}
