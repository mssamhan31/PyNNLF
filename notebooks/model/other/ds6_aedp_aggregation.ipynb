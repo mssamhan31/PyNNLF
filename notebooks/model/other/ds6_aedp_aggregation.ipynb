{
 "cells": [
  {
   "cell_type": "markdown",
   "id": "c323621e",
   "metadata": {},
   "source": [
    "## Output\n",
    "1. Aggregate of 171 households from Australian EDP data from 24 Dec 2018 to 30 Sep 2024, 5-minutely. We take only the datetime and netload_kW, from 1 Jul 2021 to 30 Jun 2024. These households are located close to each other, in NSW area. \n",
    "\n",
    "## Input\n",
    "1. edp data from Jan 2019 to Sep 2019 Ausgrid Solar Home Data (71 files), 951x households, with varying first and last date of recording. \n",
    "   \n",
    "## Note\n",
    "1. Input is in the form of csv, with columns edp_site_id,unix_time,datetime,edp_device_and_circuit,circuit_label,edp_circuit_label,real_energy,real_energy_negative,real_energy_positive,reactive_energy,current_avg,current_min,current_max,voltage_avg,voltage_min,voltage_max\n",
    "2. No missing values handling because there are no missing values, have been checked\n",
    "3. No outlier handling because data are assumed to be not having outliers.\n",
    "4. Step\n",
    "a. Every time input csv, input only the relevant columns edp_site_id, unix_time, edp_device_and_circuit, real_energy, where circuit_label is onl ac_load_net, "
   ]
  },
  {
   "cell_type": "markdown",
   "id": "d74d4764",
   "metadata": {},
   "source": [
    "# 1. Import Data"
   ]
  },
  {
   "cell_type": "code",
   "execution_count": 56,
   "id": "db2048b8",
   "metadata": {},
   "outputs": [],
   "source": [
    "import pandas as pd\n",
    "import glob\n",
    "import os\n",
    "\n",
    "# file_paths = glob.glob('../../data/1. raw/ACAP EDP/*.csv')\n",
    "file_paths = glob.glob('../../../../data/1. raw/ACAP EDP/2021 Jul to 2024 Jun/*.csv')"
   ]
  },
  {
   "cell_type": "code",
   "execution_count": 57,
   "id": "7271c361",
   "metadata": {},
   "outputs": [],
   "source": [
    "# sites_to_include_paths = glob.glob('../../data/1. raw/ACAP EDP/Metadata/edp_sites_to_include.xlsx')\n",
    "sites_to_include_paths = glob.glob('../../../../data/2. processed/aedp_cluster_2_3years.xlsx')"
   ]
  },
  {
   "cell_type": "code",
   "execution_count": 58,
   "id": "10449652",
   "metadata": {},
   "outputs": [],
   "source": [
    "edp_site_ids_to_include = pd.read_excel(sites_to_include_paths[0])['edp_site_id'].to_list()"
   ]
  },
  {
   "cell_type": "code",
   "execution_count": 59,
   "id": "7f61682a",
   "metadata": {},
   "outputs": [
    {
     "data": {
      "text/plain": [
       "171"
      ]
     },
     "execution_count": 59,
     "metadata": {},
     "output_type": "execute_result"
    }
   ],
   "source": [
    "len(edp_site_ids_to_include)"
   ]
  },
  {
   "cell_type": "code",
   "execution_count": 60,
   "id": "2289c004",
   "metadata": {},
   "outputs": [
    {
     "name": "stdout",
     "output_type": "stream",
     "text": [
      "Processing ../../../../data/1. raw/ACAP EDP/2021 Jul to 2024 Jun\\edp_data_2021_0685674287.csv\n",
      "Processing ../../../../data/1. raw/ACAP EDP/2021 Jul to 2024 Jun\\edp_data_2021_0781620172.csv\n",
      "Processing ../../../../data/1. raw/ACAP EDP/2021 Jul to 2024 Jun\\edp_data_2021_0866839036.csv\n",
      "Processing ../../../../data/1. raw/ACAP EDP/2021 Jul to 2024 Jun\\edp_data_2021_099370549.csv\n",
      "Processing ../../../../data/1. raw/ACAP EDP/2021 Jul to 2024 Jun\\edp_data_2021_1099129706.csv\n",
      "Processing ../../../../data/1. raw/ACAP EDP/2021 Jul to 2024 Jun\\edp_data_2021_1139305266.csv\n",
      "Processing ../../../../data/1. raw/ACAP EDP/2021 Jul to 2024 Jun\\edp_data_2021_1254143330.csv\n",
      "Processing ../../../../data/1. raw/ACAP EDP/2021 Jul to 2024 Jun\\edp_data_2022_0190743126.csv\n",
      "Processing ../../../../data/1. raw/ACAP EDP/2021 Jul to 2024 Jun\\edp_data_2022_0259555274.csv\n",
      "Processing ../../../../data/1. raw/ACAP EDP/2021 Jul to 2024 Jun\\edp_data_2022_0344159374.csv\n",
      "Processing ../../../../data/1. raw/ACAP EDP/2021 Jul to 2024 Jun\\edp_data_2022_0420973605.csv\n",
      "Processing ../../../../data/1. raw/ACAP EDP/2021 Jul to 2024 Jun\\edp_data_2022_052123510.csv\n",
      "Processing ../../../../data/1. raw/ACAP EDP/2021 Jul to 2024 Jun\\edp_data_2022_066013101.csv\n",
      "Processing ../../../../data/1. raw/ACAP EDP/2021 Jul to 2024 Jun\\edp_data_2022_0794016143.csv\n",
      "Processing ../../../../data/1. raw/ACAP EDP/2021 Jul to 2024 Jun\\edp_data_2022_0844809223.csv\n",
      "Processing ../../../../data/1. raw/ACAP EDP/2021 Jul to 2024 Jun\\edp_data_2022_0981232475.csv\n",
      "Processing ../../../../data/1. raw/ACAP EDP/2021 Jul to 2024 Jun\\edp_data_2022_1037027765.csv\n",
      "Processing ../../../../data/1. raw/ACAP EDP/2021 Jul to 2024 Jun\\edp_data_2022_1196198049.csv\n",
      "Processing ../../../../data/1. raw/ACAP EDP/2021 Jul to 2024 Jun\\edp_data_2022_1264573314.csv\n",
      "Processing ../../../../data/1. raw/ACAP EDP/2021 Jul to 2024 Jun\\edp_data_2023_011779088.csv\n",
      "Processing ../../../../data/1. raw/ACAP EDP/2021 Jul to 2024 Jun\\edp_data_2023_0224096722.csv\n",
      "Processing ../../../../data/1. raw/ACAP EDP/2021 Jul to 2024 Jun\\edp_data_2023_0315610477.csv\n",
      "Processing ../../../../data/1. raw/ACAP EDP/2021 Jul to 2024 Jun\\edp_data_2023_0453835631.csv\n",
      "Processing ../../../../data/1. raw/ACAP EDP/2021 Jul to 2024 Jun\\edp_data_2023_0550459142.csv\n",
      "Processing ../../../../data/1. raw/ACAP EDP/2021 Jul to 2024 Jun\\edp_data_2023_0625207918.csv\n",
      "Processing ../../../../data/1. raw/ACAP EDP/2021 Jul to 2024 Jun\\edp_data_2023_0781207138.csv\n",
      "Processing ../../../../data/1. raw/ACAP EDP/2021 Jul to 2024 Jun\\edp_data_2023_0812218624.csv\n",
      "Processing ../../../../data/1. raw/ACAP EDP/2021 Jul to 2024 Jun\\edp_data_2023_0990213735.csv\n",
      "Processing ../../../../data/1. raw/ACAP EDP/2021 Jul to 2024 Jun\\edp_data_2023_1074298888.csv\n",
      "Processing ../../../../data/1. raw/ACAP EDP/2021 Jul to 2024 Jun\\edp_data_2023_111646381.csv\n",
      "Processing ../../../../data/1. raw/ACAP EDP/2021 Jul to 2024 Jun\\edp_data_2023_1287877347.csv\n",
      "Processing ../../../../data/1. raw/ACAP EDP/2021 Jul to 2024 Jun\\edp_data_2024_0195791648.csv\n",
      "Processing ../../../../data/1. raw/ACAP EDP/2021 Jul to 2024 Jun\\edp_data_2024_027505715.csv\n",
      "Processing ../../../../data/1. raw/ACAP EDP/2021 Jul to 2024 Jun\\edp_data_2024_0337803227.csv\n",
      "Processing ../../../../data/1. raw/ACAP EDP/2021 Jul to 2024 Jun\\edp_data_2024_0427008789.csv\n",
      "Processing ../../../../data/1. raw/ACAP EDP/2021 Jul to 2024 Jun\\edp_data_2024_059809026.csv\n",
      "Processing ../../../../data/1. raw/ACAP EDP/2021 Jul to 2024 Jun\\edp_data_2024_0611028272.csv\n",
      "Processing ../../../../data/1. raw/ACAP EDP/2021 Jul to 2024 Jun\\edp_data_2024_0760137471.csv\n"
     ]
    }
   ],
   "source": [
    "aggregate_df = pd.DataFrame()\n",
    "for file in file_paths:\n",
    "      \n",
    "    print(f\"Processing {file}\")\n",
    "    \n",
    "    # Include only relevant columns\n",
    "    df = pd.read_csv(file, usecols = ['edp_site_id', 'unix_time', 'edp_device_and_circuit', 'circuit_label', 'real_energy'])\n",
    "    \n",
    "    # Filter only the net load\n",
    "    df = df[df['circuit_label'] == 'ac_load_net']\n",
    "    df.drop(columns=['circuit_label'], inplace=True)    \n",
    "    \n",
    "    # Filter only sites with data in cluster\n",
    "    df = df[df['edp_site_id'].isin(edp_site_ids_to_include)]\n",
    "    \n",
    "    # Aggregate accross different sites, devices and circuits at the same site and time\n",
    "    df = df.groupby(['unix_time'])['real_energy'].sum().reset_index()\n",
    "    aggregate_df = pd.concat([aggregate_df, df], ignore_index=True)"
   ]
  },
  {
   "cell_type": "code",
   "execution_count": 61,
   "id": "eeed91b9",
   "metadata": {},
   "outputs": [],
   "source": [
    "aggregate_df['datetime'] = pd.to_datetime(aggregate_df['unix_time'], unit='s')\n",
    "aggregate_df.drop(columns=['unix_time'], inplace=True)\n",
    "aggregate_df.set_index('datetime', inplace=True)\n",
    "aggregate_df.rename(columns={'real_energy': 'netload_kWh'}, inplace=True)\n",
    "aggregate_df['netload_kWh'] = aggregate_df['netload_kWh'] / 1000  # Convert from W to kW\n"
   ]
  },
  {
   "cell_type": "code",
   "execution_count": 6,
   "id": "6a17aebc",
   "metadata": {},
   "outputs": [],
   "source": [
    "# Filter datetime from 2021-07-01 to 2023-06-30\n",
    "start_date = '2021-07-01 00:00:00'\n",
    "end_date = '2024-06-30 23:59:59'\n"
   ]
  },
  {
   "cell_type": "code",
   "execution_count": null,
   "id": "f6a1dc6d",
   "metadata": {},
   "outputs": [],
   "source": [
    "aggregate_df_3years = aggregate_df[(aggregate_df.index >= start_date) & (aggregate_df.index <= end_date)]"
   ]
  },
  {
   "cell_type": "code",
   "execution_count": 63,
   "id": "52f87f54",
   "metadata": {},
   "outputs": [
    {
     "data": {
      "application/vnd.microsoft.datawrangler.viewer.v0+json": {
       "columns": [
        {
         "name": "datetime",
         "rawType": "datetime64[ns]",
         "type": "datetime"
        },
        {
         "name": "netload_kWh",
         "rawType": "float64",
         "type": "float"
        }
       ],
       "ref": "fd04b281-0e9d-4d14-964e-91bef5f39ef2",
       "rows": [
        [
         "2021-07-01 00:00:00",
         "11.1771702"
        ],
        [
         "2021-07-01 00:05:00",
         "10.832638300000001"
        ],
        [
         "2021-07-01 00:10:00",
         "10.5681267"
        ],
        [
         "2021-07-01 00:15:00",
         "11.0591826"
        ],
        [
         "2021-07-01 00:20:00",
         "11.220170099999999"
        ],
        [
         "2021-07-01 00:25:00",
         "10.298373100000001"
        ],
        [
         "2021-07-01 00:30:00",
         "10.598704"
        ],
        [
         "2021-07-01 00:35:00",
         "10.7109629"
        ],
        [
         "2021-07-01 00:40:00",
         "10.1892419"
        ],
        [
         "2021-07-01 00:45:00",
         "10.419553599999999"
        ],
        [
         "2021-07-01 00:50:00",
         "10.2379938"
        ],
        [
         "2021-07-01 00:55:00",
         "10.135672000000001"
        ],
        [
         "2021-07-01 01:00:00",
         "10.125611999999999"
        ],
        [
         "2021-07-01 01:05:00",
         "11.629097900000001"
        ],
        [
         "2021-07-01 01:10:00",
         "10.7841618"
        ],
        [
         "2021-07-01 01:15:00",
         "10.6143269"
        ],
        [
         "2021-07-01 01:20:00",
         "9.9563015"
        ],
        [
         "2021-07-01 01:25:00",
         "10.3062494"
        ],
        [
         "2021-07-01 01:30:00",
         "10.058151100000002"
        ],
        [
         "2021-07-01 01:35:00",
         "7.794848"
        ],
        [
         "2021-07-01 01:40:00",
         "6.4851644"
        ],
        [
         "2021-07-01 01:45:00",
         "6.1682030999999995"
        ],
        [
         "2021-07-01 01:50:00",
         "6.2803484"
        ],
        [
         "2021-07-01 01:55:00",
         "6.8077185"
        ],
        [
         "2021-07-01 02:00:00",
         "6.1914492"
        ],
        [
         "2021-07-01 02:05:00",
         "4.9094943"
        ],
        [
         "2021-07-01 02:10:00",
         "5.5989029"
        ],
        [
         "2021-07-01 02:15:00",
         "6.618021"
        ],
        [
         "2021-07-01 02:20:00",
         "7.2970392"
        ],
        [
         "2021-07-01 02:25:00",
         "7.6426893"
        ],
        [
         "2021-07-01 02:30:00",
         "7.3603495"
        ],
        [
         "2021-07-01 02:35:00",
         "6.646393600000001"
        ],
        [
         "2021-07-01 02:40:00",
         "5.772885199999999"
        ],
        [
         "2021-07-01 02:45:00",
         "4.5731124"
        ],
        [
         "2021-07-01 02:50:00",
         "4.6045594"
        ],
        [
         "2021-07-01 02:55:00",
         "5.1222208"
        ],
        [
         "2021-07-01 03:00:00",
         "4.7254343"
        ],
        [
         "2021-07-01 03:05:00",
         "3.9491689"
        ],
        [
         "2021-07-01 03:10:00",
         "4.5897963"
        ],
        [
         "2021-07-01 03:15:00",
         "4.679532600000001"
        ],
        [
         "2021-07-01 03:20:00",
         "5.2885263"
        ],
        [
         "2021-07-01 03:25:00",
         "6.3978532999999995"
        ],
        [
         "2021-07-01 03:30:00",
         "6.9070175"
        ],
        [
         "2021-07-01 03:35:00",
         "6.7693113"
        ],
        [
         "2021-07-01 03:40:00",
         "7.6304415"
        ],
        [
         "2021-07-01 03:45:00",
         "6.82277"
        ],
        [
         "2021-07-01 03:50:00",
         "7.9091995"
        ],
        [
         "2021-07-01 03:55:00",
         "7.4629625"
        ],
        [
         "2021-07-01 04:00:00",
         "6.2650756"
        ],
        [
         "2021-07-01 04:05:00",
         "6.631023"
        ]
       ],
       "shape": {
        "columns": 1,
        "rows": 319764
       }
      },
      "text/html": [
       "<div>\n",
       "<style scoped>\n",
       "    .dataframe tbody tr th:only-of-type {\n",
       "        vertical-align: middle;\n",
       "    }\n",
       "\n",
       "    .dataframe tbody tr th {\n",
       "        vertical-align: top;\n",
       "    }\n",
       "\n",
       "    .dataframe thead th {\n",
       "        text-align: right;\n",
       "    }\n",
       "</style>\n",
       "<table border=\"1\" class=\"dataframe\">\n",
       "  <thead>\n",
       "    <tr style=\"text-align: right;\">\n",
       "      <th></th>\n",
       "      <th>netload_kWh</th>\n",
       "    </tr>\n",
       "    <tr>\n",
       "      <th>datetime</th>\n",
       "      <th></th>\n",
       "    </tr>\n",
       "  </thead>\n",
       "  <tbody>\n",
       "    <tr>\n",
       "      <th>2021-07-01 00:00:00</th>\n",
       "      <td>11.177170</td>\n",
       "    </tr>\n",
       "    <tr>\n",
       "      <th>2021-07-01 00:05:00</th>\n",
       "      <td>10.832638</td>\n",
       "    </tr>\n",
       "    <tr>\n",
       "      <th>2021-07-01 00:10:00</th>\n",
       "      <td>10.568127</td>\n",
       "    </tr>\n",
       "    <tr>\n",
       "      <th>2021-07-01 00:15:00</th>\n",
       "      <td>11.059183</td>\n",
       "    </tr>\n",
       "    <tr>\n",
       "      <th>2021-07-01 00:20:00</th>\n",
       "      <td>11.220170</td>\n",
       "    </tr>\n",
       "    <tr>\n",
       "      <th>...</th>\n",
       "      <td>...</td>\n",
       "    </tr>\n",
       "    <tr>\n",
       "      <th>2024-06-30 23:35:00</th>\n",
       "      <td>0.483461</td>\n",
       "    </tr>\n",
       "    <tr>\n",
       "      <th>2024-06-30 23:40:00</th>\n",
       "      <td>0.802184</td>\n",
       "    </tr>\n",
       "    <tr>\n",
       "      <th>2024-06-30 23:45:00</th>\n",
       "      <td>0.016977</td>\n",
       "    </tr>\n",
       "    <tr>\n",
       "      <th>2024-06-30 23:50:00</th>\n",
       "      <td>-0.183799</td>\n",
       "    </tr>\n",
       "    <tr>\n",
       "      <th>2024-06-30 23:55:00</th>\n",
       "      <td>-0.196655</td>\n",
       "    </tr>\n",
       "  </tbody>\n",
       "</table>\n",
       "<p>319764 rows × 1 columns</p>\n",
       "</div>"
      ],
      "text/plain": [
       "                     netload_kWh\n",
       "datetime                        \n",
       "2021-07-01 00:00:00    11.177170\n",
       "2021-07-01 00:05:00    10.832638\n",
       "2021-07-01 00:10:00    10.568127\n",
       "2021-07-01 00:15:00    11.059183\n",
       "2021-07-01 00:20:00    11.220170\n",
       "...                          ...\n",
       "2024-06-30 23:35:00     0.483461\n",
       "2024-06-30 23:40:00     0.802184\n",
       "2024-06-30 23:45:00     0.016977\n",
       "2024-06-30 23:50:00    -0.183799\n",
       "2024-06-30 23:55:00    -0.196655\n",
       "\n",
       "[319764 rows x 1 columns]"
      ]
     },
     "execution_count": 63,
     "metadata": {},
     "output_type": "execute_result"
    }
   ],
   "source": [
    "aggregate_df_3years"
   ]
  },
  {
   "cell_type": "code",
   "execution_count": 64,
   "id": "21d55c5b",
   "metadata": {},
   "outputs": [
    {
     "name": "stderr",
     "output_type": "stream",
     "text": [
      "C:\\Users\\z5404477\\AppData\\Local\\Temp\\ipykernel_29916\\1799314335.py:1: SettingWithCopyWarning: \n",
      "A value is trying to be set on a copy of a slice from a DataFrame.\n",
      "Try using .loc[row_indexer,col_indexer] = value instead\n",
      "\n",
      "See the caveats in the documentation: https://pandas.pydata.org/pandas-docs/stable/user_guide/indexing.html#returning-a-view-versus-a-copy\n",
      "  aggregate_df_3years['netload_kW'] = aggregate_df_3years['netload_kWh'] / (5/60)\n",
      "C:\\Users\\z5404477\\AppData\\Local\\Temp\\ipykernel_29916\\1799314335.py:2: SettingWithCopyWarning: \n",
      "A value is trying to be set on a copy of a slice from a DataFrame\n",
      "\n",
      "See the caveats in the documentation: https://pandas.pydata.org/pandas-docs/stable/user_guide/indexing.html#returning-a-view-versus-a-copy\n",
      "  aggregate_df_3years.drop(columns=['netload_kWh'], inplace=True)\n"
     ]
    }
   ],
   "source": [
    "aggregate_df_3years['netload_kW'] = aggregate_df_3years['netload_kWh'] / (5/60)\n",
    "aggregate_df_3years.drop(columns=['netload_kWh'], inplace=True)"
   ]
  },
  {
   "cell_type": "code",
   "execution_count": 65,
   "id": "907e312a",
   "metadata": {},
   "outputs": [],
   "source": [
    "#drop duplicates on datetime index\n",
    "aggregate_df_3years = aggregate_df_3years[~aggregate_df_3years.index.duplicated(keep='first')]"
   ]
  },
  {
   "cell_type": "code",
   "execution_count": 66,
   "id": "5a049f12",
   "metadata": {},
   "outputs": [
    {
     "data": {
      "application/vnd.microsoft.datawrangler.viewer.v0+json": {
       "columns": [
        {
         "name": "datetime",
         "rawType": "datetime64[ns]",
         "type": "datetime"
        },
        {
         "name": "netload_kW",
         "rawType": "float64",
         "type": "float"
        }
       ],
       "ref": "8ec77a11-b059-48fa-9844-6525c5cecc75",
       "rows": [
        [
         "2021-07-01 00:00:00",
         "134.12604240000002"
        ],
        [
         "2021-07-01 00:05:00",
         "129.99165960000002"
        ],
        [
         "2021-07-01 00:10:00",
         "126.8175204"
        ],
        [
         "2021-07-01 00:15:00",
         "132.7101912"
        ],
        [
         "2021-07-01 00:20:00",
         "134.6420412"
        ],
        [
         "2021-07-01 00:25:00",
         "123.58047720000002"
        ],
        [
         "2021-07-01 00:30:00",
         "127.184448"
        ],
        [
         "2021-07-01 00:35:00",
         "128.5315548"
        ],
        [
         "2021-07-01 00:40:00",
         "122.27090280000002"
        ],
        [
         "2021-07-01 00:45:00",
         "125.03464319999999"
        ],
        [
         "2021-07-01 00:50:00",
         "122.8559256"
        ],
        [
         "2021-07-01 00:55:00",
         "121.62806400000002"
        ],
        [
         "2021-07-01 01:00:00",
         "121.50734399999999"
        ],
        [
         "2021-07-01 01:05:00",
         "139.54917480000003"
        ],
        [
         "2021-07-01 01:10:00",
         "129.4099416"
        ],
        [
         "2021-07-01 01:15:00",
         "127.37192280000001"
        ],
        [
         "2021-07-01 01:20:00",
         "119.47561800000001"
        ],
        [
         "2021-07-01 01:25:00",
         "123.67499280000001"
        ],
        [
         "2021-07-01 01:30:00",
         "120.69781320000003"
        ],
        [
         "2021-07-01 01:35:00",
         "93.538176"
        ],
        [
         "2021-07-01 01:40:00",
         "77.82197280000001"
        ],
        [
         "2021-07-01 01:45:00",
         "74.0184372"
        ],
        [
         "2021-07-01 01:50:00",
         "75.36418080000001"
        ],
        [
         "2021-07-01 01:55:00",
         "81.692622"
        ],
        [
         "2021-07-01 02:00:00",
         "74.29739040000001"
        ],
        [
         "2021-07-01 02:05:00",
         "58.913931600000005"
        ],
        [
         "2021-07-01 02:10:00",
         "67.1868348"
        ],
        [
         "2021-07-01 02:15:00",
         "79.416252"
        ],
        [
         "2021-07-01 02:20:00",
         "87.5644704"
        ],
        [
         "2021-07-01 02:25:00",
         "91.71227160000001"
        ],
        [
         "2021-07-01 02:30:00",
         "88.324194"
        ],
        [
         "2021-07-01 02:35:00",
         "79.75672320000001"
        ],
        [
         "2021-07-01 02:40:00",
         "69.2746224"
        ],
        [
         "2021-07-01 02:45:00",
         "54.87734880000001"
        ],
        [
         "2021-07-01 02:50:00",
         "55.25471280000001"
        ],
        [
         "2021-07-01 02:55:00",
         "61.466649600000004"
        ],
        [
         "2021-07-01 03:00:00",
         "56.7052116"
        ],
        [
         "2021-07-01 03:05:00",
         "47.3900268"
        ],
        [
         "2021-07-01 03:10:00",
         "55.0775556"
        ],
        [
         "2021-07-01 03:15:00",
         "56.15439120000001"
        ],
        [
         "2021-07-01 03:20:00",
         "63.462315600000004"
        ],
        [
         "2021-07-01 03:25:00",
         "76.7742396"
        ],
        [
         "2021-07-01 03:30:00",
         "82.88421000000001"
        ],
        [
         "2021-07-01 03:35:00",
         "81.23173560000001"
        ],
        [
         "2021-07-01 03:40:00",
         "91.565298"
        ],
        [
         "2021-07-01 03:45:00",
         "81.87324000000001"
        ],
        [
         "2021-07-01 03:50:00",
         "94.910394"
        ],
        [
         "2021-07-01 03:55:00",
         "89.55555"
        ],
        [
         "2021-07-01 04:00:00",
         "75.18090720000001"
        ],
        [
         "2021-07-01 04:05:00",
         "79.572276"
        ]
       ],
       "shape": {
        "columns": 1,
        "rows": 315600
       }
      },
      "text/html": [
       "<div>\n",
       "<style scoped>\n",
       "    .dataframe tbody tr th:only-of-type {\n",
       "        vertical-align: middle;\n",
       "    }\n",
       "\n",
       "    .dataframe tbody tr th {\n",
       "        vertical-align: top;\n",
       "    }\n",
       "\n",
       "    .dataframe thead th {\n",
       "        text-align: right;\n",
       "    }\n",
       "</style>\n",
       "<table border=\"1\" class=\"dataframe\">\n",
       "  <thead>\n",
       "    <tr style=\"text-align: right;\">\n",
       "      <th></th>\n",
       "      <th>netload_kW</th>\n",
       "    </tr>\n",
       "    <tr>\n",
       "      <th>datetime</th>\n",
       "      <th></th>\n",
       "    </tr>\n",
       "  </thead>\n",
       "  <tbody>\n",
       "    <tr>\n",
       "      <th>2021-07-01 00:00:00</th>\n",
       "      <td>134.126042</td>\n",
       "    </tr>\n",
       "    <tr>\n",
       "      <th>2021-07-01 00:05:00</th>\n",
       "      <td>129.991660</td>\n",
       "    </tr>\n",
       "    <tr>\n",
       "      <th>2021-07-01 00:10:00</th>\n",
       "      <td>126.817520</td>\n",
       "    </tr>\n",
       "    <tr>\n",
       "      <th>2021-07-01 00:15:00</th>\n",
       "      <td>132.710191</td>\n",
       "    </tr>\n",
       "    <tr>\n",
       "      <th>2021-07-01 00:20:00</th>\n",
       "      <td>134.642041</td>\n",
       "    </tr>\n",
       "    <tr>\n",
       "      <th>...</th>\n",
       "      <td>...</td>\n",
       "    </tr>\n",
       "    <tr>\n",
       "      <th>2024-06-30 23:35:00</th>\n",
       "      <td>133.812538</td>\n",
       "    </tr>\n",
       "    <tr>\n",
       "      <th>2024-06-30 23:40:00</th>\n",
       "      <td>130.250219</td>\n",
       "    </tr>\n",
       "    <tr>\n",
       "      <th>2024-06-30 23:45:00</th>\n",
       "      <td>125.370684</td>\n",
       "    </tr>\n",
       "    <tr>\n",
       "      <th>2024-06-30 23:50:00</th>\n",
       "      <td>126.077426</td>\n",
       "    </tr>\n",
       "    <tr>\n",
       "      <th>2024-06-30 23:55:00</th>\n",
       "      <td>126.720788</td>\n",
       "    </tr>\n",
       "  </tbody>\n",
       "</table>\n",
       "<p>315600 rows × 1 columns</p>\n",
       "</div>"
      ],
      "text/plain": [
       "                     netload_kW\n",
       "datetime                       \n",
       "2021-07-01 00:00:00  134.126042\n",
       "2021-07-01 00:05:00  129.991660\n",
       "2021-07-01 00:10:00  126.817520\n",
       "2021-07-01 00:15:00  132.710191\n",
       "2021-07-01 00:20:00  134.642041\n",
       "...                         ...\n",
       "2024-06-30 23:35:00  133.812538\n",
       "2024-06-30 23:40:00  130.250219\n",
       "2024-06-30 23:45:00  125.370684\n",
       "2024-06-30 23:50:00  126.077426\n",
       "2024-06-30 23:55:00  126.720788\n",
       "\n",
       "[315600 rows x 1 columns]"
      ]
     },
     "execution_count": 66,
     "metadata": {},
     "output_type": "execute_result"
    }
   ],
   "source": [
    "aggregate_df_3years"
   ]
  },
  {
   "cell_type": "code",
   "execution_count": null,
   "id": "0f68d961",
   "metadata": {},
   "outputs": [
    {
     "data": {
      "application/vnd.microsoft.datawrangler.viewer.v0+json": {
       "columns": [
        {
         "name": "index",
         "rawType": "int64",
         "type": "integer"
        },
        {
         "name": "datetime",
         "rawType": "object",
         "type": "string"
        },
        {
         "name": "netload_kW",
         "rawType": "float64",
         "type": "float"
        }
       ],
       "ref": "66cd49a1-0602-4b63-bb5c-771af5a71a18",
       "rows": [
        [
         "0",
         "2021-07-01 00:00:00",
         "134.126"
        ],
        [
         "1",
         "2021-07-01 00:05:00",
         "129.992"
        ],
        [
         "2",
         "2021-07-01 00:10:00",
         "126.818"
        ],
        [
         "3",
         "2021-07-01 00:15:00",
         "132.71"
        ],
        [
         "4",
         "2021-07-01 00:20:00",
         "134.642"
        ],
        [
         "5",
         "2021-07-01 00:25:00",
         "123.58"
        ],
        [
         "6",
         "2021-07-01 00:30:00",
         "127.184"
        ],
        [
         "7",
         "2021-07-01 00:35:00",
         "128.532"
        ],
        [
         "8",
         "2021-07-01 00:40:00",
         "122.271"
        ],
        [
         "9",
         "2021-07-01 00:45:00",
         "125.035"
        ],
        [
         "10",
         "2021-07-01 00:50:00",
         "122.856"
        ],
        [
         "11",
         "2021-07-01 00:55:00",
         "121.628"
        ],
        [
         "12",
         "2021-07-01 01:00:00",
         "121.507"
        ],
        [
         "13",
         "2021-07-01 01:05:00",
         "139.549"
        ],
        [
         "14",
         "2021-07-01 01:10:00",
         "129.41"
        ],
        [
         "15",
         "2021-07-01 01:15:00",
         "127.372"
        ],
        [
         "16",
         "2021-07-01 01:20:00",
         "119.476"
        ],
        [
         "17",
         "2021-07-01 01:25:00",
         "123.675"
        ],
        [
         "18",
         "2021-07-01 01:30:00",
         "120.698"
        ],
        [
         "19",
         "2021-07-01 01:35:00",
         "93.538"
        ],
        [
         "20",
         "2021-07-01 01:40:00",
         "77.822"
        ],
        [
         "21",
         "2021-07-01 01:45:00",
         "74.018"
        ],
        [
         "22",
         "2021-07-01 01:50:00",
         "75.364"
        ],
        [
         "23",
         "2021-07-01 01:55:00",
         "81.693"
        ],
        [
         "24",
         "2021-07-01 02:00:00",
         "74.297"
        ],
        [
         "25",
         "2021-07-01 02:05:00",
         "58.914"
        ],
        [
         "26",
         "2021-07-01 02:10:00",
         "67.187"
        ],
        [
         "27",
         "2021-07-01 02:15:00",
         "79.416"
        ],
        [
         "28",
         "2021-07-01 02:20:00",
         "87.564"
        ],
        [
         "29",
         "2021-07-01 02:25:00",
         "91.712"
        ],
        [
         "30",
         "2021-07-01 02:30:00",
         "88.324"
        ],
        [
         "31",
         "2021-07-01 02:35:00",
         "79.757"
        ],
        [
         "32",
         "2021-07-01 02:40:00",
         "69.275"
        ],
        [
         "33",
         "2021-07-01 02:45:00",
         "54.877"
        ],
        [
         "34",
         "2021-07-01 02:50:00",
         "55.255"
        ],
        [
         "35",
         "2021-07-01 02:55:00",
         "61.467"
        ],
        [
         "36",
         "2021-07-01 03:00:00",
         "56.705"
        ],
        [
         "37",
         "2021-07-01 03:05:00",
         "47.39"
        ],
        [
         "38",
         "2021-07-01 03:10:00",
         "55.078"
        ],
        [
         "39",
         "2021-07-01 03:15:00",
         "56.154"
        ],
        [
         "40",
         "2021-07-01 03:20:00",
         "63.462"
        ],
        [
         "41",
         "2021-07-01 03:25:00",
         "76.774"
        ],
        [
         "42",
         "2021-07-01 03:30:00",
         "82.884"
        ],
        [
         "43",
         "2021-07-01 03:35:00",
         "81.232"
        ],
        [
         "44",
         "2021-07-01 03:40:00",
         "91.565"
        ],
        [
         "45",
         "2021-07-01 03:45:00",
         "81.873"
        ],
        [
         "46",
         "2021-07-01 03:50:00",
         "94.91"
        ],
        [
         "47",
         "2021-07-01 03:55:00",
         "89.556"
        ],
        [
         "48",
         "2021-07-01 04:00:00",
         "75.181"
        ],
        [
         "49",
         "2021-07-01 04:05:00",
         "79.572"
        ]
       ],
       "shape": {
        "columns": 2,
        "rows": 315600
       }
      },
      "text/html": [
       "<div>\n",
       "<style scoped>\n",
       "    .dataframe tbody tr th:only-of-type {\n",
       "        vertical-align: middle;\n",
       "    }\n",
       "\n",
       "    .dataframe tbody tr th {\n",
       "        vertical-align: top;\n",
       "    }\n",
       "\n",
       "    .dataframe thead th {\n",
       "        text-align: right;\n",
       "    }\n",
       "</style>\n",
       "<table border=\"1\" class=\"dataframe\">\n",
       "  <thead>\n",
       "    <tr style=\"text-align: right;\">\n",
       "      <th></th>\n",
       "      <th>datetime</th>\n",
       "      <th>netload_kW</th>\n",
       "    </tr>\n",
       "  </thead>\n",
       "  <tbody>\n",
       "    <tr>\n",
       "      <th>0</th>\n",
       "      <td>2021-07-01 00:00:00</td>\n",
       "      <td>134.126</td>\n",
       "    </tr>\n",
       "    <tr>\n",
       "      <th>1</th>\n",
       "      <td>2021-07-01 00:05:00</td>\n",
       "      <td>129.992</td>\n",
       "    </tr>\n",
       "    <tr>\n",
       "      <th>2</th>\n",
       "      <td>2021-07-01 00:10:00</td>\n",
       "      <td>126.818</td>\n",
       "    </tr>\n",
       "    <tr>\n",
       "      <th>3</th>\n",
       "      <td>2021-07-01 00:15:00</td>\n",
       "      <td>132.710</td>\n",
       "    </tr>\n",
       "    <tr>\n",
       "      <th>4</th>\n",
       "      <td>2021-07-01 00:20:00</td>\n",
       "      <td>134.642</td>\n",
       "    </tr>\n",
       "    <tr>\n",
       "      <th>...</th>\n",
       "      <td>...</td>\n",
       "      <td>...</td>\n",
       "    </tr>\n",
       "    <tr>\n",
       "      <th>315595</th>\n",
       "      <td>2024-06-30 23:35:00</td>\n",
       "      <td>133.813</td>\n",
       "    </tr>\n",
       "    <tr>\n",
       "      <th>315596</th>\n",
       "      <td>2024-06-30 23:40:00</td>\n",
       "      <td>130.250</td>\n",
       "    </tr>\n",
       "    <tr>\n",
       "      <th>315597</th>\n",
       "      <td>2024-06-30 23:45:00</td>\n",
       "      <td>125.371</td>\n",
       "    </tr>\n",
       "    <tr>\n",
       "      <th>315598</th>\n",
       "      <td>2024-06-30 23:50:00</td>\n",
       "      <td>126.077</td>\n",
       "    </tr>\n",
       "    <tr>\n",
       "      <th>315599</th>\n",
       "      <td>2024-06-30 23:55:00</td>\n",
       "      <td>126.721</td>\n",
       "    </tr>\n",
       "  </tbody>\n",
       "</table>\n",
       "<p>315600 rows × 2 columns</p>\n",
       "</div>"
      ],
      "text/plain": [
       "                   datetime  netload_kW\n",
       "0       2021-07-01 00:00:00     134.126\n",
       "1       2021-07-01 00:05:00     129.992\n",
       "2       2021-07-01 00:10:00     126.818\n",
       "3       2021-07-01 00:15:00     132.710\n",
       "4       2021-07-01 00:20:00     134.642\n",
       "...                     ...         ...\n",
       "315595  2024-06-30 23:35:00     133.813\n",
       "315596  2024-06-30 23:40:00     130.250\n",
       "315597  2024-06-30 23:45:00     125.371\n",
       "315598  2024-06-30 23:50:00     126.077\n",
       "315599  2024-06-30 23:55:00     126.721\n",
       "\n",
       "[315600 rows x 2 columns]"
      ]
     },
     "metadata": {},
     "output_type": "display_data"
    }
   ],
   "source": [
    "aggregate_df_3years"
   ]
  },
  {
   "cell_type": "code",
   "execution_count": 10,
   "id": "d6b9eec2",
   "metadata": {},
   "outputs": [],
   "source": [
    "aggregate_df_3years.index = pd.to_datetime(aggregate_df_3years['datetime'])\n",
    "aggregate_df_3years.drop(columns=['datetime'], inplace=True)"
   ]
  },
  {
   "cell_type": "code",
   "execution_count": 11,
   "id": "70ea63a3",
   "metadata": {},
   "outputs": [
    {
     "name": "stderr",
     "output_type": "stream",
     "text": [
      "C:\\Users\\z5404477\\AppData\\Local\\Temp\\ipykernel_20848\\2841800327.py:2: FutureWarning: 'T' is deprecated and will be removed in a future version, please use 'min' instead.\n",
      "  date_range = pd.date_range(start=start_date, end=end_date, freq='5T')\n"
     ]
    }
   ],
   "source": [
    "# create an interval data from 2021-07-01 to 2024-06-30 with 5 minute interval\n",
    "date_range = pd.date_range(start=start_date, end=end_date, freq='5T')"
   ]
  },
  {
   "cell_type": "code",
   "execution_count": 12,
   "id": "4364f710",
   "metadata": {},
   "outputs": [],
   "source": [
    "aggregate_df_3years_complete = pd.DataFrame(index=date_range)\n",
    "# merge the aggregate_df_3years with the date_range\n",
    "aggregate_df_3years_complete = aggregate_df_3years_complete.merge(aggregate_df_3years, left_index=True, right_index=True, how='left')"
   ]
  },
  {
   "cell_type": "code",
   "execution_count": 13,
   "id": "c897eb89",
   "metadata": {},
   "outputs": [
    {
     "data": {
      "application/vnd.microsoft.datawrangler.viewer.v0+json": {
       "columns": [
        {
         "name": "index",
         "rawType": "datetime64[ns]",
         "type": "datetime"
        },
        {
         "name": "netload_kW",
         "rawType": "float64",
         "type": "float"
        }
       ],
       "ref": "27cbb4b2-cf71-467f-b711-c385a1bf9d98",
       "rows": [
        [
         "2021-07-01 00:00:00",
         "134.126"
        ],
        [
         "2021-07-01 00:05:00",
         "129.992"
        ],
        [
         "2021-07-01 00:10:00",
         "126.818"
        ],
        [
         "2021-07-01 00:15:00",
         "132.71"
        ],
        [
         "2021-07-01 00:20:00",
         "134.642"
        ],
        [
         "2021-07-01 00:25:00",
         "123.58"
        ],
        [
         "2021-07-01 00:30:00",
         "127.184"
        ],
        [
         "2021-07-01 00:35:00",
         "128.532"
        ],
        [
         "2021-07-01 00:40:00",
         "122.271"
        ],
        [
         "2021-07-01 00:45:00",
         "125.035"
        ],
        [
         "2021-07-01 00:50:00",
         "122.856"
        ],
        [
         "2021-07-01 00:55:00",
         "121.628"
        ],
        [
         "2021-07-01 01:00:00",
         "121.507"
        ],
        [
         "2021-07-01 01:05:00",
         "139.549"
        ],
        [
         "2021-07-01 01:10:00",
         "129.41"
        ],
        [
         "2021-07-01 01:15:00",
         "127.372"
        ],
        [
         "2021-07-01 01:20:00",
         "119.476"
        ],
        [
         "2021-07-01 01:25:00",
         "123.675"
        ],
        [
         "2021-07-01 01:30:00",
         "120.698"
        ],
        [
         "2021-07-01 01:35:00",
         "93.538"
        ],
        [
         "2021-07-01 01:40:00",
         "77.822"
        ],
        [
         "2021-07-01 01:45:00",
         "74.018"
        ],
        [
         "2021-07-01 01:50:00",
         "75.364"
        ],
        [
         "2021-07-01 01:55:00",
         "81.693"
        ],
        [
         "2021-07-01 02:00:00",
         "74.297"
        ],
        [
         "2021-07-01 02:05:00",
         "58.914"
        ],
        [
         "2021-07-01 02:10:00",
         "67.187"
        ],
        [
         "2021-07-01 02:15:00",
         "79.416"
        ],
        [
         "2021-07-01 02:20:00",
         "87.564"
        ],
        [
         "2021-07-01 02:25:00",
         "91.712"
        ],
        [
         "2021-07-01 02:30:00",
         "88.324"
        ],
        [
         "2021-07-01 02:35:00",
         "79.757"
        ],
        [
         "2021-07-01 02:40:00",
         "69.275"
        ],
        [
         "2021-07-01 02:45:00",
         "54.877"
        ],
        [
         "2021-07-01 02:50:00",
         "55.255"
        ],
        [
         "2021-07-01 02:55:00",
         "61.467"
        ],
        [
         "2021-07-01 03:00:00",
         "56.705"
        ],
        [
         "2021-07-01 03:05:00",
         "47.39"
        ],
        [
         "2021-07-01 03:10:00",
         "55.078"
        ],
        [
         "2021-07-01 03:15:00",
         "56.154"
        ],
        [
         "2021-07-01 03:20:00",
         "63.462"
        ],
        [
         "2021-07-01 03:25:00",
         "76.774"
        ],
        [
         "2021-07-01 03:30:00",
         "82.884"
        ],
        [
         "2021-07-01 03:35:00",
         "81.232"
        ],
        [
         "2021-07-01 03:40:00",
         "91.565"
        ],
        [
         "2021-07-01 03:45:00",
         "81.873"
        ],
        [
         "2021-07-01 03:50:00",
         "94.91"
        ],
        [
         "2021-07-01 03:55:00",
         "89.556"
        ],
        [
         "2021-07-01 04:00:00",
         "75.181"
        ],
        [
         "2021-07-01 04:05:00",
         "79.572"
        ]
       ],
       "shape": {
        "columns": 1,
        "rows": 315648
       }
      },
      "text/html": [
       "<div>\n",
       "<style scoped>\n",
       "    .dataframe tbody tr th:only-of-type {\n",
       "        vertical-align: middle;\n",
       "    }\n",
       "\n",
       "    .dataframe tbody tr th {\n",
       "        vertical-align: top;\n",
       "    }\n",
       "\n",
       "    .dataframe thead th {\n",
       "        text-align: right;\n",
       "    }\n",
       "</style>\n",
       "<table border=\"1\" class=\"dataframe\">\n",
       "  <thead>\n",
       "    <tr style=\"text-align: right;\">\n",
       "      <th></th>\n",
       "      <th>netload_kW</th>\n",
       "    </tr>\n",
       "  </thead>\n",
       "  <tbody>\n",
       "    <tr>\n",
       "      <th>2021-07-01 00:00:00</th>\n",
       "      <td>134.126</td>\n",
       "    </tr>\n",
       "    <tr>\n",
       "      <th>2021-07-01 00:05:00</th>\n",
       "      <td>129.992</td>\n",
       "    </tr>\n",
       "    <tr>\n",
       "      <th>2021-07-01 00:10:00</th>\n",
       "      <td>126.818</td>\n",
       "    </tr>\n",
       "    <tr>\n",
       "      <th>2021-07-01 00:15:00</th>\n",
       "      <td>132.710</td>\n",
       "    </tr>\n",
       "    <tr>\n",
       "      <th>2021-07-01 00:20:00</th>\n",
       "      <td>134.642</td>\n",
       "    </tr>\n",
       "    <tr>\n",
       "      <th>...</th>\n",
       "      <td>...</td>\n",
       "    </tr>\n",
       "    <tr>\n",
       "      <th>2024-06-30 23:35:00</th>\n",
       "      <td>133.813</td>\n",
       "    </tr>\n",
       "    <tr>\n",
       "      <th>2024-06-30 23:40:00</th>\n",
       "      <td>130.250</td>\n",
       "    </tr>\n",
       "    <tr>\n",
       "      <th>2024-06-30 23:45:00</th>\n",
       "      <td>125.371</td>\n",
       "    </tr>\n",
       "    <tr>\n",
       "      <th>2024-06-30 23:50:00</th>\n",
       "      <td>126.077</td>\n",
       "    </tr>\n",
       "    <tr>\n",
       "      <th>2024-06-30 23:55:00</th>\n",
       "      <td>126.721</td>\n",
       "    </tr>\n",
       "  </tbody>\n",
       "</table>\n",
       "<p>315648 rows × 1 columns</p>\n",
       "</div>"
      ],
      "text/plain": [
       "                     netload_kW\n",
       "2021-07-01 00:00:00     134.126\n",
       "2021-07-01 00:05:00     129.992\n",
       "2021-07-01 00:10:00     126.818\n",
       "2021-07-01 00:15:00     132.710\n",
       "2021-07-01 00:20:00     134.642\n",
       "...                         ...\n",
       "2024-06-30 23:35:00     133.813\n",
       "2024-06-30 23:40:00     130.250\n",
       "2024-06-30 23:45:00     125.371\n",
       "2024-06-30 23:50:00     126.077\n",
       "2024-06-30 23:55:00     126.721\n",
       "\n",
       "[315648 rows x 1 columns]"
      ]
     },
     "execution_count": 13,
     "metadata": {},
     "output_type": "execute_result"
    }
   ],
   "source": [
    "aggregate_df_3years_complete"
   ]
  },
  {
   "cell_type": "code",
   "execution_count": 14,
   "id": "f2a97eb8",
   "metadata": {},
   "outputs": [],
   "source": [
    "# see if there are any missing values\n",
    "missing_values = aggregate_df_3years_complete.isnull().sum()\n",
    "\n",
    "# see missing values rows\n",
    "missing_values_rows = aggregate_df_3years_complete[aggregate_df_3years_complete.isnull().any(axis=1)]"
   ]
  },
  {
   "cell_type": "code",
   "execution_count": 16,
   "id": "9f73d9a5",
   "metadata": {},
   "outputs": [
    {
     "data": {
      "application/vnd.microsoft.datawrangler.viewer.v0+json": {
       "columns": [
        {
         "name": "index",
         "rawType": "datetime64[ns]",
         "type": "datetime"
        },
        {
         "name": "netload_kW",
         "rawType": "float64",
         "type": "float"
        }
       ],
       "ref": "845f62bb-a9e1-4027-b63b-a63bed4b1b68",
       "rows": [
        [
         "2022-10-02 02:00:00",
         null
        ],
        [
         "2022-10-02 02:05:00",
         null
        ],
        [
         "2022-10-02 02:10:00",
         null
        ],
        [
         "2022-10-02 02:15:00",
         null
        ],
        [
         "2022-10-02 02:20:00",
         null
        ],
        [
         "2022-10-02 02:25:00",
         null
        ],
        [
         "2022-10-02 02:30:00",
         null
        ],
        [
         "2022-10-02 02:35:00",
         null
        ],
        [
         "2022-10-02 02:40:00",
         null
        ],
        [
         "2022-10-02 02:45:00",
         null
        ],
        [
         "2022-10-02 02:50:00",
         null
        ],
        [
         "2022-10-02 02:55:00",
         null
        ],
        [
         "2023-03-31 12:00:00",
         null
        ],
        [
         "2023-03-31 12:05:00",
         null
        ],
        [
         "2023-03-31 12:10:00",
         null
        ],
        [
         "2023-03-31 12:15:00",
         null
        ],
        [
         "2023-03-31 12:20:00",
         null
        ],
        [
         "2023-03-31 12:25:00",
         null
        ],
        [
         "2023-03-31 12:30:00",
         null
        ],
        [
         "2023-03-31 12:35:00",
         null
        ],
        [
         "2023-03-31 12:40:00",
         null
        ],
        [
         "2023-03-31 12:45:00",
         null
        ],
        [
         "2023-03-31 12:50:00",
         null
        ],
        [
         "2023-03-31 12:55:00",
         null
        ],
        [
         "2023-05-31 12:00:00",
         null
        ],
        [
         "2023-05-31 12:05:00",
         null
        ],
        [
         "2023-05-31 12:10:00",
         null
        ],
        [
         "2023-05-31 12:15:00",
         null
        ],
        [
         "2023-05-31 12:20:00",
         null
        ],
        [
         "2023-05-31 12:25:00",
         null
        ],
        [
         "2023-05-31 12:30:00",
         null
        ],
        [
         "2023-05-31 12:35:00",
         null
        ],
        [
         "2023-05-31 12:40:00",
         null
        ],
        [
         "2023-05-31 12:45:00",
         null
        ],
        [
         "2023-05-31 12:50:00",
         null
        ],
        [
         "2023-05-31 12:55:00",
         null
        ],
        [
         "2023-05-31 13:00:00",
         null
        ],
        [
         "2023-05-31 13:05:00",
         null
        ],
        [
         "2023-05-31 13:10:00",
         null
        ],
        [
         "2023-05-31 13:15:00",
         null
        ],
        [
         "2023-05-31 13:20:00",
         null
        ],
        [
         "2023-05-31 13:25:00",
         null
        ],
        [
         "2023-05-31 13:30:00",
         null
        ],
        [
         "2023-05-31 13:35:00",
         null
        ],
        [
         "2023-05-31 13:40:00",
         null
        ],
        [
         "2023-05-31 13:45:00",
         null
        ],
        [
         "2023-05-31 13:50:00",
         null
        ],
        [
         "2023-05-31 13:55:00",
         null
        ]
       ],
       "shape": {
        "columns": 1,
        "rows": 48
       }
      },
      "text/html": [
       "<div>\n",
       "<style scoped>\n",
       "    .dataframe tbody tr th:only-of-type {\n",
       "        vertical-align: middle;\n",
       "    }\n",
       "\n",
       "    .dataframe tbody tr th {\n",
       "        vertical-align: top;\n",
       "    }\n",
       "\n",
       "    .dataframe thead th {\n",
       "        text-align: right;\n",
       "    }\n",
       "</style>\n",
       "<table border=\"1\" class=\"dataframe\">\n",
       "  <thead>\n",
       "    <tr style=\"text-align: right;\">\n",
       "      <th></th>\n",
       "      <th>netload_kW</th>\n",
       "    </tr>\n",
       "  </thead>\n",
       "  <tbody>\n",
       "    <tr>\n",
       "      <th>2022-10-02 02:00:00</th>\n",
       "      <td>NaN</td>\n",
       "    </tr>\n",
       "    <tr>\n",
       "      <th>2022-10-02 02:05:00</th>\n",
       "      <td>NaN</td>\n",
       "    </tr>\n",
       "    <tr>\n",
       "      <th>2022-10-02 02:10:00</th>\n",
       "      <td>NaN</td>\n",
       "    </tr>\n",
       "    <tr>\n",
       "      <th>2022-10-02 02:15:00</th>\n",
       "      <td>NaN</td>\n",
       "    </tr>\n",
       "    <tr>\n",
       "      <th>2022-10-02 02:20:00</th>\n",
       "      <td>NaN</td>\n",
       "    </tr>\n",
       "    <tr>\n",
       "      <th>2022-10-02 02:25:00</th>\n",
       "      <td>NaN</td>\n",
       "    </tr>\n",
       "    <tr>\n",
       "      <th>2022-10-02 02:30:00</th>\n",
       "      <td>NaN</td>\n",
       "    </tr>\n",
       "    <tr>\n",
       "      <th>2022-10-02 02:35:00</th>\n",
       "      <td>NaN</td>\n",
       "    </tr>\n",
       "    <tr>\n",
       "      <th>2022-10-02 02:40:00</th>\n",
       "      <td>NaN</td>\n",
       "    </tr>\n",
       "    <tr>\n",
       "      <th>2022-10-02 02:45:00</th>\n",
       "      <td>NaN</td>\n",
       "    </tr>\n",
       "    <tr>\n",
       "      <th>2022-10-02 02:50:00</th>\n",
       "      <td>NaN</td>\n",
       "    </tr>\n",
       "    <tr>\n",
       "      <th>2022-10-02 02:55:00</th>\n",
       "      <td>NaN</td>\n",
       "    </tr>\n",
       "    <tr>\n",
       "      <th>2023-03-31 12:00:00</th>\n",
       "      <td>NaN</td>\n",
       "    </tr>\n",
       "    <tr>\n",
       "      <th>2023-03-31 12:05:00</th>\n",
       "      <td>NaN</td>\n",
       "    </tr>\n",
       "    <tr>\n",
       "      <th>2023-03-31 12:10:00</th>\n",
       "      <td>NaN</td>\n",
       "    </tr>\n",
       "    <tr>\n",
       "      <th>2023-03-31 12:15:00</th>\n",
       "      <td>NaN</td>\n",
       "    </tr>\n",
       "    <tr>\n",
       "      <th>2023-03-31 12:20:00</th>\n",
       "      <td>NaN</td>\n",
       "    </tr>\n",
       "    <tr>\n",
       "      <th>2023-03-31 12:25:00</th>\n",
       "      <td>NaN</td>\n",
       "    </tr>\n",
       "    <tr>\n",
       "      <th>2023-03-31 12:30:00</th>\n",
       "      <td>NaN</td>\n",
       "    </tr>\n",
       "    <tr>\n",
       "      <th>2023-03-31 12:35:00</th>\n",
       "      <td>NaN</td>\n",
       "    </tr>\n",
       "    <tr>\n",
       "      <th>2023-03-31 12:40:00</th>\n",
       "      <td>NaN</td>\n",
       "    </tr>\n",
       "    <tr>\n",
       "      <th>2023-03-31 12:45:00</th>\n",
       "      <td>NaN</td>\n",
       "    </tr>\n",
       "    <tr>\n",
       "      <th>2023-03-31 12:50:00</th>\n",
       "      <td>NaN</td>\n",
       "    </tr>\n",
       "    <tr>\n",
       "      <th>2023-03-31 12:55:00</th>\n",
       "      <td>NaN</td>\n",
       "    </tr>\n",
       "    <tr>\n",
       "      <th>2023-05-31 12:00:00</th>\n",
       "      <td>NaN</td>\n",
       "    </tr>\n",
       "    <tr>\n",
       "      <th>2023-05-31 12:05:00</th>\n",
       "      <td>NaN</td>\n",
       "    </tr>\n",
       "    <tr>\n",
       "      <th>2023-05-31 12:10:00</th>\n",
       "      <td>NaN</td>\n",
       "    </tr>\n",
       "    <tr>\n",
       "      <th>2023-05-31 12:15:00</th>\n",
       "      <td>NaN</td>\n",
       "    </tr>\n",
       "    <tr>\n",
       "      <th>2023-05-31 12:20:00</th>\n",
       "      <td>NaN</td>\n",
       "    </tr>\n",
       "    <tr>\n",
       "      <th>2023-05-31 12:25:00</th>\n",
       "      <td>NaN</td>\n",
       "    </tr>\n",
       "    <tr>\n",
       "      <th>2023-05-31 12:30:00</th>\n",
       "      <td>NaN</td>\n",
       "    </tr>\n",
       "    <tr>\n",
       "      <th>2023-05-31 12:35:00</th>\n",
       "      <td>NaN</td>\n",
       "    </tr>\n",
       "    <tr>\n",
       "      <th>2023-05-31 12:40:00</th>\n",
       "      <td>NaN</td>\n",
       "    </tr>\n",
       "    <tr>\n",
       "      <th>2023-05-31 12:45:00</th>\n",
       "      <td>NaN</td>\n",
       "    </tr>\n",
       "    <tr>\n",
       "      <th>2023-05-31 12:50:00</th>\n",
       "      <td>NaN</td>\n",
       "    </tr>\n",
       "    <tr>\n",
       "      <th>2023-05-31 12:55:00</th>\n",
       "      <td>NaN</td>\n",
       "    </tr>\n",
       "    <tr>\n",
       "      <th>2023-05-31 13:00:00</th>\n",
       "      <td>NaN</td>\n",
       "    </tr>\n",
       "    <tr>\n",
       "      <th>2023-05-31 13:05:00</th>\n",
       "      <td>NaN</td>\n",
       "    </tr>\n",
       "    <tr>\n",
       "      <th>2023-05-31 13:10:00</th>\n",
       "      <td>NaN</td>\n",
       "    </tr>\n",
       "    <tr>\n",
       "      <th>2023-05-31 13:15:00</th>\n",
       "      <td>NaN</td>\n",
       "    </tr>\n",
       "    <tr>\n",
       "      <th>2023-05-31 13:20:00</th>\n",
       "      <td>NaN</td>\n",
       "    </tr>\n",
       "    <tr>\n",
       "      <th>2023-05-31 13:25:00</th>\n",
       "      <td>NaN</td>\n",
       "    </tr>\n",
       "    <tr>\n",
       "      <th>2023-05-31 13:30:00</th>\n",
       "      <td>NaN</td>\n",
       "    </tr>\n",
       "    <tr>\n",
       "      <th>2023-05-31 13:35:00</th>\n",
       "      <td>NaN</td>\n",
       "    </tr>\n",
       "    <tr>\n",
       "      <th>2023-05-31 13:40:00</th>\n",
       "      <td>NaN</td>\n",
       "    </tr>\n",
       "    <tr>\n",
       "      <th>2023-05-31 13:45:00</th>\n",
       "      <td>NaN</td>\n",
       "    </tr>\n",
       "    <tr>\n",
       "      <th>2023-05-31 13:50:00</th>\n",
       "      <td>NaN</td>\n",
       "    </tr>\n",
       "    <tr>\n",
       "      <th>2023-05-31 13:55:00</th>\n",
       "      <td>NaN</td>\n",
       "    </tr>\n",
       "  </tbody>\n",
       "</table>\n",
       "</div>"
      ],
      "text/plain": [
       "                     netload_kW\n",
       "2022-10-02 02:00:00         NaN\n",
       "2022-10-02 02:05:00         NaN\n",
       "2022-10-02 02:10:00         NaN\n",
       "2022-10-02 02:15:00         NaN\n",
       "2022-10-02 02:20:00         NaN\n",
       "2022-10-02 02:25:00         NaN\n",
       "2022-10-02 02:30:00         NaN\n",
       "2022-10-02 02:35:00         NaN\n",
       "2022-10-02 02:40:00         NaN\n",
       "2022-10-02 02:45:00         NaN\n",
       "2022-10-02 02:50:00         NaN\n",
       "2022-10-02 02:55:00         NaN\n",
       "2023-03-31 12:00:00         NaN\n",
       "2023-03-31 12:05:00         NaN\n",
       "2023-03-31 12:10:00         NaN\n",
       "2023-03-31 12:15:00         NaN\n",
       "2023-03-31 12:20:00         NaN\n",
       "2023-03-31 12:25:00         NaN\n",
       "2023-03-31 12:30:00         NaN\n",
       "2023-03-31 12:35:00         NaN\n",
       "2023-03-31 12:40:00         NaN\n",
       "2023-03-31 12:45:00         NaN\n",
       "2023-03-31 12:50:00         NaN\n",
       "2023-03-31 12:55:00         NaN\n",
       "2023-05-31 12:00:00         NaN\n",
       "2023-05-31 12:05:00         NaN\n",
       "2023-05-31 12:10:00         NaN\n",
       "2023-05-31 12:15:00         NaN\n",
       "2023-05-31 12:20:00         NaN\n",
       "2023-05-31 12:25:00         NaN\n",
       "2023-05-31 12:30:00         NaN\n",
       "2023-05-31 12:35:00         NaN\n",
       "2023-05-31 12:40:00         NaN\n",
       "2023-05-31 12:45:00         NaN\n",
       "2023-05-31 12:50:00         NaN\n",
       "2023-05-31 12:55:00         NaN\n",
       "2023-05-31 13:00:00         NaN\n",
       "2023-05-31 13:05:00         NaN\n",
       "2023-05-31 13:10:00         NaN\n",
       "2023-05-31 13:15:00         NaN\n",
       "2023-05-31 13:20:00         NaN\n",
       "2023-05-31 13:25:00         NaN\n",
       "2023-05-31 13:30:00         NaN\n",
       "2023-05-31 13:35:00         NaN\n",
       "2023-05-31 13:40:00         NaN\n",
       "2023-05-31 13:45:00         NaN\n",
       "2023-05-31 13:50:00         NaN\n",
       "2023-05-31 13:55:00         NaN"
      ]
     },
     "execution_count": 16,
     "metadata": {},
     "output_type": "execute_result"
    }
   ],
   "source": [
    "missing_values_rows"
   ]
  },
  {
   "cell_type": "code",
   "execution_count": 17,
   "id": "50c5e7ca",
   "metadata": {},
   "outputs": [
    {
     "name": "stderr",
     "output_type": "stream",
     "text": [
      "C:\\Users\\z5404477\\AppData\\Local\\Temp\\ipykernel_20848\\1855161677.py:2: FutureWarning: DataFrame.fillna with 'method' is deprecated and will raise in a future version. Use obj.ffill() or obj.bfill() instead.\n",
      "  aggregate_df_3years_complete.fillna(method='ffill', inplace=True)\n"
     ]
    }
   ],
   "source": [
    "# fill missing values with prev value\n",
    "aggregate_df_3years_complete.fillna(method='ffill', inplace=True)"
   ]
  },
  {
   "cell_type": "markdown",
   "id": "ef24443c",
   "metadata": {},
   "source": [
    "# Export Data"
   ]
  },
  {
   "cell_type": "code",
   "execution_count": 18,
   "id": "386e583f",
   "metadata": {},
   "outputs": [],
   "source": [
    "# NEED to change this to complete\n",
    "aggregate_df_3years_complete.to_csv('../../../../to Github/data/ds6_aedp_cluster_5min.csv', index=True, float_format='%.3f')"
   ]
  },
  {
   "cell_type": "markdown",
   "id": "4dcef4a2",
   "metadata": {},
   "source": [
    "# CREATE 30 MINUTELY DATA"
   ]
  },
  {
   "cell_type": "code",
   "execution_count": 76,
   "id": "cd5bbdea",
   "metadata": {},
   "outputs": [
    {
     "data": {
      "application/vnd.microsoft.datawrangler.viewer.v0+json": {
       "columns": [
        {
         "name": "datetime",
         "rawType": "datetime64[ns]",
         "type": "datetime"
        },
        {
         "name": "netload_kW",
         "rawType": "float64",
         "type": "float"
        }
       ],
       "ref": "cbb779d4-2039-4a18-8088-95343e201c4d",
       "rows": [
        [
         "2021-07-01 00:00:00",
         "134.12604240000002"
        ],
        [
         "2021-07-01 00:05:00",
         "129.99165960000002"
        ],
        [
         "2021-07-01 00:10:00",
         "126.8175204"
        ],
        [
         "2021-07-01 00:15:00",
         "132.7101912"
        ],
        [
         "2021-07-01 00:20:00",
         "134.6420412"
        ],
        [
         "2021-07-01 00:25:00",
         "123.58047720000002"
        ],
        [
         "2021-07-01 00:30:00",
         "127.184448"
        ],
        [
         "2021-07-01 00:35:00",
         "128.5315548"
        ],
        [
         "2021-07-01 00:40:00",
         "122.27090280000002"
        ],
        [
         "2021-07-01 00:45:00",
         "125.03464319999999"
        ],
        [
         "2021-07-01 00:50:00",
         "122.8559256"
        ],
        [
         "2021-07-01 00:55:00",
         "121.62806400000002"
        ],
        [
         "2021-07-01 01:00:00",
         "121.50734399999999"
        ],
        [
         "2021-07-01 01:05:00",
         "139.54917480000003"
        ],
        [
         "2021-07-01 01:10:00",
         "129.4099416"
        ],
        [
         "2021-07-01 01:15:00",
         "127.37192280000001"
        ],
        [
         "2021-07-01 01:20:00",
         "119.47561800000001"
        ],
        [
         "2021-07-01 01:25:00",
         "123.67499280000001"
        ],
        [
         "2021-07-01 01:30:00",
         "120.69781320000003"
        ],
        [
         "2021-07-01 01:35:00",
         "93.538176"
        ],
        [
         "2021-07-01 01:40:00",
         "77.82197280000001"
        ],
        [
         "2021-07-01 01:45:00",
         "74.0184372"
        ],
        [
         "2021-07-01 01:50:00",
         "75.36418080000001"
        ],
        [
         "2021-07-01 01:55:00",
         "81.692622"
        ],
        [
         "2021-07-01 02:00:00",
         "74.29739040000001"
        ],
        [
         "2021-07-01 02:05:00",
         "58.913931600000005"
        ],
        [
         "2021-07-01 02:10:00",
         "67.1868348"
        ],
        [
         "2021-07-01 02:15:00",
         "79.416252"
        ],
        [
         "2021-07-01 02:20:00",
         "87.5644704"
        ],
        [
         "2021-07-01 02:25:00",
         "91.71227160000001"
        ],
        [
         "2021-07-01 02:30:00",
         "88.324194"
        ],
        [
         "2021-07-01 02:35:00",
         "79.75672320000001"
        ],
        [
         "2021-07-01 02:40:00",
         "69.2746224"
        ],
        [
         "2021-07-01 02:45:00",
         "54.87734880000001"
        ],
        [
         "2021-07-01 02:50:00",
         "55.25471280000001"
        ],
        [
         "2021-07-01 02:55:00",
         "61.466649600000004"
        ],
        [
         "2021-07-01 03:00:00",
         "56.7052116"
        ],
        [
         "2021-07-01 03:05:00",
         "47.3900268"
        ],
        [
         "2021-07-01 03:10:00",
         "55.0775556"
        ],
        [
         "2021-07-01 03:15:00",
         "56.15439120000001"
        ],
        [
         "2021-07-01 03:20:00",
         "63.462315600000004"
        ],
        [
         "2021-07-01 03:25:00",
         "76.7742396"
        ],
        [
         "2021-07-01 03:30:00",
         "82.88421000000001"
        ],
        [
         "2021-07-01 03:35:00",
         "81.23173560000001"
        ],
        [
         "2021-07-01 03:40:00",
         "91.565298"
        ],
        [
         "2021-07-01 03:45:00",
         "81.87324000000001"
        ],
        [
         "2021-07-01 03:50:00",
         "94.910394"
        ],
        [
         "2021-07-01 03:55:00",
         "89.55555"
        ],
        [
         "2021-07-01 04:00:00",
         "75.18090720000001"
        ],
        [
         "2021-07-01 04:05:00",
         "79.572276"
        ]
       ],
       "shape": {
        "columns": 1,
        "rows": 315600
       }
      },
      "text/html": [
       "<div>\n",
       "<style scoped>\n",
       "    .dataframe tbody tr th:only-of-type {\n",
       "        vertical-align: middle;\n",
       "    }\n",
       "\n",
       "    .dataframe tbody tr th {\n",
       "        vertical-align: top;\n",
       "    }\n",
       "\n",
       "    .dataframe thead th {\n",
       "        text-align: right;\n",
       "    }\n",
       "</style>\n",
       "<table border=\"1\" class=\"dataframe\">\n",
       "  <thead>\n",
       "    <tr style=\"text-align: right;\">\n",
       "      <th></th>\n",
       "      <th>netload_kW</th>\n",
       "    </tr>\n",
       "    <tr>\n",
       "      <th>datetime</th>\n",
       "      <th></th>\n",
       "    </tr>\n",
       "  </thead>\n",
       "  <tbody>\n",
       "    <tr>\n",
       "      <th>2021-07-01 00:00:00</th>\n",
       "      <td>134.126042</td>\n",
       "    </tr>\n",
       "    <tr>\n",
       "      <th>2021-07-01 00:05:00</th>\n",
       "      <td>129.991660</td>\n",
       "    </tr>\n",
       "    <tr>\n",
       "      <th>2021-07-01 00:10:00</th>\n",
       "      <td>126.817520</td>\n",
       "    </tr>\n",
       "    <tr>\n",
       "      <th>2021-07-01 00:15:00</th>\n",
       "      <td>132.710191</td>\n",
       "    </tr>\n",
       "    <tr>\n",
       "      <th>2021-07-01 00:20:00</th>\n",
       "      <td>134.642041</td>\n",
       "    </tr>\n",
       "    <tr>\n",
       "      <th>...</th>\n",
       "      <td>...</td>\n",
       "    </tr>\n",
       "    <tr>\n",
       "      <th>2024-06-30 23:35:00</th>\n",
       "      <td>133.812538</td>\n",
       "    </tr>\n",
       "    <tr>\n",
       "      <th>2024-06-30 23:40:00</th>\n",
       "      <td>130.250219</td>\n",
       "    </tr>\n",
       "    <tr>\n",
       "      <th>2024-06-30 23:45:00</th>\n",
       "      <td>125.370684</td>\n",
       "    </tr>\n",
       "    <tr>\n",
       "      <th>2024-06-30 23:50:00</th>\n",
       "      <td>126.077426</td>\n",
       "    </tr>\n",
       "    <tr>\n",
       "      <th>2024-06-30 23:55:00</th>\n",
       "      <td>126.720788</td>\n",
       "    </tr>\n",
       "  </tbody>\n",
       "</table>\n",
       "<p>315600 rows × 1 columns</p>\n",
       "</div>"
      ],
      "text/plain": [
       "                     netload_kW\n",
       "datetime                       \n",
       "2021-07-01 00:00:00  134.126042\n",
       "2021-07-01 00:05:00  129.991660\n",
       "2021-07-01 00:10:00  126.817520\n",
       "2021-07-01 00:15:00  132.710191\n",
       "2021-07-01 00:20:00  134.642041\n",
       "...                         ...\n",
       "2024-06-30 23:35:00  133.812538\n",
       "2024-06-30 23:40:00  130.250219\n",
       "2024-06-30 23:45:00  125.370684\n",
       "2024-06-30 23:50:00  126.077426\n",
       "2024-06-30 23:55:00  126.720788\n",
       "\n",
       "[315600 rows x 1 columns]"
      ]
     },
     "execution_count": 76,
     "metadata": {},
     "output_type": "execute_result"
    }
   ],
   "source": [
    "aggregate_df_3years"
   ]
  },
  {
   "cell_type": "code",
   "execution_count": 78,
   "id": "f5c262cd",
   "metadata": {},
   "outputs": [],
   "source": [
    "aggregate_df_3years_30min = aggregate_df_3years_complete.resample('30min').mean()"
   ]
  },
  {
   "cell_type": "code",
   "execution_count": 81,
   "id": "f2e02a95",
   "metadata": {},
   "outputs": [],
   "source": [
    "#name index to be 'datetime'\n",
    "aggregate_df_3years_30min.index.name = 'datetime'"
   ]
  },
  {
   "cell_type": "code",
   "execution_count": 82,
   "id": "bea3d4f4",
   "metadata": {},
   "outputs": [],
   "source": [
    "aggregate_df_3years_30min.to_csv('../../../../to Github/data/ds7_aedp_cluster_30min.csv', index=True, float_format='%.3f')"
   ]
  },
  {
   "cell_type": "markdown",
   "id": "07633c6b",
   "metadata": {},
   "source": [
    "# ARCHIVE"
   ]
  },
  {
   "cell_type": "code",
   "execution_count": null,
   "id": "85cacca5",
   "metadata": {},
   "outputs": [],
   "source": [
    "import pandas as pd\n",
    "aggregate_df_3years = pd.read_csv('../../../../to Github/data/ds6_aedp_cluster_5min.csv')"
   ]
  },
  {
   "cell_type": "code",
   "execution_count": null,
   "id": "26d6a376",
   "metadata": {},
   "outputs": [
    {
     "name": "stdout",
     "output_type": "stream",
     "text": [
      "Processing ../../../../data/1. raw/ACAP EDP\\edp_data_2019_0160891405.csv\n",
      "Processing ../../../../data/1. raw/ACAP EDP\\edp_data_2019_0278800434.csv\n",
      "Processing ../../../../data/1. raw/ACAP EDP\\edp_data_2019_0322850795.csv\n",
      "Processing ../../../../data/1. raw/ACAP EDP\\edp_data_2019_0433678557.csv\n",
      "Processing ../../../../data/1. raw/ACAP EDP\\edp_data_2019_0529556122.csv\n",
      "Processing ../../../../data/1. raw/ACAP EDP\\edp_data_2019_0627907281.csv\n",
      "Processing ../../../../data/1. raw/ACAP EDP\\edp_data_2019_079365040.csv\n",
      "Processing ../../../../data/1. raw/ACAP EDP\\edp_data_2019_0862506807.csv\n",
      "Processing ../../../../data/1. raw/ACAP EDP\\edp_data_2019_0922561682.csv\n",
      "Processing ../../../../data/1. raw/ACAP EDP\\edp_data_2019_1014737568.csv\n",
      "Processing ../../../../data/1. raw/ACAP EDP\\edp_data_2019_1194606633.csv\n",
      "Processing ../../../../data/1. raw/ACAP EDP\\edp_data_2019_1293725212.csv\n",
      "Processing ../../../../data/1. raw/ACAP EDP\\edp_data_2020_0116987317.csv\n",
      "Processing ../../../../data/1. raw/ACAP EDP\\edp_data_2020_0283386909.csv\n",
      "Processing ../../../../data/1. raw/ACAP EDP\\edp_data_2020_0355994333.csv\n",
      "Processing ../../../../data/1. raw/ACAP EDP\\edp_data_2020_0455132687.csv\n",
      "Processing ../../../../data/1. raw/ACAP EDP\\edp_data_2020_0523331058.csv\n",
      "Processing ../../../../data/1. raw/ACAP EDP\\edp_data_2020_0661354251.csv\n",
      "Processing ../../../../data/1. raw/ACAP EDP\\edp_data_2020_0757197672.csv\n",
      "Processing ../../../../data/1. raw/ACAP EDP\\edp_data_2020_0811923118.csv\n",
      "Processing ../../../../data/1. raw/ACAP EDP\\edp_data_2020_0988352986.csv\n",
      "Processing ../../../../data/1. raw/ACAP EDP\\edp_data_2020_1039563914.csv\n",
      "Processing ../../../../data/1. raw/ACAP EDP\\edp_data_2020_1135791630.csv\n",
      "Processing ../../../../data/1. raw/ACAP EDP\\edp_data_2020_125179011.csv\n",
      "Processing ../../../../data/1. raw/ACAP EDP\\edp_data_2021_0112675998.csv\n",
      "Processing ../../../../data/1. raw/ACAP EDP\\edp_data_2021_0249623058.csv\n",
      "Processing ../../../../data/1. raw/ACAP EDP\\edp_data_2021_0361533348.csv\n",
      "Processing ../../../../data/1. raw/ACAP EDP\\edp_data_2021_0499530576.csv\n",
      "Processing ../../../../data/1. raw/ACAP EDP\\edp_data_2021_0564159124.csv\n",
      "Processing ../../../../data/1. raw/ACAP EDP\\edp_data_2021_0685674287.csv\n",
      "Processing ../../../../data/1. raw/ACAP EDP\\edp_data_2021_0781620172.csv\n",
      "Processing ../../../../data/1. raw/ACAP EDP\\edp_data_2021_0866839036.csv\n",
      "Processing ../../../../data/1. raw/ACAP EDP\\edp_data_2021_099370549.csv\n",
      "Processing ../../../../data/1. raw/ACAP EDP\\edp_data_2021_1099129706.csv\n",
      "Processing ../../../../data/1. raw/ACAP EDP\\edp_data_2021_1139305266.csv\n",
      "Processing ../../../../data/1. raw/ACAP EDP\\edp_data_2021_1254143330.csv\n",
      "Processing ../../../../data/1. raw/ACAP EDP\\edp_data_2022_0190743126.csv\n",
      "Processing ../../../../data/1. raw/ACAP EDP\\edp_data_2022_0259555274.csv\n",
      "Processing ../../../../data/1. raw/ACAP EDP\\edp_data_2022_0344159374.csv\n",
      "Processing ../../../../data/1. raw/ACAP EDP\\edp_data_2022_0420973605.csv\n",
      "Processing ../../../../data/1. raw/ACAP EDP\\edp_data_2022_052123510.csv\n",
      "Processing ../../../../data/1. raw/ACAP EDP\\edp_data_2022_066013101.csv\n",
      "Processing ../../../../data/1. raw/ACAP EDP\\edp_data_2022_0794016143.csv\n",
      "Processing ../../../../data/1. raw/ACAP EDP\\edp_data_2022_0844809223.csv\n",
      "Processing ../../../../data/1. raw/ACAP EDP\\edp_data_2022_0981232475.csv\n",
      "Processing ../../../../data/1. raw/ACAP EDP\\edp_data_2022_1037027765.csv\n",
      "Processing ../../../../data/1. raw/ACAP EDP\\edp_data_2022_1196198049.csv\n",
      "Processing ../../../../data/1. raw/ACAP EDP\\edp_data_2022_1264573314.csv\n",
      "Processing ../../../../data/1. raw/ACAP EDP\\edp_data_2023_011779088.csv\n",
      "Processing ../../../../data/1. raw/ACAP EDP\\edp_data_2023_0224096722.csv\n",
      "Processing ../../../../data/1. raw/ACAP EDP\\edp_data_2023_0315610477.csv\n",
      "Processing ../../../../data/1. raw/ACAP EDP\\edp_data_2023_0453835631.csv\n",
      "Processing ../../../../data/1. raw/ACAP EDP\\edp_data_2023_0550459142.csv\n",
      "Processing ../../../../data/1. raw/ACAP EDP\\edp_data_2023_0625207918.csv\n",
      "Processing ../../../../data/1. raw/ACAP EDP\\edp_data_2023_0781207138.csv\n",
      "Processing ../../../../data/1. raw/ACAP EDP\\edp_data_2023_0812218624.csv\n",
      "Processing ../../../../data/1. raw/ACAP EDP\\edp_data_2023_0990213735.csv\n",
      "Processing ../../../../data/1. raw/ACAP EDP\\edp_data_2023_1074298888.csv\n",
      "Processing ../../../../data/1. raw/ACAP EDP\\edp_data_2023_111646381.csv\n",
      "Processing ../../../../data/1. raw/ACAP EDP\\edp_data_2023_1287877347.csv\n",
      "Processing ../../../../data/1. raw/ACAP EDP\\edp_data_2024_0195791648.csv\n",
      "Processing ../../../../data/1. raw/ACAP EDP\\edp_data_2024_027505715.csv\n",
      "Processing ../../../../data/1. raw/ACAP EDP\\edp_data_2024_0337803227.csv\n",
      "Processing ../../../../data/1. raw/ACAP EDP\\edp_data_2024_0427008789.csv\n",
      "Processing ../../../../data/1. raw/ACAP EDP\\edp_data_2024_059809026.csv\n",
      "Processing ../../../../data/1. raw/ACAP EDP\\edp_data_2024_0611028272.csv\n",
      "Processing ../../../../data/1. raw/ACAP EDP\\edp_data_2024_0760137471.csv\n",
      "Processing ../../../../data/1. raw/ACAP EDP\\edp_data_2024_0848175472.csv\n",
      "Processing ../../../../data/1. raw/ACAP EDP\\edp_data_2024_0960535685.csv\n"
     ]
    }
   ],
   "source": [
    "# Identify sites with NAs or missing data\n",
    "sites_with_nas_list = set()\n",
    "\n",
    "for file in file_paths:\n",
    "   \n",
    "    print(f\"Processing {file}\") \n",
    "    \n",
    "    # Include only relevant columns\n",
    "    df = pd.read_csv(file, usecols = ['edp_site_id', 'unix_time', 'edp_device_and_circuit', 'circuit_label', 'real_energy'])\n",
    "    \n",
    "    # Filter only the net load\n",
    "    df = df[df['circuit_label'] == 'ac_load_net']\n",
    "    df.drop(columns=['circuit_label'], inplace=True)    \n",
    "    \n",
    "    # Filter only sites with data in the correct cluster\n",
    "    df = df[df['edp_site_id'].isin(edp_site_ids_to_include)]\n",
    "    \n",
    "    # Identify site id with missing real energy data\n",
    "    sites_with_nas = set(df[df['real_energy'].isna()]['edp_site_id'].unique())\n",
    "    sites_with_nas_list.update(sites_with_nas)"
   ]
  },
  {
   "cell_type": "code",
   "execution_count": null,
   "id": "c2d918f1",
   "metadata": {},
   "outputs": [
    {
     "data": {
      "text/plain": [
       "set()"
      ]
     },
     "metadata": {},
     "output_type": "display_data"
    }
   ],
   "source": [
    "sites_with_nas_list"
   ]
  },
  {
   "cell_type": "code",
   "execution_count": null,
   "id": "47c3fe92",
   "metadata": {},
   "outputs": [],
   "source": [
    "edp_site_ids_to_include = [site for site in edp_site_ids_to_include if site not in sites_with_nas_list]"
   ]
  },
  {
   "cell_type": "code",
   "execution_count": null,
   "id": "302c3507",
   "metadata": {},
   "outputs": [],
   "source": [
    "import pandas as pd\n",
    "import glob\n",
    "import os"
   ]
  },
  {
   "cell_type": "code",
   "execution_count": null,
   "id": "4180a8fd",
   "metadata": {},
   "outputs": [],
   "source": [
    "file_paths = glob.glob('../../data/3. cleaned/ds2_aedp_5min.csv')\n",
    "df = pd.read_csv(file_paths[0], sep=',', header=0, index_col=0, parse_dates=True)"
   ]
  },
  {
   "cell_type": "code",
   "execution_count": null,
   "id": "b9aae567",
   "metadata": {},
   "outputs": [],
   "source": [
    "df.rename(columns={'netload_kW': 'netload_kWh'}, inplace=True)\n",
    "df['netload_kW'] = df['netload_kWh'] / (5/60)\n",
    "df.drop(columns=['netload_kWh'], inplace=True)"
   ]
  },
  {
   "cell_type": "code",
   "execution_count": null,
   "id": "4544ab75",
   "metadata": {},
   "outputs": [],
   "source": [
    "aggregate_df = df.copy()"
   ]
  },
  {
   "cell_type": "markdown",
   "id": "92a107e6",
   "metadata": {},
   "source": [
    "# MESSY"
   ]
  },
  {
   "cell_type": "markdown",
   "id": "edae6701",
   "metadata": {},
   "source": [
    "datetime, netload_kW\n",
    "30 minutely from 1 July 2010 to 30 June 2013\n",
    "\n",
    "27 Dec 2018\n",
    "\n",
    "Total 487 households\n",
    "\n",
    "Create dataset of \n",
    "from 1 Jan 2019 to 30 Sep 2024\n",
    "5 minutely\n",
    "\n",
    "Cut into\n",
    "from 1 Jul 2021 to 30 Jun 2024\n",
    "convert to 30 minutely data\n",
    "\n",
    "datetime\n",
    "netload_kW"
   ]
  }
 ],
 "metadata": {
  "kernelspec": {
   "display_name": ".venv",
   "language": "python",
   "name": "python3"
  },
  "language_info": {
   "codemirror_mode": {
    "name": "ipython",
    "version": 3
   },
   "file_extension": ".py",
   "mimetype": "text/x-python",
   "name": "python",
   "nbconvert_exporter": "python",
   "pygments_lexer": "ipython3",
   "version": "3.12.3"
  }
 },
 "nbformat": 4,
 "nbformat_minor": 5
}
