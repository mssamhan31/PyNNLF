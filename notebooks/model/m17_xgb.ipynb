{
 "cells": [
  {
   "cell_type": "code",
   "execution_count": 3,
   "metadata": {},
   "outputs": [],
   "source": [
    "# IMPORT IMPORTANT LIBRARY\n",
    "import numpy as np\n",
    "import pandas as pd\n",
    "from xgboost import XGBRegressor"
   ]
  },
  {
   "cell_type": "code",
   "execution_count": null,
   "metadata": {},
   "outputs": [],
   "source": [
    "def train_model_m17_xgb(hyperparameter, train_df_X, train_df_y):\n",
    "    ''' Train and test a xgb model for point forecasting. \n",
    "        \n",
    "    Args:\n",
    "        hyperparameter (df) : hyperparameter value of the model consisting of number of features\n",
    "        train_df_X (df) : features matrix for training\n",
    "        train_df_y (df) : target matrix for training\n",
    "\n",
    "    \n",
    "    Returns:\n",
    "        model (model) : trained model with all features\n",
    "    '''\n",
    "    \n",
    "    #UNPACK HYPERPARAMETER\n",
    "    xgb_seed = int(hyperparameter[\"xgb_seed\"])\n",
    "    n_estimators=hyperparameter[\"n_estimators\"]\n",
    "    learning_rate=hyperparameter[\"learning_rate\"]\n",
    "    max_depth=hyperparameter[\"max_depth\"]\n",
    "    subsample=hyperparameter[\"subsample\"]\n",
    "    colsample_bytree=hyperparameter[\"colsample_bytree\"]\n",
    "    \n",
    "    #INITIALIZE AND TRAIN MODEL\n",
    "    xgb = XGBRegressor(n_estimators=200, learning_rate=0.1, max_depth=6, subsample=0.8, colsample_bytree=0.8, random_state=xgb_seed)   \n",
    "    xgb.fit(train_df_X, train_df_y)   \n",
    "  \n",
    "    # PACK MODEL\n",
    "    model = {\"xgb\": xgb}\n",
    "  \n",
    "\n",
    "    return model"
   ]
  },
  {
   "cell_type": "code",
   "execution_count": null,
   "metadata": {},
   "outputs": [],
   "source": [
    "def produce_forecast_m17_xgb(model, train_df_X, test_df_X):\n",
    "    \"\"\"Create forecast at the train and test set using the trained model\n",
    "\n",
    "    Args:\n",
    "        model (dictionary): all parameters of the trained model\n",
    "        train_df_X (df): predictors of train set\n",
    "        test_df_X (df): predictors of test set\n",
    "\n",
    "    Returns:\n",
    "        train_df_y_hat (df) : forecast result at train set\n",
    "        test_df_y_hat (df) : forecast result at test set\n",
    "        \n",
    "    \"\"\"\n",
    "    \n",
    "    # UNPACK MODEL\n",
    "    xgb = model[\"xgb\"]\n",
    "    \n",
    "    # PRODUCE FORECAST\n",
    "    train_df_y_hat = xgb.predict(train_df_X)\n",
    "    test_df_y_hat = xgb.predict(test_df_X)\n",
    "    \n",
    "    return train_df_y_hat, test_df_y_hat"
   ]
  }
 ],
 "metadata": {
  "kernelspec": {
   "display_name": ".venv",
   "language": "python",
   "name": "python3"
  },
  "language_info": {
   "codemirror_mode": {
    "name": "ipython",
    "version": 3
   },
   "file_extension": ".py",
   "mimetype": "text/x-python",
   "name": "python",
   "nbconvert_exporter": "python",
   "pygments_lexer": "ipython3",
   "version": "3.12.3"
  }
 },
 "nbformat": 4,
 "nbformat_minor": 2
}
