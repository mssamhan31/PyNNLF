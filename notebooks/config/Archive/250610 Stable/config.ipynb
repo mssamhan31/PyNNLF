{
 "cells": [
  {
   "cell_type": "markdown",
   "metadata": {},
   "source": [
    "## Goal\n",
    "1. Populate all hard coded path, file name, values, including hyperparameters"
   ]
  },
  {
   "cell_type": "code",
   "execution_count": 2,
   "metadata": {},
   "outputs": [],
   "source": [
    "%run \"../config/constant.ipynb\"\n",
    "%run \"../config/model_hyperparameters.ipynb\"\n",
    "%run \"../config/general_functions.ipynb\""
   ]
  },
  {
   "cell_type": "code",
   "execution_count": 3,
   "metadata": {},
   "outputs": [
    {
     "name": "stderr",
     "output_type": "stream",
     "text": [
      "c:\\Users\\z5404477\\OneDrive - UNSW\\04_Workspace\\2. WIP\\to Github\\.venv\\Lib\\site-packages\\tqdm\\auto.py:21: TqdmWarning: IProgress not found. Please update jupyter and ipywidgets. See https://ipywidgets.readthedocs.io/en/stable/user_install.html\n",
      "  from .autonotebook import tqdm as notebook_tqdm\n",
      "Importing plotly failed. Interactive plots will not work.\n"
     ]
    }
   ],
   "source": [
    "# MODELS\n",
    "# Custom models\n",
    "%run \"../model/m1_naive.ipynb\"\n",
    "%run \"../model/m2_snaive.ipynb\"\n",
    "\n",
    "# Statsmodels-based models\n",
    "%run \"../model/m3_ets.ipynb\"\n",
    "%run \"../model/m4_arima.ipynb\"\n",
    "%run \"../model/m5_sarima.ipynb\"\n",
    "\n",
    "# Scikit-learn models\n",
    "%run \"../model/m6_lr.ipynb\"\n",
    "%run \"../model/m7_ann.ipynb\"\n",
    "%run \"../model/m10_rf.ipynb\"\n",
    "%run \"../model/m11_svr.ipynb\"\n",
    "\n",
    "# PyTorch models\n",
    "%run \"../model/m8_dnn.ipynb\"\n",
    "%run \"../model/m9_rt.ipynb\"\n",
    "%run \"../model/m12_rnn.ipynb\"\n",
    "%run \"../model/m13_lstm.ipynb\"\n",
    "%run \"../model/m14_gru.ipynb\"\n",
    "%run \"../model/m15_transformer.ipynb\"\n",
    "\n",
    "# Other frameworks\n",
    "%run \"../model/m16_prophet.ipynb\"  # FB Prophet\n",
    "%run \"../model/m17_xgb.ipynb\"      # XGBoost\n",
    "%run \"../model/m18_nbeats.ipynb\"   # PyTorch Forecasting"
   ]
  },
  {
   "cell_type": "markdown",
   "metadata": {},
   "source": [
    "# PATH"
   ]
  },
  {
   "cell_type": "code",
   "execution_count": null,
   "metadata": {},
   "outputs": [],
   "source": [
    "path_data_cleaned  = '../../data/'\n",
    "path_result = '../../experiment_result/'"
   ]
  },
  {
   "cell_type": "markdown",
   "metadata": {},
   "source": [
    "# FILE NAME"
   ]
  },
  {
   "cell_type": "code",
   "execution_count": null,
   "metadata": {},
   "outputs": [],
   "source": [
    "ds1 = 'ds1_ashd.csv'\n",
    "ds2 = 'ds2_aedp_5min.csv'\n",
    "ds3 = 'ds3_aedp_30min.csv'"
   ]
  },
  {
   "cell_type": "markdown",
   "metadata": {},
   "source": [
    "# IMAGE CONFIG: COLOR PALETTE, FONT SETTING"
   ]
  },
  {
   "cell_type": "code",
   "execution_count": 2,
   "metadata": {},
   "outputs": [],
   "source": [
    "black = 'black'\n",
    "dark_blue = '#22303D'\n",
    "blue = '#2F4D67'\n",
    "light_blue = '#5C7D99'\n",
    "slight_blue = '#B7C9D9'\n",
    "orange = '#EB932C'\n",
    "platinum = '#EBE3E3'\n",
    "unsw_yellow = '#ffd600'\n",
    "\n",
    "my_figsize = (8,6)\n",
    "\n",
    "my_font = 'arial'\n",
    "font_normal ='16'\n",
    "font_big = '20'\n",
    "font_small = '12'\n",
    "\n",
    "fontdict_normal = {'family': my_font,  # Set font family (e.g., 'serif', 'sans-serif', 'monospace')\n",
    "                   'color':  black, # Set font color\n",
    "                   'weight': 'normal',    # Set font weight (e.g., 'bold', 'normal')\n",
    "                   'size': font_normal}          # Set font size"
   ]
  },
  {
   "cell_type": "markdown",
   "metadata": {},
   "source": [
    "# CROSS VALIDATION"
   ]
  },
  {
   "cell_type": "code",
   "execution_count": 2,
   "metadata": {},
   "outputs": [],
   "source": [
    "k = 10  #10 fold cross validations using blocks\n",
    "n_block = k + 1 #10 for training and cross validation, 1 for hold out just in case want to test\n",
    "\n",
    "test_pct = 1/k\n",
    "train_pct = 1 - test_pct\n"
   ]
  },
  {
   "cell_type": "markdown",
   "metadata": {},
   "source": [
    "# FEATURE ENGINEERING"
   ]
  },
  {
   "cell_type": "code",
   "execution_count": null,
   "metadata": {},
   "outputs": [],
   "source": [
    "max_lag_day = 7 #lookback period in days"
   ]
  },
  {
   "cell_type": "markdown",
   "metadata": {},
   "source": [
    "# FORECAST HORIZON"
   ]
  },
  {
   "cell_type": "code",
   "execution_count": null,
   "metadata": {},
   "outputs": [],
   "source": [
    "#all in minutes\n",
    "fh1 = 30\n",
    "fh2 = 60\n",
    "fh3 = 120\n",
    "fh4 = 180\n",
    "fh5 = 240\n",
    "fh6 = 300\n",
    "fh7 = 360\n",
    "fh8 = 1440 # 1 day\n",
    "fh9 = 2880 # 2 days\n",
    "fh10 = 10080 # 1 week\n",
    "fh11 = 43200 # 1 month "
   ]
  }
 ],
 "metadata": {
  "kernelspec": {
   "display_name": ".venv",
   "language": "python",
   "name": "python3"
  },
  "language_info": {
   "codemirror_mode": {
    "name": "ipython",
    "version": 3
   },
   "file_extension": ".py",
   "mimetype": "text/x-python",
   "name": "python",
   "nbconvert_exporter": "python",
   "pygments_lexer": "ipython3",
   "version": "3.12.3"
  }
 },
 "nbformat": 4,
 "nbformat_minor": 2
}
