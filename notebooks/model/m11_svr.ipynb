{
 "cells": [
  {
   "cell_type": "code",
   "execution_count": null,
   "metadata": {},
   "outputs": [],
   "source": [
    "def train_model_m11_svr(hyperparameter, train_df_X, train_df_y):\n",
    "    \"\"\"Train a Support Vector Regression (SVR) model for point forecasting.\n",
    "\n",
    "    Args:\n",
    "        hyperparameter (dict): SVR hyperparameters including 'kernel', 'C', 'gamma', and 'epsilon'.\n",
    "        train_df_X (pd.DataFrame): Predictor matrix for training.\n",
    "        train_df_y (pd.DataFrame or pd.Series): Target values for training.\n",
    "\n",
    "    Returns:\n",
    "        model (dict): Trained model containing the SVR object under key 'svr'.\n",
    "    \"\"\"\n",
    "    \n",
    "    from sklearn.svm import SVR\n",
    "    \n",
    "    #UNPACK HYPERPARAMETER\n",
    "    seed = hyperparameter['seed'] #seem we can't use this using sklearn\n",
    "    kernel = hyperparameter['kernel']\n",
    "    C = hyperparameter['C']\n",
    "    gamma = hyperparameter['gamma']\n",
    "    epsilon = hyperparameter['epsilon']\n",
    "        \n",
    "    #TRAIN MODEL\n",
    "    train_df_y = train_df_y.values.ravel()  # Flatten the target array if necessary\n",
    "    svr = SVR(kernel=kernel, C=C, gamma=gamma, epsilon=epsilon)\n",
    "    svr.fit(train_df_X, train_df_y)\n",
    "  \n",
    "    # PACK MODEL\n",
    "    model = {\"svr\": svr}\n",
    "  \n",
    "\n",
    "    return model"
   ]
  },
  {
   "cell_type": "code",
   "execution_count": null,
   "metadata": {},
   "outputs": [],
   "source": [
    "def produce_forecast_m11_svr(model, train_df_X, test_df_X):\n",
    "    \"\"\"Generate forecasts using a trained SVR model.\n",
    "\n",
    "    Args:\n",
    "        model (dict): Trained model containing the SVR object under key 'svr'.\n",
    "        train_df_X (pd.DataFrame): Predictor matrix for the training set.\n",
    "        test_df_X (pd.DataFrame): Predictor matrix for the test set.\n",
    "\n",
    "    Returns:\n",
    "        train_df_y_hat (np.ndarray): Forecasted values for the training set.\n",
    "        test_df_y_hat (np.ndarray): Forecasted values for the test set.\n",
    "    \"\"\"\n",
    "    \n",
    "    svr = model['svr']\n",
    "    train_df_y_hat = svr.predict(train_df_X)\n",
    "    test_df_y_hat = svr.predict(test_df_X)\n",
    "\n",
    "    return train_df_y_hat, test_df_y_hat"
   ]
  }
 ],
 "metadata": {
  "kernelspec": {
   "display_name": ".venv (3.12.3)",
   "language": "python",
   "name": "python3"
  },
  "language_info": {
   "codemirror_mode": {
    "name": "ipython",
    "version": 3
   },
   "file_extension": ".py",
   "mimetype": "text/x-python",
   "name": "python",
   "nbconvert_exporter": "python",
   "pygments_lexer": "ipython3",
   "version": "3.12.3"
  }
 },
 "nbformat": 4,
 "nbformat_minor": 2
}
