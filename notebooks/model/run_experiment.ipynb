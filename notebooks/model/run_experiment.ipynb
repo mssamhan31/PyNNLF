{
 "cells": [
  {
   "cell_type": "code",
   "execution_count": 1,
   "metadata": {},
   "outputs": [
    {
     "name": "stderr",
     "output_type": "stream",
     "text": [
      "Importing plotly failed. Interactive plots will not work.\n"
     ]
    },
    {
     "name": "stdout",
     "output_type": "stream",
     "text": [
      "Pass Test 1 - Forecast horizon is >= dataset frequency\n",
      "Pass Test 2 - Hyperparameter choice is possible given the forecast horizon\n",
      "Processing CV 1 / 10....\n",
      "\n",
      "Processing CV 2 / 10....\n",
      "\n",
      "Processing CV 3 / 10....\n",
      "\n",
      "Processing CV 4 / 10....\n",
      "\n",
      "Processing CV 5 / 10....\n",
      "\n",
      "Processing CV 6 / 10....\n",
      "\n",
      "Processing CV 7 / 10....\n",
      "\n",
      "Processing CV 8 / 10....\n",
      "\n",
      "Processing CV 9 / 10....\n",
      "\n",
      "Processing CV 10 / 10....\n",
      "\n"
     ]
    }
   ],
   "source": [
    "# 1. RUN CONFIG\n",
    "%run \"../config/config.ipynb\"\n",
    "\n",
    "# 2. SETUP FORECAST PROBLEM AND MODEL SPECIFICATION (USER TO INPUT)\n",
    "# FORECAST PROBLEM\n",
    "dataset = ds0\n",
    "forecast_horizon = fh1 # fh1 = 30 minutes ahead, fh9 = 2 days ahead\n",
    "# MODEL SPECIFICATION\n",
    "model_name = m6\n",
    "hyperparameter_no = 'hp1'\n",
    "\n",
    "# 3. RUN EXPERIMENT\n",
    "run_experiment(dataset, forecast_horizon, model_name, hyperparameter_no)"
   ]
  },
  {
   "cell_type": "code",
   "execution_count": null,
   "metadata": {},
   "outputs": [
    {
     "name": "stderr",
     "output_type": "stream",
     "text": [
      "UsageError: Line magic function `%mkdocs` not found.\n"
     ]
    }
   ],
   "source": [
    "mkdocs --version"
   ]
  },
  {
   "cell_type": "code",
   "execution_count": 5,
   "metadata": {},
   "outputs": [
    {
     "name": "stdout",
     "output_type": "stream",
     "text": [
      "Collecting mkdocs\n",
      "  Downloading mkdocs-1.6.1-py3-none-any.whl.metadata (6.0 kB)\n",
      "Collecting click>=7.0 (from mkdocs)\n",
      "  Downloading click-8.2.1-py3-none-any.whl.metadata (2.5 kB)\n",
      "Requirement already satisfied: colorama>=0.4 in c:\\users\\t89937\\documents\\pynnlf\\.venv\\lib\\site-packages (from mkdocs) (0.4.6)\n",
      "Collecting ghp-import>=1.0 (from mkdocs)\n",
      "  Downloading ghp_import-2.1.0-py3-none-any.whl.metadata (7.2 kB)\n",
      "Requirement already satisfied: jinja2>=2.11.1 in c:\\users\\t89937\\documents\\pynnlf\\.venv\\lib\\site-packages (from mkdocs) (3.1.5)\n",
      "Collecting markdown>=3.3.6 (from mkdocs)\n",
      "  Downloading markdown-3.9-py3-none-any.whl.metadata (5.1 kB)\n",
      "Requirement already satisfied: markupsafe>=2.0.1 in c:\\users\\t89937\\documents\\pynnlf\\.venv\\lib\\site-packages (from mkdocs) (3.0.2)\n",
      "Collecting mergedeep>=1.3.4 (from mkdocs)\n",
      "  Downloading mergedeep-1.3.4-py3-none-any.whl.metadata (4.3 kB)\n",
      "Collecting mkdocs-get-deps>=0.2.0 (from mkdocs)\n",
      "  Downloading mkdocs_get_deps-0.2.0-py3-none-any.whl.metadata (4.0 kB)\n",
      "Requirement already satisfied: packaging>=20.5 in c:\\users\\t89937\\documents\\pynnlf\\.venv\\lib\\site-packages (from mkdocs) (24.1)\n",
      "Collecting pathspec>=0.11.1 (from mkdocs)\n",
      "  Downloading pathspec-0.12.1-py3-none-any.whl.metadata (21 kB)\n",
      "Collecting pyyaml-env-tag>=0.1 (from mkdocs)\n",
      "  Downloading pyyaml_env_tag-1.1-py3-none-any.whl.metadata (5.5 kB)\n",
      "Collecting pyyaml>=5.1 (from mkdocs)\n",
      "  Downloading PyYAML-6.0.2-cp312-cp312-win_amd64.whl.metadata (2.1 kB)\n",
      "Collecting watchdog>=2.0 (from mkdocs)\n",
      "  Downloading watchdog-6.0.0-py3-none-win_amd64.whl.metadata (44 kB)\n",
      "Requirement already satisfied: python-dateutil>=2.8.1 in c:\\users\\t89937\\documents\\pynnlf\\.venv\\lib\\site-packages (from ghp-import>=1.0->mkdocs) (2.9.0.post0)\n",
      "Requirement already satisfied: platformdirs>=2.2.0 in c:\\users\\t89937\\documents\\pynnlf\\.venv\\lib\\site-packages (from mkdocs-get-deps>=0.2.0->mkdocs) (4.3.6)\n",
      "Requirement already satisfied: six>=1.5 in c:\\users\\t89937\\documents\\pynnlf\\.venv\\lib\\site-packages (from python-dateutil>=2.8.1->ghp-import>=1.0->mkdocs) (1.16.0)\n",
      "Downloading mkdocs-1.6.1-py3-none-any.whl (3.9 MB)\n",
      "   ---------------------------------------- 0.0/3.9 MB ? eta -:--:--\n",
      "   ------------- -------------------------- 1.3/3.9 MB 9.5 MB/s eta 0:00:01\n",
      "   ---------------------------------------- 3.9/3.9 MB 11.5 MB/s  0:00:00\n",
      "Downloading click-8.2.1-py3-none-any.whl (102 kB)\n",
      "Downloading ghp_import-2.1.0-py3-none-any.whl (11 kB)\n",
      "Downloading markdown-3.9-py3-none-any.whl (107 kB)\n",
      "Downloading mergedeep-1.3.4-py3-none-any.whl (6.4 kB)\n",
      "Downloading mkdocs_get_deps-0.2.0-py3-none-any.whl (9.5 kB)\n",
      "Downloading pathspec-0.12.1-py3-none-any.whl (31 kB)\n",
      "Downloading PyYAML-6.0.2-cp312-cp312-win_amd64.whl (156 kB)\n",
      "Downloading pyyaml_env_tag-1.1-py3-none-any.whl (4.7 kB)\n",
      "Downloading watchdog-6.0.0-py3-none-win_amd64.whl (79 kB)\n",
      "Installing collected packages: watchdog, pyyaml, pathspec, mergedeep, markdown, click, pyyaml-env-tag, mkdocs-get-deps, ghp-import, mkdocs\n",
      "\n",
      "   ----------------------------------------  0/10 [watchdog]\n",
      "   ----------------------------------------  0/10 [watchdog]\n",
      "   ----------------------------------------  0/10 [watchdog]\n",
      "   ----------------------------------------  0/10 [watchdog]\n",
      "   ----------------------------------------  0/10 [watchdog]\n",
      "   ---- -----------------------------------  1/10 [pyyaml]\n",
      "   ---- -----------------------------------  1/10 [pyyaml]\n",
      "   -------- -------------------------------  2/10 [pathspec]\n",
      "   -------- -------------------------------  2/10 [pathspec]\n",
      "   ---------------- -----------------------  4/10 [markdown]\n",
      "   ---------------- -----------------------  4/10 [markdown]\n",
      "   ---------------- -----------------------  4/10 [markdown]\n",
      "   ---------------- -----------------------  4/10 [markdown]\n",
      "   ---------------- -----------------------  4/10 [markdown]\n",
      "   ---------------- -----------------------  4/10 [markdown]\n",
      "   ---------------- -----------------------  4/10 [markdown]\n",
      "   ---------------- -----------------------  4/10 [markdown]\n",
      "   ---------------- -----------------------  4/10 [markdown]\n",
      "   -------------------- -------------------  5/10 [click]\n",
      "   -------------------- -------------------  5/10 [click]\n",
      "   -------------------- -------------------  5/10 [click]\n",
      "   ---------------------------- -----------  7/10 [mkdocs-get-deps]\n",
      "   ---------------------------- -----------  7/10 [mkdocs-get-deps]\n",
      "   -------------------------------- -------  8/10 [ghp-import]\n",
      "   -------------------------------- -------  8/10 [ghp-import]\n",
      "   ------------------------------------ ---  9/10 [mkdocs]\n",
      "   ------------------------------------ ---  9/10 [mkdocs]\n",
      "   ------------------------------------ ---  9/10 [mkdocs]\n",
      "   ------------------------------------ ---  9/10 [mkdocs]\n",
      "   ------------------------------------ ---  9/10 [mkdocs]\n",
      "   ------------------------------------ ---  9/10 [mkdocs]\n",
      "   ------------------------------------ ---  9/10 [mkdocs]\n",
      "   ---------------------------------------- 10/10 [mkdocs]\n",
      "\n",
      "Successfully installed click-8.2.1 ghp-import-2.1.0 markdown-3.9 mergedeep-1.3.4 mkdocs-1.6.1 mkdocs-get-deps-0.2.0 pathspec-0.12.1 pyyaml-6.0.2 pyyaml-env-tag-1.1 watchdog-6.0.0\n",
      "Note: you may need to restart the kernel to use updated packages.\n"
     ]
    }
   ],
   "source": [
    "%pip install mkdocs"
   ]
  }
 ],
 "metadata": {
  "kernelspec": {
   "display_name": ".venv (3.12.3)",
   "language": "python",
   "name": "python3"
  },
  "language_info": {
   "codemirror_mode": {
    "name": "ipython",
    "version": 3
   },
   "file_extension": ".py",
   "mimetype": "text/x-python",
   "name": "python",
   "nbconvert_exporter": "python",
   "pygments_lexer": "ipython3",
   "version": "3.12.3"
  }
 },
 "nbformat": 4,
 "nbformat_minor": 2
}
