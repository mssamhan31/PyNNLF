{
 "cells": [
  {
   "cell_type": "markdown",
   "id": "c323621e",
   "metadata": {},
   "source": [
    "## Output\n",
    "1. Aggregate of 148 households from Australian EDP data from 24 Dec 2018 to 30 Sep 2024, 5-minutely. We take only the datetime and netload_kW, from 1 Jul 2021 to 30 Jun 2024. These households are located close to each other, in NSW area. From Avoca to Alison\n",
    "\n",
    "## Input\n",
    "1. edp data from Jan 2019 to Sep 2019 Ausgrid Solar Home Data (71 files), 951x households, with varying first and last date of recording. \n",
    "   \n",
    "## Note\n",
    "1. Input is in the form of csv, with columns edp_site_id,unix_time,datetime,edp_device_and_circuit,circuit_label,edp_circuit_label,real_energy,real_energy_negative,real_energy_positive,reactive_energy,current_avg,current_min,current_max,voltage_avg,voltage_min,voltage_max\n",
    "2. No missing values handling because there are no missing values, have been checked\n",
    "3. No outlier handling because data are assumed to be not having outliers.\n",
    "4. Step\n",
    "a. Every time input csv, input only the relevant columns edp_site_id, unix_time, edp_device_and_circuit, real_energy, where circuit_label is onl ac_load_net, "
   ]
  },
  {
   "cell_type": "markdown",
   "id": "d74d4764",
   "metadata": {},
   "source": [
    "# 1. Import Data"
   ]
  },
  {
   "cell_type": "code",
   "execution_count": 1,
   "id": "db2048b8",
   "metadata": {},
   "outputs": [],
   "source": [
    "import pandas as pd\n",
    "import glob\n",
    "import os\n",
    "\n",
    "# file_paths = glob.glob('../../data/1. raw/ACAP EDP/*.csv')\n",
    "file_paths = glob.glob('../../../../data/1. raw/ACAP EDP/2021 Jul to 2024 Jun/*.csv')"
   ]
  },
  {
   "cell_type": "code",
   "execution_count": 2,
   "id": "7271c361",
   "metadata": {},
   "outputs": [],
   "source": [
    "# sites_to_include_paths = glob.glob('../../data/1. raw/ACAP EDP/Metadata/edp_sites_to_include.xlsx')\n",
    "sites_to_include_paths = glob.glob('../../../../data/2. processed/aedp_cluster_2_2_3years.xlsx')"
   ]
  },
  {
   "cell_type": "code",
   "execution_count": 3,
   "id": "10449652",
   "metadata": {},
   "outputs": [],
   "source": [
    "edp_site_ids_to_include = pd.read_excel(sites_to_include_paths[0])['edp_site_id'].to_list()"
   ]
  },
  {
   "cell_type": "code",
   "execution_count": 4,
   "id": "7f61682a",
   "metadata": {},
   "outputs": [
    {
     "data": {
      "text/plain": [
       "148"
      ]
     },
     "execution_count": 4,
     "metadata": {},
     "output_type": "execute_result"
    }
   ],
   "source": [
    "len(edp_site_ids_to_include)"
   ]
  },
  {
   "cell_type": "code",
   "execution_count": 5,
   "id": "2289c004",
   "metadata": {},
   "outputs": [
    {
     "name": "stdout",
     "output_type": "stream",
     "text": [
      "Processing ../../../../data/1. raw/ACAP EDP/2021 Jul to 2024 Jun\\edp_data_2021_0685674287.csv\n",
      "Processing ../../../../data/1. raw/ACAP EDP/2021 Jul to 2024 Jun\\edp_data_2021_0781620172.csv\n",
      "Processing ../../../../data/1. raw/ACAP EDP/2021 Jul to 2024 Jun\\edp_data_2021_0866839036.csv\n",
      "Processing ../../../../data/1. raw/ACAP EDP/2021 Jul to 2024 Jun\\edp_data_2021_099370549.csv\n",
      "Processing ../../../../data/1. raw/ACAP EDP/2021 Jul to 2024 Jun\\edp_data_2021_1099129706.csv\n",
      "Processing ../../../../data/1. raw/ACAP EDP/2021 Jul to 2024 Jun\\edp_data_2021_1139305266.csv\n",
      "Processing ../../../../data/1. raw/ACAP EDP/2021 Jul to 2024 Jun\\edp_data_2021_1254143330.csv\n",
      "Processing ../../../../data/1. raw/ACAP EDP/2021 Jul to 2024 Jun\\edp_data_2022_0190743126.csv\n",
      "Processing ../../../../data/1. raw/ACAP EDP/2021 Jul to 2024 Jun\\edp_data_2022_0259555274.csv\n",
      "Processing ../../../../data/1. raw/ACAP EDP/2021 Jul to 2024 Jun\\edp_data_2022_0344159374.csv\n",
      "Processing ../../../../data/1. raw/ACAP EDP/2021 Jul to 2024 Jun\\edp_data_2022_0420973605.csv\n",
      "Processing ../../../../data/1. raw/ACAP EDP/2021 Jul to 2024 Jun\\edp_data_2022_052123510.csv\n",
      "Processing ../../../../data/1. raw/ACAP EDP/2021 Jul to 2024 Jun\\edp_data_2022_066013101.csv\n",
      "Processing ../../../../data/1. raw/ACAP EDP/2021 Jul to 2024 Jun\\edp_data_2022_0794016143.csv\n",
      "Processing ../../../../data/1. raw/ACAP EDP/2021 Jul to 2024 Jun\\edp_data_2022_0844809223.csv\n",
      "Processing ../../../../data/1. raw/ACAP EDP/2021 Jul to 2024 Jun\\edp_data_2022_0981232475.csv\n",
      "Processing ../../../../data/1. raw/ACAP EDP/2021 Jul to 2024 Jun\\edp_data_2022_1037027765.csv\n",
      "Processing ../../../../data/1. raw/ACAP EDP/2021 Jul to 2024 Jun\\edp_data_2022_1196198049.csv\n",
      "Processing ../../../../data/1. raw/ACAP EDP/2021 Jul to 2024 Jun\\edp_data_2022_1264573314.csv\n",
      "Processing ../../../../data/1. raw/ACAP EDP/2021 Jul to 2024 Jun\\edp_data_2023_011779088.csv\n",
      "Processing ../../../../data/1. raw/ACAP EDP/2021 Jul to 2024 Jun\\edp_data_2023_0224096722.csv\n",
      "Processing ../../../../data/1. raw/ACAP EDP/2021 Jul to 2024 Jun\\edp_data_2023_0315610477.csv\n",
      "Processing ../../../../data/1. raw/ACAP EDP/2021 Jul to 2024 Jun\\edp_data_2023_0453835631.csv\n",
      "Processing ../../../../data/1. raw/ACAP EDP/2021 Jul to 2024 Jun\\edp_data_2023_0550459142.csv\n",
      "Processing ../../../../data/1. raw/ACAP EDP/2021 Jul to 2024 Jun\\edp_data_2023_0625207918.csv\n",
      "Processing ../../../../data/1. raw/ACAP EDP/2021 Jul to 2024 Jun\\edp_data_2023_0781207138.csv\n",
      "Processing ../../../../data/1. raw/ACAP EDP/2021 Jul to 2024 Jun\\edp_data_2023_0812218624.csv\n",
      "Processing ../../../../data/1. raw/ACAP EDP/2021 Jul to 2024 Jun\\edp_data_2023_0990213735.csv\n",
      "Processing ../../../../data/1. raw/ACAP EDP/2021 Jul to 2024 Jun\\edp_data_2023_1074298888.csv\n",
      "Processing ../../../../data/1. raw/ACAP EDP/2021 Jul to 2024 Jun\\edp_data_2023_111646381.csv\n",
      "Processing ../../../../data/1. raw/ACAP EDP/2021 Jul to 2024 Jun\\edp_data_2023_1287877347.csv\n",
      "Processing ../../../../data/1. raw/ACAP EDP/2021 Jul to 2024 Jun\\edp_data_2024_0195791648.csv\n",
      "Processing ../../../../data/1. raw/ACAP EDP/2021 Jul to 2024 Jun\\edp_data_2024_027505715.csv\n",
      "Processing ../../../../data/1. raw/ACAP EDP/2021 Jul to 2024 Jun\\edp_data_2024_0337803227.csv\n",
      "Processing ../../../../data/1. raw/ACAP EDP/2021 Jul to 2024 Jun\\edp_data_2024_0427008789.csv\n",
      "Processing ../../../../data/1. raw/ACAP EDP/2021 Jul to 2024 Jun\\edp_data_2024_059809026.csv\n",
      "Processing ../../../../data/1. raw/ACAP EDP/2021 Jul to 2024 Jun\\edp_data_2024_0611028272.csv\n",
      "Processing ../../../../data/1. raw/ACAP EDP/2021 Jul to 2024 Jun\\edp_data_2024_0760137471.csv\n"
     ]
    }
   ],
   "source": [
    "aggregate_df = pd.DataFrame()\n",
    "for file in file_paths:\n",
    "      \n",
    "    print(f\"Processing {file}\")\n",
    "    \n",
    "    # Include only relevant columns\n",
    "    df = pd.read_csv(file, usecols = ['edp_site_id', 'unix_time', 'edp_device_and_circuit', 'circuit_label', 'real_energy'])\n",
    "    \n",
    "    # Filter only the net load\n",
    "    df = df[df['circuit_label'] == 'ac_load_net']\n",
    "    df.drop(columns=['circuit_label'], inplace=True)    \n",
    "    \n",
    "    # Filter only sites with data in cluster\n",
    "    df = df[df['edp_site_id'].isin(edp_site_ids_to_include)]\n",
    "    \n",
    "    # Aggregate accross different sites, devices and circuits at the same site and time\n",
    "    df = df.groupby(['unix_time'])['real_energy'].sum().reset_index()\n",
    "    aggregate_df = pd.concat([aggregate_df, df], ignore_index=True)"
   ]
  },
  {
   "cell_type": "code",
   "execution_count": 15,
   "id": "070041e6",
   "metadata": {},
   "outputs": [
    {
     "data": {
      "application/vnd.microsoft.datawrangler.viewer.v0+json": {
       "columns": [
        {
         "name": "datetime",
         "rawType": "datetime64[ns]",
         "type": "datetime"
        },
        {
         "name": "netload_kWh",
         "rawType": "float64",
         "type": "float"
        }
       ],
       "ref": "1ed9efd0-b2fd-4941-8594-f8ac528d001c",
       "rows": [
        [
         "2021-05-31 14:00:00",
         "3.666573"
        ],
        [
         "2021-05-31 14:05:00",
         "4.1005841"
        ],
        [
         "2021-05-31 14:10:00",
         "3.7634625"
        ],
        [
         "2021-05-31 14:15:00",
         "3.7476199"
        ],
        [
         "2021-05-31 14:20:00",
         "3.5226697"
        ],
        [
         "2021-05-31 14:25:00",
         "3.6425435"
        ],
        [
         "2021-05-31 14:30:00",
         "3.2380426000000004"
        ],
        [
         "2021-05-31 14:35:00",
         "3.7078580999999997"
        ],
        [
         "2021-05-31 14:40:00",
         "2.874136"
        ],
        [
         "2021-05-31 14:45:00",
         "3.3514245999999996"
        ],
        [
         "2021-05-31 14:50:00",
         "2.844785"
        ],
        [
         "2021-05-31 14:55:00",
         "3.0205010000000003"
        ],
        [
         "2021-05-31 15:00:00",
         "3.0114113"
        ],
        [
         "2021-05-31 15:05:00",
         "3.2946657"
        ],
        [
         "2021-05-31 15:10:00",
         "3.4675211"
        ],
        [
         "2021-05-31 15:15:00",
         "3.6739497"
        ],
        [
         "2021-05-31 15:20:00",
         "3.2102022000000003"
        ],
        [
         "2021-05-31 15:25:00",
         "3.4746383"
        ],
        [
         "2021-05-31 15:30:00",
         "3.2731518"
        ],
        [
         "2021-05-31 15:35:00",
         "3.4489709"
        ],
        [
         "2021-05-31 15:40:00",
         "3.4039266"
        ],
        [
         "2021-05-31 15:45:00",
         "3.3391565"
        ],
        [
         "2021-05-31 15:50:00",
         "3.2830758"
        ],
        [
         "2021-05-31 15:55:00",
         "3.4591672"
        ],
        [
         "2021-05-31 16:00:00",
         "3.3139357"
        ],
        [
         "2021-05-31 16:05:00",
         "3.564524"
        ],
        [
         "2021-05-31 16:10:00",
         "3.4494985000000002"
        ],
        [
         "2021-05-31 16:15:00",
         "3.7219951"
        ],
        [
         "2021-05-31 16:20:00",
         "3.7138138"
        ],
        [
         "2021-05-31 16:25:00",
         "3.8377129"
        ],
        [
         "2021-05-31 16:30:00",
         "3.4341915"
        ],
        [
         "2021-05-31 16:35:00",
         "3.1659421"
        ],
        [
         "2021-05-31 16:40:00",
         "3.5520696"
        ],
        [
         "2021-05-31 16:45:00",
         "3.1552431000000003"
        ],
        [
         "2021-05-31 16:50:00",
         "3.4358341"
        ],
        [
         "2021-05-31 16:55:00",
         "3.2446333"
        ],
        [
         "2021-05-31 17:00:00",
         "3.3803400000000003"
        ],
        [
         "2021-05-31 17:05:00",
         "3.0953705"
        ],
        [
         "2021-05-31 17:10:00",
         "3.2860842"
        ],
        [
         "2021-05-31 17:15:00",
         "3.038169"
        ],
        [
         "2021-05-31 17:20:00",
         "3.260027"
        ],
        [
         "2021-05-31 17:25:00",
         "3.1120324"
        ],
        [
         "2021-05-31 17:30:00",
         "2.8796036"
        ],
        [
         "2021-05-31 17:35:00",
         "2.9306067"
        ],
        [
         "2021-05-31 17:40:00",
         "2.6797126"
        ],
        [
         "2021-05-31 17:45:00",
         "3.4655909"
        ],
        [
         "2021-05-31 17:50:00",
         "3.700822"
        ],
        [
         "2021-05-31 17:55:00",
         "3.6163899"
        ],
        [
         "2021-05-31 18:00:00",
         "2.8498991"
        ],
        [
         "2021-05-31 18:05:00",
         "2.9273244"
        ]
       ],
       "shape": {
        "columns": 1,
        "rows": 337572
       }
      },
      "text/html": [
       "<div>\n",
       "<style scoped>\n",
       "    .dataframe tbody tr th:only-of-type {\n",
       "        vertical-align: middle;\n",
       "    }\n",
       "\n",
       "    .dataframe tbody tr th {\n",
       "        vertical-align: top;\n",
       "    }\n",
       "\n",
       "    .dataframe thead th {\n",
       "        text-align: right;\n",
       "    }\n",
       "</style>\n",
       "<table border=\"1\" class=\"dataframe\">\n",
       "  <thead>\n",
       "    <tr style=\"text-align: right;\">\n",
       "      <th></th>\n",
       "      <th>netload_kWh</th>\n",
       "    </tr>\n",
       "    <tr>\n",
       "      <th>datetime</th>\n",
       "      <th></th>\n",
       "    </tr>\n",
       "  </thead>\n",
       "  <tbody>\n",
       "    <tr>\n",
       "      <th>2021-05-31 14:00:00</th>\n",
       "      <td>3.666573</td>\n",
       "    </tr>\n",
       "    <tr>\n",
       "      <th>2021-05-31 14:05:00</th>\n",
       "      <td>4.100584</td>\n",
       "    </tr>\n",
       "    <tr>\n",
       "      <th>2021-05-31 14:10:00</th>\n",
       "      <td>3.763463</td>\n",
       "    </tr>\n",
       "    <tr>\n",
       "      <th>2021-05-31 14:15:00</th>\n",
       "      <td>3.747620</td>\n",
       "    </tr>\n",
       "    <tr>\n",
       "      <th>2021-05-31 14:20:00</th>\n",
       "      <td>3.522670</td>\n",
       "    </tr>\n",
       "    <tr>\n",
       "      <th>...</th>\n",
       "      <td>...</td>\n",
       "    </tr>\n",
       "    <tr>\n",
       "      <th>2024-07-31 23:35:00</th>\n",
       "      <td>10.185298</td>\n",
       "    </tr>\n",
       "    <tr>\n",
       "      <th>2024-07-31 23:40:00</th>\n",
       "      <td>9.884927</td>\n",
       "    </tr>\n",
       "    <tr>\n",
       "      <th>2024-07-31 23:45:00</th>\n",
       "      <td>10.010298</td>\n",
       "    </tr>\n",
       "    <tr>\n",
       "      <th>2024-07-31 23:50:00</th>\n",
       "      <td>9.690590</td>\n",
       "    </tr>\n",
       "    <tr>\n",
       "      <th>2024-07-31 23:55:00</th>\n",
       "      <td>9.478875</td>\n",
       "    </tr>\n",
       "  </tbody>\n",
       "</table>\n",
       "<p>337572 rows × 1 columns</p>\n",
       "</div>"
      ],
      "text/plain": [
       "                     netload_kWh\n",
       "datetime                        \n",
       "2021-05-31 14:00:00     3.666573\n",
       "2021-05-31 14:05:00     4.100584\n",
       "2021-05-31 14:10:00     3.763463\n",
       "2021-05-31 14:15:00     3.747620\n",
       "2021-05-31 14:20:00     3.522670\n",
       "...                          ...\n",
       "2024-07-31 23:35:00    10.185298\n",
       "2024-07-31 23:40:00     9.884927\n",
       "2024-07-31 23:45:00    10.010298\n",
       "2024-07-31 23:50:00     9.690590\n",
       "2024-07-31 23:55:00     9.478875\n",
       "\n",
       "[337572 rows x 1 columns]"
      ]
     },
     "execution_count": 15,
     "metadata": {},
     "output_type": "execute_result"
    }
   ],
   "source": [
    "aggregate_df"
   ]
  },
  {
   "cell_type": "code",
   "execution_count": 12,
   "id": "eeed91b9",
   "metadata": {},
   "outputs": [
    {
     "ename": "KeyError",
     "evalue": "'unix_time'",
     "output_type": "error",
     "traceback": [
      "\u001b[1;31m---------------------------------------------------------------------------\u001b[0m",
      "\u001b[1;31mKeyError\u001b[0m                                  Traceback (most recent call last)",
      "File \u001b[1;32mc:\\Users\\z5404477\\OneDrive - UNSW\\04_Workspace\\2. WIP\\to Github\\.venv\\Lib\\site-packages\\pandas\\core\\indexes\\base.py:3805\u001b[0m, in \u001b[0;36mIndex.get_loc\u001b[1;34m(self, key)\u001b[0m\n\u001b[0;32m   3804\u001b[0m \u001b[38;5;28;01mtry\u001b[39;00m:\n\u001b[1;32m-> 3805\u001b[0m     \u001b[38;5;28;01mreturn\u001b[39;00m \u001b[38;5;28;43mself\u001b[39;49m\u001b[38;5;241;43m.\u001b[39;49m\u001b[43m_engine\u001b[49m\u001b[38;5;241;43m.\u001b[39;49m\u001b[43mget_loc\u001b[49m\u001b[43m(\u001b[49m\u001b[43mcasted_key\u001b[49m\u001b[43m)\u001b[49m\n\u001b[0;32m   3806\u001b[0m \u001b[38;5;28;01mexcept\u001b[39;00m \u001b[38;5;167;01mKeyError\u001b[39;00m \u001b[38;5;28;01mas\u001b[39;00m err:\n",
      "File \u001b[1;32mindex.pyx:167\u001b[0m, in \u001b[0;36mpandas._libs.index.IndexEngine.get_loc\u001b[1;34m()\u001b[0m\n",
      "File \u001b[1;32mindex.pyx:196\u001b[0m, in \u001b[0;36mpandas._libs.index.IndexEngine.get_loc\u001b[1;34m()\u001b[0m\n",
      "File \u001b[1;32mpandas\\\\_libs\\\\hashtable_class_helper.pxi:7081\u001b[0m, in \u001b[0;36mpandas._libs.hashtable.PyObjectHashTable.get_item\u001b[1;34m()\u001b[0m\n",
      "File \u001b[1;32mpandas\\\\_libs\\\\hashtable_class_helper.pxi:7089\u001b[0m, in \u001b[0;36mpandas._libs.hashtable.PyObjectHashTable.get_item\u001b[1;34m()\u001b[0m\n",
      "\u001b[1;31mKeyError\u001b[0m: 'unix_time'",
      "\nThe above exception was the direct cause of the following exception:\n",
      "\u001b[1;31mKeyError\u001b[0m                                  Traceback (most recent call last)",
      "Cell \u001b[1;32mIn[12], line 1\u001b[0m\n\u001b[1;32m----> 1\u001b[0m aggregate_df[\u001b[38;5;124m'\u001b[39m\u001b[38;5;124mdatetime\u001b[39m\u001b[38;5;124m'\u001b[39m] \u001b[38;5;241m=\u001b[39m pd\u001b[38;5;241m.\u001b[39mto_datetime(\u001b[43maggregate_df\u001b[49m\u001b[43m[\u001b[49m\u001b[38;5;124;43m'\u001b[39;49m\u001b[38;5;124;43munix_time\u001b[39;49m\u001b[38;5;124;43m'\u001b[39;49m\u001b[43m]\u001b[49m, unit\u001b[38;5;241m=\u001b[39m\u001b[38;5;124m'\u001b[39m\u001b[38;5;124ms\u001b[39m\u001b[38;5;124m'\u001b[39m)\n\u001b[0;32m      2\u001b[0m aggregate_df\u001b[38;5;241m.\u001b[39mdrop(columns\u001b[38;5;241m=\u001b[39m[\u001b[38;5;124m'\u001b[39m\u001b[38;5;124munix_time\u001b[39m\u001b[38;5;124m'\u001b[39m], inplace\u001b[38;5;241m=\u001b[39m\u001b[38;5;28;01mTrue\u001b[39;00m)\n\u001b[0;32m      3\u001b[0m aggregate_df\u001b[38;5;241m.\u001b[39mset_index(\u001b[38;5;124m'\u001b[39m\u001b[38;5;124mdatetime\u001b[39m\u001b[38;5;124m'\u001b[39m, inplace\u001b[38;5;241m=\u001b[39m\u001b[38;5;28;01mTrue\u001b[39;00m)\n",
      "File \u001b[1;32mc:\\Users\\z5404477\\OneDrive - UNSW\\04_Workspace\\2. WIP\\to Github\\.venv\\Lib\\site-packages\\pandas\\core\\frame.py:4102\u001b[0m, in \u001b[0;36mDataFrame.__getitem__\u001b[1;34m(self, key)\u001b[0m\n\u001b[0;32m   4100\u001b[0m \u001b[38;5;28;01mif\u001b[39;00m \u001b[38;5;28mself\u001b[39m\u001b[38;5;241m.\u001b[39mcolumns\u001b[38;5;241m.\u001b[39mnlevels \u001b[38;5;241m>\u001b[39m \u001b[38;5;241m1\u001b[39m:\n\u001b[0;32m   4101\u001b[0m     \u001b[38;5;28;01mreturn\u001b[39;00m \u001b[38;5;28mself\u001b[39m\u001b[38;5;241m.\u001b[39m_getitem_multilevel(key)\n\u001b[1;32m-> 4102\u001b[0m indexer \u001b[38;5;241m=\u001b[39m \u001b[38;5;28;43mself\u001b[39;49m\u001b[38;5;241;43m.\u001b[39;49m\u001b[43mcolumns\u001b[49m\u001b[38;5;241;43m.\u001b[39;49m\u001b[43mget_loc\u001b[49m\u001b[43m(\u001b[49m\u001b[43mkey\u001b[49m\u001b[43m)\u001b[49m\n\u001b[0;32m   4103\u001b[0m \u001b[38;5;28;01mif\u001b[39;00m is_integer(indexer):\n\u001b[0;32m   4104\u001b[0m     indexer \u001b[38;5;241m=\u001b[39m [indexer]\n",
      "File \u001b[1;32mc:\\Users\\z5404477\\OneDrive - UNSW\\04_Workspace\\2. WIP\\to Github\\.venv\\Lib\\site-packages\\pandas\\core\\indexes\\base.py:3812\u001b[0m, in \u001b[0;36mIndex.get_loc\u001b[1;34m(self, key)\u001b[0m\n\u001b[0;32m   3807\u001b[0m     \u001b[38;5;28;01mif\u001b[39;00m \u001b[38;5;28misinstance\u001b[39m(casted_key, \u001b[38;5;28mslice\u001b[39m) \u001b[38;5;129;01mor\u001b[39;00m (\n\u001b[0;32m   3808\u001b[0m         \u001b[38;5;28misinstance\u001b[39m(casted_key, abc\u001b[38;5;241m.\u001b[39mIterable)\n\u001b[0;32m   3809\u001b[0m         \u001b[38;5;129;01mand\u001b[39;00m \u001b[38;5;28many\u001b[39m(\u001b[38;5;28misinstance\u001b[39m(x, \u001b[38;5;28mslice\u001b[39m) \u001b[38;5;28;01mfor\u001b[39;00m x \u001b[38;5;129;01min\u001b[39;00m casted_key)\n\u001b[0;32m   3810\u001b[0m     ):\n\u001b[0;32m   3811\u001b[0m         \u001b[38;5;28;01mraise\u001b[39;00m InvalidIndexError(key)\n\u001b[1;32m-> 3812\u001b[0m     \u001b[38;5;28;01mraise\u001b[39;00m \u001b[38;5;167;01mKeyError\u001b[39;00m(key) \u001b[38;5;28;01mfrom\u001b[39;00m \u001b[38;5;21;01merr\u001b[39;00m\n\u001b[0;32m   3813\u001b[0m \u001b[38;5;28;01mexcept\u001b[39;00m \u001b[38;5;167;01mTypeError\u001b[39;00m:\n\u001b[0;32m   3814\u001b[0m     \u001b[38;5;66;03m# If we have a listlike key, _check_indexing_error will raise\u001b[39;00m\n\u001b[0;32m   3815\u001b[0m     \u001b[38;5;66;03m#  InvalidIndexError. Otherwise we fall through and re-raise\u001b[39;00m\n\u001b[0;32m   3816\u001b[0m     \u001b[38;5;66;03m#  the TypeError.\u001b[39;00m\n\u001b[0;32m   3817\u001b[0m     \u001b[38;5;28mself\u001b[39m\u001b[38;5;241m.\u001b[39m_check_indexing_error(key)\n",
      "\u001b[1;31mKeyError\u001b[0m: 'unix_time'"
     ]
    }
   ],
   "source": [
    "aggregate_df['datetime'] = pd.to_datetime(aggregate_df['unix_time'], unit='s')\n",
    "aggregate_df.drop(columns=['unix_time'], inplace=True)\n",
    "aggregate_df.set_index('datetime', inplace=True)\n",
    "aggregate_df.rename(columns={'real_energy': 'netload_kWh'}, inplace=True)\n",
    "aggregate_df['netload_kWh'] = aggregate_df['netload_kWh'] / 1000  # Convert from W to kW"
   ]
  },
  {
   "cell_type": "code",
   "execution_count": 16,
   "id": "6a17aebc",
   "metadata": {},
   "outputs": [],
   "source": [
    "# Filter datetime from 2021-07-01 to 2023-06-30\n",
    "start_date = '2021-07-01 00:00:00'\n",
    "end_date = '2024-06-30 23:59:59'\n",
    "aggregate_df_3years = aggregate_df[(aggregate_df.index >= start_date) & (aggregate_df.index <= end_date)]"
   ]
  },
  {
   "cell_type": "code",
   "execution_count": 17,
   "id": "52f87f54",
   "metadata": {},
   "outputs": [
    {
     "data": {
      "application/vnd.microsoft.datawrangler.viewer.v0+json": {
       "columns": [
        {
         "name": "datetime",
         "rawType": "datetime64[ns]",
         "type": "datetime"
        },
        {
         "name": "netload_kWh",
         "rawType": "float64",
         "type": "float"
        }
       ],
       "ref": "f52f6385-bb05-4e09-9154-40d75f8bd819",
       "rows": [
        [
         "2021-07-01 00:00:00",
         "9.2261468"
        ],
        [
         "2021-07-01 00:05:00",
         "8.8942642"
        ],
        [
         "2021-07-01 00:10:00",
         "8.4826515"
        ],
        [
         "2021-07-01 00:15:00",
         "9.076699399999999"
        ],
        [
         "2021-07-01 00:20:00",
         "9.071747799999999"
        ],
        [
         "2021-07-01 00:25:00",
         "8.4052658"
        ],
        [
         "2021-07-01 00:30:00",
         "8.880492"
        ],
        [
         "2021-07-01 00:35:00",
         "8.8898292"
        ],
        [
         "2021-07-01 00:40:00",
         "8.3793579"
        ],
        [
         "2021-07-01 00:45:00",
         "8.8984224"
        ],
        [
         "2021-07-01 00:50:00",
         "8.584822"
        ],
        [
         "2021-07-01 00:55:00",
         "8.3343834"
        ],
        [
         "2021-07-01 01:00:00",
         "8.4360577"
        ],
        [
         "2021-07-01 01:05:00",
         "9.7463678"
        ],
        [
         "2021-07-01 01:10:00",
         "8.958960999999999"
        ],
        [
         "2021-07-01 01:15:00",
         "9.0220686"
        ],
        [
         "2021-07-01 01:20:00",
         "8.3584963"
        ],
        [
         "2021-07-01 01:25:00",
         "8.587667600000001"
        ],
        [
         "2021-07-01 01:30:00",
         "8.4300333"
        ],
        [
         "2021-07-01 01:35:00",
         "6.3486093"
        ],
        [
         "2021-07-01 01:40:00",
         "5.0510541"
        ],
        [
         "2021-07-01 01:45:00",
         "4.8585844"
        ],
        [
         "2021-07-01 01:50:00",
         "4.740291"
        ],
        [
         "2021-07-01 01:55:00",
         "5.125558799999999"
        ],
        [
         "2021-07-01 02:00:00",
         "4.1969894000000005"
        ],
        [
         "2021-07-01 02:05:00",
         "3.29795"
        ],
        [
         "2021-07-01 02:10:00",
         "3.9200275"
        ],
        [
         "2021-07-01 02:15:00",
         "5.304437"
        ],
        [
         "2021-07-01 02:20:00",
         "5.8878501"
        ],
        [
         "2021-07-01 02:25:00",
         "6.5032515"
        ],
        [
         "2021-07-01 02:30:00",
         "6.1898032"
        ],
        [
         "2021-07-01 02:35:00",
         "5.2879904"
        ],
        [
         "2021-07-01 02:40:00",
         "4.385362"
        ],
        [
         "2021-07-01 02:45:00",
         "2.7906066000000003"
        ],
        [
         "2021-07-01 02:50:00",
         "2.5889589"
        ],
        [
         "2021-07-01 02:55:00",
         "3.2226313"
        ],
        [
         "2021-07-01 03:00:00",
         "3.1664448000000003"
        ],
        [
         "2021-07-01 03:05:00",
         "2.202186"
        ],
        [
         "2021-07-01 03:10:00",
         "2.885767"
        ],
        [
         "2021-07-01 03:15:00",
         "2.9973391"
        ],
        [
         "2021-07-01 03:20:00",
         "3.4715208000000004"
        ],
        [
         "2021-07-01 03:25:00",
         "4.3995738"
        ],
        [
         "2021-07-01 03:30:00",
         "4.7550166"
        ],
        [
         "2021-07-01 03:35:00",
         "5.106840500000001"
        ],
        [
         "2021-07-01 03:40:00",
         "5.760485399999999"
        ],
        [
         "2021-07-01 03:45:00",
         "4.8882859"
        ],
        [
         "2021-07-01 03:50:00",
         "6.1746342"
        ],
        [
         "2021-07-01 03:55:00",
         "5.826844199999999"
        ],
        [
         "2021-07-01 04:00:00",
         "4.8451147"
        ],
        [
         "2021-07-01 04:05:00",
         "5.3292531"
        ]
       ],
       "shape": {
        "columns": 1,
        "rows": 319764
       }
      },
      "text/html": [
       "<div>\n",
       "<style scoped>\n",
       "    .dataframe tbody tr th:only-of-type {\n",
       "        vertical-align: middle;\n",
       "    }\n",
       "\n",
       "    .dataframe tbody tr th {\n",
       "        vertical-align: top;\n",
       "    }\n",
       "\n",
       "    .dataframe thead th {\n",
       "        text-align: right;\n",
       "    }\n",
       "</style>\n",
       "<table border=\"1\" class=\"dataframe\">\n",
       "  <thead>\n",
       "    <tr style=\"text-align: right;\">\n",
       "      <th></th>\n",
       "      <th>netload_kWh</th>\n",
       "    </tr>\n",
       "    <tr>\n",
       "      <th>datetime</th>\n",
       "      <th></th>\n",
       "    </tr>\n",
       "  </thead>\n",
       "  <tbody>\n",
       "    <tr>\n",
       "      <th>2021-07-01 00:00:00</th>\n",
       "      <td>9.226147</td>\n",
       "    </tr>\n",
       "    <tr>\n",
       "      <th>2021-07-01 00:05:00</th>\n",
       "      <td>8.894264</td>\n",
       "    </tr>\n",
       "    <tr>\n",
       "      <th>2021-07-01 00:10:00</th>\n",
       "      <td>8.482651</td>\n",
       "    </tr>\n",
       "    <tr>\n",
       "      <th>2021-07-01 00:15:00</th>\n",
       "      <td>9.076699</td>\n",
       "    </tr>\n",
       "    <tr>\n",
       "      <th>2021-07-01 00:20:00</th>\n",
       "      <td>9.071748</td>\n",
       "    </tr>\n",
       "    <tr>\n",
       "      <th>...</th>\n",
       "      <td>...</td>\n",
       "    </tr>\n",
       "    <tr>\n",
       "      <th>2024-06-30 23:35:00</th>\n",
       "      <td>0.418900</td>\n",
       "    </tr>\n",
       "    <tr>\n",
       "      <th>2024-06-30 23:40:00</th>\n",
       "      <td>0.794805</td>\n",
       "    </tr>\n",
       "    <tr>\n",
       "      <th>2024-06-30 23:45:00</th>\n",
       "      <td>0.018309</td>\n",
       "    </tr>\n",
       "    <tr>\n",
       "      <th>2024-06-30 23:50:00</th>\n",
       "      <td>-0.181203</td>\n",
       "    </tr>\n",
       "    <tr>\n",
       "      <th>2024-06-30 23:55:00</th>\n",
       "      <td>-0.190047</td>\n",
       "    </tr>\n",
       "  </tbody>\n",
       "</table>\n",
       "<p>319764 rows × 1 columns</p>\n",
       "</div>"
      ],
      "text/plain": [
       "                     netload_kWh\n",
       "datetime                        \n",
       "2021-07-01 00:00:00     9.226147\n",
       "2021-07-01 00:05:00     8.894264\n",
       "2021-07-01 00:10:00     8.482651\n",
       "2021-07-01 00:15:00     9.076699\n",
       "2021-07-01 00:20:00     9.071748\n",
       "...                          ...\n",
       "2024-06-30 23:35:00     0.418900\n",
       "2024-06-30 23:40:00     0.794805\n",
       "2024-06-30 23:45:00     0.018309\n",
       "2024-06-30 23:50:00    -0.181203\n",
       "2024-06-30 23:55:00    -0.190047\n",
       "\n",
       "[319764 rows x 1 columns]"
      ]
     },
     "execution_count": 17,
     "metadata": {},
     "output_type": "execute_result"
    }
   ],
   "source": [
    "aggregate_df_3years"
   ]
  },
  {
   "cell_type": "code",
   "execution_count": 18,
   "id": "21d55c5b",
   "metadata": {},
   "outputs": [
    {
     "name": "stderr",
     "output_type": "stream",
     "text": [
      "C:\\Users\\z5404477\\AppData\\Local\\Temp\\ipykernel_42832\\1799314335.py:1: SettingWithCopyWarning: \n",
      "A value is trying to be set on a copy of a slice from a DataFrame.\n",
      "Try using .loc[row_indexer,col_indexer] = value instead\n",
      "\n",
      "See the caveats in the documentation: https://pandas.pydata.org/pandas-docs/stable/user_guide/indexing.html#returning-a-view-versus-a-copy\n",
      "  aggregate_df_3years['netload_kW'] = aggregate_df_3years['netload_kWh'] / (5/60)\n",
      "C:\\Users\\z5404477\\AppData\\Local\\Temp\\ipykernel_42832\\1799314335.py:2: SettingWithCopyWarning: \n",
      "A value is trying to be set on a copy of a slice from a DataFrame\n",
      "\n",
      "See the caveats in the documentation: https://pandas.pydata.org/pandas-docs/stable/user_guide/indexing.html#returning-a-view-versus-a-copy\n",
      "  aggregate_df_3years.drop(columns=['netload_kWh'], inplace=True)\n"
     ]
    }
   ],
   "source": [
    "aggregate_df_3years['netload_kW'] = aggregate_df_3years['netload_kWh'] / (5/60)\n",
    "aggregate_df_3years.drop(columns=['netload_kWh'], inplace=True)"
   ]
  },
  {
   "cell_type": "code",
   "execution_count": 19,
   "id": "907e312a",
   "metadata": {},
   "outputs": [],
   "source": [
    "#drop duplicates on datetime index\n",
    "aggregate_df_3years = aggregate_df_3years[~aggregate_df_3years.index.duplicated(keep='first')]"
   ]
  },
  {
   "cell_type": "code",
   "execution_count": 21,
   "id": "5a049f12",
   "metadata": {},
   "outputs": [
    {
     "data": {
      "application/vnd.microsoft.datawrangler.viewer.v0+json": {
       "columns": [
        {
         "name": "datetime",
         "rawType": "datetime64[ns]",
         "type": "datetime"
        },
        {
         "name": "netload_kW",
         "rawType": "float64",
         "type": "float"
        }
       ],
       "ref": "020f5d4c-9510-4fbb-84c3-2289de03a16b",
       "rows": [
        [
         "2021-07-01 00:00:00",
         "110.71376160000001"
        ],
        [
         "2021-07-01 00:05:00",
         "106.73117040000001"
        ],
        [
         "2021-07-01 00:10:00",
         "101.79181799999999"
        ],
        [
         "2021-07-01 00:15:00",
         "108.92039279999999"
        ],
        [
         "2021-07-01 00:20:00",
         "108.8609736"
        ],
        [
         "2021-07-01 00:25:00",
         "100.86318960000001"
        ],
        [
         "2021-07-01 00:30:00",
         "106.565904"
        ],
        [
         "2021-07-01 00:35:00",
         "106.6779504"
        ],
        [
         "2021-07-01 00:40:00",
         "100.55229480000001"
        ],
        [
         "2021-07-01 00:45:00",
         "106.7810688"
        ],
        [
         "2021-07-01 00:50:00",
         "103.01786400000002"
        ],
        [
         "2021-07-01 00:55:00",
         "100.0126008"
        ],
        [
         "2021-07-01 01:00:00",
         "101.23269239999999"
        ],
        [
         "2021-07-01 01:05:00",
         "116.9564136"
        ],
        [
         "2021-07-01 01:10:00",
         "107.50753199999998"
        ],
        [
         "2021-07-01 01:15:00",
         "108.26482320000001"
        ],
        [
         "2021-07-01 01:20:00",
         "100.30195560000001"
        ],
        [
         "2021-07-01 01:25:00",
         "103.05201120000002"
        ],
        [
         "2021-07-01 01:30:00",
         "101.1603996"
        ],
        [
         "2021-07-01 01:35:00",
         "76.1833116"
        ],
        [
         "2021-07-01 01:40:00",
         "60.6126492"
        ],
        [
         "2021-07-01 01:45:00",
         "58.3030128"
        ],
        [
         "2021-07-01 01:50:00",
         "56.883492000000004"
        ],
        [
         "2021-07-01 01:55:00",
         "61.5067056"
        ],
        [
         "2021-07-01 02:00:00",
         "50.36387280000001"
        ],
        [
         "2021-07-01 02:05:00",
         "39.5754"
        ],
        [
         "2021-07-01 02:10:00",
         "47.040330000000004"
        ],
        [
         "2021-07-01 02:15:00",
         "63.653244"
        ],
        [
         "2021-07-01 02:20:00",
         "70.6542012"
        ],
        [
         "2021-07-01 02:25:00",
         "78.03901800000001"
        ],
        [
         "2021-07-01 02:30:00",
         "74.2776384"
        ],
        [
         "2021-07-01 02:35:00",
         "63.4558848"
        ],
        [
         "2021-07-01 02:40:00",
         "52.624344"
        ],
        [
         "2021-07-01 02:45:00",
         "33.4872792"
        ],
        [
         "2021-07-01 02:50:00",
         "31.067506800000004"
        ],
        [
         "2021-07-01 02:55:00",
         "38.671575600000004"
        ],
        [
         "2021-07-01 03:00:00",
         "37.99733760000001"
        ],
        [
         "2021-07-01 03:05:00",
         "26.426232000000002"
        ],
        [
         "2021-07-01 03:10:00",
         "34.629204"
        ],
        [
         "2021-07-01 03:15:00",
         "35.9680692"
        ],
        [
         "2021-07-01 03:20:00",
         "41.658249600000005"
        ],
        [
         "2021-07-01 03:25:00",
         "52.7948856"
        ],
        [
         "2021-07-01 03:30:00",
         "57.06019920000001"
        ],
        [
         "2021-07-01 03:35:00",
         "61.28208600000001"
        ],
        [
         "2021-07-01 03:40:00",
         "69.1258248"
        ],
        [
         "2021-07-01 03:45:00",
         "58.659430799999996"
        ],
        [
         "2021-07-01 03:50:00",
         "74.0956104"
        ],
        [
         "2021-07-01 03:55:00",
         "69.9221304"
        ],
        [
         "2021-07-01 04:00:00",
         "58.1413764"
        ],
        [
         "2021-07-01 04:05:00",
         "63.9510372"
        ]
       ],
       "shape": {
        "columns": 1,
        "rows": 315600
       }
      },
      "text/html": [
       "<div>\n",
       "<style scoped>\n",
       "    .dataframe tbody tr th:only-of-type {\n",
       "        vertical-align: middle;\n",
       "    }\n",
       "\n",
       "    .dataframe tbody tr th {\n",
       "        vertical-align: top;\n",
       "    }\n",
       "\n",
       "    .dataframe thead th {\n",
       "        text-align: right;\n",
       "    }\n",
       "</style>\n",
       "<table border=\"1\" class=\"dataframe\">\n",
       "  <thead>\n",
       "    <tr style=\"text-align: right;\">\n",
       "      <th></th>\n",
       "      <th>netload_kW</th>\n",
       "    </tr>\n",
       "    <tr>\n",
       "      <th>datetime</th>\n",
       "      <th></th>\n",
       "    </tr>\n",
       "  </thead>\n",
       "  <tbody>\n",
       "    <tr>\n",
       "      <th>2021-07-01 00:00:00</th>\n",
       "      <td>110.713762</td>\n",
       "    </tr>\n",
       "    <tr>\n",
       "      <th>2021-07-01 00:05:00</th>\n",
       "      <td>106.731170</td>\n",
       "    </tr>\n",
       "    <tr>\n",
       "      <th>2021-07-01 00:10:00</th>\n",
       "      <td>101.791818</td>\n",
       "    </tr>\n",
       "    <tr>\n",
       "      <th>2021-07-01 00:15:00</th>\n",
       "      <td>108.920393</td>\n",
       "    </tr>\n",
       "    <tr>\n",
       "      <th>2021-07-01 00:20:00</th>\n",
       "      <td>108.860974</td>\n",
       "    </tr>\n",
       "    <tr>\n",
       "      <th>...</th>\n",
       "      <td>...</td>\n",
       "    </tr>\n",
       "    <tr>\n",
       "      <th>2024-06-30 23:35:00</th>\n",
       "      <td>111.746396</td>\n",
       "    </tr>\n",
       "    <tr>\n",
       "      <th>2024-06-30 23:40:00</th>\n",
       "      <td>106.820015</td>\n",
       "    </tr>\n",
       "    <tr>\n",
       "      <th>2024-06-30 23:45:00</th>\n",
       "      <td>101.090082</td>\n",
       "    </tr>\n",
       "    <tr>\n",
       "      <th>2024-06-30 23:50:00</th>\n",
       "      <td>100.052526</td>\n",
       "    </tr>\n",
       "    <tr>\n",
       "      <th>2024-06-30 23:55:00</th>\n",
       "      <td>103.528916</td>\n",
       "    </tr>\n",
       "  </tbody>\n",
       "</table>\n",
       "<p>315600 rows × 1 columns</p>\n",
       "</div>"
      ],
      "text/plain": [
       "                     netload_kW\n",
       "datetime                       \n",
       "2021-07-01 00:00:00  110.713762\n",
       "2021-07-01 00:05:00  106.731170\n",
       "2021-07-01 00:10:00  101.791818\n",
       "2021-07-01 00:15:00  108.920393\n",
       "2021-07-01 00:20:00  108.860974\n",
       "...                         ...\n",
       "2024-06-30 23:35:00  111.746396\n",
       "2024-06-30 23:40:00  106.820015\n",
       "2024-06-30 23:45:00  101.090082\n",
       "2024-06-30 23:50:00  100.052526\n",
       "2024-06-30 23:55:00  103.528916\n",
       "\n",
       "[315600 rows x 1 columns]"
      ]
     },
     "execution_count": 21,
     "metadata": {},
     "output_type": "execute_result"
    }
   ],
   "source": [
    "aggregate_df_3years"
   ]
  },
  {
   "cell_type": "code",
   "execution_count": 22,
   "id": "70ea63a3",
   "metadata": {},
   "outputs": [],
   "source": [
    "# create an interval data from 2021-07-01 to 2024-06-30 with 5 minute interval\n",
    "date_range = pd.date_range(start=start_date, end=end_date, freq='5min')"
   ]
  },
  {
   "cell_type": "code",
   "execution_count": 23,
   "id": "4364f710",
   "metadata": {},
   "outputs": [],
   "source": [
    "aggregate_df_3years_complete = pd.DataFrame(index=date_range)\n",
    "# merge the aggregate_df_3years with the date_range\n",
    "aggregate_df_3years_complete = aggregate_df_3years_complete.merge(aggregate_df_3years, left_index=True, right_index=True, how='left')"
   ]
  },
  {
   "cell_type": "code",
   "execution_count": 24,
   "id": "c897eb89",
   "metadata": {},
   "outputs": [
    {
     "data": {
      "application/vnd.microsoft.datawrangler.viewer.v0+json": {
       "columns": [
        {
         "name": "index",
         "rawType": "datetime64[ns]",
         "type": "datetime"
        },
        {
         "name": "netload_kW",
         "rawType": "float64",
         "type": "float"
        }
       ],
       "ref": "eb6ee072-fb56-405a-a397-76fa509a79d8",
       "rows": [
        [
         "2021-07-01 00:00:00",
         "110.71376160000001"
        ],
        [
         "2021-07-01 00:05:00",
         "106.73117040000001"
        ],
        [
         "2021-07-01 00:10:00",
         "101.79181799999999"
        ],
        [
         "2021-07-01 00:15:00",
         "108.92039279999999"
        ],
        [
         "2021-07-01 00:20:00",
         "108.8609736"
        ],
        [
         "2021-07-01 00:25:00",
         "100.86318960000001"
        ],
        [
         "2021-07-01 00:30:00",
         "106.565904"
        ],
        [
         "2021-07-01 00:35:00",
         "106.6779504"
        ],
        [
         "2021-07-01 00:40:00",
         "100.55229480000001"
        ],
        [
         "2021-07-01 00:45:00",
         "106.7810688"
        ],
        [
         "2021-07-01 00:50:00",
         "103.01786400000002"
        ],
        [
         "2021-07-01 00:55:00",
         "100.0126008"
        ],
        [
         "2021-07-01 01:00:00",
         "101.23269239999999"
        ],
        [
         "2021-07-01 01:05:00",
         "116.9564136"
        ],
        [
         "2021-07-01 01:10:00",
         "107.50753199999998"
        ],
        [
         "2021-07-01 01:15:00",
         "108.26482320000001"
        ],
        [
         "2021-07-01 01:20:00",
         "100.30195560000001"
        ],
        [
         "2021-07-01 01:25:00",
         "103.05201120000002"
        ],
        [
         "2021-07-01 01:30:00",
         "101.1603996"
        ],
        [
         "2021-07-01 01:35:00",
         "76.1833116"
        ],
        [
         "2021-07-01 01:40:00",
         "60.6126492"
        ],
        [
         "2021-07-01 01:45:00",
         "58.3030128"
        ],
        [
         "2021-07-01 01:50:00",
         "56.883492000000004"
        ],
        [
         "2021-07-01 01:55:00",
         "61.5067056"
        ],
        [
         "2021-07-01 02:00:00",
         "50.36387280000001"
        ],
        [
         "2021-07-01 02:05:00",
         "39.5754"
        ],
        [
         "2021-07-01 02:10:00",
         "47.040330000000004"
        ],
        [
         "2021-07-01 02:15:00",
         "63.653244"
        ],
        [
         "2021-07-01 02:20:00",
         "70.6542012"
        ],
        [
         "2021-07-01 02:25:00",
         "78.03901800000001"
        ],
        [
         "2021-07-01 02:30:00",
         "74.2776384"
        ],
        [
         "2021-07-01 02:35:00",
         "63.4558848"
        ],
        [
         "2021-07-01 02:40:00",
         "52.624344"
        ],
        [
         "2021-07-01 02:45:00",
         "33.4872792"
        ],
        [
         "2021-07-01 02:50:00",
         "31.067506800000004"
        ],
        [
         "2021-07-01 02:55:00",
         "38.671575600000004"
        ],
        [
         "2021-07-01 03:00:00",
         "37.99733760000001"
        ],
        [
         "2021-07-01 03:05:00",
         "26.426232000000002"
        ],
        [
         "2021-07-01 03:10:00",
         "34.629204"
        ],
        [
         "2021-07-01 03:15:00",
         "35.9680692"
        ],
        [
         "2021-07-01 03:20:00",
         "41.658249600000005"
        ],
        [
         "2021-07-01 03:25:00",
         "52.7948856"
        ],
        [
         "2021-07-01 03:30:00",
         "57.06019920000001"
        ],
        [
         "2021-07-01 03:35:00",
         "61.28208600000001"
        ],
        [
         "2021-07-01 03:40:00",
         "69.1258248"
        ],
        [
         "2021-07-01 03:45:00",
         "58.659430799999996"
        ],
        [
         "2021-07-01 03:50:00",
         "74.0956104"
        ],
        [
         "2021-07-01 03:55:00",
         "69.9221304"
        ],
        [
         "2021-07-01 04:00:00",
         "58.1413764"
        ],
        [
         "2021-07-01 04:05:00",
         "63.9510372"
        ]
       ],
       "shape": {
        "columns": 1,
        "rows": 315648
       }
      },
      "text/html": [
       "<div>\n",
       "<style scoped>\n",
       "    .dataframe tbody tr th:only-of-type {\n",
       "        vertical-align: middle;\n",
       "    }\n",
       "\n",
       "    .dataframe tbody tr th {\n",
       "        vertical-align: top;\n",
       "    }\n",
       "\n",
       "    .dataframe thead th {\n",
       "        text-align: right;\n",
       "    }\n",
       "</style>\n",
       "<table border=\"1\" class=\"dataframe\">\n",
       "  <thead>\n",
       "    <tr style=\"text-align: right;\">\n",
       "      <th></th>\n",
       "      <th>netload_kW</th>\n",
       "    </tr>\n",
       "  </thead>\n",
       "  <tbody>\n",
       "    <tr>\n",
       "      <th>2021-07-01 00:00:00</th>\n",
       "      <td>110.713762</td>\n",
       "    </tr>\n",
       "    <tr>\n",
       "      <th>2021-07-01 00:05:00</th>\n",
       "      <td>106.731170</td>\n",
       "    </tr>\n",
       "    <tr>\n",
       "      <th>2021-07-01 00:10:00</th>\n",
       "      <td>101.791818</td>\n",
       "    </tr>\n",
       "    <tr>\n",
       "      <th>2021-07-01 00:15:00</th>\n",
       "      <td>108.920393</td>\n",
       "    </tr>\n",
       "    <tr>\n",
       "      <th>2021-07-01 00:20:00</th>\n",
       "      <td>108.860974</td>\n",
       "    </tr>\n",
       "    <tr>\n",
       "      <th>...</th>\n",
       "      <td>...</td>\n",
       "    </tr>\n",
       "    <tr>\n",
       "      <th>2024-06-30 23:35:00</th>\n",
       "      <td>111.746396</td>\n",
       "    </tr>\n",
       "    <tr>\n",
       "      <th>2024-06-30 23:40:00</th>\n",
       "      <td>106.820015</td>\n",
       "    </tr>\n",
       "    <tr>\n",
       "      <th>2024-06-30 23:45:00</th>\n",
       "      <td>101.090082</td>\n",
       "    </tr>\n",
       "    <tr>\n",
       "      <th>2024-06-30 23:50:00</th>\n",
       "      <td>100.052526</td>\n",
       "    </tr>\n",
       "    <tr>\n",
       "      <th>2024-06-30 23:55:00</th>\n",
       "      <td>103.528916</td>\n",
       "    </tr>\n",
       "  </tbody>\n",
       "</table>\n",
       "<p>315648 rows × 1 columns</p>\n",
       "</div>"
      ],
      "text/plain": [
       "                     netload_kW\n",
       "2021-07-01 00:00:00  110.713762\n",
       "2021-07-01 00:05:00  106.731170\n",
       "2021-07-01 00:10:00  101.791818\n",
       "2021-07-01 00:15:00  108.920393\n",
       "2021-07-01 00:20:00  108.860974\n",
       "...                         ...\n",
       "2024-06-30 23:35:00  111.746396\n",
       "2024-06-30 23:40:00  106.820015\n",
       "2024-06-30 23:45:00  101.090082\n",
       "2024-06-30 23:50:00  100.052526\n",
       "2024-06-30 23:55:00  103.528916\n",
       "\n",
       "[315648 rows x 1 columns]"
      ]
     },
     "execution_count": 24,
     "metadata": {},
     "output_type": "execute_result"
    }
   ],
   "source": [
    "aggregate_df_3years_complete"
   ]
  },
  {
   "cell_type": "code",
   "execution_count": 25,
   "id": "f2a97eb8",
   "metadata": {},
   "outputs": [],
   "source": [
    "# see if there are any missing values\n",
    "missing_values = aggregate_df_3years_complete.isnull().sum()\n",
    "\n",
    "# see missing values rows\n",
    "missing_values_rows = aggregate_df_3years_complete[aggregate_df_3years_complete.isnull().any(axis=1)]"
   ]
  },
  {
   "cell_type": "code",
   "execution_count": 26,
   "id": "9f73d9a5",
   "metadata": {},
   "outputs": [
    {
     "data": {
      "application/vnd.microsoft.datawrangler.viewer.v0+json": {
       "columns": [
        {
         "name": "index",
         "rawType": "datetime64[ns]",
         "type": "datetime"
        },
        {
         "name": "netload_kW",
         "rawType": "float64",
         "type": "float"
        }
       ],
       "ref": "55ff1634-ebc4-4d52-82b4-589d83321c8f",
       "rows": [
        [
         "2022-10-02 02:00:00",
         null
        ],
        [
         "2022-10-02 02:05:00",
         null
        ],
        [
         "2022-10-02 02:10:00",
         null
        ],
        [
         "2022-10-02 02:15:00",
         null
        ],
        [
         "2022-10-02 02:20:00",
         null
        ],
        [
         "2022-10-02 02:25:00",
         null
        ],
        [
         "2022-10-02 02:30:00",
         null
        ],
        [
         "2022-10-02 02:35:00",
         null
        ],
        [
         "2022-10-02 02:40:00",
         null
        ],
        [
         "2022-10-02 02:45:00",
         null
        ],
        [
         "2022-10-02 02:50:00",
         null
        ],
        [
         "2022-10-02 02:55:00",
         null
        ],
        [
         "2023-03-31 12:00:00",
         null
        ],
        [
         "2023-03-31 12:05:00",
         null
        ],
        [
         "2023-03-31 12:10:00",
         null
        ],
        [
         "2023-03-31 12:15:00",
         null
        ],
        [
         "2023-03-31 12:20:00",
         null
        ],
        [
         "2023-03-31 12:25:00",
         null
        ],
        [
         "2023-03-31 12:30:00",
         null
        ],
        [
         "2023-03-31 12:35:00",
         null
        ],
        [
         "2023-03-31 12:40:00",
         null
        ],
        [
         "2023-03-31 12:45:00",
         null
        ],
        [
         "2023-03-31 12:50:00",
         null
        ],
        [
         "2023-03-31 12:55:00",
         null
        ],
        [
         "2023-05-31 12:00:00",
         null
        ],
        [
         "2023-05-31 12:05:00",
         null
        ],
        [
         "2023-05-31 12:10:00",
         null
        ],
        [
         "2023-05-31 12:15:00",
         null
        ],
        [
         "2023-05-31 12:20:00",
         null
        ],
        [
         "2023-05-31 12:25:00",
         null
        ],
        [
         "2023-05-31 12:30:00",
         null
        ],
        [
         "2023-05-31 12:35:00",
         null
        ],
        [
         "2023-05-31 12:40:00",
         null
        ],
        [
         "2023-05-31 12:45:00",
         null
        ],
        [
         "2023-05-31 12:50:00",
         null
        ],
        [
         "2023-05-31 12:55:00",
         null
        ],
        [
         "2023-05-31 13:00:00",
         null
        ],
        [
         "2023-05-31 13:05:00",
         null
        ],
        [
         "2023-05-31 13:10:00",
         null
        ],
        [
         "2023-05-31 13:15:00",
         null
        ],
        [
         "2023-05-31 13:20:00",
         null
        ],
        [
         "2023-05-31 13:25:00",
         null
        ],
        [
         "2023-05-31 13:30:00",
         null
        ],
        [
         "2023-05-31 13:35:00",
         null
        ],
        [
         "2023-05-31 13:40:00",
         null
        ],
        [
         "2023-05-31 13:45:00",
         null
        ],
        [
         "2023-05-31 13:50:00",
         null
        ],
        [
         "2023-05-31 13:55:00",
         null
        ]
       ],
       "shape": {
        "columns": 1,
        "rows": 48
       }
      },
      "text/html": [
       "<div>\n",
       "<style scoped>\n",
       "    .dataframe tbody tr th:only-of-type {\n",
       "        vertical-align: middle;\n",
       "    }\n",
       "\n",
       "    .dataframe tbody tr th {\n",
       "        vertical-align: top;\n",
       "    }\n",
       "\n",
       "    .dataframe thead th {\n",
       "        text-align: right;\n",
       "    }\n",
       "</style>\n",
       "<table border=\"1\" class=\"dataframe\">\n",
       "  <thead>\n",
       "    <tr style=\"text-align: right;\">\n",
       "      <th></th>\n",
       "      <th>netload_kW</th>\n",
       "    </tr>\n",
       "  </thead>\n",
       "  <tbody>\n",
       "    <tr>\n",
       "      <th>2022-10-02 02:00:00</th>\n",
       "      <td>NaN</td>\n",
       "    </tr>\n",
       "    <tr>\n",
       "      <th>2022-10-02 02:05:00</th>\n",
       "      <td>NaN</td>\n",
       "    </tr>\n",
       "    <tr>\n",
       "      <th>2022-10-02 02:10:00</th>\n",
       "      <td>NaN</td>\n",
       "    </tr>\n",
       "    <tr>\n",
       "      <th>2022-10-02 02:15:00</th>\n",
       "      <td>NaN</td>\n",
       "    </tr>\n",
       "    <tr>\n",
       "      <th>2022-10-02 02:20:00</th>\n",
       "      <td>NaN</td>\n",
       "    </tr>\n",
       "    <tr>\n",
       "      <th>2022-10-02 02:25:00</th>\n",
       "      <td>NaN</td>\n",
       "    </tr>\n",
       "    <tr>\n",
       "      <th>2022-10-02 02:30:00</th>\n",
       "      <td>NaN</td>\n",
       "    </tr>\n",
       "    <tr>\n",
       "      <th>2022-10-02 02:35:00</th>\n",
       "      <td>NaN</td>\n",
       "    </tr>\n",
       "    <tr>\n",
       "      <th>2022-10-02 02:40:00</th>\n",
       "      <td>NaN</td>\n",
       "    </tr>\n",
       "    <tr>\n",
       "      <th>2022-10-02 02:45:00</th>\n",
       "      <td>NaN</td>\n",
       "    </tr>\n",
       "    <tr>\n",
       "      <th>2022-10-02 02:50:00</th>\n",
       "      <td>NaN</td>\n",
       "    </tr>\n",
       "    <tr>\n",
       "      <th>2022-10-02 02:55:00</th>\n",
       "      <td>NaN</td>\n",
       "    </tr>\n",
       "    <tr>\n",
       "      <th>2023-03-31 12:00:00</th>\n",
       "      <td>NaN</td>\n",
       "    </tr>\n",
       "    <tr>\n",
       "      <th>2023-03-31 12:05:00</th>\n",
       "      <td>NaN</td>\n",
       "    </tr>\n",
       "    <tr>\n",
       "      <th>2023-03-31 12:10:00</th>\n",
       "      <td>NaN</td>\n",
       "    </tr>\n",
       "    <tr>\n",
       "      <th>2023-03-31 12:15:00</th>\n",
       "      <td>NaN</td>\n",
       "    </tr>\n",
       "    <tr>\n",
       "      <th>2023-03-31 12:20:00</th>\n",
       "      <td>NaN</td>\n",
       "    </tr>\n",
       "    <tr>\n",
       "      <th>2023-03-31 12:25:00</th>\n",
       "      <td>NaN</td>\n",
       "    </tr>\n",
       "    <tr>\n",
       "      <th>2023-03-31 12:30:00</th>\n",
       "      <td>NaN</td>\n",
       "    </tr>\n",
       "    <tr>\n",
       "      <th>2023-03-31 12:35:00</th>\n",
       "      <td>NaN</td>\n",
       "    </tr>\n",
       "    <tr>\n",
       "      <th>2023-03-31 12:40:00</th>\n",
       "      <td>NaN</td>\n",
       "    </tr>\n",
       "    <tr>\n",
       "      <th>2023-03-31 12:45:00</th>\n",
       "      <td>NaN</td>\n",
       "    </tr>\n",
       "    <tr>\n",
       "      <th>2023-03-31 12:50:00</th>\n",
       "      <td>NaN</td>\n",
       "    </tr>\n",
       "    <tr>\n",
       "      <th>2023-03-31 12:55:00</th>\n",
       "      <td>NaN</td>\n",
       "    </tr>\n",
       "    <tr>\n",
       "      <th>2023-05-31 12:00:00</th>\n",
       "      <td>NaN</td>\n",
       "    </tr>\n",
       "    <tr>\n",
       "      <th>2023-05-31 12:05:00</th>\n",
       "      <td>NaN</td>\n",
       "    </tr>\n",
       "    <tr>\n",
       "      <th>2023-05-31 12:10:00</th>\n",
       "      <td>NaN</td>\n",
       "    </tr>\n",
       "    <tr>\n",
       "      <th>2023-05-31 12:15:00</th>\n",
       "      <td>NaN</td>\n",
       "    </tr>\n",
       "    <tr>\n",
       "      <th>2023-05-31 12:20:00</th>\n",
       "      <td>NaN</td>\n",
       "    </tr>\n",
       "    <tr>\n",
       "      <th>2023-05-31 12:25:00</th>\n",
       "      <td>NaN</td>\n",
       "    </tr>\n",
       "    <tr>\n",
       "      <th>2023-05-31 12:30:00</th>\n",
       "      <td>NaN</td>\n",
       "    </tr>\n",
       "    <tr>\n",
       "      <th>2023-05-31 12:35:00</th>\n",
       "      <td>NaN</td>\n",
       "    </tr>\n",
       "    <tr>\n",
       "      <th>2023-05-31 12:40:00</th>\n",
       "      <td>NaN</td>\n",
       "    </tr>\n",
       "    <tr>\n",
       "      <th>2023-05-31 12:45:00</th>\n",
       "      <td>NaN</td>\n",
       "    </tr>\n",
       "    <tr>\n",
       "      <th>2023-05-31 12:50:00</th>\n",
       "      <td>NaN</td>\n",
       "    </tr>\n",
       "    <tr>\n",
       "      <th>2023-05-31 12:55:00</th>\n",
       "      <td>NaN</td>\n",
       "    </tr>\n",
       "    <tr>\n",
       "      <th>2023-05-31 13:00:00</th>\n",
       "      <td>NaN</td>\n",
       "    </tr>\n",
       "    <tr>\n",
       "      <th>2023-05-31 13:05:00</th>\n",
       "      <td>NaN</td>\n",
       "    </tr>\n",
       "    <tr>\n",
       "      <th>2023-05-31 13:10:00</th>\n",
       "      <td>NaN</td>\n",
       "    </tr>\n",
       "    <tr>\n",
       "      <th>2023-05-31 13:15:00</th>\n",
       "      <td>NaN</td>\n",
       "    </tr>\n",
       "    <tr>\n",
       "      <th>2023-05-31 13:20:00</th>\n",
       "      <td>NaN</td>\n",
       "    </tr>\n",
       "    <tr>\n",
       "      <th>2023-05-31 13:25:00</th>\n",
       "      <td>NaN</td>\n",
       "    </tr>\n",
       "    <tr>\n",
       "      <th>2023-05-31 13:30:00</th>\n",
       "      <td>NaN</td>\n",
       "    </tr>\n",
       "    <tr>\n",
       "      <th>2023-05-31 13:35:00</th>\n",
       "      <td>NaN</td>\n",
       "    </tr>\n",
       "    <tr>\n",
       "      <th>2023-05-31 13:40:00</th>\n",
       "      <td>NaN</td>\n",
       "    </tr>\n",
       "    <tr>\n",
       "      <th>2023-05-31 13:45:00</th>\n",
       "      <td>NaN</td>\n",
       "    </tr>\n",
       "    <tr>\n",
       "      <th>2023-05-31 13:50:00</th>\n",
       "      <td>NaN</td>\n",
       "    </tr>\n",
       "    <tr>\n",
       "      <th>2023-05-31 13:55:00</th>\n",
       "      <td>NaN</td>\n",
       "    </tr>\n",
       "  </tbody>\n",
       "</table>\n",
       "</div>"
      ],
      "text/plain": [
       "                     netload_kW\n",
       "2022-10-02 02:00:00         NaN\n",
       "2022-10-02 02:05:00         NaN\n",
       "2022-10-02 02:10:00         NaN\n",
       "2022-10-02 02:15:00         NaN\n",
       "2022-10-02 02:20:00         NaN\n",
       "2022-10-02 02:25:00         NaN\n",
       "2022-10-02 02:30:00         NaN\n",
       "2022-10-02 02:35:00         NaN\n",
       "2022-10-02 02:40:00         NaN\n",
       "2022-10-02 02:45:00         NaN\n",
       "2022-10-02 02:50:00         NaN\n",
       "2022-10-02 02:55:00         NaN\n",
       "2023-03-31 12:00:00         NaN\n",
       "2023-03-31 12:05:00         NaN\n",
       "2023-03-31 12:10:00         NaN\n",
       "2023-03-31 12:15:00         NaN\n",
       "2023-03-31 12:20:00         NaN\n",
       "2023-03-31 12:25:00         NaN\n",
       "2023-03-31 12:30:00         NaN\n",
       "2023-03-31 12:35:00         NaN\n",
       "2023-03-31 12:40:00         NaN\n",
       "2023-03-31 12:45:00         NaN\n",
       "2023-03-31 12:50:00         NaN\n",
       "2023-03-31 12:55:00         NaN\n",
       "2023-05-31 12:00:00         NaN\n",
       "2023-05-31 12:05:00         NaN\n",
       "2023-05-31 12:10:00         NaN\n",
       "2023-05-31 12:15:00         NaN\n",
       "2023-05-31 12:20:00         NaN\n",
       "2023-05-31 12:25:00         NaN\n",
       "2023-05-31 12:30:00         NaN\n",
       "2023-05-31 12:35:00         NaN\n",
       "2023-05-31 12:40:00         NaN\n",
       "2023-05-31 12:45:00         NaN\n",
       "2023-05-31 12:50:00         NaN\n",
       "2023-05-31 12:55:00         NaN\n",
       "2023-05-31 13:00:00         NaN\n",
       "2023-05-31 13:05:00         NaN\n",
       "2023-05-31 13:10:00         NaN\n",
       "2023-05-31 13:15:00         NaN\n",
       "2023-05-31 13:20:00         NaN\n",
       "2023-05-31 13:25:00         NaN\n",
       "2023-05-31 13:30:00         NaN\n",
       "2023-05-31 13:35:00         NaN\n",
       "2023-05-31 13:40:00         NaN\n",
       "2023-05-31 13:45:00         NaN\n",
       "2023-05-31 13:50:00         NaN\n",
       "2023-05-31 13:55:00         NaN"
      ]
     },
     "execution_count": 26,
     "metadata": {},
     "output_type": "execute_result"
    }
   ],
   "source": [
    "missing_values_rows"
   ]
  },
  {
   "cell_type": "code",
   "execution_count": 29,
   "id": "50c5e7ca",
   "metadata": {},
   "outputs": [
    {
     "name": "stderr",
     "output_type": "stream",
     "text": [
      "C:\\Users\\z5404477\\AppData\\Local\\Temp\\ipykernel_42832\\2494683093.py:2: FutureWarning: DataFrame.fillna with 'method' is deprecated and will raise in a future version. Use obj.ffill() or obj.bfill() instead.\n",
      "  aggregate_df_3years_complete.fillna(method='ffill', inplace=True)\n"
     ]
    }
   ],
   "source": [
    "# fill missing values with previous value\n",
    "aggregate_df_3years_complete.fillna(method='ffill', inplace=True)"
   ]
  },
  {
   "cell_type": "markdown",
   "id": "ef24443c",
   "metadata": {},
   "source": [
    "# Export Data"
   ]
  },
  {
   "cell_type": "code",
   "execution_count": 36,
   "id": "386e583f",
   "metadata": {},
   "outputs": [],
   "source": [
    "aggregate_df_3years_complete.to_csv('../../../../to Github/data/ds9_aedp_cluster2_5min.csv', index=True, float_format='%.3f')"
   ]
  },
  {
   "cell_type": "markdown",
   "id": "4dcef4a2",
   "metadata": {},
   "source": [
    "# CREATE 30 MINUTELY DATA"
   ]
  },
  {
   "cell_type": "code",
   "execution_count": 33,
   "id": "cd5bbdea",
   "metadata": {},
   "outputs": [
    {
     "data": {
      "application/vnd.microsoft.datawrangler.viewer.v0+json": {
       "columns": [
        {
         "name": "index",
         "rawType": "datetime64[ns]",
         "type": "datetime"
        },
        {
         "name": "netload_kW",
         "rawType": "float64",
         "type": "float"
        }
       ],
       "ref": "34e00f94-0c7e-4c01-8e1c-3fc4e51c703c",
       "rows": [
        [
         "2021-07-01 00:00:00",
         "110.71376160000001"
        ],
        [
         "2021-07-01 00:05:00",
         "106.73117040000001"
        ],
        [
         "2021-07-01 00:10:00",
         "101.79181799999999"
        ],
        [
         "2021-07-01 00:15:00",
         "108.92039279999999"
        ],
        [
         "2021-07-01 00:20:00",
         "108.8609736"
        ],
        [
         "2021-07-01 00:25:00",
         "100.86318960000001"
        ],
        [
         "2021-07-01 00:30:00",
         "106.565904"
        ],
        [
         "2021-07-01 00:35:00",
         "106.6779504"
        ],
        [
         "2021-07-01 00:40:00",
         "100.55229480000001"
        ],
        [
         "2021-07-01 00:45:00",
         "106.7810688"
        ],
        [
         "2021-07-01 00:50:00",
         "103.01786400000002"
        ],
        [
         "2021-07-01 00:55:00",
         "100.0126008"
        ],
        [
         "2021-07-01 01:00:00",
         "101.23269239999999"
        ],
        [
         "2021-07-01 01:05:00",
         "116.9564136"
        ],
        [
         "2021-07-01 01:10:00",
         "107.50753199999998"
        ],
        [
         "2021-07-01 01:15:00",
         "108.26482320000001"
        ],
        [
         "2021-07-01 01:20:00",
         "100.30195560000001"
        ],
        [
         "2021-07-01 01:25:00",
         "103.05201120000002"
        ],
        [
         "2021-07-01 01:30:00",
         "101.1603996"
        ],
        [
         "2021-07-01 01:35:00",
         "76.1833116"
        ],
        [
         "2021-07-01 01:40:00",
         "60.6126492"
        ],
        [
         "2021-07-01 01:45:00",
         "58.3030128"
        ],
        [
         "2021-07-01 01:50:00",
         "56.883492000000004"
        ],
        [
         "2021-07-01 01:55:00",
         "61.5067056"
        ],
        [
         "2021-07-01 02:00:00",
         "50.36387280000001"
        ],
        [
         "2021-07-01 02:05:00",
         "39.5754"
        ],
        [
         "2021-07-01 02:10:00",
         "47.040330000000004"
        ],
        [
         "2021-07-01 02:15:00",
         "63.653244"
        ],
        [
         "2021-07-01 02:20:00",
         "70.6542012"
        ],
        [
         "2021-07-01 02:25:00",
         "78.03901800000001"
        ],
        [
         "2021-07-01 02:30:00",
         "74.2776384"
        ],
        [
         "2021-07-01 02:35:00",
         "63.4558848"
        ],
        [
         "2021-07-01 02:40:00",
         "52.624344"
        ],
        [
         "2021-07-01 02:45:00",
         "33.4872792"
        ],
        [
         "2021-07-01 02:50:00",
         "31.067506800000004"
        ],
        [
         "2021-07-01 02:55:00",
         "38.671575600000004"
        ],
        [
         "2021-07-01 03:00:00",
         "37.99733760000001"
        ],
        [
         "2021-07-01 03:05:00",
         "26.426232000000002"
        ],
        [
         "2021-07-01 03:10:00",
         "34.629204"
        ],
        [
         "2021-07-01 03:15:00",
         "35.9680692"
        ],
        [
         "2021-07-01 03:20:00",
         "41.658249600000005"
        ],
        [
         "2021-07-01 03:25:00",
         "52.7948856"
        ],
        [
         "2021-07-01 03:30:00",
         "57.06019920000001"
        ],
        [
         "2021-07-01 03:35:00",
         "61.28208600000001"
        ],
        [
         "2021-07-01 03:40:00",
         "69.1258248"
        ],
        [
         "2021-07-01 03:45:00",
         "58.659430799999996"
        ],
        [
         "2021-07-01 03:50:00",
         "74.0956104"
        ],
        [
         "2021-07-01 03:55:00",
         "69.9221304"
        ],
        [
         "2021-07-01 04:00:00",
         "58.1413764"
        ],
        [
         "2021-07-01 04:05:00",
         "63.9510372"
        ]
       ],
       "shape": {
        "columns": 1,
        "rows": 315648
       }
      },
      "text/html": [
       "<div>\n",
       "<style scoped>\n",
       "    .dataframe tbody tr th:only-of-type {\n",
       "        vertical-align: middle;\n",
       "    }\n",
       "\n",
       "    .dataframe tbody tr th {\n",
       "        vertical-align: top;\n",
       "    }\n",
       "\n",
       "    .dataframe thead th {\n",
       "        text-align: right;\n",
       "    }\n",
       "</style>\n",
       "<table border=\"1\" class=\"dataframe\">\n",
       "  <thead>\n",
       "    <tr style=\"text-align: right;\">\n",
       "      <th></th>\n",
       "      <th>netload_kW</th>\n",
       "    </tr>\n",
       "  </thead>\n",
       "  <tbody>\n",
       "    <tr>\n",
       "      <th>2021-07-01 00:00:00</th>\n",
       "      <td>110.713762</td>\n",
       "    </tr>\n",
       "    <tr>\n",
       "      <th>2021-07-01 00:05:00</th>\n",
       "      <td>106.731170</td>\n",
       "    </tr>\n",
       "    <tr>\n",
       "      <th>2021-07-01 00:10:00</th>\n",
       "      <td>101.791818</td>\n",
       "    </tr>\n",
       "    <tr>\n",
       "      <th>2021-07-01 00:15:00</th>\n",
       "      <td>108.920393</td>\n",
       "    </tr>\n",
       "    <tr>\n",
       "      <th>2021-07-01 00:20:00</th>\n",
       "      <td>108.860974</td>\n",
       "    </tr>\n",
       "    <tr>\n",
       "      <th>...</th>\n",
       "      <td>...</td>\n",
       "    </tr>\n",
       "    <tr>\n",
       "      <th>2024-06-30 23:35:00</th>\n",
       "      <td>111.746396</td>\n",
       "    </tr>\n",
       "    <tr>\n",
       "      <th>2024-06-30 23:40:00</th>\n",
       "      <td>106.820015</td>\n",
       "    </tr>\n",
       "    <tr>\n",
       "      <th>2024-06-30 23:45:00</th>\n",
       "      <td>101.090082</td>\n",
       "    </tr>\n",
       "    <tr>\n",
       "      <th>2024-06-30 23:50:00</th>\n",
       "      <td>100.052526</td>\n",
       "    </tr>\n",
       "    <tr>\n",
       "      <th>2024-06-30 23:55:00</th>\n",
       "      <td>103.528916</td>\n",
       "    </tr>\n",
       "  </tbody>\n",
       "</table>\n",
       "<p>315648 rows × 1 columns</p>\n",
       "</div>"
      ],
      "text/plain": [
       "                     netload_kW\n",
       "2021-07-01 00:00:00  110.713762\n",
       "2021-07-01 00:05:00  106.731170\n",
       "2021-07-01 00:10:00  101.791818\n",
       "2021-07-01 00:15:00  108.920393\n",
       "2021-07-01 00:20:00  108.860974\n",
       "...                         ...\n",
       "2024-06-30 23:35:00  111.746396\n",
       "2024-06-30 23:40:00  106.820015\n",
       "2024-06-30 23:45:00  101.090082\n",
       "2024-06-30 23:50:00  100.052526\n",
       "2024-06-30 23:55:00  103.528916\n",
       "\n",
       "[315648 rows x 1 columns]"
      ]
     },
     "execution_count": 33,
     "metadata": {},
     "output_type": "execute_result"
    }
   ],
   "source": [
    "aggregate_df_3years_complete"
   ]
  },
  {
   "cell_type": "code",
   "execution_count": 34,
   "id": "f5c262cd",
   "metadata": {},
   "outputs": [],
   "source": [
    "aggregate_df_3years_30min = aggregate_df_3years_complete.resample('30min').mean()"
   ]
  },
  {
   "cell_type": "code",
   "execution_count": 35,
   "id": "f2e02a95",
   "metadata": {},
   "outputs": [],
   "source": [
    "#name index to be 'datetime'\n",
    "aggregate_df_3years_30min.index.name = 'datetime'"
   ]
  },
  {
   "cell_type": "code",
   "execution_count": 37,
   "id": "bea3d4f4",
   "metadata": {},
   "outputs": [],
   "source": [
    "aggregate_df_3years_30min.to_csv('../../../../to Github/data/ds10_aedp_cluster2_30min.csv', index=True, float_format='%.3f')"
   ]
  },
  {
   "cell_type": "markdown",
   "id": "07633c6b",
   "metadata": {},
   "source": [
    "# ARCHIVE"
   ]
  },
  {
   "cell_type": "code",
   "execution_count": null,
   "id": "26d6a376",
   "metadata": {},
   "outputs": [
    {
     "name": "stdout",
     "output_type": "stream",
     "text": [
      "Processing ../../../../data/1. raw/ACAP EDP\\edp_data_2019_0160891405.csv\n",
      "Processing ../../../../data/1. raw/ACAP EDP\\edp_data_2019_0278800434.csv\n",
      "Processing ../../../../data/1. raw/ACAP EDP\\edp_data_2019_0322850795.csv\n",
      "Processing ../../../../data/1. raw/ACAP EDP\\edp_data_2019_0433678557.csv\n",
      "Processing ../../../../data/1. raw/ACAP EDP\\edp_data_2019_0529556122.csv\n",
      "Processing ../../../../data/1. raw/ACAP EDP\\edp_data_2019_0627907281.csv\n",
      "Processing ../../../../data/1. raw/ACAP EDP\\edp_data_2019_079365040.csv\n",
      "Processing ../../../../data/1. raw/ACAP EDP\\edp_data_2019_0862506807.csv\n",
      "Processing ../../../../data/1. raw/ACAP EDP\\edp_data_2019_0922561682.csv\n",
      "Processing ../../../../data/1. raw/ACAP EDP\\edp_data_2019_1014737568.csv\n",
      "Processing ../../../../data/1. raw/ACAP EDP\\edp_data_2019_1194606633.csv\n",
      "Processing ../../../../data/1. raw/ACAP EDP\\edp_data_2019_1293725212.csv\n",
      "Processing ../../../../data/1. raw/ACAP EDP\\edp_data_2020_0116987317.csv\n",
      "Processing ../../../../data/1. raw/ACAP EDP\\edp_data_2020_0283386909.csv\n",
      "Processing ../../../../data/1. raw/ACAP EDP\\edp_data_2020_0355994333.csv\n",
      "Processing ../../../../data/1. raw/ACAP EDP\\edp_data_2020_0455132687.csv\n",
      "Processing ../../../../data/1. raw/ACAP EDP\\edp_data_2020_0523331058.csv\n",
      "Processing ../../../../data/1. raw/ACAP EDP\\edp_data_2020_0661354251.csv\n",
      "Processing ../../../../data/1. raw/ACAP EDP\\edp_data_2020_0757197672.csv\n",
      "Processing ../../../../data/1. raw/ACAP EDP\\edp_data_2020_0811923118.csv\n",
      "Processing ../../../../data/1. raw/ACAP EDP\\edp_data_2020_0988352986.csv\n",
      "Processing ../../../../data/1. raw/ACAP EDP\\edp_data_2020_1039563914.csv\n",
      "Processing ../../../../data/1. raw/ACAP EDP\\edp_data_2020_1135791630.csv\n",
      "Processing ../../../../data/1. raw/ACAP EDP\\edp_data_2020_125179011.csv\n",
      "Processing ../../../../data/1. raw/ACAP EDP\\edp_data_2021_0112675998.csv\n",
      "Processing ../../../../data/1. raw/ACAP EDP\\edp_data_2021_0249623058.csv\n",
      "Processing ../../../../data/1. raw/ACAP EDP\\edp_data_2021_0361533348.csv\n",
      "Processing ../../../../data/1. raw/ACAP EDP\\edp_data_2021_0499530576.csv\n",
      "Processing ../../../../data/1. raw/ACAP EDP\\edp_data_2021_0564159124.csv\n",
      "Processing ../../../../data/1. raw/ACAP EDP\\edp_data_2021_0685674287.csv\n",
      "Processing ../../../../data/1. raw/ACAP EDP\\edp_data_2021_0781620172.csv\n",
      "Processing ../../../../data/1. raw/ACAP EDP\\edp_data_2021_0866839036.csv\n",
      "Processing ../../../../data/1. raw/ACAP EDP\\edp_data_2021_099370549.csv\n",
      "Processing ../../../../data/1. raw/ACAP EDP\\edp_data_2021_1099129706.csv\n",
      "Processing ../../../../data/1. raw/ACAP EDP\\edp_data_2021_1139305266.csv\n",
      "Processing ../../../../data/1. raw/ACAP EDP\\edp_data_2021_1254143330.csv\n",
      "Processing ../../../../data/1. raw/ACAP EDP\\edp_data_2022_0190743126.csv\n",
      "Processing ../../../../data/1. raw/ACAP EDP\\edp_data_2022_0259555274.csv\n",
      "Processing ../../../../data/1. raw/ACAP EDP\\edp_data_2022_0344159374.csv\n",
      "Processing ../../../../data/1. raw/ACAP EDP\\edp_data_2022_0420973605.csv\n",
      "Processing ../../../../data/1. raw/ACAP EDP\\edp_data_2022_052123510.csv\n",
      "Processing ../../../../data/1. raw/ACAP EDP\\edp_data_2022_066013101.csv\n",
      "Processing ../../../../data/1. raw/ACAP EDP\\edp_data_2022_0794016143.csv\n",
      "Processing ../../../../data/1. raw/ACAP EDP\\edp_data_2022_0844809223.csv\n",
      "Processing ../../../../data/1. raw/ACAP EDP\\edp_data_2022_0981232475.csv\n",
      "Processing ../../../../data/1. raw/ACAP EDP\\edp_data_2022_1037027765.csv\n",
      "Processing ../../../../data/1. raw/ACAP EDP\\edp_data_2022_1196198049.csv\n",
      "Processing ../../../../data/1. raw/ACAP EDP\\edp_data_2022_1264573314.csv\n",
      "Processing ../../../../data/1. raw/ACAP EDP\\edp_data_2023_011779088.csv\n",
      "Processing ../../../../data/1. raw/ACAP EDP\\edp_data_2023_0224096722.csv\n",
      "Processing ../../../../data/1. raw/ACAP EDP\\edp_data_2023_0315610477.csv\n",
      "Processing ../../../../data/1. raw/ACAP EDP\\edp_data_2023_0453835631.csv\n",
      "Processing ../../../../data/1. raw/ACAP EDP\\edp_data_2023_0550459142.csv\n",
      "Processing ../../../../data/1. raw/ACAP EDP\\edp_data_2023_0625207918.csv\n",
      "Processing ../../../../data/1. raw/ACAP EDP\\edp_data_2023_0781207138.csv\n",
      "Processing ../../../../data/1. raw/ACAP EDP\\edp_data_2023_0812218624.csv\n",
      "Processing ../../../../data/1. raw/ACAP EDP\\edp_data_2023_0990213735.csv\n",
      "Processing ../../../../data/1. raw/ACAP EDP\\edp_data_2023_1074298888.csv\n",
      "Processing ../../../../data/1. raw/ACAP EDP\\edp_data_2023_111646381.csv\n",
      "Processing ../../../../data/1. raw/ACAP EDP\\edp_data_2023_1287877347.csv\n",
      "Processing ../../../../data/1. raw/ACAP EDP\\edp_data_2024_0195791648.csv\n",
      "Processing ../../../../data/1. raw/ACAP EDP\\edp_data_2024_027505715.csv\n",
      "Processing ../../../../data/1. raw/ACAP EDP\\edp_data_2024_0337803227.csv\n",
      "Processing ../../../../data/1. raw/ACAP EDP\\edp_data_2024_0427008789.csv\n",
      "Processing ../../../../data/1. raw/ACAP EDP\\edp_data_2024_059809026.csv\n",
      "Processing ../../../../data/1. raw/ACAP EDP\\edp_data_2024_0611028272.csv\n",
      "Processing ../../../../data/1. raw/ACAP EDP\\edp_data_2024_0760137471.csv\n",
      "Processing ../../../../data/1. raw/ACAP EDP\\edp_data_2024_0848175472.csv\n",
      "Processing ../../../../data/1. raw/ACAP EDP\\edp_data_2024_0960535685.csv\n"
     ]
    }
   ],
   "source": [
    "# Identify sites with NAs or missing data\n",
    "sites_with_nas_list = set()\n",
    "\n",
    "for file in file_paths:\n",
    "   \n",
    "    print(f\"Processing {file}\") \n",
    "    \n",
    "    # Include only relevant columns\n",
    "    df = pd.read_csv(file, usecols = ['edp_site_id', 'unix_time', 'edp_device_and_circuit', 'circuit_label', 'real_energy'])\n",
    "    \n",
    "    # Filter only the net load\n",
    "    df = df[df['circuit_label'] == 'ac_load_net']\n",
    "    df.drop(columns=['circuit_label'], inplace=True)    \n",
    "    \n",
    "    # Filter only sites with data in the correct cluster\n",
    "    df = df[df['edp_site_id'].isin(edp_site_ids_to_include)]\n",
    "    \n",
    "    # Identify site id with missing real energy data\n",
    "    sites_with_nas = set(df[df['real_energy'].isna()]['edp_site_id'].unique())\n",
    "    sites_with_nas_list.update(sites_with_nas)"
   ]
  },
  {
   "cell_type": "code",
   "execution_count": null,
   "id": "c2d918f1",
   "metadata": {},
   "outputs": [
    {
     "data": {
      "text/plain": [
       "set()"
      ]
     },
     "metadata": {},
     "output_type": "display_data"
    }
   ],
   "source": [
    "sites_with_nas_list"
   ]
  },
  {
   "cell_type": "code",
   "execution_count": null,
   "id": "47c3fe92",
   "metadata": {},
   "outputs": [],
   "source": [
    "edp_site_ids_to_include = [site for site in edp_site_ids_to_include if site not in sites_with_nas_list]"
   ]
  },
  {
   "cell_type": "code",
   "execution_count": null,
   "id": "302c3507",
   "metadata": {},
   "outputs": [],
   "source": [
    "import pandas as pd\n",
    "import glob\n",
    "import os"
   ]
  },
  {
   "cell_type": "code",
   "execution_count": null,
   "id": "4180a8fd",
   "metadata": {},
   "outputs": [],
   "source": [
    "file_paths = glob.glob('../../data/3. cleaned/ds2_aedp_5min.csv')\n",
    "df = pd.read_csv(file_paths[0], sep=',', header=0, index_col=0, parse_dates=True)"
   ]
  },
  {
   "cell_type": "code",
   "execution_count": null,
   "id": "b9aae567",
   "metadata": {},
   "outputs": [],
   "source": [
    "df.rename(columns={'netload_kW': 'netload_kWh'}, inplace=True)\n",
    "df['netload_kW'] = df['netload_kWh'] / (5/60)\n",
    "df.drop(columns=['netload_kWh'], inplace=True)"
   ]
  },
  {
   "cell_type": "code",
   "execution_count": null,
   "id": "4544ab75",
   "metadata": {},
   "outputs": [],
   "source": [
    "aggregate_df = df.copy()"
   ]
  },
  {
   "cell_type": "markdown",
   "id": "92a107e6",
   "metadata": {},
   "source": [
    "# MESSY"
   ]
  },
  {
   "cell_type": "markdown",
   "id": "edae6701",
   "metadata": {},
   "source": [
    "datetime, netload_kW\n",
    "30 minutely from 1 July 2010 to 30 June 2013\n",
    "\n",
    "27 Dec 2018\n",
    "\n",
    "Total 487 households\n",
    "\n",
    "Create dataset of \n",
    "from 1 Jan 2019 to 30 Sep 2024\n",
    "5 minutely\n",
    "\n",
    "Cut into\n",
    "from 1 Jul 2021 to 30 Jun 2024\n",
    "convert to 30 minutely data\n",
    "\n",
    "datetime\n",
    "netload_kW"
   ]
  }
 ],
 "metadata": {
  "kernelspec": {
   "display_name": ".venv",
   "language": "python",
   "name": "python3"
  },
  "language_info": {
   "codemirror_mode": {
    "name": "ipython",
    "version": 3
   },
   "file_extension": ".py",
   "mimetype": "text/x-python",
   "name": "python",
   "nbconvert_exporter": "python",
   "pygments_lexer": "ipython3",
   "version": "3.12.3"
  }
 },
 "nbformat": 4,
 "nbformat_minor": 5
}
