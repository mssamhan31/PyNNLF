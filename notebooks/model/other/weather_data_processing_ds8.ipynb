{
 "cells": [
  {
   "cell_type": "code",
   "execution_count": 1,
   "id": "b3352d28",
   "metadata": {},
   "outputs": [
    {
     "ename": "KeyboardInterrupt",
     "evalue": "",
     "output_type": "error",
     "traceback": [
      "\u001b[1;31m---------------------------------------------------------------------------\u001b[0m",
      "\u001b[1;31mKeyboardInterrupt\u001b[0m                         Traceback (most recent call last)",
      "Cell \u001b[1;32mIn[1], line 18\u001b[0m\n\u001b[0;32m     15\u001b[0m filtered_chunks \u001b[38;5;241m=\u001b[39m []\n\u001b[0;32m     17\u001b[0m \u001b[38;5;66;03m# Iterate over the file in chunks\u001b[39;00m\n\u001b[1;32m---> 18\u001b[0m \u001b[38;5;28;43;01mfor\u001b[39;49;00m\u001b[43m \u001b[49m\u001b[43mchunk\u001b[49m\u001b[43m \u001b[49m\u001b[38;5;129;43;01min\u001b[39;49;00m\u001b[43m \u001b[49m\u001b[43mpd\u001b[49m\u001b[38;5;241;43m.\u001b[39;49m\u001b[43mread_csv\u001b[49m\u001b[43m(\u001b[49m\u001b[38;5;124;43mr\u001b[39;49m\u001b[38;5;124;43m'\u001b[39;49m\u001b[38;5;124;43mc:\u001b[39;49m\u001b[38;5;124;43m\\\u001b[39;49m\u001b[38;5;124;43mUsers\u001b[39;49m\u001b[38;5;124;43m\\\u001b[39;49m\u001b[38;5;124;43mz5404477\u001b[39;49m\u001b[38;5;124;43m\\\u001b[39;49m\u001b[38;5;124;43mOneDrive - UNSW\u001b[39;49m\u001b[38;5;124;43m\\\u001b[39;49m\u001b[38;5;124;43m04_Workspace\u001b[39;49m\u001b[38;5;124;43m\\\u001b[39;49m\u001b[38;5;124;43m2. WIP\u001b[39;49m\u001b[38;5;124;43m\\\u001b[39;49m\u001b[38;5;124;43mdata\u001b[39;49m\u001b[38;5;124;43m\\\u001b[39;49m\u001b[38;5;124;43m1. raw\u001b[39;49m\u001b[38;5;124;43m\\\u001b[39;49m\u001b[38;5;124;43mBOM Weather Data\u001b[39;49m\u001b[38;5;124;43m\\\u001b[39;49m\u001b[38;5;124;43mbom_data_nsw55167608.csv\u001b[39;49m\u001b[38;5;124;43m'\u001b[39;49m\u001b[43m,\u001b[49m\u001b[43m \u001b[49m\n\u001b[0;32m     19\u001b[0m \u001b[43m                         \u001b[49m\u001b[43musecols\u001b[49m\u001b[38;5;241;43m=\u001b[39;49m\u001b[43mcol_to_include\u001b[49m\u001b[43m,\u001b[49m\u001b[43m \u001b[49m\u001b[43mchunksize\u001b[49m\u001b[38;5;241;43m=\u001b[39;49m\u001b[43mchunk_size\u001b[49m\u001b[43m)\u001b[49m\u001b[43m:\u001b[49m\n\u001b[0;32m     20\u001b[0m \u001b[43m    \u001b[49m\u001b[38;5;66;43;03m# Filter rows where 'station_number' is in the list of value_conditions\u001b[39;49;00m\n\u001b[0;32m     21\u001b[0m \u001b[43m    \u001b[49m\u001b[43mfiltered_chunk\u001b[49m\u001b[43m \u001b[49m\u001b[38;5;241;43m=\u001b[39;49m\u001b[43m \u001b[49m\u001b[43mchunk\u001b[49m\u001b[43m[\u001b[49m\u001b[43mchunk\u001b[49m\u001b[43m[\u001b[49m\u001b[43mcolumn_name\u001b[49m\u001b[43m]\u001b[49m\u001b[38;5;241;43m.\u001b[39;49m\u001b[43misin\u001b[49m\u001b[43m(\u001b[49m\u001b[43mvalue_conditions\u001b[49m\u001b[43m)\u001b[49m\u001b[43m]\u001b[49m\n\u001b[0;32m     22\u001b[0m \u001b[43m    \u001b[49m\u001b[43mfiltered_chunks\u001b[49m\u001b[38;5;241;43m.\u001b[39;49m\u001b[43mappend\u001b[49m\u001b[43m(\u001b[49m\u001b[43mfiltered_chunk\u001b[49m\u001b[43m)\u001b[49m\n",
      "File \u001b[1;32mc:\\Users\\z5404477\\OneDrive - UNSW\\04_Workspace\\2. WIP\\to Github\\.venv\\Lib\\site-packages\\pandas\\io\\parsers\\readers.py:1843\u001b[0m, in \u001b[0;36mTextFileReader.__next__\u001b[1;34m(self)\u001b[0m\n\u001b[0;32m   1841\u001b[0m \u001b[38;5;28;01mdef\u001b[39;00m \u001b[38;5;21m__next__\u001b[39m(\u001b[38;5;28mself\u001b[39m) \u001b[38;5;241m-\u001b[39m\u001b[38;5;241m>\u001b[39m DataFrame:\n\u001b[0;32m   1842\u001b[0m     \u001b[38;5;28;01mtry\u001b[39;00m:\n\u001b[1;32m-> 1843\u001b[0m         \u001b[38;5;28;01mreturn\u001b[39;00m \u001b[38;5;28;43mself\u001b[39;49m\u001b[38;5;241;43m.\u001b[39;49m\u001b[43mget_chunk\u001b[49m\u001b[43m(\u001b[49m\u001b[43m)\u001b[49m\n\u001b[0;32m   1844\u001b[0m     \u001b[38;5;28;01mexcept\u001b[39;00m \u001b[38;5;167;01mStopIteration\u001b[39;00m:\n\u001b[0;32m   1845\u001b[0m         \u001b[38;5;28mself\u001b[39m\u001b[38;5;241m.\u001b[39mclose()\n",
      "File \u001b[1;32mc:\\Users\\z5404477\\OneDrive - UNSW\\04_Workspace\\2. WIP\\to Github\\.venv\\Lib\\site-packages\\pandas\\io\\parsers\\readers.py:1985\u001b[0m, in \u001b[0;36mTextFileReader.get_chunk\u001b[1;34m(self, size)\u001b[0m\n\u001b[0;32m   1983\u001b[0m         \u001b[38;5;28;01mraise\u001b[39;00m \u001b[38;5;167;01mStopIteration\u001b[39;00m\n\u001b[0;32m   1984\u001b[0m     size \u001b[38;5;241m=\u001b[39m \u001b[38;5;28mmin\u001b[39m(size, \u001b[38;5;28mself\u001b[39m\u001b[38;5;241m.\u001b[39mnrows \u001b[38;5;241m-\u001b[39m \u001b[38;5;28mself\u001b[39m\u001b[38;5;241m.\u001b[39m_currow)\n\u001b[1;32m-> 1985\u001b[0m \u001b[38;5;28;01mreturn\u001b[39;00m \u001b[38;5;28;43mself\u001b[39;49m\u001b[38;5;241;43m.\u001b[39;49m\u001b[43mread\u001b[49m\u001b[43m(\u001b[49m\u001b[43mnrows\u001b[49m\u001b[38;5;241;43m=\u001b[39;49m\u001b[43msize\u001b[49m\u001b[43m)\u001b[49m\n",
      "File \u001b[1;32mc:\\Users\\z5404477\\OneDrive - UNSW\\04_Workspace\\2. WIP\\to Github\\.venv\\Lib\\site-packages\\pandas\\io\\parsers\\readers.py:1923\u001b[0m, in \u001b[0;36mTextFileReader.read\u001b[1;34m(self, nrows)\u001b[0m\n\u001b[0;32m   1916\u001b[0m nrows \u001b[38;5;241m=\u001b[39m validate_integer(\u001b[38;5;124m\"\u001b[39m\u001b[38;5;124mnrows\u001b[39m\u001b[38;5;124m\"\u001b[39m, nrows)\n\u001b[0;32m   1917\u001b[0m \u001b[38;5;28;01mtry\u001b[39;00m:\n\u001b[0;32m   1918\u001b[0m     \u001b[38;5;66;03m# error: \"ParserBase\" has no attribute \"read\"\u001b[39;00m\n\u001b[0;32m   1919\u001b[0m     (\n\u001b[0;32m   1920\u001b[0m         index,\n\u001b[0;32m   1921\u001b[0m         columns,\n\u001b[0;32m   1922\u001b[0m         col_dict,\n\u001b[1;32m-> 1923\u001b[0m     ) \u001b[38;5;241m=\u001b[39m \u001b[38;5;28;43mself\u001b[39;49m\u001b[38;5;241;43m.\u001b[39;49m\u001b[43m_engine\u001b[49m\u001b[38;5;241;43m.\u001b[39;49m\u001b[43mread\u001b[49m\u001b[43m(\u001b[49m\u001b[43m  \u001b[49m\u001b[38;5;66;43;03m# type: ignore[attr-defined]\u001b[39;49;00m\n\u001b[0;32m   1924\u001b[0m \u001b[43m        \u001b[49m\u001b[43mnrows\u001b[49m\n\u001b[0;32m   1925\u001b[0m \u001b[43m    \u001b[49m\u001b[43m)\u001b[49m\n\u001b[0;32m   1926\u001b[0m \u001b[38;5;28;01mexcept\u001b[39;00m \u001b[38;5;167;01mException\u001b[39;00m:\n\u001b[0;32m   1927\u001b[0m     \u001b[38;5;28mself\u001b[39m\u001b[38;5;241m.\u001b[39mclose()\n",
      "File \u001b[1;32mc:\\Users\\z5404477\\OneDrive - UNSW\\04_Workspace\\2. WIP\\to Github\\.venv\\Lib\\site-packages\\pandas\\io\\parsers\\c_parser_wrapper.py:234\u001b[0m, in \u001b[0;36mCParserWrapper.read\u001b[1;34m(self, nrows)\u001b[0m\n\u001b[0;32m    232\u001b[0m \u001b[38;5;28;01mtry\u001b[39;00m:\n\u001b[0;32m    233\u001b[0m     \u001b[38;5;28;01mif\u001b[39;00m \u001b[38;5;28mself\u001b[39m\u001b[38;5;241m.\u001b[39mlow_memory:\n\u001b[1;32m--> 234\u001b[0m         chunks \u001b[38;5;241m=\u001b[39m \u001b[38;5;28;43mself\u001b[39;49m\u001b[38;5;241;43m.\u001b[39;49m\u001b[43m_reader\u001b[49m\u001b[38;5;241;43m.\u001b[39;49m\u001b[43mread_low_memory\u001b[49m\u001b[43m(\u001b[49m\u001b[43mnrows\u001b[49m\u001b[43m)\u001b[49m\n\u001b[0;32m    235\u001b[0m         \u001b[38;5;66;03m# destructive to chunks\u001b[39;00m\n\u001b[0;32m    236\u001b[0m         data \u001b[38;5;241m=\u001b[39m _concatenate_chunks(chunks)\n",
      "File \u001b[1;32mparsers.pyx:850\u001b[0m, in \u001b[0;36mpandas._libs.parsers.TextReader.read_low_memory\u001b[1;34m()\u001b[0m\n",
      "File \u001b[1;32mparsers.pyx:921\u001b[0m, in \u001b[0;36mpandas._libs.parsers.TextReader._read_rows\u001b[1;34m()\u001b[0m\n",
      "File \u001b[1;32mparsers.pyx:1083\u001b[0m, in \u001b[0;36mpandas._libs.parsers.TextReader._convert_column_data\u001b[1;34m()\u001b[0m\n",
      "File \u001b[1;32mparsers.pyx:1456\u001b[0m, in \u001b[0;36mpandas._libs.parsers._maybe_upcast\u001b[1;34m()\u001b[0m\n",
      "File \u001b[1;32mc:\\Users\\z5404477\\OneDrive - UNSW\\04_Workspace\\2. WIP\\to Github\\.venv\\Lib\\site-packages\\numpy\\_core\\multiarray.py:1153\u001b[0m, in \u001b[0;36mputmask\u001b[1;34m(a, mask, values)\u001b[0m\n\u001b[0;32m   1103\u001b[0m \u001b[38;5;250m    \u001b[39m\u001b[38;5;124;03m\"\"\"\u001b[39;00m\n\u001b[0;32m   1104\u001b[0m \u001b[38;5;124;03m    copyto(dst, src, casting='same_kind', where=True)\u001b[39;00m\n\u001b[0;32m   1105\u001b[0m \n\u001b[1;32m   (...)\u001b[0m\n\u001b[0;32m   1148\u001b[0m \n\u001b[0;32m   1149\u001b[0m \u001b[38;5;124;03m    \"\"\"\u001b[39;00m\n\u001b[0;32m   1150\u001b[0m     \u001b[38;5;28;01mreturn\u001b[39;00m (dst, src, where)\n\u001b[1;32m-> 1153\u001b[0m \u001b[38;5;129m@array_function_from_c_func_and_dispatcher\u001b[39m(_multiarray_umath\u001b[38;5;241m.\u001b[39mputmask)\n\u001b[0;32m   1154\u001b[0m \u001b[38;5;28;01mdef\u001b[39;00m \u001b[38;5;21mputmask\u001b[39m(a, \u001b[38;5;241m/\u001b[39m, mask, values):\n\u001b[0;32m   1155\u001b[0m \u001b[38;5;250m    \u001b[39m\u001b[38;5;124;03m\"\"\"\u001b[39;00m\n\u001b[0;32m   1156\u001b[0m \u001b[38;5;124;03m    putmask(a, mask, values)\u001b[39;00m\n\u001b[0;32m   1157\u001b[0m \n\u001b[1;32m   (...)\u001b[0m\n\u001b[0;32m   1194\u001b[0m \n\u001b[0;32m   1195\u001b[0m \u001b[38;5;124;03m    \"\"\"\u001b[39;00m\n\u001b[0;32m   1196\u001b[0m     \u001b[38;5;28;01mreturn\u001b[39;00m (a, mask, values)\n",
      "\u001b[1;31mKeyboardInterrupt\u001b[0m: "
     ]
    }
   ],
   "source": [
    "import pandas as pd\n",
    "\n",
    "# Define the condition for filtering (stations you're interested in)\n",
    "column_name = 'station_number'  # Replace with your column name\n",
    "# value_conditions = [66062, 66037, 67105]  # List of station numbers to include (Observatory Hill, Sydney Airport, and Richmond)\n",
    "value_conditions = [66037]  # List of station numbers to include (Sydney Airport)\n",
    "\n",
    "# Define the columns to read (make sure to include 'station_number' in col_to_include)\n",
    "col_to_include = ['station_number', 'datetime', 'air_temperature_in_degrees_c', 'wind_speed_in_km_h', 'relative_humidity_in_percentage']\n",
    "\n",
    "# Specify the chunk size (e.g., 10000 rows per chunk)\n",
    "chunk_size = 10000\n",
    "\n",
    "# Initialize an empty list to store filtered chunks\n",
    "filtered_chunks = []\n",
    "\n",
    "# Iterate over the file in chunks\n",
    "for chunk in pd.read_csv(r'c:\\Users\\z5404477\\OneDrive - UNSW\\04_Workspace\\2. WIP\\data\\1. raw\\BOM Weather Data\\bom_data_nsw55167608.csv', \n",
    "                         usecols=col_to_include, chunksize=chunk_size):\n",
    "    # Filter rows where 'station_number' is in the list of value_conditions\n",
    "    filtered_chunk = chunk[chunk[column_name].isin(value_conditions)]\n",
    "    filtered_chunks.append(filtered_chunk)\n",
    "\n",
    "# Concatenate the filtered chunks into a single DataFrame\n",
    "filtered_df = pd.concat(filtered_chunks)\n",
    "\n",
    "# Display the first 5 filtered rows\n",
    "print(filtered_df.head(5))\n"
   ]
  },
  {
   "cell_type": "code",
   "execution_count": 3,
   "id": "987b8748",
   "metadata": {},
   "outputs": [],
   "source": [
    "filtered_df['datetime'] = pd.to_datetime(filtered_df['datetime'], format='%Y-%m-%d %H:%M:%S')\n",
    "#filter the datetime to include only from 1 July 2021 00:00:00 am to 30 June 2024 23:30:00, which is AEDP data\n",
    "start_date = '2021-07-01 00:00:00'\n",
    "end_date = '2024-06-30 23:30:00'\n",
    "filtered_df = filtered_df[(filtered_df['datetime'] >= start_date) & (filtered_df['datetime'] <= end_date)]\n",
    "\n",
    "filtered_df_2 = filtered_df[filtered_df['station_number'] == 66037] #use Sydney Airport station only\n",
    "\n",
    "# make datetime the index\n",
    "filtered_df_2.set_index('datetime', inplace=True)\n",
    "#sort the index\n",
    "filtered_df_2.sort_index(inplace=True)\n",
    "\n",
    "\n",
    "\n"
   ]
  },
  {
   "cell_type": "code",
   "execution_count": 4,
   "id": "6b54909c",
   "metadata": {},
   "outputs": [],
   "source": [
    "expected_date_range = pd.date_range(start=start_date, end=end_date, freq='30min')\n",
    "\n",
    "# make weather data df with the expected date range\n",
    "weather_data_df = pd.DataFrame(index=expected_date_range)\n",
    "\n",
    "# set  index name to 'datetime'\n",
    "weather_data_df.index.name = 'datetime'\n",
    "\n",
    "# merge the weather data with the filtered data, keeping both datetime from the weather data and the filtered data\n",
    "weather_data_df = weather_data_df.merge(filtered_df_2, left_index=True, right_index=True, how='outer')"
   ]
  },
  {
   "cell_type": "code",
   "execution_count": 5,
   "id": "828ca90e",
   "metadata": {},
   "outputs": [
    {
     "data": {
      "application/vnd.microsoft.datawrangler.viewer.v0+json": {
       "columns": [
        {
         "name": "datetime",
         "rawType": "datetime64[ns]",
         "type": "datetime"
        },
        {
         "name": "station_number",
         "rawType": "float64",
         "type": "float"
        },
        {
         "name": "air_temperature_in_degrees_c",
         "rawType": "float64",
         "type": "float"
        },
        {
         "name": "relative_humidity_in_percentage",
         "rawType": "float64",
         "type": "float"
        },
        {
         "name": "wind_speed_in_km_h",
         "rawType": "float64",
         "type": "float"
        }
       ],
       "ref": "ee3a3123-9fb0-43fd-8d7d-c8927140cccf",
       "rows": [
        [
         "2021-07-01 00:00:00",
         "66037.0",
         "13.7",
         "96.0",
         "13.0"
        ],
        [
         "2021-07-01 00:30:00",
         "66037.0",
         "13.2",
         "96.0",
         "9.4"
        ],
        [
         "2021-07-01 00:53:00",
         "66037.0",
         "12.8",
         "96.0",
         "13.0"
        ],
        [
         "2021-07-01 01:00:00",
         "66037.0",
         "13.3",
         "97.0",
         "11.2"
        ],
        [
         "2021-07-01 01:05:00",
         "66037.0",
         "13.3",
         "97.0",
         "11.2"
        ],
        [
         "2021-07-01 01:09:00",
         "66037.0",
         "13.4",
         "97.0",
         "9.4"
        ],
        [
         "2021-07-01 01:12:00",
         "66037.0",
         "13.4",
         "97.0",
         "9.4"
        ],
        [
         "2021-07-01 01:30:00",
         "66037.0",
         "13.2",
         "97.0",
         "7.6"
        ],
        [
         "2021-07-01 02:00:00",
         "66037.0",
         "12.9",
         "98.0",
         "7.6"
        ],
        [
         "2021-07-01 02:30:00",
         "66037.0",
         "12.6",
         "98.0",
         "0.0"
        ],
        [
         "2021-07-01 03:00:00",
         "66037.0",
         "12.3",
         "98.0",
         "7.6"
        ],
        [
         "2021-07-01 03:30:00",
         "66037.0",
         "12.1",
         "98.0",
         "7.6"
        ],
        [
         "2021-07-01 04:00:00",
         "66037.0",
         "11.7",
         "98.0",
         "11.2"
        ],
        [
         "2021-07-01 04:30:00",
         "66037.0",
         "11.7",
         "99.0",
         "9.4"
        ],
        [
         "2021-07-01 05:00:00",
         "66037.0",
         "11.3",
         "99.0",
         "11.2"
        ],
        [
         "2021-07-01 05:30:00",
         "66037.0",
         "11.1",
         "99.0",
         "9.4"
        ],
        [
         "2021-07-01 06:00:00",
         "66037.0",
         "11.1",
         "99.0",
         "11.2"
        ],
        [
         "2021-07-01 06:03:00",
         "66037.0",
         "11.1",
         "99.0",
         "9.4"
        ],
        [
         "2021-07-01 06:20:00",
         "66037.0",
         "10.7",
         "99.0",
         "9.4"
        ],
        [
         "2021-07-01 06:30:00",
         "66037.0",
         "10.6",
         "99.0",
         "7.6"
        ],
        [
         "2021-07-01 06:45:00",
         "66037.0",
         "10.7",
         "99.0",
         "9.4"
        ],
        [
         "2021-07-01 07:00:00",
         "66037.0",
         "10.9",
         "99.0",
         "7.6"
        ],
        [
         "2021-07-01 07:30:00",
         "66037.0",
         "11.3",
         "99.0",
         "0.0"
        ],
        [
         "2021-07-01 08:00:00",
         "66037.0",
         "11.7",
         "99.0",
         "7.6"
        ],
        [
         "2021-07-01 08:30:00",
         "66037.0",
         "11.9",
         "97.0",
         "11.2"
        ],
        [
         "2021-07-01 08:42:00",
         "66037.0",
         "12.4",
         "97.0",
         "9.4"
        ],
        [
         "2021-07-01 08:51:00",
         "66037.0",
         "11.9",
         "96.0",
         "11.2"
        ],
        [
         "2021-07-01 09:00:00",
         "66037.0",
         "12.3",
         "96.0",
         "13.0"
        ],
        [
         "2021-07-01 09:30:00",
         "66037.0",
         "12.9",
         "96.0",
         "13.0"
        ],
        [
         "2021-07-01 10:00:00",
         "66037.0",
         "13.3",
         "95.0",
         "9.4"
        ],
        [
         "2021-07-01 10:30:00",
         "66037.0",
         "13.4",
         "94.0",
         "9.4"
        ],
        [
         "2021-07-01 11:00:00",
         "66037.0",
         "14.1",
         "93.0",
         "9.4"
        ],
        [
         "2021-07-01 11:20:00",
         "66037.0",
         "14.4",
         "91.0",
         "9.4"
        ],
        [
         "2021-07-01 11:30:00",
         "66037.0",
         "14.4",
         "90.0",
         "9.4"
        ],
        [
         "2021-07-01 11:52:00",
         "66037.0",
         "14.7",
         "89.0",
         "9.4"
        ],
        [
         "2021-07-01 12:00:00",
         "66037.0",
         "15.1",
         "88.0",
         "9.4"
        ],
        [
         "2021-07-01 12:30:00",
         "66037.0",
         "15.9",
         "83.0",
         "9.4"
        ],
        [
         "2021-07-01 13:00:00",
         "66037.0",
         "15.1",
         "82.0",
         "5.4"
        ],
        [
         "2021-07-01 13:30:00",
         "66037.0",
         "15.3",
         "84.0",
         "7.6"
        ],
        [
         "2021-07-01 14:00:00",
         "66037.0",
         "15.4",
         "85.0",
         "7.6"
        ],
        [
         "2021-07-01 14:30:00",
         "66037.0",
         "16.2",
         "79.0",
         "9.4"
        ],
        [
         "2021-07-01 15:00:00",
         "66037.0",
         "16.0",
         "81.0",
         "7.6"
        ],
        [
         "2021-07-01 15:30:00",
         "66037.0",
         "16.6",
         "74.0",
         "13.0"
        ],
        [
         "2021-07-01 16:00:00",
         "66037.0",
         "16.7",
         "75.0",
         "13.0"
        ],
        [
         "2021-07-01 16:30:00",
         "66037.0",
         "16.5",
         "77.0",
         "13.0"
        ],
        [
         "2021-07-01 17:00:00",
         "66037.0",
         "16.1",
         "80.0",
         "9.4"
        ],
        [
         "2021-07-01 17:30:00",
         "66037.0",
         "16.1",
         "80.0",
         "9.4"
        ],
        [
         "2021-07-01 18:00:00",
         "66037.0",
         "16.2",
         "80.0",
         "9.4"
        ],
        [
         "2021-07-01 18:30:00",
         "66037.0",
         "16.1",
         "81.0",
         "9.4"
        ],
        [
         "2021-07-01 19:00:00",
         "66037.0",
         "15.8",
         "83.0",
         "11.2"
        ]
       ],
       "shape": {
        "columns": 4,
        "rows": 56894
       }
      },
      "text/html": [
       "<div>\n",
       "<style scoped>\n",
       "    .dataframe tbody tr th:only-of-type {\n",
       "        vertical-align: middle;\n",
       "    }\n",
       "\n",
       "    .dataframe tbody tr th {\n",
       "        vertical-align: top;\n",
       "    }\n",
       "\n",
       "    .dataframe thead th {\n",
       "        text-align: right;\n",
       "    }\n",
       "</style>\n",
       "<table border=\"1\" class=\"dataframe\">\n",
       "  <thead>\n",
       "    <tr style=\"text-align: right;\">\n",
       "      <th></th>\n",
       "      <th>station_number</th>\n",
       "      <th>air_temperature_in_degrees_c</th>\n",
       "      <th>relative_humidity_in_percentage</th>\n",
       "      <th>wind_speed_in_km_h</th>\n",
       "    </tr>\n",
       "    <tr>\n",
       "      <th>datetime</th>\n",
       "      <th></th>\n",
       "      <th></th>\n",
       "      <th></th>\n",
       "      <th></th>\n",
       "    </tr>\n",
       "  </thead>\n",
       "  <tbody>\n",
       "    <tr>\n",
       "      <th>2021-07-01 00:00:00</th>\n",
       "      <td>66037.0</td>\n",
       "      <td>13.7</td>\n",
       "      <td>96.0</td>\n",
       "      <td>13.0</td>\n",
       "    </tr>\n",
       "    <tr>\n",
       "      <th>2021-07-01 00:30:00</th>\n",
       "      <td>66037.0</td>\n",
       "      <td>13.2</td>\n",
       "      <td>96.0</td>\n",
       "      <td>9.4</td>\n",
       "    </tr>\n",
       "    <tr>\n",
       "      <th>2021-07-01 00:53:00</th>\n",
       "      <td>66037.0</td>\n",
       "      <td>12.8</td>\n",
       "      <td>96.0</td>\n",
       "      <td>13.0</td>\n",
       "    </tr>\n",
       "    <tr>\n",
       "      <th>2021-07-01 01:00:00</th>\n",
       "      <td>66037.0</td>\n",
       "      <td>13.3</td>\n",
       "      <td>97.0</td>\n",
       "      <td>11.2</td>\n",
       "    </tr>\n",
       "    <tr>\n",
       "      <th>2021-07-01 01:05:00</th>\n",
       "      <td>66037.0</td>\n",
       "      <td>13.3</td>\n",
       "      <td>97.0</td>\n",
       "      <td>11.2</td>\n",
       "    </tr>\n",
       "    <tr>\n",
       "      <th>...</th>\n",
       "      <td>...</td>\n",
       "      <td>...</td>\n",
       "      <td>...</td>\n",
       "      <td>...</td>\n",
       "    </tr>\n",
       "    <tr>\n",
       "      <th>2024-06-30 21:30:00</th>\n",
       "      <td>66037.0</td>\n",
       "      <td>9.7</td>\n",
       "      <td>85.0</td>\n",
       "      <td>22.3</td>\n",
       "    </tr>\n",
       "    <tr>\n",
       "      <th>2024-06-30 22:00:00</th>\n",
       "      <td>66037.0</td>\n",
       "      <td>9.7</td>\n",
       "      <td>82.0</td>\n",
       "      <td>20.5</td>\n",
       "    </tr>\n",
       "    <tr>\n",
       "      <th>2024-06-30 22:30:00</th>\n",
       "      <td>66037.0</td>\n",
       "      <td>9.5</td>\n",
       "      <td>82.0</td>\n",
       "      <td>16.6</td>\n",
       "    </tr>\n",
       "    <tr>\n",
       "      <th>2024-06-30 23:00:00</th>\n",
       "      <td>66037.0</td>\n",
       "      <td>9.0</td>\n",
       "      <td>82.0</td>\n",
       "      <td>16.6</td>\n",
       "    </tr>\n",
       "    <tr>\n",
       "      <th>2024-06-30 23:30:00</th>\n",
       "      <td>66037.0</td>\n",
       "      <td>8.8</td>\n",
       "      <td>84.0</td>\n",
       "      <td>18.4</td>\n",
       "    </tr>\n",
       "  </tbody>\n",
       "</table>\n",
       "<p>56894 rows × 4 columns</p>\n",
       "</div>"
      ],
      "text/plain": [
       "                     station_number  air_temperature_in_degrees_c  \\\n",
       "datetime                                                            \n",
       "2021-07-01 00:00:00         66037.0                          13.7   \n",
       "2021-07-01 00:30:00         66037.0                          13.2   \n",
       "2021-07-01 00:53:00         66037.0                          12.8   \n",
       "2021-07-01 01:00:00         66037.0                          13.3   \n",
       "2021-07-01 01:05:00         66037.0                          13.3   \n",
       "...                             ...                           ...   \n",
       "2024-06-30 21:30:00         66037.0                           9.7   \n",
       "2024-06-30 22:00:00         66037.0                           9.7   \n",
       "2024-06-30 22:30:00         66037.0                           9.5   \n",
       "2024-06-30 23:00:00         66037.0                           9.0   \n",
       "2024-06-30 23:30:00         66037.0                           8.8   \n",
       "\n",
       "                     relative_humidity_in_percentage  wind_speed_in_km_h  \n",
       "datetime                                                                  \n",
       "2021-07-01 00:00:00                             96.0                13.0  \n",
       "2021-07-01 00:30:00                             96.0                 9.4  \n",
       "2021-07-01 00:53:00                             96.0                13.0  \n",
       "2021-07-01 01:00:00                             97.0                11.2  \n",
       "2021-07-01 01:05:00                             97.0                11.2  \n",
       "...                                              ...                 ...  \n",
       "2024-06-30 21:30:00                             85.0                22.3  \n",
       "2024-06-30 22:00:00                             82.0                20.5  \n",
       "2024-06-30 22:30:00                             82.0                16.6  \n",
       "2024-06-30 23:00:00                             82.0                16.6  \n",
       "2024-06-30 23:30:00                             84.0                18.4  \n",
       "\n",
       "[56894 rows x 4 columns]"
      ]
     },
     "execution_count": 5,
     "metadata": {},
     "output_type": "execute_result"
    }
   ],
   "source": [
    "weather_data_df"
   ]
  },
  {
   "cell_type": "code",
   "execution_count": 6,
   "id": "9d7030de",
   "metadata": {},
   "outputs": [
    {
     "name": "stderr",
     "output_type": "stream",
     "text": [
      "C:\\Users\\z5404477\\AppData\\Local\\Temp\\ipykernel_45764\\2207699421.py:2: FutureWarning: DataFrame.fillna with 'method' is deprecated and will raise in a future version. Use obj.ffill() or obj.bfill() instead.\n",
      "  weather_data_df.fillna(method='ffill', inplace=True)\n"
     ]
    }
   ],
   "source": [
    "# fill NaN values the nearest previous value\n",
    "weather_data_df.fillna(method='ffill', inplace=True)\n",
    "\n",
    "# include only the row with expected date range\n",
    "weather_data_df = weather_data_df.loc[expected_date_range]\n",
    "\n",
    "#delete station_number column\n",
    "weather_data_df.drop(columns=['station_number'], inplace=True)"
   ]
  },
  {
   "cell_type": "code",
   "execution_count": 11,
   "id": "d58fc978",
   "metadata": {},
   "outputs": [],
   "source": [
    "#delete rows with duplicate datetime index\n",
    "weather_data_df = weather_data_df[~weather_data_df.index.duplicated(keep='first')]"
   ]
  },
  {
   "cell_type": "code",
   "execution_count": 12,
   "id": "311edbf1",
   "metadata": {},
   "outputs": [
    {
     "data": {
      "application/vnd.microsoft.datawrangler.viewer.v0+json": {
       "columns": [
        {
         "name": "datetime",
         "rawType": "datetime64[ns]",
         "type": "datetime"
        },
        {
         "name": "air_temperature_in_degrees_c",
         "rawType": "float64",
         "type": "float"
        },
        {
         "name": "relative_humidity_in_percentage",
         "rawType": "float64",
         "type": "float"
        },
        {
         "name": "wind_speed_in_km_h",
         "rawType": "float64",
         "type": "float"
        }
       ],
       "ref": "e6d71a5e-c874-48a1-af3a-d70503b34a3a",
       "rows": [
        [
         "2021-07-01 00:00:00",
         "13.7",
         "96.0",
         "13.0"
        ],
        [
         "2021-07-01 00:30:00",
         "13.2",
         "96.0",
         "9.4"
        ],
        [
         "2021-07-01 01:00:00",
         "13.3",
         "97.0",
         "11.2"
        ],
        [
         "2021-07-01 01:30:00",
         "13.2",
         "97.0",
         "7.6"
        ],
        [
         "2021-07-01 02:00:00",
         "12.9",
         "98.0",
         "7.6"
        ],
        [
         "2021-07-01 02:30:00",
         "12.6",
         "98.0",
         "0.0"
        ],
        [
         "2021-07-01 03:00:00",
         "12.3",
         "98.0",
         "7.6"
        ],
        [
         "2021-07-01 03:30:00",
         "12.1",
         "98.0",
         "7.6"
        ],
        [
         "2021-07-01 04:00:00",
         "11.7",
         "98.0",
         "11.2"
        ],
        [
         "2021-07-01 04:30:00",
         "11.7",
         "99.0",
         "9.4"
        ],
        [
         "2021-07-01 05:00:00",
         "11.3",
         "99.0",
         "11.2"
        ],
        [
         "2021-07-01 05:30:00",
         "11.1",
         "99.0",
         "9.4"
        ],
        [
         "2021-07-01 06:00:00",
         "11.1",
         "99.0",
         "11.2"
        ],
        [
         "2021-07-01 06:30:00",
         "10.6",
         "99.0",
         "7.6"
        ],
        [
         "2021-07-01 07:00:00",
         "10.9",
         "99.0",
         "7.6"
        ],
        [
         "2021-07-01 07:30:00",
         "11.3",
         "99.0",
         "0.0"
        ],
        [
         "2021-07-01 08:00:00",
         "11.7",
         "99.0",
         "7.6"
        ],
        [
         "2021-07-01 08:30:00",
         "11.9",
         "97.0",
         "11.2"
        ],
        [
         "2021-07-01 09:00:00",
         "12.3",
         "96.0",
         "13.0"
        ],
        [
         "2021-07-01 09:30:00",
         "12.9",
         "96.0",
         "13.0"
        ],
        [
         "2021-07-01 10:00:00",
         "13.3",
         "95.0",
         "9.4"
        ],
        [
         "2021-07-01 10:30:00",
         "13.4",
         "94.0",
         "9.4"
        ],
        [
         "2021-07-01 11:00:00",
         "14.1",
         "93.0",
         "9.4"
        ],
        [
         "2021-07-01 11:30:00",
         "14.4",
         "90.0",
         "9.4"
        ],
        [
         "2021-07-01 12:00:00",
         "15.1",
         "88.0",
         "9.4"
        ],
        [
         "2021-07-01 12:30:00",
         "15.9",
         "83.0",
         "9.4"
        ],
        [
         "2021-07-01 13:00:00",
         "15.1",
         "82.0",
         "5.4"
        ],
        [
         "2021-07-01 13:30:00",
         "15.3",
         "84.0",
         "7.6"
        ],
        [
         "2021-07-01 14:00:00",
         "15.4",
         "85.0",
         "7.6"
        ],
        [
         "2021-07-01 14:30:00",
         "16.2",
         "79.0",
         "9.4"
        ],
        [
         "2021-07-01 15:00:00",
         "16.0",
         "81.0",
         "7.6"
        ],
        [
         "2021-07-01 15:30:00",
         "16.6",
         "74.0",
         "13.0"
        ],
        [
         "2021-07-01 16:00:00",
         "16.7",
         "75.0",
         "13.0"
        ],
        [
         "2021-07-01 16:30:00",
         "16.5",
         "77.0",
         "13.0"
        ],
        [
         "2021-07-01 17:00:00",
         "16.1",
         "80.0",
         "9.4"
        ],
        [
         "2021-07-01 17:30:00",
         "16.1",
         "80.0",
         "9.4"
        ],
        [
         "2021-07-01 18:00:00",
         "16.2",
         "80.0",
         "9.4"
        ],
        [
         "2021-07-01 18:30:00",
         "16.1",
         "81.0",
         "9.4"
        ],
        [
         "2021-07-01 19:00:00",
         "15.8",
         "83.0",
         "11.2"
        ],
        [
         "2021-07-01 19:30:00",
         "15.7",
         "85.0",
         "13.0"
        ],
        [
         "2021-07-01 20:00:00",
         "14.7",
         "90.0",
         "13.0"
        ],
        [
         "2021-07-01 20:30:00",
         "14.7",
         "91.0",
         "5.4"
        ],
        [
         "2021-07-01 21:00:00",
         "14.2",
         "93.0",
         "13.0"
        ],
        [
         "2021-07-01 21:30:00",
         "14.3",
         "95.0",
         "7.6"
        ],
        [
         "2021-07-01 22:00:00",
         "14.3",
         "95.0",
         "11.2"
        ],
        [
         "2021-07-01 22:30:00",
         "14.1",
         "95.0",
         "13.0"
        ],
        [
         "2021-07-01 23:00:00",
         "13.7",
         "96.0",
         "13.0"
        ],
        [
         "2021-07-01 23:30:00",
         "13.5",
         "96.0",
         "11.2"
        ],
        [
         "2021-07-02 00:00:00",
         "13.4",
         "96.0",
         "9.4"
        ],
        [
         "2021-07-02 00:30:00",
         "13.4",
         "96.0",
         "9.4"
        ]
       ],
       "shape": {
        "columns": 3,
        "rows": 52608
       }
      },
      "text/html": [
       "<div>\n",
       "<style scoped>\n",
       "    .dataframe tbody tr th:only-of-type {\n",
       "        vertical-align: middle;\n",
       "    }\n",
       "\n",
       "    .dataframe tbody tr th {\n",
       "        vertical-align: top;\n",
       "    }\n",
       "\n",
       "    .dataframe thead th {\n",
       "        text-align: right;\n",
       "    }\n",
       "</style>\n",
       "<table border=\"1\" class=\"dataframe\">\n",
       "  <thead>\n",
       "    <tr style=\"text-align: right;\">\n",
       "      <th></th>\n",
       "      <th>air_temperature_in_degrees_c</th>\n",
       "      <th>relative_humidity_in_percentage</th>\n",
       "      <th>wind_speed_in_km_h</th>\n",
       "    </tr>\n",
       "    <tr>\n",
       "      <th>datetime</th>\n",
       "      <th></th>\n",
       "      <th></th>\n",
       "      <th></th>\n",
       "    </tr>\n",
       "  </thead>\n",
       "  <tbody>\n",
       "    <tr>\n",
       "      <th>2021-07-01 00:00:00</th>\n",
       "      <td>13.7</td>\n",
       "      <td>96.0</td>\n",
       "      <td>13.0</td>\n",
       "    </tr>\n",
       "    <tr>\n",
       "      <th>2021-07-01 00:30:00</th>\n",
       "      <td>13.2</td>\n",
       "      <td>96.0</td>\n",
       "      <td>9.4</td>\n",
       "    </tr>\n",
       "    <tr>\n",
       "      <th>2021-07-01 01:00:00</th>\n",
       "      <td>13.3</td>\n",
       "      <td>97.0</td>\n",
       "      <td>11.2</td>\n",
       "    </tr>\n",
       "    <tr>\n",
       "      <th>2021-07-01 01:30:00</th>\n",
       "      <td>13.2</td>\n",
       "      <td>97.0</td>\n",
       "      <td>7.6</td>\n",
       "    </tr>\n",
       "    <tr>\n",
       "      <th>2021-07-01 02:00:00</th>\n",
       "      <td>12.9</td>\n",
       "      <td>98.0</td>\n",
       "      <td>7.6</td>\n",
       "    </tr>\n",
       "    <tr>\n",
       "      <th>...</th>\n",
       "      <td>...</td>\n",
       "      <td>...</td>\n",
       "      <td>...</td>\n",
       "    </tr>\n",
       "    <tr>\n",
       "      <th>2024-06-30 21:30:00</th>\n",
       "      <td>9.7</td>\n",
       "      <td>85.0</td>\n",
       "      <td>22.3</td>\n",
       "    </tr>\n",
       "    <tr>\n",
       "      <th>2024-06-30 22:00:00</th>\n",
       "      <td>9.7</td>\n",
       "      <td>82.0</td>\n",
       "      <td>20.5</td>\n",
       "    </tr>\n",
       "    <tr>\n",
       "      <th>2024-06-30 22:30:00</th>\n",
       "      <td>9.5</td>\n",
       "      <td>82.0</td>\n",
       "      <td>16.6</td>\n",
       "    </tr>\n",
       "    <tr>\n",
       "      <th>2024-06-30 23:00:00</th>\n",
       "      <td>9.0</td>\n",
       "      <td>82.0</td>\n",
       "      <td>16.6</td>\n",
       "    </tr>\n",
       "    <tr>\n",
       "      <th>2024-06-30 23:30:00</th>\n",
       "      <td>8.8</td>\n",
       "      <td>84.0</td>\n",
       "      <td>18.4</td>\n",
       "    </tr>\n",
       "  </tbody>\n",
       "</table>\n",
       "<p>52608 rows × 3 columns</p>\n",
       "</div>"
      ],
      "text/plain": [
       "                     air_temperature_in_degrees_c  \\\n",
       "datetime                                            \n",
       "2021-07-01 00:00:00                          13.7   \n",
       "2021-07-01 00:30:00                          13.2   \n",
       "2021-07-01 01:00:00                          13.3   \n",
       "2021-07-01 01:30:00                          13.2   \n",
       "2021-07-01 02:00:00                          12.9   \n",
       "...                                           ...   \n",
       "2024-06-30 21:30:00                           9.7   \n",
       "2024-06-30 22:00:00                           9.7   \n",
       "2024-06-30 22:30:00                           9.5   \n",
       "2024-06-30 23:00:00                           9.0   \n",
       "2024-06-30 23:30:00                           8.8   \n",
       "\n",
       "                     relative_humidity_in_percentage  wind_speed_in_km_h  \n",
       "datetime                                                                  \n",
       "2021-07-01 00:00:00                             96.0                13.0  \n",
       "2021-07-01 00:30:00                             96.0                 9.4  \n",
       "2021-07-01 01:00:00                             97.0                11.2  \n",
       "2021-07-01 01:30:00                             97.0                 7.6  \n",
       "2021-07-01 02:00:00                             98.0                 7.6  \n",
       "...                                              ...                 ...  \n",
       "2024-06-30 21:30:00                             85.0                22.3  \n",
       "2024-06-30 22:00:00                             82.0                20.5  \n",
       "2024-06-30 22:30:00                             82.0                16.6  \n",
       "2024-06-30 23:00:00                             82.0                16.6  \n",
       "2024-06-30 23:30:00                             84.0                18.4  \n",
       "\n",
       "[52608 rows x 3 columns]"
      ]
     },
     "execution_count": 12,
     "metadata": {},
     "output_type": "execute_result"
    }
   ],
   "source": [
    "weather_data_df"
   ]
  },
  {
   "cell_type": "code",
   "execution_count": 13,
   "id": "4cf04935",
   "metadata": {},
   "outputs": [],
   "source": [
    "weather_data_df.to_csv(r'c:\\Users\\z5404477\\OneDrive - UNSW\\04_Workspace\\2. WIP\\data\\2. processed\\aedp_weather_data.csv')\n"
   ]
  },
  {
   "cell_type": "code",
   "execution_count": 2,
   "id": "455c37e7",
   "metadata": {},
   "outputs": [],
   "source": [
    "weather_data_df = pd.read_csv(r'c:\\Users\\z5404477\\OneDrive - UNSW\\04_Workspace\\2. WIP\\data\\2. processed\\aedp_weather_data.csv')"
   ]
  },
  {
   "cell_type": "code",
   "execution_count": 5,
   "id": "414f3e77",
   "metadata": {},
   "outputs": [],
   "source": [
    "ds7 = pd.read_csv('../../../data/ds7_aedp_cluster_30min.csv')"
   ]
  },
  {
   "cell_type": "code",
   "execution_count": 6,
   "id": "4a6adc41",
   "metadata": {},
   "outputs": [
    {
     "data": {
      "application/vnd.microsoft.datawrangler.viewer.v0+json": {
       "columns": [
        {
         "name": "index",
         "rawType": "int64",
         "type": "integer"
        },
        {
         "name": "datetime",
         "rawType": "object",
         "type": "string"
        },
        {
         "name": "netload_kW",
         "rawType": "float64",
         "type": "float"
        }
       ],
       "ref": "cad8e331-4b9b-4b10-a8db-dc9d437b3ab2",
       "rows": [
        [
         "0",
         "2021-07-01 00:00:00",
         "130.311"
        ],
        [
         "1",
         "2021-07-01 00:30:00",
         "124.584"
        ],
        [
         "2",
         "2021-07-01 01:00:00",
         "126.831"
        ],
        [
         "3",
         "2021-07-01 01:30:00",
         "87.189"
        ],
        [
         "4",
         "2021-07-01 02:00:00",
         "76.515"
        ],
        [
         "5",
         "2021-07-01 02:30:00",
         "68.159"
        ],
        [
         "6",
         "2021-07-01 03:00:00",
         "59.261"
        ],
        [
         "7",
         "2021-07-01 03:30:00",
         "87.003"
        ],
        [
         "8",
         "2021-07-01 04:00:00",
         "87.652"
        ],
        [
         "9",
         "2021-07-01 04:30:00",
         "96.583"
        ],
        [
         "10",
         "2021-07-01 05:00:00",
         "110.516"
        ],
        [
         "11",
         "2021-07-01 05:30:00",
         "135.205"
        ],
        [
         "12",
         "2021-07-01 06:00:00",
         "166.434"
        ],
        [
         "13",
         "2021-07-01 06:30:00",
         "176.555"
        ],
        [
         "14",
         "2021-07-01 07:00:00",
         "184.993"
        ],
        [
         "15",
         "2021-07-01 07:30:00",
         "219.195"
        ],
        [
         "16",
         "2021-07-01 08:00:00",
         "208.341"
        ],
        [
         "17",
         "2021-07-01 08:30:00",
         "192.041"
        ],
        [
         "18",
         "2021-07-01 09:00:00",
         "148.683"
        ],
        [
         "19",
         "2021-07-01 09:30:00",
         "134.304"
        ],
        [
         "20",
         "2021-07-01 10:00:00",
         "133.171"
        ],
        [
         "21",
         "2021-07-01 10:30:00",
         "107.899"
        ],
        [
         "22",
         "2021-07-01 11:00:00",
         "97.702"
        ],
        [
         "23",
         "2021-07-01 11:30:00",
         "64.542"
        ],
        [
         "24",
         "2021-07-01 12:00:00",
         "42.187"
        ],
        [
         "25",
         "2021-07-01 12:30:00",
         "12.978"
        ],
        [
         "26",
         "2021-07-01 13:00:00",
         "9.656"
        ],
        [
         "27",
         "2021-07-01 13:30:00",
         "58.612"
        ],
        [
         "28",
         "2021-07-01 14:00:00",
         "101.726"
        ],
        [
         "29",
         "2021-07-01 14:30:00",
         "133.143"
        ],
        [
         "30",
         "2021-07-01 15:00:00",
         "158.412"
        ],
        [
         "31",
         "2021-07-01 15:30:00",
         "187.509"
        ],
        [
         "32",
         "2021-07-01 16:00:00",
         "188.293"
        ],
        [
         "33",
         "2021-07-01 16:30:00",
         "220.342"
        ],
        [
         "34",
         "2021-07-01 17:00:00",
         "225.829"
        ],
        [
         "35",
         "2021-07-01 17:30:00",
         "240.688"
        ],
        [
         "36",
         "2021-07-01 18:00:00",
         "232.277"
        ],
        [
         "37",
         "2021-07-01 18:30:00",
         "226.674"
        ],
        [
         "38",
         "2021-07-01 19:00:00",
         "226.758"
        ],
        [
         "39",
         "2021-07-01 19:30:00",
         "234.512"
        ],
        [
         "40",
         "2021-07-01 20:00:00",
         "214.35"
        ],
        [
         "41",
         "2021-07-01 20:30:00",
         "201.177"
        ],
        [
         "42",
         "2021-07-01 21:00:00",
         "197.958"
        ],
        [
         "43",
         "2021-07-01 21:30:00",
         "208.348"
        ],
        [
         "44",
         "2021-07-01 22:00:00",
         "195.423"
        ],
        [
         "45",
         "2021-07-01 22:30:00",
         "181.653"
        ],
        [
         "46",
         "2021-07-01 23:00:00",
         "154.213"
        ],
        [
         "47",
         "2021-07-01 23:30:00",
         "132.228"
        ],
        [
         "48",
         "2021-07-02 00:00:00",
         "113.731"
        ],
        [
         "49",
         "2021-07-02 00:30:00",
         "69.513"
        ]
       ],
       "shape": {
        "columns": 2,
        "rows": 52608
       }
      },
      "text/html": [
       "<div>\n",
       "<style scoped>\n",
       "    .dataframe tbody tr th:only-of-type {\n",
       "        vertical-align: middle;\n",
       "    }\n",
       "\n",
       "    .dataframe tbody tr th {\n",
       "        vertical-align: top;\n",
       "    }\n",
       "\n",
       "    .dataframe thead th {\n",
       "        text-align: right;\n",
       "    }\n",
       "</style>\n",
       "<table border=\"1\" class=\"dataframe\">\n",
       "  <thead>\n",
       "    <tr style=\"text-align: right;\">\n",
       "      <th></th>\n",
       "      <th>datetime</th>\n",
       "      <th>netload_kW</th>\n",
       "    </tr>\n",
       "  </thead>\n",
       "  <tbody>\n",
       "    <tr>\n",
       "      <th>0</th>\n",
       "      <td>2021-07-01 00:00:00</td>\n",
       "      <td>130.311</td>\n",
       "    </tr>\n",
       "    <tr>\n",
       "      <th>1</th>\n",
       "      <td>2021-07-01 00:30:00</td>\n",
       "      <td>124.584</td>\n",
       "    </tr>\n",
       "    <tr>\n",
       "      <th>2</th>\n",
       "      <td>2021-07-01 01:00:00</td>\n",
       "      <td>126.831</td>\n",
       "    </tr>\n",
       "    <tr>\n",
       "      <th>3</th>\n",
       "      <td>2021-07-01 01:30:00</td>\n",
       "      <td>87.189</td>\n",
       "    </tr>\n",
       "    <tr>\n",
       "      <th>4</th>\n",
       "      <td>2021-07-01 02:00:00</td>\n",
       "      <td>76.515</td>\n",
       "    </tr>\n",
       "    <tr>\n",
       "      <th>...</th>\n",
       "      <td>...</td>\n",
       "      <td>...</td>\n",
       "    </tr>\n",
       "    <tr>\n",
       "      <th>52603</th>\n",
       "      <td>2024-06-30 21:30:00</td>\n",
       "      <td>152.890</td>\n",
       "    </tr>\n",
       "    <tr>\n",
       "      <th>52604</th>\n",
       "      <td>2024-06-30 22:00:00</td>\n",
       "      <td>141.031</td>\n",
       "    </tr>\n",
       "    <tr>\n",
       "      <th>52605</th>\n",
       "      <td>2024-06-30 22:30:00</td>\n",
       "      <td>146.383</td>\n",
       "    </tr>\n",
       "    <tr>\n",
       "      <th>52606</th>\n",
       "      <td>2024-06-30 23:00:00</td>\n",
       "      <td>144.749</td>\n",
       "    </tr>\n",
       "    <tr>\n",
       "      <th>52607</th>\n",
       "      <td>2024-06-30 23:30:00</td>\n",
       "      <td>128.384</td>\n",
       "    </tr>\n",
       "  </tbody>\n",
       "</table>\n",
       "<p>52608 rows × 2 columns</p>\n",
       "</div>"
      ],
      "text/plain": [
       "                  datetime  netload_kW\n",
       "0      2021-07-01 00:00:00     130.311\n",
       "1      2021-07-01 00:30:00     124.584\n",
       "2      2021-07-01 01:00:00     126.831\n",
       "3      2021-07-01 01:30:00      87.189\n",
       "4      2021-07-01 02:00:00      76.515\n",
       "...                    ...         ...\n",
       "52603  2024-06-30 21:30:00     152.890\n",
       "52604  2024-06-30 22:00:00     141.031\n",
       "52605  2024-06-30 22:30:00     146.383\n",
       "52606  2024-06-30 23:00:00     144.749\n",
       "52607  2024-06-30 23:30:00     128.384\n",
       "\n",
       "[52608 rows x 2 columns]"
      ]
     },
     "execution_count": 6,
     "metadata": {},
     "output_type": "execute_result"
    }
   ],
   "source": [
    "ds7\n"
   ]
  },
  {
   "cell_type": "code",
   "execution_count": null,
   "id": "3fe80949",
   "metadata": {},
   "outputs": [],
   "source": [
    "# make datetime column the index on ds1 dataframe\n",
    "ds7.index = ds7['datetime']\n",
    "\n",
    "ds7.drop(columns=['datetime'], inplace=True)\n",
    "\n",
    "#convert the index to datetime\n",
    "ds7.index = pd.to_datetime(ds7.index, format='%Y-%m-%d %H:%M:%S')\n",
    "\n"
   ]
  },
  {
   "cell_type": "code",
   "execution_count": 11,
   "id": "b15c2251",
   "metadata": {},
   "outputs": [
    {
     "data": {
      "application/vnd.microsoft.datawrangler.viewer.v0+json": {
       "columns": [
        {
         "name": "datetime",
         "rawType": "datetime64[ns]",
         "type": "datetime"
        },
        {
         "name": "netload_kW",
         "rawType": "float64",
         "type": "float"
        }
       ],
       "ref": "0329f901-1d29-4900-acec-5c194e76ee3b",
       "rows": [
        [
         "2021-07-01 00:00:00",
         "130.311"
        ],
        [
         "2021-07-01 00:30:00",
         "124.584"
        ],
        [
         "2021-07-01 01:00:00",
         "126.831"
        ],
        [
         "2021-07-01 01:30:00",
         "87.189"
        ],
        [
         "2021-07-01 02:00:00",
         "76.515"
        ],
        [
         "2021-07-01 02:30:00",
         "68.159"
        ],
        [
         "2021-07-01 03:00:00",
         "59.261"
        ],
        [
         "2021-07-01 03:30:00",
         "87.003"
        ],
        [
         "2021-07-01 04:00:00",
         "87.652"
        ],
        [
         "2021-07-01 04:30:00",
         "96.583"
        ],
        [
         "2021-07-01 05:00:00",
         "110.516"
        ],
        [
         "2021-07-01 05:30:00",
         "135.205"
        ],
        [
         "2021-07-01 06:00:00",
         "166.434"
        ],
        [
         "2021-07-01 06:30:00",
         "176.555"
        ],
        [
         "2021-07-01 07:00:00",
         "184.993"
        ],
        [
         "2021-07-01 07:30:00",
         "219.195"
        ],
        [
         "2021-07-01 08:00:00",
         "208.341"
        ],
        [
         "2021-07-01 08:30:00",
         "192.041"
        ],
        [
         "2021-07-01 09:00:00",
         "148.683"
        ],
        [
         "2021-07-01 09:30:00",
         "134.304"
        ],
        [
         "2021-07-01 10:00:00",
         "133.171"
        ],
        [
         "2021-07-01 10:30:00",
         "107.899"
        ],
        [
         "2021-07-01 11:00:00",
         "97.702"
        ],
        [
         "2021-07-01 11:30:00",
         "64.542"
        ],
        [
         "2021-07-01 12:00:00",
         "42.187"
        ],
        [
         "2021-07-01 12:30:00",
         "12.978"
        ],
        [
         "2021-07-01 13:00:00",
         "9.656"
        ],
        [
         "2021-07-01 13:30:00",
         "58.612"
        ],
        [
         "2021-07-01 14:00:00",
         "101.726"
        ],
        [
         "2021-07-01 14:30:00",
         "133.143"
        ],
        [
         "2021-07-01 15:00:00",
         "158.412"
        ],
        [
         "2021-07-01 15:30:00",
         "187.509"
        ],
        [
         "2021-07-01 16:00:00",
         "188.293"
        ],
        [
         "2021-07-01 16:30:00",
         "220.342"
        ],
        [
         "2021-07-01 17:00:00",
         "225.829"
        ],
        [
         "2021-07-01 17:30:00",
         "240.688"
        ],
        [
         "2021-07-01 18:00:00",
         "232.277"
        ],
        [
         "2021-07-01 18:30:00",
         "226.674"
        ],
        [
         "2021-07-01 19:00:00",
         "226.758"
        ],
        [
         "2021-07-01 19:30:00",
         "234.512"
        ],
        [
         "2021-07-01 20:00:00",
         "214.35"
        ],
        [
         "2021-07-01 20:30:00",
         "201.177"
        ],
        [
         "2021-07-01 21:00:00",
         "197.958"
        ],
        [
         "2021-07-01 21:30:00",
         "208.348"
        ],
        [
         "2021-07-01 22:00:00",
         "195.423"
        ],
        [
         "2021-07-01 22:30:00",
         "181.653"
        ],
        [
         "2021-07-01 23:00:00",
         "154.213"
        ],
        [
         "2021-07-01 23:30:00",
         "132.228"
        ],
        [
         "2021-07-02 00:00:00",
         "113.731"
        ],
        [
         "2021-07-02 00:30:00",
         "69.513"
        ]
       ],
       "shape": {
        "columns": 1,
        "rows": 52608
       }
      },
      "text/html": [
       "<div>\n",
       "<style scoped>\n",
       "    .dataframe tbody tr th:only-of-type {\n",
       "        vertical-align: middle;\n",
       "    }\n",
       "\n",
       "    .dataframe tbody tr th {\n",
       "        vertical-align: top;\n",
       "    }\n",
       "\n",
       "    .dataframe thead th {\n",
       "        text-align: right;\n",
       "    }\n",
       "</style>\n",
       "<table border=\"1\" class=\"dataframe\">\n",
       "  <thead>\n",
       "    <tr style=\"text-align: right;\">\n",
       "      <th></th>\n",
       "      <th>netload_kW</th>\n",
       "    </tr>\n",
       "    <tr>\n",
       "      <th>datetime</th>\n",
       "      <th></th>\n",
       "    </tr>\n",
       "  </thead>\n",
       "  <tbody>\n",
       "    <tr>\n",
       "      <th>2021-07-01 00:00:00</th>\n",
       "      <td>130.311</td>\n",
       "    </tr>\n",
       "    <tr>\n",
       "      <th>2021-07-01 00:30:00</th>\n",
       "      <td>124.584</td>\n",
       "    </tr>\n",
       "    <tr>\n",
       "      <th>2021-07-01 01:00:00</th>\n",
       "      <td>126.831</td>\n",
       "    </tr>\n",
       "    <tr>\n",
       "      <th>2021-07-01 01:30:00</th>\n",
       "      <td>87.189</td>\n",
       "    </tr>\n",
       "    <tr>\n",
       "      <th>2021-07-01 02:00:00</th>\n",
       "      <td>76.515</td>\n",
       "    </tr>\n",
       "    <tr>\n",
       "      <th>...</th>\n",
       "      <td>...</td>\n",
       "    </tr>\n",
       "    <tr>\n",
       "      <th>2024-06-30 21:30:00</th>\n",
       "      <td>152.890</td>\n",
       "    </tr>\n",
       "    <tr>\n",
       "      <th>2024-06-30 22:00:00</th>\n",
       "      <td>141.031</td>\n",
       "    </tr>\n",
       "    <tr>\n",
       "      <th>2024-06-30 22:30:00</th>\n",
       "      <td>146.383</td>\n",
       "    </tr>\n",
       "    <tr>\n",
       "      <th>2024-06-30 23:00:00</th>\n",
       "      <td>144.749</td>\n",
       "    </tr>\n",
       "    <tr>\n",
       "      <th>2024-06-30 23:30:00</th>\n",
       "      <td>128.384</td>\n",
       "    </tr>\n",
       "  </tbody>\n",
       "</table>\n",
       "<p>52608 rows × 1 columns</p>\n",
       "</div>"
      ],
      "text/plain": [
       "                     netload_kW\n",
       "datetime                       \n",
       "2021-07-01 00:00:00     130.311\n",
       "2021-07-01 00:30:00     124.584\n",
       "2021-07-01 01:00:00     126.831\n",
       "2021-07-01 01:30:00      87.189\n",
       "2021-07-01 02:00:00      76.515\n",
       "...                         ...\n",
       "2024-06-30 21:30:00     152.890\n",
       "2024-06-30 22:00:00     141.031\n",
       "2024-06-30 22:30:00     146.383\n",
       "2024-06-30 23:00:00     144.749\n",
       "2024-06-30 23:30:00     128.384\n",
       "\n",
       "[52608 rows x 1 columns]"
      ]
     },
     "execution_count": 11,
     "metadata": {},
     "output_type": "execute_result"
    }
   ],
   "source": [
    "ds7"
   ]
  },
  {
   "cell_type": "code",
   "execution_count": 14,
   "id": "c7331158",
   "metadata": {},
   "outputs": [],
   "source": [
    "#make datetime column to be the index on weather_data_df dataframe\n",
    "weather_data_df.index = pd.to_datetime(weather_data_df['datetime'], format='%Y-%m-%d %H:%M:%S')"
   ]
  },
  {
   "cell_type": "code",
   "execution_count": 16,
   "id": "87852d68",
   "metadata": {},
   "outputs": [],
   "source": [
    "weather_data_df.drop(columns=['datetime'], inplace=True)"
   ]
  },
  {
   "cell_type": "code",
   "execution_count": 17,
   "id": "8dbba6a5",
   "metadata": {},
   "outputs": [
    {
     "data": {
      "application/vnd.microsoft.datawrangler.viewer.v0+json": {
       "columns": [
        {
         "name": "datetime",
         "rawType": "datetime64[ns]",
         "type": "datetime"
        },
        {
         "name": "air_temperature_in_degrees_c",
         "rawType": "float64",
         "type": "float"
        },
        {
         "name": "relative_humidity_in_percentage",
         "rawType": "float64",
         "type": "float"
        },
        {
         "name": "wind_speed_in_km_h",
         "rawType": "float64",
         "type": "float"
        }
       ],
       "ref": "284cd98c-af20-439c-b9f9-d19f1969ceac",
       "rows": [
        [
         "2021-07-01 00:00:00",
         "13.7",
         "96.0",
         "13.0"
        ],
        [
         "2021-07-01 00:30:00",
         "13.2",
         "96.0",
         "9.4"
        ],
        [
         "2021-07-01 01:00:00",
         "13.3",
         "97.0",
         "11.2"
        ],
        [
         "2021-07-01 01:30:00",
         "13.2",
         "97.0",
         "7.6"
        ],
        [
         "2021-07-01 02:00:00",
         "12.9",
         "98.0",
         "7.6"
        ],
        [
         "2021-07-01 02:30:00",
         "12.6",
         "98.0",
         "0.0"
        ],
        [
         "2021-07-01 03:00:00",
         "12.3",
         "98.0",
         "7.6"
        ],
        [
         "2021-07-01 03:30:00",
         "12.1",
         "98.0",
         "7.6"
        ],
        [
         "2021-07-01 04:00:00",
         "11.7",
         "98.0",
         "11.2"
        ],
        [
         "2021-07-01 04:30:00",
         "11.7",
         "99.0",
         "9.4"
        ],
        [
         "2021-07-01 05:00:00",
         "11.3",
         "99.0",
         "11.2"
        ],
        [
         "2021-07-01 05:30:00",
         "11.1",
         "99.0",
         "9.4"
        ],
        [
         "2021-07-01 06:00:00",
         "11.1",
         "99.0",
         "11.2"
        ],
        [
         "2021-07-01 06:30:00",
         "10.6",
         "99.0",
         "7.6"
        ],
        [
         "2021-07-01 07:00:00",
         "10.9",
         "99.0",
         "7.6"
        ],
        [
         "2021-07-01 07:30:00",
         "11.3",
         "99.0",
         "0.0"
        ],
        [
         "2021-07-01 08:00:00",
         "11.7",
         "99.0",
         "7.6"
        ],
        [
         "2021-07-01 08:30:00",
         "11.9",
         "97.0",
         "11.2"
        ],
        [
         "2021-07-01 09:00:00",
         "12.3",
         "96.0",
         "13.0"
        ],
        [
         "2021-07-01 09:30:00",
         "12.9",
         "96.0",
         "13.0"
        ],
        [
         "2021-07-01 10:00:00",
         "13.3",
         "95.0",
         "9.4"
        ],
        [
         "2021-07-01 10:30:00",
         "13.4",
         "94.0",
         "9.4"
        ],
        [
         "2021-07-01 11:00:00",
         "14.1",
         "93.0",
         "9.4"
        ],
        [
         "2021-07-01 11:30:00",
         "14.4",
         "90.0",
         "9.4"
        ],
        [
         "2021-07-01 12:00:00",
         "15.1",
         "88.0",
         "9.4"
        ],
        [
         "2021-07-01 12:30:00",
         "15.9",
         "83.0",
         "9.4"
        ],
        [
         "2021-07-01 13:00:00",
         "15.1",
         "82.0",
         "5.4"
        ],
        [
         "2021-07-01 13:30:00",
         "15.3",
         "84.0",
         "7.6"
        ],
        [
         "2021-07-01 14:00:00",
         "15.4",
         "85.0",
         "7.6"
        ],
        [
         "2021-07-01 14:30:00",
         "16.2",
         "79.0",
         "9.4"
        ],
        [
         "2021-07-01 15:00:00",
         "16.0",
         "81.0",
         "7.6"
        ],
        [
         "2021-07-01 15:30:00",
         "16.6",
         "74.0",
         "13.0"
        ],
        [
         "2021-07-01 16:00:00",
         "16.7",
         "75.0",
         "13.0"
        ],
        [
         "2021-07-01 16:30:00",
         "16.5",
         "77.0",
         "13.0"
        ],
        [
         "2021-07-01 17:00:00",
         "16.1",
         "80.0",
         "9.4"
        ],
        [
         "2021-07-01 17:30:00",
         "16.1",
         "80.0",
         "9.4"
        ],
        [
         "2021-07-01 18:00:00",
         "16.2",
         "80.0",
         "9.4"
        ],
        [
         "2021-07-01 18:30:00",
         "16.1",
         "81.0",
         "9.4"
        ],
        [
         "2021-07-01 19:00:00",
         "15.8",
         "83.0",
         "11.2"
        ],
        [
         "2021-07-01 19:30:00",
         "15.7",
         "85.0",
         "13.0"
        ],
        [
         "2021-07-01 20:00:00",
         "14.7",
         "90.0",
         "13.0"
        ],
        [
         "2021-07-01 20:30:00",
         "14.7",
         "91.0",
         "5.4"
        ],
        [
         "2021-07-01 21:00:00",
         "14.2",
         "93.0",
         "13.0"
        ],
        [
         "2021-07-01 21:30:00",
         "14.3",
         "95.0",
         "7.6"
        ],
        [
         "2021-07-01 22:00:00",
         "14.3",
         "95.0",
         "11.2"
        ],
        [
         "2021-07-01 22:30:00",
         "14.1",
         "95.0",
         "13.0"
        ],
        [
         "2021-07-01 23:00:00",
         "13.7",
         "96.0",
         "13.0"
        ],
        [
         "2021-07-01 23:30:00",
         "13.5",
         "96.0",
         "11.2"
        ],
        [
         "2021-07-02 00:00:00",
         "13.4",
         "96.0",
         "9.4"
        ],
        [
         "2021-07-02 00:30:00",
         "13.4",
         "96.0",
         "9.4"
        ]
       ],
       "shape": {
        "columns": 3,
        "rows": 52608
       }
      },
      "text/html": [
       "<div>\n",
       "<style scoped>\n",
       "    .dataframe tbody tr th:only-of-type {\n",
       "        vertical-align: middle;\n",
       "    }\n",
       "\n",
       "    .dataframe tbody tr th {\n",
       "        vertical-align: top;\n",
       "    }\n",
       "\n",
       "    .dataframe thead th {\n",
       "        text-align: right;\n",
       "    }\n",
       "</style>\n",
       "<table border=\"1\" class=\"dataframe\">\n",
       "  <thead>\n",
       "    <tr style=\"text-align: right;\">\n",
       "      <th></th>\n",
       "      <th>air_temperature_in_degrees_c</th>\n",
       "      <th>relative_humidity_in_percentage</th>\n",
       "      <th>wind_speed_in_km_h</th>\n",
       "    </tr>\n",
       "    <tr>\n",
       "      <th>datetime</th>\n",
       "      <th></th>\n",
       "      <th></th>\n",
       "      <th></th>\n",
       "    </tr>\n",
       "  </thead>\n",
       "  <tbody>\n",
       "    <tr>\n",
       "      <th>2021-07-01 00:00:00</th>\n",
       "      <td>13.7</td>\n",
       "      <td>96.0</td>\n",
       "      <td>13.0</td>\n",
       "    </tr>\n",
       "    <tr>\n",
       "      <th>2021-07-01 00:30:00</th>\n",
       "      <td>13.2</td>\n",
       "      <td>96.0</td>\n",
       "      <td>9.4</td>\n",
       "    </tr>\n",
       "    <tr>\n",
       "      <th>2021-07-01 01:00:00</th>\n",
       "      <td>13.3</td>\n",
       "      <td>97.0</td>\n",
       "      <td>11.2</td>\n",
       "    </tr>\n",
       "    <tr>\n",
       "      <th>2021-07-01 01:30:00</th>\n",
       "      <td>13.2</td>\n",
       "      <td>97.0</td>\n",
       "      <td>7.6</td>\n",
       "    </tr>\n",
       "    <tr>\n",
       "      <th>2021-07-01 02:00:00</th>\n",
       "      <td>12.9</td>\n",
       "      <td>98.0</td>\n",
       "      <td>7.6</td>\n",
       "    </tr>\n",
       "    <tr>\n",
       "      <th>...</th>\n",
       "      <td>...</td>\n",
       "      <td>...</td>\n",
       "      <td>...</td>\n",
       "    </tr>\n",
       "    <tr>\n",
       "      <th>2024-06-30 21:30:00</th>\n",
       "      <td>9.7</td>\n",
       "      <td>85.0</td>\n",
       "      <td>22.3</td>\n",
       "    </tr>\n",
       "    <tr>\n",
       "      <th>2024-06-30 22:00:00</th>\n",
       "      <td>9.7</td>\n",
       "      <td>82.0</td>\n",
       "      <td>20.5</td>\n",
       "    </tr>\n",
       "    <tr>\n",
       "      <th>2024-06-30 22:30:00</th>\n",
       "      <td>9.5</td>\n",
       "      <td>82.0</td>\n",
       "      <td>16.6</td>\n",
       "    </tr>\n",
       "    <tr>\n",
       "      <th>2024-06-30 23:00:00</th>\n",
       "      <td>9.0</td>\n",
       "      <td>82.0</td>\n",
       "      <td>16.6</td>\n",
       "    </tr>\n",
       "    <tr>\n",
       "      <th>2024-06-30 23:30:00</th>\n",
       "      <td>8.8</td>\n",
       "      <td>84.0</td>\n",
       "      <td>18.4</td>\n",
       "    </tr>\n",
       "  </tbody>\n",
       "</table>\n",
       "<p>52608 rows × 3 columns</p>\n",
       "</div>"
      ],
      "text/plain": [
       "                     air_temperature_in_degrees_c  \\\n",
       "datetime                                            \n",
       "2021-07-01 00:00:00                          13.7   \n",
       "2021-07-01 00:30:00                          13.2   \n",
       "2021-07-01 01:00:00                          13.3   \n",
       "2021-07-01 01:30:00                          13.2   \n",
       "2021-07-01 02:00:00                          12.9   \n",
       "...                                           ...   \n",
       "2024-06-30 21:30:00                           9.7   \n",
       "2024-06-30 22:00:00                           9.7   \n",
       "2024-06-30 22:30:00                           9.5   \n",
       "2024-06-30 23:00:00                           9.0   \n",
       "2024-06-30 23:30:00                           8.8   \n",
       "\n",
       "                     relative_humidity_in_percentage  wind_speed_in_km_h  \n",
       "datetime                                                                  \n",
       "2021-07-01 00:00:00                             96.0                13.0  \n",
       "2021-07-01 00:30:00                             96.0                 9.4  \n",
       "2021-07-01 01:00:00                             97.0                11.2  \n",
       "2021-07-01 01:30:00                             97.0                 7.6  \n",
       "2021-07-01 02:00:00                             98.0                 7.6  \n",
       "...                                              ...                 ...  \n",
       "2024-06-30 21:30:00                             85.0                22.3  \n",
       "2024-06-30 22:00:00                             82.0                20.5  \n",
       "2024-06-30 22:30:00                             82.0                16.6  \n",
       "2024-06-30 23:00:00                             82.0                16.6  \n",
       "2024-06-30 23:30:00                             84.0                18.4  \n",
       "\n",
       "[52608 rows x 3 columns]"
      ]
     },
     "execution_count": 17,
     "metadata": {},
     "output_type": "execute_result"
    }
   ],
   "source": [
    "weather_data_df"
   ]
  },
  {
   "cell_type": "code",
   "execution_count": 18,
   "id": "168d78ee",
   "metadata": {},
   "outputs": [],
   "source": [
    "#merge the ds7 dataframe with the weather_data_df dataframe\n",
    "ds8 = ds7.merge(weather_data_df, left_index=True, right_index=True, how='outer')"
   ]
  },
  {
   "cell_type": "code",
   "execution_count": 19,
   "id": "1962cbd1",
   "metadata": {},
   "outputs": [
    {
     "data": {
      "application/vnd.microsoft.datawrangler.viewer.v0+json": {
       "columns": [
        {
         "name": "datetime",
         "rawType": "datetime64[ns]",
         "type": "datetime"
        },
        {
         "name": "netload_kW",
         "rawType": "float64",
         "type": "float"
        },
        {
         "name": "air_temperature_in_degrees_c",
         "rawType": "float64",
         "type": "float"
        },
        {
         "name": "relative_humidity_in_percentage",
         "rawType": "float64",
         "type": "float"
        },
        {
         "name": "wind_speed_in_km_h",
         "rawType": "float64",
         "type": "float"
        }
       ],
       "ref": "7b81fc7f-6aff-46b7-86cb-0171cdc21282",
       "rows": [
        [
         "2021-07-01 00:00:00",
         "130.311",
         "13.7",
         "96.0",
         "13.0"
        ],
        [
         "2021-07-01 00:30:00",
         "124.584",
         "13.2",
         "96.0",
         "9.4"
        ],
        [
         "2021-07-01 01:00:00",
         "126.831",
         "13.3",
         "97.0",
         "11.2"
        ],
        [
         "2021-07-01 01:30:00",
         "87.189",
         "13.2",
         "97.0",
         "7.6"
        ],
        [
         "2021-07-01 02:00:00",
         "76.515",
         "12.9",
         "98.0",
         "7.6"
        ],
        [
         "2021-07-01 02:30:00",
         "68.159",
         "12.6",
         "98.0",
         "0.0"
        ],
        [
         "2021-07-01 03:00:00",
         "59.261",
         "12.3",
         "98.0",
         "7.6"
        ],
        [
         "2021-07-01 03:30:00",
         "87.003",
         "12.1",
         "98.0",
         "7.6"
        ],
        [
         "2021-07-01 04:00:00",
         "87.652",
         "11.7",
         "98.0",
         "11.2"
        ],
        [
         "2021-07-01 04:30:00",
         "96.583",
         "11.7",
         "99.0",
         "9.4"
        ],
        [
         "2021-07-01 05:00:00",
         "110.516",
         "11.3",
         "99.0",
         "11.2"
        ],
        [
         "2021-07-01 05:30:00",
         "135.205",
         "11.1",
         "99.0",
         "9.4"
        ],
        [
         "2021-07-01 06:00:00",
         "166.434",
         "11.1",
         "99.0",
         "11.2"
        ],
        [
         "2021-07-01 06:30:00",
         "176.555",
         "10.6",
         "99.0",
         "7.6"
        ],
        [
         "2021-07-01 07:00:00",
         "184.993",
         "10.9",
         "99.0",
         "7.6"
        ],
        [
         "2021-07-01 07:30:00",
         "219.195",
         "11.3",
         "99.0",
         "0.0"
        ],
        [
         "2021-07-01 08:00:00",
         "208.341",
         "11.7",
         "99.0",
         "7.6"
        ],
        [
         "2021-07-01 08:30:00",
         "192.041",
         "11.9",
         "97.0",
         "11.2"
        ],
        [
         "2021-07-01 09:00:00",
         "148.683",
         "12.3",
         "96.0",
         "13.0"
        ],
        [
         "2021-07-01 09:30:00",
         "134.304",
         "12.9",
         "96.0",
         "13.0"
        ],
        [
         "2021-07-01 10:00:00",
         "133.171",
         "13.3",
         "95.0",
         "9.4"
        ],
        [
         "2021-07-01 10:30:00",
         "107.899",
         "13.4",
         "94.0",
         "9.4"
        ],
        [
         "2021-07-01 11:00:00",
         "97.702",
         "14.1",
         "93.0",
         "9.4"
        ],
        [
         "2021-07-01 11:30:00",
         "64.542",
         "14.4",
         "90.0",
         "9.4"
        ],
        [
         "2021-07-01 12:00:00",
         "42.187",
         "15.1",
         "88.0",
         "9.4"
        ],
        [
         "2021-07-01 12:30:00",
         "12.978",
         "15.9",
         "83.0",
         "9.4"
        ],
        [
         "2021-07-01 13:00:00",
         "9.656",
         "15.1",
         "82.0",
         "5.4"
        ],
        [
         "2021-07-01 13:30:00",
         "58.612",
         "15.3",
         "84.0",
         "7.6"
        ],
        [
         "2021-07-01 14:00:00",
         "101.726",
         "15.4",
         "85.0",
         "7.6"
        ],
        [
         "2021-07-01 14:30:00",
         "133.143",
         "16.2",
         "79.0",
         "9.4"
        ],
        [
         "2021-07-01 15:00:00",
         "158.412",
         "16.0",
         "81.0",
         "7.6"
        ],
        [
         "2021-07-01 15:30:00",
         "187.509",
         "16.6",
         "74.0",
         "13.0"
        ],
        [
         "2021-07-01 16:00:00",
         "188.293",
         "16.7",
         "75.0",
         "13.0"
        ],
        [
         "2021-07-01 16:30:00",
         "220.342",
         "16.5",
         "77.0",
         "13.0"
        ],
        [
         "2021-07-01 17:00:00",
         "225.829",
         "16.1",
         "80.0",
         "9.4"
        ],
        [
         "2021-07-01 17:30:00",
         "240.688",
         "16.1",
         "80.0",
         "9.4"
        ],
        [
         "2021-07-01 18:00:00",
         "232.277",
         "16.2",
         "80.0",
         "9.4"
        ],
        [
         "2021-07-01 18:30:00",
         "226.674",
         "16.1",
         "81.0",
         "9.4"
        ],
        [
         "2021-07-01 19:00:00",
         "226.758",
         "15.8",
         "83.0",
         "11.2"
        ],
        [
         "2021-07-01 19:30:00",
         "234.512",
         "15.7",
         "85.0",
         "13.0"
        ],
        [
         "2021-07-01 20:00:00",
         "214.35",
         "14.7",
         "90.0",
         "13.0"
        ],
        [
         "2021-07-01 20:30:00",
         "201.177",
         "14.7",
         "91.0",
         "5.4"
        ],
        [
         "2021-07-01 21:00:00",
         "197.958",
         "14.2",
         "93.0",
         "13.0"
        ],
        [
         "2021-07-01 21:30:00",
         "208.348",
         "14.3",
         "95.0",
         "7.6"
        ],
        [
         "2021-07-01 22:00:00",
         "195.423",
         "14.3",
         "95.0",
         "11.2"
        ],
        [
         "2021-07-01 22:30:00",
         "181.653",
         "14.1",
         "95.0",
         "13.0"
        ],
        [
         "2021-07-01 23:00:00",
         "154.213",
         "13.7",
         "96.0",
         "13.0"
        ],
        [
         "2021-07-01 23:30:00",
         "132.228",
         "13.5",
         "96.0",
         "11.2"
        ],
        [
         "2021-07-02 00:00:00",
         "113.731",
         "13.4",
         "96.0",
         "9.4"
        ],
        [
         "2021-07-02 00:30:00",
         "69.513",
         "13.4",
         "96.0",
         "9.4"
        ]
       ],
       "shape": {
        "columns": 4,
        "rows": 52608
       }
      },
      "text/html": [
       "<div>\n",
       "<style scoped>\n",
       "    .dataframe tbody tr th:only-of-type {\n",
       "        vertical-align: middle;\n",
       "    }\n",
       "\n",
       "    .dataframe tbody tr th {\n",
       "        vertical-align: top;\n",
       "    }\n",
       "\n",
       "    .dataframe thead th {\n",
       "        text-align: right;\n",
       "    }\n",
       "</style>\n",
       "<table border=\"1\" class=\"dataframe\">\n",
       "  <thead>\n",
       "    <tr style=\"text-align: right;\">\n",
       "      <th></th>\n",
       "      <th>netload_kW</th>\n",
       "      <th>air_temperature_in_degrees_c</th>\n",
       "      <th>relative_humidity_in_percentage</th>\n",
       "      <th>wind_speed_in_km_h</th>\n",
       "    </tr>\n",
       "    <tr>\n",
       "      <th>datetime</th>\n",
       "      <th></th>\n",
       "      <th></th>\n",
       "      <th></th>\n",
       "      <th></th>\n",
       "    </tr>\n",
       "  </thead>\n",
       "  <tbody>\n",
       "    <tr>\n",
       "      <th>2021-07-01 00:00:00</th>\n",
       "      <td>130.311</td>\n",
       "      <td>13.7</td>\n",
       "      <td>96.0</td>\n",
       "      <td>13.0</td>\n",
       "    </tr>\n",
       "    <tr>\n",
       "      <th>2021-07-01 00:30:00</th>\n",
       "      <td>124.584</td>\n",
       "      <td>13.2</td>\n",
       "      <td>96.0</td>\n",
       "      <td>9.4</td>\n",
       "    </tr>\n",
       "    <tr>\n",
       "      <th>2021-07-01 01:00:00</th>\n",
       "      <td>126.831</td>\n",
       "      <td>13.3</td>\n",
       "      <td>97.0</td>\n",
       "      <td>11.2</td>\n",
       "    </tr>\n",
       "    <tr>\n",
       "      <th>2021-07-01 01:30:00</th>\n",
       "      <td>87.189</td>\n",
       "      <td>13.2</td>\n",
       "      <td>97.0</td>\n",
       "      <td>7.6</td>\n",
       "    </tr>\n",
       "    <tr>\n",
       "      <th>2021-07-01 02:00:00</th>\n",
       "      <td>76.515</td>\n",
       "      <td>12.9</td>\n",
       "      <td>98.0</td>\n",
       "      <td>7.6</td>\n",
       "    </tr>\n",
       "    <tr>\n",
       "      <th>...</th>\n",
       "      <td>...</td>\n",
       "      <td>...</td>\n",
       "      <td>...</td>\n",
       "      <td>...</td>\n",
       "    </tr>\n",
       "    <tr>\n",
       "      <th>2024-06-30 21:30:00</th>\n",
       "      <td>152.890</td>\n",
       "      <td>9.7</td>\n",
       "      <td>85.0</td>\n",
       "      <td>22.3</td>\n",
       "    </tr>\n",
       "    <tr>\n",
       "      <th>2024-06-30 22:00:00</th>\n",
       "      <td>141.031</td>\n",
       "      <td>9.7</td>\n",
       "      <td>82.0</td>\n",
       "      <td>20.5</td>\n",
       "    </tr>\n",
       "    <tr>\n",
       "      <th>2024-06-30 22:30:00</th>\n",
       "      <td>146.383</td>\n",
       "      <td>9.5</td>\n",
       "      <td>82.0</td>\n",
       "      <td>16.6</td>\n",
       "    </tr>\n",
       "    <tr>\n",
       "      <th>2024-06-30 23:00:00</th>\n",
       "      <td>144.749</td>\n",
       "      <td>9.0</td>\n",
       "      <td>82.0</td>\n",
       "      <td>16.6</td>\n",
       "    </tr>\n",
       "    <tr>\n",
       "      <th>2024-06-30 23:30:00</th>\n",
       "      <td>128.384</td>\n",
       "      <td>8.8</td>\n",
       "      <td>84.0</td>\n",
       "      <td>18.4</td>\n",
       "    </tr>\n",
       "  </tbody>\n",
       "</table>\n",
       "<p>52608 rows × 4 columns</p>\n",
       "</div>"
      ],
      "text/plain": [
       "                     netload_kW  air_temperature_in_degrees_c  \\\n",
       "datetime                                                        \n",
       "2021-07-01 00:00:00     130.311                          13.7   \n",
       "2021-07-01 00:30:00     124.584                          13.2   \n",
       "2021-07-01 01:00:00     126.831                          13.3   \n",
       "2021-07-01 01:30:00      87.189                          13.2   \n",
       "2021-07-01 02:00:00      76.515                          12.9   \n",
       "...                         ...                           ...   \n",
       "2024-06-30 21:30:00     152.890                           9.7   \n",
       "2024-06-30 22:00:00     141.031                           9.7   \n",
       "2024-06-30 22:30:00     146.383                           9.5   \n",
       "2024-06-30 23:00:00     144.749                           9.0   \n",
       "2024-06-30 23:30:00     128.384                           8.8   \n",
       "\n",
       "                     relative_humidity_in_percentage  wind_speed_in_km_h  \n",
       "datetime                                                                  \n",
       "2021-07-01 00:00:00                             96.0                13.0  \n",
       "2021-07-01 00:30:00                             96.0                 9.4  \n",
       "2021-07-01 01:00:00                             97.0                11.2  \n",
       "2021-07-01 01:30:00                             97.0                 7.6  \n",
       "2021-07-01 02:00:00                             98.0                 7.6  \n",
       "...                                              ...                 ...  \n",
       "2024-06-30 21:30:00                             85.0                22.3  \n",
       "2024-06-30 22:00:00                             82.0                20.5  \n",
       "2024-06-30 22:30:00                             82.0                16.6  \n",
       "2024-06-30 23:00:00                             82.0                16.6  \n",
       "2024-06-30 23:30:00                             84.0                18.4  \n",
       "\n",
       "[52608 rows x 4 columns]"
      ]
     },
     "execution_count": 19,
     "metadata": {},
     "output_type": "execute_result"
    }
   ],
   "source": [
    "ds8"
   ]
  },
  {
   "cell_type": "code",
   "execution_count": 20,
   "id": "feae2fa3",
   "metadata": {},
   "outputs": [],
   "source": [
    "ds8.to_csv('../../../data/ds8_aedp_cluster_30min_with_weather.csv')"
   ]
  },
  {
   "cell_type": "code",
   "execution_count": null,
   "id": "0bfc4330",
   "metadata": {},
   "outputs": [],
   "source": []
  }
 ],
 "metadata": {
  "kernelspec": {
   "display_name": ".venv",
   "language": "python",
   "name": "python3"
  },
  "language_info": {
   "codemirror_mode": {
    "name": "ipython",
    "version": 3
   },
   "file_extension": ".py",
   "mimetype": "text/x-python",
   "name": "python",
   "nbconvert_exporter": "python",
   "pygments_lexer": "ipython3",
   "version": "3.12.3"
  }
 },
 "nbformat": 4,
 "nbformat_minor": 5
}
