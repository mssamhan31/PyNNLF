{
 "cells": [
  {
   "cell_type": "code",
   "execution_count": 123,
   "id": "b3352d28",
   "metadata": {},
   "outputs": [
    {
     "name": "stdout",
     "output_type": "stream",
     "text": [
      "         station_number             datetime  air_temperature_in_degrees_c  \\\n",
      "1747282           66037  2022-12-01 00:00:00                          18.4   \n",
      "1747283           66037  2022-12-01 00:30:00                          18.2   \n",
      "1747284           66037  2022-12-01 01:00:00                          18.3   \n",
      "1747285           66037  2022-12-01 01:30:00                          18.2   \n",
      "1747286           66037  2022-12-01 02:00:00                          18.1   \n",
      "\n",
      "         relative_humidity_in_percentage  wind_speed_in_km_h  \n",
      "1747282                             63.0                13.0  \n",
      "1747283                             65.0                13.0  \n",
      "1747284                             66.0                13.0  \n",
      "1747285                             68.0                13.0  \n",
      "1747286                             69.0                13.0  \n"
     ]
    }
   ],
   "source": [
    "import pandas as pd\n",
    "\n",
    "# Define the condition for filtering (stations you're interested in)\n",
    "column_name = 'station_number'  # Replace with your column name\n",
    "value_conditions = [66062, 66037, 67105]  # List of station numbers to include (Observatory Hill, Sydney Airport, and Richmond)\n",
    "\n",
    "# Define the columns to read (make sure to include 'station_number' in col_to_include)\n",
    "col_to_include = ['station_number', 'datetime', 'air_temperature_in_degrees_c', 'wind_speed_in_km_h', 'relative_humidity_in_percentage']\n",
    "\n",
    "# Specify the chunk size (e.g., 10000 rows per chunk)\n",
    "chunk_size = 10000\n",
    "\n",
    "# Initialize an empty list to store filtered chunks\n",
    "filtered_chunks = []\n",
    "\n",
    "# Iterate over the file in chunks\n",
    "for chunk in pd.read_csv(r'c:\\Users\\z5404477\\OneDrive - UNSW\\04_Workspace\\2. WIP\\data\\1. raw\\BOM Weather Data\\bom_data_nsw55167608.csv', \n",
    "                         usecols=col_to_include, chunksize=chunk_size):\n",
    "    # Filter rows where 'station_number' is in the list of value_conditions\n",
    "    filtered_chunk = chunk[chunk[column_name].isin(value_conditions)]\n",
    "    filtered_chunks.append(filtered_chunk)\n",
    "\n",
    "# Concatenate the filtered chunks into a single DataFrame\n",
    "filtered_df = pd.concat(filtered_chunks)\n",
    "\n",
    "# Display the first 5 filtered rows\n",
    "print(filtered_df.head(5))\n"
   ]
  },
  {
   "cell_type": "code",
   "execution_count": null,
   "id": "987b8748",
   "metadata": {},
   "outputs": [],
   "source": [
    "filtered_df['datetime'] = pd.to_datetime(filtered_df['datetime'], format='%Y-%m-%d %H:%M:%S')\n",
    "#filter the datetime to include only from 1 July 2010 00:00:00 am to 30 June 2013 23:30:00, which is ASHD data\n",
    "start_date = '2010-07-01 00:00:00'\n",
    "end_date = '2013-06-30 23:30:00'\n",
    "filtered_df = filtered_df[(filtered_df['datetime'] >= start_date) & (filtered_df['datetime'] <= end_date)]\n",
    "\n",
    "filtered_df_2 = filtered_df[filtered_df['station_number'] == 66037] #use Sydney Airport station only\n",
    "\n",
    "# make datetime the index\n",
    "filtered_df_2.set_index('datetime', inplace=True)\n",
    "#sort the index\n",
    "filtered_df_2.sort_index(inplace=True)\n",
    "\n",
    "# create a column of datetime from 1 July 2010 to 30 June 2013 with 30 minute intervals\n",
    "expected_date_range = pd.date_range(start=start_date, end=end_date, freq='30min')\n",
    "\n",
    "# make weather data df with the expected date range\n",
    "weather_data_df = pd.DataFrame(index=expected_date_range)\n",
    "\n",
    "# set  index name to 'datetime'\n",
    "weather_data_df.index.name = 'datetime'\n",
    "\n",
    "# merge the weather data with the filtered data, keeping both datetime from the weather data and the filtered data\n",
    "weather_data_df = weather_data_df.merge(filtered_df_2, left_index=True, right_index=True, how='outer')\n",
    "\n",
    "# fill NaN values the nearest previous value\n",
    "weather_data_df.fillna(method='ffill', inplace=True)\n",
    "\n",
    "# include only the row with expected date range\n",
    "weather_data_df = weather_data_df.loc[expected_date_range]\n",
    "\n",
    "#delete station_number column\n",
    "weather_data_df.drop(columns=['station_number'], inplace=True)\n",
    "\n",
    "#delete rows with duplicate datetime index\n",
    "weather_data_df = weather_data_df[~weather_data_df.index.duplicated(keep='first')]\n",
    "\n",
    "weather_data_df.to_csv(r'c:\\Users\\z5404477\\OneDrive - UNSW\\04_Workspace\\2. WIP\\data\\2. processed\\ahsd_weather_data.csv')\n",
    "\n",
    "# make datetime column the index on ds1 dataframe\n",
    "ds1.index = ds1['datetime']\n",
    "\n",
    "ds1.drop(columns=['datetime'], inplace=True)\n",
    "\n",
    "#convert the index to datetime\n",
    "ds1.index = pd.to_datetime(ds1.index, format='%Y-%m-%d %H:%M:%S')\n",
    "\n",
    "#merge the ds1 dataframe with the weather_data_df dataframe\n",
    "ds4 = ds1.merge(weather_data_df, left_index=True, right_index=True, how='outer')\n",
    "ds4.to_csv('../../data/ds4_ashd_with_weather.csv')\n"
   ]
  },
  {
   "cell_type": "code",
   "execution_count": 2,
   "id": "c45d4c23",
   "metadata": {},
   "outputs": [],
   "source": [
    "import pandas as pd\n",
    "ds4 = pd.read_csv('../../data/ds4_ashd_with_weather.csv', index_col='datetime', parse_dates=True)"
   ]
  },
  {
   "cell_type": "code",
   "execution_count": 3,
   "id": "5c61bf80",
   "metadata": {},
   "outputs": [
    {
     "data": {
      "application/vnd.microsoft.datawrangler.viewer.v0+json": {
       "columns": [
        {
         "name": "datetime",
         "rawType": "datetime64[ns]",
         "type": "datetime"
        },
        {
         "name": "netload_kW",
         "rawType": "float64",
         "type": "float"
        },
        {
         "name": "air_temperature_in_degrees_c",
         "rawType": "float64",
         "type": "float"
        },
        {
         "name": "relative_humidity_in_percentage",
         "rawType": "float64",
         "type": "float"
        },
        {
         "name": "wind_speed_in_km_h",
         "rawType": "float64",
         "type": "float"
        }
       ],
       "ref": "142b582b-7313-4391-95fb-106ec8a5e843",
       "rows": [
        [
         "2010-07-01 00:00:00",
         "215.792",
         "8.4",
         "66.0",
         "13.0"
        ],
        [
         "2010-07-01 00:30:00",
         "193.348",
         "7.9",
         "67.0",
         "13.0"
        ],
        [
         "2010-07-01 01:00:00",
         "166.112",
         "7.5",
         "68.0",
         "16.6"
        ],
        [
         "2010-07-01 01:30:00",
         "153.506",
         "7.4",
         "69.0",
         "18.4"
        ],
        [
         "2010-07-01 02:00:00",
         "140.508",
         "7.2",
         "68.0",
         "20.5"
        ],
        [
         "2010-07-01 02:30:00",
         "144.468",
         "7.1",
         "68.0",
         "16.6"
        ],
        [
         "2010-07-01 03:00:00",
         "150.776",
         "6.9",
         "68.0",
         "18.4"
        ],
        [
         "2010-07-01 03:30:00",
         "145.482",
         "6.5",
         "70.0",
         "16.6"
        ],
        [
         "2010-07-01 04:00:00",
         "148.69",
         "6.4",
         "73.0",
         "14.8"
        ],
        [
         "2010-07-01 04:30:00",
         "157.38",
         "6.4",
         "73.0",
         "16.6"
        ],
        [
         "2010-07-01 05:00:00",
         "168.272",
         "6.5",
         "72.0",
         "16.6"
        ],
        [
         "2010-07-01 05:30:00",
         "186.282",
         "6.8",
         "71.0",
         "14.8"
        ],
        [
         "2010-07-01 06:00:00",
         "216.752",
         "6.6",
         "72.0",
         "18.4"
        ],
        [
         "2010-07-01 06:30:00",
         "295.34",
         "7.3",
         "69.0",
         "16.6"
        ],
        [
         "2010-07-01 07:00:00",
         "358.254",
         "7.1",
         "69.0",
         "13.0"
        ],
        [
         "2010-07-01 07:30:00",
         "381.294",
         "7.0",
         "71.0",
         "13.0"
        ],
        [
         "2010-07-01 08:00:00",
         "391.642",
         "7.4",
         "70.0",
         "14.8"
        ],
        [
         "2010-07-01 08:30:00",
         "349.976",
         "8.1",
         "65.0",
         "16.6"
        ],
        [
         "2010-07-01 09:00:00",
         "275.908",
         "9.3",
         "62.0",
         "20.5"
        ],
        [
         "2010-07-01 09:30:00",
         "175.01399999999998",
         "10.9",
         "57.0",
         "14.8"
        ],
        [
         "2010-07-01 10:00:00",
         "120.00600000000004",
         "12.2",
         "53.0",
         "16.6"
        ],
        [
         "2010-07-01 10:30:00",
         "61.56400000000002",
         "13.9",
         "45.0",
         "16.6"
        ],
        [
         "2010-07-01 11:00:00",
         "62.262",
         "14.6",
         "45.0",
         "16.6"
        ],
        [
         "2010-07-01 11:30:00",
         "3.47199999999998",
         "14.8",
         "41.0",
         "22.3"
        ],
        [
         "2010-07-01 12:00:00",
         "-25.930000000000007",
         "14.4",
         "44.0",
         "20.5"
        ],
        [
         "2010-07-01 12:30:00",
         "-33.317999999999984",
         "15.2",
         "44.0",
         "25.9"
        ],
        [
         "2010-07-01 13:00:00",
         "-42.43399999999997",
         "15.2",
         "42.0",
         "22.3"
        ],
        [
         "2010-07-01 13:30:00",
         "-55.38799999999998",
         "15.4",
         "42.0",
         "14.8"
        ],
        [
         "2010-07-01 14:00:00",
         "-25.359999999999985",
         "15.6",
         "42.0",
         "14.8"
        ],
        [
         "2010-07-01 14:30:00",
         "3.1260000000000048",
         "15.7",
         "38.0",
         "7.6"
        ],
        [
         "2010-07-01 15:00:00",
         "59.54600000000001",
         "15.2",
         "38.0",
         "16.6"
        ],
        [
         "2010-07-01 15:30:00",
         "121.75",
         "15.3",
         "39.0",
         "14.8"
        ],
        [
         "2010-07-01 16:00:00",
         "185.604",
         "14.8",
         "48.0",
         "9.4"
        ],
        [
         "2010-07-01 16:30:00",
         "266.712",
         "14.2",
         "55.0",
         "7.6"
        ],
        [
         "2010-07-01 17:00:00",
         "381.65",
         "13.4",
         "58.0",
         "0.0"
        ],
        [
         "2010-07-01 17:30:00",
         "486.28",
         "13.0",
         "66.0",
         "0.0"
        ],
        [
         "2010-07-01 18:00:00",
         "569.09",
         "13.0",
         "56.0",
         "0.0"
        ],
        [
         "2010-07-01 18:30:00",
         "565.1600000000001",
         "13.3",
         "54.0",
         "0.0"
        ],
        [
         "2010-07-01 19:00:00",
         "536.622",
         "13.0",
         "57.0",
         "7.6"
        ],
        [
         "2010-07-01 19:30:00",
         "531.848",
         "12.2",
         "58.0",
         "11.2"
        ],
        [
         "2010-07-01 20:00:00",
         "538.206",
         "12.2",
         "58.0",
         "9.4"
        ],
        [
         "2010-07-01 20:30:00",
         "506.266",
         "11.5",
         "59.0",
         "13.0"
        ],
        [
         "2010-07-01 21:00:00",
         "472.886",
         "10.8",
         "64.0",
         "14.8"
        ],
        [
         "2010-07-01 21:30:00",
         "440.886",
         "11.2",
         "61.0",
         "9.4"
        ],
        [
         "2010-07-01 22:00:00",
         "390.324",
         "11.0",
         "64.0",
         "11.2"
        ],
        [
         "2010-07-01 22:30:00",
         "337.18",
         "9.8",
         "70.0",
         "7.6"
        ],
        [
         "2010-07-01 23:00:00",
         "287.51",
         "9.4",
         "69.0",
         "9.4"
        ],
        [
         "2010-07-01 23:30:00",
         "250.456",
         "8.1",
         "76.0",
         "9.4"
        ],
        [
         "2010-07-02 00:00:00",
         "257.53799999999995",
         "9.1",
         "69.0",
         "7.6"
        ],
        [
         "2010-07-02 00:30:00",
         "178.54",
         "8.3",
         "71.0",
         "13.0"
        ]
       ],
       "shape": {
        "columns": 4,
        "rows": 52608
       }
      },
      "text/html": [
       "<div>\n",
       "<style scoped>\n",
       "    .dataframe tbody tr th:only-of-type {\n",
       "        vertical-align: middle;\n",
       "    }\n",
       "\n",
       "    .dataframe tbody tr th {\n",
       "        vertical-align: top;\n",
       "    }\n",
       "\n",
       "    .dataframe thead th {\n",
       "        text-align: right;\n",
       "    }\n",
       "</style>\n",
       "<table border=\"1\" class=\"dataframe\">\n",
       "  <thead>\n",
       "    <tr style=\"text-align: right;\">\n",
       "      <th></th>\n",
       "      <th>netload_kW</th>\n",
       "      <th>air_temperature_in_degrees_c</th>\n",
       "      <th>relative_humidity_in_percentage</th>\n",
       "      <th>wind_speed_in_km_h</th>\n",
       "    </tr>\n",
       "    <tr>\n",
       "      <th>datetime</th>\n",
       "      <th></th>\n",
       "      <th></th>\n",
       "      <th></th>\n",
       "      <th></th>\n",
       "    </tr>\n",
       "  </thead>\n",
       "  <tbody>\n",
       "    <tr>\n",
       "      <th>2010-07-01 00:00:00</th>\n",
       "      <td>215.792</td>\n",
       "      <td>8.4</td>\n",
       "      <td>66.0</td>\n",
       "      <td>13.0</td>\n",
       "    </tr>\n",
       "    <tr>\n",
       "      <th>2010-07-01 00:30:00</th>\n",
       "      <td>193.348</td>\n",
       "      <td>7.9</td>\n",
       "      <td>67.0</td>\n",
       "      <td>13.0</td>\n",
       "    </tr>\n",
       "    <tr>\n",
       "      <th>2010-07-01 01:00:00</th>\n",
       "      <td>166.112</td>\n",
       "      <td>7.5</td>\n",
       "      <td>68.0</td>\n",
       "      <td>16.6</td>\n",
       "    </tr>\n",
       "    <tr>\n",
       "      <th>2010-07-01 01:30:00</th>\n",
       "      <td>153.506</td>\n",
       "      <td>7.4</td>\n",
       "      <td>69.0</td>\n",
       "      <td>18.4</td>\n",
       "    </tr>\n",
       "    <tr>\n",
       "      <th>2010-07-01 02:00:00</th>\n",
       "      <td>140.508</td>\n",
       "      <td>7.2</td>\n",
       "      <td>68.0</td>\n",
       "      <td>20.5</td>\n",
       "    </tr>\n",
       "    <tr>\n",
       "      <th>...</th>\n",
       "      <td>...</td>\n",
       "      <td>...</td>\n",
       "      <td>...</td>\n",
       "      <td>...</td>\n",
       "    </tr>\n",
       "    <tr>\n",
       "      <th>2013-06-30 21:30:00</th>\n",
       "      <td>321.514</td>\n",
       "      <td>12.4</td>\n",
       "      <td>88.0</td>\n",
       "      <td>14.8</td>\n",
       "    </tr>\n",
       "    <tr>\n",
       "      <th>2013-06-30 22:00:00</th>\n",
       "      <td>309.346</td>\n",
       "      <td>12.3</td>\n",
       "      <td>85.0</td>\n",
       "      <td>16.6</td>\n",
       "    </tr>\n",
       "    <tr>\n",
       "      <th>2013-06-30 22:30:00</th>\n",
       "      <td>290.918</td>\n",
       "      <td>12.7</td>\n",
       "      <td>84.0</td>\n",
       "      <td>11.2</td>\n",
       "    </tr>\n",
       "    <tr>\n",
       "      <th>2013-06-30 23:00:00</th>\n",
       "      <td>274.700</td>\n",
       "      <td>11.8</td>\n",
       "      <td>90.0</td>\n",
       "      <td>9.4</td>\n",
       "    </tr>\n",
       "    <tr>\n",
       "      <th>2013-06-30 23:30:00</th>\n",
       "      <td>244.876</td>\n",
       "      <td>11.1</td>\n",
       "      <td>92.0</td>\n",
       "      <td>7.6</td>\n",
       "    </tr>\n",
       "  </tbody>\n",
       "</table>\n",
       "<p>52608 rows × 4 columns</p>\n",
       "</div>"
      ],
      "text/plain": [
       "                     netload_kW  air_temperature_in_degrees_c  \\\n",
       "datetime                                                        \n",
       "2010-07-01 00:00:00     215.792                           8.4   \n",
       "2010-07-01 00:30:00     193.348                           7.9   \n",
       "2010-07-01 01:00:00     166.112                           7.5   \n",
       "2010-07-01 01:30:00     153.506                           7.4   \n",
       "2010-07-01 02:00:00     140.508                           7.2   \n",
       "...                         ...                           ...   \n",
       "2013-06-30 21:30:00     321.514                          12.4   \n",
       "2013-06-30 22:00:00     309.346                          12.3   \n",
       "2013-06-30 22:30:00     290.918                          12.7   \n",
       "2013-06-30 23:00:00     274.700                          11.8   \n",
       "2013-06-30 23:30:00     244.876                          11.1   \n",
       "\n",
       "                     relative_humidity_in_percentage  wind_speed_in_km_h  \n",
       "datetime                                                                  \n",
       "2010-07-01 00:00:00                             66.0                13.0  \n",
       "2010-07-01 00:30:00                             67.0                13.0  \n",
       "2010-07-01 01:00:00                             68.0                16.6  \n",
       "2010-07-01 01:30:00                             69.0                18.4  \n",
       "2010-07-01 02:00:00                             68.0                20.5  \n",
       "...                                              ...                 ...  \n",
       "2013-06-30 21:30:00                             88.0                14.8  \n",
       "2013-06-30 22:00:00                             85.0                16.6  \n",
       "2013-06-30 22:30:00                             84.0                11.2  \n",
       "2013-06-30 23:00:00                             90.0                 9.4  \n",
       "2013-06-30 23:30:00                             92.0                 7.6  \n",
       "\n",
       "[52608 rows x 4 columns]"
      ]
     },
     "execution_count": 3,
     "metadata": {},
     "output_type": "execute_result"
    }
   ],
   "source": [
    "ds4"
   ]
  }
 ],
 "metadata": {
  "kernelspec": {
   "display_name": ".venv",
   "language": "python",
   "name": "python3"
  },
  "language_info": {
   "codemirror_mode": {
    "name": "ipython",
    "version": 3
   },
   "file_extension": ".py",
   "mimetype": "text/x-python",
   "name": "python",
   "nbconvert_exporter": "python",
   "pygments_lexer": "ipython3",
   "version": "3.12.3"
  }
 },
 "nbformat": 4,
 "nbformat_minor": 5
}
