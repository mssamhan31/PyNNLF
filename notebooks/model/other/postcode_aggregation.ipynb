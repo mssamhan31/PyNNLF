{
 "cells": [
  {
   "cell_type": "markdown",
   "id": "66ea5362",
   "metadata": {},
   "source": [
    "Goal: Cluster AEDP dataset of 900+ sites into geographical cluster that is smaller than a state, which makes it more reasonable to be aggregated\n",
    "\n",
    "First we use postcode data to obtain coordinate, then create clusters based on the coordinate.\n",
    "\n",
    "This script output one excel file listing one cluster with the highest number of households that have 3 years of data from 1 Jul 2021 to 30 Jun 2023."
   ]
  },
  {
   "cell_type": "code",
   "execution_count": 1,
   "id": "4bf4639e",
   "metadata": {},
   "outputs": [],
   "source": [
    "import pandas as pd"
   ]
  },
  {
   "cell_type": "code",
   "execution_count": 2,
   "id": "8258e48a",
   "metadata": {},
   "outputs": [],
   "source": [
    "df = pd.read_csv('../../../../data/1. raw/ACAP EDP/Metadata/edp_survey_answers10569234.csv')"
   ]
  },
  {
   "cell_type": "code",
   "execution_count": 3,
   "id": "d2b16d68",
   "metadata": {},
   "outputs": [],
   "source": [
    "df = df[['edp_site_id', 'postcode', 'state']]"
   ]
  },
  {
   "cell_type": "code",
   "execution_count": 4,
   "id": "37a61611",
   "metadata": {},
   "outputs": [
    {
     "data": {
      "application/vnd.microsoft.datawrangler.viewer.v0+json": {
       "columns": [
        {
         "name": "index",
         "rawType": "int64",
         "type": "integer"
        },
        {
         "name": "edp_site_id",
         "rawType": "object",
         "type": "string"
        },
        {
         "name": "postcode",
         "rawType": "int64",
         "type": "integer"
        },
        {
         "name": "state",
         "rawType": "object",
         "type": "string"
        }
       ],
       "ref": "071caeec-eb27-40b9-9611-d182e565b026",
       "rows": [
        [
         "0",
         "S0037",
         "3039",
         "VIC"
        ],
        [
         "1",
         "S0057",
         "4123",
         "QLD"
        ],
        [
         "2",
         "S0001",
         "3040",
         "VIC"
        ],
        [
         "3",
         "S0002",
         "2768",
         "NSW"
        ],
        [
         "4",
         "S0003",
         "2450",
         "NSW"
        ],
        [
         "5",
         "S0004",
         "2570",
         "NSW"
        ],
        [
         "6",
         "S0005",
         "2320",
         "NSW"
        ],
        [
         "7",
         "S0006",
         "2047",
         "NSW"
        ],
        [
         "8",
         "S0007",
         "2148",
         "NSW"
        ],
        [
         "9",
         "S0008",
         "2316",
         "NSW"
        ],
        [
         "10",
         "S0009",
         "4215",
         "QLD"
        ],
        [
         "11",
         "S0010",
         "2018",
         "NSW"
        ],
        [
         "12",
         "S0011",
         "2031",
         "NSW"
        ],
        [
         "13",
         "S0012",
         "3030",
         "VIC"
        ],
        [
         "14",
         "S0013",
         "2790",
         "NSW"
        ],
        [
         "15",
         "S0014",
         "4566",
         "QLD"
        ],
        [
         "16",
         "S0015",
         "4124",
         "QLD"
        ],
        [
         "17",
         "S0016",
         "2762",
         "NSW"
        ],
        [
         "18",
         "S0017",
         "2642",
         "NSW"
        ],
        [
         "19",
         "S0018",
         "3030",
         "VIC"
        ],
        [
         "20",
         "S0019",
         "3147",
         "VIC"
        ],
        [
         "21",
         "S0020",
         "2261",
         "NSW"
        ],
        [
         "22",
         "S0021",
         "2289",
         "NSW"
        ],
        [
         "23",
         "S0022",
         "3083",
         "VIC"
        ],
        [
         "24",
         "S0023",
         "5323",
         "SA"
        ],
        [
         "25",
         "S0024",
         "4557",
         "QLD"
        ],
        [
         "26",
         "S0025",
         "3032",
         "VIC"
        ],
        [
         "27",
         "S0026",
         "5048",
         "SA"
        ],
        [
         "28",
         "S0027",
         "3337",
         "VIC"
        ],
        [
         "29",
         "S0028",
         "4018",
         "QLD"
        ],
        [
         "30",
         "S0029",
         "5025",
         "SA"
        ],
        [
         "31",
         "S0030",
         "5049",
         "SA"
        ],
        [
         "32",
         "S0031",
         "5127",
         "SA"
        ],
        [
         "33",
         "S0032",
         "3030",
         "VIC"
        ],
        [
         "34",
         "S0033",
         "4310",
         "QLD"
        ],
        [
         "35",
         "S0034",
         "2086",
         "NSW"
        ],
        [
         "36",
         "S0035",
         "2530",
         "NSW"
        ],
        [
         "37",
         "S0036",
         "3116",
         "VIC"
        ],
        [
         "38",
         "S0038",
         "2576",
         "NSW"
        ],
        [
         "39",
         "S0039",
         "2111",
         "NSW"
        ],
        [
         "40",
         "S0040",
         "4211",
         "QLD"
        ],
        [
         "41",
         "S0041",
         "2029",
         "NSW"
        ],
        [
         "42",
         "S0042",
         "5043",
         "SA"
        ],
        [
         "43",
         "S0043",
         "2574",
         "NSW"
        ],
        [
         "44",
         "S0044",
         "3039",
         "VIC"
        ],
        [
         "45",
         "S0045",
         "4035",
         "QLD"
        ],
        [
         "46",
         "S0046",
         "4575",
         "QLD"
        ],
        [
         "47",
         "S0047",
         "4054",
         "QLD"
        ],
        [
         "48",
         "S0048",
         "4011",
         "QLD"
        ],
        [
         "49",
         "S0049",
         "2223",
         "NSW"
        ]
       ],
       "shape": {
        "columns": 3,
        "rows": 955
       }
      },
      "text/html": [
       "<div>\n",
       "<style scoped>\n",
       "    .dataframe tbody tr th:only-of-type {\n",
       "        vertical-align: middle;\n",
       "    }\n",
       "\n",
       "    .dataframe tbody tr th {\n",
       "        vertical-align: top;\n",
       "    }\n",
       "\n",
       "    .dataframe thead th {\n",
       "        text-align: right;\n",
       "    }\n",
       "</style>\n",
       "<table border=\"1\" class=\"dataframe\">\n",
       "  <thead>\n",
       "    <tr style=\"text-align: right;\">\n",
       "      <th></th>\n",
       "      <th>edp_site_id</th>\n",
       "      <th>postcode</th>\n",
       "      <th>state</th>\n",
       "    </tr>\n",
       "  </thead>\n",
       "  <tbody>\n",
       "    <tr>\n",
       "      <th>0</th>\n",
       "      <td>S0037</td>\n",
       "      <td>3039</td>\n",
       "      <td>VIC</td>\n",
       "    </tr>\n",
       "    <tr>\n",
       "      <th>1</th>\n",
       "      <td>S0057</td>\n",
       "      <td>4123</td>\n",
       "      <td>QLD</td>\n",
       "    </tr>\n",
       "    <tr>\n",
       "      <th>2</th>\n",
       "      <td>S0001</td>\n",
       "      <td>3040</td>\n",
       "      <td>VIC</td>\n",
       "    </tr>\n",
       "    <tr>\n",
       "      <th>3</th>\n",
       "      <td>S0002</td>\n",
       "      <td>2768</td>\n",
       "      <td>NSW</td>\n",
       "    </tr>\n",
       "    <tr>\n",
       "      <th>4</th>\n",
       "      <td>S0003</td>\n",
       "      <td>2450</td>\n",
       "      <td>NSW</td>\n",
       "    </tr>\n",
       "    <tr>\n",
       "      <th>...</th>\n",
       "      <td>...</td>\n",
       "      <td>...</td>\n",
       "      <td>...</td>\n",
       "    </tr>\n",
       "    <tr>\n",
       "      <th>950</th>\n",
       "      <td>W0349</td>\n",
       "      <td>3113</td>\n",
       "      <td>VIC</td>\n",
       "    </tr>\n",
       "    <tr>\n",
       "      <th>951</th>\n",
       "      <td>W0350</td>\n",
       "      <td>3047</td>\n",
       "      <td>VIC</td>\n",
       "    </tr>\n",
       "    <tr>\n",
       "      <th>952</th>\n",
       "      <td>W0351</td>\n",
       "      <td>2905</td>\n",
       "      <td>ACT</td>\n",
       "    </tr>\n",
       "    <tr>\n",
       "      <th>953</th>\n",
       "      <td>W0352</td>\n",
       "      <td>5097</td>\n",
       "      <td>SA</td>\n",
       "    </tr>\n",
       "    <tr>\n",
       "      <th>954</th>\n",
       "      <td>W0353</td>\n",
       "      <td>3058</td>\n",
       "      <td>VIC</td>\n",
       "    </tr>\n",
       "  </tbody>\n",
       "</table>\n",
       "<p>955 rows × 3 columns</p>\n",
       "</div>"
      ],
      "text/plain": [
       "    edp_site_id  postcode state\n",
       "0         S0037      3039   VIC\n",
       "1         S0057      4123   QLD\n",
       "2         S0001      3040   VIC\n",
       "3         S0002      2768   NSW\n",
       "4         S0003      2450   NSW\n",
       "..          ...       ...   ...\n",
       "950       W0349      3113   VIC\n",
       "951       W0350      3047   VIC\n",
       "952       W0351      2905   ACT\n",
       "953       W0352      5097    SA\n",
       "954       W0353      3058   VIC\n",
       "\n",
       "[955 rows x 3 columns]"
      ]
     },
     "execution_count": 4,
     "metadata": {},
     "output_type": "execute_result"
    }
   ],
   "source": [
    "df"
   ]
  },
  {
   "cell_type": "code",
   "execution_count": 5,
   "id": "485d3a05",
   "metadata": {},
   "outputs": [],
   "source": [
    "postcode = pd.read_csv('../../../../data/1. raw/ACAP EDP/Metadata/postcode data/AU.txt', sep='\\t', header=None)"
   ]
  },
  {
   "cell_type": "code",
   "execution_count": 6,
   "id": "d8b56d9c",
   "metadata": {},
   "outputs": [],
   "source": [
    "postcode = postcode[[1, 9, 10]]\n",
    "col_names = ['postcode', 'lat', 'long']\n",
    "postcode.columns = col_names\n",
    "postcode.drop_duplicates(subset='postcode', keep = 'first', inplace=True)"
   ]
  },
  {
   "cell_type": "code",
   "execution_count": 7,
   "id": "38bf3d1f",
   "metadata": {},
   "outputs": [
    {
     "data": {
      "application/vnd.microsoft.datawrangler.viewer.v0+json": {
       "columns": [
        {
         "name": "index",
         "rawType": "int64",
         "type": "integer"
        },
        {
         "name": "edp_site_id",
         "rawType": "object",
         "type": "string"
        },
        {
         "name": "postcode",
         "rawType": "int64",
         "type": "integer"
        },
        {
         "name": "state",
         "rawType": "object",
         "type": "string"
        }
       ],
       "ref": "3f8e7fc6-e9c6-4e70-91da-32d8c95f4517",
       "rows": [
        [
         "0",
         "S0037",
         "3039",
         "VIC"
        ],
        [
         "1",
         "S0057",
         "4123",
         "QLD"
        ],
        [
         "2",
         "S0001",
         "3040",
         "VIC"
        ],
        [
         "3",
         "S0002",
         "2768",
         "NSW"
        ],
        [
         "4",
         "S0003",
         "2450",
         "NSW"
        ],
        [
         "5",
         "S0004",
         "2570",
         "NSW"
        ],
        [
         "6",
         "S0005",
         "2320",
         "NSW"
        ],
        [
         "7",
         "S0006",
         "2047",
         "NSW"
        ],
        [
         "8",
         "S0007",
         "2148",
         "NSW"
        ],
        [
         "9",
         "S0008",
         "2316",
         "NSW"
        ],
        [
         "10",
         "S0009",
         "4215",
         "QLD"
        ],
        [
         "11",
         "S0010",
         "2018",
         "NSW"
        ],
        [
         "12",
         "S0011",
         "2031",
         "NSW"
        ],
        [
         "13",
         "S0012",
         "3030",
         "VIC"
        ],
        [
         "14",
         "S0013",
         "2790",
         "NSW"
        ],
        [
         "15",
         "S0014",
         "4566",
         "QLD"
        ],
        [
         "16",
         "S0015",
         "4124",
         "QLD"
        ],
        [
         "17",
         "S0016",
         "2762",
         "NSW"
        ],
        [
         "18",
         "S0017",
         "2642",
         "NSW"
        ],
        [
         "19",
         "S0018",
         "3030",
         "VIC"
        ],
        [
         "20",
         "S0019",
         "3147",
         "VIC"
        ],
        [
         "21",
         "S0020",
         "2261",
         "NSW"
        ],
        [
         "22",
         "S0021",
         "2289",
         "NSW"
        ],
        [
         "23",
         "S0022",
         "3083",
         "VIC"
        ],
        [
         "24",
         "S0023",
         "5323",
         "SA"
        ],
        [
         "25",
         "S0024",
         "4557",
         "QLD"
        ],
        [
         "26",
         "S0025",
         "3032",
         "VIC"
        ],
        [
         "27",
         "S0026",
         "5048",
         "SA"
        ],
        [
         "28",
         "S0027",
         "3337",
         "VIC"
        ],
        [
         "29",
         "S0028",
         "4018",
         "QLD"
        ],
        [
         "30",
         "S0029",
         "5025",
         "SA"
        ],
        [
         "31",
         "S0030",
         "5049",
         "SA"
        ],
        [
         "32",
         "S0031",
         "5127",
         "SA"
        ],
        [
         "33",
         "S0032",
         "3030",
         "VIC"
        ],
        [
         "34",
         "S0033",
         "4310",
         "QLD"
        ],
        [
         "35",
         "S0034",
         "2086",
         "NSW"
        ],
        [
         "36",
         "S0035",
         "2530",
         "NSW"
        ],
        [
         "37",
         "S0036",
         "3116",
         "VIC"
        ],
        [
         "38",
         "S0038",
         "2576",
         "NSW"
        ],
        [
         "39",
         "S0039",
         "2111",
         "NSW"
        ],
        [
         "40",
         "S0040",
         "4211",
         "QLD"
        ],
        [
         "41",
         "S0041",
         "2029",
         "NSW"
        ],
        [
         "42",
         "S0042",
         "5043",
         "SA"
        ],
        [
         "43",
         "S0043",
         "2574",
         "NSW"
        ],
        [
         "44",
         "S0044",
         "3039",
         "VIC"
        ],
        [
         "45",
         "S0045",
         "4035",
         "QLD"
        ],
        [
         "46",
         "S0046",
         "4575",
         "QLD"
        ],
        [
         "47",
         "S0047",
         "4054",
         "QLD"
        ],
        [
         "48",
         "S0048",
         "4011",
         "QLD"
        ],
        [
         "49",
         "S0049",
         "2223",
         "NSW"
        ]
       ],
       "shape": {
        "columns": 3,
        "rows": 955
       }
      },
      "text/html": [
       "<div>\n",
       "<style scoped>\n",
       "    .dataframe tbody tr th:only-of-type {\n",
       "        vertical-align: middle;\n",
       "    }\n",
       "\n",
       "    .dataframe tbody tr th {\n",
       "        vertical-align: top;\n",
       "    }\n",
       "\n",
       "    .dataframe thead th {\n",
       "        text-align: right;\n",
       "    }\n",
       "</style>\n",
       "<table border=\"1\" class=\"dataframe\">\n",
       "  <thead>\n",
       "    <tr style=\"text-align: right;\">\n",
       "      <th></th>\n",
       "      <th>edp_site_id</th>\n",
       "      <th>postcode</th>\n",
       "      <th>state</th>\n",
       "    </tr>\n",
       "  </thead>\n",
       "  <tbody>\n",
       "    <tr>\n",
       "      <th>0</th>\n",
       "      <td>S0037</td>\n",
       "      <td>3039</td>\n",
       "      <td>VIC</td>\n",
       "    </tr>\n",
       "    <tr>\n",
       "      <th>1</th>\n",
       "      <td>S0057</td>\n",
       "      <td>4123</td>\n",
       "      <td>QLD</td>\n",
       "    </tr>\n",
       "    <tr>\n",
       "      <th>2</th>\n",
       "      <td>S0001</td>\n",
       "      <td>3040</td>\n",
       "      <td>VIC</td>\n",
       "    </tr>\n",
       "    <tr>\n",
       "      <th>3</th>\n",
       "      <td>S0002</td>\n",
       "      <td>2768</td>\n",
       "      <td>NSW</td>\n",
       "    </tr>\n",
       "    <tr>\n",
       "      <th>4</th>\n",
       "      <td>S0003</td>\n",
       "      <td>2450</td>\n",
       "      <td>NSW</td>\n",
       "    </tr>\n",
       "    <tr>\n",
       "      <th>...</th>\n",
       "      <td>...</td>\n",
       "      <td>...</td>\n",
       "      <td>...</td>\n",
       "    </tr>\n",
       "    <tr>\n",
       "      <th>950</th>\n",
       "      <td>W0349</td>\n",
       "      <td>3113</td>\n",
       "      <td>VIC</td>\n",
       "    </tr>\n",
       "    <tr>\n",
       "      <th>951</th>\n",
       "      <td>W0350</td>\n",
       "      <td>3047</td>\n",
       "      <td>VIC</td>\n",
       "    </tr>\n",
       "    <tr>\n",
       "      <th>952</th>\n",
       "      <td>W0351</td>\n",
       "      <td>2905</td>\n",
       "      <td>ACT</td>\n",
       "    </tr>\n",
       "    <tr>\n",
       "      <th>953</th>\n",
       "      <td>W0352</td>\n",
       "      <td>5097</td>\n",
       "      <td>SA</td>\n",
       "    </tr>\n",
       "    <tr>\n",
       "      <th>954</th>\n",
       "      <td>W0353</td>\n",
       "      <td>3058</td>\n",
       "      <td>VIC</td>\n",
       "    </tr>\n",
       "  </tbody>\n",
       "</table>\n",
       "<p>955 rows × 3 columns</p>\n",
       "</div>"
      ],
      "text/plain": [
       "    edp_site_id  postcode state\n",
       "0         S0037      3039   VIC\n",
       "1         S0057      4123   QLD\n",
       "2         S0001      3040   VIC\n",
       "3         S0002      2768   NSW\n",
       "4         S0003      2450   NSW\n",
       "..          ...       ...   ...\n",
       "950       W0349      3113   VIC\n",
       "951       W0350      3047   VIC\n",
       "952       W0351      2905   ACT\n",
       "953       W0352      5097    SA\n",
       "954       W0353      3058   VIC\n",
       "\n",
       "[955 rows x 3 columns]"
      ]
     },
     "execution_count": 7,
     "metadata": {},
     "output_type": "execute_result"
    }
   ],
   "source": [
    "df"
   ]
  },
  {
   "cell_type": "code",
   "execution_count": 8,
   "id": "7c3f0a08",
   "metadata": {},
   "outputs": [
    {
     "data": {
      "application/vnd.microsoft.datawrangler.viewer.v0+json": {
       "columns": [
        {
         "name": "index",
         "rawType": "int64",
         "type": "integer"
        },
        {
         "name": "postcode",
         "rawType": "int64",
         "type": "integer"
        },
        {
         "name": "lat",
         "rawType": "float64",
         "type": "float"
        },
        {
         "name": "long",
         "rawType": "float64",
         "type": "float"
        }
       ],
       "ref": "d06ac486-563c-4e33-932e-86f47ff5e7d2",
       "rows": [
        [
         "0",
         "2620",
         "-35.34",
         "149.228"
        ],
        [
         "9",
         "2611",
         "-35.3613",
         "149.057"
        ],
        [
         "29",
         "2600",
         "-35.307",
         "149.139"
        ],
        [
         "43",
         "2601",
         "-35.2813",
         "149.1293"
        ],
        [
         "47",
         "2602",
         "-35.2495",
         "149.1635"
        ],
        [
         "55",
         "2603",
         "-35.315",
         "149.1286"
        ],
        [
         "59",
         "2604",
         "-35.3357",
         "149.1492"
        ],
        [
         "62",
         "2605",
         "-35.3421",
         "149.1085"
        ],
        [
         "65",
         "2606",
         "-35.3406",
         "149.074"
        ],
        [
         "73",
         "2607",
         "-35.3634",
         "149.0986"
        ],
        [
         "78",
         "2608",
         "-35.312",
         "149.1294"
        ],
        [
         "79",
         "2609",
         "-35.3179",
         "149.1832"
        ],
        [
         "85",
         "2610",
         "-35.27",
         "149.0452"
        ],
        [
         "87",
         "2612",
         "-35.2858",
         "149.1391"
        ],
        [
         "91",
         "2614",
         "-35.2386",
         "149.0499"
        ],
        [
         "99",
         "2615",
         "-35.21",
         "149.0357"
        ],
        [
         "114",
         "2616",
         "-35.238",
         "149.0663"
        ],
        [
         "115",
         "2617",
         "-35.2235",
         "149.0863"
        ],
        [
         "124",
         "2618",
         "-35.1685",
         "149.0683"
        ],
        [
         "125",
         "2900",
         "-35.4183",
         "149.0666"
        ],
        [
         "127",
         "2901",
         "-35.4247",
         "149.0982"
        ],
        [
         "128",
         "2902",
         "-35.3862",
         "149.058"
        ],
        [
         "130",
         "2903",
         "-35.4037",
         "149.0847"
        ],
        [
         "133",
         "2904",
         "-35.4089",
         "149.127"
        ],
        [
         "137",
         "2905",
         "-35.4404",
         "149.1071"
        ],
        [
         "144",
         "2906",
         "-35.4568",
         "149.085"
        ],
        [
         "147",
         "2911",
         "-35.217",
         "149.137"
        ],
        [
         "150",
         "2912",
         "-35.1867",
         "149.1362"
        ],
        [
         "151",
         "2913",
         "-35.1489",
         "149.1092"
        ],
        [
         "158",
         "2914",
         "-35.1865",
         "149.1621"
        ],
        [
         "165",
         "2540",
         "-35.0036",
         "150.586"
        ],
        [
         "168",
         "1405",
         "-33.8923",
         "151.0473"
        ],
        [
         "169",
         "1874",
         "-33.9437",
         "150.9566"
        ],
        [
         "170",
         "2641",
         "-36.0362",
         "146.935"
        ],
        [
         "174",
         "2708",
         "-34.7062",
         "146.4742"
        ],
        [
         "175",
         "3691",
         "-36.2676",
         "147.0798"
        ],
        [
         "176",
         "2351",
         "-30.7539",
         "151.1366"
        ],
        [
         "177",
         "2369",
         "-29.9196",
         "151.2146"
        ],
        [
         "180",
         "2370",
         "-29.6985",
         "151.8679"
        ],
        [
         "206",
         "2478",
         "-28.8571",
         "153.5874"
        ],
        [
         "223",
         "2479",
         "-28.7275",
         "153.469"
        ],
        [
         "235",
         "2480",
         "-28.7493",
         "153.2724"
        ],
        [
         "310",
         "2481",
         "-28.6881",
         "153.6098"
        ],
        [
         "319",
         "1455",
         "-33.946",
         "151.1959"
        ],
        [
         "320",
         "1485",
         "-33.9681",
         "151.1356"
        ],
        [
         "321",
         "2018",
         "-33.9167",
         "151.2"
        ],
        [
         "323",
         "2019",
         "-33.9566",
         "151.2096"
        ],
        [
         "325",
         "2032",
         "-33.9288",
         "151.2258"
        ],
        [
         "327",
         "2035",
         "-33.95",
         "151.2333"
        ],
        [
         "330",
         "2036",
         "-33.9872",
         "151.2317"
        ]
       ],
       "shape": {
        "columns": 3,
        "rows": 3171
       }
      },
      "text/html": [
       "<div>\n",
       "<style scoped>\n",
       "    .dataframe tbody tr th:only-of-type {\n",
       "        vertical-align: middle;\n",
       "    }\n",
       "\n",
       "    .dataframe tbody tr th {\n",
       "        vertical-align: top;\n",
       "    }\n",
       "\n",
       "    .dataframe thead th {\n",
       "        text-align: right;\n",
       "    }\n",
       "</style>\n",
       "<table border=\"1\" class=\"dataframe\">\n",
       "  <thead>\n",
       "    <tr style=\"text-align: right;\">\n",
       "      <th></th>\n",
       "      <th>postcode</th>\n",
       "      <th>lat</th>\n",
       "      <th>long</th>\n",
       "    </tr>\n",
       "  </thead>\n",
       "  <tbody>\n",
       "    <tr>\n",
       "      <th>0</th>\n",
       "      <td>2620</td>\n",
       "      <td>-35.3400</td>\n",
       "      <td>149.2280</td>\n",
       "    </tr>\n",
       "    <tr>\n",
       "      <th>9</th>\n",
       "      <td>2611</td>\n",
       "      <td>-35.3613</td>\n",
       "      <td>149.0570</td>\n",
       "    </tr>\n",
       "    <tr>\n",
       "      <th>29</th>\n",
       "      <td>2600</td>\n",
       "      <td>-35.3070</td>\n",
       "      <td>149.1390</td>\n",
       "    </tr>\n",
       "    <tr>\n",
       "      <th>43</th>\n",
       "      <td>2601</td>\n",
       "      <td>-35.2813</td>\n",
       "      <td>149.1293</td>\n",
       "    </tr>\n",
       "    <tr>\n",
       "      <th>47</th>\n",
       "      <td>2602</td>\n",
       "      <td>-35.2495</td>\n",
       "      <td>149.1635</td>\n",
       "    </tr>\n",
       "    <tr>\n",
       "      <th>...</th>\n",
       "      <td>...</td>\n",
       "      <td>...</td>\n",
       "      <td>...</td>\n",
       "    </tr>\n",
       "    <tr>\n",
       "      <th>18496</th>\n",
       "      <td>6425</td>\n",
       "      <td>-31.3208</td>\n",
       "      <td>119.1267</td>\n",
       "    </tr>\n",
       "    <tr>\n",
       "      <th>18498</th>\n",
       "      <td>6426</td>\n",
       "      <td>-31.4829</td>\n",
       "      <td>119.4383</td>\n",
       "    </tr>\n",
       "    <tr>\n",
       "      <th>18512</th>\n",
       "      <td>6427</td>\n",
       "      <td>-30.8212</td>\n",
       "      <td>119.5214</td>\n",
       "    </tr>\n",
       "    <tr>\n",
       "      <th>18513</th>\n",
       "      <td>6484</td>\n",
       "      <td>-30.9842</td>\n",
       "      <td>119.1085</td>\n",
       "    </tr>\n",
       "    <tr>\n",
       "      <th>18516</th>\n",
       "      <td>6556</td>\n",
       "      <td>-31.8618</td>\n",
       "      <td>116.3083</td>\n",
       "    </tr>\n",
       "  </tbody>\n",
       "</table>\n",
       "<p>3171 rows × 3 columns</p>\n",
       "</div>"
      ],
      "text/plain": [
       "       postcode      lat      long\n",
       "0          2620 -35.3400  149.2280\n",
       "9          2611 -35.3613  149.0570\n",
       "29         2600 -35.3070  149.1390\n",
       "43         2601 -35.2813  149.1293\n",
       "47         2602 -35.2495  149.1635\n",
       "...         ...      ...       ...\n",
       "18496      6425 -31.3208  119.1267\n",
       "18498      6426 -31.4829  119.4383\n",
       "18512      6427 -30.8212  119.5214\n",
       "18513      6484 -30.9842  119.1085\n",
       "18516      6556 -31.8618  116.3083\n",
       "\n",
       "[3171 rows x 3 columns]"
      ]
     },
     "execution_count": 8,
     "metadata": {},
     "output_type": "execute_result"
    }
   ],
   "source": [
    "postcode"
   ]
  },
  {
   "cell_type": "code",
   "execution_count": 9,
   "id": "5d4f44a1",
   "metadata": {},
   "outputs": [],
   "source": [
    "df = df.merge(postcode, on='postcode', how='left')"
   ]
  },
  {
   "cell_type": "code",
   "execution_count": 10,
   "id": "25ed466a",
   "metadata": {},
   "outputs": [
    {
     "data": {
      "application/vnd.microsoft.datawrangler.viewer.v0+json": {
       "columns": [
        {
         "name": "index",
         "rawType": "int64",
         "type": "integer"
        },
        {
         "name": "edp_site_id",
         "rawType": "object",
         "type": "string"
        },
        {
         "name": "postcode",
         "rawType": "int64",
         "type": "integer"
        },
        {
         "name": "state",
         "rawType": "object",
         "type": "string"
        },
        {
         "name": "lat",
         "rawType": "float64",
         "type": "float"
        },
        {
         "name": "long",
         "rawType": "float64",
         "type": "float"
        }
       ],
       "ref": "ce8aa6ea-be18-41cc-b523-7320402c0b9e",
       "rows": [
        [
         "0",
         "S0037",
         "3039",
         "VIC",
         "-37.7667",
         "144.9167"
        ],
        [
         "1",
         "S0057",
         "4123",
         "QLD",
         "-27.5952",
         "153.1233"
        ],
        [
         "2",
         "S0001",
         "3040",
         "VIC",
         "-37.7549",
         "144.8834"
        ],
        [
         "3",
         "S0002",
         "2768",
         "NSW",
         "-33.7333",
         "150.9328"
        ],
        [
         "4",
         "S0003",
         "2450",
         "NSW",
         "-30.1574",
         "153.0958"
        ],
        [
         "5",
         "S0004",
         "2570",
         "NSW",
         "-34.0799",
         "150.57"
        ],
        [
         "6",
         "S0005",
         "2320",
         "NSW",
         "-32.7288",
         "151.5345"
        ],
        [
         "7",
         "S0006",
         "2047",
         "NSW",
         "-33.8524",
         "151.1549"
        ],
        [
         "8",
         "S0007",
         "2148",
         "NSW",
         "-33.7482",
         "150.8927"
        ],
        [
         "9",
         "S0008",
         "2316",
         "NSW",
         "-32.7858",
         "152.0896"
        ],
        [
         "10",
         "S0009",
         "4215",
         "QLD",
         "-27.9556",
         "153.3981"
        ],
        [
         "11",
         "S0010",
         "2018",
         "NSW",
         "-33.9167",
         "151.2"
        ],
        [
         "12",
         "S0011",
         "2031",
         "NSW",
         "-33.9121",
         "151.2588"
        ],
        [
         "13",
         "S0012",
         "3030",
         "VIC",
         "-37.9148",
         "144.7509"
        ],
        [
         "14",
         "S0013",
         "2790",
         "NSW",
         "-33.4333",
         "150.1167"
        ],
        [
         "15",
         "S0014",
         "4566",
         "QLD",
         "-26.4",
         "153.0667"
        ],
        [
         "16",
         "S0015",
         "4124",
         "QLD",
         "-27.766",
         "152.942"
        ],
        [
         "17",
         "S0016",
         "2762",
         "NSW",
         "-33.7167",
         "150.8667"
        ],
        [
         "18",
         "S0017",
         "2642",
         "NSW",
         "-36.2166",
         "148.1299"
        ],
        [
         "19",
         "S0018",
         "3030",
         "VIC",
         "-37.9148",
         "144.7509"
        ],
        [
         "20",
         "S0019",
         "3147",
         "VIC",
         "-37.8667",
         "145.0833"
        ],
        [
         "21",
         "S0020",
         "2261",
         "NSW",
         "-33.35",
         "151.4333"
        ],
        [
         "22",
         "S0021",
         "2289",
         "NSW",
         "-32.9428",
         "151.6958"
        ],
        [
         "23",
         "S0022",
         "3083",
         "VIC",
         "-37.7141",
         "145.0351"
        ],
        [
         "24",
         "S0023",
         "5323",
         "SA",
         null,
         null
        ],
        [
         "25",
         "S0024",
         "4557",
         "QLD",
         "-26.7028",
         "153.1013"
        ],
        [
         "26",
         "S0025",
         "3032",
         "VIC",
         "-37.7799",
         "144.9228"
        ],
        [
         "27",
         "S0026",
         "5048",
         "SA",
         "-35.0277",
         "138.528"
        ],
        [
         "28",
         "S0027",
         "3337",
         "VIC",
         "-37.6834",
         "144.5854"
        ],
        [
         "29",
         "S0028",
         "4018",
         "QLD",
         "-27.3426",
         "153.0444"
        ],
        [
         "30",
         "S0029",
         "5025",
         "SA",
         "-34.9103",
         "138.5432"
        ],
        [
         "31",
         "S0030",
         "5049",
         "SA",
         "-35.0447",
         "138.5124"
        ],
        [
         "32",
         "S0031",
         "5127",
         "SA",
         "-34.7994",
         "138.6871"
        ],
        [
         "33",
         "S0032",
         "3030",
         "VIC",
         "-37.9148",
         "144.7509"
        ],
        [
         "34",
         "S0033",
         "4310",
         "QLD",
         "-28.1742",
         "152.7201"
        ],
        [
         "35",
         "S0034",
         "2086",
         "NSW",
         "-33.7482",
         "151.2232"
        ],
        [
         "36",
         "S0035",
         "2530",
         "NSW",
         "-34.543",
         "150.793"
        ],
        [
         "37",
         "S0036",
         "3116",
         "VIC",
         "-37.7386",
         "145.3143"
        ],
        [
         "38",
         "S0038",
         "2576",
         "NSW",
         "-34.5263",
         "150.4846"
        ],
        [
         "39",
         "S0039",
         "2111",
         "NSW",
         "-33.8317",
         "151.1168"
        ],
        [
         "40",
         "S0040",
         "4211",
         "QLD",
         "-28.0393",
         "153.2817"
        ],
        [
         "41",
         "S0041",
         "2029",
         "NSW",
         "-33.8688",
         "151.2706"
        ],
        [
         "42",
         "S0042",
         "5043",
         "SA",
         "-34.9944",
         "138.5532"
        ],
        [
         "43",
         "S0043",
         "2574",
         "NSW",
         "-34.293",
         "150.5781"
        ],
        [
         "44",
         "S0044",
         "3039",
         "VIC",
         "-37.7667",
         "144.9167"
        ],
        [
         "45",
         "S0045",
         "4035",
         "QLD",
         "-27.3536",
         "152.9685"
        ],
        [
         "46",
         "S0046",
         "4575",
         "QLD",
         "-26.706",
         "153.1316"
        ],
        [
         "47",
         "S0047",
         "4054",
         "QLD",
         "-27.4667",
         "152.9667"
        ],
        [
         "48",
         "S0048",
         "4011",
         "QLD",
         "-27.4189",
         "153.0582"
        ],
        [
         "49",
         "S0049",
         "2223",
         "NSW",
         "-33.969",
         "151.0723"
        ]
       ],
       "shape": {
        "columns": 5,
        "rows": 955
       }
      },
      "text/html": [
       "<div>\n",
       "<style scoped>\n",
       "    .dataframe tbody tr th:only-of-type {\n",
       "        vertical-align: middle;\n",
       "    }\n",
       "\n",
       "    .dataframe tbody tr th {\n",
       "        vertical-align: top;\n",
       "    }\n",
       "\n",
       "    .dataframe thead th {\n",
       "        text-align: right;\n",
       "    }\n",
       "</style>\n",
       "<table border=\"1\" class=\"dataframe\">\n",
       "  <thead>\n",
       "    <tr style=\"text-align: right;\">\n",
       "      <th></th>\n",
       "      <th>edp_site_id</th>\n",
       "      <th>postcode</th>\n",
       "      <th>state</th>\n",
       "      <th>lat</th>\n",
       "      <th>long</th>\n",
       "    </tr>\n",
       "  </thead>\n",
       "  <tbody>\n",
       "    <tr>\n",
       "      <th>0</th>\n",
       "      <td>S0037</td>\n",
       "      <td>3039</td>\n",
       "      <td>VIC</td>\n",
       "      <td>-37.7667</td>\n",
       "      <td>144.9167</td>\n",
       "    </tr>\n",
       "    <tr>\n",
       "      <th>1</th>\n",
       "      <td>S0057</td>\n",
       "      <td>4123</td>\n",
       "      <td>QLD</td>\n",
       "      <td>-27.5952</td>\n",
       "      <td>153.1233</td>\n",
       "    </tr>\n",
       "    <tr>\n",
       "      <th>2</th>\n",
       "      <td>S0001</td>\n",
       "      <td>3040</td>\n",
       "      <td>VIC</td>\n",
       "      <td>-37.7549</td>\n",
       "      <td>144.8834</td>\n",
       "    </tr>\n",
       "    <tr>\n",
       "      <th>3</th>\n",
       "      <td>S0002</td>\n",
       "      <td>2768</td>\n",
       "      <td>NSW</td>\n",
       "      <td>-33.7333</td>\n",
       "      <td>150.9328</td>\n",
       "    </tr>\n",
       "    <tr>\n",
       "      <th>4</th>\n",
       "      <td>S0003</td>\n",
       "      <td>2450</td>\n",
       "      <td>NSW</td>\n",
       "      <td>-30.1574</td>\n",
       "      <td>153.0958</td>\n",
       "    </tr>\n",
       "    <tr>\n",
       "      <th>...</th>\n",
       "      <td>...</td>\n",
       "      <td>...</td>\n",
       "      <td>...</td>\n",
       "      <td>...</td>\n",
       "      <td>...</td>\n",
       "    </tr>\n",
       "    <tr>\n",
       "      <th>950</th>\n",
       "      <td>W0349</td>\n",
       "      <td>3113</td>\n",
       "      <td>VIC</td>\n",
       "      <td>-37.7500</td>\n",
       "      <td>145.2333</td>\n",
       "    </tr>\n",
       "    <tr>\n",
       "      <th>951</th>\n",
       "      <td>W0350</td>\n",
       "      <td>3047</td>\n",
       "      <td>VIC</td>\n",
       "      <td>-37.6708</td>\n",
       "      <td>144.9354</td>\n",
       "    </tr>\n",
       "    <tr>\n",
       "      <th>952</th>\n",
       "      <td>W0351</td>\n",
       "      <td>2905</td>\n",
       "      <td>ACT</td>\n",
       "      <td>-35.4404</td>\n",
       "      <td>149.1071</td>\n",
       "    </tr>\n",
       "    <tr>\n",
       "      <th>953</th>\n",
       "      <td>W0352</td>\n",
       "      <td>5097</td>\n",
       "      <td>SA</td>\n",
       "      <td>-34.8308</td>\n",
       "      <td>138.7107</td>\n",
       "    </tr>\n",
       "    <tr>\n",
       "      <th>954</th>\n",
       "      <td>W0353</td>\n",
       "      <td>3058</td>\n",
       "      <td>VIC</td>\n",
       "      <td>-37.7500</td>\n",
       "      <td>144.9667</td>\n",
       "    </tr>\n",
       "  </tbody>\n",
       "</table>\n",
       "<p>955 rows × 5 columns</p>\n",
       "</div>"
      ],
      "text/plain": [
       "    edp_site_id  postcode state      lat      long\n",
       "0         S0037      3039   VIC -37.7667  144.9167\n",
       "1         S0057      4123   QLD -27.5952  153.1233\n",
       "2         S0001      3040   VIC -37.7549  144.8834\n",
       "3         S0002      2768   NSW -33.7333  150.9328\n",
       "4         S0003      2450   NSW -30.1574  153.0958\n",
       "..          ...       ...   ...      ...       ...\n",
       "950       W0349      3113   VIC -37.7500  145.2333\n",
       "951       W0350      3047   VIC -37.6708  144.9354\n",
       "952       W0351      2905   ACT -35.4404  149.1071\n",
       "953       W0352      5097    SA -34.8308  138.7107\n",
       "954       W0353      3058   VIC -37.7500  144.9667\n",
       "\n",
       "[955 rows x 5 columns]"
      ]
     },
     "execution_count": 10,
     "metadata": {},
     "output_type": "execute_result"
    }
   ],
   "source": [
    "df"
   ]
  },
  {
   "cell_type": "code",
   "execution_count": 11,
   "id": "c8a88cf6",
   "metadata": {},
   "outputs": [],
   "source": [
    "# check missing values in df\n",
    "missing_values = df.isnull().sum()"
   ]
  },
  {
   "cell_type": "code",
   "execution_count": 12,
   "id": "9b027712",
   "metadata": {},
   "outputs": [],
   "source": [
    "# show row with missing values in df\n",
    "missing_rows = df[df.isnull().any(axis=1)]"
   ]
  },
  {
   "cell_type": "code",
   "execution_count": 13,
   "id": "656dfc21",
   "metadata": {},
   "outputs": [
    {
     "data": {
      "application/vnd.microsoft.datawrangler.viewer.v0+json": {
       "columns": [
        {
         "name": "index",
         "rawType": "int64",
         "type": "integer"
        },
        {
         "name": "edp_site_id",
         "rawType": "object",
         "type": "string"
        },
        {
         "name": "postcode",
         "rawType": "int64",
         "type": "integer"
        },
        {
         "name": "state",
         "rawType": "object",
         "type": "string"
        },
        {
         "name": "lat",
         "rawType": "float64",
         "type": "float"
        },
        {
         "name": "long",
         "rawType": "float64",
         "type": "float"
        }
       ],
       "ref": "7cad55f2-d137-44b1-8b23-5613c53a8ac0",
       "rows": [
        [
         "24",
         "S0023",
         "5323",
         "SA",
         null,
         null
        ]
       ],
       "shape": {
        "columns": 5,
        "rows": 1
       }
      },
      "text/html": [
       "<div>\n",
       "<style scoped>\n",
       "    .dataframe tbody tr th:only-of-type {\n",
       "        vertical-align: middle;\n",
       "    }\n",
       "\n",
       "    .dataframe tbody tr th {\n",
       "        vertical-align: top;\n",
       "    }\n",
       "\n",
       "    .dataframe thead th {\n",
       "        text-align: right;\n",
       "    }\n",
       "</style>\n",
       "<table border=\"1\" class=\"dataframe\">\n",
       "  <thead>\n",
       "    <tr style=\"text-align: right;\">\n",
       "      <th></th>\n",
       "      <th>edp_site_id</th>\n",
       "      <th>postcode</th>\n",
       "      <th>state</th>\n",
       "      <th>lat</th>\n",
       "      <th>long</th>\n",
       "    </tr>\n",
       "  </thead>\n",
       "  <tbody>\n",
       "    <tr>\n",
       "      <th>24</th>\n",
       "      <td>S0023</td>\n",
       "      <td>5323</td>\n",
       "      <td>SA</td>\n",
       "      <td>NaN</td>\n",
       "      <td>NaN</td>\n",
       "    </tr>\n",
       "  </tbody>\n",
       "</table>\n",
       "</div>"
      ],
      "text/plain": [
       "   edp_site_id  postcode state  lat  long\n",
       "24       S0023      5323    SA  NaN   NaN"
      ]
     },
     "execution_count": 13,
     "metadata": {},
     "output_type": "execute_result"
    }
   ],
   "source": [
    "missing_rows"
   ]
  },
  {
   "cell_type": "code",
   "execution_count": 14,
   "id": "c87abae2",
   "metadata": {},
   "outputs": [],
   "source": [
    "# after checking from https://auspost.com.au/postcode/5323 seems like the user inputted the wrong postcode\n",
    "# so drop the row with postcode 5323\n",
    "df = df[df['postcode'] != 5323]\n"
   ]
  },
  {
   "cell_type": "code",
   "execution_count": 15,
   "id": "a039b557",
   "metadata": {},
   "outputs": [
    {
     "data": {
      "application/vnd.microsoft.datawrangler.viewer.v0+json": {
       "columns": [
        {
         "name": "index",
         "rawType": "int64",
         "type": "integer"
        },
        {
         "name": "edp_site_id",
         "rawType": "object",
         "type": "string"
        },
        {
         "name": "postcode",
         "rawType": "int64",
         "type": "integer"
        },
        {
         "name": "state",
         "rawType": "object",
         "type": "string"
        },
        {
         "name": "lat",
         "rawType": "float64",
         "type": "float"
        },
        {
         "name": "long",
         "rawType": "float64",
         "type": "float"
        }
       ],
       "ref": "2e29d3d0-1f96-4baa-b467-1694864399e6",
       "rows": [
        [
         "0",
         "S0037",
         "3039",
         "VIC",
         "-37.7667",
         "144.9167"
        ],
        [
         "1",
         "S0057",
         "4123",
         "QLD",
         "-27.5952",
         "153.1233"
        ],
        [
         "2",
         "S0001",
         "3040",
         "VIC",
         "-37.7549",
         "144.8834"
        ],
        [
         "3",
         "S0002",
         "2768",
         "NSW",
         "-33.7333",
         "150.9328"
        ],
        [
         "4",
         "S0003",
         "2450",
         "NSW",
         "-30.1574",
         "153.0958"
        ],
        [
         "5",
         "S0004",
         "2570",
         "NSW",
         "-34.0799",
         "150.57"
        ],
        [
         "6",
         "S0005",
         "2320",
         "NSW",
         "-32.7288",
         "151.5345"
        ],
        [
         "7",
         "S0006",
         "2047",
         "NSW",
         "-33.8524",
         "151.1549"
        ],
        [
         "8",
         "S0007",
         "2148",
         "NSW",
         "-33.7482",
         "150.8927"
        ],
        [
         "9",
         "S0008",
         "2316",
         "NSW",
         "-32.7858",
         "152.0896"
        ],
        [
         "10",
         "S0009",
         "4215",
         "QLD",
         "-27.9556",
         "153.3981"
        ],
        [
         "11",
         "S0010",
         "2018",
         "NSW",
         "-33.9167",
         "151.2"
        ],
        [
         "12",
         "S0011",
         "2031",
         "NSW",
         "-33.9121",
         "151.2588"
        ],
        [
         "13",
         "S0012",
         "3030",
         "VIC",
         "-37.9148",
         "144.7509"
        ],
        [
         "14",
         "S0013",
         "2790",
         "NSW",
         "-33.4333",
         "150.1167"
        ],
        [
         "15",
         "S0014",
         "4566",
         "QLD",
         "-26.4",
         "153.0667"
        ],
        [
         "16",
         "S0015",
         "4124",
         "QLD",
         "-27.766",
         "152.942"
        ],
        [
         "17",
         "S0016",
         "2762",
         "NSW",
         "-33.7167",
         "150.8667"
        ],
        [
         "18",
         "S0017",
         "2642",
         "NSW",
         "-36.2166",
         "148.1299"
        ],
        [
         "19",
         "S0018",
         "3030",
         "VIC",
         "-37.9148",
         "144.7509"
        ],
        [
         "20",
         "S0019",
         "3147",
         "VIC",
         "-37.8667",
         "145.0833"
        ],
        [
         "21",
         "S0020",
         "2261",
         "NSW",
         "-33.35",
         "151.4333"
        ],
        [
         "22",
         "S0021",
         "2289",
         "NSW",
         "-32.9428",
         "151.6958"
        ],
        [
         "23",
         "S0022",
         "3083",
         "VIC",
         "-37.7141",
         "145.0351"
        ],
        [
         "25",
         "S0024",
         "4557",
         "QLD",
         "-26.7028",
         "153.1013"
        ],
        [
         "26",
         "S0025",
         "3032",
         "VIC",
         "-37.7799",
         "144.9228"
        ],
        [
         "27",
         "S0026",
         "5048",
         "SA",
         "-35.0277",
         "138.528"
        ],
        [
         "28",
         "S0027",
         "3337",
         "VIC",
         "-37.6834",
         "144.5854"
        ],
        [
         "29",
         "S0028",
         "4018",
         "QLD",
         "-27.3426",
         "153.0444"
        ],
        [
         "30",
         "S0029",
         "5025",
         "SA",
         "-34.9103",
         "138.5432"
        ],
        [
         "31",
         "S0030",
         "5049",
         "SA",
         "-35.0447",
         "138.5124"
        ],
        [
         "32",
         "S0031",
         "5127",
         "SA",
         "-34.7994",
         "138.6871"
        ],
        [
         "33",
         "S0032",
         "3030",
         "VIC",
         "-37.9148",
         "144.7509"
        ],
        [
         "34",
         "S0033",
         "4310",
         "QLD",
         "-28.1742",
         "152.7201"
        ],
        [
         "35",
         "S0034",
         "2086",
         "NSW",
         "-33.7482",
         "151.2232"
        ],
        [
         "36",
         "S0035",
         "2530",
         "NSW",
         "-34.543",
         "150.793"
        ],
        [
         "37",
         "S0036",
         "3116",
         "VIC",
         "-37.7386",
         "145.3143"
        ],
        [
         "38",
         "S0038",
         "2576",
         "NSW",
         "-34.5263",
         "150.4846"
        ],
        [
         "39",
         "S0039",
         "2111",
         "NSW",
         "-33.8317",
         "151.1168"
        ],
        [
         "40",
         "S0040",
         "4211",
         "QLD",
         "-28.0393",
         "153.2817"
        ],
        [
         "41",
         "S0041",
         "2029",
         "NSW",
         "-33.8688",
         "151.2706"
        ],
        [
         "42",
         "S0042",
         "5043",
         "SA",
         "-34.9944",
         "138.5532"
        ],
        [
         "43",
         "S0043",
         "2574",
         "NSW",
         "-34.293",
         "150.5781"
        ],
        [
         "44",
         "S0044",
         "3039",
         "VIC",
         "-37.7667",
         "144.9167"
        ],
        [
         "45",
         "S0045",
         "4035",
         "QLD",
         "-27.3536",
         "152.9685"
        ],
        [
         "46",
         "S0046",
         "4575",
         "QLD",
         "-26.706",
         "153.1316"
        ],
        [
         "47",
         "S0047",
         "4054",
         "QLD",
         "-27.4667",
         "152.9667"
        ],
        [
         "48",
         "S0048",
         "4011",
         "QLD",
         "-27.4189",
         "153.0582"
        ],
        [
         "49",
         "S0049",
         "2223",
         "NSW",
         "-33.969",
         "151.0723"
        ],
        [
         "50",
         "S0050",
         "4520",
         "QLD",
         "-27.3457",
         "152.8718"
        ]
       ],
       "shape": {
        "columns": 5,
        "rows": 954
       }
      },
      "text/html": [
       "<div>\n",
       "<style scoped>\n",
       "    .dataframe tbody tr th:only-of-type {\n",
       "        vertical-align: middle;\n",
       "    }\n",
       "\n",
       "    .dataframe tbody tr th {\n",
       "        vertical-align: top;\n",
       "    }\n",
       "\n",
       "    .dataframe thead th {\n",
       "        text-align: right;\n",
       "    }\n",
       "</style>\n",
       "<table border=\"1\" class=\"dataframe\">\n",
       "  <thead>\n",
       "    <tr style=\"text-align: right;\">\n",
       "      <th></th>\n",
       "      <th>edp_site_id</th>\n",
       "      <th>postcode</th>\n",
       "      <th>state</th>\n",
       "      <th>lat</th>\n",
       "      <th>long</th>\n",
       "    </tr>\n",
       "  </thead>\n",
       "  <tbody>\n",
       "    <tr>\n",
       "      <th>0</th>\n",
       "      <td>S0037</td>\n",
       "      <td>3039</td>\n",
       "      <td>VIC</td>\n",
       "      <td>-37.7667</td>\n",
       "      <td>144.9167</td>\n",
       "    </tr>\n",
       "    <tr>\n",
       "      <th>1</th>\n",
       "      <td>S0057</td>\n",
       "      <td>4123</td>\n",
       "      <td>QLD</td>\n",
       "      <td>-27.5952</td>\n",
       "      <td>153.1233</td>\n",
       "    </tr>\n",
       "    <tr>\n",
       "      <th>2</th>\n",
       "      <td>S0001</td>\n",
       "      <td>3040</td>\n",
       "      <td>VIC</td>\n",
       "      <td>-37.7549</td>\n",
       "      <td>144.8834</td>\n",
       "    </tr>\n",
       "    <tr>\n",
       "      <th>3</th>\n",
       "      <td>S0002</td>\n",
       "      <td>2768</td>\n",
       "      <td>NSW</td>\n",
       "      <td>-33.7333</td>\n",
       "      <td>150.9328</td>\n",
       "    </tr>\n",
       "    <tr>\n",
       "      <th>4</th>\n",
       "      <td>S0003</td>\n",
       "      <td>2450</td>\n",
       "      <td>NSW</td>\n",
       "      <td>-30.1574</td>\n",
       "      <td>153.0958</td>\n",
       "    </tr>\n",
       "    <tr>\n",
       "      <th>...</th>\n",
       "      <td>...</td>\n",
       "      <td>...</td>\n",
       "      <td>...</td>\n",
       "      <td>...</td>\n",
       "      <td>...</td>\n",
       "    </tr>\n",
       "    <tr>\n",
       "      <th>950</th>\n",
       "      <td>W0349</td>\n",
       "      <td>3113</td>\n",
       "      <td>VIC</td>\n",
       "      <td>-37.7500</td>\n",
       "      <td>145.2333</td>\n",
       "    </tr>\n",
       "    <tr>\n",
       "      <th>951</th>\n",
       "      <td>W0350</td>\n",
       "      <td>3047</td>\n",
       "      <td>VIC</td>\n",
       "      <td>-37.6708</td>\n",
       "      <td>144.9354</td>\n",
       "    </tr>\n",
       "    <tr>\n",
       "      <th>952</th>\n",
       "      <td>W0351</td>\n",
       "      <td>2905</td>\n",
       "      <td>ACT</td>\n",
       "      <td>-35.4404</td>\n",
       "      <td>149.1071</td>\n",
       "    </tr>\n",
       "    <tr>\n",
       "      <th>953</th>\n",
       "      <td>W0352</td>\n",
       "      <td>5097</td>\n",
       "      <td>SA</td>\n",
       "      <td>-34.8308</td>\n",
       "      <td>138.7107</td>\n",
       "    </tr>\n",
       "    <tr>\n",
       "      <th>954</th>\n",
       "      <td>W0353</td>\n",
       "      <td>3058</td>\n",
       "      <td>VIC</td>\n",
       "      <td>-37.7500</td>\n",
       "      <td>144.9667</td>\n",
       "    </tr>\n",
       "  </tbody>\n",
       "</table>\n",
       "<p>954 rows × 5 columns</p>\n",
       "</div>"
      ],
      "text/plain": [
       "    edp_site_id  postcode state      lat      long\n",
       "0         S0037      3039   VIC -37.7667  144.9167\n",
       "1         S0057      4123   QLD -27.5952  153.1233\n",
       "2         S0001      3040   VIC -37.7549  144.8834\n",
       "3         S0002      2768   NSW -33.7333  150.9328\n",
       "4         S0003      2450   NSW -30.1574  153.0958\n",
       "..          ...       ...   ...      ...       ...\n",
       "950       W0349      3113   VIC -37.7500  145.2333\n",
       "951       W0350      3047   VIC -37.6708  144.9354\n",
       "952       W0351      2905   ACT -35.4404  149.1071\n",
       "953       W0352      5097    SA -34.8308  138.7107\n",
       "954       W0353      3058   VIC -37.7500  144.9667\n",
       "\n",
       "[954 rows x 5 columns]"
      ]
     },
     "execution_count": 15,
     "metadata": {},
     "output_type": "execute_result"
    }
   ],
   "source": [
    "df"
   ]
  },
  {
   "cell_type": "code",
   "execution_count": 16,
   "id": "69ed9d6d",
   "metadata": {},
   "outputs": [],
   "source": [
    "import numpy as np\n",
    "from sklearn.cluster import DBSCAN\n",
    "from geopy.distance import great_circle\n",
    "from sklearn.preprocessing import StandardScaler\n"
   ]
  },
  {
   "cell_type": "code",
   "execution_count": 17,
   "id": "7284ce63",
   "metadata": {},
   "outputs": [
    {
     "name": "stderr",
     "output_type": "stream",
     "text": [
      "C:\\Users\\z5404477\\AppData\\Local\\Temp\\ipykernel_6624\\3848592116.py:3: SettingWithCopyWarning: \n",
      "A value is trying to be set on a copy of a slice from a DataFrame.\n",
      "Try using .loc[row_indexer,col_indexer] = value instead\n",
      "\n",
      "See the caveats in the documentation: https://pandas.pydata.org/pandas-docs/stable/user_guide/indexing.html#returning-a-view-versus-a-copy\n",
      "  df['lat'] = np.radians(df['lat'])\n",
      "C:\\Users\\z5404477\\AppData\\Local\\Temp\\ipykernel_6624\\3848592116.py:4: SettingWithCopyWarning: \n",
      "A value is trying to be set on a copy of a slice from a DataFrame.\n",
      "Try using .loc[row_indexer,col_indexer] = value instead\n",
      "\n",
      "See the caveats in the documentation: https://pandas.pydata.org/pandas-docs/stable/user_guide/indexing.html#returning-a-view-versus-a-copy\n",
      "  df['long'] = np.radians(df['long'])\n"
     ]
    }
   ],
   "source": [
    "# Assuming your DataFrame is df and it contains 'lat' and 'long' columns\n",
    "# Convert lat and long to radians\n",
    "df['lat'] = np.radians(df['lat'])\n",
    "df['long'] = np.radians(df['long'])"
   ]
  },
  {
   "cell_type": "code",
   "execution_count": 28,
   "id": "e9425f33",
   "metadata": {},
   "outputs": [
    {
     "name": "stdout",
     "output_type": "stream",
     "text": [
      "  edp_site_id  postcode state       lat      long  cluster  lat_deg  long_deg\n",
      "0       S0037      3039   VIC -0.659153  2.529274        0 -37.7667  144.9167\n",
      "1       S0057      4123   QLD -0.481627  2.672506        0 -27.5952  153.1233\n",
      "2       S0001      3040   VIC -0.658947  2.528692        0 -37.7549  144.8834\n",
      "3       S0002      2768   NSW -0.588757  2.634274        0 -33.7333  150.9328\n",
      "4       S0003      2450   NSW -0.526346  2.672026        0 -30.1574  153.0958\n"
     ]
    },
    {
     "name": "stderr",
     "output_type": "stream",
     "text": [
      "C:\\Users\\z5404477\\AppData\\Local\\Temp\\ipykernel_6624\\3400423896.py:9: SettingWithCopyWarning: \n",
      "A value is trying to be set on a copy of a slice from a DataFrame.\n",
      "Try using .loc[row_indexer,col_indexer] = value instead\n",
      "\n",
      "See the caveats in the documentation: https://pandas.pydata.org/pandas-docs/stable/user_guide/indexing.html#returning-a-view-versus-a-copy\n",
      "  df['cluster'] = db.fit_predict(coords)\n"
     ]
    }
   ],
   "source": [
    "# Prepare the features for clustering (lat and long)\n",
    "coords = df[['lat', 'long']].values\n",
    "\n",
    "# Use DBSCAN with haversine distance\n",
    "db = DBSCAN(eps=99, min_samples=5, metric='haversine')  # Adjust eps and min_samples as needed\n",
    "# eps 0.015 produces cluster from Batemans Bay (NSW) to Coffs Harbour (NSW)\n",
    "# eps 0.005 produces cluster from Avoca (NSW) to Alison (NSW)\n",
    "# Fit DBSCAN to the coordinates\n",
    "df['cluster'] = db.fit_predict(coords)\n",
    "\n",
    "# Display the result\n",
    "print(df.head())"
   ]
  },
  {
   "cell_type": "code",
   "execution_count": 29,
   "id": "935a0c49",
   "metadata": {},
   "outputs": [
    {
     "name": "stdout",
     "output_type": "stream",
     "text": [
      "Requirement already satisfied: geopandas in c:\\users\\z5404477\\onedrive - unsw\\04_workspace\\2. wip\\to github\\.venv\\lib\\site-packages (1.1.0)\n",
      "Requirement already satisfied: numpy>=1.24 in c:\\users\\z5404477\\onedrive - unsw\\04_workspace\\2. wip\\to github\\.venv\\lib\\site-packages (from geopandas) (2.1.1)\n",
      "Requirement already satisfied: pyogrio>=0.7.2 in c:\\users\\z5404477\\onedrive - unsw\\04_workspace\\2. wip\\to github\\.venv\\lib\\site-packages (from geopandas) (0.11.0)\n",
      "Requirement already satisfied: packaging in c:\\users\\z5404477\\onedrive - unsw\\04_workspace\\2. wip\\to github\\.venv\\lib\\site-packages (from geopandas) (24.1)\n",
      "Requirement already satisfied: pandas>=2.0.0 in c:\\users\\z5404477\\onedrive - unsw\\04_workspace\\2. wip\\to github\\.venv\\lib\\site-packages (from geopandas) (2.2.3)\n",
      "Requirement already satisfied: pyproj>=3.5.0 in c:\\users\\z5404477\\onedrive - unsw\\04_workspace\\2. wip\\to github\\.venv\\lib\\site-packages (from geopandas) (3.7.1)\n",
      "Requirement already satisfied: shapely>=2.0.0 in c:\\users\\z5404477\\onedrive - unsw\\04_workspace\\2. wip\\to github\\.venv\\lib\\site-packages (from geopandas) (2.1.1)\n",
      "Requirement already satisfied: python-dateutil>=2.8.2 in c:\\users\\z5404477\\onedrive - unsw\\04_workspace\\2. wip\\to github\\.venv\\lib\\site-packages (from pandas>=2.0.0->geopandas) (2.9.0.post0)\n",
      "Requirement already satisfied: pytz>=2020.1 in c:\\users\\z5404477\\onedrive - unsw\\04_workspace\\2. wip\\to github\\.venv\\lib\\site-packages (from pandas>=2.0.0->geopandas) (2024.2)\n",
      "Requirement already satisfied: tzdata>=2022.7 in c:\\users\\z5404477\\onedrive - unsw\\04_workspace\\2. wip\\to github\\.venv\\lib\\site-packages (from pandas>=2.0.0->geopandas) (2024.1)\n",
      "Requirement already satisfied: certifi in c:\\users\\z5404477\\onedrive - unsw\\04_workspace\\2. wip\\to github\\.venv\\lib\\site-packages (from pyogrio>=0.7.2->geopandas) (2025.6.15)\n",
      "Requirement already satisfied: six>=1.5 in c:\\users\\z5404477\\onedrive - unsw\\04_workspace\\2. wip\\to github\\.venv\\lib\\site-packages (from python-dateutil>=2.8.2->pandas>=2.0.0->geopandas) (1.16.0)\n",
      "Note: you may need to restart the kernel to use updated packages.\n"
     ]
    },
    {
     "name": "stderr",
     "output_type": "stream",
     "text": [
      "\n",
      "[notice] A new release of pip is available: 24.2 -> 25.1.1\n",
      "[notice] To update, run: python.exe -m pip install --upgrade pip\n"
     ]
    }
   ],
   "source": [
    "%pip install geopandas\n",
    "import geopandas as gpd"
   ]
  },
  {
   "cell_type": "code",
   "execution_count": 30,
   "id": "4c24fdea",
   "metadata": {},
   "outputs": [],
   "source": [
    "australia_map = gpd.read_file('../../../../data/1. raw/ACAP EDP/Metadata/postcode data/AUS_2021_AUST_SHP_GDA2020/AUS_2021_AUST_GDA2020.shp')"
   ]
  },
  {
   "cell_type": "code",
   "execution_count": 31,
   "id": "3c29a51b",
   "metadata": {},
   "outputs": [],
   "source": [
    "import matplotlib.pyplot as plt\n"
   ]
  },
  {
   "cell_type": "code",
   "execution_count": 32,
   "id": "36eadba8",
   "metadata": {},
   "outputs": [
    {
     "name": "stderr",
     "output_type": "stream",
     "text": [
      "C:\\Users\\z5404477\\AppData\\Local\\Temp\\ipykernel_6624\\1764240275.py:2: SettingWithCopyWarning: \n",
      "A value is trying to be set on a copy of a slice from a DataFrame.\n",
      "Try using .loc[row_indexer,col_indexer] = value instead\n",
      "\n",
      "See the caveats in the documentation: https://pandas.pydata.org/pandas-docs/stable/user_guide/indexing.html#returning-a-view-versus-a-copy\n",
      "  df['lat_deg'] = np.degrees(df['lat'])  # Convert back to degrees\n",
      "C:\\Users\\z5404477\\AppData\\Local\\Temp\\ipykernel_6624\\1764240275.py:3: SettingWithCopyWarning: \n",
      "A value is trying to be set on a copy of a slice from a DataFrame.\n",
      "Try using .loc[row_indexer,col_indexer] = value instead\n",
      "\n",
      "See the caveats in the documentation: https://pandas.pydata.org/pandas-docs/stable/user_guide/indexing.html#returning-a-view-versus-a-copy\n",
      "  df['long_deg'] = np.degrees(df['long'])  # Convert back to degrees\n"
     ]
    }
   ],
   "source": [
    "# Reverse the radians transformation to degrees for plotting\n",
    "df['lat_deg'] = np.degrees(df['lat'])  # Convert back to degrees\n",
    "df['long_deg'] = np.degrees(df['long'])  # Convert back to degrees"
   ]
  },
  {
   "cell_type": "code",
   "execution_count": 33,
   "id": "7b7c80db",
   "metadata": {},
   "outputs": [
    {
     "data": {
      "image/png": "[encoded data removed]",
      "text/plain": [
       "<Figure size 1000x1000 with 2 Axes>"
      ]
     },
     "metadata": {},
     "output_type": "display_data"
    }
   ],
   "source": [
    "\n",
    "# Create the plot\n",
    "fig, ax = plt.subplots(figsize=(10, 10))\n",
    "\n",
    "# Plot the Australia map\n",
    "australia_map.plot(ax=ax, color='lightgray')\n",
    "\n",
    "# Overlay the clustered data points (in degrees)\n",
    "scatter = ax.scatter(df['long_deg'], df['lat_deg'], c=df['cluster'], cmap='viridis', edgecolors='k', s=50)\n",
    "\n",
    "# Add colorbar for clusters\n",
    "cbar = plt.colorbar(scatter, ax=ax, orientation='vertical')\n",
    "cbar.set_label('Cluster ID')\n",
    "\n",
    "# Add title and labels\n",
    "ax.set_title('Geographical Clustering with DBSCAN in Australia')\n",
    "ax.set_xlabel('Longitude')\n",
    "ax.set_ylabel('Latitude')\n",
    "\n",
    "# Show the plot\n",
    "plt.show()"
   ]
  },
  {
   "cell_type": "code",
   "execution_count": 34,
   "id": "feffd9a3",
   "metadata": {},
   "outputs": [
    {
     "name": "stdout",
     "output_type": "stream",
     "text": [
      "   cluster  site_count\n",
      "0        0         954\n"
     ]
    }
   ],
   "source": [
    "# Count the number of sites per cluster\n",
    "cluster_counts = df['cluster'].value_counts().reset_index()\n",
    "cluster_counts.columns = ['cluster', 'site_count']\n",
    "print(cluster_counts)\n"
   ]
  },
  {
   "cell_type": "code",
   "execution_count": 35,
   "id": "92061b19",
   "metadata": {},
   "outputs": [],
   "source": [
    "# we choose cluster 2 cuz it has the most sites\n",
    "# cluster -1 is noise, so we ignore it\n",
    "# Filter the DataFrame for cluster 2\n",
    "cluster_2_sites = df[df['cluster'] == 2]\n"
   ]
  },
  {
   "cell_type": "code",
   "execution_count": 36,
   "id": "634ee30b",
   "metadata": {},
   "outputs": [
    {
     "data": {
      "image/png": "[encoded data removed]",
      "text/plain": [
       "<Figure size 1000x1000 with 2 Axes>"
      ]
     },
     "metadata": {},
     "output_type": "display_data"
    }
   ],
   "source": [
    "\n",
    "# display the sites in cluster 2\n",
    "# Create the plot\n",
    "fig, ax = plt.subplots(figsize=(10, 10))\n",
    "\n",
    "# Plot the Australia map\n",
    "australia_map.plot(ax=ax, color='lightgray')\n",
    "\n",
    "# Overlay the clustered data points (in degrees)\n",
    "scatter = ax.scatter(cluster_2_sites['long_deg'], cluster_2_sites['lat_deg'], c=cluster_2_sites['cluster'], cmap='viridis', edgecolors='k', s=50)\n",
    "\n",
    "# Add colorbar for clusters\n",
    "cbar = plt.colorbar(scatter, ax=ax, orientation='vertical')\n",
    "cbar.set_label('Cluster ID')\n",
    "\n",
    "# Add title and labels\n",
    "ax.set_title('Geographical Clustering with DBSCAN in Australia')\n",
    "ax.set_xlabel('Longitude')\n",
    "ax.set_ylabel('Latitude')\n",
    "\n",
    "# Show the plot\n",
    "plt.show()"
   ]
  },
  {
   "cell_type": "code",
   "execution_count": 36,
   "id": "8b711e7f",
   "metadata": {},
   "outputs": [
    {
     "name": "stderr",
     "output_type": "stream",
     "text": [
      "C:\\Users\\z5404477\\AppData\\Local\\Temp\\ipykernel_41976\\484344810.py:1: SettingWithCopyWarning: \n",
      "A value is trying to be set on a copy of a slice from a DataFrame\n",
      "\n",
      "See the caveats in the documentation: https://pandas.pydata.org/pandas-docs/stable/user_guide/indexing.html#returning-a-view-versus-a-copy\n",
      "  cluster_2_sites.sort_values(by='lat_deg', ascending=True, inplace=True)\n"
     ]
    }
   ],
   "source": [
    "cluster_2_sites.sort_values(by='lat_deg', ascending=True, inplace=True)"
   ]
  },
  {
   "cell_type": "code",
   "execution_count": 37,
   "id": "2ffeb0eb",
   "metadata": {},
   "outputs": [
    {
     "data": {
      "application/vnd.microsoft.datawrangler.viewer.v0+json": {
       "columns": [
        {
         "name": "index",
         "rawType": "int64",
         "type": "integer"
        },
        {
         "name": "edp_site_id",
         "rawType": "object",
         "type": "string"
        },
        {
         "name": "postcode",
         "rawType": "int64",
         "type": "integer"
        },
        {
         "name": "state",
         "rawType": "object",
         "type": "string"
        },
        {
         "name": "lat",
         "rawType": "float64",
         "type": "float"
        },
        {
         "name": "long",
         "rawType": "float64",
         "type": "float"
        },
        {
         "name": "cluster",
         "rawType": "int64",
         "type": "integer"
        },
        {
         "name": "lat_deg",
         "rawType": "float64",
         "type": "float"
        },
        {
         "name": "long_deg",
         "rawType": "float64",
         "type": "float"
        }
       ],
       "ref": "643a8ed4-9c96-4519-9ce0-46ddc7966cc2",
       "rows": [
        [
         "189",
         "S0191",
         "2577",
         "NSW",
         "-0.6047635671330431",
         "2.6293158288491814",
         "2",
         "-34.6504",
         "150.6487"
        ],
        [
         "89",
         "S0090",
         "2529",
         "NSW",
         "-0.6035592899491671",
         "2.6327157302320665",
         "2",
         "-34.5814",
         "150.8435"
        ],
        [
         "938",
         "W0337",
         "2528",
         "NSW",
         "-0.6032311680497922",
         "2.633193950447113",
         "2",
         "-34.5626",
         "150.8709"
        ],
        [
         "800",
         "W0199",
         "2530",
         "NSW",
         "-0.6028890835164012",
         "2.6318343389598096",
         "2",
         "-34.543",
         "150.793"
        ],
        [
         "36",
         "S0035",
         "2530",
         "NSW",
         "-0.6028890835164012",
         "2.6318343389598096",
         "2",
         "-34.543",
         "150.793"
        ],
        [
         "79",
         "S0080",
         "2530",
         "NSW",
         "-0.6028890835164012",
         "2.6318343389598096",
         "2",
         "-34.543",
         "150.793"
        ],
        [
         "867",
         "W0266",
         "2530",
         "NSW",
         "-0.6028890835164012",
         "2.6318343389598096",
         "2",
         "-34.543",
         "150.793"
        ],
        [
         "38",
         "S0038",
         "2576",
         "NSW",
         "-0.6025976135313181",
         "2.626451743546659",
         "2",
         "-34.5263",
         "150.4846"
        ],
        [
         "120",
         "S0121",
         "2576",
         "NSW",
         "-0.6025976135313181",
         "2.626451743546659",
         "2",
         "-34.5263",
         "150.4846"
        ],
        [
         "866",
         "W0265",
         "2526",
         "NSW",
         "-0.6011873874957069",
         "2.632357937735408",
         "2",
         "-34.4455",
         "150.823"
        ],
        [
         "923",
         "W0322",
         "2526",
         "NSW",
         "-0.6011873874957069",
         "2.632357937735408",
         "2",
         "-34.4455",
         "150.823"
        ],
        [
         "368",
         "S0367",
         "2525",
         "NSW",
         "-0.6010145998997594",
         "2.632974038961362",
         "2",
         "-34.4356",
         "150.8583"
        ],
        [
         "62",
         "S0063",
         "2575",
         "NSW",
         "-0.6008714829010958",
         "2.626441271571147",
         "2",
         "-34.4274",
         "150.484"
        ],
        [
         "75",
         "S0076",
         "2575",
         "NSW",
         "-0.6008714829010958",
         "2.626441271571147",
         "2",
         "-34.4274",
         "150.484"
        ],
        [
         "94",
         "S0095",
         "2575",
         "NSW",
         "-0.6008714829010958",
         "2.626441271571147",
         "2",
         "-34.4274",
         "150.484"
        ],
        [
         "292",
         "S0293",
         "2500",
         "NSW",
         "-0.600826104340544",
         "2.6330770133872297",
         "2",
         "-34.4248",
         "150.8642"
        ],
        [
         "617",
         "W0142",
         "2519",
         "NSW",
         "-0.600196040480574",
         "2.6335936308458194",
         "2",
         "-34.3887",
         "150.8938"
        ],
        [
         "116",
         "S0117",
         "2519",
         "NSW",
         "-0.600196040480574",
         "2.6335936308458194",
         "2",
         "-34.3887",
         "150.8938"
        ],
        [
         "552",
         "S0553",
         "2518",
         "NSW",
         "-0.5999761289948228",
         "2.6338903368186584",
         "2",
         "-34.3761",
         "150.9108"
        ],
        [
         "520",
         "S0521",
         "2516",
         "NSW",
         "-0.5993163945375688",
         "2.6339374607084625",
         "2",
         "-34.3383",
         "150.9135"
        ],
        [
         "43",
         "S0043",
         "2574",
         "NSW",
         "-0.5985257603864155",
         "2.6280836263972738",
         "2",
         "-34.293000000000006",
         "150.5781"
        ],
        [
         "105",
         "S0106",
         "2515",
         "NSW",
         "-0.5979672550257773",
         "2.6349148450895794",
         "2",
         "-34.261",
         "150.9695"
        ],
        [
         "761",
         "W0162",
         "2571",
         "NSW",
         "-0.5976094625291184",
         "2.630171040182659",
         "2",
         "-34.2405",
         "150.6977"
        ],
        [
         "96",
         "S0097",
         "2571",
         "NSW",
         "-0.5976094625291184",
         "2.630171040182659",
         "2",
         "-34.2405",
         "150.6977"
        ],
        [
         "246",
         "S0247",
         "2508",
         "NSW",
         "-0.5975605933100625",
         "2.6340421804635823",
         "2",
         "-34.2377",
         "150.9195"
        ],
        [
         "272",
         "S0273",
         "2569",
         "NSW",
         "-0.5966408047942616",
         "2.6304642554969937",
         "2",
         "-34.185",
         "150.7145"
        ],
        [
         "104",
         "S0105",
         "2570",
         "NSW",
         "-0.5948064637504156",
         "2.627942254727862",
         "2",
         "-34.0799",
         "150.57"
        ],
        [
         "5",
         "S0004",
         "2570",
         "NSW",
         "-0.5948064637504156",
         "2.627942254727862",
         "2",
         "-34.0799",
         "150.57"
        ],
        [
         "102",
         "S0103",
         "2570",
         "NSW",
         "-0.5948064637504156",
         "2.627942254727862",
         "2",
         "-34.0799",
         "150.57"
        ],
        [
         "876",
         "W0275",
         "2229",
         "NSW",
         "-0.5946040055571842",
         "2.637466516455995",
         "2",
         "-34.0683",
         "151.1157"
        ],
        [
         "165",
         "S0167",
         "2233",
         "NSW",
         "-0.594345696827889",
         "2.6360685077251476",
         "2",
         "-34.0535",
         "151.0356"
        ],
        [
         "80",
         "S0081",
         "2233",
         "NSW",
         "-0.594345696827889",
         "2.6360685077251476",
         "2",
         "-34.0535",
         "151.0356"
        ],
        [
         "600",
         "W0001",
         "2233",
         "NSW",
         "-0.594345696827889",
         "2.6360685077251476",
         "2",
         "-34.0535",
         "151.0356"
        ],
        [
         "604",
         "W0005",
         "2233",
         "NSW",
         "-0.594345696827889",
         "2.6360685077251476",
         "2",
         "-34.0535",
         "151.0356"
        ],
        [
         "481",
         "S0481",
         "2233",
         "NSW",
         "-0.594345696827889",
         "2.6360685077251476",
         "2",
         "-34.0535",
         "151.0356"
        ],
        [
         "860",
         "W0259",
         "2233",
         "NSW",
         "-0.594345696827889",
         "2.6360685077251476",
         "2",
         "-34.0535",
         "151.0356"
        ],
        [
         "336",
         "S0337",
         "2227",
         "NSW",
         "-0.5943212622183611",
         "2.6369830602531925",
         "2",
         "-34.0521",
         "151.088"
        ],
        [
         "857",
         "W0256",
         "2228",
         "NSW",
         "-0.5943055542550931",
         "2.6372326423362282",
         "2",
         "-34.0512",
         "151.1023"
        ],
        [
         "814",
         "W0213",
         "2560",
         "NSW",
         "-0.5942846103040692",
         "2.632537706648363",
         "2",
         "-34.05",
         "150.8333"
        ],
        [
         "817",
         "W0216",
         "2567",
         "NSW",
         "-0.5941694185734375",
         "2.630776669433101",
         "2",
         "-34.0434",
         "150.7324"
        ],
        [
         "735",
         "W0131",
         "2567",
         "NSW",
         "-0.5941694185734375",
         "2.630776669433101",
         "2",
         "-34.0434",
         "150.7324"
        ],
        [
         "74",
         "S0075",
         "2567",
         "NSW",
         "-0.5941694185734375",
         "2.630776669433101",
         "2",
         "-34.0434",
         "150.7324"
        ],
        [
         "375",
         "S0374",
         "2230",
         "NSW",
         "-0.594052481513554",
         "2.6382257346806126",
         "2",
         "-34.0367",
         "151.1592"
        ],
        [
         "135",
         "S0137",
         "2234",
         "NSW",
         "-0.5940071029530022",
         "2.635654864692425",
         "2",
         "-34.0341",
         "151.0119"
        ],
        [
         "797",
         "W0196",
         "2234",
         "NSW",
         "-0.5940071029530022",
         "2.635654864692425",
         "2",
         "-34.0341",
         "151.0119"
        ],
        [
         "718",
         "W0114",
         "2234",
         "NSW",
         "-0.5940071029530022",
         "2.635654864692425",
         "2",
         "-34.0341",
         "151.0119"
        ],
        [
         "501",
         "S0502",
         "2232",
         "NSW",
         "-0.5938378060155587",
         "2.6361208676027075",
         "2",
         "-34.0244",
         "151.0386"
        ],
        [
         "500",
         "S0501",
         "2232",
         "NSW",
         "-0.5938378060155587",
         "2.6361208676027075",
         "2",
         "-34.0244",
         "151.0386"
        ],
        [
         "799",
         "W0198",
         "2232",
         "NSW",
         "-0.5938378060155587",
         "2.6361208676027075",
         "2",
         "-34.0244",
         "151.0386"
        ],
        [
         "109",
         "S0110",
         "2566",
         "NSW",
         "-0.5938028994305188",
         "2.6324731294660393",
         "2",
         "-34.0224",
         "150.8296"
        ]
       ],
       "shape": {
        "columns": 8,
        "rows": 340
       }
      },
      "text/html": [
       "<div>\n",
       "<style scoped>\n",
       "    .dataframe tbody tr th:only-of-type {\n",
       "        vertical-align: middle;\n",
       "    }\n",
       "\n",
       "    .dataframe tbody tr th {\n",
       "        vertical-align: top;\n",
       "    }\n",
       "\n",
       "    .dataframe thead th {\n",
       "        text-align: right;\n",
       "    }\n",
       "</style>\n",
       "<table border=\"1\" class=\"dataframe\">\n",
       "  <thead>\n",
       "    <tr style=\"text-align: right;\">\n",
       "      <th></th>\n",
       "      <th>edp_site_id</th>\n",
       "      <th>postcode</th>\n",
       "      <th>state</th>\n",
       "      <th>lat</th>\n",
       "      <th>long</th>\n",
       "      <th>cluster</th>\n",
       "      <th>lat_deg</th>\n",
       "      <th>long_deg</th>\n",
       "    </tr>\n",
       "  </thead>\n",
       "  <tbody>\n",
       "    <tr>\n",
       "      <th>189</th>\n",
       "      <td>S0191</td>\n",
       "      <td>2577</td>\n",
       "      <td>NSW</td>\n",
       "      <td>-0.604764</td>\n",
       "      <td>2.629316</td>\n",
       "      <td>2</td>\n",
       "      <td>-34.6504</td>\n",
       "      <td>150.6487</td>\n",
       "    </tr>\n",
       "    <tr>\n",
       "      <th>89</th>\n",
       "      <td>S0090</td>\n",
       "      <td>2529</td>\n",
       "      <td>NSW</td>\n",
       "      <td>-0.603559</td>\n",
       "      <td>2.632716</td>\n",
       "      <td>2</td>\n",
       "      <td>-34.5814</td>\n",
       "      <td>150.8435</td>\n",
       "    </tr>\n",
       "    <tr>\n",
       "      <th>938</th>\n",
       "      <td>W0337</td>\n",
       "      <td>2528</td>\n",
       "      <td>NSW</td>\n",
       "      <td>-0.603231</td>\n",
       "      <td>2.633194</td>\n",
       "      <td>2</td>\n",
       "      <td>-34.5626</td>\n",
       "      <td>150.8709</td>\n",
       "    </tr>\n",
       "    <tr>\n",
       "      <th>800</th>\n",
       "      <td>W0199</td>\n",
       "      <td>2530</td>\n",
       "      <td>NSW</td>\n",
       "      <td>-0.602889</td>\n",
       "      <td>2.631834</td>\n",
       "      <td>2</td>\n",
       "      <td>-34.5430</td>\n",
       "      <td>150.7930</td>\n",
       "    </tr>\n",
       "    <tr>\n",
       "      <th>36</th>\n",
       "      <td>S0035</td>\n",
       "      <td>2530</td>\n",
       "      <td>NSW</td>\n",
       "      <td>-0.602889</td>\n",
       "      <td>2.631834</td>\n",
       "      <td>2</td>\n",
       "      <td>-34.5430</td>\n",
       "      <td>150.7930</td>\n",
       "    </tr>\n",
       "    <tr>\n",
       "      <th>...</th>\n",
       "      <td>...</td>\n",
       "      <td>...</td>\n",
       "      <td>...</td>\n",
       "      <td>...</td>\n",
       "      <td>...</td>\n",
       "      <td>...</td>\n",
       "      <td>...</td>\n",
       "      <td>...</td>\n",
       "    </tr>\n",
       "    <tr>\n",
       "      <th>416</th>\n",
       "      <td>S0417</td>\n",
       "      <td>2330</td>\n",
       "      <td>NSW</td>\n",
       "      <td>-0.569635</td>\n",
       "      <td>2.637070</td>\n",
       "      <td>2</td>\n",
       "      <td>-32.6377</td>\n",
       "      <td>151.0930</td>\n",
       "    </tr>\n",
       "    <tr>\n",
       "      <th>294</th>\n",
       "      <td>S0295</td>\n",
       "      <td>2330</td>\n",
       "      <td>NSW</td>\n",
       "      <td>-0.569635</td>\n",
       "      <td>2.637070</td>\n",
       "      <td>2</td>\n",
       "      <td>-32.6377</td>\n",
       "      <td>151.0930</td>\n",
       "    </tr>\n",
       "    <tr>\n",
       "      <th>741</th>\n",
       "      <td>W0137</td>\n",
       "      <td>2420</td>\n",
       "      <td>NSW</td>\n",
       "      <td>-0.565562</td>\n",
       "      <td>2.648570</td>\n",
       "      <td>2</td>\n",
       "      <td>-32.4043</td>\n",
       "      <td>151.7519</td>\n",
       "    </tr>\n",
       "    <tr>\n",
       "      <th>677</th>\n",
       "      <td>W0073</td>\n",
       "      <td>2420</td>\n",
       "      <td>NSW</td>\n",
       "      <td>-0.565562</td>\n",
       "      <td>2.648570</td>\n",
       "      <td>2</td>\n",
       "      <td>-32.4043</td>\n",
       "      <td>151.7519</td>\n",
       "    </tr>\n",
       "    <tr>\n",
       "      <th>703</th>\n",
       "      <td>W0099</td>\n",
       "      <td>2420</td>\n",
       "      <td>NSW</td>\n",
       "      <td>-0.565562</td>\n",
       "      <td>2.648570</td>\n",
       "      <td>2</td>\n",
       "      <td>-32.4043</td>\n",
       "      <td>151.7519</td>\n",
       "    </tr>\n",
       "  </tbody>\n",
       "</table>\n",
       "<p>340 rows × 8 columns</p>\n",
       "</div>"
      ],
      "text/plain": [
       "    edp_site_id  postcode state       lat      long  cluster  lat_deg  \\\n",
       "189       S0191      2577   NSW -0.604764  2.629316        2 -34.6504   \n",
       "89        S0090      2529   NSW -0.603559  2.632716        2 -34.5814   \n",
       "938       W0337      2528   NSW -0.603231  2.633194        2 -34.5626   \n",
       "800       W0199      2530   NSW -0.602889  2.631834        2 -34.5430   \n",
       "36        S0035      2530   NSW -0.602889  2.631834        2 -34.5430   \n",
       "..          ...       ...   ...       ...       ...      ...      ...   \n",
       "416       S0417      2330   NSW -0.569635  2.637070        2 -32.6377   \n",
       "294       S0295      2330   NSW -0.569635  2.637070        2 -32.6377   \n",
       "741       W0137      2420   NSW -0.565562  2.648570        2 -32.4043   \n",
       "677       W0073      2420   NSW -0.565562  2.648570        2 -32.4043   \n",
       "703       W0099      2420   NSW -0.565562  2.648570        2 -32.4043   \n",
       "\n",
       "     long_deg  \n",
       "189  150.6487  \n",
       "89   150.8435  \n",
       "938  150.8709  \n",
       "800  150.7930  \n",
       "36   150.7930  \n",
       "..        ...  \n",
       "416  151.0930  \n",
       "294  151.0930  \n",
       "741  151.7519  \n",
       "677  151.7519  \n",
       "703  151.7519  \n",
       "\n",
       "[340 rows x 8 columns]"
      ]
     },
     "execution_count": 37,
     "metadata": {},
     "output_type": "execute_result"
    }
   ],
   "source": [
    "cluster_2_sites"
   ]
  },
  {
   "cell_type": "code",
   "execution_count": 38,
   "id": "7afc3ad8",
   "metadata": {},
   "outputs": [],
   "source": [
    "first_last_dates = pd.read_csv('../../../../data/1. raw/ACAP EDP/Metadata/edp_data_first_and_last_dates15165362.csv')"
   ]
  },
  {
   "cell_type": "code",
   "execution_count": 39,
   "id": "bdfd0e7c",
   "metadata": {},
   "outputs": [
    {
     "data": {
      "application/vnd.microsoft.datawrangler.viewer.v0+json": {
       "columns": [
        {
         "name": "index",
         "rawType": "int64",
         "type": "integer"
        },
        {
         "name": "edp_site_id",
         "rawType": "object",
         "type": "string"
        },
        {
         "name": "date_of_first_data",
         "rawType": "object",
         "type": "string"
        },
        {
         "name": "date_of_last_data",
         "rawType": "object",
         "type": "string"
        },
        {
         "name": "Column1",
         "rawType": "int64",
         "type": "integer"
        }
       ],
       "ref": "24a28b8b-7d13-4239-90f3-d0b20ed006c4",
       "rows": [
        [
         "0",
         "S0075",
         "Monday, 1 January 2018",
         "Monday, 30 September 2024",
         "2465"
        ],
        [
         "1",
         "S0081",
         "Monday, 1 January 2018",
         "Monday, 30 September 2024",
         "2465"
        ],
        [
         "2",
         "S0096",
         "Monday, 1 January 2018",
         "Sunday, 29 September 2024",
         "2463"
        ],
        [
         "3",
         "S0040",
         "Monday, 1 January 2018",
         "Friday, 26 July 2024",
         "2398"
        ],
        [
         "4",
         "S0078",
         "Monday, 1 January 2018",
         "Friday, 5 July 2024",
         "2378"
        ],
        [
         "5",
         "S0013",
         "Wednesday, 7 February 2018",
         "Wednesday, 31 July 2024",
         "2366"
        ],
        [
         "6",
         "S0005",
         "Monday, 1 January 2018",
         "Tuesday, 30 April 2024",
         "2312"
        ],
        [
         "7",
         "S0083",
         "Monday, 1 January 2018",
         "Tuesday, 30 April 2024",
         "2312"
        ],
        [
         "8",
         "S0087",
         "Monday, 1 January 2018",
         "Tuesday, 30 April 2024",
         "2312"
        ],
        [
         "9",
         "S0091",
         "Monday, 1 January 2018",
         "Tuesday, 30 April 2024",
         "2312"
        ],
        [
         "10",
         "S0102",
         "Monday, 1 January 2018",
         "Tuesday, 30 April 2024",
         "2312"
        ],
        [
         "11",
         "S0107",
         "Monday, 1 January 2018",
         "Tuesday, 30 April 2024",
         "2312"
        ],
        [
         "12",
         "S0111",
         "Monday, 1 January 2018",
         "Tuesday, 30 April 2024",
         "2312"
        ],
        [
         "13",
         "S0114",
         "Monday, 1 January 2018",
         "Tuesday, 30 April 2024",
         "2312"
        ],
        [
         "14",
         "S0125",
         "Monday, 1 January 2018",
         "Tuesday, 30 April 2024",
         "2312"
        ],
        [
         "15",
         "S0093",
         "Monday, 1 January 2018",
         "Tuesday, 30 April 2024",
         "2312"
        ],
        [
         "16",
         "S0089",
         "Monday, 1 January 2018",
         "Monday, 29 April 2024",
         "2311"
        ],
        [
         "17",
         "S0115",
         "Monday, 1 January 2018",
         "Sunday, 28 April 2024",
         "2310"
        ],
        [
         "18",
         "S0118",
         "Monday, 1 January 2018",
         "Thursday, 25 April 2024",
         "2306"
        ],
        [
         "19",
         "S0061",
         "Monday, 1 January 2018",
         "Saturday, 20 April 2024",
         "2302"
        ],
        [
         "20",
         "S0119",
         "Monday, 1 January 2018",
         "Tuesday, 16 April 2024",
         "2298"
        ],
        [
         "21",
         "S0084",
         "Monday, 1 January 2018",
         "Monday, 15 April 2024",
         "2296"
        ],
        [
         "22",
         "S0092",
         "Monday, 1 January 2018",
         "Monday, 8 April 2024",
         "2290"
        ],
        [
         "23",
         "S0049",
         "Monday, 1 January 2018",
         "Sunday, 7 April 2024",
         "2288"
        ],
        [
         "24",
         "S0097",
         "Monday, 1 January 2018",
         "Saturday, 6 April 2024",
         "2287"
        ],
        [
         "25",
         "S0127",
         "Tuesday, 9 January 2018",
         "Sunday, 14 April 2024",
         "2287"
        ],
        [
         "26",
         "S0126",
         "Monday, 1 January 2018",
         "Thursday, 4 April 2024",
         "2286"
        ],
        [
         "27",
         "S0050",
         "Monday, 1 January 2018",
         "Friday, 29 March 2024",
         "2280"
        ],
        [
         "28",
         "S0076",
         "Monday, 1 January 2018",
         "Monday, 4 March 2024",
         "2255"
        ],
        [
         "29",
         "S0110",
         "Monday, 1 January 2018",
         "Sunday, 3 March 2024",
         "2254"
        ],
        [
         "30",
         "S0085",
         "Monday, 1 January 2018",
         "Saturday, 2 March 2024",
         "2252"
        ],
        [
         "31",
         "S0031",
         "Friday, 2 March 2018",
         "Wednesday, 24 April 2024",
         "2245"
        ],
        [
         "32",
         "S0002",
         "Monday, 1 January 2018",
         "Saturday, 3 February 2024",
         "2225"
        ],
        [
         "33",
         "S0104",
         "Monday, 1 January 2018",
         "Wednesday, 31 January 2024",
         "2221"
        ],
        [
         "34",
         "S0124",
         "Thursday, 1 February 2018",
         "Sunday, 25 February 2024",
         "2215"
        ],
        [
         "35",
         "S0128",
         "Monday, 1 January 2018",
         "Wednesday, 24 January 2024",
         "2214"
        ],
        [
         "36",
         "S0082",
         "Monday, 1 January 2018",
         "Tuesday, 23 January 2024",
         "2214"
        ],
        [
         "37",
         "S0112",
         "Monday, 1 January 2018",
         "Wednesday, 17 January 2024",
         "2208"
        ],
        [
         "38",
         "S0109",
         "Monday, 1 January 2018",
         "Monday, 15 January 2024",
         "2205"
        ],
        [
         "39",
         "S0116",
         "Monday, 1 January 2018",
         "Thursday, 4 January 2024",
         "2194"
        ],
        [
         "40",
         "S0108",
         "Monday, 1 January 2018",
         "Monday, 4 December 2023",
         "2164"
        ],
        [
         "41",
         "S0137",
         "Tuesday, 1 January 2019",
         "Monday, 30 September 2024",
         "2100"
        ],
        [
         "42",
         "S0141",
         "Tuesday, 1 January 2019",
         "Monday, 30 September 2024",
         "2100"
        ],
        [
         "43",
         "S0184",
         "Tuesday, 1 January 2019",
         "Monday, 30 September 2024",
         "2100"
        ],
        [
         "44",
         "S0213",
         "Tuesday, 1 January 2019",
         "Monday, 30 September 2024",
         "2100"
        ],
        [
         "45",
         "S0216",
         "Tuesday, 1 January 2019",
         "Monday, 30 September 2024",
         "2100"
        ],
        [
         "46",
         "S0218",
         "Tuesday, 1 January 2019",
         "Monday, 30 September 2024",
         "2100"
        ],
        [
         "47",
         "S0222",
         "Tuesday, 1 January 2019",
         "Monday, 30 September 2024",
         "2100"
        ],
        [
         "48",
         "S0241",
         "Tuesday, 1 January 2019",
         "Monday, 30 September 2024",
         "2100"
        ],
        [
         "49",
         "S0289",
         "Tuesday, 1 January 2019",
         "Monday, 30 September 2024",
         "2100"
        ]
       ],
       "shape": {
        "columns": 4,
        "rows": 951
       }
      },
      "text/html": [
       "<div>\n",
       "<style scoped>\n",
       "    .dataframe tbody tr th:only-of-type {\n",
       "        vertical-align: middle;\n",
       "    }\n",
       "\n",
       "    .dataframe tbody tr th {\n",
       "        vertical-align: top;\n",
       "    }\n",
       "\n",
       "    .dataframe thead th {\n",
       "        text-align: right;\n",
       "    }\n",
       "</style>\n",
       "<table border=\"1\" class=\"dataframe\">\n",
       "  <thead>\n",
       "    <tr style=\"text-align: right;\">\n",
       "      <th></th>\n",
       "      <th>edp_site_id</th>\n",
       "      <th>date_of_first_data</th>\n",
       "      <th>date_of_last_data</th>\n",
       "      <th>Column1</th>\n",
       "    </tr>\n",
       "  </thead>\n",
       "  <tbody>\n",
       "    <tr>\n",
       "      <th>0</th>\n",
       "      <td>S0075</td>\n",
       "      <td>Monday, 1 January 2018</td>\n",
       "      <td>Monday, 30 September 2024</td>\n",
       "      <td>2465</td>\n",
       "    </tr>\n",
       "    <tr>\n",
       "      <th>1</th>\n",
       "      <td>S0081</td>\n",
       "      <td>Monday, 1 January 2018</td>\n",
       "      <td>Monday, 30 September 2024</td>\n",
       "      <td>2465</td>\n",
       "    </tr>\n",
       "    <tr>\n",
       "      <th>2</th>\n",
       "      <td>S0096</td>\n",
       "      <td>Monday, 1 January 2018</td>\n",
       "      <td>Sunday, 29 September 2024</td>\n",
       "      <td>2463</td>\n",
       "    </tr>\n",
       "    <tr>\n",
       "      <th>3</th>\n",
       "      <td>S0040</td>\n",
       "      <td>Monday, 1 January 2018</td>\n",
       "      <td>Friday, 26 July 2024</td>\n",
       "      <td>2398</td>\n",
       "    </tr>\n",
       "    <tr>\n",
       "      <th>4</th>\n",
       "      <td>S0078</td>\n",
       "      <td>Monday, 1 January 2018</td>\n",
       "      <td>Friday, 5 July 2024</td>\n",
       "      <td>2378</td>\n",
       "    </tr>\n",
       "    <tr>\n",
       "      <th>...</th>\n",
       "      <td>...</td>\n",
       "      <td>...</td>\n",
       "      <td>...</td>\n",
       "      <td>...</td>\n",
       "    </tr>\n",
       "    <tr>\n",
       "      <th>946</th>\n",
       "      <td>W0067</td>\n",
       "      <td>Saturday, 19 June 2021</td>\n",
       "      <td>Wednesday, 24 August 2022</td>\n",
       "      <td>431</td>\n",
       "    </tr>\n",
       "    <tr>\n",
       "      <th>947</th>\n",
       "      <td>S0105</td>\n",
       "      <td>Wednesday, 22 December 2021</td>\n",
       "      <td>Thursday, 22 December 2022</td>\n",
       "      <td>365</td>\n",
       "    </tr>\n",
       "    <tr>\n",
       "      <th>948</th>\n",
       "      <td>S0236</td>\n",
       "      <td>Monday, 1 November 2021</td>\n",
       "      <td>Friday, 30 September 2022</td>\n",
       "      <td>333</td>\n",
       "    </tr>\n",
       "    <tr>\n",
       "      <th>949</th>\n",
       "      <td>S0484</td>\n",
       "      <td>Thursday, 17 March 2022</td>\n",
       "      <td>Monday, 9 January 2023</td>\n",
       "      <td>298</td>\n",
       "    </tr>\n",
       "    <tr>\n",
       "      <th>950</th>\n",
       "      <td>S0196</td>\n",
       "      <td>Monday, 7 February 2022</td>\n",
       "      <td>Thursday, 29 September 2022</td>\n",
       "      <td>234</td>\n",
       "    </tr>\n",
       "  </tbody>\n",
       "</table>\n",
       "<p>951 rows × 4 columns</p>\n",
       "</div>"
      ],
      "text/plain": [
       "    edp_site_id           date_of_first_data            date_of_last_data  \\\n",
       "0         S0075       Monday, 1 January 2018    Monday, 30 September 2024   \n",
       "1         S0081       Monday, 1 January 2018    Monday, 30 September 2024   \n",
       "2         S0096       Monday, 1 January 2018    Sunday, 29 September 2024   \n",
       "3         S0040       Monday, 1 January 2018         Friday, 26 July 2024   \n",
       "4         S0078       Monday, 1 January 2018          Friday, 5 July 2024   \n",
       "..          ...                          ...                          ...   \n",
       "946       W0067       Saturday, 19 June 2021    Wednesday, 24 August 2022   \n",
       "947       S0105  Wednesday, 22 December 2021   Thursday, 22 December 2022   \n",
       "948       S0236      Monday, 1 November 2021    Friday, 30 September 2022   \n",
       "949       S0484      Thursday, 17 March 2022       Monday, 9 January 2023   \n",
       "950       S0196      Monday, 7 February 2022  Thursday, 29 September 2022   \n",
       "\n",
       "     Column1  \n",
       "0       2465  \n",
       "1       2465  \n",
       "2       2463  \n",
       "3       2398  \n",
       "4       2378  \n",
       "..       ...  \n",
       "946      431  \n",
       "947      365  \n",
       "948      333  \n",
       "949      298  \n",
       "950      234  \n",
       "\n",
       "[951 rows x 4 columns]"
      ]
     },
     "execution_count": 39,
     "metadata": {},
     "output_type": "execute_result"
    }
   ],
   "source": [
    "first_last_dates"
   ]
  },
  {
   "cell_type": "code",
   "execution_count": 40,
   "id": "768adc7d",
   "metadata": {},
   "outputs": [],
   "source": [
    "cluster_2_sites = cluster_2_sites.merge(first_last_dates, on='edp_site_id', how='left')"
   ]
  },
  {
   "cell_type": "code",
   "execution_count": 41,
   "id": "f09898c6",
   "metadata": {},
   "outputs": [],
   "source": [
    "cluster_2_sites.rename(columns={'Column1': 'number_of_days'}, inplace=True)"
   ]
  },
  {
   "cell_type": "code",
   "execution_count": 42,
   "id": "cce1360c",
   "metadata": {},
   "outputs": [],
   "source": [
    "cluster_2_sites.sort_values(by='number_of_days', ascending=False, inplace=True)"
   ]
  },
  {
   "cell_type": "code",
   "execution_count": 43,
   "id": "18f942c2",
   "metadata": {},
   "outputs": [
    {
     "data": {
      "application/vnd.microsoft.datawrangler.viewer.v0+json": {
       "columns": [
        {
         "name": "index",
         "rawType": "int64",
         "type": "integer"
        },
        {
         "name": "edp_site_id",
         "rawType": "object",
         "type": "string"
        },
        {
         "name": "postcode",
         "rawType": "int64",
         "type": "integer"
        },
        {
         "name": "state",
         "rawType": "object",
         "type": "string"
        },
        {
         "name": "lat",
         "rawType": "float64",
         "type": "float"
        },
        {
         "name": "long",
         "rawType": "float64",
         "type": "float"
        },
        {
         "name": "cluster",
         "rawType": "int64",
         "type": "integer"
        },
        {
         "name": "lat_deg",
         "rawType": "float64",
         "type": "float"
        },
        {
         "name": "long_deg",
         "rawType": "float64",
         "type": "float"
        },
        {
         "name": "date_of_first_data",
         "rawType": "object",
         "type": "string"
        },
        {
         "name": "date_of_last_data",
         "rawType": "object",
         "type": "string"
        },
        {
         "name": "number_of_days",
         "rawType": "int64",
         "type": "integer"
        }
       ],
       "ref": "4df15113-d6b6-4dd3-8dcc-158e857bab80",
       "rows": [
        [
         "31",
         "S0081",
         "2233",
         "NSW",
         "-0.594345696827889",
         "2.6360685077251476",
         "2",
         "-34.0535",
         "151.0356",
         "Monday, 1 January 2018",
         "Monday, 30 September 2024",
         "2465"
        ],
        [
         "41",
         "S0075",
         "2567",
         "NSW",
         "-0.5941694185734375",
         "2.630776669433101",
         "2",
         "-34.0434",
         "150.7324",
         "Monday, 1 January 2018",
         "Monday, 30 September 2024",
         "2465"
        ],
        [
         "240",
         "S0083",
         "2257",
         "NSW",
         "-0.5852228608277147",
         "2.6416430893560174",
         "2",
         "-33.5308",
         "151.355",
         "Monday, 1 January 2018",
         "Tuesday, 30 April 2024",
         "2312"
        ],
        [
         "172",
         "S0111",
         "2085",
         "NSW",
         "-0.5888967789031627",
         "2.639035567453538",
         "2",
         "-33.7413",
         "151.2056",
         "Monday, 1 January 2018",
         "Tuesday, 30 April 2024",
         "2312"
        ],
        [
         "329",
         "S0005",
         "2320",
         "NSW",
         "-0.5712253202267201",
         "2.6447759553633476",
         "2",
         "-32.7288",
         "151.5345",
         "Monday, 1 January 2018",
         "Tuesday, 30 April 2024",
         "2312"
        ],
        [
         "242",
         "S0115",
         "2260",
         "NSW",
         "-0.5832104962001652",
         "2.6432243576583248",
         "2",
         "-33.4155",
         "151.4456",
         "Monday, 1 January 2018",
         "Sunday, 28 April 2024",
         "2310"
        ],
        [
         "61",
         "S0049",
         "2223",
         "NSW",
         "-0.5928708936099538",
         "2.6367090435606295",
         "2",
         "-33.969",
         "151.0723",
         "Monday, 1 January 2018",
         "Sunday, 7 April 2024",
         "2288"
        ],
        [
         "23",
         "S0097",
         "2571",
         "NSW",
         "-0.5976094625291184",
         "2.630171040182659",
         "2",
         "-34.2405",
         "150.6977",
         "Monday, 1 January 2018",
         "Saturday, 6 April 2024",
         "2287"
        ],
        [
         "13",
         "S0076",
         "2575",
         "NSW",
         "-0.6008714829010958",
         "2.626441271571147",
         "2",
         "-34.4274",
         "150.484",
         "Monday, 1 January 2018",
         "Monday, 4 March 2024",
         "2255"
        ],
        [
         "49",
         "S0110",
         "2566",
         "NSW",
         "-0.5938028994305188",
         "2.6324731294660393",
         "2",
         "-34.0224",
         "150.8296",
         "Monday, 1 January 2018",
         "Sunday, 3 March 2024",
         "2254"
        ],
        [
         "122",
         "S0085",
         "2090",
         "NSW",
         "-0.5903890354136179",
         "2.639396850608701",
         "2",
         "-33.8268",
         "151.2263",
         "Monday, 1 January 2018",
         "Saturday, 2 March 2024",
         "2252"
        ],
        [
         "175",
         "S0002",
         "2768",
         "NSW",
         "-0.5887571525630032",
         "2.634274309254097",
         "2",
         "-33.7333",
         "150.9328",
         "Monday, 1 January 2018",
         "Saturday, 3 February 2024",
         "2225"
        ],
        [
         "184",
         "S0104",
         "2126",
         "NSW",
         "-0.5885599303575278",
         "2.636251767296607",
         "2",
         "-33.722",
         "151.0461",
         "Monday, 1 January 2018",
         "Wednesday, 31 January 2024",
         "2221"
        ],
        [
         "149",
         "S0124",
         "2151",
         "NSW",
         "-0.5894360856420289",
         "2.635747367142781",
         "2",
         "-33.7722",
         "151.01720000000003",
         "Thursday, 1 February 2018",
         "Sunday, 25 February 2024",
         "2215"
        ],
        [
         "235",
         "S0347",
         "2765",
         "NSW",
         "-0.5862944929884392",
         "2.634047416451338",
         "2",
         "-33.5922",
         "150.9198",
         "Tuesday, 1 January 2019",
         "Monday, 30 September 2024",
         "2100"
        ],
        [
         "152",
         "S0217",
         "2121",
         "NSW",
         "-0.5892126834977737",
         "2.6370616000695324",
         "2",
         "-33.7594",
         "151.0925",
         "Tuesday, 1 January 2019",
         "Monday, 30 September 2024",
         "2100"
        ],
        [
         "213",
         "S0289",
         "2756",
         "NSW",
         "-0.5874533916117634",
         "2.632145007566664",
         "2",
         "-33.6586",
         "150.8108",
         "Tuesday, 1 January 2019",
         "Monday, 30 September 2024",
         "2100"
        ],
        [
         "84",
         "S0588",
         "2043",
         "NSW",
         "-0.5917102496573776",
         "2.638689992261643",
         "2",
         "-33.9025",
         "151.1858",
         "Tuesday, 1 January 2019",
         "Monday, 30 September 2024",
         "2100"
        ],
        [
         "335",
         "S0417",
         "2330",
         "NSW",
         "-0.5696353252781533",
         "2.6370703267157922",
         "2",
         "-32.6377",
         "151.093",
         "Tuesday, 1 January 2019",
         "Monday, 30 September 2024",
         "2100"
        ],
        [
         "331",
         "S0366",
         "2334",
         "NSW",
         "-0.570335202308203",
         "2.6422399919601993",
         "2",
         "-32.6778",
         "151.3892",
         "Tuesday, 1 January 2019",
         "Monday, 30 September 2024",
         "2100"
        ],
        [
         "118",
         "S0569",
         "2110",
         "NSW",
         "-0.5905199351075174",
         "2.6379936058900975",
         "2",
         "-33.8343",
         "151.1459",
         "Tuesday, 1 January 2019",
         "Monday, 30 September 2024",
         "2100"
        ],
        [
         "282",
         "S0216",
         "2289",
         "NSW",
         "-0.5749603248259879",
         "2.647591171446814",
         "2",
         "-32.9428",
         "151.6958",
         "Tuesday, 1 January 2019",
         "Monday, 30 September 2024",
         "2100"
        ],
        [
         "47",
         "S0501",
         "2232",
         "NSW",
         "-0.5938378060155587",
         "2.6361208676027075",
         "2",
         "-34.0244",
         "151.0386",
         "Tuesday, 1 January 2019",
         "Monday, 30 September 2024",
         "2100"
        ],
        [
         "231",
         "S0459",
         "2753",
         "NSW",
         "-0.5864236473530868",
         "2.6311082819909797",
         "2",
         "-33.5996",
         "150.7514",
         "Tuesday, 1 January 2019",
         "Monday, 30 September 2024",
         "2100"
        ],
        [
         "43",
         "S0137",
         "2234",
         "NSW",
         "-0.5940071029530022",
         "2.635654864692425",
         "2",
         "-34.0341",
         "151.0119",
         "Tuesday, 1 January 2019",
         "Monday, 30 September 2024",
         "2100"
        ],
        [
         "46",
         "S0502",
         "2232",
         "NSW",
         "-0.5938378060155587",
         "2.6361208676027075",
         "2",
         "-34.0244",
         "151.0386",
         "Tuesday, 1 January 2019",
         "Monday, 30 September 2024",
         "2100"
        ],
        [
         "63",
         "S0113",
         "2211",
         "NSW",
         "-0.5926597087704625",
         "2.636003930542824",
         "2",
         "-33.9569",
         "151.0319",
         "Monday, 1 January 2018",
         "Wednesday, 27 September 2023",
         "2095"
        ],
        [
         "299",
         "S0396",
         "2325",
         "NSW",
         "-0.5740161017006591",
         "2.6403899429530853",
         "2",
         "-32.8887",
         "151.2832",
         "Tuesday, 1 January 2019",
         "Friday, 30 August 2024",
         "2069"
        ],
        [
         "311",
         "S0316",
         "2323",
         "NSW",
         "-0.5730003200759983",
         "2.644718359498032",
         "2",
         "-32.8305",
         "151.5312",
         "Tuesday, 1 January 2019",
         "Friday, 30 August 2024",
         "2069"
        ],
        [
         "336",
         "S0295",
         "2330",
         "NSW",
         "-0.5696353252781533",
         "2.6370703267157922",
         "2",
         "-32.6377",
         "151.093",
         "Tuesday, 1 January 2019",
         "Friday, 30 August 2024",
         "2069"
        ],
        [
         "0",
         "S0191",
         "2577",
         "NSW",
         "-0.6047635671330431",
         "2.6293158288491814",
         "2",
         "-34.6504",
         "150.6487",
         "Tuesday, 1 January 2019",
         "Friday, 30 August 2024",
         "2069"
        ],
        [
         "323",
         "S0135",
         "2321",
         "NSW",
         "-0.5723074243629566",
         "2.6444425974762162",
         "2",
         "-32.7908",
         "151.5154",
         "Tuesday, 1 January 2019",
         "Friday, 30 August 2024",
         "2069"
        ],
        [
         "96",
         "S0334",
         "2008",
         "NSW",
         "-0.5914344876355624",
         "2.6388941957841263",
         "2",
         "-33.8867",
         "151.1975",
         "Tuesday, 1 January 2019",
         "Friday, 30 August 2024",
         "2069"
        ],
        [
         "147",
         "S0425",
         "2750",
         "NSW",
         "-0.5894587749223049",
         "2.6301186803050993",
         "2",
         "-33.773500000000006",
         "150.6947",
         "Tuesday, 1 January 2019",
         "Friday, 30 August 2024",
         "2069"
        ],
        [
         "326",
         "S0533",
         "2316",
         "NSW",
         "-0.572220157900357",
         "2.654464278041168",
         "2",
         "-32.7858",
         "152.0896",
         "Tuesday, 1 January 2019",
         "Friday, 30 August 2024",
         "2069"
        ],
        [
         "82",
         "S0596",
         "2203",
         "NSW",
         "-0.5917381749254095",
         "2.637880159488718",
         "2",
         "-33.9041",
         "151.1394",
         "Tuesday, 1 January 2019",
         "Friday, 30 August 2024",
         "2069"
        ],
        [
         "144",
         "S0244",
         "2087",
         "NSW",
         "-0.5894762282148249",
         "2.6392921308535815",
         "2",
         "-33.7745",
         "151.22030000000004",
         "Tuesday, 1 January 2019",
         "Friday, 30 August 2024",
         "2069"
        ],
        [
         "124",
         "S0185",
         "2065",
         "NSW",
         "-0.5903698367918458",
         "2.6388174012970382",
         "2",
         "-33.8257",
         "151.1931",
         "Tuesday, 1 January 2019",
         "Friday, 30 August 2024",
         "2069"
        ],
        [
         "201",
         "S0158",
         "2155",
         "NSW",
         "-0.5881742125928371",
         "2.634419171582013",
         "2",
         "-33.6999",
         "150.9411",
         "Tuesday, 1 January 2019",
         "Friday, 30 August 2024",
         "2069"
        ],
        [
         "52",
         "S0413",
         "2225",
         "NSW",
         "-0.5934835041774038",
         "2.636771875413701",
         "2",
         "-34.0041",
         "151.0759",
         "Tuesday, 1 January 2019",
         "Friday, 30 August 2024",
         "2069"
        ],
        [
         "180",
         "S0585",
         "2097",
         "NSW",
         "-0.5887344632827273",
         "2.6407041022184443",
         "2",
         "-33.732",
         "151.3012",
         "Tuesday, 1 January 2019",
         "Friday, 30 August 2024",
         "2069"
        ],
        [
         "151",
         "S0177",
         "2121",
         "NSW",
         "-0.5892126834977737",
         "2.6370616000695324",
         "2",
         "-33.7594",
         "151.0925",
         "Tuesday, 1 January 2019",
         "Friday, 30 August 2024",
         "2069"
        ],
        [
         "168",
         "S0530",
         "2125",
         "NSW",
         "-0.5889735733902505",
         "2.6362779472353868",
         "2",
         "-33.7457",
         "151.0476",
         "Tuesday, 1 January 2019",
         "Friday, 30 August 2024",
         "2069"
        ],
        [
         "287",
         "S0579",
         "2291",
         "NSW",
         "-0.5748800396803962",
         "2.6486959648633266",
         "2",
         "-32.9382",
         "151.75910000000002",
         "Tuesday, 1 January 2019",
         "Friday, 30 August 2024",
         "2069"
        ],
        [
         "279",
         "S0179",
         "2285",
         "NSW",
         "-0.5751680190069753",
         "2.64704488339094",
         "2",
         "-32.9547",
         "151.6645",
         "Tuesday, 1 January 2019",
         "Friday, 30 August 2024",
         "2069"
        ],
        [
         "219",
         "S0212",
         "2106",
         "NSW",
         "-0.5874149943682195",
         "2.6409275043626996",
         "2",
         "-33.6564",
         "151.314",
         "Tuesday, 1 January 2019",
         "Friday, 30 August 2024",
         "2069"
        ],
        [
         "150",
         "S0571",
         "2100",
         "NSW",
         "-0.5893383472039172",
         "2.6398070029829195",
         "2",
         "-33.7666",
         "151.2498",
         "Tuesday, 1 January 2019",
         "Friday, 30 August 2024",
         "2069"
        ],
        [
         "148",
         "S0209",
         "2151",
         "NSW",
         "-0.5894360856420289",
         "2.635747367142781",
         "2",
         "-33.7722",
         "151.01720000000003",
         "Tuesday, 1 January 2019",
         "Friday, 30 August 2024",
         "2069"
        ],
        [
         "170",
         "S0162",
         "2073",
         "NSW",
         "-0.5889421574637145",
         "2.6379237927200174",
         "2",
         "-33.7439",
         "151.1419",
         "Tuesday, 1 January 2019",
         "Friday, 30 August 2024",
         "2069"
        ],
        [
         "198",
         "S0310",
         "2077",
         "NSW",
         "-0.5882178458241368",
         "2.637180282458668",
         "2",
         "-33.7024",
         "151.0993",
         "Tuesday, 1 January 2019",
         "Friday, 30 August 2024",
         "2069"
        ]
       ],
       "shape": {
        "columns": 11,
        "rows": 340
       }
      },
      "text/html": [
       "<div>\n",
       "<style scoped>\n",
       "    .dataframe tbody tr th:only-of-type {\n",
       "        vertical-align: middle;\n",
       "    }\n",
       "\n",
       "    .dataframe tbody tr th {\n",
       "        vertical-align: top;\n",
       "    }\n",
       "\n",
       "    .dataframe thead th {\n",
       "        text-align: right;\n",
       "    }\n",
       "</style>\n",
       "<table border=\"1\" class=\"dataframe\">\n",
       "  <thead>\n",
       "    <tr style=\"text-align: right;\">\n",
       "      <th></th>\n",
       "      <th>edp_site_id</th>\n",
       "      <th>postcode</th>\n",
       "      <th>state</th>\n",
       "      <th>lat</th>\n",
       "      <th>long</th>\n",
       "      <th>cluster</th>\n",
       "      <th>lat_deg</th>\n",
       "      <th>long_deg</th>\n",
       "      <th>date_of_first_data</th>\n",
       "      <th>date_of_last_data</th>\n",
       "      <th>number_of_days</th>\n",
       "    </tr>\n",
       "  </thead>\n",
       "  <tbody>\n",
       "    <tr>\n",
       "      <th>31</th>\n",
       "      <td>S0081</td>\n",
       "      <td>2233</td>\n",
       "      <td>NSW</td>\n",
       "      <td>-0.594346</td>\n",
       "      <td>2.636069</td>\n",
       "      <td>2</td>\n",
       "      <td>-34.0535</td>\n",
       "      <td>151.0356</td>\n",
       "      <td>Monday, 1 January 2018</td>\n",
       "      <td>Monday, 30 September 2024</td>\n",
       "      <td>2465</td>\n",
       "    </tr>\n",
       "    <tr>\n",
       "      <th>41</th>\n",
       "      <td>S0075</td>\n",
       "      <td>2567</td>\n",
       "      <td>NSW</td>\n",
       "      <td>-0.594169</td>\n",
       "      <td>2.630777</td>\n",
       "      <td>2</td>\n",
       "      <td>-34.0434</td>\n",
       "      <td>150.7324</td>\n",
       "      <td>Monday, 1 January 2018</td>\n",
       "      <td>Monday, 30 September 2024</td>\n",
       "      <td>2465</td>\n",
       "    </tr>\n",
       "    <tr>\n",
       "      <th>240</th>\n",
       "      <td>S0083</td>\n",
       "      <td>2257</td>\n",
       "      <td>NSW</td>\n",
       "      <td>-0.585223</td>\n",
       "      <td>2.641643</td>\n",
       "      <td>2</td>\n",
       "      <td>-33.5308</td>\n",
       "      <td>151.3550</td>\n",
       "      <td>Monday, 1 January 2018</td>\n",
       "      <td>Tuesday, 30 April 2024</td>\n",
       "      <td>2312</td>\n",
       "    </tr>\n",
       "    <tr>\n",
       "      <th>172</th>\n",
       "      <td>S0111</td>\n",
       "      <td>2085</td>\n",
       "      <td>NSW</td>\n",
       "      <td>-0.588897</td>\n",
       "      <td>2.639036</td>\n",
       "      <td>2</td>\n",
       "      <td>-33.7413</td>\n",
       "      <td>151.2056</td>\n",
       "      <td>Monday, 1 January 2018</td>\n",
       "      <td>Tuesday, 30 April 2024</td>\n",
       "      <td>2312</td>\n",
       "    </tr>\n",
       "    <tr>\n",
       "      <th>329</th>\n",
       "      <td>S0005</td>\n",
       "      <td>2320</td>\n",
       "      <td>NSW</td>\n",
       "      <td>-0.571225</td>\n",
       "      <td>2.644776</td>\n",
       "      <td>2</td>\n",
       "      <td>-32.7288</td>\n",
       "      <td>151.5345</td>\n",
       "      <td>Monday, 1 January 2018</td>\n",
       "      <td>Tuesday, 30 April 2024</td>\n",
       "      <td>2312</td>\n",
       "    </tr>\n",
       "    <tr>\n",
       "      <th>...</th>\n",
       "      <td>...</td>\n",
       "      <td>...</td>\n",
       "      <td>...</td>\n",
       "      <td>...</td>\n",
       "      <td>...</td>\n",
       "      <td>...</td>\n",
       "      <td>...</td>\n",
       "      <td>...</td>\n",
       "      <td>...</td>\n",
       "      <td>...</td>\n",
       "      <td>...</td>\n",
       "    </tr>\n",
       "    <tr>\n",
       "      <th>269</th>\n",
       "      <td>W0174</td>\n",
       "      <td>2282</td>\n",
       "      <td>NSW</td>\n",
       "      <td>-0.575479</td>\n",
       "      <td>2.646839</td>\n",
       "      <td>2</td>\n",
       "      <td>-32.9725</td>\n",
       "      <td>151.6527</td>\n",
       "      <td>Wednesday, 13 July 2022</td>\n",
       "      <td>Friday, 1 March 2024</td>\n",
       "      <td>597</td>\n",
       "    </tr>\n",
       "    <tr>\n",
       "      <th>298</th>\n",
       "      <td>S0332</td>\n",
       "      <td>2287</td>\n",
       "      <td>NSW</td>\n",
       "      <td>-0.574103</td>\n",
       "      <td>2.647492</td>\n",
       "      <td>2</td>\n",
       "      <td>-32.8937</td>\n",
       "      <td>151.6901</td>\n",
       "      <td>Thursday, 16 September 2021</td>\n",
       "      <td>Tuesday, 31 January 2023</td>\n",
       "      <td>503</td>\n",
       "    </tr>\n",
       "    <tr>\n",
       "      <th>5</th>\n",
       "      <td>S0080</td>\n",
       "      <td>2530</td>\n",
       "      <td>NSW</td>\n",
       "      <td>-0.602889</td>\n",
       "      <td>2.631834</td>\n",
       "      <td>2</td>\n",
       "      <td>-34.5430</td>\n",
       "      <td>150.7930</td>\n",
       "      <td>Wednesday, 27 October 2021</td>\n",
       "      <td>Tuesday, 21 February 2023</td>\n",
       "      <td>482</td>\n",
       "    </tr>\n",
       "    <tr>\n",
       "      <th>26</th>\n",
       "      <td>S0105</td>\n",
       "      <td>2570</td>\n",
       "      <td>NSW</td>\n",
       "      <td>-0.594806</td>\n",
       "      <td>2.627942</td>\n",
       "      <td>2</td>\n",
       "      <td>-34.0799</td>\n",
       "      <td>150.5700</td>\n",
       "      <td>Wednesday, 22 December 2021</td>\n",
       "      <td>Thursday, 22 December 2022</td>\n",
       "      <td>365</td>\n",
       "    </tr>\n",
       "    <tr>\n",
       "      <th>249</th>\n",
       "      <td>S0236</td>\n",
       "      <td>2259</td>\n",
       "      <td>NSW</td>\n",
       "      <td>-0.580013</td>\n",
       "      <td>2.643069</td>\n",
       "      <td>2</td>\n",
       "      <td>-33.2323</td>\n",
       "      <td>151.4367</td>\n",
       "      <td>Monday, 1 November 2021</td>\n",
       "      <td>Friday, 30 September 2022</td>\n",
       "      <td>333</td>\n",
       "    </tr>\n",
       "  </tbody>\n",
       "</table>\n",
       "<p>340 rows × 11 columns</p>\n",
       "</div>"
      ],
      "text/plain": [
       "    edp_site_id  postcode state       lat      long  cluster  lat_deg  \\\n",
       "31        S0081      2233   NSW -0.594346  2.636069        2 -34.0535   \n",
       "41        S0075      2567   NSW -0.594169  2.630777        2 -34.0434   \n",
       "240       S0083      2257   NSW -0.585223  2.641643        2 -33.5308   \n",
       "172       S0111      2085   NSW -0.588897  2.639036        2 -33.7413   \n",
       "329       S0005      2320   NSW -0.571225  2.644776        2 -32.7288   \n",
       "..          ...       ...   ...       ...       ...      ...      ...   \n",
       "269       W0174      2282   NSW -0.575479  2.646839        2 -32.9725   \n",
       "298       S0332      2287   NSW -0.574103  2.647492        2 -32.8937   \n",
       "5         S0080      2530   NSW -0.602889  2.631834        2 -34.5430   \n",
       "26        S0105      2570   NSW -0.594806  2.627942        2 -34.0799   \n",
       "249       S0236      2259   NSW -0.580013  2.643069        2 -33.2323   \n",
       "\n",
       "     long_deg           date_of_first_data           date_of_last_data  \\\n",
       "31   151.0356       Monday, 1 January 2018   Monday, 30 September 2024   \n",
       "41   150.7324       Monday, 1 January 2018   Monday, 30 September 2024   \n",
       "240  151.3550       Monday, 1 January 2018      Tuesday, 30 April 2024   \n",
       "172  151.2056       Monday, 1 January 2018      Tuesday, 30 April 2024   \n",
       "329  151.5345       Monday, 1 January 2018      Tuesday, 30 April 2024   \n",
       "..        ...                          ...                         ...   \n",
       "269  151.6527      Wednesday, 13 July 2022        Friday, 1 March 2024   \n",
       "298  151.6901  Thursday, 16 September 2021    Tuesday, 31 January 2023   \n",
       "5    150.7930   Wednesday, 27 October 2021   Tuesday, 21 February 2023   \n",
       "26   150.5700  Wednesday, 22 December 2021  Thursday, 22 December 2022   \n",
       "249  151.4367      Monday, 1 November 2021   Friday, 30 September 2022   \n",
       "\n",
       "     number_of_days  \n",
       "31             2465  \n",
       "41             2465  \n",
       "240            2312  \n",
       "172            2312  \n",
       "329            2312  \n",
       "..              ...  \n",
       "269             597  \n",
       "298             503  \n",
       "5               482  \n",
       "26              365  \n",
       "249             333  \n",
       "\n",
       "[340 rows x 11 columns]"
      ]
     },
     "execution_count": 43,
     "metadata": {},
     "output_type": "execute_result"
    }
   ],
   "source": [
    "cluster_2_sites"
   ]
  },
  {
   "cell_type": "code",
   "execution_count": 44,
   "id": "c30c0327",
   "metadata": {},
   "outputs": [],
   "source": [
    "# filter out rows with number_of_days less than 1095 #we need at least 3 years of data\n",
    "cluster_2_sites_filtered = cluster_2_sites[cluster_2_sites['number_of_days'] >= 1095]"
   ]
  },
  {
   "cell_type": "code",
   "execution_count": 45,
   "id": "36936f3b",
   "metadata": {},
   "outputs": [
    {
     "name": "stderr",
     "output_type": "stream",
     "text": [
      "C:\\Users\\z5404477\\AppData\\Local\\Temp\\ipykernel_41976\\1166907172.py:1: SettingWithCopyWarning: \n",
      "A value is trying to be set on a copy of a slice from a DataFrame\n",
      "\n",
      "See the caveats in the documentation: https://pandas.pydata.org/pandas-docs/stable/user_guide/indexing.html#returning-a-view-versus-a-copy\n",
      "  cluster_2_sites_filtered.sort_values(by='number_of_days', ascending=True, inplace=True)\n"
     ]
    }
   ],
   "source": [
    "cluster_2_sites_filtered.sort_values(by='number_of_days', ascending=True, inplace=True)"
   ]
  },
  {
   "cell_type": "code",
   "execution_count": 46,
   "id": "ea3023a1",
   "metadata": {},
   "outputs": [
    {
     "data": {
      "application/vnd.microsoft.datawrangler.viewer.v0+json": {
       "columns": [
        {
         "name": "index",
         "rawType": "int64",
         "type": "integer"
        },
        {
         "name": "edp_site_id",
         "rawType": "object",
         "type": "string"
        },
        {
         "name": "postcode",
         "rawType": "int64",
         "type": "integer"
        },
        {
         "name": "state",
         "rawType": "object",
         "type": "string"
        },
        {
         "name": "lat",
         "rawType": "float64",
         "type": "float"
        },
        {
         "name": "long",
         "rawType": "float64",
         "type": "float"
        },
        {
         "name": "cluster",
         "rawType": "int64",
         "type": "integer"
        },
        {
         "name": "lat_deg",
         "rawType": "float64",
         "type": "float"
        },
        {
         "name": "long_deg",
         "rawType": "float64",
         "type": "float"
        },
        {
         "name": "date_of_first_data",
         "rawType": "object",
         "type": "string"
        },
        {
         "name": "date_of_last_data",
         "rawType": "object",
         "type": "string"
        },
        {
         "name": "number_of_days",
         "rawType": "int64",
         "type": "integer"
        }
       ],
       "ref": "eeaf3385-9522-4134-9877-76859a578ea8",
       "rows": [
        [
         "325",
         "S0008",
         "2316",
         "NSW",
         "-0.572220157900357",
         "2.654464278041168",
         "2",
         "-32.7858",
         "152.0896",
         "Wednesday, 28 April 2021",
         "Tuesday, 30 April 2024",
         "1098"
        ],
        [
         "202",
         "S0402",
         "2155",
         "NSW",
         "-0.5881742125928371",
         "2.634419171582013",
         "2",
         "-33.6999",
         "150.9411",
         "Saturday, 25 September 2021",
         "Monday, 30 September 2024",
         "1102"
        ],
        [
         "330",
         "S0355",
         "2315",
         "NSW",
         "-0.5712131029219562",
         "2.6555114755923643",
         "2",
         "-32.7281",
         "152.1496",
         "Wednesday, 22 September 2021",
         "Monday, 30 September 2024",
         "1104"
        ],
        [
         "185",
         "W0233",
         "2783",
         "NSW",
         "-0.5885354957479998",
         "2.6254935577873137",
         "2",
         "-33.7206",
         "150.4297",
         "Wednesday, 22 September 2021",
         "Monday, 30 September 2024",
         "1105"
        ],
        [
         "103",
         "W0333",
         "2040",
         "NSW",
         "-0.5912302841130791",
         "2.6383321997649842",
         "2",
         "-33.875",
         "151.1653",
         "Tuesday, 21 September 2021",
         "Monday, 30 September 2024",
         "1106"
        ],
        [
         "19",
         "S0521",
         "2516",
         "NSW",
         "-0.5993163945375688",
         "2.6339374607084625",
         "2",
         "-34.3383",
         "150.9135",
         "Wednesday, 8 September 2021",
         "Saturday, 21 September 2024",
         "1109"
        ],
        [
         "271",
         "S0405",
         "2282",
         "NSW",
         "-0.5754786876138303",
         "2.646838934539205",
         "2",
         "-32.9725",
         "151.6527",
         "Monday, 28 June 2021",
         "Friday, 12 July 2024",
         "1110"
        ],
        [
         "264",
         "S0527",
         "2290",
         "NSW",
         "-0.575848697415253",
         "2.648048447710837",
         "2",
         "-32.9937",
         "151.72200000000004",
         "Tuesday, 7 September 2021",
         "Monday, 30 September 2024",
         "1119"
        ],
        [
         "251",
         "W0148",
         "2250",
         "NSW",
         "-0.5795365781247171",
         "2.6385172046656957",
         "2",
         "-33.205000000000005",
         "151.1759",
         "Tuesday, 31 August 2021",
         "Monday, 30 September 2024",
         "1126"
        ],
        [
         "272",
         "S0523",
         "2282",
         "NSW",
         "-0.5754786876138303",
         "2.646838934539205",
         "2",
         "-32.9725",
         "151.6527",
         "Thursday, 26 August 2021",
         "Monday, 30 September 2024",
         "1131"
        ],
        [
         "65",
         "W0243",
         "2173",
         "NSW",
         "-0.5926160755391626",
         "2.634478512776581",
         "2",
         "-33.9544",
         "150.9445",
         "Monday, 8 March 2021",
         "Sunday, 14 April 2024",
         "1133"
        ],
        [
         "317",
         "S0321",
         "2322",
         "NSW",
         "-0.5723475669357525",
         "2.647261304218187",
         "2",
         "-32.7931",
         "151.6769",
         "Thursday, 3 June 2021",
         "Saturday, 13 July 2024",
         "1136"
        ],
        [
         "39",
         "W0216",
         "2567",
         "NSW",
         "-0.5941694185734375",
         "2.630776669433101",
         "2",
         "-34.0434",
         "150.7324",
         "Tuesday, 17 August 2021",
         "Monday, 30 September 2024",
         "1140"
        ],
        [
         "294",
         "W0130",
         "2287",
         "NSW",
         "-0.5741033681632588",
         "2.6474916876794503",
         "2",
         "-32.8937",
         "151.6901",
         "Wednesday, 18 August 2021",
         "Monday, 30 September 2024",
         "1140"
        ],
        [
         "302",
         "S0070",
         "2325",
         "NSW",
         "-0.5740161017006591",
         "2.6403899429530853",
         "2",
         "-32.8887",
         "151.2832",
         "Sunday, 16 September 2018",
         "Sunday, 31 October 2021",
         "1142"
        ],
        [
         "110",
         "W0303",
         "2041",
         "NSW",
         "-0.5908777276041762",
         "2.6386463590303433",
         "2",
         "-33.8548",
         "151.1833",
         "Thursday, 12 August 2021",
         "Monday, 30 September 2024",
         "1146"
        ],
        [
         "268",
         "S0431",
         "2284",
         "NSW",
         "-0.5756200592832419",
         "2.646240286605771",
         "2",
         "-32.9806",
         "151.6184",
         "Thursday, 27 May 2021",
         "Tuesday, 16 July 2024",
         "1146"
        ],
        [
         "267",
         "S0328",
         "2284",
         "NSW",
         "-0.5756200592832419",
         "2.646240286605771",
         "2",
         "-32.9806",
         "151.6184",
         "Thursday, 5 August 2021",
         "Monday, 30 September 2024",
         "1152"
        ],
        [
         "228",
         "S0595",
         "2082",
         "NSW",
         "-0.5864917151939145",
         "2.637545056272335",
         "2",
         "-33.6035",
         "151.1202",
         "Thursday, 13 August 2020",
         "Monday, 9 October 2023",
         "1152"
        ],
        [
         "130",
         "S0457",
         "2759",
         "NSW",
         "-0.5901481799768427",
         "2.631916369434653",
         "2",
         "-33.813",
         "150.7977",
         "Wednesday, 4 August 2021",
         "Monday, 30 September 2024",
         "1153"
        ],
        [
         "207",
         "W0049",
         "2777",
         "NSW",
         "-0.5881497779833091",
         "2.6290697374246506",
         "2",
         "-33.6985",
         "150.6346",
         "Wednesday, 4 August 2021",
         "Monday, 30 September 2024",
         "1153"
        ],
        [
         "304",
         "S0424",
         "2295",
         "NSW",
         "-0.5735902413631725",
         "2.6496384426594033",
         "2",
         "-32.8643",
         "151.8131",
         "Wednesday, 4 August 2021",
         "Monday, 30 September 2024",
         "1154"
        ],
        [
         "211",
         "W0098",
         "2756",
         "NSW",
         "-0.5874533916117634",
         "2.632145007566664",
         "2",
         "-33.6586",
         "150.8108",
         "Wednesday, 4 August 2021",
         "Monday, 30 September 2024",
         "1154"
        ],
        [
         "319",
         "S0194",
         "2322",
         "NSW",
         "-0.5723475669357525",
         "2.647261304218187",
         "2",
         "-32.7931",
         "151.6769",
         "Monday, 19 July 2021",
         "Monday, 30 September 2024",
         "1169"
        ],
        [
         "260",
         "W0028",
         "2283",
         "NSW",
         "-0.5766969274317223",
         "2.646121604216635",
         "2",
         "-33.0423",
         "151.6116",
         "Saturday, 17 July 2021",
         "Monday, 30 September 2024",
         "1171"
        ],
        [
         "188",
         "W0029",
         "2074",
         "NSW",
         "-0.5884045960541002",
         "2.6380023325363573",
         "2",
         "-33.7131",
         "151.1464",
         "Friday, 16 July 2021",
         "Monday, 30 September 2024",
         "1173"
        ],
        [
         "337",
         "W0137",
         "2420",
         "NSW",
         "-0.5655617268039985",
         "2.648570301157183",
         "2",
         "-32.4043",
         "151.7519",
         "Wednesday, 14 July 2021",
         "Monday, 30 September 2024",
         "1174"
        ],
        [
         "214",
         "W0110",
         "2756",
         "NSW",
         "-0.5874533916117634",
         "2.632145007566664",
         "2",
         "-33.6586",
         "150.8108",
         "Tuesday, 13 July 2021",
         "Monday, 30 September 2024",
         "1175"
        ],
        [
         "105",
         "S0307",
         "2745",
         "NSW",
         "-0.5910697138218957",
         "2.629167475862762",
         "2",
         "-33.8658",
         "150.6402",
         "Friday, 9 July 2021",
         "Monday, 30 September 2024",
         "1179"
        ],
        [
         "101",
         "W0329",
         "2132",
         "NSW",
         "-0.5913751464409946",
         "2.6374839697485153",
         "2",
         "-33.8833",
         "151.1167",
         "Thursday, 8 July 2021",
         "Monday, 30 September 2024",
         "1180"
        ],
        [
         "167",
         "W0244",
         "2125",
         "NSW",
         "-0.5889735733902505",
         "2.6362779472353868",
         "2",
         "-33.7457",
         "151.0476",
         "Friday, 9 July 2021",
         "Monday, 30 September 2024",
         "1180"
        ],
        [
         "99",
         "W0240",
         "2132",
         "NSW",
         "-0.5913751464409946",
         "2.6374839697485153",
         "2",
         "-33.8833",
         "151.1167",
         "Wednesday, 7 July 2021",
         "Monday, 30 September 2024",
         "1181"
        ],
        [
         "79",
         "W0205",
         "2015",
         "NSW",
         "-0.591867329290057",
         "2.6389448103324344",
         "2",
         "-33.9115",
         "151.2004",
         "Wednesday, 7 July 2021",
         "Monday, 30 September 2024",
         "1182"
        ],
        [
         "112",
         "W0343",
         "2041",
         "NSW",
         "-0.5908777276041762",
         "2.6386463590303433",
         "2",
         "-33.8548",
         "151.1833",
         "Monday, 5 July 2021",
         "Monday, 30 September 2024",
         "1183"
        ],
        [
         "111",
         "W0264",
         "2041",
         "NSW",
         "-0.5908777276041762",
         "2.6386463590303433",
         "2",
         "-33.8548",
         "151.1833",
         "Thursday, 1 July 2021",
         "Monday, 30 September 2024",
         "1187"
        ],
        [
         "256",
         "W0271",
         "2280",
         "NSW",
         "-0.576819100479362",
         "2.6469122383677886",
         "2",
         "-33.0493",
         "151.6569",
         "Tuesday, 29 June 2021",
         "Monday, 30 September 2024",
         "1189"
        ],
        [
         "280",
         "S0582",
         "2289",
         "NSW",
         "-0.5749603248259879",
         "2.647591171446814",
         "2",
         "-32.9428",
         "151.6958",
         "Wednesday, 23 June 2021",
         "Monday, 30 September 2024",
         "1195"
        ],
        [
         "297",
         "W0345",
         "2287",
         "NSW",
         "-0.5741033681632588",
         "2.6474916876794503",
         "2",
         "-32.8937",
         "151.6901",
         "Tuesday, 22 June 2021",
         "Monday, 30 September 2024",
         "1196"
        ],
        [
         "141",
         "S0172",
         "2070",
         "NSW",
         "-0.5896298171890003",
         "2.638356634374512",
         "2",
         "-33.7833",
         "151.1667",
         "Tuesday, 22 June 2021",
         "Monday, 30 September 2024",
         "1197"
        ],
        [
         "119",
         "W0280",
         "2111",
         "NSW",
         "-0.5904745565469656",
         "2.637485715077767",
         "2",
         "-33.8317",
         "151.1168",
         "Thursday, 17 June 2021",
         "Monday, 30 September 2024",
         "1202"
        ],
        [
         "206",
         "W0195",
         "2777",
         "NSW",
         "-0.5881497779833091",
         "2.6290697374246506",
         "2",
         "-33.6985",
         "150.6346",
         "Wednesday, 16 June 2021",
         "Monday, 30 September 2024",
         "1203"
        ],
        [
         "95",
         "W0237",
         "2026",
         "NSW",
         "-0.5914554315865864",
         "2.640348055051038",
         "2",
         "-33.8879",
         "151.2808",
         "Wednesday, 9 June 2021",
         "Monday, 30 September 2024",
         "1209"
        ],
        [
         "290",
         "W0263",
         "2294",
         "NSW",
         "-0.5744751232939336",
         "2.648788467313682",
         "2",
         "-32.915",
         "151.7644",
         "Monday, 7 June 2021",
         "Monday, 30 September 2024",
         "1211"
        ],
        [
         "45",
         "W0114",
         "2234",
         "NSW",
         "-0.5940071029530022",
         "2.635654864692425",
         "2",
         "-34.0341",
         "151.0119",
         "Thursday, 8 April 2021",
         "Tuesday, 6 August 2024",
         "1216"
        ],
        [
         "250",
         "W0182",
         "2259",
         "NSW",
         "-0.5800130530105116",
         "2.643069023354897",
         "2",
         "-33.2323",
         "151.4367",
         "Monday, 31 May 2021",
         "Monday, 30 September 2024",
         "1218"
        ],
        [
         "232",
         "S0256",
         "2765",
         "NSW",
         "-0.5862944929884392",
         "2.634047416451338",
         "2",
         "-33.5922",
         "150.9198",
         "Thursday, 29 April 2021",
         "Friday, 30 August 2024",
         "1219"
        ],
        [
         "186",
         "W0097",
         "2783",
         "NSW",
         "-0.5885354957479998",
         "2.6254935577873137",
         "2",
         "-33.7206",
         "150.4297",
         "Friday, 28 May 2021",
         "Monday, 30 September 2024",
         "1222"
        ],
        [
         "255",
         "S0494",
         "2280",
         "NSW",
         "-0.576819100479362",
         "2.6469122383677886",
         "2",
         "-33.0493",
         "151.6569",
         "Thursday, 27 May 2021",
         "Monday, 30 September 2024",
         "1222"
        ],
        [
         "285",
         "S0538",
         "2291",
         "NSW",
         "-0.5748800396803962",
         "2.6486959648633266",
         "2",
         "-32.9382",
         "151.75910000000002",
         "Thursday, 27 May 2021",
         "Monday, 30 September 2024",
         "1223"
        ],
        [
         "48",
         "W0198",
         "2232",
         "NSW",
         "-0.5938378060155587",
         "2.6361208676027075",
         "2",
         "-34.0244",
         "151.0386",
         "Monday, 24 May 2021",
         "Monday, 30 September 2024",
         "1225"
        ]
       ],
       "shape": {
        "columns": 11,
        "rows": 236
       }
      },
      "text/html": [
       "<div>\n",
       "<style scoped>\n",
       "    .dataframe tbody tr th:only-of-type {\n",
       "        vertical-align: middle;\n",
       "    }\n",
       "\n",
       "    .dataframe tbody tr th {\n",
       "        vertical-align: top;\n",
       "    }\n",
       "\n",
       "    .dataframe thead th {\n",
       "        text-align: right;\n",
       "    }\n",
       "</style>\n",
       "<table border=\"1\" class=\"dataframe\">\n",
       "  <thead>\n",
       "    <tr style=\"text-align: right;\">\n",
       "      <th></th>\n",
       "      <th>edp_site_id</th>\n",
       "      <th>postcode</th>\n",
       "      <th>state</th>\n",
       "      <th>lat</th>\n",
       "      <th>long</th>\n",
       "      <th>cluster</th>\n",
       "      <th>lat_deg</th>\n",
       "      <th>long_deg</th>\n",
       "      <th>date_of_first_data</th>\n",
       "      <th>date_of_last_data</th>\n",
       "      <th>number_of_days</th>\n",
       "    </tr>\n",
       "  </thead>\n",
       "  <tbody>\n",
       "    <tr>\n",
       "      <th>325</th>\n",
       "      <td>S0008</td>\n",
       "      <td>2316</td>\n",
       "      <td>NSW</td>\n",
       "      <td>-0.572220</td>\n",
       "      <td>2.654464</td>\n",
       "      <td>2</td>\n",
       "      <td>-32.7858</td>\n",
       "      <td>152.0896</td>\n",
       "      <td>Wednesday, 28 April 2021</td>\n",
       "      <td>Tuesday, 30 April 2024</td>\n",
       "      <td>1098</td>\n",
       "    </tr>\n",
       "    <tr>\n",
       "      <th>202</th>\n",
       "      <td>S0402</td>\n",
       "      <td>2155</td>\n",
       "      <td>NSW</td>\n",
       "      <td>-0.588174</td>\n",
       "      <td>2.634419</td>\n",
       "      <td>2</td>\n",
       "      <td>-33.6999</td>\n",
       "      <td>150.9411</td>\n",
       "      <td>Saturday, 25 September 2021</td>\n",
       "      <td>Monday, 30 September 2024</td>\n",
       "      <td>1102</td>\n",
       "    </tr>\n",
       "    <tr>\n",
       "      <th>330</th>\n",
       "      <td>S0355</td>\n",
       "      <td>2315</td>\n",
       "      <td>NSW</td>\n",
       "      <td>-0.571213</td>\n",
       "      <td>2.655511</td>\n",
       "      <td>2</td>\n",
       "      <td>-32.7281</td>\n",
       "      <td>152.1496</td>\n",
       "      <td>Wednesday, 22 September 2021</td>\n",
       "      <td>Monday, 30 September 2024</td>\n",
       "      <td>1104</td>\n",
       "    </tr>\n",
       "    <tr>\n",
       "      <th>185</th>\n",
       "      <td>W0233</td>\n",
       "      <td>2783</td>\n",
       "      <td>NSW</td>\n",
       "      <td>-0.588535</td>\n",
       "      <td>2.625494</td>\n",
       "      <td>2</td>\n",
       "      <td>-33.7206</td>\n",
       "      <td>150.4297</td>\n",
       "      <td>Wednesday, 22 September 2021</td>\n",
       "      <td>Monday, 30 September 2024</td>\n",
       "      <td>1105</td>\n",
       "    </tr>\n",
       "    <tr>\n",
       "      <th>103</th>\n",
       "      <td>W0333</td>\n",
       "      <td>2040</td>\n",
       "      <td>NSW</td>\n",
       "      <td>-0.591230</td>\n",
       "      <td>2.638332</td>\n",
       "      <td>2</td>\n",
       "      <td>-33.8750</td>\n",
       "      <td>151.1653</td>\n",
       "      <td>Tuesday, 21 September 2021</td>\n",
       "      <td>Monday, 30 September 2024</td>\n",
       "      <td>1106</td>\n",
       "    </tr>\n",
       "    <tr>\n",
       "      <th>...</th>\n",
       "      <td>...</td>\n",
       "      <td>...</td>\n",
       "      <td>...</td>\n",
       "      <td>...</td>\n",
       "      <td>...</td>\n",
       "      <td>...</td>\n",
       "      <td>...</td>\n",
       "      <td>...</td>\n",
       "      <td>...</td>\n",
       "      <td>...</td>\n",
       "      <td>...</td>\n",
       "    </tr>\n",
       "    <tr>\n",
       "      <th>172</th>\n",
       "      <td>S0111</td>\n",
       "      <td>2085</td>\n",
       "      <td>NSW</td>\n",
       "      <td>-0.588897</td>\n",
       "      <td>2.639036</td>\n",
       "      <td>2</td>\n",
       "      <td>-33.7413</td>\n",
       "      <td>151.2056</td>\n",
       "      <td>Monday, 1 January 2018</td>\n",
       "      <td>Tuesday, 30 April 2024</td>\n",
       "      <td>2312</td>\n",
       "    </tr>\n",
       "    <tr>\n",
       "      <th>329</th>\n",
       "      <td>S0005</td>\n",
       "      <td>2320</td>\n",
       "      <td>NSW</td>\n",
       "      <td>-0.571225</td>\n",
       "      <td>2.644776</td>\n",
       "      <td>2</td>\n",
       "      <td>-32.7288</td>\n",
       "      <td>151.5345</td>\n",
       "      <td>Monday, 1 January 2018</td>\n",
       "      <td>Tuesday, 30 April 2024</td>\n",
       "      <td>2312</td>\n",
       "    </tr>\n",
       "    <tr>\n",
       "      <th>240</th>\n",
       "      <td>S0083</td>\n",
       "      <td>2257</td>\n",
       "      <td>NSW</td>\n",
       "      <td>-0.585223</td>\n",
       "      <td>2.641643</td>\n",
       "      <td>2</td>\n",
       "      <td>-33.5308</td>\n",
       "      <td>151.3550</td>\n",
       "      <td>Monday, 1 January 2018</td>\n",
       "      <td>Tuesday, 30 April 2024</td>\n",
       "      <td>2312</td>\n",
       "    </tr>\n",
       "    <tr>\n",
       "      <th>41</th>\n",
       "      <td>S0075</td>\n",
       "      <td>2567</td>\n",
       "      <td>NSW</td>\n",
       "      <td>-0.594169</td>\n",
       "      <td>2.630777</td>\n",
       "      <td>2</td>\n",
       "      <td>-34.0434</td>\n",
       "      <td>150.7324</td>\n",
       "      <td>Monday, 1 January 2018</td>\n",
       "      <td>Monday, 30 September 2024</td>\n",
       "      <td>2465</td>\n",
       "    </tr>\n",
       "    <tr>\n",
       "      <th>31</th>\n",
       "      <td>S0081</td>\n",
       "      <td>2233</td>\n",
       "      <td>NSW</td>\n",
       "      <td>-0.594346</td>\n",
       "      <td>2.636069</td>\n",
       "      <td>2</td>\n",
       "      <td>-34.0535</td>\n",
       "      <td>151.0356</td>\n",
       "      <td>Monday, 1 January 2018</td>\n",
       "      <td>Monday, 30 September 2024</td>\n",
       "      <td>2465</td>\n",
       "    </tr>\n",
       "  </tbody>\n",
       "</table>\n",
       "<p>236 rows × 11 columns</p>\n",
       "</div>"
      ],
      "text/plain": [
       "    edp_site_id  postcode state       lat      long  cluster  lat_deg  \\\n",
       "325       S0008      2316   NSW -0.572220  2.654464        2 -32.7858   \n",
       "202       S0402      2155   NSW -0.588174  2.634419        2 -33.6999   \n",
       "330       S0355      2315   NSW -0.571213  2.655511        2 -32.7281   \n",
       "185       W0233      2783   NSW -0.588535  2.625494        2 -33.7206   \n",
       "103       W0333      2040   NSW -0.591230  2.638332        2 -33.8750   \n",
       "..          ...       ...   ...       ...       ...      ...      ...   \n",
       "172       S0111      2085   NSW -0.588897  2.639036        2 -33.7413   \n",
       "329       S0005      2320   NSW -0.571225  2.644776        2 -32.7288   \n",
       "240       S0083      2257   NSW -0.585223  2.641643        2 -33.5308   \n",
       "41        S0075      2567   NSW -0.594169  2.630777        2 -34.0434   \n",
       "31        S0081      2233   NSW -0.594346  2.636069        2 -34.0535   \n",
       "\n",
       "     long_deg            date_of_first_data          date_of_last_data  \\\n",
       "325  152.0896      Wednesday, 28 April 2021     Tuesday, 30 April 2024   \n",
       "202  150.9411   Saturday, 25 September 2021  Monday, 30 September 2024   \n",
       "330  152.1496  Wednesday, 22 September 2021  Monday, 30 September 2024   \n",
       "185  150.4297  Wednesday, 22 September 2021  Monday, 30 September 2024   \n",
       "103  151.1653    Tuesday, 21 September 2021  Monday, 30 September 2024   \n",
       "..        ...                           ...                        ...   \n",
       "172  151.2056        Monday, 1 January 2018     Tuesday, 30 April 2024   \n",
       "329  151.5345        Monday, 1 January 2018     Tuesday, 30 April 2024   \n",
       "240  151.3550        Monday, 1 January 2018     Tuesday, 30 April 2024   \n",
       "41   150.7324        Monday, 1 January 2018  Monday, 30 September 2024   \n",
       "31   151.0356        Monday, 1 January 2018  Monday, 30 September 2024   \n",
       "\n",
       "     number_of_days  \n",
       "325            1098  \n",
       "202            1102  \n",
       "330            1104  \n",
       "185            1105  \n",
       "103            1106  \n",
       "..              ...  \n",
       "172            2312  \n",
       "329            2312  \n",
       "240            2312  \n",
       "41             2465  \n",
       "31             2465  \n",
       "\n",
       "[236 rows x 11 columns]"
      ]
     },
     "execution_count": 46,
     "metadata": {},
     "output_type": "execute_result"
    }
   ],
   "source": [
    "cluster_2_sites_filtered"
   ]
  },
  {
   "cell_type": "code",
   "execution_count": 47,
   "id": "7e7254cf",
   "metadata": {},
   "outputs": [],
   "source": [
    "#export the filtered sites to an excel file\n",
    "cluster_2_sites_filtered.to_excel('../../../../data/2. processed/aedp_cluster_2_2.xlsx', index=False)"
   ]
  },
  {
   "cell_type": "code",
   "execution_count": 48,
   "id": "db039214",
   "metadata": {},
   "outputs": [
    {
     "name": "stderr",
     "output_type": "stream",
     "text": [
      "C:\\Users\\z5404477\\AppData\\Local\\Temp\\ipykernel_41976\\2749112877.py:2: SettingWithCopyWarning: \n",
      "A value is trying to be set on a copy of a slice from a DataFrame.\n",
      "Try using .loc[row_indexer,col_indexer] = value instead\n",
      "\n",
      "See the caveats in the documentation: https://pandas.pydata.org/pandas-docs/stable/user_guide/indexing.html#returning-a-view-versus-a-copy\n",
      "  cluster_2_sites_filtered['date_of_first_data'] = pd.to_datetime(cluster_2_sites_filtered['date_of_first_data'])\n",
      "C:\\Users\\z5404477\\AppData\\Local\\Temp\\ipykernel_41976\\2749112877.py:3: SettingWithCopyWarning: \n",
      "A value is trying to be set on a copy of a slice from a DataFrame.\n",
      "Try using .loc[row_indexer,col_indexer] = value instead\n",
      "\n",
      "See the caveats in the documentation: https://pandas.pydata.org/pandas-docs/stable/user_guide/indexing.html#returning-a-view-versus-a-copy\n",
      "  cluster_2_sites_filtered['date_of_last_data'] = pd.to_datetime(cluster_2_sites_filtered['date_of_last_data'])\n"
     ]
    }
   ],
   "source": [
    "# Covert date_of_first_data and date_of_last_data to datetime\n",
    "cluster_2_sites_filtered['date_of_first_data'] = pd.to_datetime(cluster_2_sites_filtered['date_of_first_data'])\n",
    "cluster_2_sites_filtered['date_of_last_data'] = pd.to_datetime(cluster_2_sites_filtered['date_of_last_data'])"
   ]
  },
  {
   "cell_type": "code",
   "execution_count": 49,
   "id": "dbd7ed6c",
   "metadata": {},
   "outputs": [
    {
     "data": {
      "application/vnd.microsoft.datawrangler.viewer.v0+json": {
       "columns": [
        {
         "name": "index",
         "rawType": "int64",
         "type": "integer"
        },
        {
         "name": "edp_site_id",
         "rawType": "object",
         "type": "string"
        },
        {
         "name": "postcode",
         "rawType": "int64",
         "type": "integer"
        },
        {
         "name": "state",
         "rawType": "object",
         "type": "string"
        },
        {
         "name": "lat",
         "rawType": "float64",
         "type": "float"
        },
        {
         "name": "long",
         "rawType": "float64",
         "type": "float"
        },
        {
         "name": "cluster",
         "rawType": "int64",
         "type": "integer"
        },
        {
         "name": "lat_deg",
         "rawType": "float64",
         "type": "float"
        },
        {
         "name": "long_deg",
         "rawType": "float64",
         "type": "float"
        },
        {
         "name": "date_of_first_data",
         "rawType": "datetime64[ns]",
         "type": "datetime"
        },
        {
         "name": "date_of_last_data",
         "rawType": "datetime64[ns]",
         "type": "datetime"
        },
        {
         "name": "number_of_days",
         "rawType": "int64",
         "type": "integer"
        }
       ],
       "ref": "b2a4daf4-e6ee-49b3-9d20-22ce54321771",
       "rows": [
        [
         "325",
         "S0008",
         "2316",
         "NSW",
         "-0.572220157900357",
         "2.654464278041168",
         "2",
         "-32.7858",
         "152.0896",
         "2021-04-28 00:00:00",
         "2024-04-30 00:00:00",
         "1098"
        ],
        [
         "202",
         "S0402",
         "2155",
         "NSW",
         "-0.5881742125928371",
         "2.634419171582013",
         "2",
         "-33.6999",
         "150.9411",
         "2021-09-25 00:00:00",
         "2024-09-30 00:00:00",
         "1102"
        ],
        [
         "330",
         "S0355",
         "2315",
         "NSW",
         "-0.5712131029219562",
         "2.6555114755923643",
         "2",
         "-32.7281",
         "152.1496",
         "2021-09-22 00:00:00",
         "2024-09-30 00:00:00",
         "1104"
        ],
        [
         "185",
         "W0233",
         "2783",
         "NSW",
         "-0.5885354957479998",
         "2.6254935577873137",
         "2",
         "-33.7206",
         "150.4297",
         "2021-09-22 00:00:00",
         "2024-09-30 00:00:00",
         "1105"
        ],
        [
         "103",
         "W0333",
         "2040",
         "NSW",
         "-0.5912302841130791",
         "2.6383321997649842",
         "2",
         "-33.875",
         "151.1653",
         "2021-09-21 00:00:00",
         "2024-09-30 00:00:00",
         "1106"
        ],
        [
         "19",
         "S0521",
         "2516",
         "NSW",
         "-0.5993163945375688",
         "2.6339374607084625",
         "2",
         "-34.3383",
         "150.9135",
         "2021-09-08 00:00:00",
         "2024-09-21 00:00:00",
         "1109"
        ],
        [
         "271",
         "S0405",
         "2282",
         "NSW",
         "-0.5754786876138303",
         "2.646838934539205",
         "2",
         "-32.9725",
         "151.6527",
         "2021-06-28 00:00:00",
         "2024-07-12 00:00:00",
         "1110"
        ],
        [
         "264",
         "S0527",
         "2290",
         "NSW",
         "-0.575848697415253",
         "2.648048447710837",
         "2",
         "-32.9937",
         "151.72200000000004",
         "2021-09-07 00:00:00",
         "2024-09-30 00:00:00",
         "1119"
        ],
        [
         "251",
         "W0148",
         "2250",
         "NSW",
         "-0.5795365781247171",
         "2.6385172046656957",
         "2",
         "-33.205000000000005",
         "151.1759",
         "2021-08-31 00:00:00",
         "2024-09-30 00:00:00",
         "1126"
        ],
        [
         "272",
         "S0523",
         "2282",
         "NSW",
         "-0.5754786876138303",
         "2.646838934539205",
         "2",
         "-32.9725",
         "151.6527",
         "2021-08-26 00:00:00",
         "2024-09-30 00:00:00",
         "1131"
        ],
        [
         "65",
         "W0243",
         "2173",
         "NSW",
         "-0.5926160755391626",
         "2.634478512776581",
         "2",
         "-33.9544",
         "150.9445",
         "2021-03-08 00:00:00",
         "2024-04-14 00:00:00",
         "1133"
        ],
        [
         "317",
         "S0321",
         "2322",
         "NSW",
         "-0.5723475669357525",
         "2.647261304218187",
         "2",
         "-32.7931",
         "151.6769",
         "2021-06-03 00:00:00",
         "2024-07-13 00:00:00",
         "1136"
        ],
        [
         "39",
         "W0216",
         "2567",
         "NSW",
         "-0.5941694185734375",
         "2.630776669433101",
         "2",
         "-34.0434",
         "150.7324",
         "2021-08-17 00:00:00",
         "2024-09-30 00:00:00",
         "1140"
        ],
        [
         "294",
         "W0130",
         "2287",
         "NSW",
         "-0.5741033681632588",
         "2.6474916876794503",
         "2",
         "-32.8937",
         "151.6901",
         "2021-08-18 00:00:00",
         "2024-09-30 00:00:00",
         "1140"
        ],
        [
         "302",
         "S0070",
         "2325",
         "NSW",
         "-0.5740161017006591",
         "2.6403899429530853",
         "2",
         "-32.8887",
         "151.2832",
         "2018-09-16 00:00:00",
         "2021-10-31 00:00:00",
         "1142"
        ],
        [
         "110",
         "W0303",
         "2041",
         "NSW",
         "-0.5908777276041762",
         "2.6386463590303433",
         "2",
         "-33.8548",
         "151.1833",
         "2021-08-12 00:00:00",
         "2024-09-30 00:00:00",
         "1146"
        ],
        [
         "268",
         "S0431",
         "2284",
         "NSW",
         "-0.5756200592832419",
         "2.646240286605771",
         "2",
         "-32.9806",
         "151.6184",
         "2021-05-27 00:00:00",
         "2024-07-16 00:00:00",
         "1146"
        ],
        [
         "267",
         "S0328",
         "2284",
         "NSW",
         "-0.5756200592832419",
         "2.646240286605771",
         "2",
         "-32.9806",
         "151.6184",
         "2021-08-05 00:00:00",
         "2024-09-30 00:00:00",
         "1152"
        ],
        [
         "228",
         "S0595",
         "2082",
         "NSW",
         "-0.5864917151939145",
         "2.637545056272335",
         "2",
         "-33.6035",
         "151.1202",
         "2020-08-13 00:00:00",
         "2023-10-09 00:00:00",
         "1152"
        ],
        [
         "130",
         "S0457",
         "2759",
         "NSW",
         "-0.5901481799768427",
         "2.631916369434653",
         "2",
         "-33.813",
         "150.7977",
         "2021-08-04 00:00:00",
         "2024-09-30 00:00:00",
         "1153"
        ],
        [
         "207",
         "W0049",
         "2777",
         "NSW",
         "-0.5881497779833091",
         "2.6290697374246506",
         "2",
         "-33.6985",
         "150.6346",
         "2021-08-04 00:00:00",
         "2024-09-30 00:00:00",
         "1153"
        ],
        [
         "304",
         "S0424",
         "2295",
         "NSW",
         "-0.5735902413631725",
         "2.6496384426594033",
         "2",
         "-32.8643",
         "151.8131",
         "2021-08-04 00:00:00",
         "2024-09-30 00:00:00",
         "1154"
        ],
        [
         "211",
         "W0098",
         "2756",
         "NSW",
         "-0.5874533916117634",
         "2.632145007566664",
         "2",
         "-33.6586",
         "150.8108",
         "2021-08-04 00:00:00",
         "2024-09-30 00:00:00",
         "1154"
        ],
        [
         "319",
         "S0194",
         "2322",
         "NSW",
         "-0.5723475669357525",
         "2.647261304218187",
         "2",
         "-32.7931",
         "151.6769",
         "2021-07-19 00:00:00",
         "2024-09-30 00:00:00",
         "1169"
        ],
        [
         "260",
         "W0028",
         "2283",
         "NSW",
         "-0.5766969274317223",
         "2.646121604216635",
         "2",
         "-33.0423",
         "151.6116",
         "2021-07-17 00:00:00",
         "2024-09-30 00:00:00",
         "1171"
        ],
        [
         "188",
         "W0029",
         "2074",
         "NSW",
         "-0.5884045960541002",
         "2.6380023325363573",
         "2",
         "-33.7131",
         "151.1464",
         "2021-07-16 00:00:00",
         "2024-09-30 00:00:00",
         "1173"
        ],
        [
         "337",
         "W0137",
         "2420",
         "NSW",
         "-0.5655617268039985",
         "2.648570301157183",
         "2",
         "-32.4043",
         "151.7519",
         "2021-07-14 00:00:00",
         "2024-09-30 00:00:00",
         "1174"
        ],
        [
         "214",
         "W0110",
         "2756",
         "NSW",
         "-0.5874533916117634",
         "2.632145007566664",
         "2",
         "-33.6586",
         "150.8108",
         "2021-07-13 00:00:00",
         "2024-09-30 00:00:00",
         "1175"
        ],
        [
         "105",
         "S0307",
         "2745",
         "NSW",
         "-0.5910697138218957",
         "2.629167475862762",
         "2",
         "-33.8658",
         "150.6402",
         "2021-07-09 00:00:00",
         "2024-09-30 00:00:00",
         "1179"
        ],
        [
         "101",
         "W0329",
         "2132",
         "NSW",
         "-0.5913751464409946",
         "2.6374839697485153",
         "2",
         "-33.8833",
         "151.1167",
         "2021-07-08 00:00:00",
         "2024-09-30 00:00:00",
         "1180"
        ],
        [
         "167",
         "W0244",
         "2125",
         "NSW",
         "-0.5889735733902505",
         "2.6362779472353868",
         "2",
         "-33.7457",
         "151.0476",
         "2021-07-09 00:00:00",
         "2024-09-30 00:00:00",
         "1180"
        ],
        [
         "99",
         "W0240",
         "2132",
         "NSW",
         "-0.5913751464409946",
         "2.6374839697485153",
         "2",
         "-33.8833",
         "151.1167",
         "2021-07-07 00:00:00",
         "2024-09-30 00:00:00",
         "1181"
        ],
        [
         "79",
         "W0205",
         "2015",
         "NSW",
         "-0.591867329290057",
         "2.6389448103324344",
         "2",
         "-33.9115",
         "151.2004",
         "2021-07-07 00:00:00",
         "2024-09-30 00:00:00",
         "1182"
        ],
        [
         "112",
         "W0343",
         "2041",
         "NSW",
         "-0.5908777276041762",
         "2.6386463590303433",
         "2",
         "-33.8548",
         "151.1833",
         "2021-07-05 00:00:00",
         "2024-09-30 00:00:00",
         "1183"
        ],
        [
         "111",
         "W0264",
         "2041",
         "NSW",
         "-0.5908777276041762",
         "2.6386463590303433",
         "2",
         "-33.8548",
         "151.1833",
         "2021-07-01 00:00:00",
         "2024-09-30 00:00:00",
         "1187"
        ],
        [
         "256",
         "W0271",
         "2280",
         "NSW",
         "-0.576819100479362",
         "2.6469122383677886",
         "2",
         "-33.0493",
         "151.6569",
         "2021-06-29 00:00:00",
         "2024-09-30 00:00:00",
         "1189"
        ],
        [
         "280",
         "S0582",
         "2289",
         "NSW",
         "-0.5749603248259879",
         "2.647591171446814",
         "2",
         "-32.9428",
         "151.6958",
         "2021-06-23 00:00:00",
         "2024-09-30 00:00:00",
         "1195"
        ],
        [
         "297",
         "W0345",
         "2287",
         "NSW",
         "-0.5741033681632588",
         "2.6474916876794503",
         "2",
         "-32.8937",
         "151.6901",
         "2021-06-22 00:00:00",
         "2024-09-30 00:00:00",
         "1196"
        ],
        [
         "141",
         "S0172",
         "2070",
         "NSW",
         "-0.5896298171890003",
         "2.638356634374512",
         "2",
         "-33.7833",
         "151.1667",
         "2021-06-22 00:00:00",
         "2024-09-30 00:00:00",
         "1197"
        ],
        [
         "119",
         "W0280",
         "2111",
         "NSW",
         "-0.5904745565469656",
         "2.637485715077767",
         "2",
         "-33.8317",
         "151.1168",
         "2021-06-17 00:00:00",
         "2024-09-30 00:00:00",
         "1202"
        ],
        [
         "206",
         "W0195",
         "2777",
         "NSW",
         "-0.5881497779833091",
         "2.6290697374246506",
         "2",
         "-33.6985",
         "150.6346",
         "2021-06-16 00:00:00",
         "2024-09-30 00:00:00",
         "1203"
        ],
        [
         "95",
         "W0237",
         "2026",
         "NSW",
         "-0.5914554315865864",
         "2.640348055051038",
         "2",
         "-33.8879",
         "151.2808",
         "2021-06-09 00:00:00",
         "2024-09-30 00:00:00",
         "1209"
        ],
        [
         "290",
         "W0263",
         "2294",
         "NSW",
         "-0.5744751232939336",
         "2.648788467313682",
         "2",
         "-32.915",
         "151.7644",
         "2021-06-07 00:00:00",
         "2024-09-30 00:00:00",
         "1211"
        ],
        [
         "45",
         "W0114",
         "2234",
         "NSW",
         "-0.5940071029530022",
         "2.635654864692425",
         "2",
         "-34.0341",
         "151.0119",
         "2021-04-08 00:00:00",
         "2024-08-06 00:00:00",
         "1216"
        ],
        [
         "250",
         "W0182",
         "2259",
         "NSW",
         "-0.5800130530105116",
         "2.643069023354897",
         "2",
         "-33.2323",
         "151.4367",
         "2021-05-31 00:00:00",
         "2024-09-30 00:00:00",
         "1218"
        ],
        [
         "232",
         "S0256",
         "2765",
         "NSW",
         "-0.5862944929884392",
         "2.634047416451338",
         "2",
         "-33.5922",
         "150.9198",
         "2021-04-29 00:00:00",
         "2024-08-30 00:00:00",
         "1219"
        ],
        [
         "186",
         "W0097",
         "2783",
         "NSW",
         "-0.5885354957479998",
         "2.6254935577873137",
         "2",
         "-33.7206",
         "150.4297",
         "2021-05-28 00:00:00",
         "2024-09-30 00:00:00",
         "1222"
        ],
        [
         "255",
         "S0494",
         "2280",
         "NSW",
         "-0.576819100479362",
         "2.6469122383677886",
         "2",
         "-33.0493",
         "151.6569",
         "2021-05-27 00:00:00",
         "2024-09-30 00:00:00",
         "1222"
        ],
        [
         "285",
         "S0538",
         "2291",
         "NSW",
         "-0.5748800396803962",
         "2.6486959648633266",
         "2",
         "-32.9382",
         "151.75910000000002",
         "2021-05-27 00:00:00",
         "2024-09-30 00:00:00",
         "1223"
        ],
        [
         "48",
         "W0198",
         "2232",
         "NSW",
         "-0.5938378060155587",
         "2.6361208676027075",
         "2",
         "-34.0244",
         "151.0386",
         "2021-05-24 00:00:00",
         "2024-09-30 00:00:00",
         "1225"
        ]
       ],
       "shape": {
        "columns": 11,
        "rows": 236
       }
      },
      "text/html": [
       "<div>\n",
       "<style scoped>\n",
       "    .dataframe tbody tr th:only-of-type {\n",
       "        vertical-align: middle;\n",
       "    }\n",
       "\n",
       "    .dataframe tbody tr th {\n",
       "        vertical-align: top;\n",
       "    }\n",
       "\n",
       "    .dataframe thead th {\n",
       "        text-align: right;\n",
       "    }\n",
       "</style>\n",
       "<table border=\"1\" class=\"dataframe\">\n",
       "  <thead>\n",
       "    <tr style=\"text-align: right;\">\n",
       "      <th></th>\n",
       "      <th>edp_site_id</th>\n",
       "      <th>postcode</th>\n",
       "      <th>state</th>\n",
       "      <th>lat</th>\n",
       "      <th>long</th>\n",
       "      <th>cluster</th>\n",
       "      <th>lat_deg</th>\n",
       "      <th>long_deg</th>\n",
       "      <th>date_of_first_data</th>\n",
       "      <th>date_of_last_data</th>\n",
       "      <th>number_of_days</th>\n",
       "    </tr>\n",
       "  </thead>\n",
       "  <tbody>\n",
       "    <tr>\n",
       "      <th>325</th>\n",
       "      <td>S0008</td>\n",
       "      <td>2316</td>\n",
       "      <td>NSW</td>\n",
       "      <td>-0.572220</td>\n",
       "      <td>2.654464</td>\n",
       "      <td>2</td>\n",
       "      <td>-32.7858</td>\n",
       "      <td>152.0896</td>\n",
       "      <td>2021-04-28</td>\n",
       "      <td>2024-04-30</td>\n",
       "      <td>1098</td>\n",
       "    </tr>\n",
       "    <tr>\n",
       "      <th>202</th>\n",
       "      <td>S0402</td>\n",
       "      <td>2155</td>\n",
       "      <td>NSW</td>\n",
       "      <td>-0.588174</td>\n",
       "      <td>2.634419</td>\n",
       "      <td>2</td>\n",
       "      <td>-33.6999</td>\n",
       "      <td>150.9411</td>\n",
       "      <td>2021-09-25</td>\n",
       "      <td>2024-09-30</td>\n",
       "      <td>1102</td>\n",
       "    </tr>\n",
       "    <tr>\n",
       "      <th>330</th>\n",
       "      <td>S0355</td>\n",
       "      <td>2315</td>\n",
       "      <td>NSW</td>\n",
       "      <td>-0.571213</td>\n",
       "      <td>2.655511</td>\n",
       "      <td>2</td>\n",
       "      <td>-32.7281</td>\n",
       "      <td>152.1496</td>\n",
       "      <td>2021-09-22</td>\n",
       "      <td>2024-09-30</td>\n",
       "      <td>1104</td>\n",
       "    </tr>\n",
       "    <tr>\n",
       "      <th>185</th>\n",
       "      <td>W0233</td>\n",
       "      <td>2783</td>\n",
       "      <td>NSW</td>\n",
       "      <td>-0.588535</td>\n",
       "      <td>2.625494</td>\n",
       "      <td>2</td>\n",
       "      <td>-33.7206</td>\n",
       "      <td>150.4297</td>\n",
       "      <td>2021-09-22</td>\n",
       "      <td>2024-09-30</td>\n",
       "      <td>1105</td>\n",
       "    </tr>\n",
       "    <tr>\n",
       "      <th>103</th>\n",
       "      <td>W0333</td>\n",
       "      <td>2040</td>\n",
       "      <td>NSW</td>\n",
       "      <td>-0.591230</td>\n",
       "      <td>2.638332</td>\n",
       "      <td>2</td>\n",
       "      <td>-33.8750</td>\n",
       "      <td>151.1653</td>\n",
       "      <td>2021-09-21</td>\n",
       "      <td>2024-09-30</td>\n",
       "      <td>1106</td>\n",
       "    </tr>\n",
       "    <tr>\n",
       "      <th>...</th>\n",
       "      <td>...</td>\n",
       "      <td>...</td>\n",
       "      <td>...</td>\n",
       "      <td>...</td>\n",
       "      <td>...</td>\n",
       "      <td>...</td>\n",
       "      <td>...</td>\n",
       "      <td>...</td>\n",
       "      <td>...</td>\n",
       "      <td>...</td>\n",
       "      <td>...</td>\n",
       "    </tr>\n",
       "    <tr>\n",
       "      <th>172</th>\n",
       "      <td>S0111</td>\n",
       "      <td>2085</td>\n",
       "      <td>NSW</td>\n",
       "      <td>-0.588897</td>\n",
       "      <td>2.639036</td>\n",
       "      <td>2</td>\n",
       "      <td>-33.7413</td>\n",
       "      <td>151.2056</td>\n",
       "      <td>2018-01-01</td>\n",
       "      <td>2024-04-30</td>\n",
       "      <td>2312</td>\n",
       "    </tr>\n",
       "    <tr>\n",
       "      <th>329</th>\n",
       "      <td>S0005</td>\n",
       "      <td>2320</td>\n",
       "      <td>NSW</td>\n",
       "      <td>-0.571225</td>\n",
       "      <td>2.644776</td>\n",
       "      <td>2</td>\n",
       "      <td>-32.7288</td>\n",
       "      <td>151.5345</td>\n",
       "      <td>2018-01-01</td>\n",
       "      <td>2024-04-30</td>\n",
       "      <td>2312</td>\n",
       "    </tr>\n",
       "    <tr>\n",
       "      <th>240</th>\n",
       "      <td>S0083</td>\n",
       "      <td>2257</td>\n",
       "      <td>NSW</td>\n",
       "      <td>-0.585223</td>\n",
       "      <td>2.641643</td>\n",
       "      <td>2</td>\n",
       "      <td>-33.5308</td>\n",
       "      <td>151.3550</td>\n",
       "      <td>2018-01-01</td>\n",
       "      <td>2024-04-30</td>\n",
       "      <td>2312</td>\n",
       "    </tr>\n",
       "    <tr>\n",
       "      <th>41</th>\n",
       "      <td>S0075</td>\n",
       "      <td>2567</td>\n",
       "      <td>NSW</td>\n",
       "      <td>-0.594169</td>\n",
       "      <td>2.630777</td>\n",
       "      <td>2</td>\n",
       "      <td>-34.0434</td>\n",
       "      <td>150.7324</td>\n",
       "      <td>2018-01-01</td>\n",
       "      <td>2024-09-30</td>\n",
       "      <td>2465</td>\n",
       "    </tr>\n",
       "    <tr>\n",
       "      <th>31</th>\n",
       "      <td>S0081</td>\n",
       "      <td>2233</td>\n",
       "      <td>NSW</td>\n",
       "      <td>-0.594346</td>\n",
       "      <td>2.636069</td>\n",
       "      <td>2</td>\n",
       "      <td>-34.0535</td>\n",
       "      <td>151.0356</td>\n",
       "      <td>2018-01-01</td>\n",
       "      <td>2024-09-30</td>\n",
       "      <td>2465</td>\n",
       "    </tr>\n",
       "  </tbody>\n",
       "</table>\n",
       "<p>236 rows × 11 columns</p>\n",
       "</div>"
      ],
      "text/plain": [
       "    edp_site_id  postcode state       lat      long  cluster  lat_deg  \\\n",
       "325       S0008      2316   NSW -0.572220  2.654464        2 -32.7858   \n",
       "202       S0402      2155   NSW -0.588174  2.634419        2 -33.6999   \n",
       "330       S0355      2315   NSW -0.571213  2.655511        2 -32.7281   \n",
       "185       W0233      2783   NSW -0.588535  2.625494        2 -33.7206   \n",
       "103       W0333      2040   NSW -0.591230  2.638332        2 -33.8750   \n",
       "..          ...       ...   ...       ...       ...      ...      ...   \n",
       "172       S0111      2085   NSW -0.588897  2.639036        2 -33.7413   \n",
       "329       S0005      2320   NSW -0.571225  2.644776        2 -32.7288   \n",
       "240       S0083      2257   NSW -0.585223  2.641643        2 -33.5308   \n",
       "41        S0075      2567   NSW -0.594169  2.630777        2 -34.0434   \n",
       "31        S0081      2233   NSW -0.594346  2.636069        2 -34.0535   \n",
       "\n",
       "     long_deg date_of_first_data date_of_last_data  number_of_days  \n",
       "325  152.0896         2021-04-28        2024-04-30            1098  \n",
       "202  150.9411         2021-09-25        2024-09-30            1102  \n",
       "330  152.1496         2021-09-22        2024-09-30            1104  \n",
       "185  150.4297         2021-09-22        2024-09-30            1105  \n",
       "103  151.1653         2021-09-21        2024-09-30            1106  \n",
       "..        ...                ...               ...             ...  \n",
       "172  151.2056         2018-01-01        2024-04-30            2312  \n",
       "329  151.5345         2018-01-01        2024-04-30            2312  \n",
       "240  151.3550         2018-01-01        2024-04-30            2312  \n",
       "41   150.7324         2018-01-01        2024-09-30            2465  \n",
       "31   151.0356         2018-01-01        2024-09-30            2465  \n",
       "\n",
       "[236 rows x 11 columns]"
      ]
     },
     "execution_count": 49,
     "metadata": {},
     "output_type": "execute_result"
    }
   ],
   "source": [
    "cluster_2_sites_filtered"
   ]
  },
  {
   "cell_type": "code",
   "execution_count": 50,
   "id": "f9ed8a32",
   "metadata": {},
   "outputs": [],
   "source": [
    "cluster_data = cluster_2_sites_filtered.copy()"
   ]
  },
  {
   "cell_type": "code",
   "execution_count": 51,
   "id": "d6197bfa",
   "metadata": {},
   "outputs": [],
   "source": [
    "# Filter first date to be from 2021-07-01 \n",
    "cluster_data = cluster_data[cluster_data['date_of_first_data'] < '2021-07-01']\n",
    "\n",
    "# Filter first date to be from 2023-06-30\n",
    "cluster_data = cluster_data[cluster_data['date_of_last_data'] > '2024-06-30']\n",
    " "
   ]
  },
  {
   "cell_type": "code",
   "execution_count": 52,
   "id": "302e772b",
   "metadata": {},
   "outputs": [],
   "source": [
    "cluster_data.sort_values(by = 'date_of_last_data', ascending=True, inplace=True)"
   ]
  },
  {
   "cell_type": "code",
   "execution_count": 53,
   "id": "c3aa9f42",
   "metadata": {},
   "outputs": [
    {
     "data": {
      "application/vnd.microsoft.datawrangler.viewer.v0+json": {
       "columns": [
        {
         "name": "index",
         "rawType": "int64",
         "type": "integer"
        },
        {
         "name": "edp_site_id",
         "rawType": "object",
         "type": "string"
        },
        {
         "name": "postcode",
         "rawType": "int64",
         "type": "integer"
        },
        {
         "name": "state",
         "rawType": "object",
         "type": "string"
        },
        {
         "name": "lat",
         "rawType": "float64",
         "type": "float"
        },
        {
         "name": "long",
         "rawType": "float64",
         "type": "float"
        },
        {
         "name": "cluster",
         "rawType": "int64",
         "type": "integer"
        },
        {
         "name": "lat_deg",
         "rawType": "float64",
         "type": "float"
        },
        {
         "name": "long_deg",
         "rawType": "float64",
         "type": "float"
        },
        {
         "name": "date_of_first_data",
         "rawType": "datetime64[ns]",
         "type": "datetime"
        },
        {
         "name": "date_of_last_data",
         "rawType": "datetime64[ns]",
         "type": "datetime"
        },
        {
         "name": "number_of_days",
         "rawType": "int64",
         "type": "integer"
        }
       ],
       "ref": "144ae3ac-3eac-460c-80f6-84d5664682fc",
       "rows": [
        [
         "271",
         "S0405",
         "2282",
         "NSW",
         "-0.5754786876138303",
         "2.646838934539205",
         "2",
         "-32.9725",
         "151.6527",
         "2021-06-28 00:00:00",
         "2024-07-12 00:00:00",
         "1110"
        ],
        [
         "54",
         "W0013",
         "2226",
         "NSW",
         "-0.5934014737025601",
         "2.636562435903462",
         "2",
         "-33.9994",
         "151.0639",
         "2020-10-13 00:00:00",
         "2024-07-12 00:00:00",
         "1368"
        ],
        [
         "317",
         "S0321",
         "2322",
         "NSW",
         "-0.5723475669357525",
         "2.647261304218187",
         "2",
         "-32.7931",
         "151.6769",
         "2021-06-03 00:00:00",
         "2024-07-13 00:00:00",
         "1136"
        ],
        [
         "268",
         "S0431",
         "2284",
         "NSW",
         "-0.5756200592832419",
         "2.646240286605771",
         "2",
         "-32.9806",
         "151.6184",
         "2021-05-27 00:00:00",
         "2024-07-16 00:00:00",
         "1146"
        ],
        [
         "303",
         "S0170",
         "2307",
         "NSW",
         "-0.5738433141047116",
         "2.6475073956427186",
         "2",
         "-32.8788",
         "151.691",
         "2021-03-08 00:00:00",
         "2024-07-16 00:00:00",
         "1226"
        ],
        [
         "128",
         "S0517",
         "2150",
         "NSW",
         "-0.5902319557809383",
         "2.6355082570352573",
         "2",
         "-33.8178",
         "151.0035",
         "2019-01-01 00:00:00",
         "2024-07-31 00:00:00",
         "2039"
        ],
        [
         "301",
         "S0358",
         "2325",
         "NSW",
         "-0.5740161017006591",
         "2.6403899429530853",
         "2",
         "-32.8887",
         "151.2832",
         "2019-01-01 00:00:00",
         "2024-08-02 00:00:00",
         "2040"
        ],
        [
         "45",
         "W0114",
         "2234",
         "NSW",
         "-0.5940071029530022",
         "2.635654864692425",
         "2",
         "-34.0341",
         "151.0119",
         "2021-04-08 00:00:00",
         "2024-08-06 00:00:00",
         "1216"
        ],
        [
         "124",
         "S0185",
         "2065",
         "NSW",
         "-0.5903698367918458",
         "2.6388174012970382",
         "2",
         "-33.8257",
         "151.1931",
         "2019-01-01 00:00:00",
         "2024-08-30 00:00:00",
         "2069"
        ],
        [
         "311",
         "S0316",
         "2323",
         "NSW",
         "-0.5730003200759983",
         "2.644718359498032",
         "2",
         "-32.8305",
         "151.5312",
         "2019-01-01 00:00:00",
         "2024-08-30 00:00:00",
         "2069"
        ],
        [
         "299",
         "S0396",
         "2325",
         "NSW",
         "-0.5740161017006591",
         "2.6403899429530853",
         "2",
         "-32.8887",
         "151.2832",
         "2019-01-01 00:00:00",
         "2024-08-30 00:00:00",
         "2069"
        ],
        [
         "96",
         "S0334",
         "2008",
         "NSW",
         "-0.5914344876355624",
         "2.6388941957841263",
         "2",
         "-33.8867",
         "151.1975",
         "2019-01-01 00:00:00",
         "2024-08-30 00:00:00",
         "2069"
        ],
        [
         "326",
         "S0533",
         "2316",
         "NSW",
         "-0.572220157900357",
         "2.654464278041168",
         "2",
         "-32.7858",
         "152.0896",
         "2019-01-01 00:00:00",
         "2024-08-30 00:00:00",
         "2069"
        ],
        [
         "147",
         "S0425",
         "2750",
         "NSW",
         "-0.5894587749223049",
         "2.6301186803050993",
         "2",
         "-33.773500000000006",
         "150.6947",
         "2019-01-01 00:00:00",
         "2024-08-30 00:00:00",
         "2069"
        ],
        [
         "0",
         "S0191",
         "2577",
         "NSW",
         "-0.6047635671330431",
         "2.6293158288491814",
         "2",
         "-34.6504",
         "150.6487",
         "2019-01-01 00:00:00",
         "2024-08-30 00:00:00",
         "2069"
        ],
        [
         "336",
         "S0295",
         "2330",
         "NSW",
         "-0.5696353252781533",
         "2.6370703267157922",
         "2",
         "-32.6377",
         "151.093",
         "2019-01-01 00:00:00",
         "2024-08-30 00:00:00",
         "2069"
        ],
        [
         "148",
         "S0209",
         "2151",
         "NSW",
         "-0.5894360856420289",
         "2.635747367142781",
         "2",
         "-33.7722",
         "151.01720000000003",
         "2019-01-01 00:00:00",
         "2024-08-30 00:00:00",
         "2069"
        ],
        [
         "219",
         "S0212",
         "2106",
         "NSW",
         "-0.5874149943682195",
         "2.6409275043626996",
         "2",
         "-33.6564",
         "151.314",
         "2019-01-01 00:00:00",
         "2024-08-30 00:00:00",
         "2069"
        ],
        [
         "201",
         "S0158",
         "2155",
         "NSW",
         "-0.5881742125928371",
         "2.634419171582013",
         "2",
         "-33.6999",
         "150.9411",
         "2019-01-01 00:00:00",
         "2024-08-30 00:00:00",
         "2069"
        ],
        [
         "150",
         "S0571",
         "2100",
         "NSW",
         "-0.5893383472039172",
         "2.6398070029829195",
         "2",
         "-33.7666",
         "151.2498",
         "2019-01-01 00:00:00",
         "2024-08-30 00:00:00",
         "2069"
        ],
        [
         "87",
         "S0349",
         "2048",
         "NSW",
         "-0.59156364200021",
         "2.6383130011432123",
         "2",
         "-33.8941",
         "151.1642",
         "2019-03-12 00:00:00",
         "2024-08-30 00:00:00",
         "1998"
        ],
        [
         "127",
         "S0156",
         "2142",
         "NSW",
         "-0.5902651170367262",
         "2.6359079374339642",
         "2",
         "-33.8197",
         "151.0264",
         "2019-04-08 00:00:00",
         "2024-08-30 00:00:00",
         "1971"
        ],
        [
         "327",
         "S0380",
         "2320",
         "NSW",
         "-0.5712253202267201",
         "2.6447759553633476",
         "2",
         "-32.7288",
         "151.5345",
         "2019-08-01 00:00:00",
         "2024-08-30 00:00:00",
         "1856"
        ],
        [
         "200",
         "S0562",
         "2155",
         "NSW",
         "-0.5881742125928371",
         "2.634419171582013",
         "2",
         "-33.6999",
         "150.9411",
         "2020-01-09 00:00:00",
         "2024-08-30 00:00:00",
         "1696"
        ],
        [
         "314",
         "S0558",
         "2322",
         "NSW",
         "-0.5723475669357525",
         "2.647261304218187",
         "2",
         "-32.7931",
         "151.6769",
         "2020-04-24 00:00:00",
         "2024-08-30 00:00:00",
         "1590"
        ],
        [
         "279",
         "S0179",
         "2285",
         "NSW",
         "-0.5751680190069753",
         "2.64704488339094",
         "2",
         "-32.9547",
         "151.6645",
         "2019-01-01 00:00:00",
         "2024-08-30 00:00:00",
         "2069"
        ],
        [
         "52",
         "S0413",
         "2225",
         "NSW",
         "-0.5934835041774038",
         "2.636771875413701",
         "2",
         "-34.0041",
         "151.0759",
         "2019-01-01 00:00:00",
         "2024-08-30 00:00:00",
         "2069"
        ],
        [
         "323",
         "S0135",
         "2321",
         "NSW",
         "-0.5723074243629566",
         "2.6444425974762162",
         "2",
         "-32.7908",
         "151.5154",
         "2019-01-01 00:00:00",
         "2024-08-30 00:00:00",
         "2069"
        ],
        [
         "151",
         "S0177",
         "2121",
         "NSW",
         "-0.5892126834977737",
         "2.6370616000695324",
         "2",
         "-33.7594",
         "151.0925",
         "2019-01-01 00:00:00",
         "2024-08-30 00:00:00",
         "2069"
        ],
        [
         "168",
         "S0530",
         "2125",
         "NSW",
         "-0.5889735733902505",
         "2.6362779472353868",
         "2",
         "-33.7457",
         "151.0476",
         "2019-01-01 00:00:00",
         "2024-08-30 00:00:00",
         "2069"
        ],
        [
         "287",
         "S0579",
         "2291",
         "NSW",
         "-0.5748800396803962",
         "2.6486959648633266",
         "2",
         "-32.9382",
         "151.75910000000002",
         "2019-01-01 00:00:00",
         "2024-08-30 00:00:00",
         "2069"
        ],
        [
         "170",
         "S0162",
         "2073",
         "NSW",
         "-0.5889421574637145",
         "2.6379237927200174",
         "2",
         "-33.7439",
         "151.1419",
         "2019-01-01 00:00:00",
         "2024-08-30 00:00:00",
         "2069"
        ],
        [
         "198",
         "S0310",
         "2077",
         "NSW",
         "-0.5882178458241368",
         "2.637180282458668",
         "2",
         "-33.7024",
         "151.0993",
         "2019-01-01 00:00:00",
         "2024-08-30 00:00:00",
         "2069"
        ],
        [
         "75",
         "S0195",
         "2752",
         "NSW",
         "-0.5919319064723808",
         "2.6286334051116516",
         "2",
         "-33.9152",
         "150.6096",
         "2019-01-01 00:00:00",
         "2024-08-30 00:00:00",
         "2069"
        ],
        [
         "144",
         "S0244",
         "2087",
         "NSW",
         "-0.5894762282148249",
         "2.6392921308535815",
         "2",
         "-33.7745",
         "151.22030000000004",
         "2019-01-01 00:00:00",
         "2024-08-30 00:00:00",
         "2069"
        ],
        [
         "82",
         "S0596",
         "2203",
         "NSW",
         "-0.5917381749254095",
         "2.637880159488718",
         "2",
         "-33.9041",
         "151.1394",
         "2019-01-01 00:00:00",
         "2024-08-30 00:00:00",
         "2069"
        ],
        [
         "232",
         "S0256",
         "2765",
         "NSW",
         "-0.5862944929884392",
         "2.634047416451338",
         "2",
         "-33.5922",
         "150.9198",
         "2021-04-29 00:00:00",
         "2024-08-30 00:00:00",
         "1219"
        ],
        [
         "180",
         "S0585",
         "2097",
         "NSW",
         "-0.5887344632827273",
         "2.6407041022184443",
         "2",
         "-33.732",
         "151.3012",
         "2019-01-01 00:00:00",
         "2024-08-30 00:00:00",
         "2069"
        ],
        [
         "91",
         "S0598",
         "2131",
         "NSW",
         "-0.5914624129035944",
         "2.6375886895036347",
         "2",
         "-33.8883",
         "151.1227",
         "2020-11-29 00:00:00",
         "2024-08-31 00:00:00",
         "1371"
        ],
        [
         "177",
         "W0015",
         "2785",
         "NSW",
         "-0.5887571525630032",
         "2.62235720112148",
         "2",
         "-33.7333",
         "150.25",
         "2020-12-21 00:00:00",
         "2024-09-05 00:00:00",
         "1354"
        ],
        [
         "288",
         "W0084",
         "2300",
         "NSW",
         "-0.5747281960354726",
         "2.6490624840062456",
         "2",
         "-32.9295",
         "151.7801",
         "2020-11-05 00:00:00",
         "2024-09-26 00:00:00",
         "1421"
        ],
        [
         "139",
         "W0179",
         "2117",
         "NSW",
         "-0.5897170836516",
         "2.636365213697987",
         "2",
         "-33.7883",
         "151.0526",
         "2021-05-19 00:00:00",
         "2024-09-26 00:00:00",
         "1226"
        ],
        [
         "315",
         "S0478",
         "2322",
         "NSW",
         "-0.5723475669357525",
         "2.647261304218187",
         "2",
         "-32.7931",
         "151.6769",
         "2020-01-24 00:00:00",
         "2024-09-30 00:00:00",
         "1712"
        ],
        [
         "18",
         "S0553",
         "2518",
         "NSW",
         "-0.5999761289948228",
         "2.6338903368186584",
         "2",
         "-34.3761",
         "150.9108",
         "2020-03-09 00:00:00",
         "2024-09-30 00:00:00",
         "1666"
        ],
        [
         "46",
         "S0502",
         "2232",
         "NSW",
         "-0.5938378060155587",
         "2.6361208676027075",
         "2",
         "-34.0244",
         "151.0386",
         "2019-01-01 00:00:00",
         "2024-09-30 00:00:00",
         "2100"
        ],
        [
         "118",
         "S0569",
         "2110",
         "NSW",
         "-0.5905199351075174",
         "2.6379936058900975",
         "2",
         "-33.8343",
         "151.1459",
         "2019-01-01 00:00:00",
         "2024-09-30 00:00:00",
         "2100"
        ],
        [
         "70",
         "S0387",
         "2044",
         "NSW",
         "-0.5920732781417923",
         "2.6382431879731327",
         "2",
         "-33.9233",
         "151.1602",
         "2020-03-16 00:00:00",
         "2024-09-30 00:00:00",
         "1659"
        ],
        [
         "83",
         "S0318",
         "2191",
         "NSW",
         "-0.5917277029498975",
         "2.636925464387877",
         "2",
         "-33.9035",
         "151.0847",
         "2020-07-25 00:00:00",
         "2024-09-30 00:00:00",
         "1529"
        ],
        [
         "24",
         "S0247",
         "2508",
         "NSW",
         "-0.5975605933100625",
         "2.6340421804635823",
         "2",
         "-34.2377",
         "150.9195",
         "2020-04-25 00:00:00",
         "2024-09-30 00:00:00",
         "1620"
        ],
        [
         "43",
         "S0137",
         "2234",
         "NSW",
         "-0.5940071029530022",
         "2.635654864692425",
         "2",
         "-34.0341",
         "151.0119",
         "2019-01-01 00:00:00",
         "2024-09-30 00:00:00",
         "2100"
        ]
       ],
       "shape": {
        "columns": 11,
        "rows": 148
       }
      },
      "text/html": [
       "<div>\n",
       "<style scoped>\n",
       "    .dataframe tbody tr th:only-of-type {\n",
       "        vertical-align: middle;\n",
       "    }\n",
       "\n",
       "    .dataframe tbody tr th {\n",
       "        vertical-align: top;\n",
       "    }\n",
       "\n",
       "    .dataframe thead th {\n",
       "        text-align: right;\n",
       "    }\n",
       "</style>\n",
       "<table border=\"1\" class=\"dataframe\">\n",
       "  <thead>\n",
       "    <tr style=\"text-align: right;\">\n",
       "      <th></th>\n",
       "      <th>edp_site_id</th>\n",
       "      <th>postcode</th>\n",
       "      <th>state</th>\n",
       "      <th>lat</th>\n",
       "      <th>long</th>\n",
       "      <th>cluster</th>\n",
       "      <th>lat_deg</th>\n",
       "      <th>long_deg</th>\n",
       "      <th>date_of_first_data</th>\n",
       "      <th>date_of_last_data</th>\n",
       "      <th>number_of_days</th>\n",
       "    </tr>\n",
       "  </thead>\n",
       "  <tbody>\n",
       "    <tr>\n",
       "      <th>271</th>\n",
       "      <td>S0405</td>\n",
       "      <td>2282</td>\n",
       "      <td>NSW</td>\n",
       "      <td>-0.575479</td>\n",
       "      <td>2.646839</td>\n",
       "      <td>2</td>\n",
       "      <td>-32.9725</td>\n",
       "      <td>151.6527</td>\n",
       "      <td>2021-06-28</td>\n",
       "      <td>2024-07-12</td>\n",
       "      <td>1110</td>\n",
       "    </tr>\n",
       "    <tr>\n",
       "      <th>54</th>\n",
       "      <td>W0013</td>\n",
       "      <td>2226</td>\n",
       "      <td>NSW</td>\n",
       "      <td>-0.593401</td>\n",
       "      <td>2.636562</td>\n",
       "      <td>2</td>\n",
       "      <td>-33.9994</td>\n",
       "      <td>151.0639</td>\n",
       "      <td>2020-10-13</td>\n",
       "      <td>2024-07-12</td>\n",
       "      <td>1368</td>\n",
       "    </tr>\n",
       "    <tr>\n",
       "      <th>317</th>\n",
       "      <td>S0321</td>\n",
       "      <td>2322</td>\n",
       "      <td>NSW</td>\n",
       "      <td>-0.572348</td>\n",
       "      <td>2.647261</td>\n",
       "      <td>2</td>\n",
       "      <td>-32.7931</td>\n",
       "      <td>151.6769</td>\n",
       "      <td>2021-06-03</td>\n",
       "      <td>2024-07-13</td>\n",
       "      <td>1136</td>\n",
       "    </tr>\n",
       "    <tr>\n",
       "      <th>268</th>\n",
       "      <td>S0431</td>\n",
       "      <td>2284</td>\n",
       "      <td>NSW</td>\n",
       "      <td>-0.575620</td>\n",
       "      <td>2.646240</td>\n",
       "      <td>2</td>\n",
       "      <td>-32.9806</td>\n",
       "      <td>151.6184</td>\n",
       "      <td>2021-05-27</td>\n",
       "      <td>2024-07-16</td>\n",
       "      <td>1146</td>\n",
       "    </tr>\n",
       "    <tr>\n",
       "      <th>303</th>\n",
       "      <td>S0170</td>\n",
       "      <td>2307</td>\n",
       "      <td>NSW</td>\n",
       "      <td>-0.573843</td>\n",
       "      <td>2.647507</td>\n",
       "      <td>2</td>\n",
       "      <td>-32.8788</td>\n",
       "      <td>151.6910</td>\n",
       "      <td>2021-03-08</td>\n",
       "      <td>2024-07-16</td>\n",
       "      <td>1226</td>\n",
       "    </tr>\n",
       "    <tr>\n",
       "      <th>...</th>\n",
       "      <td>...</td>\n",
       "      <td>...</td>\n",
       "      <td>...</td>\n",
       "      <td>...</td>\n",
       "      <td>...</td>\n",
       "      <td>...</td>\n",
       "      <td>...</td>\n",
       "      <td>...</td>\n",
       "      <td>...</td>\n",
       "      <td>...</td>\n",
       "      <td>...</td>\n",
       "    </tr>\n",
       "    <tr>\n",
       "      <th>108</th>\n",
       "      <td>W0024</td>\n",
       "      <td>2137</td>\n",
       "      <td>NSW</td>\n",
       "      <td>-0.590914</td>\n",
       "      <td>2.637039</td>\n",
       "      <td>2</td>\n",
       "      <td>-33.8569</td>\n",
       "      <td>151.0912</td>\n",
       "      <td>2021-02-16</td>\n",
       "      <td>2024-09-30</td>\n",
       "      <td>1323</td>\n",
       "    </tr>\n",
       "    <tr>\n",
       "      <th>68</th>\n",
       "      <td>W0324</td>\n",
       "      <td>2170</td>\n",
       "      <td>NSW</td>\n",
       "      <td>-0.592578</td>\n",
       "      <td>2.633693</td>\n",
       "      <td>2</td>\n",
       "      <td>-33.9522</td>\n",
       "      <td>150.8995</td>\n",
       "      <td>2021-02-09</td>\n",
       "      <td>2024-09-30</td>\n",
       "      <td>1329</td>\n",
       "    </tr>\n",
       "    <tr>\n",
       "      <th>208</th>\n",
       "      <td>W0081</td>\n",
       "      <td>2101</td>\n",
       "      <td>NSW</td>\n",
       "      <td>-0.587907</td>\n",
       "      <td>2.640046</td>\n",
       "      <td>2</td>\n",
       "      <td>-33.6846</td>\n",
       "      <td>151.2635</td>\n",
       "      <td>2021-02-09</td>\n",
       "      <td>2024-09-30</td>\n",
       "      <td>1330</td>\n",
       "    </tr>\n",
       "    <tr>\n",
       "      <th>16</th>\n",
       "      <td>W0142</td>\n",
       "      <td>2519</td>\n",
       "      <td>NSW</td>\n",
       "      <td>-0.600196</td>\n",
       "      <td>2.633594</td>\n",
       "      <td>2</td>\n",
       "      <td>-34.3887</td>\n",
       "      <td>150.8938</td>\n",
       "      <td>2021-02-24</td>\n",
       "      <td>2024-09-30</td>\n",
       "      <td>1314</td>\n",
       "    </tr>\n",
       "    <tr>\n",
       "      <th>31</th>\n",
       "      <td>S0081</td>\n",
       "      <td>2233</td>\n",
       "      <td>NSW</td>\n",
       "      <td>-0.594346</td>\n",
       "      <td>2.636069</td>\n",
       "      <td>2</td>\n",
       "      <td>-34.0535</td>\n",
       "      <td>151.0356</td>\n",
       "      <td>2018-01-01</td>\n",
       "      <td>2024-09-30</td>\n",
       "      <td>2465</td>\n",
       "    </tr>\n",
       "  </tbody>\n",
       "</table>\n",
       "<p>148 rows × 11 columns</p>\n",
       "</div>"
      ],
      "text/plain": [
       "    edp_site_id  postcode state       lat      long  cluster  lat_deg  \\\n",
       "271       S0405      2282   NSW -0.575479  2.646839        2 -32.9725   \n",
       "54        W0013      2226   NSW -0.593401  2.636562        2 -33.9994   \n",
       "317       S0321      2322   NSW -0.572348  2.647261        2 -32.7931   \n",
       "268       S0431      2284   NSW -0.575620  2.646240        2 -32.9806   \n",
       "303       S0170      2307   NSW -0.573843  2.647507        2 -32.8788   \n",
       "..          ...       ...   ...       ...       ...      ...      ...   \n",
       "108       W0024      2137   NSW -0.590914  2.637039        2 -33.8569   \n",
       "68        W0324      2170   NSW -0.592578  2.633693        2 -33.9522   \n",
       "208       W0081      2101   NSW -0.587907  2.640046        2 -33.6846   \n",
       "16        W0142      2519   NSW -0.600196  2.633594        2 -34.3887   \n",
       "31        S0081      2233   NSW -0.594346  2.636069        2 -34.0535   \n",
       "\n",
       "     long_deg date_of_first_data date_of_last_data  number_of_days  \n",
       "271  151.6527         2021-06-28        2024-07-12            1110  \n",
       "54   151.0639         2020-10-13        2024-07-12            1368  \n",
       "317  151.6769         2021-06-03        2024-07-13            1136  \n",
       "268  151.6184         2021-05-27        2024-07-16            1146  \n",
       "303  151.6910         2021-03-08        2024-07-16            1226  \n",
       "..        ...                ...               ...             ...  \n",
       "108  151.0912         2021-02-16        2024-09-30            1323  \n",
       "68   150.8995         2021-02-09        2024-09-30            1329  \n",
       "208  151.2635         2021-02-09        2024-09-30            1330  \n",
       "16   150.8938         2021-02-24        2024-09-30            1314  \n",
       "31   151.0356         2018-01-01        2024-09-30            2465  \n",
       "\n",
       "[148 rows x 11 columns]"
      ]
     },
     "execution_count": 53,
     "metadata": {},
     "output_type": "execute_result"
    }
   ],
   "source": [
    "cluster_data"
   ]
  },
  {
   "cell_type": "code",
   "execution_count": 54,
   "id": "0632eebc",
   "metadata": {},
   "outputs": [],
   "source": [
    "cluster_data.to_excel('../../../../data/2. processed/aedp_cluster_2_2_3years.xlsx', index=False)"
   ]
  },
  {
   "cell_type": "code",
   "execution_count": null,
   "id": "e0753a85",
   "metadata": {},
   "outputs": [],
   "source": []
  }
 ],
 "metadata": {
  "kernelspec": {
   "display_name": ".venv (3.12.3)",
   "language": "python",
   "name": "python3"
  },
  "language_info": {
   "codemirror_mode": {
    "name": "ipython",
    "version": 3
   },
   "file_extension": ".py",
   "mimetype": "text/x-python",
   "name": "python",
   "nbconvert_exporter": "python",
   "pygments_lexer": "ipython3",
   "version": "3.12.3"
  }
 },
 "nbformat": 4,
 "nbformat_minor": 5
}
