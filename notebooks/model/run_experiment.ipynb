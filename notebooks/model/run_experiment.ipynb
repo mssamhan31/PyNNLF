{
 "cells": [
  {
   "cell_type": "code",
   "execution_count": 2,
   "metadata": {},
   "outputs": [
    {
     "name": "stdout",
     "output_type": "stream",
     "text": [
      "Pass Test 1 - Forecast horizon is >= dataset frequency\n",
      "Pass Test 2 - Hyperparameter choice is possible given the forecast horizon\n",
      "Processing CV 1 / 10....\n",
      "\n",
      "Processing CV 2 / 10....\n",
      "\n",
      "Processing CV 3 / 10....\n",
      "\n",
      "Processing CV 4 / 10....\n",
      "\n",
      "Processing CV 5 / 10....\n",
      "\n",
      "Processing CV 6 / 10....\n",
      "\n",
      "Processing CV 7 / 10....\n",
      "\n",
      "Processing CV 8 / 10....\n",
      "\n",
      "Processing CV 9 / 10....\n",
      "\n",
      "Processing CV 10 / 10....\n",
      "\n"
     ]
    }
   ],
   "source": [
    "# 1. RUN CONFIG\n",
    "%run \"../config/config.ipynb\"\n",
    "\n",
    "# 2. SETUP FORECAST PROBLEM AND MODEL SPECIFICATION (USER TO INPUT)\n",
    "# FORECAST PROBLEM\n",
    "dataset = ds0\n",
    "forecast_horizon = fh1 # fh1 = 30 minutes ahead, fh9 = 2 days ahead\n",
    "# MODEL SPECIFICATION\n",
    "model_name = m6\n",
    "hyperparameter_no = 'hp1'\n",
    "\n",
    "# 3. PREPARE FOLDER\n",
    "hyperparameter, experiment_no_str, filepath = prepare_directory(path_result, forecast_horizon, model_name, hyperparameter_no)\n",
    "# 4. INPUT DATA\n",
    "block_length, holdout_df, df = input_and_process(path_data_cleaned, forecast_horizon, max_lag_day, n_block)\n",
    "# 5. RUN MODEL\n",
    "run_model(df, model_name, hyperparameter, filepath, forecast_horizon)"
   ]
  },
  {
   "cell_type": "code",
   "execution_count": 1,
   "metadata": {},
   "outputs": [],
   "source": [
    "# RUN THE TOOL\n",
    "def run_experiment(dataset, forecast_horizon, model_name, hyperparameter_no):\n",
    "    # PREPARE FOLDER\n",
    "    hyperparameter, experiment_no_str, filepath = prepare_directory(path_result, forecast_horizon, model_name, hyperparameter_no)\n",
    "    # INPUT DATA\n",
    "    block_length, holdout_df, df = input_and_process(path_data_cleaned, forecast_horizon, max_lag_day, n_block)\n",
    "    # RUN MODEL\n",
    "    run_model(df, model_name, hyperparameter, filepath, forecast_horizon)"
   ]
  },
  {
   "cell_type": "code",
   "execution_count": 2,
   "metadata": {},
   "outputs": [
    {
     "name": "stderr",
     "output_type": "stream",
     "text": [
      "c:\\Users\\z5404477\\Documents\\PyNNLF\\.venv\\Lib\\site-packages\\tqdm\\auto.py:21: TqdmWarning: IProgress not found. Please update jupyter and ipywidgets. See https://ipywidgets.readthedocs.io/en/stable/user_install.html\n",
      "  from .autonotebook import tqdm as notebook_tqdm\n",
      "Importing plotly failed. Interactive plots will not work.\n"
     ]
    },
    {
     "name": "stdout",
     "output_type": "stream",
     "text": [
      "Pass Test 1 - Forecast horizon is >= dataset frequency\n",
      "Pass Test 2 - Hyperparameter choice is possible given the forecast horizon\n",
      "Processing CV 1 / 10....\n",
      "\n",
      "Processing CV 2 / 10....\n",
      "\n",
      "Processing CV 3 / 10....\n",
      "\n",
      "Processing CV 4 / 10....\n",
      "\n",
      "Processing CV 5 / 10....\n",
      "\n",
      "Processing CV 6 / 10....\n",
      "\n",
      "Processing CV 7 / 10....\n",
      "\n",
      "Processing CV 8 / 10....\n",
      "\n",
      "Processing CV 9 / 10....\n",
      "\n",
      "Processing CV 10 / 10....\n",
      "\n"
     ]
    },
    {
     "ename": "NameError",
     "evalue": "name 'experiment_no_str' is not defined",
     "output_type": "error",
     "traceback": [
      "\u001b[1;31m---------------------------------------------------------------------------\u001b[0m",
      "\u001b[1;31mNameError\u001b[0m                                 Traceback (most recent call last)",
      "Cell \u001b[1;32mIn[2], line 12\u001b[0m\n\u001b[0;32m      9\u001b[0m model_name \u001b[38;5;241m=\u001b[39m m6\n\u001b[0;32m     10\u001b[0m hyperparameter_no \u001b[38;5;241m=\u001b[39m \u001b[38;5;124m'\u001b[39m\u001b[38;5;124mhp1\u001b[39m\u001b[38;5;124m'\u001b[39m\n\u001b[1;32m---> 12\u001b[0m \u001b[43mrun_experiment\u001b[49m\u001b[43m(\u001b[49m\u001b[43mdataset\u001b[49m\u001b[43m,\u001b[49m\u001b[43m \u001b[49m\u001b[43mforecast_horizon\u001b[49m\u001b[43m,\u001b[49m\u001b[43m \u001b[49m\u001b[43mmodel_name\u001b[49m\u001b[43m,\u001b[49m\u001b[43m \u001b[49m\u001b[43mhyperparameter_no\u001b[49m\u001b[43m)\u001b[49m\n",
      "Cell \u001b[1;32mIn[1], line 8\u001b[0m, in \u001b[0;36mrun_experiment\u001b[1;34m(dataset, forecast_horizon, model_name, hyperparameter_no)\u001b[0m\n\u001b[0;32m      6\u001b[0m block_length, holdout_df, df \u001b[38;5;241m=\u001b[39m input_and_process(path_data_cleaned, forecast_horizon, max_lag_day, n_block)\n\u001b[0;32m      7\u001b[0m \u001b[38;5;66;03m# RUN MODEL\u001b[39;00m\n\u001b[1;32m----> 8\u001b[0m \u001b[43mrun_model\u001b[49m\u001b[43m(\u001b[49m\u001b[43mdf\u001b[49m\u001b[43m,\u001b[49m\u001b[43m \u001b[49m\u001b[43mmodel_name\u001b[49m\u001b[43m,\u001b[49m\u001b[43m \u001b[49m\u001b[43mhyperparameter\u001b[49m\u001b[43m,\u001b[49m\u001b[43m \u001b[49m\u001b[43mfilepath\u001b[49m\u001b[43m,\u001b[49m\u001b[43m \u001b[49m\u001b[43mforecast_horizon\u001b[49m\u001b[43m)\u001b[49m\n",
      "File \u001b[1;32m~\\AppData\\Local\\Temp\\ipykernel_7936\\2127608182.py:152\u001b[0m, in \u001b[0;36mrun_model\u001b[1;34m(df, model_name, hyperparameter, filepath, forecast_horizon)\u001b[0m\n\u001b[0;32m    126\u001b[0m cross_val_result \u001b[38;5;241m=\u001b[39m pd\u001b[38;5;241m.\u001b[39mDataFrame(\n\u001b[0;32m    127\u001b[0m     {\n\u001b[0;32m    128\u001b[0m         \u001b[38;5;124m\"\u001b[39m\u001b[38;5;124mruntime_ms\u001b[39m\u001b[38;5;124m\"\u001b[39m: [cross_val_result_df[\u001b[38;5;124m'\u001b[39m\u001b[38;5;124mruntime_ms\u001b[39m\u001b[38;5;124m'\u001b[39m]\u001b[38;5;241m.\u001b[39mmean(), cross_val_result_df[\u001b[38;5;124m'\u001b[39m\u001b[38;5;124mruntime_ms\u001b[39m\u001b[38;5;124m'\u001b[39m]\u001b[38;5;241m.\u001b[39mstd()],\n\u001b[1;32m   (...)\u001b[0m\n\u001b[0;32m    146\u001b[0m     index\u001b[38;5;241m=\u001b[39m[\u001b[38;5;124m'\u001b[39m\u001b[38;5;124mmean\u001b[39m\u001b[38;5;124m'\u001b[39m, \u001b[38;5;124m'\u001b[39m\u001b[38;5;124mstddev\u001b[39m\u001b[38;5;124m'\u001b[39m]\n\u001b[0;32m    147\u001b[0m     )\n\u001b[0;32m    149\u001b[0m cross_val_result_df \u001b[38;5;241m=\u001b[39m pd\u001b[38;5;241m.\u001b[39mconcat([cross_val_result_df, cross_val_result], ignore_index\u001b[38;5;241m=\u001b[39m\u001b[38;5;28;01mFalse\u001b[39;00m)\n\u001b[0;32m    151\u001b[0m data_a1 \u001b[38;5;241m=\u001b[39m {\n\u001b[1;32m--> 152\u001b[0m     \u001b[38;5;124m\"\u001b[39m\u001b[38;5;124mexperiment_no\u001b[39m\u001b[38;5;124m\"\u001b[39m: \u001b[43mexperiment_no_str\u001b[49m,\n\u001b[0;32m    153\u001b[0m     \u001b[38;5;124m\"\u001b[39m\u001b[38;5;124mexp_date\u001b[39m\u001b[38;5;124m\"\u001b[39m: datetime\u001b[38;5;241m.\u001b[39mtoday()\u001b[38;5;241m.\u001b[39mstrftime(\u001b[38;5;124m'\u001b[39m\u001b[38;5;124m%\u001b[39m\u001b[38;5;124mY-\u001b[39m\u001b[38;5;124m%\u001b[39m\u001b[38;5;124mm-\u001b[39m\u001b[38;5;132;01m%d\u001b[39;00m\u001b[38;5;124m'\u001b[39m), \u001b[38;5;66;03m#today date in YYYY-MM-DD format\u001b[39;00m\n\u001b[0;32m    154\u001b[0m     \u001b[38;5;124m\"\u001b[39m\u001b[38;5;124mdataset_no\u001b[39m\u001b[38;5;124m\"\u001b[39m: dataset\u001b[38;5;241m.\u001b[39msplit(\u001b[38;5;124m'\u001b[39m\u001b[38;5;124m_\u001b[39m\u001b[38;5;124m'\u001b[39m)[\u001b[38;5;241m0\u001b[39m],\n\u001b[0;32m    155\u001b[0m     \u001b[38;5;124m\"\u001b[39m\u001b[38;5;124mdataset\u001b[39m\u001b[38;5;124m\"\u001b[39m: dataset\u001b[38;5;241m.\u001b[39msplit(\u001b[38;5;124m'\u001b[39m\u001b[38;5;124m_\u001b[39m\u001b[38;5;124m'\u001b[39m)[\u001b[38;5;241m1\u001b[39m]\u001b[38;5;241m.\u001b[39msplit(\u001b[38;5;124m'\u001b[39m\u001b[38;5;124m.\u001b[39m\u001b[38;5;124m'\u001b[39m)[\u001b[38;5;241m0\u001b[39m],\n\u001b[0;32m    156\u001b[0m     \u001b[38;5;124m\"\u001b[39m\u001b[38;5;124mdataset_freq_min\u001b[39m\u001b[38;5;124m\"\u001b[39m: \u001b[38;5;28mint\u001b[39m((df\u001b[38;5;241m.\u001b[39mindex[\u001b[38;5;241m1\u001b[39m] \u001b[38;5;241m-\u001b[39m df\u001b[38;5;241m.\u001b[39mindex[\u001b[38;5;241m0\u001b[39m])\u001b[38;5;241m.\u001b[39mtotal_seconds() \u001b[38;5;241m/\u001b[39m \u001b[38;5;241m60\u001b[39m),\n\u001b[0;32m    157\u001b[0m     \u001b[38;5;124m\"\u001b[39m\u001b[38;5;124mdataset_length_week\u001b[39m\u001b[38;5;124m\"\u001b[39m: block_length \u001b[38;5;241m*\u001b[39m (n_block \u001b[38;5;241m-\u001b[39m \u001b[38;5;241m1\u001b[39m),\n\u001b[0;32m    158\u001b[0m     \u001b[38;5;124m\"\u001b[39m\u001b[38;5;124mforecast_horizon_min\u001b[39m\u001b[38;5;124m\"\u001b[39m: forecast_horizon,\n\u001b[0;32m    159\u001b[0m     \u001b[38;5;124m\"\u001b[39m\u001b[38;5;124mtrain_pct\u001b[39m\u001b[38;5;124m\"\u001b[39m: train_pct,\n\u001b[0;32m    160\u001b[0m     \u001b[38;5;124m\"\u001b[39m\u001b[38;5;124mtest_pct\u001b[39m\u001b[38;5;124m\"\u001b[39m: test_pct,\n\u001b[0;32m    161\u001b[0m     \u001b[38;5;124m\"\u001b[39m\u001b[38;5;124mmodel_no\u001b[39m\u001b[38;5;124m\"\u001b[39m: model_name\u001b[38;5;241m.\u001b[39msplit(\u001b[38;5;124m'\u001b[39m\u001b[38;5;124m_\u001b[39m\u001b[38;5;124m'\u001b[39m)[\u001b[38;5;241m0\u001b[39m],\n\u001b[0;32m    162\u001b[0m     \u001b[38;5;124m\"\u001b[39m\u001b[38;5;124mhyperparameter_no\u001b[39m\u001b[38;5;124m\"\u001b[39m: hyperparameter_no,\n\u001b[0;32m    163\u001b[0m     \u001b[38;5;124m\"\u001b[39m\u001b[38;5;124mmodel_name\u001b[39m\u001b[38;5;124m\"\u001b[39m: model_name \u001b[38;5;241m+\u001b[39m \u001b[38;5;124m'\u001b[39m\u001b[38;5;124m_\u001b[39m\u001b[38;5;124m'\u001b[39m \u001b[38;5;241m+\u001b[39m hyperparameter_no,\n\u001b[0;32m    164\u001b[0m     \u001b[38;5;124m\"\u001b[39m\u001b[38;5;124mhyperparamter\u001b[39m\u001b[38;5;124m\"\u001b[39m: \u001b[38;5;124m'\u001b[39m\u001b[38;5;124m, \u001b[39m\u001b[38;5;124m'\u001b[39m\u001b[38;5;241m.\u001b[39mjoin(\u001b[38;5;124mf\u001b[39m\u001b[38;5;124m\"\u001b[39m\u001b[38;5;132;01m{\u001b[39;00mk\u001b[38;5;132;01m}\u001b[39;00m\u001b[38;5;124m: \u001b[39m\u001b[38;5;132;01m{\u001b[39;00mv\u001b[38;5;132;01m}\u001b[39;00m\u001b[38;5;124m\"\u001b[39m \u001b[38;5;28;01mfor\u001b[39;00m k, v \u001b[38;5;129;01min\u001b[39;00m hyperparameter\u001b[38;5;241m.\u001b[39mitems()),  \n\u001b[0;32m    165\u001b[0m     \u001b[38;5;124m\"\u001b[39m\u001b[38;5;124mruntime_ms\u001b[39m\u001b[38;5;124m\"\u001b[39m: cross_val_result_df\u001b[38;5;241m.\u001b[39mloc[\u001b[38;5;124m'\u001b[39m\u001b[38;5;124mmean\u001b[39m\u001b[38;5;124m'\u001b[39m, \u001b[38;5;124m'\u001b[39m\u001b[38;5;124mruntime_ms\u001b[39m\u001b[38;5;124m'\u001b[39m],\n\u001b[0;32m    166\u001b[0m     \u001b[38;5;124m\"\u001b[39m\u001b[38;5;124mtrain_RMSE\u001b[39m\u001b[38;5;124m\"\u001b[39m: cross_val_result_df\u001b[38;5;241m.\u001b[39mloc[\u001b[38;5;124m'\u001b[39m\u001b[38;5;124mmean\u001b[39m\u001b[38;5;124m'\u001b[39m, \u001b[38;5;124m'\u001b[39m\u001b[38;5;124mtrain_RMSE\u001b[39m\u001b[38;5;124m'\u001b[39m],\n\u001b[0;32m    167\u001b[0m     \u001b[38;5;124m\"\u001b[39m\u001b[38;5;124mtrain_RMSE_stddev\u001b[39m\u001b[38;5;124m\"\u001b[39m: cross_val_result_df\u001b[38;5;241m.\u001b[39mloc[\u001b[38;5;124m'\u001b[39m\u001b[38;5;124mstddev\u001b[39m\u001b[38;5;124m'\u001b[39m, \u001b[38;5;124m'\u001b[39m\u001b[38;5;124mtrain_RMSE\u001b[39m\u001b[38;5;124m'\u001b[39m],\n\u001b[0;32m    168\u001b[0m     \u001b[38;5;124m\"\u001b[39m\u001b[38;5;124mtest_RMSE\u001b[39m\u001b[38;5;124m\"\u001b[39m: cross_val_result_df\u001b[38;5;241m.\u001b[39mloc[\u001b[38;5;124m'\u001b[39m\u001b[38;5;124mmean\u001b[39m\u001b[38;5;124m'\u001b[39m, \u001b[38;5;124m'\u001b[39m\u001b[38;5;124mtest_RMSE\u001b[39m\u001b[38;5;124m'\u001b[39m],\n\u001b[0;32m    169\u001b[0m     \u001b[38;5;124m\"\u001b[39m\u001b[38;5;124mtest_RMSE_stddev\u001b[39m\u001b[38;5;124m\"\u001b[39m: cross_val_result_df\u001b[38;5;241m.\u001b[39mloc[\u001b[38;5;124m'\u001b[39m\u001b[38;5;124mstddev\u001b[39m\u001b[38;5;124m'\u001b[39m, \u001b[38;5;124m'\u001b[39m\u001b[38;5;124mtest_RMSE\u001b[39m\u001b[38;5;124m'\u001b[39m],\n\u001b[0;32m    170\u001b[0m     \u001b[38;5;124m\"\u001b[39m\u001b[38;5;124mtrain_nRMSE\u001b[39m\u001b[38;5;124m\"\u001b[39m: cross_val_result_df\u001b[38;5;241m.\u001b[39mloc[\u001b[38;5;124m'\u001b[39m\u001b[38;5;124mmean\u001b[39m\u001b[38;5;124m'\u001b[39m, \u001b[38;5;124m'\u001b[39m\u001b[38;5;124mtrain_nRMSE\u001b[39m\u001b[38;5;124m'\u001b[39m],\n\u001b[0;32m    171\u001b[0m     \u001b[38;5;124m\"\u001b[39m\u001b[38;5;124mtrain_nRMSE_stddev\u001b[39m\u001b[38;5;124m\"\u001b[39m: cross_val_result_df\u001b[38;5;241m.\u001b[39mloc[\u001b[38;5;124m'\u001b[39m\u001b[38;5;124mstddev\u001b[39m\u001b[38;5;124m'\u001b[39m, \u001b[38;5;124m'\u001b[39m\u001b[38;5;124mtrain_nRMSE\u001b[39m\u001b[38;5;124m'\u001b[39m],\n\u001b[0;32m    172\u001b[0m     \u001b[38;5;124m\"\u001b[39m\u001b[38;5;124mtest_nRMSE\u001b[39m\u001b[38;5;124m\"\u001b[39m: cross_val_result_df\u001b[38;5;241m.\u001b[39mloc[\u001b[38;5;124m'\u001b[39m\u001b[38;5;124mmean\u001b[39m\u001b[38;5;124m'\u001b[39m, \u001b[38;5;124m'\u001b[39m\u001b[38;5;124mtest_nRMSE\u001b[39m\u001b[38;5;124m'\u001b[39m],\n\u001b[0;32m    173\u001b[0m     \u001b[38;5;124m\"\u001b[39m\u001b[38;5;124mtest_nRMSE_stddev\u001b[39m\u001b[38;5;124m\"\u001b[39m: cross_val_result_df\u001b[38;5;241m.\u001b[39mloc[\u001b[38;5;124m'\u001b[39m\u001b[38;5;124mstddev\u001b[39m\u001b[38;5;124m'\u001b[39m, \u001b[38;5;124m'\u001b[39m\u001b[38;5;124mtest_nRMSE\u001b[39m\u001b[38;5;124m'\u001b[39m]\n\u001b[0;32m    174\u001b[0m }\n\u001b[0;32m    176\u001b[0m \u001b[38;5;66;03m# Create a df of experiment result\u001b[39;00m\n\u001b[0;32m    177\u001b[0m df_a1_result \u001b[38;5;241m=\u001b[39m pd\u001b[38;5;241m.\u001b[39mDataFrame([data_a1])\n",
      "\u001b[1;31mNameError\u001b[0m: name 'experiment_no_str' is not defined"
     ]
    }
   ],
   "source": [
    "# 1. RUN CONFIG\n",
    "%run \"../config/config.ipynb\"\n",
    "\n",
    "# 2. SETUP FORECAST PROBLEM AND MODEL SPECIFICATION (USER TO INPUT)\n",
    "# FORECAST PROBLEM\n",
    "dataset = ds0\n",
    "forecast_horizon = fh1 # fh1 = 30 minutes ahead, fh9 = 2 days ahead\n",
    "# MODEL SPECIFICATION\n",
    "model_name = m6\n",
    "hyperparameter_no = 'hp1'\n",
    "\n",
    "run_experiment(dataset, forecast_horizon, model_name, hyperparameter_no)"
   ]
  },
  {
   "cell_type": "code",
   "execution_count": null,
   "metadata": {},
   "outputs": [],
   "source": []
  }
 ],
 "metadata": {
  "kernelspec": {
   "display_name": ".venv (3.12.3)",
   "language": "python",
   "name": "python3"
  },
  "language_info": {
   "codemirror_mode": {
    "name": "ipython",
    "version": 3
   },
   "file_extension": ".py",
   "mimetype": "text/x-python",
   "name": "python",
   "nbconvert_exporter": "python",
   "pygments_lexer": "ipython3",
   "version": "3.12.3"
  }
 },
 "nbformat": 4,
 "nbformat_minor": 2
}
