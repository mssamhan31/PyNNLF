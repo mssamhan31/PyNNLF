{
 "cells": [
  {
   "cell_type": "code",
   "execution_count": null,
   "metadata": {},
   "outputs": [],
   "source": [
    "def train_model_m2_snaive(hyperparameter, train_df_X, train_df_y):\n",
    "    \"\"\"Train a seasonal naive model for point forecasting.\n",
    "\n",
    "    The seasonal naive model does not require training; it forecasts \n",
    "    using lagged values based on seasonal periods.\n",
    "\n",
    "    Args:\n",
    "        hyperparameter (pd.DataFrame): Hyperparameter values, e.g., number of days for seasonality.\n",
    "        train_df_X (pd.DataFrame): Features matrix for training.\n",
    "        train_df_y (pd.DataFrame): Target values for training.\n",
    "\n",
    "    Returns:\n",
    "        model (dict): Trained seasonal naive model object containing the lagged column name.\n",
    "    \"\"\"\n",
    "    \n",
    "    #UNPACK HYPERPARAMETER\n",
    "    days = hyperparameter['days']\n",
    "    col_name = f'y_lag_{days} days 00:00:00m'\n",
    "    \n",
    "    #TRAIN MODEL\n",
    "    #no training is required for seasonal naive model\n",
    "  \n",
    "    # PACK MODEL\n",
    "    model = {\"col_name\": col_name }\n",
    "  \n",
    "\n",
    "    return model"
   ]
  },
  {
   "cell_type": "code",
   "execution_count": null,
   "metadata": {},
   "outputs": [],
   "source": [
    "def produce_forecast_m2_snaive(model, train_df_X, test_df_X):\n",
    "    \"\"\"Generate seasonal naive forecasts for training and test sets.\n",
    "\n",
    "    The seasonal naive model forecasts using the value from the same period \n",
    "    in the previous season (e.g., same day in prior week).\n",
    "\n",
    "    Args:\n",
    "        model (dict): Trained seasonal naive model containing lagged column info.\n",
    "        train_df_X (pd.DataFrame): Predictor data for the training set.\n",
    "        test_df_X (pd.DataFrame): Predictor data for the test set.\n",
    "\n",
    "    Returns:\n",
    "        train_df_y_hat (pd.Series): Forecast results for the training set.\n",
    "        test_df_y_hat (pd.Series): Forecast results for the test set.\n",
    "    \"\"\"\n",
    "    \n",
    "    # UNPACK MODEL\n",
    "    col_name = model['col_name']  #this depends on the lag day\n",
    "      \n",
    "    # PRODUCE FORECAST\n",
    "    train_df_y_hat = train_df_X[col_name]\n",
    "    test_df_y_hat = test_df_X[col_name]\n",
    "    \n",
    "    return train_df_y_hat, test_df_y_hat"
   ]
  }
 ],
 "metadata": {
  "kernelspec": {
   "display_name": ".venv",
   "language": "python",
   "name": "python3"
  },
  "language_info": {
   "codemirror_mode": {
    "name": "ipython",
    "version": 3
   },
   "file_extension": ".py",
   "mimetype": "text/x-python",
   "name": "python",
   "nbconvert_exporter": "python",
   "pygments_lexer": "ipython3",
   "version": "3.12.3"
  }
 },
 "nbformat": 4,
 "nbformat_minor": 2
}
