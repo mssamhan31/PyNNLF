{
 "cells": [
  {
   "cell_type": "code",
   "execution_count": 92,
   "id": "6a76701b",
   "metadata": {},
   "outputs": [
    {
     "name": "stderr",
     "output_type": "stream",
     "text": [
      "c:\\Users\\z5404477\\Documents\\PyNNLF\\.venv\\Lib\\site-packages\\tqdm\\auto.py:21: TqdmWarning: IProgress not found. Please update jupyter and ipywidgets. See https://ipywidgets.readthedocs.io/en/stable/user_install.html\n",
      "  from .autonotebook import tqdm as notebook_tqdm\n",
      "Importing plotly failed. Interactive plots will not work.\n"
     ]
    }
   ],
   "source": [
    "# 1. RUN CONFIG: FUNCTIONS, CONSTANTS, MODELS, ETC\n",
    "%run \"../config/config.ipynb\"\n",
    "\n",
    "list_dataset = [ds0]\n",
    "list_forecast_horizon = [fh1] # 30min ahead\n",
    "\n",
    "list_model_and_hp = [\n",
    "    [m1, 'hp1'],\n",
    "    [m2, 'hp2'],\n",
    "    [m3, 'hp1'],\n",
    "    [m4, 'hp1'],\n",
    "    [m5, 'hp1'],\n",
    "    [m6, 'hp1'],\n",
    "    [m7, 'hp1'],\n",
    "    [m8, 'hp1'],\n",
    "    [m9, 'hp3'],\n",
    "    [m10, 'hp1'],\n",
    "    [m11, 'hp1'],\n",
    "    [m12, 'hp1'],\n",
    "    [m13, 'hp1'],\n",
    "    [m14, 'hp1'],\n",
    "    [m15, 'hp1'],\n",
    "    [m16, 'hp1'],\n",
    "    [m17, 'hp1'],\n",
    "    [m18, 'hp1']\n",
    "]"
   ]
  },
  {
   "cell_type": "code",
   "execution_count": 93,
   "id": "86c9ae14",
   "metadata": {},
   "outputs": [
    {
     "name": "stdout",
     "output_type": "stream",
     "text": [
      "Running m1_naive with hyperparameter hp1 on ds0_test.csv for forecast horizon 30\n",
      "Pass Test 1 - Forecast horizon is >= dataset frequency\n",
      "Pass Test 2 - Hyperparameter choice is possible given the forecast horizon\n",
      "Processing CV 1 / 10....\n",
      "\n",
      "Processing CV 2 / 10....\n",
      "\n",
      "Processing CV 3 / 10....\n",
      "\n",
      "Processing CV 4 / 10....\n",
      "\n",
      "Processing CV 5 / 10....\n",
      "\n",
      "Processing CV 6 / 10....\n",
      "\n",
      "Processing CV 7 / 10....\n",
      "\n",
      "Processing CV 8 / 10....\n",
      "\n",
      "Processing CV 9 / 10....\n",
      "\n",
      "Processing CV 10 / 10....\n",
      "\n",
      "Running m2_snaive with hyperparameter hp2 on ds0_test.csv for forecast horizon 30\n",
      "Pass Test 1 - Forecast horizon is >= dataset frequency\n",
      "Pass Test 2 - Hyperparameter choice is possible given the forecast horizon\n",
      "Processing CV 1 / 10....\n",
      "\n",
      "Processing CV 2 / 10....\n",
      "\n",
      "Processing CV 3 / 10....\n",
      "\n",
      "Processing CV 4 / 10....\n",
      "\n",
      "Processing CV 5 / 10....\n",
      "\n",
      "Processing CV 6 / 10....\n",
      "\n",
      "Processing CV 7 / 10....\n",
      "\n",
      "Processing CV 8 / 10....\n",
      "\n",
      "Processing CV 9 / 10....\n",
      "\n",
      "Processing CV 10 / 10....\n",
      "\n",
      "Running m3_ets with hyperparameter hp1 on ds0_test.csv for forecast horizon 30\n",
      "Pass Test 1 - Forecast horizon is >= dataset frequency\n",
      "Pass Test 2 - Hyperparameter choice is possible given the forecast horizon\n",
      "Processing CV 1 / 10....\n",
      "Processing i =  1  out of  336\n",
      "Processing i =  2  out of  336\n",
      "Processing i =  3  out of  336\n",
      "Processing i =  4  out of  336\n",
      "Processing i =  5  out of  336\n",
      "Processing i =  6  out of  336\n",
      "Processing i =  7  out of  336\n",
      "Processing i =  8  out of  336\n",
      "Processing i =  9  out of  336\n",
      "Processing i =  10  out of  336\n",
      "Processing i =  11  out of  336\n",
      "Processing i =  12  out of  336\n",
      "Processing i =  13  out of  336\n",
      "Processing i =  14  out of  336\n",
      "Processing i =  15  out of  336\n",
      "Processing i =  16  out of  336\n",
      "Processing i =  17  out of  336\n",
      "Processing i =  18  out of  336\n",
      "Processing i =  19  out of  336\n",
      "Processing i =  20  out of  336\n",
      "Processing i =  21  out of  336\n",
      "Processing i =  22  out of  336\n",
      "Processing i =  23  out of  336\n",
      "Processing i =  24  out of  336\n",
      "Processing i =  25  out of  336\n",
      "Processing i =  26  out of  336\n",
      "Processing i =  27  out of  336\n",
      "Processing i =  28  out of  336\n",
      "Processing i =  29  out of  336\n",
      "Processing i =  30  out of  336\n",
      "Processing i =  31  out of  336\n",
      "Processing i =  32  out of  336\n",
      "Processing i =  33  out of  336\n",
      "Processing i =  34  out of  336\n",
      "Processing i =  35  out of  336\n",
      "Processing i =  36  out of  336\n",
      "Processing i =  37  out of  336\n",
      "Processing i =  38  out of  336\n",
      "Processing i =  39  out of  336\n",
      "Processing i =  40  out of  336\n",
      "Processing i =  41  out of  336\n",
      "Processing i =  42  out of  336\n",
      "Processing i =  43  out of  336\n",
      "Processing i =  44  out of  336\n",
      "Processing i =  45  out of  336\n",
      "Processing i =  46  out of  336\n",
      "Processing i =  47  out of  336\n",
      "Processing i =  48  out of  336\n",
      "Processing i =  49  out of  336\n",
      "Processing i =  50  out of  336\n",
      "Processing i =  51  out of  336\n",
      "Processing i =  52  out of  336\n",
      "Processing i =  53  out of  336\n",
      "Processing i =  54  out of  336\n",
      "Processing i =  55  out of  336\n",
      "Processing i =  56  out of  336\n",
      "Processing i =  57  out of  336\n",
      "Processing i =  58  out of  336\n",
      "Processing i =  59  out of  336\n",
      "Processing i =  60  out of  336\n",
      "Processing i =  61  out of  336\n",
      "Processing i =  62  out of  336\n",
      "Processing i =  63  out of  336\n",
      "Processing i =  64  out of  336\n",
      "Processing i =  65  out of  336\n",
      "Processing i =  66  out of  336\n",
      "Processing i =  67  out of  336\n",
      "Processing i =  68  out of  336\n",
      "Processing i =  69  out of  336\n",
      "Processing i =  70  out of  336\n",
      "Processing i =  71  out of  336\n",
      "Processing i =  72  out of  336\n",
      "Processing i =  73  out of  336\n",
      "Processing i =  74  out of  336\n",
      "Processing i =  75  out of  336\n",
      "Processing i =  76  out of  336\n",
      "Processing i =  77  out of  336\n",
      "Processing i =  78  out of  336\n",
      "Processing i =  79  out of  336\n",
      "Processing i =  80  out of  336\n",
      "Processing i =  81  out of  336\n",
      "Processing i =  82  out of  336\n",
      "Processing i =  83  out of  336\n",
      "Processing i =  84  out of  336\n",
      "Processing i =  85  out of  336\n",
      "Processing i =  86  out of  336\n",
      "Processing i =  87  out of  336\n",
      "Processing i =  88  out of  336\n",
      "Processing i =  89  out of  336\n",
      "Processing i =  90  out of  336\n",
      "Processing i =  91  out of  336\n",
      "Processing i =  92  out of  336\n",
      "Processing i =  93  out of  336\n",
      "Processing i =  94  out of  336\n",
      "Processing i =  95  out of  336\n",
      "Processing i =  96  out of  336\n",
      "Processing i =  97  out of  336\n",
      "Processing i =  98  out of  336\n",
      "Processing i =  99  out of  336\n",
      "Processing i =  100  out of  336\n",
      "Processing i =  101  out of  336\n",
      "Processing i =  102  out of  336\n",
      "Processing i =  103  out of  336\n",
      "Processing i =  104  out of  336\n",
      "Processing i =  105  out of  336\n",
      "Processing i =  106  out of  336\n",
      "Processing i =  107  out of  336\n",
      "Processing i =  108  out of  336\n",
      "Processing i =  109  out of  336\n",
      "Processing i =  110  out of  336\n",
      "Processing i =  111  out of  336\n",
      "Processing i =  112  out of  336\n",
      "Processing i =  113  out of  336\n",
      "Processing i =  114  out of  336\n",
      "Processing i =  115  out of  336\n",
      "Processing i =  116  out of  336\n",
      "Processing i =  117  out of  336\n",
      "Processing i =  118  out of  336\n",
      "Processing i =  119  out of  336\n",
      "Processing i =  120  out of  336\n",
      "Processing i =  121  out of  336\n",
      "Processing i =  122  out of  336\n",
      "Processing i =  123  out of  336\n",
      "Processing i =  124  out of  336\n",
      "Processing i =  125  out of  336\n",
      "Processing i =  126  out of  336\n",
      "Processing i =  127  out of  336\n",
      "Processing i =  128  out of  336\n",
      "Processing i =  129  out of  336\n",
      "Processing i =  130  out of  336\n",
      "Processing i =  131  out of  336\n",
      "Processing i =  132  out of  336\n",
      "Processing i =  133  out of  336\n",
      "Processing i =  134  out of  336\n",
      "Processing i =  135  out of  336\n",
      "Processing i =  136  out of  336\n",
      "Processing i =  137  out of  336\n",
      "Processing i =  138  out of  336\n",
      "Processing i =  139  out of  336\n",
      "Processing i =  140  out of  336\n",
      "Processing i =  141  out of  336\n",
      "Processing i =  142  out of  336\n",
      "Processing i =  143  out of  336\n",
      "Processing i =  144  out of  336\n",
      "Processing i =  145  out of  336\n",
      "Processing i =  146  out of  336\n",
      "Processing i =  147  out of  336\n",
      "Processing i =  148  out of  336\n",
      "Processing i =  149  out of  336\n",
      "Processing i =  150  out of  336\n",
      "Processing i =  151  out of  336\n",
      "Processing i =  152  out of  336\n",
      "Processing i =  153  out of  336\n",
      "Processing i =  154  out of  336\n",
      "Processing i =  155  out of  336\n",
      "Processing i =  156  out of  336\n",
      "Processing i =  157  out of  336\n",
      "Processing i =  158  out of  336\n",
      "Processing i =  159  out of  336\n",
      "Processing i =  160  out of  336\n",
      "Processing i =  161  out of  336\n",
      "Processing i =  162  out of  336\n",
      "Processing i =  163  out of  336\n",
      "Processing i =  164  out of  336\n",
      "Processing i =  165  out of  336\n",
      "Processing i =  166  out of  336\n",
      "Processing i =  167  out of  336\n",
      "Processing i =  168  out of  336\n",
      "Processing i =  169  out of  336\n",
      "Processing i =  170  out of  336\n",
      "Processing i =  171  out of  336\n",
      "Processing i =  172  out of  336\n",
      "Processing i =  173  out of  336\n",
      "Processing i =  174  out of  336\n",
      "Processing i =  175  out of  336\n",
      "Processing i =  176  out of  336\n",
      "Processing i =  177  out of  336\n",
      "Processing i =  178  out of  336\n",
      "Processing i =  179  out of  336\n",
      "Processing i =  180  out of  336\n",
      "Processing i =  181  out of  336\n",
      "Processing i =  182  out of  336\n",
      "Processing i =  183  out of  336\n",
      "Processing i =  184  out of  336\n",
      "Processing i =  185  out of  336\n",
      "Processing i =  186  out of  336\n",
      "Processing i =  187  out of  336\n",
      "Processing i =  188  out of  336\n",
      "Processing i =  189  out of  336\n",
      "Processing i =  190  out of  336\n",
      "Processing i =  191  out of  336\n",
      "Processing i =  192  out of  336\n",
      "Processing i =  193  out of  336\n",
      "Processing i =  194  out of  336\n",
      "Processing i =  195  out of  336\n",
      "Processing i =  196  out of  336\n",
      "Processing i =  197  out of  336\n",
      "Processing i =  198  out of  336\n",
      "Processing i =  199  out of  336\n",
      "Processing i =  200  out of  336\n",
      "Processing i =  201  out of  336\n",
      "Processing i =  202  out of  336\n",
      "Processing i =  203  out of  336\n",
      "Processing i =  204  out of  336\n",
      "Processing i =  205  out of  336\n",
      "Processing i =  206  out of  336\n",
      "Processing i =  207  out of  336\n",
      "Processing i =  208  out of  336\n",
      "Processing i =  209  out of  336\n",
      "Processing i =  210  out of  336\n",
      "Processing i =  211  out of  336\n",
      "Processing i =  212  out of  336\n",
      "Processing i =  213  out of  336\n",
      "Processing i =  214  out of  336\n",
      "Processing i =  215  out of  336\n",
      "Processing i =  216  out of  336\n",
      "Processing i =  217  out of  336\n",
      "Processing i =  218  out of  336\n",
      "Processing i =  219  out of  336\n",
      "Processing i =  220  out of  336\n",
      "Processing i =  221  out of  336\n",
      "Processing i =  222  out of  336\n",
      "Processing i =  223  out of  336\n",
      "Processing i =  224  out of  336\n",
      "Processing i =  225  out of  336\n",
      "Processing i =  226  out of  336\n",
      "Processing i =  227  out of  336\n",
      "Processing i =  228  out of  336\n",
      "Processing i =  229  out of  336\n",
      "Processing i =  230  out of  336\n",
      "Processing i =  231  out of  336\n",
      "Processing i =  232  out of  336\n",
      "Processing i =  233  out of  336\n",
      "Processing i =  234  out of  336\n",
      "Processing i =  235  out of  336\n",
      "Processing i =  236  out of  336\n",
      "Processing i =  237  out of  336\n",
      "Processing i =  238  out of  336\n",
      "Processing i =  239  out of  336\n",
      "Processing i =  240  out of  336\n",
      "Processing i =  241  out of  336\n",
      "Processing i =  242  out of  336\n",
      "Processing i =  243  out of  336\n",
      "Processing i =  244  out of  336\n",
      "Processing i =  245  out of  336\n",
      "Processing i =  246  out of  336\n",
      "Processing i =  247  out of  336\n",
      "Processing i =  248  out of  336\n",
      "Processing i =  249  out of  336\n",
      "Processing i =  250  out of  336\n",
      "Processing i =  251  out of  336\n",
      "Processing i =  252  out of  336\n",
      "Processing i =  253  out of  336\n",
      "Processing i =  254  out of  336\n",
      "Processing i =  255  out of  336\n",
      "Processing i =  256  out of  336\n",
      "Processing i =  257  out of  336\n",
      "Processing i =  258  out of  336\n",
      "Processing i =  259  out of  336\n",
      "Processing i =  260  out of  336\n",
      "Processing i =  261  out of  336\n",
      "Processing i =  262  out of  336\n",
      "Processing i =  263  out of  336\n",
      "Processing i =  264  out of  336\n",
      "Processing i =  265  out of  336\n",
      "Processing i =  266  out of  336\n",
      "Processing i =  267  out of  336\n",
      "Processing i =  268  out of  336\n",
      "Processing i =  269  out of  336\n",
      "Processing i =  270  out of  336\n",
      "Processing i =  271  out of  336\n",
      "Processing i =  272  out of  336\n",
      "Processing i =  273  out of  336\n",
      "Processing i =  274  out of  336\n",
      "Processing i =  275  out of  336\n",
      "Processing i =  276  out of  336\n",
      "Processing i =  277  out of  336\n",
      "Processing i =  278  out of  336\n",
      "Processing i =  279  out of  336\n",
      "Processing i =  280  out of  336\n",
      "Processing i =  281  out of  336\n",
      "Processing i =  282  out of  336\n",
      "Processing i =  283  out of  336\n",
      "Processing i =  284  out of  336\n",
      "Processing i =  285  out of  336\n",
      "Processing i =  286  out of  336\n",
      "Processing i =  287  out of  336\n",
      "Processing i =  288  out of  336\n",
      "Processing i =  289  out of  336\n",
      "Processing i =  290  out of  336\n",
      "Processing i =  291  out of  336\n",
      "Processing i =  292  out of  336\n",
      "Processing i =  293  out of  336\n",
      "Processing i =  294  out of  336\n",
      "Processing i =  295  out of  336\n",
      "Processing i =  296  out of  336\n",
      "Processing i =  297  out of  336\n",
      "Processing i =  298  out of  336\n",
      "Processing i =  299  out of  336\n",
      "Processing i =  300  out of  336\n",
      "Processing i =  301  out of  336\n",
      "Processing i =  302  out of  336\n",
      "Processing i =  303  out of  336\n",
      "Processing i =  304  out of  336\n",
      "Processing i =  305  out of  336\n",
      "Processing i =  306  out of  336\n",
      "Processing i =  307  out of  336\n",
      "Processing i =  308  out of  336\n",
      "Processing i =  309  out of  336\n",
      "Processing i =  310  out of  336\n",
      "Processing i =  311  out of  336\n",
      "Processing i =  312  out of  336\n",
      "Processing i =  313  out of  336\n",
      "Processing i =  314  out of  336\n",
      "Processing i =  315  out of  336\n",
      "Processing i =  316  out of  336\n",
      "Processing i =  317  out of  336\n",
      "Processing i =  318  out of  336\n",
      "Processing i =  319  out of  336\n",
      "Processing i =  320  out of  336\n",
      "Processing i =  321  out of  336\n",
      "Processing i =  322  out of  336\n",
      "Processing i =  323  out of  336\n",
      "Processing i =  324  out of  336\n",
      "Processing i =  325  out of  336\n",
      "Processing i =  326  out of  336\n",
      "Processing i =  327  out of  336\n",
      "Processing i =  328  out of  336\n",
      "Processing i =  329  out of  336\n",
      "Processing i =  330  out of  336\n",
      "Processing i =  331  out of  336\n",
      "Processing i =  332  out of  336\n",
      "Processing i =  333  out of  336\n",
      "Processing i =  334  out of  336\n",
      "Processing i =  335  out of  336\n",
      "Processing i =  336  out of  336\n",
      "\n",
      "Processing CV 2 / 10....\n",
      "Processing i =  1  out of  336\n",
      "Processing i =  2  out of  336\n",
      "Processing i =  3  out of  336\n",
      "Processing i =  4  out of  336\n",
      "Processing i =  5  out of  336\n",
      "Processing i =  6  out of  336\n",
      "Processing i =  7  out of  336\n",
      "Processing i =  8  out of  336\n",
      "Processing i =  9  out of  336\n",
      "Processing i =  10  out of  336\n",
      "Processing i =  11  out of  336\n",
      "Processing i =  12  out of  336\n",
      "Processing i =  13  out of  336\n",
      "Processing i =  14  out of  336\n",
      "Processing i =  15  out of  336\n",
      "Processing i =  16  out of  336\n",
      "Processing i =  17  out of  336\n",
      "Processing i =  18  out of  336\n",
      "Processing i =  19  out of  336\n",
      "Processing i =  20  out of  336\n",
      "Processing i =  21  out of  336\n",
      "Processing i =  22  out of  336\n",
      "Processing i =  23  out of  336\n",
      "Processing i =  24  out of  336\n",
      "Processing i =  25  out of  336\n",
      "Processing i =  26  out of  336\n",
      "Processing i =  27  out of  336\n",
      "Processing i =  28  out of  336\n",
      "Processing i =  29  out of  336\n",
      "Processing i =  30  out of  336\n",
      "Processing i =  31  out of  336\n",
      "Processing i =  32  out of  336\n",
      "Processing i =  33  out of  336\n",
      "Processing i =  34  out of  336\n",
      "Processing i =  35  out of  336\n",
      "Processing i =  36  out of  336\n",
      "Processing i =  37  out of  336\n",
      "Processing i =  38  out of  336\n",
      "Processing i =  39  out of  336\n",
      "Processing i =  40  out of  336\n",
      "Processing i =  41  out of  336\n",
      "Processing i =  42  out of  336\n",
      "Processing i =  43  out of  336\n",
      "Processing i =  44  out of  336\n",
      "Processing i =  45  out of  336\n",
      "Processing i =  46  out of  336\n",
      "Processing i =  47  out of  336\n",
      "Processing i =  48  out of  336\n",
      "Processing i =  49  out of  336\n",
      "Processing i =  50  out of  336\n",
      "Processing i =  51  out of  336\n",
      "Processing i =  52  out of  336\n",
      "Processing i =  53  out of  336\n",
      "Processing i =  54  out of  336\n",
      "Processing i =  55  out of  336\n",
      "Processing i =  56  out of  336\n",
      "Processing i =  57  out of  336\n",
      "Processing i =  58  out of  336\n",
      "Processing i =  59  out of  336\n",
      "Processing i =  60  out of  336\n",
      "Processing i =  61  out of  336\n",
      "Processing i =  62  out of  336\n",
      "Processing i =  63  out of  336\n",
      "Processing i =  64  out of  336\n",
      "Processing i =  65  out of  336\n",
      "Processing i =  66  out of  336\n",
      "Processing i =  67  out of  336\n",
      "Processing i =  68  out of  336\n",
      "Processing i =  69  out of  336\n",
      "Processing i =  70  out of  336\n",
      "Processing i =  71  out of  336\n",
      "Processing i =  72  out of  336\n",
      "Processing i =  73  out of  336\n",
      "Processing i =  74  out of  336\n",
      "Processing i =  75  out of  336\n",
      "Processing i =  76  out of  336\n",
      "Processing i =  77  out of  336\n",
      "Processing i =  78  out of  336\n",
      "Processing i =  79  out of  336\n",
      "Processing i =  80  out of  336\n",
      "Processing i =  81  out of  336\n",
      "Processing i =  82  out of  336\n",
      "Processing i =  83  out of  336\n",
      "Processing i =  84  out of  336\n",
      "Processing i =  85  out of  336\n",
      "Processing i =  86  out of  336\n",
      "Processing i =  87  out of  336\n",
      "Processing i =  88  out of  336\n",
      "Processing i =  89  out of  336\n",
      "Processing i =  90  out of  336\n",
      "Processing i =  91  out of  336\n",
      "Processing i =  92  out of  336\n",
      "Processing i =  93  out of  336\n",
      "Processing i =  94  out of  336\n",
      "Processing i =  95  out of  336\n",
      "Processing i =  96  out of  336\n",
      "Processing i =  97  out of  336\n",
      "Processing i =  98  out of  336\n",
      "Processing i =  99  out of  336\n",
      "Processing i =  100  out of  336\n",
      "Processing i =  101  out of  336\n",
      "Processing i =  102  out of  336\n",
      "Processing i =  103  out of  336\n",
      "Processing i =  104  out of  336\n",
      "Processing i =  105  out of  336\n",
      "Processing i =  106  out of  336\n",
      "Processing i =  107  out of  336\n",
      "Processing i =  108  out of  336\n",
      "Processing i =  109  out of  336\n",
      "Processing i =  110  out of  336\n",
      "Processing i =  111  out of  336\n",
      "Processing i =  112  out of  336\n",
      "Processing i =  113  out of  336\n",
      "Processing i =  114  out of  336\n",
      "Processing i =  115  out of  336\n",
      "Processing i =  116  out of  336\n",
      "Processing i =  117  out of  336\n",
      "Processing i =  118  out of  336\n",
      "Processing i =  119  out of  336\n",
      "Processing i =  120  out of  336\n",
      "Processing i =  121  out of  336\n",
      "Processing i =  122  out of  336\n",
      "Processing i =  123  out of  336\n",
      "Processing i =  124  out of  336\n",
      "Processing i =  125  out of  336\n",
      "Processing i =  126  out of  336\n",
      "Processing i =  127  out of  336\n",
      "Processing i =  128  out of  336\n",
      "Processing i =  129  out of  336\n",
      "Processing i =  130  out of  336\n",
      "Processing i =  131  out of  336\n",
      "Processing i =  132  out of  336\n",
      "Processing i =  133  out of  336\n",
      "Processing i =  134  out of  336\n",
      "Processing i =  135  out of  336\n",
      "Processing i =  136  out of  336\n",
      "Processing i =  137  out of  336\n",
      "Processing i =  138  out of  336\n",
      "Processing i =  139  out of  336\n",
      "Processing i =  140  out of  336\n",
      "Processing i =  141  out of  336\n",
      "Processing i =  142  out of  336\n",
      "Processing i =  143  out of  336\n",
      "Processing i =  144  out of  336\n",
      "Processing i =  145  out of  336\n",
      "Processing i =  146  out of  336\n",
      "Processing i =  147  out of  336\n",
      "Processing i =  148  out of  336\n",
      "Processing i =  149  out of  336\n",
      "Processing i =  150  out of  336\n",
      "Processing i =  151  out of  336\n",
      "Processing i =  152  out of  336\n",
      "Processing i =  153  out of  336\n",
      "Processing i =  154  out of  336\n",
      "Processing i =  155  out of  336\n",
      "Processing i =  156  out of  336\n",
      "Processing i =  157  out of  336\n",
      "Processing i =  158  out of  336\n",
      "Processing i =  159  out of  336\n",
      "Processing i =  160  out of  336\n",
      "Processing i =  161  out of  336\n",
      "Processing i =  162  out of  336\n",
      "Processing i =  163  out of  336\n",
      "Processing i =  164  out of  336\n",
      "Processing i =  165  out of  336\n",
      "Processing i =  166  out of  336\n",
      "Processing i =  167  out of  336\n",
      "Processing i =  168  out of  336\n",
      "Processing i =  169  out of  336\n",
      "Processing i =  170  out of  336\n",
      "Processing i =  171  out of  336\n",
      "Processing i =  172  out of  336\n",
      "Processing i =  173  out of  336\n",
      "Processing i =  174  out of  336\n",
      "Processing i =  175  out of  336\n",
      "Processing i =  176  out of  336\n",
      "Processing i =  177  out of  336\n",
      "Processing i =  178  out of  336\n",
      "Processing i =  179  out of  336\n",
      "Processing i =  180  out of  336\n",
      "Processing i =  181  out of  336\n",
      "Processing i =  182  out of  336\n",
      "Processing i =  183  out of  336\n",
      "Processing i =  184  out of  336\n",
      "Processing i =  185  out of  336\n",
      "Processing i =  186  out of  336\n",
      "Processing i =  187  out of  336\n",
      "Processing i =  188  out of  336\n",
      "Processing i =  189  out of  336\n",
      "Processing i =  190  out of  336\n",
      "Processing i =  191  out of  336\n",
      "Processing i =  192  out of  336\n",
      "Processing i =  193  out of  336\n",
      "Processing i =  194  out of  336\n",
      "Processing i =  195  out of  336\n",
      "Processing i =  196  out of  336\n",
      "Processing i =  197  out of  336\n",
      "Processing i =  198  out of  336\n",
      "Processing i =  199  out of  336\n",
      "Processing i =  200  out of  336\n",
      "Processing i =  201  out of  336\n",
      "Processing i =  202  out of  336\n",
      "Processing i =  203  out of  336\n",
      "Processing i =  204  out of  336\n",
      "Processing i =  205  out of  336\n",
      "Processing i =  206  out of  336\n",
      "Processing i =  207  out of  336\n",
      "Processing i =  208  out of  336\n",
      "Processing i =  209  out of  336\n",
      "Processing i =  210  out of  336\n",
      "Processing i =  211  out of  336\n",
      "Processing i =  212  out of  336\n",
      "Processing i =  213  out of  336\n",
      "Processing i =  214  out of  336\n",
      "Processing i =  215  out of  336\n",
      "Processing i =  216  out of  336\n",
      "Processing i =  217  out of  336\n",
      "Processing i =  218  out of  336\n",
      "Processing i =  219  out of  336\n",
      "Processing i =  220  out of  336\n",
      "Processing i =  221  out of  336\n",
      "Processing i =  222  out of  336\n",
      "Processing i =  223  out of  336\n",
      "Processing i =  224  out of  336\n",
      "Processing i =  225  out of  336\n",
      "Processing i =  226  out of  336\n",
      "Processing i =  227  out of  336\n",
      "Processing i =  228  out of  336\n",
      "Processing i =  229  out of  336\n",
      "Processing i =  230  out of  336\n",
      "Processing i =  231  out of  336\n",
      "Processing i =  232  out of  336\n",
      "Processing i =  233  out of  336\n",
      "Processing i =  234  out of  336\n",
      "Processing i =  235  out of  336\n",
      "Processing i =  236  out of  336\n",
      "Processing i =  237  out of  336\n",
      "Processing i =  238  out of  336\n",
      "Processing i =  239  out of  336\n",
      "Processing i =  240  out of  336\n",
      "Processing i =  241  out of  336\n",
      "Processing i =  242  out of  336\n",
      "Processing i =  243  out of  336\n",
      "Processing i =  244  out of  336\n",
      "Processing i =  245  out of  336\n",
      "Processing i =  246  out of  336\n",
      "Processing i =  247  out of  336\n",
      "Processing i =  248  out of  336\n",
      "Processing i =  249  out of  336\n",
      "Processing i =  250  out of  336\n",
      "Processing i =  251  out of  336\n",
      "Processing i =  252  out of  336\n",
      "Processing i =  253  out of  336\n",
      "Processing i =  254  out of  336\n",
      "Processing i =  255  out of  336\n",
      "Processing i =  256  out of  336\n",
      "Processing i =  257  out of  336\n",
      "Processing i =  258  out of  336\n",
      "Processing i =  259  out of  336\n",
      "Processing i =  260  out of  336\n",
      "Processing i =  261  out of  336\n",
      "Processing i =  262  out of  336\n",
      "Processing i =  263  out of  336\n",
      "Processing i =  264  out of  336\n",
      "Processing i =  265  out of  336\n",
      "Processing i =  266  out of  336\n",
      "Processing i =  267  out of  336\n",
      "Processing i =  268  out of  336\n",
      "Processing i =  269  out of  336\n",
      "Processing i =  270  out of  336\n",
      "Processing i =  271  out of  336\n",
      "Processing i =  272  out of  336\n",
      "Processing i =  273  out of  336\n",
      "Processing i =  274  out of  336\n",
      "Processing i =  275  out of  336\n",
      "Processing i =  276  out of  336\n",
      "Processing i =  277  out of  336\n",
      "Processing i =  278  out of  336\n",
      "Processing i =  279  out of  336\n",
      "Processing i =  280  out of  336\n",
      "Processing i =  281  out of  336\n",
      "Processing i =  282  out of  336\n",
      "Processing i =  283  out of  336\n",
      "Processing i =  284  out of  336\n",
      "Processing i =  285  out of  336\n",
      "Processing i =  286  out of  336\n",
      "Processing i =  287  out of  336\n",
      "Processing i =  288  out of  336\n",
      "Processing i =  289  out of  336\n",
      "Processing i =  290  out of  336\n",
      "Processing i =  291  out of  336\n",
      "Processing i =  292  out of  336\n",
      "Processing i =  293  out of  336\n",
      "Processing i =  294  out of  336\n",
      "Processing i =  295  out of  336\n",
      "Processing i =  296  out of  336\n",
      "Processing i =  297  out of  336\n",
      "Processing i =  298  out of  336\n",
      "Processing i =  299  out of  336\n",
      "Processing i =  300  out of  336\n",
      "Processing i =  301  out of  336\n",
      "Processing i =  302  out of  336\n",
      "Processing i =  303  out of  336\n",
      "Processing i =  304  out of  336\n",
      "Processing i =  305  out of  336\n",
      "Processing i =  306  out of  336\n",
      "Processing i =  307  out of  336\n",
      "Processing i =  308  out of  336\n",
      "Processing i =  309  out of  336\n",
      "Processing i =  310  out of  336\n",
      "Processing i =  311  out of  336\n",
      "Processing i =  312  out of  336\n",
      "Processing i =  313  out of  336\n",
      "Processing i =  314  out of  336\n",
      "Processing i =  315  out of  336\n",
      "Processing i =  316  out of  336\n",
      "Processing i =  317  out of  336\n",
      "Processing i =  318  out of  336\n",
      "Processing i =  319  out of  336\n",
      "Processing i =  320  out of  336\n",
      "Processing i =  321  out of  336\n",
      "Processing i =  322  out of  336\n",
      "Processing i =  323  out of  336\n",
      "Processing i =  324  out of  336\n",
      "Processing i =  325  out of  336\n",
      "Processing i =  326  out of  336\n",
      "Processing i =  327  out of  336\n",
      "Processing i =  328  out of  336\n",
      "Processing i =  329  out of  336\n",
      "Processing i =  330  out of  336\n",
      "Processing i =  331  out of  336\n",
      "Processing i =  332  out of  336\n",
      "Processing i =  333  out of  336\n",
      "Processing i =  334  out of  336\n",
      "Processing i =  335  out of  336\n",
      "Processing i =  336  out of  336\n",
      "\n",
      "Processing CV 3 / 10....\n",
      "Processing i =  1  out of  336\n",
      "Processing i =  2  out of  336\n",
      "Processing i =  3  out of  336\n",
      "Processing i =  4  out of  336\n",
      "Processing i =  5  out of  336\n",
      "Processing i =  6  out of  336\n",
      "Processing i =  7  out of  336\n",
      "Processing i =  8  out of  336\n",
      "Processing i =  9  out of  336\n",
      "Processing i =  10  out of  336\n",
      "Processing i =  11  out of  336\n",
      "Processing i =  12  out of  336\n",
      "Processing i =  13  out of  336\n",
      "Processing i =  14  out of  336\n",
      "Processing i =  15  out of  336\n",
      "Processing i =  16  out of  336\n",
      "Processing i =  17  out of  336\n",
      "Processing i =  18  out of  336\n",
      "Processing i =  19  out of  336\n",
      "Processing i =  20  out of  336\n",
      "Processing i =  21  out of  336\n",
      "Processing i =  22  out of  336\n",
      "Processing i =  23  out of  336\n",
      "Processing i =  24  out of  336\n",
      "Processing i =  25  out of  336\n",
      "Processing i =  26  out of  336\n",
      "Processing i =  27  out of  336\n",
      "Processing i =  28  out of  336\n",
      "Processing i =  29  out of  336\n",
      "Processing i =  30  out of  336\n",
      "Processing i =  31  out of  336\n",
      "Processing i =  32  out of  336\n",
      "Processing i =  33  out of  336\n",
      "Processing i =  34  out of  336\n",
      "Processing i =  35  out of  336\n",
      "Processing i =  36  out of  336\n",
      "Processing i =  37  out of  336\n",
      "Processing i =  38  out of  336\n",
      "Processing i =  39  out of  336\n",
      "Processing i =  40  out of  336\n",
      "Processing i =  41  out of  336\n",
      "Processing i =  42  out of  336\n",
      "Processing i =  43  out of  336\n",
      "Processing i =  44  out of  336\n",
      "Processing i =  45  out of  336\n",
      "Processing i =  46  out of  336\n",
      "Processing i =  47  out of  336\n",
      "Processing i =  48  out of  336\n",
      "Processing i =  49  out of  336\n",
      "Processing i =  50  out of  336\n",
      "Processing i =  51  out of  336\n",
      "Processing i =  52  out of  336\n",
      "Processing i =  53  out of  336\n",
      "Processing i =  54  out of  336\n",
      "Processing i =  55  out of  336\n",
      "Processing i =  56  out of  336\n",
      "Processing i =  57  out of  336\n",
      "Processing i =  58  out of  336\n",
      "Processing i =  59  out of  336\n",
      "Processing i =  60  out of  336\n",
      "Processing i =  61  out of  336\n",
      "Processing i =  62  out of  336\n",
      "Processing i =  63  out of  336\n",
      "Processing i =  64  out of  336\n",
      "Processing i =  65  out of  336\n",
      "Processing i =  66  out of  336\n",
      "Processing i =  67  out of  336\n",
      "Processing i =  68  out of  336\n",
      "Processing i =  69  out of  336\n",
      "Processing i =  70  out of  336\n",
      "Processing i =  71  out of  336\n",
      "Processing i =  72  out of  336\n",
      "Processing i =  73  out of  336\n",
      "Processing i =  74  out of  336\n",
      "Processing i =  75  out of  336\n",
      "Processing i =  76  out of  336\n",
      "Processing i =  77  out of  336\n",
      "Processing i =  78  out of  336\n",
      "Processing i =  79  out of  336\n",
      "Processing i =  80  out of  336\n",
      "Processing i =  81  out of  336\n",
      "Processing i =  82  out of  336\n",
      "Processing i =  83  out of  336\n",
      "Processing i =  84  out of  336\n",
      "Processing i =  85  out of  336\n",
      "Processing i =  86  out of  336\n",
      "Processing i =  87  out of  336\n",
      "Processing i =  88  out of  336\n",
      "Processing i =  89  out of  336\n",
      "Processing i =  90  out of  336\n",
      "Processing i =  91  out of  336\n",
      "Processing i =  92  out of  336\n",
      "Processing i =  93  out of  336\n",
      "Processing i =  94  out of  336\n",
      "Processing i =  95  out of  336\n",
      "Processing i =  96  out of  336\n",
      "Processing i =  97  out of  336\n",
      "Processing i =  98  out of  336\n",
      "Processing i =  99  out of  336\n",
      "Processing i =  100  out of  336\n",
      "Processing i =  101  out of  336\n",
      "Processing i =  102  out of  336\n",
      "Processing i =  103  out of  336\n",
      "Processing i =  104  out of  336\n",
      "Processing i =  105  out of  336\n",
      "Processing i =  106  out of  336\n",
      "Processing i =  107  out of  336\n",
      "Processing i =  108  out of  336\n",
      "Processing i =  109  out of  336\n",
      "Processing i =  110  out of  336\n",
      "Processing i =  111  out of  336\n",
      "Processing i =  112  out of  336\n",
      "Processing i =  113  out of  336\n",
      "Processing i =  114  out of  336\n",
      "Processing i =  115  out of  336\n",
      "Processing i =  116  out of  336\n",
      "Processing i =  117  out of  336\n",
      "Processing i =  118  out of  336\n",
      "Processing i =  119  out of  336\n",
      "Processing i =  120  out of  336\n",
      "Processing i =  121  out of  336\n",
      "Processing i =  122  out of  336\n",
      "Processing i =  123  out of  336\n",
      "Processing i =  124  out of  336\n",
      "Processing i =  125  out of  336\n",
      "Processing i =  126  out of  336\n",
      "Processing i =  127  out of  336\n",
      "Processing i =  128  out of  336\n",
      "Processing i =  129  out of  336\n",
      "Processing i =  130  out of  336\n",
      "Processing i =  131  out of  336\n",
      "Processing i =  132  out of  336\n",
      "Processing i =  133  out of  336\n",
      "Processing i =  134  out of  336\n",
      "Processing i =  135  out of  336\n",
      "Processing i =  136  out of  336\n",
      "Processing i =  137  out of  336\n",
      "Processing i =  138  out of  336\n",
      "Processing i =  139  out of  336\n",
      "Processing i =  140  out of  336\n",
      "Processing i =  141  out of  336\n",
      "Processing i =  142  out of  336\n",
      "Processing i =  143  out of  336\n",
      "Processing i =  144  out of  336\n",
      "Processing i =  145  out of  336\n",
      "Processing i =  146  out of  336\n",
      "Processing i =  147  out of  336\n",
      "Processing i =  148  out of  336\n",
      "Processing i =  149  out of  336\n",
      "Processing i =  150  out of  336\n",
      "Processing i =  151  out of  336\n",
      "Processing i =  152  out of  336\n",
      "Processing i =  153  out of  336\n",
      "Processing i =  154  out of  336\n",
      "Processing i =  155  out of  336\n",
      "Processing i =  156  out of  336\n",
      "Processing i =  157  out of  336\n",
      "Processing i =  158  out of  336\n",
      "Processing i =  159  out of  336\n",
      "Processing i =  160  out of  336\n",
      "Processing i =  161  out of  336\n",
      "Processing i =  162  out of  336\n",
      "Processing i =  163  out of  336\n",
      "Processing i =  164  out of  336\n",
      "Processing i =  165  out of  336\n",
      "Processing i =  166  out of  336\n",
      "Processing i =  167  out of  336\n",
      "Processing i =  168  out of  336\n",
      "Processing i =  169  out of  336\n",
      "Processing i =  170  out of  336\n",
      "Processing i =  171  out of  336\n",
      "Processing i =  172  out of  336\n",
      "Processing i =  173  out of  336\n",
      "Processing i =  174  out of  336\n",
      "Processing i =  175  out of  336\n",
      "Processing i =  176  out of  336\n",
      "Processing i =  177  out of  336\n",
      "Processing i =  178  out of  336\n",
      "Processing i =  179  out of  336\n",
      "Processing i =  180  out of  336\n",
      "Processing i =  181  out of  336\n",
      "Processing i =  182  out of  336\n",
      "Processing i =  183  out of  336\n",
      "Processing i =  184  out of  336\n",
      "Processing i =  185  out of  336\n",
      "Processing i =  186  out of  336\n",
      "Processing i =  187  out of  336\n",
      "Processing i =  188  out of  336\n",
      "Processing i =  189  out of  336\n",
      "Processing i =  190  out of  336\n",
      "Processing i =  191  out of  336\n",
      "Processing i =  192  out of  336\n",
      "Processing i =  193  out of  336\n",
      "Processing i =  194  out of  336\n",
      "Processing i =  195  out of  336\n",
      "Processing i =  196  out of  336\n",
      "Processing i =  197  out of  336\n",
      "Processing i =  198  out of  336\n",
      "Processing i =  199  out of  336\n",
      "Processing i =  200  out of  336\n",
      "Processing i =  201  out of  336\n",
      "Processing i =  202  out of  336\n",
      "Processing i =  203  out of  336\n",
      "Processing i =  204  out of  336\n",
      "Processing i =  205  out of  336\n",
      "Processing i =  206  out of  336\n",
      "Processing i =  207  out of  336\n",
      "Processing i =  208  out of  336\n",
      "Processing i =  209  out of  336\n",
      "Processing i =  210  out of  336\n",
      "Processing i =  211  out of  336\n",
      "Processing i =  212  out of  336\n",
      "Processing i =  213  out of  336\n",
      "Processing i =  214  out of  336\n",
      "Processing i =  215  out of  336\n",
      "Processing i =  216  out of  336\n",
      "Processing i =  217  out of  336\n",
      "Processing i =  218  out of  336\n",
      "Processing i =  219  out of  336\n",
      "Processing i =  220  out of  336\n",
      "Processing i =  221  out of  336\n",
      "Processing i =  222  out of  336\n",
      "Processing i =  223  out of  336\n",
      "Processing i =  224  out of  336\n",
      "Processing i =  225  out of  336\n",
      "Processing i =  226  out of  336\n",
      "Processing i =  227  out of  336\n",
      "Processing i =  228  out of  336\n",
      "Processing i =  229  out of  336\n",
      "Processing i =  230  out of  336\n",
      "Processing i =  231  out of  336\n",
      "Processing i =  232  out of  336\n",
      "Processing i =  233  out of  336\n",
      "Processing i =  234  out of  336\n",
      "Processing i =  235  out of  336\n",
      "Processing i =  236  out of  336\n",
      "Processing i =  237  out of  336\n",
      "Processing i =  238  out of  336\n",
      "Processing i =  239  out of  336\n",
      "Processing i =  240  out of  336\n",
      "Processing i =  241  out of  336\n",
      "Processing i =  242  out of  336\n",
      "Processing i =  243  out of  336\n",
      "Processing i =  244  out of  336\n",
      "Processing i =  245  out of  336\n",
      "Processing i =  246  out of  336\n",
      "Processing i =  247  out of  336\n",
      "Processing i =  248  out of  336\n",
      "Processing i =  249  out of  336\n",
      "Processing i =  250  out of  336\n",
      "Processing i =  251  out of  336\n",
      "Processing i =  252  out of  336\n",
      "Processing i =  253  out of  336\n",
      "Processing i =  254  out of  336\n",
      "Processing i =  255  out of  336\n",
      "Processing i =  256  out of  336\n",
      "Processing i =  257  out of  336\n",
      "Processing i =  258  out of  336\n",
      "Processing i =  259  out of  336\n",
      "Processing i =  260  out of  336\n",
      "Processing i =  261  out of  336\n",
      "Processing i =  262  out of  336\n",
      "Processing i =  263  out of  336\n",
      "Processing i =  264  out of  336\n",
      "Processing i =  265  out of  336\n",
      "Processing i =  266  out of  336\n",
      "Processing i =  267  out of  336\n",
      "Processing i =  268  out of  336\n",
      "Processing i =  269  out of  336\n",
      "Processing i =  270  out of  336\n",
      "Processing i =  271  out of  336\n",
      "Processing i =  272  out of  336\n",
      "Processing i =  273  out of  336\n",
      "Processing i =  274  out of  336\n",
      "Processing i =  275  out of  336\n",
      "Processing i =  276  out of  336\n",
      "Processing i =  277  out of  336\n",
      "Processing i =  278  out of  336\n",
      "Processing i =  279  out of  336\n",
      "Processing i =  280  out of  336\n",
      "Processing i =  281  out of  336\n",
      "Processing i =  282  out of  336\n",
      "Processing i =  283  out of  336\n",
      "Processing i =  284  out of  336\n",
      "Processing i =  285  out of  336\n",
      "Processing i =  286  out of  336\n",
      "Processing i =  287  out of  336\n",
      "Processing i =  288  out of  336\n",
      "Processing i =  289  out of  336\n",
      "Processing i =  290  out of  336\n",
      "Processing i =  291  out of  336\n",
      "Processing i =  292  out of  336\n",
      "Processing i =  293  out of  336\n",
      "Processing i =  294  out of  336\n",
      "Processing i =  295  out of  336\n",
      "Processing i =  296  out of  336\n",
      "Processing i =  297  out of  336\n",
      "Processing i =  298  out of  336\n",
      "Processing i =  299  out of  336\n",
      "Processing i =  300  out of  336\n",
      "Processing i =  301  out of  336\n",
      "Processing i =  302  out of  336\n",
      "Processing i =  303  out of  336\n",
      "Processing i =  304  out of  336\n",
      "Processing i =  305  out of  336\n",
      "Processing i =  306  out of  336\n",
      "Processing i =  307  out of  336\n",
      "Processing i =  308  out of  336\n",
      "Processing i =  309  out of  336\n",
      "Processing i =  310  out of  336\n",
      "Processing i =  311  out of  336\n",
      "Processing i =  312  out of  336\n",
      "Processing i =  313  out of  336\n",
      "Processing i =  314  out of  336\n",
      "Processing i =  315  out of  336\n",
      "Processing i =  316  out of  336\n",
      "Processing i =  317  out of  336\n",
      "Processing i =  318  out of  336\n",
      "Processing i =  319  out of  336\n",
      "Processing i =  320  out of  336\n",
      "Processing i =  321  out of  336\n",
      "Processing i =  322  out of  336\n",
      "Processing i =  323  out of  336\n",
      "Processing i =  324  out of  336\n",
      "Processing i =  325  out of  336\n",
      "Processing i =  326  out of  336\n",
      "Processing i =  327  out of  336\n",
      "Processing i =  328  out of  336\n",
      "Processing i =  329  out of  336\n",
      "Processing i =  330  out of  336\n",
      "Processing i =  331  out of  336\n",
      "Processing i =  332  out of  336\n",
      "Processing i =  333  out of  336\n",
      "Processing i =  334  out of  336\n",
      "Processing i =  335  out of  336\n",
      "Processing i =  336  out of  336\n",
      "\n",
      "Processing CV 4 / 10....\n",
      "Processing i =  1  out of  336\n",
      "Processing i =  2  out of  336\n",
      "Processing i =  3  out of  336\n",
      "Processing i =  4  out of  336\n",
      "Processing i =  5  out of  336\n",
      "Processing i =  6  out of  336\n",
      "Processing i =  7  out of  336\n",
      "Processing i =  8  out of  336\n",
      "Processing i =  9  out of  336\n",
      "Processing i =  10  out of  336\n",
      "Processing i =  11  out of  336\n",
      "Processing i =  12  out of  336\n",
      "Processing i =  13  out of  336\n",
      "Processing i =  14  out of  336\n",
      "Processing i =  15  out of  336\n",
      "Processing i =  16  out of  336\n",
      "Processing i =  17  out of  336\n",
      "Processing i =  18  out of  336\n",
      "Processing i =  19  out of  336\n",
      "Processing i =  20  out of  336\n",
      "Processing i =  21  out of  336\n",
      "Processing i =  22  out of  336\n",
      "Processing i =  23  out of  336\n",
      "Processing i =  24  out of  336\n",
      "Processing i =  25  out of  336\n",
      "Processing i =  26  out of  336\n",
      "Processing i =  27  out of  336\n",
      "Processing i =  28  out of  336\n",
      "Processing i =  29  out of  336\n",
      "Processing i =  30  out of  336\n",
      "Processing i =  31  out of  336\n",
      "Processing i =  32  out of  336\n",
      "Processing i =  33  out of  336\n",
      "Processing i =  34  out of  336\n",
      "Processing i =  35  out of  336\n",
      "Processing i =  36  out of  336\n",
      "Processing i =  37  out of  336\n",
      "Processing i =  38  out of  336\n",
      "Processing i =  39  out of  336\n",
      "Processing i =  40  out of  336\n",
      "Processing i =  41  out of  336\n",
      "Processing i =  42  out of  336\n",
      "Processing i =  43  out of  336\n",
      "Processing i =  44  out of  336\n",
      "Processing i =  45  out of  336\n",
      "Processing i =  46  out of  336\n",
      "Processing i =  47  out of  336\n",
      "Processing i =  48  out of  336\n",
      "Processing i =  49  out of  336\n",
      "Processing i =  50  out of  336\n",
      "Processing i =  51  out of  336\n",
      "Processing i =  52  out of  336\n",
      "Processing i =  53  out of  336\n",
      "Processing i =  54  out of  336\n",
      "Processing i =  55  out of  336\n",
      "Processing i =  56  out of  336\n",
      "Processing i =  57  out of  336\n",
      "Processing i =  58  out of  336\n",
      "Processing i =  59  out of  336\n",
      "Processing i =  60  out of  336\n",
      "Processing i =  61  out of  336\n",
      "Processing i =  62  out of  336\n",
      "Processing i =  63  out of  336\n",
      "Processing i =  64  out of  336\n",
      "Processing i =  65  out of  336\n",
      "Processing i =  66  out of  336\n",
      "Processing i =  67  out of  336\n",
      "Processing i =  68  out of  336\n",
      "Processing i =  69  out of  336\n",
      "Processing i =  70  out of  336\n",
      "Processing i =  71  out of  336\n",
      "Processing i =  72  out of  336\n",
      "Processing i =  73  out of  336\n",
      "Processing i =  74  out of  336\n",
      "Processing i =  75  out of  336\n",
      "Processing i =  76  out of  336\n",
      "Processing i =  77  out of  336\n",
      "Processing i =  78  out of  336\n",
      "Processing i =  79  out of  336\n",
      "Processing i =  80  out of  336\n",
      "Processing i =  81  out of  336\n",
      "Processing i =  82  out of  336\n",
      "Processing i =  83  out of  336\n",
      "Processing i =  84  out of  336\n",
      "Processing i =  85  out of  336\n",
      "Processing i =  86  out of  336\n",
      "Processing i =  87  out of  336\n",
      "Processing i =  88  out of  336\n",
      "Processing i =  89  out of  336\n",
      "Processing i =  90  out of  336\n",
      "Processing i =  91  out of  336\n",
      "Processing i =  92  out of  336\n",
      "Processing i =  93  out of  336\n",
      "Processing i =  94  out of  336\n",
      "Processing i =  95  out of  336\n",
      "Processing i =  96  out of  336\n",
      "Processing i =  97  out of  336\n",
      "Processing i =  98  out of  336\n",
      "Processing i =  99  out of  336\n",
      "Processing i =  100  out of  336\n",
      "Processing i =  101  out of  336\n",
      "Processing i =  102  out of  336\n",
      "Processing i =  103  out of  336\n",
      "Processing i =  104  out of  336\n",
      "Processing i =  105  out of  336\n",
      "Processing i =  106  out of  336\n",
      "Processing i =  107  out of  336\n",
      "Processing i =  108  out of  336\n",
      "Processing i =  109  out of  336\n",
      "Processing i =  110  out of  336\n",
      "Processing i =  111  out of  336\n",
      "Processing i =  112  out of  336\n",
      "Processing i =  113  out of  336\n",
      "Processing i =  114  out of  336\n",
      "Processing i =  115  out of  336\n",
      "Processing i =  116  out of  336\n",
      "Processing i =  117  out of  336\n",
      "Processing i =  118  out of  336\n",
      "Processing i =  119  out of  336\n",
      "Processing i =  120  out of  336\n",
      "Processing i =  121  out of  336\n",
      "Processing i =  122  out of  336\n",
      "Processing i =  123  out of  336\n",
      "Processing i =  124  out of  336\n",
      "Processing i =  125  out of  336\n",
      "Processing i =  126  out of  336\n",
      "Processing i =  127  out of  336\n",
      "Processing i =  128  out of  336\n",
      "Processing i =  129  out of  336\n",
      "Processing i =  130  out of  336\n",
      "Processing i =  131  out of  336\n",
      "Processing i =  132  out of  336\n",
      "Processing i =  133  out of  336\n",
      "Processing i =  134  out of  336\n",
      "Processing i =  135  out of  336\n",
      "Processing i =  136  out of  336\n",
      "Processing i =  137  out of  336\n",
      "Processing i =  138  out of  336\n",
      "Processing i =  139  out of  336\n",
      "Processing i =  140  out of  336\n",
      "Processing i =  141  out of  336\n",
      "Processing i =  142  out of  336\n",
      "Processing i =  143  out of  336\n",
      "Processing i =  144  out of  336\n",
      "Processing i =  145  out of  336\n",
      "Processing i =  146  out of  336\n",
      "Processing i =  147  out of  336\n",
      "Processing i =  148  out of  336\n",
      "Processing i =  149  out of  336\n",
      "Processing i =  150  out of  336\n",
      "Processing i =  151  out of  336\n",
      "Processing i =  152  out of  336\n",
      "Processing i =  153  out of  336\n",
      "Processing i =  154  out of  336\n",
      "Processing i =  155  out of  336\n",
      "Processing i =  156  out of  336\n",
      "Processing i =  157  out of  336\n",
      "Processing i =  158  out of  336\n",
      "Processing i =  159  out of  336\n",
      "Processing i =  160  out of  336\n",
      "Processing i =  161  out of  336\n",
      "Processing i =  162  out of  336\n",
      "Processing i =  163  out of  336\n",
      "Processing i =  164  out of  336\n",
      "Processing i =  165  out of  336\n",
      "Processing i =  166  out of  336\n",
      "Processing i =  167  out of  336\n",
      "Processing i =  168  out of  336\n",
      "Processing i =  169  out of  336\n",
      "Processing i =  170  out of  336\n",
      "Processing i =  171  out of  336\n",
      "Processing i =  172  out of  336\n",
      "Processing i =  173  out of  336\n",
      "Processing i =  174  out of  336\n",
      "Processing i =  175  out of  336\n",
      "Processing i =  176  out of  336\n",
      "Processing i =  177  out of  336\n",
      "Processing i =  178  out of  336\n",
      "Processing i =  179  out of  336\n",
      "Processing i =  180  out of  336\n",
      "Processing i =  181  out of  336\n",
      "Processing i =  182  out of  336\n",
      "Processing i =  183  out of  336\n",
      "Processing i =  184  out of  336\n",
      "Processing i =  185  out of  336\n",
      "Processing i =  186  out of  336\n",
      "Processing i =  187  out of  336\n",
      "Processing i =  188  out of  336\n",
      "Processing i =  189  out of  336\n",
      "Processing i =  190  out of  336\n",
      "Processing i =  191  out of  336\n",
      "Processing i =  192  out of  336\n",
      "Processing i =  193  out of  336\n",
      "Processing i =  194  out of  336\n",
      "Processing i =  195  out of  336\n",
      "Processing i =  196  out of  336\n",
      "Processing i =  197  out of  336\n",
      "Processing i =  198  out of  336\n",
      "Processing i =  199  out of  336\n",
      "Processing i =  200  out of  336\n",
      "Processing i =  201  out of  336\n",
      "Processing i =  202  out of  336\n",
      "Processing i =  203  out of  336\n",
      "Processing i =  204  out of  336\n",
      "Processing i =  205  out of  336\n",
      "Processing i =  206  out of  336\n",
      "Processing i =  207  out of  336\n",
      "Processing i =  208  out of  336\n",
      "Processing i =  209  out of  336\n",
      "Processing i =  210  out of  336\n",
      "Processing i =  211  out of  336\n",
      "Processing i =  212  out of  336\n",
      "Processing i =  213  out of  336\n",
      "Processing i =  214  out of  336\n",
      "Processing i =  215  out of  336\n",
      "Processing i =  216  out of  336\n",
      "Processing i =  217  out of  336\n",
      "Processing i =  218  out of  336\n",
      "Processing i =  219  out of  336\n",
      "Processing i =  220  out of  336\n",
      "Processing i =  221  out of  336\n",
      "Processing i =  222  out of  336\n",
      "Processing i =  223  out of  336\n",
      "Processing i =  224  out of  336\n",
      "Processing i =  225  out of  336\n",
      "Processing i =  226  out of  336\n",
      "Processing i =  227  out of  336\n",
      "Processing i =  228  out of  336\n",
      "Processing i =  229  out of  336\n",
      "Processing i =  230  out of  336\n",
      "Processing i =  231  out of  336\n",
      "Processing i =  232  out of  336\n",
      "Processing i =  233  out of  336\n",
      "Processing i =  234  out of  336\n",
      "Processing i =  235  out of  336\n",
      "Processing i =  236  out of  336\n",
      "Processing i =  237  out of  336\n",
      "Processing i =  238  out of  336\n",
      "Processing i =  239  out of  336\n",
      "Processing i =  240  out of  336\n",
      "Processing i =  241  out of  336\n",
      "Processing i =  242  out of  336\n",
      "Processing i =  243  out of  336\n",
      "Processing i =  244  out of  336\n",
      "Processing i =  245  out of  336\n",
      "Processing i =  246  out of  336\n",
      "Processing i =  247  out of  336\n",
      "Processing i =  248  out of  336\n",
      "Processing i =  249  out of  336\n",
      "Processing i =  250  out of  336\n",
      "Processing i =  251  out of  336\n",
      "Processing i =  252  out of  336\n",
      "Processing i =  253  out of  336\n",
      "Processing i =  254  out of  336\n",
      "Processing i =  255  out of  336\n",
      "Processing i =  256  out of  336\n",
      "Processing i =  257  out of  336\n",
      "Processing i =  258  out of  336\n",
      "Processing i =  259  out of  336\n",
      "Processing i =  260  out of  336\n",
      "Processing i =  261  out of  336\n",
      "Processing i =  262  out of  336\n",
      "Processing i =  263  out of  336\n",
      "Processing i =  264  out of  336\n",
      "Processing i =  265  out of  336\n",
      "Processing i =  266  out of  336\n",
      "Processing i =  267  out of  336\n",
      "Processing i =  268  out of  336\n",
      "Processing i =  269  out of  336\n",
      "Processing i =  270  out of  336\n",
      "Processing i =  271  out of  336\n",
      "Processing i =  272  out of  336\n",
      "Processing i =  273  out of  336\n",
      "Processing i =  274  out of  336\n",
      "Processing i =  275  out of  336\n",
      "Processing i =  276  out of  336\n",
      "Processing i =  277  out of  336\n",
      "Processing i =  278  out of  336\n",
      "Processing i =  279  out of  336\n",
      "Processing i =  280  out of  336\n",
      "Processing i =  281  out of  336\n",
      "Processing i =  282  out of  336\n",
      "Processing i =  283  out of  336\n",
      "Processing i =  284  out of  336\n",
      "Processing i =  285  out of  336\n",
      "Processing i =  286  out of  336\n",
      "Processing i =  287  out of  336\n",
      "Processing i =  288  out of  336\n",
      "Processing i =  289  out of  336\n",
      "Processing i =  290  out of  336\n",
      "Processing i =  291  out of  336\n",
      "Processing i =  292  out of  336\n",
      "Processing i =  293  out of  336\n",
      "Processing i =  294  out of  336\n",
      "Processing i =  295  out of  336\n",
      "Processing i =  296  out of  336\n",
      "Processing i =  297  out of  336\n",
      "Processing i =  298  out of  336\n",
      "Processing i =  299  out of  336\n",
      "Processing i =  300  out of  336\n",
      "Processing i =  301  out of  336\n",
      "Processing i =  302  out of  336\n",
      "Processing i =  303  out of  336\n",
      "Processing i =  304  out of  336\n",
      "Processing i =  305  out of  336\n",
      "Processing i =  306  out of  336\n",
      "Processing i =  307  out of  336\n",
      "Processing i =  308  out of  336\n",
      "Processing i =  309  out of  336\n",
      "Processing i =  310  out of  336\n",
      "Processing i =  311  out of  336\n",
      "Processing i =  312  out of  336\n",
      "Processing i =  313  out of  336\n",
      "Processing i =  314  out of  336\n",
      "Processing i =  315  out of  336\n",
      "Processing i =  316  out of  336\n",
      "Processing i =  317  out of  336\n",
      "Processing i =  318  out of  336\n",
      "Processing i =  319  out of  336\n",
      "Processing i =  320  out of  336\n",
      "Processing i =  321  out of  336\n",
      "Processing i =  322  out of  336\n",
      "Processing i =  323  out of  336\n",
      "Processing i =  324  out of  336\n",
      "Processing i =  325  out of  336\n",
      "Processing i =  326  out of  336\n",
      "Processing i =  327  out of  336\n",
      "Processing i =  328  out of  336\n",
      "Processing i =  329  out of  336\n",
      "Processing i =  330  out of  336\n",
      "Processing i =  331  out of  336\n",
      "Processing i =  332  out of  336\n",
      "Processing i =  333  out of  336\n",
      "Processing i =  334  out of  336\n",
      "Processing i =  335  out of  336\n",
      "Processing i =  336  out of  336\n",
      "\n",
      "Processing CV 5 / 10....\n",
      "Processing i =  1  out of  336\n",
      "Processing i =  2  out of  336\n",
      "Processing i =  3  out of  336\n",
      "Processing i =  4  out of  336\n",
      "Processing i =  5  out of  336\n",
      "Processing i =  6  out of  336\n",
      "Processing i =  7  out of  336\n",
      "Processing i =  8  out of  336\n",
      "Processing i =  9  out of  336\n",
      "Processing i =  10  out of  336\n",
      "Processing i =  11  out of  336\n",
      "Processing i =  12  out of  336\n",
      "Processing i =  13  out of  336\n",
      "Processing i =  14  out of  336\n",
      "Processing i =  15  out of  336\n",
      "Processing i =  16  out of  336\n",
      "Processing i =  17  out of  336\n",
      "Processing i =  18  out of  336\n",
      "Processing i =  19  out of  336\n",
      "Processing i =  20  out of  336\n",
      "Processing i =  21  out of  336\n",
      "Processing i =  22  out of  336\n",
      "Processing i =  23  out of  336\n",
      "Processing i =  24  out of  336\n",
      "Processing i =  25  out of  336\n",
      "Processing i =  26  out of  336\n",
      "Processing i =  27  out of  336\n",
      "Processing i =  28  out of  336\n",
      "Processing i =  29  out of  336\n",
      "Processing i =  30  out of  336\n",
      "Processing i =  31  out of  336\n",
      "Processing i =  32  out of  336\n",
      "Processing i =  33  out of  336\n",
      "Processing i =  34  out of  336\n",
      "Processing i =  35  out of  336\n",
      "Processing i =  36  out of  336\n",
      "Processing i =  37  out of  336\n",
      "Processing i =  38  out of  336\n",
      "Processing i =  39  out of  336\n",
      "Processing i =  40  out of  336\n",
      "Processing i =  41  out of  336\n",
      "Processing i =  42  out of  336\n",
      "Processing i =  43  out of  336\n",
      "Processing i =  44  out of  336\n",
      "Processing i =  45  out of  336\n",
      "Processing i =  46  out of  336\n",
      "Processing i =  47  out of  336\n",
      "Processing i =  48  out of  336\n",
      "Processing i =  49  out of  336\n",
      "Processing i =  50  out of  336\n",
      "Processing i =  51  out of  336\n",
      "Processing i =  52  out of  336\n",
      "Processing i =  53  out of  336\n",
      "Processing i =  54  out of  336\n",
      "Processing i =  55  out of  336\n",
      "Processing i =  56  out of  336\n",
      "Processing i =  57  out of  336\n",
      "Processing i =  58  out of  336\n",
      "Processing i =  59  out of  336\n",
      "Processing i =  60  out of  336\n",
      "Processing i =  61  out of  336\n",
      "Processing i =  62  out of  336\n",
      "Processing i =  63  out of  336\n",
      "Processing i =  64  out of  336\n",
      "Processing i =  65  out of  336\n",
      "Processing i =  66  out of  336\n",
      "Processing i =  67  out of  336\n",
      "Processing i =  68  out of  336\n",
      "Processing i =  69  out of  336\n",
      "Processing i =  70  out of  336\n",
      "Processing i =  71  out of  336\n",
      "Processing i =  72  out of  336\n",
      "Processing i =  73  out of  336\n",
      "Processing i =  74  out of  336\n",
      "Processing i =  75  out of  336\n",
      "Processing i =  76  out of  336\n",
      "Processing i =  77  out of  336\n",
      "Processing i =  78  out of  336\n",
      "Processing i =  79  out of  336\n",
      "Processing i =  80  out of  336\n",
      "Processing i =  81  out of  336\n",
      "Processing i =  82  out of  336\n",
      "Processing i =  83  out of  336\n",
      "Processing i =  84  out of  336\n",
      "Processing i =  85  out of  336\n",
      "Processing i =  86  out of  336\n",
      "Processing i =  87  out of  336\n",
      "Processing i =  88  out of  336\n",
      "Processing i =  89  out of  336\n",
      "Processing i =  90  out of  336\n",
      "Processing i =  91  out of  336\n",
      "Processing i =  92  out of  336\n",
      "Processing i =  93  out of  336\n",
      "Processing i =  94  out of  336\n",
      "Processing i =  95  out of  336\n",
      "Processing i =  96  out of  336\n",
      "Processing i =  97  out of  336\n",
      "Processing i =  98  out of  336\n",
      "Processing i =  99  out of  336\n",
      "Processing i =  100  out of  336\n",
      "Processing i =  101  out of  336\n",
      "Processing i =  102  out of  336\n",
      "Processing i =  103  out of  336\n",
      "Processing i =  104  out of  336\n",
      "Processing i =  105  out of  336\n",
      "Processing i =  106  out of  336\n",
      "Processing i =  107  out of  336\n",
      "Processing i =  108  out of  336\n",
      "Processing i =  109  out of  336\n",
      "Processing i =  110  out of  336\n",
      "Processing i =  111  out of  336\n",
      "Processing i =  112  out of  336\n",
      "Processing i =  113  out of  336\n",
      "Processing i =  114  out of  336\n",
      "Processing i =  115  out of  336\n",
      "Processing i =  116  out of  336\n",
      "Processing i =  117  out of  336\n",
      "Processing i =  118  out of  336\n",
      "Processing i =  119  out of  336\n",
      "Processing i =  120  out of  336\n",
      "Processing i =  121  out of  336\n",
      "Processing i =  122  out of  336\n",
      "Processing i =  123  out of  336\n",
      "Processing i =  124  out of  336\n",
      "Processing i =  125  out of  336\n",
      "Processing i =  126  out of  336\n",
      "Processing i =  127  out of  336\n",
      "Processing i =  128  out of  336\n",
      "Processing i =  129  out of  336\n",
      "Processing i =  130  out of  336\n",
      "Processing i =  131  out of  336\n",
      "Processing i =  132  out of  336\n",
      "Processing i =  133  out of  336\n",
      "Processing i =  134  out of  336\n",
      "Processing i =  135  out of  336\n",
      "Processing i =  136  out of  336\n",
      "Processing i =  137  out of  336\n",
      "Processing i =  138  out of  336\n",
      "Processing i =  139  out of  336\n",
      "Processing i =  140  out of  336\n",
      "Processing i =  141  out of  336\n",
      "Processing i =  142  out of  336\n",
      "Processing i =  143  out of  336\n",
      "Processing i =  144  out of  336\n",
      "Processing i =  145  out of  336\n",
      "Processing i =  146  out of  336\n",
      "Processing i =  147  out of  336\n",
      "Processing i =  148  out of  336\n",
      "Processing i =  149  out of  336\n",
      "Processing i =  150  out of  336\n",
      "Processing i =  151  out of  336\n",
      "Processing i =  152  out of  336\n",
      "Processing i =  153  out of  336\n",
      "Processing i =  154  out of  336\n",
      "Processing i =  155  out of  336\n",
      "Processing i =  156  out of  336\n",
      "Processing i =  157  out of  336\n",
      "Processing i =  158  out of  336\n",
      "Processing i =  159  out of  336\n",
      "Processing i =  160  out of  336\n",
      "Processing i =  161  out of  336\n",
      "Processing i =  162  out of  336\n",
      "Processing i =  163  out of  336\n",
      "Processing i =  164  out of  336\n",
      "Processing i =  165  out of  336\n",
      "Processing i =  166  out of  336\n",
      "Processing i =  167  out of  336\n",
      "Processing i =  168  out of  336\n",
      "Processing i =  169  out of  336\n",
      "Processing i =  170  out of  336\n",
      "Processing i =  171  out of  336\n",
      "Processing i =  172  out of  336\n",
      "Processing i =  173  out of  336\n",
      "Processing i =  174  out of  336\n",
      "Processing i =  175  out of  336\n",
      "Processing i =  176  out of  336\n",
      "Processing i =  177  out of  336\n",
      "Processing i =  178  out of  336\n",
      "Processing i =  179  out of  336\n",
      "Processing i =  180  out of  336\n",
      "Processing i =  181  out of  336\n",
      "Processing i =  182  out of  336\n",
      "Processing i =  183  out of  336\n",
      "Processing i =  184  out of  336\n",
      "Processing i =  185  out of  336\n",
      "Processing i =  186  out of  336\n",
      "Processing i =  187  out of  336\n",
      "Processing i =  188  out of  336\n",
      "Processing i =  189  out of  336\n",
      "Processing i =  190  out of  336\n",
      "Processing i =  191  out of  336\n",
      "Processing i =  192  out of  336\n",
      "Processing i =  193  out of  336\n",
      "Processing i =  194  out of  336\n",
      "Processing i =  195  out of  336\n",
      "Processing i =  196  out of  336\n",
      "Processing i =  197  out of  336\n",
      "Processing i =  198  out of  336\n",
      "Processing i =  199  out of  336\n",
      "Processing i =  200  out of  336\n",
      "Processing i =  201  out of  336\n",
      "Processing i =  202  out of  336\n",
      "Processing i =  203  out of  336\n",
      "Processing i =  204  out of  336\n",
      "Processing i =  205  out of  336\n",
      "Processing i =  206  out of  336\n",
      "Processing i =  207  out of  336\n",
      "Processing i =  208  out of  336\n",
      "Processing i =  209  out of  336\n",
      "Processing i =  210  out of  336\n",
      "Processing i =  211  out of  336\n",
      "Processing i =  212  out of  336\n",
      "Processing i =  213  out of  336\n",
      "Processing i =  214  out of  336\n",
      "Processing i =  215  out of  336\n",
      "Processing i =  216  out of  336\n",
      "Processing i =  217  out of  336\n",
      "Processing i =  218  out of  336\n",
      "Processing i =  219  out of  336\n",
      "Processing i =  220  out of  336\n",
      "Processing i =  221  out of  336\n",
      "Processing i =  222  out of  336\n",
      "Processing i =  223  out of  336\n",
      "Processing i =  224  out of  336\n",
      "Processing i =  225  out of  336\n",
      "Processing i =  226  out of  336\n",
      "Processing i =  227  out of  336\n",
      "Processing i =  228  out of  336\n",
      "Processing i =  229  out of  336\n",
      "Processing i =  230  out of  336\n",
      "Processing i =  231  out of  336\n",
      "Processing i =  232  out of  336\n",
      "Processing i =  233  out of  336\n",
      "Processing i =  234  out of  336\n",
      "Processing i =  235  out of  336\n",
      "Processing i =  236  out of  336\n",
      "Processing i =  237  out of  336\n",
      "Processing i =  238  out of  336\n",
      "Processing i =  239  out of  336\n",
      "Processing i =  240  out of  336\n",
      "Processing i =  241  out of  336\n",
      "Processing i =  242  out of  336\n",
      "Processing i =  243  out of  336\n",
      "Processing i =  244  out of  336\n",
      "Processing i =  245  out of  336\n",
      "Processing i =  246  out of  336\n",
      "Processing i =  247  out of  336\n",
      "Processing i =  248  out of  336\n",
      "Processing i =  249  out of  336\n",
      "Processing i =  250  out of  336\n",
      "Processing i =  251  out of  336\n",
      "Processing i =  252  out of  336\n",
      "Processing i =  253  out of  336\n",
      "Processing i =  254  out of  336\n",
      "Processing i =  255  out of  336\n",
      "Processing i =  256  out of  336\n",
      "Processing i =  257  out of  336\n",
      "Processing i =  258  out of  336\n",
      "Processing i =  259  out of  336\n",
      "Processing i =  260  out of  336\n",
      "Processing i =  261  out of  336\n",
      "Processing i =  262  out of  336\n",
      "Processing i =  263  out of  336\n",
      "Processing i =  264  out of  336\n",
      "Processing i =  265  out of  336\n",
      "Processing i =  266  out of  336\n",
      "Processing i =  267  out of  336\n",
      "Processing i =  268  out of  336\n",
      "Processing i =  269  out of  336\n",
      "Processing i =  270  out of  336\n",
      "Processing i =  271  out of  336\n",
      "Processing i =  272  out of  336\n",
      "Processing i =  273  out of  336\n",
      "Processing i =  274  out of  336\n",
      "Processing i =  275  out of  336\n",
      "Processing i =  276  out of  336\n",
      "Processing i =  277  out of  336\n",
      "Processing i =  278  out of  336\n",
      "Processing i =  279  out of  336\n",
      "Processing i =  280  out of  336\n",
      "Processing i =  281  out of  336\n",
      "Processing i =  282  out of  336\n",
      "Processing i =  283  out of  336\n",
      "Processing i =  284  out of  336\n",
      "Processing i =  285  out of  336\n",
      "Processing i =  286  out of  336\n",
      "Processing i =  287  out of  336\n",
      "Processing i =  288  out of  336\n",
      "Processing i =  289  out of  336\n",
      "Processing i =  290  out of  336\n",
      "Processing i =  291  out of  336\n",
      "Processing i =  292  out of  336\n",
      "Processing i =  293  out of  336\n",
      "Processing i =  294  out of  336\n",
      "Processing i =  295  out of  336\n",
      "Processing i =  296  out of  336\n",
      "Processing i =  297  out of  336\n",
      "Processing i =  298  out of  336\n",
      "Processing i =  299  out of  336\n",
      "Processing i =  300  out of  336\n",
      "Processing i =  301  out of  336\n",
      "Processing i =  302  out of  336\n",
      "Processing i =  303  out of  336\n",
      "Processing i =  304  out of  336\n",
      "Processing i =  305  out of  336\n",
      "Processing i =  306  out of  336\n",
      "Processing i =  307  out of  336\n",
      "Processing i =  308  out of  336\n",
      "Processing i =  309  out of  336\n",
      "Processing i =  310  out of  336\n",
      "Processing i =  311  out of  336\n",
      "Processing i =  312  out of  336\n",
      "Processing i =  313  out of  336\n",
      "Processing i =  314  out of  336\n",
      "Processing i =  315  out of  336\n",
      "Processing i =  316  out of  336\n",
      "Processing i =  317  out of  336\n",
      "Processing i =  318  out of  336\n",
      "Processing i =  319  out of  336\n",
      "Processing i =  320  out of  336\n",
      "Processing i =  321  out of  336\n",
      "Processing i =  322  out of  336\n",
      "Processing i =  323  out of  336\n",
      "Processing i =  324  out of  336\n",
      "Processing i =  325  out of  336\n",
      "Processing i =  326  out of  336\n",
      "Processing i =  327  out of  336\n",
      "Processing i =  328  out of  336\n",
      "Processing i =  329  out of  336\n",
      "Processing i =  330  out of  336\n",
      "Processing i =  331  out of  336\n",
      "Processing i =  332  out of  336\n",
      "Processing i =  333  out of  336\n",
      "Processing i =  334  out of  336\n",
      "Processing i =  335  out of  336\n",
      "Processing i =  336  out of  336\n",
      "\n",
      "Processing CV 6 / 10....\n",
      "Processing i =  1  out of  337\n",
      "Processing i =  2  out of  337\n",
      "Processing i =  3  out of  337\n",
      "Processing i =  4  out of  337\n",
      "Processing i =  5  out of  337\n",
      "Processing i =  6  out of  337\n",
      "Processing i =  7  out of  337\n",
      "Processing i =  8  out of  337\n",
      "Processing i =  9  out of  337\n",
      "Processing i =  10  out of  337\n",
      "Processing i =  11  out of  337\n",
      "Processing i =  12  out of  337\n",
      "Processing i =  13  out of  337\n",
      "Processing i =  14  out of  337\n",
      "Processing i =  15  out of  337\n",
      "Processing i =  16  out of  337\n",
      "Processing i =  17  out of  337\n",
      "Processing i =  18  out of  337\n",
      "Processing i =  19  out of  337\n",
      "Processing i =  20  out of  337\n",
      "Processing i =  21  out of  337\n",
      "Processing i =  22  out of  337\n",
      "Processing i =  23  out of  337\n",
      "Processing i =  24  out of  337\n",
      "Processing i =  25  out of  337\n",
      "Processing i =  26  out of  337\n",
      "Processing i =  27  out of  337\n",
      "Processing i =  28  out of  337\n",
      "Processing i =  29  out of  337\n",
      "Processing i =  30  out of  337\n",
      "Processing i =  31  out of  337\n",
      "Processing i =  32  out of  337\n",
      "Processing i =  33  out of  337\n",
      "Processing i =  34  out of  337\n",
      "Processing i =  35  out of  337\n",
      "Processing i =  36  out of  337\n",
      "Processing i =  37  out of  337\n",
      "Processing i =  38  out of  337\n",
      "Processing i =  39  out of  337\n",
      "Processing i =  40  out of  337\n",
      "Processing i =  41  out of  337\n",
      "Processing i =  42  out of  337\n",
      "Processing i =  43  out of  337\n",
      "Processing i =  44  out of  337\n",
      "Processing i =  45  out of  337\n",
      "Processing i =  46  out of  337\n",
      "Processing i =  47  out of  337\n",
      "Processing i =  48  out of  337\n",
      "Processing i =  49  out of  337\n",
      "Processing i =  50  out of  337\n",
      "Processing i =  51  out of  337\n",
      "Processing i =  52  out of  337\n",
      "Processing i =  53  out of  337\n",
      "Processing i =  54  out of  337\n",
      "Processing i =  55  out of  337\n",
      "Processing i =  56  out of  337\n",
      "Processing i =  57  out of  337\n",
      "Processing i =  58  out of  337\n",
      "Processing i =  59  out of  337\n",
      "Processing i =  60  out of  337\n",
      "Processing i =  61  out of  337\n",
      "Processing i =  62  out of  337\n",
      "Processing i =  63  out of  337\n",
      "Processing i =  64  out of  337\n",
      "Processing i =  65  out of  337\n",
      "Processing i =  66  out of  337\n",
      "Processing i =  67  out of  337\n",
      "Processing i =  68  out of  337\n",
      "Processing i =  69  out of  337\n",
      "Processing i =  70  out of  337\n",
      "Processing i =  71  out of  337\n",
      "Processing i =  72  out of  337\n",
      "Processing i =  73  out of  337\n",
      "Processing i =  74  out of  337\n",
      "Processing i =  75  out of  337\n",
      "Processing i =  76  out of  337\n",
      "Processing i =  77  out of  337\n",
      "Processing i =  78  out of  337\n",
      "Processing i =  79  out of  337\n",
      "Processing i =  80  out of  337\n",
      "Processing i =  81  out of  337\n",
      "Processing i =  82  out of  337\n",
      "Processing i =  83  out of  337\n",
      "Processing i =  84  out of  337\n",
      "Processing i =  85  out of  337\n",
      "Processing i =  86  out of  337\n",
      "Processing i =  87  out of  337\n",
      "Processing i =  88  out of  337\n",
      "Processing i =  89  out of  337\n",
      "Processing i =  90  out of  337\n",
      "Processing i =  91  out of  337\n",
      "Processing i =  92  out of  337\n",
      "Processing i =  93  out of  337\n",
      "Processing i =  94  out of  337\n",
      "Processing i =  95  out of  337\n",
      "Processing i =  96  out of  337\n",
      "Processing i =  97  out of  337\n",
      "Processing i =  98  out of  337\n",
      "Processing i =  99  out of  337\n",
      "Processing i =  100  out of  337\n",
      "Processing i =  101  out of  337\n",
      "Processing i =  102  out of  337\n",
      "Processing i =  103  out of  337\n",
      "Processing i =  104  out of  337\n",
      "Processing i =  105  out of  337\n",
      "Processing i =  106  out of  337\n",
      "Processing i =  107  out of  337\n",
      "Processing i =  108  out of  337\n",
      "Processing i =  109  out of  337\n",
      "Processing i =  110  out of  337\n",
      "Processing i =  111  out of  337\n",
      "Processing i =  112  out of  337\n",
      "Processing i =  113  out of  337\n",
      "Processing i =  114  out of  337\n",
      "Processing i =  115  out of  337\n",
      "Processing i =  116  out of  337\n",
      "Processing i =  117  out of  337\n",
      "Processing i =  118  out of  337\n",
      "Processing i =  119  out of  337\n",
      "Processing i =  120  out of  337\n",
      "Processing i =  121  out of  337\n",
      "Processing i =  122  out of  337\n",
      "Processing i =  123  out of  337\n",
      "Processing i =  124  out of  337\n",
      "Processing i =  125  out of  337\n",
      "Processing i =  126  out of  337\n",
      "Processing i =  127  out of  337\n",
      "Processing i =  128  out of  337\n",
      "Processing i =  129  out of  337\n",
      "Processing i =  130  out of  337\n",
      "Processing i =  131  out of  337\n",
      "Processing i =  132  out of  337\n",
      "Processing i =  133  out of  337\n",
      "Processing i =  134  out of  337\n",
      "Processing i =  135  out of  337\n",
      "Processing i =  136  out of  337\n",
      "Processing i =  137  out of  337\n",
      "Processing i =  138  out of  337\n",
      "Processing i =  139  out of  337\n",
      "Processing i =  140  out of  337\n",
      "Processing i =  141  out of  337\n",
      "Processing i =  142  out of  337\n",
      "Processing i =  143  out of  337\n",
      "Processing i =  144  out of  337\n",
      "Processing i =  145  out of  337\n",
      "Processing i =  146  out of  337\n",
      "Processing i =  147  out of  337\n",
      "Processing i =  148  out of  337\n",
      "Processing i =  149  out of  337\n",
      "Processing i =  150  out of  337\n",
      "Processing i =  151  out of  337\n",
      "Processing i =  152  out of  337\n",
      "Processing i =  153  out of  337\n",
      "Processing i =  154  out of  337\n",
      "Processing i =  155  out of  337\n",
      "Processing i =  156  out of  337\n",
      "Processing i =  157  out of  337\n",
      "Processing i =  158  out of  337\n",
      "Processing i =  159  out of  337\n",
      "Processing i =  160  out of  337\n",
      "Processing i =  161  out of  337\n",
      "Processing i =  162  out of  337\n",
      "Processing i =  163  out of  337\n",
      "Processing i =  164  out of  337\n",
      "Processing i =  165  out of  337\n",
      "Processing i =  166  out of  337\n",
      "Processing i =  167  out of  337\n",
      "Processing i =  168  out of  337\n",
      "Processing i =  169  out of  337\n",
      "Processing i =  170  out of  337\n",
      "Processing i =  171  out of  337\n",
      "Processing i =  172  out of  337\n",
      "Processing i =  173  out of  337\n",
      "Processing i =  174  out of  337\n",
      "Processing i =  175  out of  337\n",
      "Processing i =  176  out of  337\n",
      "Processing i =  177  out of  337\n",
      "Processing i =  178  out of  337\n",
      "Processing i =  179  out of  337\n",
      "Processing i =  180  out of  337\n",
      "Processing i =  181  out of  337\n",
      "Processing i =  182  out of  337\n",
      "Processing i =  183  out of  337\n",
      "Processing i =  184  out of  337\n",
      "Processing i =  185  out of  337\n",
      "Processing i =  186  out of  337\n",
      "Processing i =  187  out of  337\n",
      "Processing i =  188  out of  337\n",
      "Processing i =  189  out of  337\n",
      "Processing i =  190  out of  337\n",
      "Processing i =  191  out of  337\n",
      "Processing i =  192  out of  337\n",
      "Processing i =  193  out of  337\n",
      "Processing i =  194  out of  337\n",
      "Processing i =  195  out of  337\n",
      "Processing i =  196  out of  337\n",
      "Processing i =  197  out of  337\n",
      "Processing i =  198  out of  337\n",
      "Processing i =  199  out of  337\n",
      "Processing i =  200  out of  337\n",
      "Processing i =  201  out of  337\n",
      "Processing i =  202  out of  337\n",
      "Processing i =  203  out of  337\n",
      "Processing i =  204  out of  337\n",
      "Processing i =  205  out of  337\n",
      "Processing i =  206  out of  337\n",
      "Processing i =  207  out of  337\n",
      "Processing i =  208  out of  337\n",
      "Processing i =  209  out of  337\n",
      "Processing i =  210  out of  337\n",
      "Processing i =  211  out of  337\n",
      "Processing i =  212  out of  337\n",
      "Processing i =  213  out of  337\n",
      "Processing i =  214  out of  337\n",
      "Processing i =  215  out of  337\n",
      "Processing i =  216  out of  337\n",
      "Processing i =  217  out of  337\n",
      "Processing i =  218  out of  337\n",
      "Processing i =  219  out of  337\n",
      "Processing i =  220  out of  337\n",
      "Processing i =  221  out of  337\n",
      "Processing i =  222  out of  337\n",
      "Processing i =  223  out of  337\n",
      "Processing i =  224  out of  337\n",
      "Processing i =  225  out of  337\n",
      "Processing i =  226  out of  337\n",
      "Processing i =  227  out of  337\n",
      "Processing i =  228  out of  337\n",
      "Processing i =  229  out of  337\n",
      "Processing i =  230  out of  337\n",
      "Processing i =  231  out of  337\n",
      "Processing i =  232  out of  337\n",
      "Processing i =  233  out of  337\n",
      "Processing i =  234  out of  337\n",
      "Processing i =  235  out of  337\n",
      "Processing i =  236  out of  337\n",
      "Processing i =  237  out of  337\n",
      "Processing i =  238  out of  337\n",
      "Processing i =  239  out of  337\n",
      "Processing i =  240  out of  337\n",
      "Processing i =  241  out of  337\n",
      "Processing i =  242  out of  337\n",
      "Processing i =  243  out of  337\n",
      "Processing i =  244  out of  337\n",
      "Processing i =  245  out of  337\n",
      "Processing i =  246  out of  337\n",
      "Processing i =  247  out of  337\n",
      "Processing i =  248  out of  337\n",
      "Processing i =  249  out of  337\n",
      "Processing i =  250  out of  337\n",
      "Processing i =  251  out of  337\n",
      "Processing i =  252  out of  337\n",
      "Processing i =  253  out of  337\n",
      "Processing i =  254  out of  337\n",
      "Processing i =  255  out of  337\n",
      "Processing i =  256  out of  337\n",
      "Processing i =  257  out of  337\n",
      "Processing i =  258  out of  337\n",
      "Processing i =  259  out of  337\n",
      "Processing i =  260  out of  337\n",
      "Processing i =  261  out of  337\n",
      "Processing i =  262  out of  337\n",
      "Processing i =  263  out of  337\n",
      "Processing i =  264  out of  337\n",
      "Processing i =  265  out of  337\n",
      "Processing i =  266  out of  337\n",
      "Processing i =  267  out of  337\n",
      "Processing i =  268  out of  337\n",
      "Processing i =  269  out of  337\n",
      "Processing i =  270  out of  337\n",
      "Processing i =  271  out of  337\n",
      "Processing i =  272  out of  337\n",
      "Processing i =  273  out of  337\n",
      "Processing i =  274  out of  337\n",
      "Processing i =  275  out of  337\n",
      "Processing i =  276  out of  337\n",
      "Processing i =  277  out of  337\n",
      "Processing i =  278  out of  337\n",
      "Processing i =  279  out of  337\n",
      "Processing i =  280  out of  337\n",
      "Processing i =  281  out of  337\n",
      "Processing i =  282  out of  337\n",
      "Processing i =  283  out of  337\n",
      "Processing i =  284  out of  337\n",
      "Processing i =  285  out of  337\n",
      "Processing i =  286  out of  337\n",
      "Processing i =  287  out of  337\n",
      "Processing i =  288  out of  337\n",
      "Processing i =  289  out of  337\n",
      "Processing i =  290  out of  337\n",
      "Processing i =  291  out of  337\n",
      "Processing i =  292  out of  337\n",
      "Processing i =  293  out of  337\n",
      "Processing i =  294  out of  337\n",
      "Processing i =  295  out of  337\n",
      "Processing i =  296  out of  337\n",
      "Processing i =  297  out of  337\n",
      "Processing i =  298  out of  337\n",
      "Processing i =  299  out of  337\n",
      "Processing i =  300  out of  337\n",
      "Processing i =  301  out of  337\n",
      "Processing i =  302  out of  337\n",
      "Processing i =  303  out of  337\n",
      "Processing i =  304  out of  337\n",
      "Processing i =  305  out of  337\n",
      "Processing i =  306  out of  337\n",
      "Processing i =  307  out of  337\n",
      "Processing i =  308  out of  337\n",
      "Processing i =  309  out of  337\n",
      "Processing i =  310  out of  337\n",
      "Processing i =  311  out of  337\n",
      "Processing i =  312  out of  337\n",
      "Processing i =  313  out of  337\n",
      "Processing i =  314  out of  337\n",
      "Processing i =  315  out of  337\n",
      "Processing i =  316  out of  337\n",
      "Processing i =  317  out of  337\n",
      "Processing i =  318  out of  337\n",
      "Processing i =  319  out of  337\n",
      "Processing i =  320  out of  337\n",
      "Processing i =  321  out of  337\n",
      "Processing i =  322  out of  337\n",
      "Processing i =  323  out of  337\n",
      "Processing i =  324  out of  337\n",
      "Processing i =  325  out of  337\n",
      "Processing i =  326  out of  337\n",
      "Processing i =  327  out of  337\n",
      "Processing i =  328  out of  337\n",
      "Processing i =  329  out of  337\n",
      "Processing i =  330  out of  337\n",
      "Processing i =  331  out of  337\n",
      "Processing i =  332  out of  337\n",
      "Processing i =  333  out of  337\n",
      "Processing i =  334  out of  337\n",
      "Processing i =  335  out of  337\n",
      "Processing i =  336  out of  337\n",
      "Processing i =  337  out of  337\n",
      "\n",
      "Processing CV 7 / 10....\n",
      "Processing i =  1  out of  336\n",
      "Processing i =  2  out of  336\n",
      "Processing i =  3  out of  336\n",
      "Processing i =  4  out of  336\n",
      "Processing i =  5  out of  336\n",
      "Processing i =  6  out of  336\n",
      "Processing i =  7  out of  336\n",
      "Processing i =  8  out of  336\n",
      "Processing i =  9  out of  336\n",
      "Processing i =  10  out of  336\n",
      "Processing i =  11  out of  336\n",
      "Processing i =  12  out of  336\n",
      "Processing i =  13  out of  336\n",
      "Processing i =  14  out of  336\n",
      "Processing i =  15  out of  336\n",
      "Processing i =  16  out of  336\n",
      "Processing i =  17  out of  336\n",
      "Processing i =  18  out of  336\n",
      "Processing i =  19  out of  336\n",
      "Processing i =  20  out of  336\n",
      "Processing i =  21  out of  336\n",
      "Processing i =  22  out of  336\n",
      "Processing i =  23  out of  336\n",
      "Processing i =  24  out of  336\n",
      "Processing i =  25  out of  336\n",
      "Processing i =  26  out of  336\n",
      "Processing i =  27  out of  336\n",
      "Processing i =  28  out of  336\n",
      "Processing i =  29  out of  336\n",
      "Processing i =  30  out of  336\n",
      "Processing i =  31  out of  336\n",
      "Processing i =  32  out of  336\n",
      "Processing i =  33  out of  336\n",
      "Processing i =  34  out of  336\n",
      "Processing i =  35  out of  336\n",
      "Processing i =  36  out of  336\n",
      "Processing i =  37  out of  336\n",
      "Processing i =  38  out of  336\n",
      "Processing i =  39  out of  336\n",
      "Processing i =  40  out of  336\n",
      "Processing i =  41  out of  336\n",
      "Processing i =  42  out of  336\n",
      "Processing i =  43  out of  336\n",
      "Processing i =  44  out of  336\n",
      "Processing i =  45  out of  336\n",
      "Processing i =  46  out of  336\n",
      "Processing i =  47  out of  336\n",
      "Processing i =  48  out of  336\n",
      "Processing i =  49  out of  336\n",
      "Processing i =  50  out of  336\n",
      "Processing i =  51  out of  336\n",
      "Processing i =  52  out of  336\n",
      "Processing i =  53  out of  336\n",
      "Processing i =  54  out of  336\n",
      "Processing i =  55  out of  336\n",
      "Processing i =  56  out of  336\n",
      "Processing i =  57  out of  336\n",
      "Processing i =  58  out of  336\n",
      "Processing i =  59  out of  336\n",
      "Processing i =  60  out of  336\n",
      "Processing i =  61  out of  336\n",
      "Processing i =  62  out of  336\n",
      "Processing i =  63  out of  336\n",
      "Processing i =  64  out of  336\n",
      "Processing i =  65  out of  336\n",
      "Processing i =  66  out of  336\n",
      "Processing i =  67  out of  336\n",
      "Processing i =  68  out of  336\n",
      "Processing i =  69  out of  336\n",
      "Processing i =  70  out of  336\n",
      "Processing i =  71  out of  336\n",
      "Processing i =  72  out of  336\n",
      "Processing i =  73  out of  336\n",
      "Processing i =  74  out of  336\n",
      "Processing i =  75  out of  336\n",
      "Processing i =  76  out of  336\n",
      "Processing i =  77  out of  336\n",
      "Processing i =  78  out of  336\n",
      "Processing i =  79  out of  336\n",
      "Processing i =  80  out of  336\n",
      "Processing i =  81  out of  336\n",
      "Processing i =  82  out of  336\n",
      "Processing i =  83  out of  336\n",
      "Processing i =  84  out of  336\n",
      "Processing i =  85  out of  336\n",
      "Processing i =  86  out of  336\n",
      "Processing i =  87  out of  336\n",
      "Processing i =  88  out of  336\n",
      "Processing i =  89  out of  336\n",
      "Processing i =  90  out of  336\n",
      "Processing i =  91  out of  336\n",
      "Processing i =  92  out of  336\n",
      "Processing i =  93  out of  336\n",
      "Processing i =  94  out of  336\n",
      "Processing i =  95  out of  336\n",
      "Processing i =  96  out of  336\n",
      "Processing i =  97  out of  336\n",
      "Processing i =  98  out of  336\n",
      "Processing i =  99  out of  336\n",
      "Processing i =  100  out of  336\n",
      "Processing i =  101  out of  336\n",
      "Processing i =  102  out of  336\n",
      "Processing i =  103  out of  336\n",
      "Processing i =  104  out of  336\n",
      "Processing i =  105  out of  336\n",
      "Processing i =  106  out of  336\n",
      "Processing i =  107  out of  336\n",
      "Processing i =  108  out of  336\n",
      "Processing i =  109  out of  336\n",
      "Processing i =  110  out of  336\n",
      "Processing i =  111  out of  336\n",
      "Processing i =  112  out of  336\n",
      "Processing i =  113  out of  336\n",
      "Processing i =  114  out of  336\n",
      "Processing i =  115  out of  336\n",
      "Processing i =  116  out of  336\n",
      "Processing i =  117  out of  336\n",
      "Processing i =  118  out of  336\n",
      "Processing i =  119  out of  336\n",
      "Processing i =  120  out of  336\n",
      "Processing i =  121  out of  336\n",
      "Processing i =  122  out of  336\n",
      "Processing i =  123  out of  336\n",
      "Processing i =  124  out of  336\n",
      "Processing i =  125  out of  336\n",
      "Processing i =  126  out of  336\n",
      "Processing i =  127  out of  336\n",
      "Processing i =  128  out of  336\n",
      "Processing i =  129  out of  336\n",
      "Processing i =  130  out of  336\n",
      "Processing i =  131  out of  336\n",
      "Processing i =  132  out of  336\n",
      "Processing i =  133  out of  336\n",
      "Processing i =  134  out of  336\n",
      "Processing i =  135  out of  336\n",
      "Processing i =  136  out of  336\n",
      "Processing i =  137  out of  336\n",
      "Processing i =  138  out of  336\n",
      "Processing i =  139  out of  336\n",
      "Processing i =  140  out of  336\n",
      "Processing i =  141  out of  336\n",
      "Processing i =  142  out of  336\n",
      "Processing i =  143  out of  336\n",
      "Processing i =  144  out of  336\n",
      "Processing i =  145  out of  336\n",
      "Processing i =  146  out of  336\n",
      "Processing i =  147  out of  336\n",
      "Processing i =  148  out of  336\n",
      "Processing i =  149  out of  336\n",
      "Processing i =  150  out of  336\n",
      "Processing i =  151  out of  336\n",
      "Processing i =  152  out of  336\n",
      "Processing i =  153  out of  336\n",
      "Processing i =  154  out of  336\n",
      "Processing i =  155  out of  336\n",
      "Processing i =  156  out of  336\n",
      "Processing i =  157  out of  336\n",
      "Processing i =  158  out of  336\n",
      "Processing i =  159  out of  336\n",
      "Processing i =  160  out of  336\n",
      "Processing i =  161  out of  336\n",
      "Processing i =  162  out of  336\n",
      "Processing i =  163  out of  336\n",
      "Processing i =  164  out of  336\n",
      "Processing i =  165  out of  336\n",
      "Processing i =  166  out of  336\n",
      "Processing i =  167  out of  336\n",
      "Processing i =  168  out of  336\n",
      "Processing i =  169  out of  336\n",
      "Processing i =  170  out of  336\n",
      "Processing i =  171  out of  336\n",
      "Processing i =  172  out of  336\n",
      "Processing i =  173  out of  336\n",
      "Processing i =  174  out of  336\n",
      "Processing i =  175  out of  336\n",
      "Processing i =  176  out of  336\n",
      "Processing i =  177  out of  336\n",
      "Processing i =  178  out of  336\n",
      "Processing i =  179  out of  336\n",
      "Processing i =  180  out of  336\n",
      "Processing i =  181  out of  336\n",
      "Processing i =  182  out of  336\n",
      "Processing i =  183  out of  336\n",
      "Processing i =  184  out of  336\n",
      "Processing i =  185  out of  336\n",
      "Processing i =  186  out of  336\n",
      "Processing i =  187  out of  336\n",
      "Processing i =  188  out of  336\n",
      "Processing i =  189  out of  336\n",
      "Processing i =  190  out of  336\n",
      "Processing i =  191  out of  336\n",
      "Processing i =  192  out of  336\n",
      "Processing i =  193  out of  336\n",
      "Processing i =  194  out of  336\n",
      "Processing i =  195  out of  336\n",
      "Processing i =  196  out of  336\n",
      "Processing i =  197  out of  336\n",
      "Processing i =  198  out of  336\n",
      "Processing i =  199  out of  336\n",
      "Processing i =  200  out of  336\n",
      "Processing i =  201  out of  336\n",
      "Processing i =  202  out of  336\n",
      "Processing i =  203  out of  336\n",
      "Processing i =  204  out of  336\n",
      "Processing i =  205  out of  336\n",
      "Processing i =  206  out of  336\n",
      "Processing i =  207  out of  336\n",
      "Processing i =  208  out of  336\n",
      "Processing i =  209  out of  336\n",
      "Processing i =  210  out of  336\n",
      "Processing i =  211  out of  336\n",
      "Processing i =  212  out of  336\n",
      "Processing i =  213  out of  336\n",
      "Processing i =  214  out of  336\n",
      "Processing i =  215  out of  336\n",
      "Processing i =  216  out of  336\n",
      "Processing i =  217  out of  336\n",
      "Processing i =  218  out of  336\n",
      "Processing i =  219  out of  336\n",
      "Processing i =  220  out of  336\n",
      "Processing i =  221  out of  336\n",
      "Processing i =  222  out of  336\n",
      "Processing i =  223  out of  336\n",
      "Processing i =  224  out of  336\n",
      "Processing i =  225  out of  336\n",
      "Processing i =  226  out of  336\n",
      "Processing i =  227  out of  336\n",
      "Processing i =  228  out of  336\n",
      "Processing i =  229  out of  336\n",
      "Processing i =  230  out of  336\n",
      "Processing i =  231  out of  336\n",
      "Processing i =  232  out of  336\n",
      "Processing i =  233  out of  336\n",
      "Processing i =  234  out of  336\n",
      "Processing i =  235  out of  336\n",
      "Processing i =  236  out of  336\n",
      "Processing i =  237  out of  336\n",
      "Processing i =  238  out of  336\n",
      "Processing i =  239  out of  336\n",
      "Processing i =  240  out of  336\n",
      "Processing i =  241  out of  336\n",
      "Processing i =  242  out of  336\n",
      "Processing i =  243  out of  336\n",
      "Processing i =  244  out of  336\n",
      "Processing i =  245  out of  336\n",
      "Processing i =  246  out of  336\n",
      "Processing i =  247  out of  336\n",
      "Processing i =  248  out of  336\n",
      "Processing i =  249  out of  336\n",
      "Processing i =  250  out of  336\n",
      "Processing i =  251  out of  336\n",
      "Processing i =  252  out of  336\n",
      "Processing i =  253  out of  336\n",
      "Processing i =  254  out of  336\n",
      "Processing i =  255  out of  336\n",
      "Processing i =  256  out of  336\n",
      "Processing i =  257  out of  336\n",
      "Processing i =  258  out of  336\n",
      "Processing i =  259  out of  336\n",
      "Processing i =  260  out of  336\n",
      "Processing i =  261  out of  336\n",
      "Processing i =  262  out of  336\n",
      "Processing i =  263  out of  336\n",
      "Processing i =  264  out of  336\n",
      "Processing i =  265  out of  336\n",
      "Processing i =  266  out of  336\n",
      "Processing i =  267  out of  336\n",
      "Processing i =  268  out of  336\n",
      "Processing i =  269  out of  336\n",
      "Processing i =  270  out of  336\n",
      "Processing i =  271  out of  336\n",
      "Processing i =  272  out of  336\n",
      "Processing i =  273  out of  336\n",
      "Processing i =  274  out of  336\n",
      "Processing i =  275  out of  336\n",
      "Processing i =  276  out of  336\n",
      "Processing i =  277  out of  336\n",
      "Processing i =  278  out of  336\n",
      "Processing i =  279  out of  336\n",
      "Processing i =  280  out of  336\n",
      "Processing i =  281  out of  336\n",
      "Processing i =  282  out of  336\n",
      "Processing i =  283  out of  336\n",
      "Processing i =  284  out of  336\n",
      "Processing i =  285  out of  336\n",
      "Processing i =  286  out of  336\n",
      "Processing i =  287  out of  336\n",
      "Processing i =  288  out of  336\n",
      "Processing i =  289  out of  336\n",
      "Processing i =  290  out of  336\n",
      "Processing i =  291  out of  336\n",
      "Processing i =  292  out of  336\n",
      "Processing i =  293  out of  336\n",
      "Processing i =  294  out of  336\n",
      "Processing i =  295  out of  336\n",
      "Processing i =  296  out of  336\n",
      "Processing i =  297  out of  336\n",
      "Processing i =  298  out of  336\n",
      "Processing i =  299  out of  336\n",
      "Processing i =  300  out of  336\n",
      "Processing i =  301  out of  336\n",
      "Processing i =  302  out of  336\n",
      "Processing i =  303  out of  336\n",
      "Processing i =  304  out of  336\n",
      "Processing i =  305  out of  336\n",
      "Processing i =  306  out of  336\n",
      "Processing i =  307  out of  336\n",
      "Processing i =  308  out of  336\n",
      "Processing i =  309  out of  336\n",
      "Processing i =  310  out of  336\n",
      "Processing i =  311  out of  336\n",
      "Processing i =  312  out of  336\n",
      "Processing i =  313  out of  336\n",
      "Processing i =  314  out of  336\n",
      "Processing i =  315  out of  336\n",
      "Processing i =  316  out of  336\n",
      "Processing i =  317  out of  336\n",
      "Processing i =  318  out of  336\n",
      "Processing i =  319  out of  336\n",
      "Processing i =  320  out of  336\n",
      "Processing i =  321  out of  336\n",
      "Processing i =  322  out of  336\n",
      "Processing i =  323  out of  336\n",
      "Processing i =  324  out of  336\n",
      "Processing i =  325  out of  336\n",
      "Processing i =  326  out of  336\n",
      "Processing i =  327  out of  336\n",
      "Processing i =  328  out of  336\n",
      "Processing i =  329  out of  336\n",
      "Processing i =  330  out of  336\n",
      "Processing i =  331  out of  336\n",
      "Processing i =  332  out of  336\n",
      "Processing i =  333  out of  336\n",
      "Processing i =  334  out of  336\n",
      "Processing i =  335  out of  336\n",
      "Processing i =  336  out of  336\n",
      "\n",
      "Processing CV 8 / 10....\n",
      "Processing i =  1  out of  336\n",
      "Processing i =  2  out of  336\n",
      "Processing i =  3  out of  336\n",
      "Processing i =  4  out of  336\n",
      "Processing i =  5  out of  336\n",
      "Processing i =  6  out of  336\n",
      "Processing i =  7  out of  336\n",
      "Processing i =  8  out of  336\n",
      "Processing i =  9  out of  336\n",
      "Processing i =  10  out of  336\n",
      "Processing i =  11  out of  336\n",
      "Processing i =  12  out of  336\n",
      "Processing i =  13  out of  336\n",
      "Processing i =  14  out of  336\n",
      "Processing i =  15  out of  336\n",
      "Processing i =  16  out of  336\n",
      "Processing i =  17  out of  336\n",
      "Processing i =  18  out of  336\n",
      "Processing i =  19  out of  336\n",
      "Processing i =  20  out of  336\n",
      "Processing i =  21  out of  336\n",
      "Processing i =  22  out of  336\n",
      "Processing i =  23  out of  336\n",
      "Processing i =  24  out of  336\n",
      "Processing i =  25  out of  336\n",
      "Processing i =  26  out of  336\n",
      "Processing i =  27  out of  336\n",
      "Processing i =  28  out of  336\n",
      "Processing i =  29  out of  336\n",
      "Processing i =  30  out of  336\n",
      "Processing i =  31  out of  336\n",
      "Processing i =  32  out of  336\n",
      "Processing i =  33  out of  336\n",
      "Processing i =  34  out of  336\n",
      "Processing i =  35  out of  336\n",
      "Processing i =  36  out of  336\n",
      "Processing i =  37  out of  336\n",
      "Processing i =  38  out of  336\n",
      "Processing i =  39  out of  336\n",
      "Processing i =  40  out of  336\n",
      "Processing i =  41  out of  336\n",
      "Processing i =  42  out of  336\n",
      "Processing i =  43  out of  336\n",
      "Processing i =  44  out of  336\n",
      "Processing i =  45  out of  336\n",
      "Processing i =  46  out of  336\n",
      "Processing i =  47  out of  336\n",
      "Processing i =  48  out of  336\n",
      "Processing i =  49  out of  336\n",
      "Processing i =  50  out of  336\n",
      "Processing i =  51  out of  336\n",
      "Processing i =  52  out of  336\n",
      "Processing i =  53  out of  336\n",
      "Processing i =  54  out of  336\n",
      "Processing i =  55  out of  336\n",
      "Processing i =  56  out of  336\n",
      "Processing i =  57  out of  336\n",
      "Processing i =  58  out of  336\n",
      "Processing i =  59  out of  336\n",
      "Processing i =  60  out of  336\n",
      "Processing i =  61  out of  336\n",
      "Processing i =  62  out of  336\n",
      "Processing i =  63  out of  336\n",
      "Processing i =  64  out of  336\n",
      "Processing i =  65  out of  336\n",
      "Processing i =  66  out of  336\n",
      "Processing i =  67  out of  336\n",
      "Processing i =  68  out of  336\n",
      "Processing i =  69  out of  336\n",
      "Processing i =  70  out of  336\n",
      "Processing i =  71  out of  336\n",
      "Processing i =  72  out of  336\n",
      "Processing i =  73  out of  336\n",
      "Processing i =  74  out of  336\n",
      "Processing i =  75  out of  336\n",
      "Processing i =  76  out of  336\n",
      "Processing i =  77  out of  336\n",
      "Processing i =  78  out of  336\n",
      "Processing i =  79  out of  336\n",
      "Processing i =  80  out of  336\n",
      "Processing i =  81  out of  336\n",
      "Processing i =  82  out of  336\n",
      "Processing i =  83  out of  336\n",
      "Processing i =  84  out of  336\n",
      "Processing i =  85  out of  336\n",
      "Processing i =  86  out of  336\n",
      "Processing i =  87  out of  336\n",
      "Processing i =  88  out of  336\n",
      "Processing i =  89  out of  336\n",
      "Processing i =  90  out of  336\n",
      "Processing i =  91  out of  336\n",
      "Processing i =  92  out of  336\n",
      "Processing i =  93  out of  336\n",
      "Processing i =  94  out of  336\n",
      "Processing i =  95  out of  336\n",
      "Processing i =  96  out of  336\n",
      "Processing i =  97  out of  336\n",
      "Processing i =  98  out of  336\n",
      "Processing i =  99  out of  336\n",
      "Processing i =  100  out of  336\n",
      "Processing i =  101  out of  336\n",
      "Processing i =  102  out of  336\n",
      "Processing i =  103  out of  336\n",
      "Processing i =  104  out of  336\n",
      "Processing i =  105  out of  336\n",
      "Processing i =  106  out of  336\n",
      "Processing i =  107  out of  336\n",
      "Processing i =  108  out of  336\n",
      "Processing i =  109  out of  336\n",
      "Processing i =  110  out of  336\n",
      "Processing i =  111  out of  336\n",
      "Processing i =  112  out of  336\n",
      "Processing i =  113  out of  336\n",
      "Processing i =  114  out of  336\n",
      "Processing i =  115  out of  336\n",
      "Processing i =  116  out of  336\n",
      "Processing i =  117  out of  336\n",
      "Processing i =  118  out of  336\n",
      "Processing i =  119  out of  336\n",
      "Processing i =  120  out of  336\n",
      "Processing i =  121  out of  336\n",
      "Processing i =  122  out of  336\n",
      "Processing i =  123  out of  336\n",
      "Processing i =  124  out of  336\n",
      "Processing i =  125  out of  336\n",
      "Processing i =  126  out of  336\n",
      "Processing i =  127  out of  336\n",
      "Processing i =  128  out of  336\n",
      "Processing i =  129  out of  336\n",
      "Processing i =  130  out of  336\n",
      "Processing i =  131  out of  336\n",
      "Processing i =  132  out of  336\n",
      "Processing i =  133  out of  336\n",
      "Processing i =  134  out of  336\n",
      "Processing i =  135  out of  336\n",
      "Processing i =  136  out of  336\n",
      "Processing i =  137  out of  336\n",
      "Processing i =  138  out of  336\n",
      "Processing i =  139  out of  336\n",
      "Processing i =  140  out of  336\n",
      "Processing i =  141  out of  336\n",
      "Processing i =  142  out of  336\n",
      "Processing i =  143  out of  336\n",
      "Processing i =  144  out of  336\n",
      "Processing i =  145  out of  336\n",
      "Processing i =  146  out of  336\n",
      "Processing i =  147  out of  336\n",
      "Processing i =  148  out of  336\n",
      "Processing i =  149  out of  336\n",
      "Processing i =  150  out of  336\n",
      "Processing i =  151  out of  336\n",
      "Processing i =  152  out of  336\n",
      "Processing i =  153  out of  336\n",
      "Processing i =  154  out of  336\n",
      "Processing i =  155  out of  336\n",
      "Processing i =  156  out of  336\n",
      "Processing i =  157  out of  336\n",
      "Processing i =  158  out of  336\n",
      "Processing i =  159  out of  336\n",
      "Processing i =  160  out of  336\n",
      "Processing i =  161  out of  336\n",
      "Processing i =  162  out of  336\n",
      "Processing i =  163  out of  336\n",
      "Processing i =  164  out of  336\n",
      "Processing i =  165  out of  336\n",
      "Processing i =  166  out of  336\n",
      "Processing i =  167  out of  336\n",
      "Processing i =  168  out of  336\n",
      "Processing i =  169  out of  336\n",
      "Processing i =  170  out of  336\n",
      "Processing i =  171  out of  336\n",
      "Processing i =  172  out of  336\n",
      "Processing i =  173  out of  336\n",
      "Processing i =  174  out of  336\n",
      "Processing i =  175  out of  336\n",
      "Processing i =  176  out of  336\n",
      "Processing i =  177  out of  336\n",
      "Processing i =  178  out of  336\n",
      "Processing i =  179  out of  336\n",
      "Processing i =  180  out of  336\n",
      "Processing i =  181  out of  336\n",
      "Processing i =  182  out of  336\n",
      "Processing i =  183  out of  336\n",
      "Processing i =  184  out of  336\n",
      "Processing i =  185  out of  336\n",
      "Processing i =  186  out of  336\n",
      "Processing i =  187  out of  336\n",
      "Processing i =  188  out of  336\n",
      "Processing i =  189  out of  336\n",
      "Processing i =  190  out of  336\n",
      "Processing i =  191  out of  336\n",
      "Processing i =  192  out of  336\n",
      "Processing i =  193  out of  336\n",
      "Processing i =  194  out of  336\n",
      "Processing i =  195  out of  336\n",
      "Processing i =  196  out of  336\n",
      "Processing i =  197  out of  336\n",
      "Processing i =  198  out of  336\n",
      "Processing i =  199  out of  336\n",
      "Processing i =  200  out of  336\n",
      "Processing i =  201  out of  336\n",
      "Processing i =  202  out of  336\n",
      "Processing i =  203  out of  336\n",
      "Processing i =  204  out of  336\n",
      "Processing i =  205  out of  336\n",
      "Processing i =  206  out of  336\n",
      "Processing i =  207  out of  336\n",
      "Processing i =  208  out of  336\n",
      "Processing i =  209  out of  336\n",
      "Processing i =  210  out of  336\n",
      "Processing i =  211  out of  336\n",
      "Processing i =  212  out of  336\n",
      "Processing i =  213  out of  336\n",
      "Processing i =  214  out of  336\n",
      "Processing i =  215  out of  336\n",
      "Processing i =  216  out of  336\n",
      "Processing i =  217  out of  336\n",
      "Processing i =  218  out of  336\n",
      "Processing i =  219  out of  336\n",
      "Processing i =  220  out of  336\n",
      "Processing i =  221  out of  336\n",
      "Processing i =  222  out of  336\n",
      "Processing i =  223  out of  336\n",
      "Processing i =  224  out of  336\n",
      "Processing i =  225  out of  336\n",
      "Processing i =  226  out of  336\n",
      "Processing i =  227  out of  336\n",
      "Processing i =  228  out of  336\n",
      "Processing i =  229  out of  336\n",
      "Processing i =  230  out of  336\n",
      "Processing i =  231  out of  336\n",
      "Processing i =  232  out of  336\n",
      "Processing i =  233  out of  336\n",
      "Processing i =  234  out of  336\n",
      "Processing i =  235  out of  336\n",
      "Processing i =  236  out of  336\n",
      "Processing i =  237  out of  336\n",
      "Processing i =  238  out of  336\n",
      "Processing i =  239  out of  336\n",
      "Processing i =  240  out of  336\n",
      "Processing i =  241  out of  336\n",
      "Processing i =  242  out of  336\n",
      "Processing i =  243  out of  336\n",
      "Processing i =  244  out of  336\n",
      "Processing i =  245  out of  336\n",
      "Processing i =  246  out of  336\n",
      "Processing i =  247  out of  336\n",
      "Processing i =  248  out of  336\n",
      "Processing i =  249  out of  336\n",
      "Processing i =  250  out of  336\n",
      "Processing i =  251  out of  336\n",
      "Processing i =  252  out of  336\n",
      "Processing i =  253  out of  336\n",
      "Processing i =  254  out of  336\n",
      "Processing i =  255  out of  336\n",
      "Processing i =  256  out of  336\n",
      "Processing i =  257  out of  336\n",
      "Processing i =  258  out of  336\n",
      "Processing i =  259  out of  336\n",
      "Processing i =  260  out of  336\n",
      "Processing i =  261  out of  336\n",
      "Processing i =  262  out of  336\n",
      "Processing i =  263  out of  336\n",
      "Processing i =  264  out of  336\n",
      "Processing i =  265  out of  336\n",
      "Processing i =  266  out of  336\n",
      "Processing i =  267  out of  336\n",
      "Processing i =  268  out of  336\n",
      "Processing i =  269  out of  336\n",
      "Processing i =  270  out of  336\n",
      "Processing i =  271  out of  336\n",
      "Processing i =  272  out of  336\n",
      "Processing i =  273  out of  336\n",
      "Processing i =  274  out of  336\n",
      "Processing i =  275  out of  336\n",
      "Processing i =  276  out of  336\n",
      "Processing i =  277  out of  336\n",
      "Processing i =  278  out of  336\n",
      "Processing i =  279  out of  336\n",
      "Processing i =  280  out of  336\n",
      "Processing i =  281  out of  336\n",
      "Processing i =  282  out of  336\n",
      "Processing i =  283  out of  336\n",
      "Processing i =  284  out of  336\n",
      "Processing i =  285  out of  336\n",
      "Processing i =  286  out of  336\n",
      "Processing i =  287  out of  336\n",
      "Processing i =  288  out of  336\n",
      "Processing i =  289  out of  336\n",
      "Processing i =  290  out of  336\n",
      "Processing i =  291  out of  336\n",
      "Processing i =  292  out of  336\n",
      "Processing i =  293  out of  336\n",
      "Processing i =  294  out of  336\n",
      "Processing i =  295  out of  336\n",
      "Processing i =  296  out of  336\n",
      "Processing i =  297  out of  336\n",
      "Processing i =  298  out of  336\n",
      "Processing i =  299  out of  336\n",
      "Processing i =  300  out of  336\n",
      "Processing i =  301  out of  336\n",
      "Processing i =  302  out of  336\n",
      "Processing i =  303  out of  336\n",
      "Processing i =  304  out of  336\n",
      "Processing i =  305  out of  336\n",
      "Processing i =  306  out of  336\n",
      "Processing i =  307  out of  336\n",
      "Processing i =  308  out of  336\n",
      "Processing i =  309  out of  336\n",
      "Processing i =  310  out of  336\n",
      "Processing i =  311  out of  336\n",
      "Processing i =  312  out of  336\n",
      "Processing i =  313  out of  336\n",
      "Processing i =  314  out of  336\n",
      "Processing i =  315  out of  336\n",
      "Processing i =  316  out of  336\n",
      "Processing i =  317  out of  336\n",
      "Processing i =  318  out of  336\n",
      "Processing i =  319  out of  336\n",
      "Processing i =  320  out of  336\n",
      "Processing i =  321  out of  336\n",
      "Processing i =  322  out of  336\n",
      "Processing i =  323  out of  336\n",
      "Processing i =  324  out of  336\n",
      "Processing i =  325  out of  336\n",
      "Processing i =  326  out of  336\n",
      "Processing i =  327  out of  336\n",
      "Processing i =  328  out of  336\n",
      "Processing i =  329  out of  336\n",
      "Processing i =  330  out of  336\n",
      "Processing i =  331  out of  336\n",
      "Processing i =  332  out of  336\n",
      "Processing i =  333  out of  336\n",
      "Processing i =  334  out of  336\n",
      "Processing i =  335  out of  336\n",
      "Processing i =  336  out of  336\n",
      "\n",
      "Processing CV 9 / 10....\n",
      "Processing i =  1  out of  336\n",
      "Processing i =  2  out of  336\n",
      "Processing i =  3  out of  336\n",
      "Processing i =  4  out of  336\n",
      "Processing i =  5  out of  336\n",
      "Processing i =  6  out of  336\n",
      "Processing i =  7  out of  336\n",
      "Processing i =  8  out of  336\n",
      "Processing i =  9  out of  336\n",
      "Processing i =  10  out of  336\n",
      "Processing i =  11  out of  336\n",
      "Processing i =  12  out of  336\n",
      "Processing i =  13  out of  336\n",
      "Processing i =  14  out of  336\n",
      "Processing i =  15  out of  336\n",
      "Processing i =  16  out of  336\n",
      "Processing i =  17  out of  336\n",
      "Processing i =  18  out of  336\n",
      "Processing i =  19  out of  336\n",
      "Processing i =  20  out of  336\n",
      "Processing i =  21  out of  336\n",
      "Processing i =  22  out of  336\n",
      "Processing i =  23  out of  336\n",
      "Processing i =  24  out of  336\n",
      "Processing i =  25  out of  336\n",
      "Processing i =  26  out of  336\n",
      "Processing i =  27  out of  336\n",
      "Processing i =  28  out of  336\n",
      "Processing i =  29  out of  336\n",
      "Processing i =  30  out of  336\n",
      "Processing i =  31  out of  336\n",
      "Processing i =  32  out of  336\n",
      "Processing i =  33  out of  336\n",
      "Processing i =  34  out of  336\n",
      "Processing i =  35  out of  336\n",
      "Processing i =  36  out of  336\n",
      "Processing i =  37  out of  336\n",
      "Processing i =  38  out of  336\n",
      "Processing i =  39  out of  336\n",
      "Processing i =  40  out of  336\n",
      "Processing i =  41  out of  336\n",
      "Processing i =  42  out of  336\n",
      "Processing i =  43  out of  336\n",
      "Processing i =  44  out of  336\n",
      "Processing i =  45  out of  336\n",
      "Processing i =  46  out of  336\n",
      "Processing i =  47  out of  336\n",
      "Processing i =  48  out of  336\n",
      "Processing i =  49  out of  336\n",
      "Processing i =  50  out of  336\n",
      "Processing i =  51  out of  336\n",
      "Processing i =  52  out of  336\n",
      "Processing i =  53  out of  336\n",
      "Processing i =  54  out of  336\n",
      "Processing i =  55  out of  336\n",
      "Processing i =  56  out of  336\n",
      "Processing i =  57  out of  336\n",
      "Processing i =  58  out of  336\n",
      "Processing i =  59  out of  336\n",
      "Processing i =  60  out of  336\n",
      "Processing i =  61  out of  336\n",
      "Processing i =  62  out of  336\n",
      "Processing i =  63  out of  336\n",
      "Processing i =  64  out of  336\n",
      "Processing i =  65  out of  336\n",
      "Processing i =  66  out of  336\n",
      "Processing i =  67  out of  336\n",
      "Processing i =  68  out of  336\n",
      "Processing i =  69  out of  336\n",
      "Processing i =  70  out of  336\n",
      "Processing i =  71  out of  336\n",
      "Processing i =  72  out of  336\n",
      "Processing i =  73  out of  336\n",
      "Processing i =  74  out of  336\n",
      "Processing i =  75  out of  336\n",
      "Processing i =  76  out of  336\n",
      "Processing i =  77  out of  336\n",
      "Processing i =  78  out of  336\n",
      "Processing i =  79  out of  336\n",
      "Processing i =  80  out of  336\n",
      "Processing i =  81  out of  336\n",
      "Processing i =  82  out of  336\n",
      "Processing i =  83  out of  336\n",
      "Processing i =  84  out of  336\n",
      "Processing i =  85  out of  336\n",
      "Processing i =  86  out of  336\n",
      "Processing i =  87  out of  336\n",
      "Processing i =  88  out of  336\n",
      "Processing i =  89  out of  336\n",
      "Processing i =  90  out of  336\n",
      "Processing i =  91  out of  336\n",
      "Processing i =  92  out of  336\n",
      "Processing i =  93  out of  336\n",
      "Processing i =  94  out of  336\n",
      "Processing i =  95  out of  336\n",
      "Processing i =  96  out of  336\n",
      "Processing i =  97  out of  336\n",
      "Processing i =  98  out of  336\n",
      "Processing i =  99  out of  336\n",
      "Processing i =  100  out of  336\n",
      "Processing i =  101  out of  336\n",
      "Processing i =  102  out of  336\n",
      "Processing i =  103  out of  336\n",
      "Processing i =  104  out of  336\n",
      "Processing i =  105  out of  336\n",
      "Processing i =  106  out of  336\n",
      "Processing i =  107  out of  336\n",
      "Processing i =  108  out of  336\n",
      "Processing i =  109  out of  336\n",
      "Processing i =  110  out of  336\n",
      "Processing i =  111  out of  336\n",
      "Processing i =  112  out of  336\n",
      "Processing i =  113  out of  336\n",
      "Processing i =  114  out of  336\n",
      "Processing i =  115  out of  336\n",
      "Processing i =  116  out of  336\n",
      "Processing i =  117  out of  336\n",
      "Processing i =  118  out of  336\n",
      "Processing i =  119  out of  336\n",
      "Processing i =  120  out of  336\n",
      "Processing i =  121  out of  336\n",
      "Processing i =  122  out of  336\n",
      "Processing i =  123  out of  336\n",
      "Processing i =  124  out of  336\n",
      "Processing i =  125  out of  336\n",
      "Processing i =  126  out of  336\n",
      "Processing i =  127  out of  336\n",
      "Processing i =  128  out of  336\n",
      "Processing i =  129  out of  336\n",
      "Processing i =  130  out of  336\n",
      "Processing i =  131  out of  336\n",
      "Processing i =  132  out of  336\n",
      "Processing i =  133  out of  336\n",
      "Processing i =  134  out of  336\n",
      "Processing i =  135  out of  336\n",
      "Processing i =  136  out of  336\n",
      "Processing i =  137  out of  336\n",
      "Processing i =  138  out of  336\n",
      "Processing i =  139  out of  336\n",
      "Processing i =  140  out of  336\n",
      "Processing i =  141  out of  336\n",
      "Processing i =  142  out of  336\n",
      "Processing i =  143  out of  336\n",
      "Processing i =  144  out of  336\n",
      "Processing i =  145  out of  336\n",
      "Processing i =  146  out of  336\n",
      "Processing i =  147  out of  336\n",
      "Processing i =  148  out of  336\n",
      "Processing i =  149  out of  336\n",
      "Processing i =  150  out of  336\n",
      "Processing i =  151  out of  336\n",
      "Processing i =  152  out of  336\n",
      "Processing i =  153  out of  336\n",
      "Processing i =  154  out of  336\n",
      "Processing i =  155  out of  336\n",
      "Processing i =  156  out of  336\n",
      "Processing i =  157  out of  336\n",
      "Processing i =  158  out of  336\n",
      "Processing i =  159  out of  336\n",
      "Processing i =  160  out of  336\n",
      "Processing i =  161  out of  336\n",
      "Processing i =  162  out of  336\n",
      "Processing i =  163  out of  336\n",
      "Processing i =  164  out of  336\n",
      "Processing i =  165  out of  336\n",
      "Processing i =  166  out of  336\n",
      "Processing i =  167  out of  336\n",
      "Processing i =  168  out of  336\n",
      "Processing i =  169  out of  336\n",
      "Processing i =  170  out of  336\n",
      "Processing i =  171  out of  336\n",
      "Processing i =  172  out of  336\n",
      "Processing i =  173  out of  336\n",
      "Processing i =  174  out of  336\n",
      "Processing i =  175  out of  336\n",
      "Processing i =  176  out of  336\n",
      "Processing i =  177  out of  336\n",
      "Processing i =  178  out of  336\n",
      "Processing i =  179  out of  336\n",
      "Processing i =  180  out of  336\n",
      "Processing i =  181  out of  336\n",
      "Processing i =  182  out of  336\n",
      "Processing i =  183  out of  336\n",
      "Processing i =  184  out of  336\n",
      "Processing i =  185  out of  336\n",
      "Processing i =  186  out of  336\n",
      "Processing i =  187  out of  336\n",
      "Processing i =  188  out of  336\n",
      "Processing i =  189  out of  336\n",
      "Processing i =  190  out of  336\n",
      "Processing i =  191  out of  336\n",
      "Processing i =  192  out of  336\n",
      "Processing i =  193  out of  336\n",
      "Processing i =  194  out of  336\n",
      "Processing i =  195  out of  336\n",
      "Processing i =  196  out of  336\n",
      "Processing i =  197  out of  336\n",
      "Processing i =  198  out of  336\n",
      "Processing i =  199  out of  336\n",
      "Processing i =  200  out of  336\n",
      "Processing i =  201  out of  336\n",
      "Processing i =  202  out of  336\n",
      "Processing i =  203  out of  336\n",
      "Processing i =  204  out of  336\n",
      "Processing i =  205  out of  336\n",
      "Processing i =  206  out of  336\n",
      "Processing i =  207  out of  336\n",
      "Processing i =  208  out of  336\n",
      "Processing i =  209  out of  336\n",
      "Processing i =  210  out of  336\n",
      "Processing i =  211  out of  336\n",
      "Processing i =  212  out of  336\n",
      "Processing i =  213  out of  336\n",
      "Processing i =  214  out of  336\n",
      "Processing i =  215  out of  336\n",
      "Processing i =  216  out of  336\n",
      "Processing i =  217  out of  336\n",
      "Processing i =  218  out of  336\n",
      "Processing i =  219  out of  336\n",
      "Processing i =  220  out of  336\n",
      "Processing i =  221  out of  336\n",
      "Processing i =  222  out of  336\n",
      "Processing i =  223  out of  336\n",
      "Processing i =  224  out of  336\n",
      "Processing i =  225  out of  336\n",
      "Processing i =  226  out of  336\n",
      "Processing i =  227  out of  336\n",
      "Processing i =  228  out of  336\n",
      "Processing i =  229  out of  336\n",
      "Processing i =  230  out of  336\n",
      "Processing i =  231  out of  336\n",
      "Processing i =  232  out of  336\n",
      "Processing i =  233  out of  336\n",
      "Processing i =  234  out of  336\n",
      "Processing i =  235  out of  336\n",
      "Processing i =  236  out of  336\n",
      "Processing i =  237  out of  336\n",
      "Processing i =  238  out of  336\n",
      "Processing i =  239  out of  336\n",
      "Processing i =  240  out of  336\n",
      "Processing i =  241  out of  336\n",
      "Processing i =  242  out of  336\n",
      "Processing i =  243  out of  336\n",
      "Processing i =  244  out of  336\n",
      "Processing i =  245  out of  336\n",
      "Processing i =  246  out of  336\n",
      "Processing i =  247  out of  336\n",
      "Processing i =  248  out of  336\n",
      "Processing i =  249  out of  336\n",
      "Processing i =  250  out of  336\n",
      "Processing i =  251  out of  336\n",
      "Processing i =  252  out of  336\n",
      "Processing i =  253  out of  336\n",
      "Processing i =  254  out of  336\n",
      "Processing i =  255  out of  336\n",
      "Processing i =  256  out of  336\n",
      "Processing i =  257  out of  336\n",
      "Processing i =  258  out of  336\n",
      "Processing i =  259  out of  336\n",
      "Processing i =  260  out of  336\n",
      "Processing i =  261  out of  336\n",
      "Processing i =  262  out of  336\n",
      "Processing i =  263  out of  336\n",
      "Processing i =  264  out of  336\n",
      "Processing i =  265  out of  336\n",
      "Processing i =  266  out of  336\n",
      "Processing i =  267  out of  336\n",
      "Processing i =  268  out of  336\n",
      "Processing i =  269  out of  336\n",
      "Processing i =  270  out of  336\n",
      "Processing i =  271  out of  336\n",
      "Processing i =  272  out of  336\n",
      "Processing i =  273  out of  336\n",
      "Processing i =  274  out of  336\n",
      "Processing i =  275  out of  336\n",
      "Processing i =  276  out of  336\n",
      "Processing i =  277  out of  336\n",
      "Processing i =  278  out of  336\n",
      "Processing i =  279  out of  336\n",
      "Processing i =  280  out of  336\n",
      "Processing i =  281  out of  336\n",
      "Processing i =  282  out of  336\n",
      "Processing i =  283  out of  336\n",
      "Processing i =  284  out of  336\n",
      "Processing i =  285  out of  336\n",
      "Processing i =  286  out of  336\n",
      "Processing i =  287  out of  336\n",
      "Processing i =  288  out of  336\n",
      "Processing i =  289  out of  336\n",
      "Processing i =  290  out of  336\n",
      "Processing i =  291  out of  336\n",
      "Processing i =  292  out of  336\n",
      "Processing i =  293  out of  336\n",
      "Processing i =  294  out of  336\n",
      "Processing i =  295  out of  336\n",
      "Processing i =  296  out of  336\n",
      "Processing i =  297  out of  336\n",
      "Processing i =  298  out of  336\n",
      "Processing i =  299  out of  336\n",
      "Processing i =  300  out of  336\n",
      "Processing i =  301  out of  336\n",
      "Processing i =  302  out of  336\n",
      "Processing i =  303  out of  336\n",
      "Processing i =  304  out of  336\n",
      "Processing i =  305  out of  336\n",
      "Processing i =  306  out of  336\n",
      "Processing i =  307  out of  336\n",
      "Processing i =  308  out of  336\n",
      "Processing i =  309  out of  336\n",
      "Processing i =  310  out of  336\n",
      "Processing i =  311  out of  336\n",
      "Processing i =  312  out of  336\n",
      "Processing i =  313  out of  336\n",
      "Processing i =  314  out of  336\n",
      "Processing i =  315  out of  336\n",
      "Processing i =  316  out of  336\n",
      "Processing i =  317  out of  336\n",
      "Processing i =  318  out of  336\n",
      "Processing i =  319  out of  336\n",
      "Processing i =  320  out of  336\n",
      "Processing i =  321  out of  336\n",
      "Processing i =  322  out of  336\n",
      "Processing i =  323  out of  336\n",
      "Processing i =  324  out of  336\n",
      "Processing i =  325  out of  336\n",
      "Processing i =  326  out of  336\n",
      "Processing i =  327  out of  336\n",
      "Processing i =  328  out of  336\n",
      "Processing i =  329  out of  336\n",
      "Processing i =  330  out of  336\n",
      "Processing i =  331  out of  336\n",
      "Processing i =  332  out of  336\n",
      "Processing i =  333  out of  336\n",
      "Processing i =  334  out of  336\n",
      "Processing i =  335  out of  336\n",
      "Processing i =  336  out of  336\n",
      "\n",
      "Processing CV 10 / 10....\n",
      "Test set is before train set / CV 10, no test forecast can be made\n",
      "\n",
      "Running m4_arima with hyperparameter hp1 on ds0_test.csv for forecast horizon 30\n",
      "Pass Test 1 - Forecast horizon is >= dataset frequency\n",
      "Pass Test 2 - Hyperparameter choice is possible given the forecast horizon\n",
      "Processing CV 1 / 10....\n",
      "Processing i =  1  out of  336\n",
      "Processing i =  2  out of  336\n",
      "Processing i =  3  out of  336\n",
      "Processing i =  4  out of  336\n",
      "Processing i =  5  out of  336\n",
      "Processing i =  6  out of  336\n",
      "Processing i =  7  out of  336\n",
      "Processing i =  8  out of  336\n",
      "Processing i =  9  out of  336\n",
      "Processing i =  10  out of  336\n",
      "Processing i =  11  out of  336\n",
      "Processing i =  12  out of  336\n",
      "Processing i =  13  out of  336\n",
      "Processing i =  14  out of  336\n",
      "Processing i =  15  out of  336\n",
      "Processing i =  16  out of  336\n",
      "Processing i =  17  out of  336\n",
      "Processing i =  18  out of  336\n",
      "Processing i =  19  out of  336\n",
      "Processing i =  20  out of  336\n",
      "Processing i =  21  out of  336\n",
      "Processing i =  22  out of  336\n",
      "Processing i =  23  out of  336\n",
      "Processing i =  24  out of  336\n",
      "Processing i =  25  out of  336\n",
      "Processing i =  26  out of  336\n",
      "Processing i =  27  out of  336\n",
      "Processing i =  28  out of  336\n",
      "Processing i =  29  out of  336\n",
      "Processing i =  30  out of  336\n",
      "Processing i =  31  out of  336\n",
      "Processing i =  32  out of  336\n",
      "Processing i =  33  out of  336\n",
      "Processing i =  34  out of  336\n",
      "Processing i =  35  out of  336\n",
      "Processing i =  36  out of  336\n",
      "Processing i =  37  out of  336\n",
      "Processing i =  38  out of  336\n",
      "Processing i =  39  out of  336\n",
      "Processing i =  40  out of  336\n",
      "Processing i =  41  out of  336\n",
      "Processing i =  42  out of  336\n",
      "Processing i =  43  out of  336\n",
      "Processing i =  44  out of  336\n",
      "Processing i =  45  out of  336\n",
      "Processing i =  46  out of  336\n",
      "Processing i =  47  out of  336\n",
      "Processing i =  48  out of  336\n",
      "Processing i =  49  out of  336\n",
      "Processing i =  50  out of  336\n",
      "Processing i =  51  out of  336\n",
      "Processing i =  52  out of  336\n",
      "Processing i =  53  out of  336\n",
      "Processing i =  54  out of  336\n",
      "Processing i =  55  out of  336\n",
      "Processing i =  56  out of  336\n",
      "Processing i =  57  out of  336\n",
      "Processing i =  58  out of  336\n",
      "Processing i =  59  out of  336\n",
      "Processing i =  60  out of  336\n",
      "Processing i =  61  out of  336\n",
      "Processing i =  62  out of  336\n",
      "Processing i =  63  out of  336\n",
      "Processing i =  64  out of  336\n",
      "Processing i =  65  out of  336\n",
      "Processing i =  66  out of  336\n",
      "Processing i =  67  out of  336\n",
      "Processing i =  68  out of  336\n",
      "Processing i =  69  out of  336\n",
      "Processing i =  70  out of  336\n",
      "Processing i =  71  out of  336\n",
      "Processing i =  72  out of  336\n",
      "Processing i =  73  out of  336\n",
      "Processing i =  74  out of  336\n",
      "Processing i =  75  out of  336\n",
      "Processing i =  76  out of  336\n",
      "Processing i =  77  out of  336\n",
      "Processing i =  78  out of  336\n",
      "Processing i =  79  out of  336\n",
      "Processing i =  80  out of  336\n",
      "Processing i =  81  out of  336\n",
      "Processing i =  82  out of  336\n",
      "Processing i =  83  out of  336\n",
      "Processing i =  84  out of  336\n",
      "Processing i =  85  out of  336\n",
      "Processing i =  86  out of  336\n",
      "Processing i =  87  out of  336\n",
      "Processing i =  88  out of  336\n",
      "Processing i =  89  out of  336\n",
      "Processing i =  90  out of  336\n",
      "Processing i =  91  out of  336\n",
      "Processing i =  92  out of  336\n",
      "Processing i =  93  out of  336\n",
      "Processing i =  94  out of  336\n",
      "Processing i =  95  out of  336\n",
      "Processing i =  96  out of  336\n",
      "Processing i =  97  out of  336\n",
      "Processing i =  98  out of  336\n",
      "Processing i =  99  out of  336\n",
      "Processing i =  100  out of  336\n",
      "Processing i =  101  out of  336\n",
      "Processing i =  102  out of  336\n",
      "Processing i =  103  out of  336\n",
      "Processing i =  104  out of  336\n",
      "Processing i =  105  out of  336\n",
      "Processing i =  106  out of  336\n",
      "Processing i =  107  out of  336\n",
      "Processing i =  108  out of  336\n",
      "Processing i =  109  out of  336\n",
      "Processing i =  110  out of  336\n",
      "Processing i =  111  out of  336\n",
      "Processing i =  112  out of  336\n",
      "Processing i =  113  out of  336\n",
      "Processing i =  114  out of  336\n",
      "Processing i =  115  out of  336\n",
      "Processing i =  116  out of  336\n",
      "Processing i =  117  out of  336\n",
      "Processing i =  118  out of  336\n",
      "Processing i =  119  out of  336\n",
      "Processing i =  120  out of  336\n",
      "Processing i =  121  out of  336\n",
      "Processing i =  122  out of  336\n",
      "Processing i =  123  out of  336\n",
      "Processing i =  124  out of  336\n",
      "Processing i =  125  out of  336\n",
      "Processing i =  126  out of  336\n",
      "Processing i =  127  out of  336\n",
      "Processing i =  128  out of  336\n",
      "Processing i =  129  out of  336\n",
      "Processing i =  130  out of  336\n",
      "Processing i =  131  out of  336\n",
      "Processing i =  132  out of  336\n",
      "Processing i =  133  out of  336\n",
      "Processing i =  134  out of  336\n",
      "Processing i =  135  out of  336\n",
      "Processing i =  136  out of  336\n",
      "Processing i =  137  out of  336\n",
      "Processing i =  138  out of  336\n",
      "Processing i =  139  out of  336\n",
      "Processing i =  140  out of  336\n",
      "Processing i =  141  out of  336\n",
      "Processing i =  142  out of  336\n",
      "Processing i =  143  out of  336\n",
      "Processing i =  144  out of  336\n",
      "Processing i =  145  out of  336\n",
      "Processing i =  146  out of  336\n",
      "Processing i =  147  out of  336\n",
      "Processing i =  148  out of  336\n",
      "Processing i =  149  out of  336\n",
      "Processing i =  150  out of  336\n",
      "Processing i =  151  out of  336\n",
      "Processing i =  152  out of  336\n",
      "Processing i =  153  out of  336\n",
      "Processing i =  154  out of  336\n",
      "Processing i =  155  out of  336\n",
      "Processing i =  156  out of  336\n",
      "Processing i =  157  out of  336\n",
      "Processing i =  158  out of  336\n",
      "Processing i =  159  out of  336\n",
      "Processing i =  160  out of  336\n",
      "Processing i =  161  out of  336\n",
      "Processing i =  162  out of  336\n",
      "Processing i =  163  out of  336\n",
      "Processing i =  164  out of  336\n",
      "Processing i =  165  out of  336\n",
      "Processing i =  166  out of  336\n",
      "Processing i =  167  out of  336\n",
      "Processing i =  168  out of  336\n",
      "Processing i =  169  out of  336\n",
      "Processing i =  170  out of  336\n",
      "Processing i =  171  out of  336\n",
      "Processing i =  172  out of  336\n",
      "Processing i =  173  out of  336\n",
      "Processing i =  174  out of  336\n",
      "Processing i =  175  out of  336\n",
      "Processing i =  176  out of  336\n",
      "Processing i =  177  out of  336\n",
      "Processing i =  178  out of  336\n",
      "Processing i =  179  out of  336\n",
      "Processing i =  180  out of  336\n",
      "Processing i =  181  out of  336\n",
      "Processing i =  182  out of  336\n",
      "Processing i =  183  out of  336\n",
      "Processing i =  184  out of  336\n",
      "Processing i =  185  out of  336\n",
      "Processing i =  186  out of  336\n",
      "Processing i =  187  out of  336\n",
      "Processing i =  188  out of  336\n",
      "Processing i =  189  out of  336\n",
      "Processing i =  190  out of  336\n",
      "Processing i =  191  out of  336\n",
      "Processing i =  192  out of  336\n",
      "Processing i =  193  out of  336\n",
      "Processing i =  194  out of  336\n",
      "Processing i =  195  out of  336\n",
      "Processing i =  196  out of  336\n",
      "Processing i =  197  out of  336\n",
      "Processing i =  198  out of  336\n",
      "Processing i =  199  out of  336\n",
      "Processing i =  200  out of  336\n",
      "Processing i =  201  out of  336\n",
      "Processing i =  202  out of  336\n",
      "Processing i =  203  out of  336\n",
      "Processing i =  204  out of  336\n",
      "Processing i =  205  out of  336\n",
      "Processing i =  206  out of  336\n",
      "Processing i =  207  out of  336\n",
      "Processing i =  208  out of  336\n",
      "Processing i =  209  out of  336\n",
      "Processing i =  210  out of  336\n",
      "Processing i =  211  out of  336\n",
      "Processing i =  212  out of  336\n",
      "Processing i =  213  out of  336\n",
      "Processing i =  214  out of  336\n",
      "Processing i =  215  out of  336\n",
      "Processing i =  216  out of  336\n",
      "Processing i =  217  out of  336\n",
      "Processing i =  218  out of  336\n",
      "Processing i =  219  out of  336\n",
      "Processing i =  220  out of  336\n",
      "Processing i =  221  out of  336\n",
      "Processing i =  222  out of  336\n",
      "Processing i =  223  out of  336\n",
      "Processing i =  224  out of  336\n",
      "Processing i =  225  out of  336\n",
      "Processing i =  226  out of  336\n",
      "Processing i =  227  out of  336\n",
      "Processing i =  228  out of  336\n",
      "Processing i =  229  out of  336\n",
      "Processing i =  230  out of  336\n",
      "Processing i =  231  out of  336\n",
      "Processing i =  232  out of  336\n",
      "Processing i =  233  out of  336\n",
      "Processing i =  234  out of  336\n",
      "Processing i =  235  out of  336\n",
      "Processing i =  236  out of  336\n",
      "Processing i =  237  out of  336\n",
      "Processing i =  238  out of  336\n",
      "Processing i =  239  out of  336\n",
      "Processing i =  240  out of  336\n",
      "Processing i =  241  out of  336\n",
      "Processing i =  242  out of  336\n",
      "Processing i =  243  out of  336\n",
      "Processing i =  244  out of  336\n",
      "Processing i =  245  out of  336\n",
      "Processing i =  246  out of  336\n",
      "Processing i =  247  out of  336\n",
      "Processing i =  248  out of  336\n",
      "Processing i =  249  out of  336\n",
      "Processing i =  250  out of  336\n",
      "Processing i =  251  out of  336\n",
      "Processing i =  252  out of  336\n",
      "Processing i =  253  out of  336\n",
      "Processing i =  254  out of  336\n",
      "Processing i =  255  out of  336\n",
      "Processing i =  256  out of  336\n",
      "Processing i =  257  out of  336\n",
      "Processing i =  258  out of  336\n",
      "Processing i =  259  out of  336\n",
      "Processing i =  260  out of  336\n",
      "Processing i =  261  out of  336\n",
      "Processing i =  262  out of  336\n",
      "Processing i =  263  out of  336\n",
      "Processing i =  264  out of  336\n",
      "Processing i =  265  out of  336\n",
      "Processing i =  266  out of  336\n",
      "Processing i =  267  out of  336\n",
      "Processing i =  268  out of  336\n",
      "Processing i =  269  out of  336\n",
      "Processing i =  270  out of  336\n",
      "Processing i =  271  out of  336\n",
      "Processing i =  272  out of  336\n",
      "Processing i =  273  out of  336\n",
      "Processing i =  274  out of  336\n",
      "Processing i =  275  out of  336\n",
      "Processing i =  276  out of  336\n",
      "Processing i =  277  out of  336\n",
      "Processing i =  278  out of  336\n",
      "Processing i =  279  out of  336\n",
      "Processing i =  280  out of  336\n",
      "Processing i =  281  out of  336\n",
      "Processing i =  282  out of  336\n",
      "Processing i =  283  out of  336\n",
      "Processing i =  284  out of  336\n",
      "Processing i =  285  out of  336\n",
      "Processing i =  286  out of  336\n",
      "Processing i =  287  out of  336\n",
      "Processing i =  288  out of  336\n",
      "Processing i =  289  out of  336\n",
      "Processing i =  290  out of  336\n",
      "Processing i =  291  out of  336\n",
      "Processing i =  292  out of  336\n",
      "Processing i =  293  out of  336\n",
      "Processing i =  294  out of  336\n",
      "Processing i =  295  out of  336\n",
      "Processing i =  296  out of  336\n",
      "Processing i =  297  out of  336\n",
      "Processing i =  298  out of  336\n",
      "Processing i =  299  out of  336\n",
      "Processing i =  300  out of  336\n",
      "Processing i =  301  out of  336\n",
      "Processing i =  302  out of  336\n",
      "Processing i =  303  out of  336\n",
      "Processing i =  304  out of  336\n",
      "Processing i =  305  out of  336\n",
      "Processing i =  306  out of  336\n",
      "Processing i =  307  out of  336\n",
      "Processing i =  308  out of  336\n",
      "Processing i =  309  out of  336\n",
      "Processing i =  310  out of  336\n",
      "Processing i =  311  out of  336\n",
      "Processing i =  312  out of  336\n",
      "Processing i =  313  out of  336\n",
      "Processing i =  314  out of  336\n",
      "Processing i =  315  out of  336\n",
      "Processing i =  316  out of  336\n",
      "Processing i =  317  out of  336\n",
      "Processing i =  318  out of  336\n",
      "Processing i =  319  out of  336\n",
      "Processing i =  320  out of  336\n",
      "Processing i =  321  out of  336\n",
      "Processing i =  322  out of  336\n",
      "Processing i =  323  out of  336\n",
      "Processing i =  324  out of  336\n",
      "Processing i =  325  out of  336\n",
      "Processing i =  326  out of  336\n",
      "Processing i =  327  out of  336\n",
      "Processing i =  328  out of  336\n",
      "Processing i =  329  out of  336\n",
      "Processing i =  330  out of  336\n",
      "Processing i =  331  out of  336\n",
      "Processing i =  332  out of  336\n",
      "Processing i =  333  out of  336\n",
      "Processing i =  334  out of  336\n",
      "Processing i =  335  out of  336\n",
      "Processing i =  336  out of  336\n",
      "\n",
      "Processing CV 2 / 10....\n",
      "Processing i =  1  out of  336\n",
      "Processing i =  2  out of  336\n",
      "Processing i =  3  out of  336\n",
      "Processing i =  4  out of  336\n",
      "Processing i =  5  out of  336\n",
      "Processing i =  6  out of  336\n",
      "Processing i =  7  out of  336\n",
      "Processing i =  8  out of  336\n",
      "Processing i =  9  out of  336\n",
      "Processing i =  10  out of  336\n",
      "Processing i =  11  out of  336\n",
      "Processing i =  12  out of  336\n",
      "Processing i =  13  out of  336\n",
      "Processing i =  14  out of  336\n",
      "Processing i =  15  out of  336\n",
      "Processing i =  16  out of  336\n",
      "Processing i =  17  out of  336\n",
      "Processing i =  18  out of  336\n",
      "Processing i =  19  out of  336\n",
      "Processing i =  20  out of  336\n",
      "Processing i =  21  out of  336\n",
      "Processing i =  22  out of  336\n",
      "Processing i =  23  out of  336\n",
      "Processing i =  24  out of  336\n",
      "Processing i =  25  out of  336\n",
      "Processing i =  26  out of  336\n",
      "Processing i =  27  out of  336\n",
      "Processing i =  28  out of  336\n",
      "Processing i =  29  out of  336\n",
      "Processing i =  30  out of  336\n",
      "Processing i =  31  out of  336\n",
      "Processing i =  32  out of  336\n",
      "Processing i =  33  out of  336\n",
      "Processing i =  34  out of  336\n",
      "Processing i =  35  out of  336\n",
      "Processing i =  36  out of  336\n",
      "Processing i =  37  out of  336\n",
      "Processing i =  38  out of  336\n",
      "Processing i =  39  out of  336\n",
      "Processing i =  40  out of  336\n",
      "Processing i =  41  out of  336\n",
      "Processing i =  42  out of  336\n",
      "Processing i =  43  out of  336\n",
      "Processing i =  44  out of  336\n",
      "Processing i =  45  out of  336\n",
      "Processing i =  46  out of  336\n",
      "Processing i =  47  out of  336\n",
      "Processing i =  48  out of  336\n",
      "Processing i =  49  out of  336\n",
      "Processing i =  50  out of  336\n",
      "Processing i =  51  out of  336\n",
      "Processing i =  52  out of  336\n",
      "Processing i =  53  out of  336\n",
      "Processing i =  54  out of  336\n",
      "Processing i =  55  out of  336\n",
      "Processing i =  56  out of  336\n",
      "Processing i =  57  out of  336\n",
      "Processing i =  58  out of  336\n",
      "Processing i =  59  out of  336\n",
      "Processing i =  60  out of  336\n",
      "Processing i =  61  out of  336\n",
      "Processing i =  62  out of  336\n",
      "Processing i =  63  out of  336\n",
      "Processing i =  64  out of  336\n",
      "Processing i =  65  out of  336\n",
      "Processing i =  66  out of  336\n",
      "Processing i =  67  out of  336\n",
      "Processing i =  68  out of  336\n",
      "Processing i =  69  out of  336\n",
      "Processing i =  70  out of  336\n",
      "Processing i =  71  out of  336\n",
      "Processing i =  72  out of  336\n",
      "Processing i =  73  out of  336\n",
      "Processing i =  74  out of  336\n",
      "Processing i =  75  out of  336\n",
      "Processing i =  76  out of  336\n",
      "Processing i =  77  out of  336\n",
      "Processing i =  78  out of  336\n",
      "Processing i =  79  out of  336\n",
      "Processing i =  80  out of  336\n",
      "Processing i =  81  out of  336\n",
      "Processing i =  82  out of  336\n",
      "Processing i =  83  out of  336\n",
      "Processing i =  84  out of  336\n",
      "Processing i =  85  out of  336\n",
      "Processing i =  86  out of  336\n",
      "Processing i =  87  out of  336\n",
      "Processing i =  88  out of  336\n",
      "Processing i =  89  out of  336\n",
      "Processing i =  90  out of  336\n",
      "Processing i =  91  out of  336\n",
      "Processing i =  92  out of  336\n",
      "Processing i =  93  out of  336\n",
      "Processing i =  94  out of  336\n",
      "Processing i =  95  out of  336\n",
      "Processing i =  96  out of  336\n",
      "Processing i =  97  out of  336\n",
      "Processing i =  98  out of  336\n",
      "Processing i =  99  out of  336\n",
      "Processing i =  100  out of  336\n",
      "Processing i =  101  out of  336\n",
      "Processing i =  102  out of  336\n",
      "Processing i =  103  out of  336\n",
      "Processing i =  104  out of  336\n",
      "Processing i =  105  out of  336\n",
      "Processing i =  106  out of  336\n",
      "Processing i =  107  out of  336\n",
      "Processing i =  108  out of  336\n",
      "Processing i =  109  out of  336\n",
      "Processing i =  110  out of  336\n",
      "Processing i =  111  out of  336\n",
      "Processing i =  112  out of  336\n",
      "Processing i =  113  out of  336\n",
      "Processing i =  114  out of  336\n",
      "Processing i =  115  out of  336\n",
      "Processing i =  116  out of  336\n",
      "Processing i =  117  out of  336\n",
      "Processing i =  118  out of  336\n",
      "Processing i =  119  out of  336\n",
      "Processing i =  120  out of  336\n",
      "Processing i =  121  out of  336\n",
      "Processing i =  122  out of  336\n",
      "Processing i =  123  out of  336\n",
      "Processing i =  124  out of  336\n",
      "Processing i =  125  out of  336\n",
      "Processing i =  126  out of  336\n",
      "Processing i =  127  out of  336\n",
      "Processing i =  128  out of  336\n",
      "Processing i =  129  out of  336\n",
      "Processing i =  130  out of  336\n",
      "Processing i =  131  out of  336\n",
      "Processing i =  132  out of  336\n",
      "Processing i =  133  out of  336\n",
      "Processing i =  134  out of  336\n",
      "Processing i =  135  out of  336\n",
      "Processing i =  136  out of  336\n",
      "Processing i =  137  out of  336\n",
      "Processing i =  138  out of  336\n",
      "Processing i =  139  out of  336\n",
      "Processing i =  140  out of  336\n",
      "Processing i =  141  out of  336\n",
      "Processing i =  142  out of  336\n",
      "Processing i =  143  out of  336\n",
      "Processing i =  144  out of  336\n",
      "Processing i =  145  out of  336\n",
      "Processing i =  146  out of  336\n",
      "Processing i =  147  out of  336\n",
      "Processing i =  148  out of  336\n",
      "Processing i =  149  out of  336\n",
      "Processing i =  150  out of  336\n",
      "Processing i =  151  out of  336\n",
      "Processing i =  152  out of  336\n",
      "Processing i =  153  out of  336\n",
      "Processing i =  154  out of  336\n",
      "Processing i =  155  out of  336\n",
      "Processing i =  156  out of  336\n",
      "Processing i =  157  out of  336\n",
      "Processing i =  158  out of  336\n",
      "Processing i =  159  out of  336\n",
      "Processing i =  160  out of  336\n",
      "Processing i =  161  out of  336\n",
      "Processing i =  162  out of  336\n",
      "Processing i =  163  out of  336\n",
      "Processing i =  164  out of  336\n",
      "Processing i =  165  out of  336\n",
      "Processing i =  166  out of  336\n",
      "Processing i =  167  out of  336\n",
      "Processing i =  168  out of  336\n",
      "Processing i =  169  out of  336\n",
      "Processing i =  170  out of  336\n",
      "Processing i =  171  out of  336\n",
      "Processing i =  172  out of  336\n",
      "Processing i =  173  out of  336\n",
      "Processing i =  174  out of  336\n",
      "Processing i =  175  out of  336\n",
      "Processing i =  176  out of  336\n",
      "Processing i =  177  out of  336\n",
      "Processing i =  178  out of  336\n",
      "Processing i =  179  out of  336\n",
      "Processing i =  180  out of  336\n",
      "Processing i =  181  out of  336\n",
      "Processing i =  182  out of  336\n",
      "Processing i =  183  out of  336\n",
      "Processing i =  184  out of  336\n",
      "Processing i =  185  out of  336\n",
      "Processing i =  186  out of  336\n",
      "Processing i =  187  out of  336\n",
      "Processing i =  188  out of  336\n",
      "Processing i =  189  out of  336\n",
      "Processing i =  190  out of  336\n",
      "Processing i =  191  out of  336\n",
      "Processing i =  192  out of  336\n",
      "Processing i =  193  out of  336\n",
      "Processing i =  194  out of  336\n",
      "Processing i =  195  out of  336\n",
      "Processing i =  196  out of  336\n",
      "Processing i =  197  out of  336\n",
      "Processing i =  198  out of  336\n",
      "Processing i =  199  out of  336\n",
      "Processing i =  200  out of  336\n",
      "Processing i =  201  out of  336\n",
      "Processing i =  202  out of  336\n",
      "Processing i =  203  out of  336\n",
      "Processing i =  204  out of  336\n",
      "Processing i =  205  out of  336\n",
      "Processing i =  206  out of  336\n",
      "Processing i =  207  out of  336\n",
      "Processing i =  208  out of  336\n",
      "Processing i =  209  out of  336\n",
      "Processing i =  210  out of  336\n",
      "Processing i =  211  out of  336\n",
      "Processing i =  212  out of  336\n",
      "Processing i =  213  out of  336\n",
      "Processing i =  214  out of  336\n",
      "Processing i =  215  out of  336\n",
      "Processing i =  216  out of  336\n",
      "Processing i =  217  out of  336\n",
      "Processing i =  218  out of  336\n",
      "Processing i =  219  out of  336\n",
      "Processing i =  220  out of  336\n",
      "Processing i =  221  out of  336\n",
      "Processing i =  222  out of  336\n",
      "Processing i =  223  out of  336\n",
      "Processing i =  224  out of  336\n",
      "Processing i =  225  out of  336\n",
      "Processing i =  226  out of  336\n",
      "Processing i =  227  out of  336\n",
      "Processing i =  228  out of  336\n",
      "Processing i =  229  out of  336\n",
      "Processing i =  230  out of  336\n",
      "Processing i =  231  out of  336\n",
      "Processing i =  232  out of  336\n",
      "Processing i =  233  out of  336\n",
      "Processing i =  234  out of  336\n",
      "Processing i =  235  out of  336\n",
      "Processing i =  236  out of  336\n",
      "Processing i =  237  out of  336\n",
      "Processing i =  238  out of  336\n",
      "Processing i =  239  out of  336\n",
      "Processing i =  240  out of  336\n",
      "Processing i =  241  out of  336\n",
      "Processing i =  242  out of  336\n",
      "Processing i =  243  out of  336\n",
      "Processing i =  244  out of  336\n",
      "Processing i =  245  out of  336\n",
      "Processing i =  246  out of  336\n",
      "Processing i =  247  out of  336\n",
      "Processing i =  248  out of  336\n",
      "Processing i =  249  out of  336\n",
      "Processing i =  250  out of  336\n",
      "Processing i =  251  out of  336\n",
      "Processing i =  252  out of  336\n",
      "Processing i =  253  out of  336\n",
      "Processing i =  254  out of  336\n",
      "Processing i =  255  out of  336\n",
      "Processing i =  256  out of  336\n",
      "Processing i =  257  out of  336\n",
      "Processing i =  258  out of  336\n",
      "Processing i =  259  out of  336\n",
      "Processing i =  260  out of  336\n",
      "Processing i =  261  out of  336\n",
      "Processing i =  262  out of  336\n",
      "Processing i =  263  out of  336\n",
      "Processing i =  264  out of  336\n",
      "Processing i =  265  out of  336\n",
      "Processing i =  266  out of  336\n",
      "Processing i =  267  out of  336\n",
      "Processing i =  268  out of  336\n",
      "Processing i =  269  out of  336\n",
      "Processing i =  270  out of  336\n",
      "Processing i =  271  out of  336\n",
      "Processing i =  272  out of  336\n",
      "Processing i =  273  out of  336\n",
      "Processing i =  274  out of  336\n",
      "Processing i =  275  out of  336\n",
      "Processing i =  276  out of  336\n",
      "Processing i =  277  out of  336\n",
      "Processing i =  278  out of  336\n",
      "Processing i =  279  out of  336\n",
      "Processing i =  280  out of  336\n",
      "Processing i =  281  out of  336\n",
      "Processing i =  282  out of  336\n",
      "Processing i =  283  out of  336\n",
      "Processing i =  284  out of  336\n",
      "Processing i =  285  out of  336\n",
      "Processing i =  286  out of  336\n",
      "Processing i =  287  out of  336\n",
      "Processing i =  288  out of  336\n",
      "Processing i =  289  out of  336\n",
      "Processing i =  290  out of  336\n",
      "Processing i =  291  out of  336\n",
      "Processing i =  292  out of  336\n",
      "Processing i =  293  out of  336\n",
      "Processing i =  294  out of  336\n",
      "Processing i =  295  out of  336\n",
      "Processing i =  296  out of  336\n",
      "Processing i =  297  out of  336\n",
      "Processing i =  298  out of  336\n",
      "Processing i =  299  out of  336\n",
      "Processing i =  300  out of  336\n",
      "Processing i =  301  out of  336\n",
      "Processing i =  302  out of  336\n",
      "Processing i =  303  out of  336\n",
      "Processing i =  304  out of  336\n",
      "Processing i =  305  out of  336\n",
      "Processing i =  306  out of  336\n",
      "Processing i =  307  out of  336\n",
      "Processing i =  308  out of  336\n",
      "Processing i =  309  out of  336\n",
      "Processing i =  310  out of  336\n",
      "Processing i =  311  out of  336\n",
      "Processing i =  312  out of  336\n",
      "Processing i =  313  out of  336\n",
      "Processing i =  314  out of  336\n",
      "Processing i =  315  out of  336\n",
      "Processing i =  316  out of  336\n",
      "Processing i =  317  out of  336\n",
      "Processing i =  318  out of  336\n",
      "Processing i =  319  out of  336\n",
      "Processing i =  320  out of  336\n",
      "Processing i =  321  out of  336\n",
      "Processing i =  322  out of  336\n",
      "Processing i =  323  out of  336\n",
      "Processing i =  324  out of  336\n",
      "Processing i =  325  out of  336\n",
      "Processing i =  326  out of  336\n",
      "Processing i =  327  out of  336\n",
      "Processing i =  328  out of  336\n",
      "Processing i =  329  out of  336\n",
      "Processing i =  330  out of  336\n",
      "Processing i =  331  out of  336\n",
      "Processing i =  332  out of  336\n",
      "Processing i =  333  out of  336\n",
      "Processing i =  334  out of  336\n",
      "Processing i =  335  out of  336\n",
      "Processing i =  336  out of  336\n",
      "\n",
      "Processing CV 3 / 10....\n",
      "Processing i =  1  out of  336\n",
      "Processing i =  2  out of  336\n",
      "Processing i =  3  out of  336\n",
      "Processing i =  4  out of  336\n",
      "Processing i =  5  out of  336\n",
      "Processing i =  6  out of  336\n",
      "Processing i =  7  out of  336\n",
      "Processing i =  8  out of  336\n",
      "Processing i =  9  out of  336\n",
      "Processing i =  10  out of  336\n",
      "Processing i =  11  out of  336\n",
      "Processing i =  12  out of  336\n",
      "Processing i =  13  out of  336\n",
      "Processing i =  14  out of  336\n",
      "Processing i =  15  out of  336\n",
      "Processing i =  16  out of  336\n",
      "Processing i =  17  out of  336\n",
      "Processing i =  18  out of  336\n",
      "Processing i =  19  out of  336\n",
      "Processing i =  20  out of  336\n",
      "Processing i =  21  out of  336\n",
      "Processing i =  22  out of  336\n",
      "Processing i =  23  out of  336\n",
      "Processing i =  24  out of  336\n",
      "Processing i =  25  out of  336\n",
      "Processing i =  26  out of  336\n",
      "Processing i =  27  out of  336\n",
      "Processing i =  28  out of  336\n",
      "Processing i =  29  out of  336\n",
      "Processing i =  30  out of  336\n",
      "Processing i =  31  out of  336\n",
      "Processing i =  32  out of  336\n",
      "Processing i =  33  out of  336\n",
      "Processing i =  34  out of  336\n",
      "Processing i =  35  out of  336\n",
      "Processing i =  36  out of  336\n",
      "Processing i =  37  out of  336\n",
      "Processing i =  38  out of  336\n",
      "Processing i =  39  out of  336\n",
      "Processing i =  40  out of  336\n",
      "Processing i =  41  out of  336\n",
      "Processing i =  42  out of  336\n",
      "Processing i =  43  out of  336\n",
      "Processing i =  44  out of  336\n",
      "Processing i =  45  out of  336\n",
      "Processing i =  46  out of  336\n",
      "Processing i =  47  out of  336\n",
      "Processing i =  48  out of  336\n",
      "Processing i =  49  out of  336\n",
      "Processing i =  50  out of  336\n",
      "Processing i =  51  out of  336\n",
      "Processing i =  52  out of  336\n",
      "Processing i =  53  out of  336\n",
      "Processing i =  54  out of  336\n",
      "Processing i =  55  out of  336\n",
      "Processing i =  56  out of  336\n",
      "Processing i =  57  out of  336\n",
      "Processing i =  58  out of  336\n",
      "Processing i =  59  out of  336\n",
      "Processing i =  60  out of  336\n",
      "Processing i =  61  out of  336\n",
      "Processing i =  62  out of  336\n",
      "Processing i =  63  out of  336\n",
      "Processing i =  64  out of  336\n",
      "Processing i =  65  out of  336\n",
      "Processing i =  66  out of  336\n",
      "Processing i =  67  out of  336\n",
      "Processing i =  68  out of  336\n",
      "Processing i =  69  out of  336\n",
      "Processing i =  70  out of  336\n",
      "Processing i =  71  out of  336\n",
      "Processing i =  72  out of  336\n",
      "Processing i =  73  out of  336\n",
      "Processing i =  74  out of  336\n",
      "Processing i =  75  out of  336\n",
      "Processing i =  76  out of  336\n",
      "Processing i =  77  out of  336\n",
      "Processing i =  78  out of  336\n",
      "Processing i =  79  out of  336\n",
      "Processing i =  80  out of  336\n",
      "Processing i =  81  out of  336\n",
      "Processing i =  82  out of  336\n",
      "Processing i =  83  out of  336\n",
      "Processing i =  84  out of  336\n",
      "Processing i =  85  out of  336\n",
      "Processing i =  86  out of  336\n",
      "Processing i =  87  out of  336\n",
      "Processing i =  88  out of  336\n",
      "Processing i =  89  out of  336\n",
      "Processing i =  90  out of  336\n",
      "Processing i =  91  out of  336\n",
      "Processing i =  92  out of  336\n",
      "Processing i =  93  out of  336\n",
      "Processing i =  94  out of  336\n",
      "Processing i =  95  out of  336\n",
      "Processing i =  96  out of  336\n",
      "Processing i =  97  out of  336\n",
      "Processing i =  98  out of  336\n",
      "Processing i =  99  out of  336\n",
      "Processing i =  100  out of  336\n",
      "Processing i =  101  out of  336\n",
      "Processing i =  102  out of  336\n",
      "Processing i =  103  out of  336\n",
      "Processing i =  104  out of  336\n",
      "Processing i =  105  out of  336\n",
      "Processing i =  106  out of  336\n",
      "Processing i =  107  out of  336\n",
      "Processing i =  108  out of  336\n",
      "Processing i =  109  out of  336\n",
      "Processing i =  110  out of  336\n",
      "Processing i =  111  out of  336\n",
      "Processing i =  112  out of  336\n",
      "Processing i =  113  out of  336\n",
      "Processing i =  114  out of  336\n",
      "Processing i =  115  out of  336\n",
      "Processing i =  116  out of  336\n",
      "Processing i =  117  out of  336\n",
      "Processing i =  118  out of  336\n",
      "Processing i =  119  out of  336\n",
      "Processing i =  120  out of  336\n",
      "Processing i =  121  out of  336\n",
      "Processing i =  122  out of  336\n",
      "Processing i =  123  out of  336\n",
      "Processing i =  124  out of  336\n",
      "Processing i =  125  out of  336\n",
      "Processing i =  126  out of  336\n",
      "Processing i =  127  out of  336\n",
      "Processing i =  128  out of  336\n",
      "Processing i =  129  out of  336\n",
      "Processing i =  130  out of  336\n",
      "Processing i =  131  out of  336\n",
      "Processing i =  132  out of  336\n",
      "Processing i =  133  out of  336\n",
      "Processing i =  134  out of  336\n",
      "Processing i =  135  out of  336\n",
      "Processing i =  136  out of  336\n",
      "Processing i =  137  out of  336\n",
      "Processing i =  138  out of  336\n",
      "Processing i =  139  out of  336\n",
      "Processing i =  140  out of  336\n",
      "Processing i =  141  out of  336\n",
      "Processing i =  142  out of  336\n",
      "Processing i =  143  out of  336\n",
      "Processing i =  144  out of  336\n",
      "Processing i =  145  out of  336\n",
      "Processing i =  146  out of  336\n",
      "Processing i =  147  out of  336\n",
      "Processing i =  148  out of  336\n",
      "Processing i =  149  out of  336\n",
      "Processing i =  150  out of  336\n",
      "Processing i =  151  out of  336\n",
      "Processing i =  152  out of  336\n",
      "Processing i =  153  out of  336\n",
      "Processing i =  154  out of  336\n",
      "Processing i =  155  out of  336\n",
      "Processing i =  156  out of  336\n",
      "Processing i =  157  out of  336\n",
      "Processing i =  158  out of  336\n",
      "Processing i =  159  out of  336\n",
      "Processing i =  160  out of  336\n",
      "Processing i =  161  out of  336\n",
      "Processing i =  162  out of  336\n",
      "Processing i =  163  out of  336\n",
      "Processing i =  164  out of  336\n",
      "Processing i =  165  out of  336\n",
      "Processing i =  166  out of  336\n",
      "Processing i =  167  out of  336\n",
      "Processing i =  168  out of  336\n",
      "Processing i =  169  out of  336\n",
      "Processing i =  170  out of  336\n",
      "Processing i =  171  out of  336\n",
      "Processing i =  172  out of  336\n",
      "Processing i =  173  out of  336\n",
      "Processing i =  174  out of  336\n",
      "Processing i =  175  out of  336\n",
      "Processing i =  176  out of  336\n",
      "Processing i =  177  out of  336\n",
      "Processing i =  178  out of  336\n",
      "Processing i =  179  out of  336\n",
      "Processing i =  180  out of  336\n",
      "Processing i =  181  out of  336\n",
      "Processing i =  182  out of  336\n",
      "Processing i =  183  out of  336\n",
      "Processing i =  184  out of  336\n",
      "Processing i =  185  out of  336\n",
      "Processing i =  186  out of  336\n",
      "Processing i =  187  out of  336\n",
      "Processing i =  188  out of  336\n",
      "Processing i =  189  out of  336\n",
      "Processing i =  190  out of  336\n",
      "Processing i =  191  out of  336\n",
      "Processing i =  192  out of  336\n",
      "Processing i =  193  out of  336\n",
      "Processing i =  194  out of  336\n",
      "Processing i =  195  out of  336\n",
      "Processing i =  196  out of  336\n",
      "Processing i =  197  out of  336\n",
      "Processing i =  198  out of  336\n",
      "Processing i =  199  out of  336\n",
      "Processing i =  200  out of  336\n",
      "Processing i =  201  out of  336\n",
      "Processing i =  202  out of  336\n",
      "Processing i =  203  out of  336\n",
      "Processing i =  204  out of  336\n",
      "Processing i =  205  out of  336\n",
      "Processing i =  206  out of  336\n",
      "Processing i =  207  out of  336\n",
      "Processing i =  208  out of  336\n",
      "Processing i =  209  out of  336\n",
      "Processing i =  210  out of  336\n",
      "Processing i =  211  out of  336\n",
      "Processing i =  212  out of  336\n",
      "Processing i =  213  out of  336\n",
      "Processing i =  214  out of  336\n",
      "Processing i =  215  out of  336\n",
      "Processing i =  216  out of  336\n",
      "Processing i =  217  out of  336\n",
      "Processing i =  218  out of  336\n",
      "Processing i =  219  out of  336\n",
      "Processing i =  220  out of  336\n",
      "Processing i =  221  out of  336\n",
      "Processing i =  222  out of  336\n",
      "Processing i =  223  out of  336\n",
      "Processing i =  224  out of  336\n",
      "Processing i =  225  out of  336\n",
      "Processing i =  226  out of  336\n",
      "Processing i =  227  out of  336\n",
      "Processing i =  228  out of  336\n",
      "Processing i =  229  out of  336\n",
      "Processing i =  230  out of  336\n",
      "Processing i =  231  out of  336\n",
      "Processing i =  232  out of  336\n",
      "Processing i =  233  out of  336\n",
      "Processing i =  234  out of  336\n",
      "Processing i =  235  out of  336\n",
      "Processing i =  236  out of  336\n",
      "Processing i =  237  out of  336\n",
      "Processing i =  238  out of  336\n",
      "Processing i =  239  out of  336\n",
      "Processing i =  240  out of  336\n",
      "Processing i =  241  out of  336\n",
      "Processing i =  242  out of  336\n",
      "Processing i =  243  out of  336\n",
      "Processing i =  244  out of  336\n",
      "Processing i =  245  out of  336\n",
      "Processing i =  246  out of  336\n",
      "Processing i =  247  out of  336\n",
      "Processing i =  248  out of  336\n",
      "Processing i =  249  out of  336\n",
      "Processing i =  250  out of  336\n",
      "Processing i =  251  out of  336\n",
      "Processing i =  252  out of  336\n",
      "Processing i =  253  out of  336\n",
      "Processing i =  254  out of  336\n",
      "Processing i =  255  out of  336\n",
      "Processing i =  256  out of  336\n",
      "Processing i =  257  out of  336\n",
      "Processing i =  258  out of  336\n",
      "Processing i =  259  out of  336\n",
      "Processing i =  260  out of  336\n",
      "Processing i =  261  out of  336\n",
      "Processing i =  262  out of  336\n",
      "Processing i =  263  out of  336\n",
      "Processing i =  264  out of  336\n",
      "Processing i =  265  out of  336\n",
      "Processing i =  266  out of  336\n",
      "Processing i =  267  out of  336\n",
      "Processing i =  268  out of  336\n",
      "Processing i =  269  out of  336\n",
      "Processing i =  270  out of  336\n",
      "Processing i =  271  out of  336\n",
      "Processing i =  272  out of  336\n",
      "Processing i =  273  out of  336\n",
      "Processing i =  274  out of  336\n",
      "Processing i =  275  out of  336\n",
      "Processing i =  276  out of  336\n",
      "Processing i =  277  out of  336\n",
      "Processing i =  278  out of  336\n",
      "Processing i =  279  out of  336\n",
      "Processing i =  280  out of  336\n",
      "Processing i =  281  out of  336\n",
      "Processing i =  282  out of  336\n",
      "Processing i =  283  out of  336\n",
      "Processing i =  284  out of  336\n",
      "Processing i =  285  out of  336\n",
      "Processing i =  286  out of  336\n",
      "Processing i =  287  out of  336\n",
      "Processing i =  288  out of  336\n",
      "Processing i =  289  out of  336\n",
      "Processing i =  290  out of  336\n",
      "Processing i =  291  out of  336\n",
      "Processing i =  292  out of  336\n",
      "Processing i =  293  out of  336\n",
      "Processing i =  294  out of  336\n",
      "Processing i =  295  out of  336\n",
      "Processing i =  296  out of  336\n",
      "Processing i =  297  out of  336\n",
      "Processing i =  298  out of  336\n",
      "Processing i =  299  out of  336\n",
      "Processing i =  300  out of  336\n",
      "Processing i =  301  out of  336\n",
      "Processing i =  302  out of  336\n",
      "Processing i =  303  out of  336\n",
      "Processing i =  304  out of  336\n",
      "Processing i =  305  out of  336\n",
      "Processing i =  306  out of  336\n",
      "Processing i =  307  out of  336\n",
      "Processing i =  308  out of  336\n",
      "Processing i =  309  out of  336\n",
      "Processing i =  310  out of  336\n",
      "Processing i =  311  out of  336\n",
      "Processing i =  312  out of  336\n",
      "Processing i =  313  out of  336\n",
      "Processing i =  314  out of  336\n",
      "Processing i =  315  out of  336\n",
      "Processing i =  316  out of  336\n",
      "Processing i =  317  out of  336\n",
      "Processing i =  318  out of  336\n",
      "Processing i =  319  out of  336\n",
      "Processing i =  320  out of  336\n",
      "Processing i =  321  out of  336\n",
      "Processing i =  322  out of  336\n",
      "Processing i =  323  out of  336\n",
      "Processing i =  324  out of  336\n",
      "Processing i =  325  out of  336\n",
      "Processing i =  326  out of  336\n",
      "Processing i =  327  out of  336\n",
      "Processing i =  328  out of  336\n",
      "Processing i =  329  out of  336\n",
      "Processing i =  330  out of  336\n",
      "Processing i =  331  out of  336\n",
      "Processing i =  332  out of  336\n",
      "Processing i =  333  out of  336\n",
      "Processing i =  334  out of  336\n",
      "Processing i =  335  out of  336\n",
      "Processing i =  336  out of  336\n",
      "\n",
      "Processing CV 4 / 10....\n",
      "Processing i =  1  out of  336\n",
      "Processing i =  2  out of  336\n",
      "Processing i =  3  out of  336\n",
      "Processing i =  4  out of  336\n",
      "Processing i =  5  out of  336\n",
      "Processing i =  6  out of  336\n",
      "Processing i =  7  out of  336\n",
      "Processing i =  8  out of  336\n",
      "Processing i =  9  out of  336\n",
      "Processing i =  10  out of  336\n",
      "Processing i =  11  out of  336\n",
      "Processing i =  12  out of  336\n",
      "Processing i =  13  out of  336\n",
      "Processing i =  14  out of  336\n",
      "Processing i =  15  out of  336\n",
      "Processing i =  16  out of  336\n",
      "Processing i =  17  out of  336\n",
      "Processing i =  18  out of  336\n",
      "Processing i =  19  out of  336\n",
      "Processing i =  20  out of  336\n",
      "Processing i =  21  out of  336\n",
      "Processing i =  22  out of  336\n",
      "Processing i =  23  out of  336\n",
      "Processing i =  24  out of  336\n",
      "Processing i =  25  out of  336\n",
      "Processing i =  26  out of  336\n",
      "Processing i =  27  out of  336\n",
      "Processing i =  28  out of  336\n",
      "Processing i =  29  out of  336\n",
      "Processing i =  30  out of  336\n",
      "Processing i =  31  out of  336\n",
      "Processing i =  32  out of  336\n",
      "Processing i =  33  out of  336\n",
      "Processing i =  34  out of  336\n",
      "Processing i =  35  out of  336\n",
      "Processing i =  36  out of  336\n",
      "Processing i =  37  out of  336\n",
      "Processing i =  38  out of  336\n",
      "Processing i =  39  out of  336\n",
      "Processing i =  40  out of  336\n",
      "Processing i =  41  out of  336\n",
      "Processing i =  42  out of  336\n",
      "Processing i =  43  out of  336\n",
      "Processing i =  44  out of  336\n",
      "Processing i =  45  out of  336\n",
      "Processing i =  46  out of  336\n",
      "Processing i =  47  out of  336\n",
      "Processing i =  48  out of  336\n",
      "Processing i =  49  out of  336\n",
      "Processing i =  50  out of  336\n",
      "Processing i =  51  out of  336\n",
      "Processing i =  52  out of  336\n",
      "Processing i =  53  out of  336\n",
      "Processing i =  54  out of  336\n",
      "Processing i =  55  out of  336\n",
      "Processing i =  56  out of  336\n",
      "Processing i =  57  out of  336\n",
      "Processing i =  58  out of  336\n",
      "Processing i =  59  out of  336\n",
      "Processing i =  60  out of  336\n",
      "Processing i =  61  out of  336\n",
      "Processing i =  62  out of  336\n",
      "Processing i =  63  out of  336\n",
      "Processing i =  64  out of  336\n",
      "Processing i =  65  out of  336\n",
      "Processing i =  66  out of  336\n",
      "Processing i =  67  out of  336\n",
      "Processing i =  68  out of  336\n",
      "Processing i =  69  out of  336\n",
      "Processing i =  70  out of  336\n",
      "Processing i =  71  out of  336\n",
      "Processing i =  72  out of  336\n",
      "Processing i =  73  out of  336\n",
      "Processing i =  74  out of  336\n",
      "Processing i =  75  out of  336\n",
      "Processing i =  76  out of  336\n",
      "Processing i =  77  out of  336\n",
      "Processing i =  78  out of  336\n",
      "Processing i =  79  out of  336\n",
      "Processing i =  80  out of  336\n",
      "Processing i =  81  out of  336\n",
      "Processing i =  82  out of  336\n",
      "Processing i =  83  out of  336\n",
      "Processing i =  84  out of  336\n",
      "Processing i =  85  out of  336\n",
      "Processing i =  86  out of  336\n",
      "Processing i =  87  out of  336\n",
      "Processing i =  88  out of  336\n",
      "Processing i =  89  out of  336\n",
      "Processing i =  90  out of  336\n",
      "Processing i =  91  out of  336\n",
      "Processing i =  92  out of  336\n",
      "Processing i =  93  out of  336\n",
      "Processing i =  94  out of  336\n",
      "Processing i =  95  out of  336\n",
      "Processing i =  96  out of  336\n",
      "Processing i =  97  out of  336\n",
      "Processing i =  98  out of  336\n",
      "Processing i =  99  out of  336\n",
      "Processing i =  100  out of  336\n",
      "Processing i =  101  out of  336\n",
      "Processing i =  102  out of  336\n",
      "Processing i =  103  out of  336\n",
      "Processing i =  104  out of  336\n",
      "Processing i =  105  out of  336\n",
      "Processing i =  106  out of  336\n",
      "Processing i =  107  out of  336\n",
      "Processing i =  108  out of  336\n",
      "Processing i =  109  out of  336\n",
      "Processing i =  110  out of  336\n",
      "Processing i =  111  out of  336\n",
      "Processing i =  112  out of  336\n",
      "Processing i =  113  out of  336\n",
      "Processing i =  114  out of  336\n",
      "Processing i =  115  out of  336\n",
      "Processing i =  116  out of  336\n",
      "Processing i =  117  out of  336\n",
      "Processing i =  118  out of  336\n",
      "Processing i =  119  out of  336\n",
      "Processing i =  120  out of  336\n",
      "Processing i =  121  out of  336\n",
      "Processing i =  122  out of  336\n",
      "Processing i =  123  out of  336\n",
      "Processing i =  124  out of  336\n",
      "Processing i =  125  out of  336\n",
      "Processing i =  126  out of  336\n",
      "Processing i =  127  out of  336\n",
      "Processing i =  128  out of  336\n",
      "Processing i =  129  out of  336\n",
      "Processing i =  130  out of  336\n",
      "Processing i =  131  out of  336\n",
      "Processing i =  132  out of  336\n",
      "Processing i =  133  out of  336\n",
      "Processing i =  134  out of  336\n",
      "Processing i =  135  out of  336\n",
      "Processing i =  136  out of  336\n",
      "Processing i =  137  out of  336\n",
      "Processing i =  138  out of  336\n",
      "Processing i =  139  out of  336\n",
      "Processing i =  140  out of  336\n",
      "Processing i =  141  out of  336\n",
      "Processing i =  142  out of  336\n",
      "Processing i =  143  out of  336\n",
      "Processing i =  144  out of  336\n",
      "Processing i =  145  out of  336\n",
      "Processing i =  146  out of  336\n",
      "Processing i =  147  out of  336\n",
      "Processing i =  148  out of  336\n",
      "Processing i =  149  out of  336\n",
      "Processing i =  150  out of  336\n",
      "Processing i =  151  out of  336\n",
      "Processing i =  152  out of  336\n",
      "Processing i =  153  out of  336\n",
      "Processing i =  154  out of  336\n",
      "Processing i =  155  out of  336\n",
      "Processing i =  156  out of  336\n",
      "Processing i =  157  out of  336\n",
      "Processing i =  158  out of  336\n",
      "Processing i =  159  out of  336\n",
      "Processing i =  160  out of  336\n",
      "Processing i =  161  out of  336\n",
      "Processing i =  162  out of  336\n",
      "Processing i =  163  out of  336\n",
      "Processing i =  164  out of  336\n",
      "Processing i =  165  out of  336\n",
      "Processing i =  166  out of  336\n",
      "Processing i =  167  out of  336\n",
      "Processing i =  168  out of  336\n",
      "Processing i =  169  out of  336\n",
      "Processing i =  170  out of  336\n",
      "Processing i =  171  out of  336\n",
      "Processing i =  172  out of  336\n",
      "Processing i =  173  out of  336\n",
      "Processing i =  174  out of  336\n",
      "Processing i =  175  out of  336\n",
      "Processing i =  176  out of  336\n",
      "Processing i =  177  out of  336\n",
      "Processing i =  178  out of  336\n",
      "Processing i =  179  out of  336\n",
      "Processing i =  180  out of  336\n",
      "Processing i =  181  out of  336\n",
      "Processing i =  182  out of  336\n",
      "Processing i =  183  out of  336\n",
      "Processing i =  184  out of  336\n",
      "Processing i =  185  out of  336\n",
      "Processing i =  186  out of  336\n",
      "Processing i =  187  out of  336\n",
      "Processing i =  188  out of  336\n",
      "Processing i =  189  out of  336\n",
      "Processing i =  190  out of  336\n",
      "Processing i =  191  out of  336\n",
      "Processing i =  192  out of  336\n",
      "Processing i =  193  out of  336\n",
      "Processing i =  194  out of  336\n",
      "Processing i =  195  out of  336\n",
      "Processing i =  196  out of  336\n",
      "Processing i =  197  out of  336\n",
      "Processing i =  198  out of  336\n",
      "Processing i =  199  out of  336\n",
      "Processing i =  200  out of  336\n",
      "Processing i =  201  out of  336\n",
      "Processing i =  202  out of  336\n",
      "Processing i =  203  out of  336\n",
      "Processing i =  204  out of  336\n",
      "Processing i =  205  out of  336\n",
      "Processing i =  206  out of  336\n",
      "Processing i =  207  out of  336\n",
      "Processing i =  208  out of  336\n",
      "Processing i =  209  out of  336\n",
      "Processing i =  210  out of  336\n",
      "Processing i =  211  out of  336\n",
      "Processing i =  212  out of  336\n",
      "Processing i =  213  out of  336\n",
      "Processing i =  214  out of  336\n",
      "Processing i =  215  out of  336\n",
      "Processing i =  216  out of  336\n",
      "Processing i =  217  out of  336\n",
      "Processing i =  218  out of  336\n",
      "Processing i =  219  out of  336\n",
      "Processing i =  220  out of  336\n",
      "Processing i =  221  out of  336\n",
      "Processing i =  222  out of  336\n",
      "Processing i =  223  out of  336\n",
      "Processing i =  224  out of  336\n",
      "Processing i =  225  out of  336\n",
      "Processing i =  226  out of  336\n",
      "Processing i =  227  out of  336\n",
      "Processing i =  228  out of  336\n",
      "Processing i =  229  out of  336\n",
      "Processing i =  230  out of  336\n",
      "Processing i =  231  out of  336\n",
      "Processing i =  232  out of  336\n",
      "Processing i =  233  out of  336\n",
      "Processing i =  234  out of  336\n",
      "Processing i =  235  out of  336\n",
      "Processing i =  236  out of  336\n",
      "Processing i =  237  out of  336\n",
      "Processing i =  238  out of  336\n",
      "Processing i =  239  out of  336\n",
      "Processing i =  240  out of  336\n",
      "Processing i =  241  out of  336\n",
      "Processing i =  242  out of  336\n",
      "Processing i =  243  out of  336\n",
      "Processing i =  244  out of  336\n",
      "Processing i =  245  out of  336\n",
      "Processing i =  246  out of  336\n",
      "Processing i =  247  out of  336\n",
      "Processing i =  248  out of  336\n",
      "Processing i =  249  out of  336\n",
      "Processing i =  250  out of  336\n",
      "Processing i =  251  out of  336\n",
      "Processing i =  252  out of  336\n",
      "Processing i =  253  out of  336\n",
      "Processing i =  254  out of  336\n",
      "Processing i =  255  out of  336\n",
      "Processing i =  256  out of  336\n",
      "Processing i =  257  out of  336\n",
      "Processing i =  258  out of  336\n",
      "Processing i =  259  out of  336\n",
      "Processing i =  260  out of  336\n",
      "Processing i =  261  out of  336\n",
      "Processing i =  262  out of  336\n",
      "Processing i =  263  out of  336\n",
      "Processing i =  264  out of  336\n",
      "Processing i =  265  out of  336\n",
      "Processing i =  266  out of  336\n",
      "Processing i =  267  out of  336\n",
      "Processing i =  268  out of  336\n",
      "Processing i =  269  out of  336\n",
      "Processing i =  270  out of  336\n",
      "Processing i =  271  out of  336\n",
      "Processing i =  272  out of  336\n",
      "Processing i =  273  out of  336\n",
      "Processing i =  274  out of  336\n",
      "Processing i =  275  out of  336\n",
      "Processing i =  276  out of  336\n",
      "Processing i =  277  out of  336\n",
      "Processing i =  278  out of  336\n",
      "Processing i =  279  out of  336\n",
      "Processing i =  280  out of  336\n",
      "Processing i =  281  out of  336\n",
      "Processing i =  282  out of  336\n",
      "Processing i =  283  out of  336\n",
      "Processing i =  284  out of  336\n",
      "Processing i =  285  out of  336\n",
      "Processing i =  286  out of  336\n",
      "Processing i =  287  out of  336\n",
      "Processing i =  288  out of  336\n",
      "Processing i =  289  out of  336\n",
      "Processing i =  290  out of  336\n",
      "Processing i =  291  out of  336\n",
      "Processing i =  292  out of  336\n",
      "Processing i =  293  out of  336\n",
      "Processing i =  294  out of  336\n",
      "Processing i =  295  out of  336\n",
      "Processing i =  296  out of  336\n",
      "Processing i =  297  out of  336\n",
      "Processing i =  298  out of  336\n",
      "Processing i =  299  out of  336\n",
      "Processing i =  300  out of  336\n",
      "Processing i =  301  out of  336\n",
      "Processing i =  302  out of  336\n",
      "Processing i =  303  out of  336\n",
      "Processing i =  304  out of  336\n",
      "Processing i =  305  out of  336\n",
      "Processing i =  306  out of  336\n",
      "Processing i =  307  out of  336\n",
      "Processing i =  308  out of  336\n",
      "Processing i =  309  out of  336\n",
      "Processing i =  310  out of  336\n",
      "Processing i =  311  out of  336\n",
      "Processing i =  312  out of  336\n",
      "Processing i =  313  out of  336\n",
      "Processing i =  314  out of  336\n",
      "Processing i =  315  out of  336\n",
      "Processing i =  316  out of  336\n",
      "Processing i =  317  out of  336\n",
      "Processing i =  318  out of  336\n",
      "Processing i =  319  out of  336\n",
      "Processing i =  320  out of  336\n",
      "Processing i =  321  out of  336\n",
      "Processing i =  322  out of  336\n",
      "Processing i =  323  out of  336\n",
      "Processing i =  324  out of  336\n",
      "Processing i =  325  out of  336\n",
      "Processing i =  326  out of  336\n",
      "Processing i =  327  out of  336\n",
      "Processing i =  328  out of  336\n",
      "Processing i =  329  out of  336\n",
      "Processing i =  330  out of  336\n",
      "Processing i =  331  out of  336\n",
      "Processing i =  332  out of  336\n",
      "Processing i =  333  out of  336\n",
      "Processing i =  334  out of  336\n",
      "Processing i =  335  out of  336\n",
      "Processing i =  336  out of  336\n",
      "\n",
      "Processing CV 5 / 10....\n",
      "Processing i =  1  out of  336\n",
      "Processing i =  2  out of  336\n",
      "Processing i =  3  out of  336\n",
      "Processing i =  4  out of  336\n",
      "Processing i =  5  out of  336\n",
      "Processing i =  6  out of  336\n",
      "Processing i =  7  out of  336\n",
      "Processing i =  8  out of  336\n",
      "Processing i =  9  out of  336\n",
      "Processing i =  10  out of  336\n",
      "Processing i =  11  out of  336\n",
      "Processing i =  12  out of  336\n",
      "Processing i =  13  out of  336\n",
      "Processing i =  14  out of  336\n",
      "Processing i =  15  out of  336\n",
      "Processing i =  16  out of  336\n",
      "Processing i =  17  out of  336\n",
      "Processing i =  18  out of  336\n",
      "Processing i =  19  out of  336\n",
      "Processing i =  20  out of  336\n",
      "Processing i =  21  out of  336\n",
      "Processing i =  22  out of  336\n",
      "Processing i =  23  out of  336\n",
      "Processing i =  24  out of  336\n",
      "Processing i =  25  out of  336\n",
      "Processing i =  26  out of  336\n",
      "Processing i =  27  out of  336\n",
      "Processing i =  28  out of  336\n",
      "Processing i =  29  out of  336\n",
      "Processing i =  30  out of  336\n",
      "Processing i =  31  out of  336\n",
      "Processing i =  32  out of  336\n",
      "Processing i =  33  out of  336\n",
      "Processing i =  34  out of  336\n",
      "Processing i =  35  out of  336\n",
      "Processing i =  36  out of  336\n",
      "Processing i =  37  out of  336\n",
      "Processing i =  38  out of  336\n",
      "Processing i =  39  out of  336\n",
      "Processing i =  40  out of  336\n",
      "Processing i =  41  out of  336\n",
      "Processing i =  42  out of  336\n",
      "Processing i =  43  out of  336\n",
      "Processing i =  44  out of  336\n",
      "Processing i =  45  out of  336\n",
      "Processing i =  46  out of  336\n",
      "Processing i =  47  out of  336\n",
      "Processing i =  48  out of  336\n",
      "Processing i =  49  out of  336\n",
      "Processing i =  50  out of  336\n",
      "Processing i =  51  out of  336\n",
      "Processing i =  52  out of  336\n",
      "Processing i =  53  out of  336\n",
      "Processing i =  54  out of  336\n",
      "Processing i =  55  out of  336\n",
      "Processing i =  56  out of  336\n",
      "Processing i =  57  out of  336\n",
      "Processing i =  58  out of  336\n",
      "Processing i =  59  out of  336\n",
      "Processing i =  60  out of  336\n",
      "Processing i =  61  out of  336\n",
      "Processing i =  62  out of  336\n",
      "Processing i =  63  out of  336\n",
      "Processing i =  64  out of  336\n",
      "Processing i =  65  out of  336\n",
      "Processing i =  66  out of  336\n",
      "Processing i =  67  out of  336\n",
      "Processing i =  68  out of  336\n",
      "Processing i =  69  out of  336\n",
      "Processing i =  70  out of  336\n",
      "Processing i =  71  out of  336\n",
      "Processing i =  72  out of  336\n",
      "Processing i =  73  out of  336\n",
      "Processing i =  74  out of  336\n",
      "Processing i =  75  out of  336\n",
      "Processing i =  76  out of  336\n",
      "Processing i =  77  out of  336\n",
      "Processing i =  78  out of  336\n",
      "Processing i =  79  out of  336\n",
      "Processing i =  80  out of  336\n",
      "Processing i =  81  out of  336\n",
      "Processing i =  82  out of  336\n",
      "Processing i =  83  out of  336\n",
      "Processing i =  84  out of  336\n",
      "Processing i =  85  out of  336\n",
      "Processing i =  86  out of  336\n",
      "Processing i =  87  out of  336\n",
      "Processing i =  88  out of  336\n",
      "Processing i =  89  out of  336\n",
      "Processing i =  90  out of  336\n",
      "Processing i =  91  out of  336\n",
      "Processing i =  92  out of  336\n",
      "Processing i =  93  out of  336\n",
      "Processing i =  94  out of  336\n",
      "Processing i =  95  out of  336\n",
      "Processing i =  96  out of  336\n",
      "Processing i =  97  out of  336\n",
      "Processing i =  98  out of  336\n",
      "Processing i =  99  out of  336\n",
      "Processing i =  100  out of  336\n",
      "Processing i =  101  out of  336\n",
      "Processing i =  102  out of  336\n",
      "Processing i =  103  out of  336\n",
      "Processing i =  104  out of  336\n",
      "Processing i =  105  out of  336\n",
      "Processing i =  106  out of  336\n",
      "Processing i =  107  out of  336\n",
      "Processing i =  108  out of  336\n",
      "Processing i =  109  out of  336\n",
      "Processing i =  110  out of  336\n",
      "Processing i =  111  out of  336\n",
      "Processing i =  112  out of  336\n",
      "Processing i =  113  out of  336\n",
      "Processing i =  114  out of  336\n",
      "Processing i =  115  out of  336\n",
      "Processing i =  116  out of  336\n",
      "Processing i =  117  out of  336\n",
      "Processing i =  118  out of  336\n",
      "Processing i =  119  out of  336\n",
      "Processing i =  120  out of  336\n",
      "Processing i =  121  out of  336\n",
      "Processing i =  122  out of  336\n",
      "Processing i =  123  out of  336\n",
      "Processing i =  124  out of  336\n",
      "Processing i =  125  out of  336\n",
      "Processing i =  126  out of  336\n",
      "Processing i =  127  out of  336\n",
      "Processing i =  128  out of  336\n",
      "Processing i =  129  out of  336\n",
      "Processing i =  130  out of  336\n",
      "Processing i =  131  out of  336\n",
      "Processing i =  132  out of  336\n",
      "Processing i =  133  out of  336\n",
      "Processing i =  134  out of  336\n",
      "Processing i =  135  out of  336\n",
      "Processing i =  136  out of  336\n",
      "Processing i =  137  out of  336\n",
      "Processing i =  138  out of  336\n",
      "Processing i =  139  out of  336\n",
      "Processing i =  140  out of  336\n",
      "Processing i =  141  out of  336\n",
      "Processing i =  142  out of  336\n",
      "Processing i =  143  out of  336\n",
      "Processing i =  144  out of  336\n",
      "Processing i =  145  out of  336\n",
      "Processing i =  146  out of  336\n",
      "Processing i =  147  out of  336\n",
      "Processing i =  148  out of  336\n",
      "Processing i =  149  out of  336\n",
      "Processing i =  150  out of  336\n",
      "Processing i =  151  out of  336\n",
      "Processing i =  152  out of  336\n",
      "Processing i =  153  out of  336\n",
      "Processing i =  154  out of  336\n",
      "Processing i =  155  out of  336\n",
      "Processing i =  156  out of  336\n",
      "Processing i =  157  out of  336\n",
      "Processing i =  158  out of  336\n",
      "Processing i =  159  out of  336\n",
      "Processing i =  160  out of  336\n",
      "Processing i =  161  out of  336\n",
      "Processing i =  162  out of  336\n",
      "Processing i =  163  out of  336\n",
      "Processing i =  164  out of  336\n",
      "Processing i =  165  out of  336\n",
      "Processing i =  166  out of  336\n",
      "Processing i =  167  out of  336\n",
      "Processing i =  168  out of  336\n",
      "Processing i =  169  out of  336\n",
      "Processing i =  170  out of  336\n",
      "Processing i =  171  out of  336\n",
      "Processing i =  172  out of  336\n",
      "Processing i =  173  out of  336\n",
      "Processing i =  174  out of  336\n",
      "Processing i =  175  out of  336\n",
      "Processing i =  176  out of  336\n",
      "Processing i =  177  out of  336\n",
      "Processing i =  178  out of  336\n",
      "Processing i =  179  out of  336\n",
      "Processing i =  180  out of  336\n",
      "Processing i =  181  out of  336\n",
      "Processing i =  182  out of  336\n",
      "Processing i =  183  out of  336\n",
      "Processing i =  184  out of  336\n",
      "Processing i =  185  out of  336\n",
      "Processing i =  186  out of  336\n",
      "Processing i =  187  out of  336\n",
      "Processing i =  188  out of  336\n",
      "Processing i =  189  out of  336\n",
      "Processing i =  190  out of  336\n",
      "Processing i =  191  out of  336\n",
      "Processing i =  192  out of  336\n",
      "Processing i =  193  out of  336\n",
      "Processing i =  194  out of  336\n",
      "Processing i =  195  out of  336\n",
      "Processing i =  196  out of  336\n",
      "Processing i =  197  out of  336\n",
      "Processing i =  198  out of  336\n",
      "Processing i =  199  out of  336\n",
      "Processing i =  200  out of  336\n",
      "Processing i =  201  out of  336\n",
      "Processing i =  202  out of  336\n",
      "Processing i =  203  out of  336\n",
      "Processing i =  204  out of  336\n",
      "Processing i =  205  out of  336\n",
      "Processing i =  206  out of  336\n",
      "Processing i =  207  out of  336\n",
      "Processing i =  208  out of  336\n",
      "Processing i =  209  out of  336\n",
      "Processing i =  210  out of  336\n",
      "Processing i =  211  out of  336\n",
      "Processing i =  212  out of  336\n",
      "Processing i =  213  out of  336\n",
      "Processing i =  214  out of  336\n",
      "Processing i =  215  out of  336\n",
      "Processing i =  216  out of  336\n",
      "Processing i =  217  out of  336\n",
      "Processing i =  218  out of  336\n",
      "Processing i =  219  out of  336\n",
      "Processing i =  220  out of  336\n",
      "Processing i =  221  out of  336\n",
      "Processing i =  222  out of  336\n",
      "Processing i =  223  out of  336\n",
      "Processing i =  224  out of  336\n",
      "Processing i =  225  out of  336\n",
      "Processing i =  226  out of  336\n",
      "Processing i =  227  out of  336\n",
      "Processing i =  228  out of  336\n",
      "Processing i =  229  out of  336\n",
      "Processing i =  230  out of  336\n",
      "Processing i =  231  out of  336\n",
      "Processing i =  232  out of  336\n",
      "Processing i =  233  out of  336\n",
      "Processing i =  234  out of  336\n",
      "Processing i =  235  out of  336\n",
      "Processing i =  236  out of  336\n",
      "Processing i =  237  out of  336\n",
      "Processing i =  238  out of  336\n",
      "Processing i =  239  out of  336\n",
      "Processing i =  240  out of  336\n",
      "Processing i =  241  out of  336\n",
      "Processing i =  242  out of  336\n",
      "Processing i =  243  out of  336\n",
      "Processing i =  244  out of  336\n",
      "Processing i =  245  out of  336\n",
      "Processing i =  246  out of  336\n",
      "Processing i =  247  out of  336\n",
      "Processing i =  248  out of  336\n",
      "Processing i =  249  out of  336\n",
      "Processing i =  250  out of  336\n",
      "Processing i =  251  out of  336\n",
      "Processing i =  252  out of  336\n",
      "Processing i =  253  out of  336\n",
      "Processing i =  254  out of  336\n",
      "Processing i =  255  out of  336\n",
      "Processing i =  256  out of  336\n",
      "Processing i =  257  out of  336\n",
      "Processing i =  258  out of  336\n",
      "Processing i =  259  out of  336\n",
      "Processing i =  260  out of  336\n",
      "Processing i =  261  out of  336\n",
      "Processing i =  262  out of  336\n",
      "Processing i =  263  out of  336\n",
      "Processing i =  264  out of  336\n",
      "Processing i =  265  out of  336\n",
      "Processing i =  266  out of  336\n",
      "Processing i =  267  out of  336\n",
      "Processing i =  268  out of  336\n",
      "Processing i =  269  out of  336\n",
      "Processing i =  270  out of  336\n",
      "Processing i =  271  out of  336\n",
      "Processing i =  272  out of  336\n",
      "Processing i =  273  out of  336\n",
      "Processing i =  274  out of  336\n",
      "Processing i =  275  out of  336\n",
      "Processing i =  276  out of  336\n",
      "Processing i =  277  out of  336\n",
      "Processing i =  278  out of  336\n",
      "Processing i =  279  out of  336\n",
      "Processing i =  280  out of  336\n",
      "Processing i =  281  out of  336\n",
      "Processing i =  282  out of  336\n",
      "Processing i =  283  out of  336\n",
      "Processing i =  284  out of  336\n",
      "Processing i =  285  out of  336\n",
      "Processing i =  286  out of  336\n",
      "Processing i =  287  out of  336\n",
      "Processing i =  288  out of  336\n",
      "Processing i =  289  out of  336\n",
      "Processing i =  290  out of  336\n",
      "Processing i =  291  out of  336\n",
      "Processing i =  292  out of  336\n",
      "Processing i =  293  out of  336\n",
      "Processing i =  294  out of  336\n",
      "Processing i =  295  out of  336\n",
      "Processing i =  296  out of  336\n",
      "Processing i =  297  out of  336\n",
      "Processing i =  298  out of  336\n",
      "Processing i =  299  out of  336\n",
      "Processing i =  300  out of  336\n",
      "Processing i =  301  out of  336\n",
      "Processing i =  302  out of  336\n",
      "Processing i =  303  out of  336\n",
      "Processing i =  304  out of  336\n",
      "Processing i =  305  out of  336\n",
      "Processing i =  306  out of  336\n",
      "Processing i =  307  out of  336\n",
      "Processing i =  308  out of  336\n",
      "Processing i =  309  out of  336\n",
      "Processing i =  310  out of  336\n",
      "Processing i =  311  out of  336\n",
      "Processing i =  312  out of  336\n",
      "Processing i =  313  out of  336\n",
      "Processing i =  314  out of  336\n",
      "Processing i =  315  out of  336\n",
      "Processing i =  316  out of  336\n",
      "Processing i =  317  out of  336\n",
      "Processing i =  318  out of  336\n",
      "Processing i =  319  out of  336\n",
      "Processing i =  320  out of  336\n",
      "Processing i =  321  out of  336\n",
      "Processing i =  322  out of  336\n",
      "Processing i =  323  out of  336\n",
      "Processing i =  324  out of  336\n",
      "Processing i =  325  out of  336\n",
      "Processing i =  326  out of  336\n",
      "Processing i =  327  out of  336\n",
      "Processing i =  328  out of  336\n",
      "Processing i =  329  out of  336\n",
      "Processing i =  330  out of  336\n",
      "Processing i =  331  out of  336\n",
      "Processing i =  332  out of  336\n",
      "Processing i =  333  out of  336\n",
      "Processing i =  334  out of  336\n",
      "Processing i =  335  out of  336\n",
      "Processing i =  336  out of  336\n",
      "\n",
      "Processing CV 6 / 10....\n",
      "Processing i =  1  out of  337\n",
      "Processing i =  2  out of  337\n",
      "Processing i =  3  out of  337\n",
      "Processing i =  4  out of  337\n",
      "Processing i =  5  out of  337\n",
      "Processing i =  6  out of  337\n",
      "Processing i =  7  out of  337\n",
      "Processing i =  8  out of  337\n",
      "Processing i =  9  out of  337\n",
      "Processing i =  10  out of  337\n",
      "Processing i =  11  out of  337\n",
      "Processing i =  12  out of  337\n",
      "Processing i =  13  out of  337\n",
      "Processing i =  14  out of  337\n",
      "Processing i =  15  out of  337\n",
      "Processing i =  16  out of  337\n",
      "Processing i =  17  out of  337\n",
      "Processing i =  18  out of  337\n",
      "Processing i =  19  out of  337\n",
      "Processing i =  20  out of  337\n",
      "Processing i =  21  out of  337\n",
      "Processing i =  22  out of  337\n",
      "Processing i =  23  out of  337\n",
      "Processing i =  24  out of  337\n",
      "Processing i =  25  out of  337\n",
      "Processing i =  26  out of  337\n",
      "Processing i =  27  out of  337\n",
      "Processing i =  28  out of  337\n",
      "Processing i =  29  out of  337\n",
      "Processing i =  30  out of  337\n",
      "Processing i =  31  out of  337\n",
      "Processing i =  32  out of  337\n",
      "Processing i =  33  out of  337\n",
      "Processing i =  34  out of  337\n",
      "Processing i =  35  out of  337\n",
      "Processing i =  36  out of  337\n",
      "Processing i =  37  out of  337\n",
      "Processing i =  38  out of  337\n",
      "Processing i =  39  out of  337\n",
      "Processing i =  40  out of  337\n",
      "Processing i =  41  out of  337\n",
      "Processing i =  42  out of  337\n",
      "Processing i =  43  out of  337\n",
      "Processing i =  44  out of  337\n",
      "Processing i =  45  out of  337\n",
      "Processing i =  46  out of  337\n",
      "Processing i =  47  out of  337\n",
      "Processing i =  48  out of  337\n",
      "Processing i =  49  out of  337\n",
      "Processing i =  50  out of  337\n",
      "Processing i =  51  out of  337\n",
      "Processing i =  52  out of  337\n",
      "Processing i =  53  out of  337\n",
      "Processing i =  54  out of  337\n",
      "Processing i =  55  out of  337\n",
      "Processing i =  56  out of  337\n",
      "Processing i =  57  out of  337\n",
      "Processing i =  58  out of  337\n",
      "Processing i =  59  out of  337\n",
      "Processing i =  60  out of  337\n",
      "Processing i =  61  out of  337\n",
      "Processing i =  62  out of  337\n",
      "Processing i =  63  out of  337\n",
      "Processing i =  64  out of  337\n",
      "Processing i =  65  out of  337\n",
      "Processing i =  66  out of  337\n",
      "Processing i =  67  out of  337\n",
      "Processing i =  68  out of  337\n",
      "Processing i =  69  out of  337\n",
      "Processing i =  70  out of  337\n",
      "Processing i =  71  out of  337\n",
      "Processing i =  72  out of  337\n",
      "Processing i =  73  out of  337\n",
      "Processing i =  74  out of  337\n",
      "Processing i =  75  out of  337\n",
      "Processing i =  76  out of  337\n",
      "Processing i =  77  out of  337\n",
      "Processing i =  78  out of  337\n",
      "Processing i =  79  out of  337\n",
      "Processing i =  80  out of  337\n",
      "Processing i =  81  out of  337\n",
      "Processing i =  82  out of  337\n",
      "Processing i =  83  out of  337\n",
      "Processing i =  84  out of  337\n",
      "Processing i =  85  out of  337\n",
      "Processing i =  86  out of  337\n",
      "Processing i =  87  out of  337\n",
      "Processing i =  88  out of  337\n",
      "Processing i =  89  out of  337\n",
      "Processing i =  90  out of  337\n",
      "Processing i =  91  out of  337\n",
      "Processing i =  92  out of  337\n",
      "Processing i =  93  out of  337\n",
      "Processing i =  94  out of  337\n",
      "Processing i =  95  out of  337\n",
      "Processing i =  96  out of  337\n",
      "Processing i =  97  out of  337\n",
      "Processing i =  98  out of  337\n",
      "Processing i =  99  out of  337\n",
      "Processing i =  100  out of  337\n",
      "Processing i =  101  out of  337\n",
      "Processing i =  102  out of  337\n",
      "Processing i =  103  out of  337\n",
      "Processing i =  104  out of  337\n",
      "Processing i =  105  out of  337\n",
      "Processing i =  106  out of  337\n",
      "Processing i =  107  out of  337\n",
      "Processing i =  108  out of  337\n",
      "Processing i =  109  out of  337\n",
      "Processing i =  110  out of  337\n",
      "Processing i =  111  out of  337\n",
      "Processing i =  112  out of  337\n",
      "Processing i =  113  out of  337\n",
      "Processing i =  114  out of  337\n",
      "Processing i =  115  out of  337\n",
      "Processing i =  116  out of  337\n",
      "Processing i =  117  out of  337\n",
      "Processing i =  118  out of  337\n",
      "Processing i =  119  out of  337\n",
      "Processing i =  120  out of  337\n",
      "Processing i =  121  out of  337\n",
      "Processing i =  122  out of  337\n",
      "Processing i =  123  out of  337\n",
      "Processing i =  124  out of  337\n",
      "Processing i =  125  out of  337\n",
      "Processing i =  126  out of  337\n",
      "Processing i =  127  out of  337\n",
      "Processing i =  128  out of  337\n",
      "Processing i =  129  out of  337\n",
      "Processing i =  130  out of  337\n",
      "Processing i =  131  out of  337\n",
      "Processing i =  132  out of  337\n",
      "Processing i =  133  out of  337\n",
      "Processing i =  134  out of  337\n",
      "Processing i =  135  out of  337\n",
      "Processing i =  136  out of  337\n",
      "Processing i =  137  out of  337\n",
      "Processing i =  138  out of  337\n",
      "Processing i =  139  out of  337\n",
      "Processing i =  140  out of  337\n",
      "Processing i =  141  out of  337\n",
      "Processing i =  142  out of  337\n",
      "Processing i =  143  out of  337\n",
      "Processing i =  144  out of  337\n",
      "Processing i =  145  out of  337\n",
      "Processing i =  146  out of  337\n",
      "Processing i =  147  out of  337\n",
      "Processing i =  148  out of  337\n",
      "Processing i =  149  out of  337\n",
      "Processing i =  150  out of  337\n",
      "Processing i =  151  out of  337\n",
      "Processing i =  152  out of  337\n",
      "Processing i =  153  out of  337\n",
      "Processing i =  154  out of  337\n",
      "Processing i =  155  out of  337\n",
      "Processing i =  156  out of  337\n",
      "Processing i =  157  out of  337\n",
      "Processing i =  158  out of  337\n",
      "Processing i =  159  out of  337\n",
      "Processing i =  160  out of  337\n",
      "Processing i =  161  out of  337\n",
      "Processing i =  162  out of  337\n",
      "Processing i =  163  out of  337\n",
      "Processing i =  164  out of  337\n",
      "Processing i =  165  out of  337\n",
      "Processing i =  166  out of  337\n",
      "Processing i =  167  out of  337\n",
      "Processing i =  168  out of  337\n",
      "Processing i =  169  out of  337\n",
      "Processing i =  170  out of  337\n",
      "Processing i =  171  out of  337\n",
      "Processing i =  172  out of  337\n",
      "Processing i =  173  out of  337\n",
      "Processing i =  174  out of  337\n",
      "Processing i =  175  out of  337\n",
      "Processing i =  176  out of  337\n",
      "Processing i =  177  out of  337\n",
      "Processing i =  178  out of  337\n",
      "Processing i =  179  out of  337\n",
      "Processing i =  180  out of  337\n",
      "Processing i =  181  out of  337\n",
      "Processing i =  182  out of  337\n",
      "Processing i =  183  out of  337\n",
      "Processing i =  184  out of  337\n",
      "Processing i =  185  out of  337\n",
      "Processing i =  186  out of  337\n",
      "Processing i =  187  out of  337\n",
      "Processing i =  188  out of  337\n",
      "Processing i =  189  out of  337\n",
      "Processing i =  190  out of  337\n",
      "Processing i =  191  out of  337\n",
      "Processing i =  192  out of  337\n",
      "Processing i =  193  out of  337\n",
      "Processing i =  194  out of  337\n",
      "Processing i =  195  out of  337\n",
      "Processing i =  196  out of  337\n",
      "Processing i =  197  out of  337\n",
      "Processing i =  198  out of  337\n",
      "Processing i =  199  out of  337\n",
      "Processing i =  200  out of  337\n",
      "Processing i =  201  out of  337\n",
      "Processing i =  202  out of  337\n",
      "Processing i =  203  out of  337\n",
      "Processing i =  204  out of  337\n",
      "Processing i =  205  out of  337\n",
      "Processing i =  206  out of  337\n",
      "Processing i =  207  out of  337\n",
      "Processing i =  208  out of  337\n",
      "Processing i =  209  out of  337\n",
      "Processing i =  210  out of  337\n",
      "Processing i =  211  out of  337\n",
      "Processing i =  212  out of  337\n",
      "Processing i =  213  out of  337\n",
      "Processing i =  214  out of  337\n",
      "Processing i =  215  out of  337\n",
      "Processing i =  216  out of  337\n",
      "Processing i =  217  out of  337\n",
      "Processing i =  218  out of  337\n",
      "Processing i =  219  out of  337\n",
      "Processing i =  220  out of  337\n",
      "Processing i =  221  out of  337\n",
      "Processing i =  222  out of  337\n",
      "Processing i =  223  out of  337\n",
      "Processing i =  224  out of  337\n",
      "Processing i =  225  out of  337\n",
      "Processing i =  226  out of  337\n",
      "Processing i =  227  out of  337\n",
      "Processing i =  228  out of  337\n",
      "Processing i =  229  out of  337\n",
      "Processing i =  230  out of  337\n",
      "Processing i =  231  out of  337\n",
      "Processing i =  232  out of  337\n",
      "Processing i =  233  out of  337\n",
      "Processing i =  234  out of  337\n",
      "Processing i =  235  out of  337\n",
      "Processing i =  236  out of  337\n",
      "Processing i =  237  out of  337\n",
      "Processing i =  238  out of  337\n",
      "Processing i =  239  out of  337\n",
      "Processing i =  240  out of  337\n",
      "Processing i =  241  out of  337\n",
      "Processing i =  242  out of  337\n",
      "Processing i =  243  out of  337\n",
      "Processing i =  244  out of  337\n",
      "Processing i =  245  out of  337\n",
      "Processing i =  246  out of  337\n",
      "Processing i =  247  out of  337\n",
      "Processing i =  248  out of  337\n",
      "Processing i =  249  out of  337\n",
      "Processing i =  250  out of  337\n",
      "Processing i =  251  out of  337\n",
      "Processing i =  252  out of  337\n",
      "Processing i =  253  out of  337\n",
      "Processing i =  254  out of  337\n",
      "Processing i =  255  out of  337\n",
      "Processing i =  256  out of  337\n",
      "Processing i =  257  out of  337\n",
      "Processing i =  258  out of  337\n",
      "Processing i =  259  out of  337\n",
      "Processing i =  260  out of  337\n",
      "Processing i =  261  out of  337\n",
      "Processing i =  262  out of  337\n",
      "Processing i =  263  out of  337\n",
      "Processing i =  264  out of  337\n",
      "Processing i =  265  out of  337\n",
      "Processing i =  266  out of  337\n",
      "Processing i =  267  out of  337\n",
      "Processing i =  268  out of  337\n",
      "Processing i =  269  out of  337\n",
      "Processing i =  270  out of  337\n",
      "Processing i =  271  out of  337\n",
      "Processing i =  272  out of  337\n",
      "Processing i =  273  out of  337\n",
      "Processing i =  274  out of  337\n",
      "Processing i =  275  out of  337\n",
      "Processing i =  276  out of  337\n",
      "Processing i =  277  out of  337\n",
      "Processing i =  278  out of  337\n",
      "Processing i =  279  out of  337\n",
      "Processing i =  280  out of  337\n",
      "Processing i =  281  out of  337\n",
      "Processing i =  282  out of  337\n",
      "Processing i =  283  out of  337\n",
      "Processing i =  284  out of  337\n",
      "Processing i =  285  out of  337\n",
      "Processing i =  286  out of  337\n",
      "Processing i =  287  out of  337\n",
      "Processing i =  288  out of  337\n",
      "Processing i =  289  out of  337\n",
      "Processing i =  290  out of  337\n",
      "Processing i =  291  out of  337\n",
      "Processing i =  292  out of  337\n",
      "Processing i =  293  out of  337\n",
      "Processing i =  294  out of  337\n",
      "Processing i =  295  out of  337\n",
      "Processing i =  296  out of  337\n",
      "Processing i =  297  out of  337\n",
      "Processing i =  298  out of  337\n",
      "Processing i =  299  out of  337\n",
      "Processing i =  300  out of  337\n",
      "Processing i =  301  out of  337\n",
      "Processing i =  302  out of  337\n",
      "Processing i =  303  out of  337\n",
      "Processing i =  304  out of  337\n",
      "Processing i =  305  out of  337\n",
      "Processing i =  306  out of  337\n",
      "Processing i =  307  out of  337\n",
      "Processing i =  308  out of  337\n",
      "Processing i =  309  out of  337\n",
      "Processing i =  310  out of  337\n",
      "Processing i =  311  out of  337\n",
      "Processing i =  312  out of  337\n",
      "Processing i =  313  out of  337\n",
      "Processing i =  314  out of  337\n",
      "Processing i =  315  out of  337\n",
      "Processing i =  316  out of  337\n",
      "Processing i =  317  out of  337\n",
      "Processing i =  318  out of  337\n",
      "Processing i =  319  out of  337\n",
      "Processing i =  320  out of  337\n",
      "Processing i =  321  out of  337\n",
      "Processing i =  322  out of  337\n",
      "Processing i =  323  out of  337\n",
      "Processing i =  324  out of  337\n",
      "Processing i =  325  out of  337\n",
      "Processing i =  326  out of  337\n",
      "Processing i =  327  out of  337\n",
      "Processing i =  328  out of  337\n",
      "Processing i =  329  out of  337\n",
      "Processing i =  330  out of  337\n",
      "Processing i =  331  out of  337\n",
      "Processing i =  332  out of  337\n",
      "Processing i =  333  out of  337\n",
      "Processing i =  334  out of  337\n",
      "Processing i =  335  out of  337\n",
      "Processing i =  336  out of  337\n",
      "Processing i =  337  out of  337\n",
      "\n",
      "Processing CV 7 / 10....\n",
      "Processing i =  1  out of  336\n",
      "Processing i =  2  out of  336\n",
      "Processing i =  3  out of  336\n",
      "Processing i =  4  out of  336\n",
      "Processing i =  5  out of  336\n",
      "Processing i =  6  out of  336\n",
      "Processing i =  7  out of  336\n",
      "Processing i =  8  out of  336\n",
      "Processing i =  9  out of  336\n",
      "Processing i =  10  out of  336\n",
      "Processing i =  11  out of  336\n",
      "Processing i =  12  out of  336\n",
      "Processing i =  13  out of  336\n",
      "Processing i =  14  out of  336\n",
      "Processing i =  15  out of  336\n",
      "Processing i =  16  out of  336\n",
      "Processing i =  17  out of  336\n",
      "Processing i =  18  out of  336\n",
      "Processing i =  19  out of  336\n",
      "Processing i =  20  out of  336\n",
      "Processing i =  21  out of  336\n",
      "Processing i =  22  out of  336\n",
      "Processing i =  23  out of  336\n",
      "Processing i =  24  out of  336\n",
      "Processing i =  25  out of  336\n",
      "Processing i =  26  out of  336\n",
      "Processing i =  27  out of  336\n",
      "Processing i =  28  out of  336\n",
      "Processing i =  29  out of  336\n",
      "Processing i =  30  out of  336\n",
      "Processing i =  31  out of  336\n",
      "Processing i =  32  out of  336\n",
      "Processing i =  33  out of  336\n",
      "Processing i =  34  out of  336\n",
      "Processing i =  35  out of  336\n",
      "Processing i =  36  out of  336\n",
      "Processing i =  37  out of  336\n",
      "Processing i =  38  out of  336\n",
      "Processing i =  39  out of  336\n",
      "Processing i =  40  out of  336\n",
      "Processing i =  41  out of  336\n",
      "Processing i =  42  out of  336\n",
      "Processing i =  43  out of  336\n",
      "Processing i =  44  out of  336\n",
      "Processing i =  45  out of  336\n",
      "Processing i =  46  out of  336\n",
      "Processing i =  47  out of  336\n",
      "Processing i =  48  out of  336\n",
      "Processing i =  49  out of  336\n",
      "Processing i =  50  out of  336\n",
      "Processing i =  51  out of  336\n",
      "Processing i =  52  out of  336\n",
      "Processing i =  53  out of  336\n",
      "Processing i =  54  out of  336\n",
      "Processing i =  55  out of  336\n",
      "Processing i =  56  out of  336\n",
      "Processing i =  57  out of  336\n",
      "Processing i =  58  out of  336\n",
      "Processing i =  59  out of  336\n",
      "Processing i =  60  out of  336\n",
      "Processing i =  61  out of  336\n",
      "Processing i =  62  out of  336\n",
      "Processing i =  63  out of  336\n",
      "Processing i =  64  out of  336\n",
      "Processing i =  65  out of  336\n",
      "Processing i =  66  out of  336\n",
      "Processing i =  67  out of  336\n",
      "Processing i =  68  out of  336\n",
      "Processing i =  69  out of  336\n",
      "Processing i =  70  out of  336\n",
      "Processing i =  71  out of  336\n",
      "Processing i =  72  out of  336\n",
      "Processing i =  73  out of  336\n",
      "Processing i =  74  out of  336\n",
      "Processing i =  75  out of  336\n",
      "Processing i =  76  out of  336\n",
      "Processing i =  77  out of  336\n",
      "Processing i =  78  out of  336\n",
      "Processing i =  79  out of  336\n",
      "Processing i =  80  out of  336\n",
      "Processing i =  81  out of  336\n",
      "Processing i =  82  out of  336\n",
      "Processing i =  83  out of  336\n",
      "Processing i =  84  out of  336\n",
      "Processing i =  85  out of  336\n",
      "Processing i =  86  out of  336\n",
      "Processing i =  87  out of  336\n",
      "Processing i =  88  out of  336\n",
      "Processing i =  89  out of  336\n",
      "Processing i =  90  out of  336\n",
      "Processing i =  91  out of  336\n",
      "Processing i =  92  out of  336\n",
      "Processing i =  93  out of  336\n",
      "Processing i =  94  out of  336\n",
      "Processing i =  95  out of  336\n",
      "Processing i =  96  out of  336\n",
      "Processing i =  97  out of  336\n",
      "Processing i =  98  out of  336\n",
      "Processing i =  99  out of  336\n",
      "Processing i =  100  out of  336\n",
      "Processing i =  101  out of  336\n",
      "Processing i =  102  out of  336\n",
      "Processing i =  103  out of  336\n",
      "Processing i =  104  out of  336\n",
      "Processing i =  105  out of  336\n",
      "Processing i =  106  out of  336\n",
      "Processing i =  107  out of  336\n",
      "Processing i =  108  out of  336\n",
      "Processing i =  109  out of  336\n",
      "Processing i =  110  out of  336\n",
      "Processing i =  111  out of  336\n",
      "Processing i =  112  out of  336\n",
      "Processing i =  113  out of  336\n",
      "Processing i =  114  out of  336\n",
      "Processing i =  115  out of  336\n",
      "Processing i =  116  out of  336\n",
      "Processing i =  117  out of  336\n",
      "Processing i =  118  out of  336\n",
      "Processing i =  119  out of  336\n",
      "Processing i =  120  out of  336\n",
      "Processing i =  121  out of  336\n",
      "Processing i =  122  out of  336\n",
      "Processing i =  123  out of  336\n",
      "Processing i =  124  out of  336\n",
      "Processing i =  125  out of  336\n",
      "Processing i =  126  out of  336\n",
      "Processing i =  127  out of  336\n",
      "Processing i =  128  out of  336\n",
      "Processing i =  129  out of  336\n",
      "Processing i =  130  out of  336\n",
      "Processing i =  131  out of  336\n",
      "Processing i =  132  out of  336\n",
      "Processing i =  133  out of  336\n",
      "Processing i =  134  out of  336\n",
      "Processing i =  135  out of  336\n",
      "Processing i =  136  out of  336\n",
      "Processing i =  137  out of  336\n",
      "Processing i =  138  out of  336\n",
      "Processing i =  139  out of  336\n",
      "Processing i =  140  out of  336\n",
      "Processing i =  141  out of  336\n",
      "Processing i =  142  out of  336\n",
      "Processing i =  143  out of  336\n",
      "Processing i =  144  out of  336\n",
      "Processing i =  145  out of  336\n",
      "Processing i =  146  out of  336\n",
      "Processing i =  147  out of  336\n",
      "Processing i =  148  out of  336\n",
      "Processing i =  149  out of  336\n",
      "Processing i =  150  out of  336\n",
      "Processing i =  151  out of  336\n",
      "Processing i =  152  out of  336\n",
      "Processing i =  153  out of  336\n",
      "Processing i =  154  out of  336\n",
      "Processing i =  155  out of  336\n",
      "Processing i =  156  out of  336\n",
      "Processing i =  157  out of  336\n",
      "Processing i =  158  out of  336\n",
      "Processing i =  159  out of  336\n",
      "Processing i =  160  out of  336\n",
      "Processing i =  161  out of  336\n",
      "Processing i =  162  out of  336\n",
      "Processing i =  163  out of  336\n",
      "Processing i =  164  out of  336\n",
      "Processing i =  165  out of  336\n",
      "Processing i =  166  out of  336\n",
      "Processing i =  167  out of  336\n",
      "Processing i =  168  out of  336\n",
      "Processing i =  169  out of  336\n",
      "Processing i =  170  out of  336\n",
      "Processing i =  171  out of  336\n",
      "Processing i =  172  out of  336\n",
      "Processing i =  173  out of  336\n",
      "Processing i =  174  out of  336\n",
      "Processing i =  175  out of  336\n",
      "Processing i =  176  out of  336\n",
      "Processing i =  177  out of  336\n",
      "Processing i =  178  out of  336\n",
      "Processing i =  179  out of  336\n",
      "Processing i =  180  out of  336\n",
      "Processing i =  181  out of  336\n",
      "Processing i =  182  out of  336\n",
      "Processing i =  183  out of  336\n",
      "Processing i =  184  out of  336\n",
      "Processing i =  185  out of  336\n",
      "Processing i =  186  out of  336\n",
      "Processing i =  187  out of  336\n",
      "Processing i =  188  out of  336\n",
      "Processing i =  189  out of  336\n",
      "Processing i =  190  out of  336\n",
      "Processing i =  191  out of  336\n",
      "Processing i =  192  out of  336\n",
      "Processing i =  193  out of  336\n",
      "Processing i =  194  out of  336\n",
      "Processing i =  195  out of  336\n",
      "Processing i =  196  out of  336\n",
      "Processing i =  197  out of  336\n",
      "Processing i =  198  out of  336\n",
      "Processing i =  199  out of  336\n",
      "Processing i =  200  out of  336\n",
      "Processing i =  201  out of  336\n",
      "Processing i =  202  out of  336\n",
      "Processing i =  203  out of  336\n",
      "Processing i =  204  out of  336\n",
      "Processing i =  205  out of  336\n",
      "Processing i =  206  out of  336\n",
      "Processing i =  207  out of  336\n",
      "Processing i =  208  out of  336\n",
      "Processing i =  209  out of  336\n",
      "Processing i =  210  out of  336\n",
      "Processing i =  211  out of  336\n",
      "Processing i =  212  out of  336\n",
      "Processing i =  213  out of  336\n",
      "Processing i =  214  out of  336\n",
      "Processing i =  215  out of  336\n",
      "Processing i =  216  out of  336\n",
      "Processing i =  217  out of  336\n",
      "Processing i =  218  out of  336\n",
      "Processing i =  219  out of  336\n",
      "Processing i =  220  out of  336\n",
      "Processing i =  221  out of  336\n",
      "Processing i =  222  out of  336\n",
      "Processing i =  223  out of  336\n",
      "Processing i =  224  out of  336\n",
      "Processing i =  225  out of  336\n",
      "Processing i =  226  out of  336\n",
      "Processing i =  227  out of  336\n",
      "Processing i =  228  out of  336\n",
      "Processing i =  229  out of  336\n",
      "Processing i =  230  out of  336\n",
      "Processing i =  231  out of  336\n",
      "Processing i =  232  out of  336\n",
      "Processing i =  233  out of  336\n",
      "Processing i =  234  out of  336\n",
      "Processing i =  235  out of  336\n",
      "Processing i =  236  out of  336\n",
      "Processing i =  237  out of  336\n",
      "Processing i =  238  out of  336\n",
      "Processing i =  239  out of  336\n",
      "Processing i =  240  out of  336\n",
      "Processing i =  241  out of  336\n",
      "Processing i =  242  out of  336\n",
      "Processing i =  243  out of  336\n",
      "Processing i =  244  out of  336\n",
      "Processing i =  245  out of  336\n",
      "Processing i =  246  out of  336\n",
      "Processing i =  247  out of  336\n",
      "Processing i =  248  out of  336\n",
      "Processing i =  249  out of  336\n",
      "Processing i =  250  out of  336\n",
      "Processing i =  251  out of  336\n",
      "Processing i =  252  out of  336\n",
      "Processing i =  253  out of  336\n",
      "Processing i =  254  out of  336\n",
      "Processing i =  255  out of  336\n",
      "Processing i =  256  out of  336\n",
      "Processing i =  257  out of  336\n",
      "Processing i =  258  out of  336\n",
      "Processing i =  259  out of  336\n",
      "Processing i =  260  out of  336\n",
      "Processing i =  261  out of  336\n",
      "Processing i =  262  out of  336\n",
      "Processing i =  263  out of  336\n",
      "Processing i =  264  out of  336\n",
      "Processing i =  265  out of  336\n",
      "Processing i =  266  out of  336\n",
      "Processing i =  267  out of  336\n",
      "Processing i =  268  out of  336\n",
      "Processing i =  269  out of  336\n",
      "Processing i =  270  out of  336\n",
      "Processing i =  271  out of  336\n",
      "Processing i =  272  out of  336\n",
      "Processing i =  273  out of  336\n",
      "Processing i =  274  out of  336\n",
      "Processing i =  275  out of  336\n",
      "Processing i =  276  out of  336\n",
      "Processing i =  277  out of  336\n",
      "Processing i =  278  out of  336\n",
      "Processing i =  279  out of  336\n",
      "Processing i =  280  out of  336\n",
      "Processing i =  281  out of  336\n",
      "Processing i =  282  out of  336\n",
      "Processing i =  283  out of  336\n",
      "Processing i =  284  out of  336\n",
      "Processing i =  285  out of  336\n",
      "Processing i =  286  out of  336\n",
      "Processing i =  287  out of  336\n",
      "Processing i =  288  out of  336\n",
      "Processing i =  289  out of  336\n",
      "Processing i =  290  out of  336\n",
      "Processing i =  291  out of  336\n",
      "Processing i =  292  out of  336\n",
      "Processing i =  293  out of  336\n",
      "Processing i =  294  out of  336\n",
      "Processing i =  295  out of  336\n",
      "Processing i =  296  out of  336\n",
      "Processing i =  297  out of  336\n",
      "Processing i =  298  out of  336\n",
      "Processing i =  299  out of  336\n",
      "Processing i =  300  out of  336\n",
      "Processing i =  301  out of  336\n",
      "Processing i =  302  out of  336\n",
      "Processing i =  303  out of  336\n",
      "Processing i =  304  out of  336\n",
      "Processing i =  305  out of  336\n",
      "Processing i =  306  out of  336\n",
      "Processing i =  307  out of  336\n",
      "Processing i =  308  out of  336\n",
      "Processing i =  309  out of  336\n",
      "Processing i =  310  out of  336\n",
      "Processing i =  311  out of  336\n",
      "Processing i =  312  out of  336\n",
      "Processing i =  313  out of  336\n",
      "Processing i =  314  out of  336\n",
      "Processing i =  315  out of  336\n",
      "Processing i =  316  out of  336\n",
      "Processing i =  317  out of  336\n",
      "Processing i =  318  out of  336\n",
      "Processing i =  319  out of  336\n",
      "Processing i =  320  out of  336\n",
      "Processing i =  321  out of  336\n",
      "Processing i =  322  out of  336\n",
      "Processing i =  323  out of  336\n",
      "Processing i =  324  out of  336\n",
      "Processing i =  325  out of  336\n",
      "Processing i =  326  out of  336\n",
      "Processing i =  327  out of  336\n",
      "Processing i =  328  out of  336\n",
      "Processing i =  329  out of  336\n",
      "Processing i =  330  out of  336\n",
      "Processing i =  331  out of  336\n",
      "Processing i =  332  out of  336\n",
      "Processing i =  333  out of  336\n",
      "Processing i =  334  out of  336\n",
      "Processing i =  335  out of  336\n",
      "Processing i =  336  out of  336\n",
      "\n",
      "Processing CV 8 / 10....\n",
      "Processing i =  1  out of  336\n",
      "Processing i =  2  out of  336\n",
      "Processing i =  3  out of  336\n",
      "Processing i =  4  out of  336\n",
      "Processing i =  5  out of  336\n",
      "Processing i =  6  out of  336\n",
      "Processing i =  7  out of  336\n",
      "Processing i =  8  out of  336\n",
      "Processing i =  9  out of  336\n",
      "Processing i =  10  out of  336\n",
      "Processing i =  11  out of  336\n",
      "Processing i =  12  out of  336\n",
      "Processing i =  13  out of  336\n",
      "Processing i =  14  out of  336\n",
      "Processing i =  15  out of  336\n",
      "Processing i =  16  out of  336\n",
      "Processing i =  17  out of  336\n",
      "Processing i =  18  out of  336\n",
      "Processing i =  19  out of  336\n",
      "Processing i =  20  out of  336\n",
      "Processing i =  21  out of  336\n",
      "Processing i =  22  out of  336\n",
      "Processing i =  23  out of  336\n",
      "Processing i =  24  out of  336\n",
      "Processing i =  25  out of  336\n",
      "Processing i =  26  out of  336\n",
      "Processing i =  27  out of  336\n",
      "Processing i =  28  out of  336\n",
      "Processing i =  29  out of  336\n",
      "Processing i =  30  out of  336\n",
      "Processing i =  31  out of  336\n",
      "Processing i =  32  out of  336\n",
      "Processing i =  33  out of  336\n",
      "Processing i =  34  out of  336\n",
      "Processing i =  35  out of  336\n",
      "Processing i =  36  out of  336\n",
      "Processing i =  37  out of  336\n",
      "Processing i =  38  out of  336\n",
      "Processing i =  39  out of  336\n",
      "Processing i =  40  out of  336\n",
      "Processing i =  41  out of  336\n",
      "Processing i =  42  out of  336\n",
      "Processing i =  43  out of  336\n",
      "Processing i =  44  out of  336\n",
      "Processing i =  45  out of  336\n",
      "Processing i =  46  out of  336\n",
      "Processing i =  47  out of  336\n",
      "Processing i =  48  out of  336\n",
      "Processing i =  49  out of  336\n",
      "Processing i =  50  out of  336\n",
      "Processing i =  51  out of  336\n",
      "Processing i =  52  out of  336\n",
      "Processing i =  53  out of  336\n",
      "Processing i =  54  out of  336\n",
      "Processing i =  55  out of  336\n",
      "Processing i =  56  out of  336\n",
      "Processing i =  57  out of  336\n",
      "Processing i =  58  out of  336\n",
      "Processing i =  59  out of  336\n",
      "Processing i =  60  out of  336\n",
      "Processing i =  61  out of  336\n",
      "Processing i =  62  out of  336\n",
      "Processing i =  63  out of  336\n",
      "Processing i =  64  out of  336\n",
      "Processing i =  65  out of  336\n",
      "Processing i =  66  out of  336\n",
      "Processing i =  67  out of  336\n",
      "Processing i =  68  out of  336\n",
      "Processing i =  69  out of  336\n",
      "Processing i =  70  out of  336\n",
      "Processing i =  71  out of  336\n",
      "Processing i =  72  out of  336\n",
      "Processing i =  73  out of  336\n",
      "Processing i =  74  out of  336\n",
      "Processing i =  75  out of  336\n",
      "Processing i =  76  out of  336\n",
      "Processing i =  77  out of  336\n",
      "Processing i =  78  out of  336\n",
      "Processing i =  79  out of  336\n",
      "Processing i =  80  out of  336\n",
      "Processing i =  81  out of  336\n",
      "Processing i =  82  out of  336\n",
      "Processing i =  83  out of  336\n",
      "Processing i =  84  out of  336\n",
      "Processing i =  85  out of  336\n",
      "Processing i =  86  out of  336\n",
      "Processing i =  87  out of  336\n",
      "Processing i =  88  out of  336\n",
      "Processing i =  89  out of  336\n",
      "Processing i =  90  out of  336\n",
      "Processing i =  91  out of  336\n",
      "Processing i =  92  out of  336\n",
      "Processing i =  93  out of  336\n",
      "Processing i =  94  out of  336\n",
      "Processing i =  95  out of  336\n",
      "Processing i =  96  out of  336\n",
      "Processing i =  97  out of  336\n",
      "Processing i =  98  out of  336\n",
      "Processing i =  99  out of  336\n",
      "Processing i =  100  out of  336\n",
      "Processing i =  101  out of  336\n",
      "Processing i =  102  out of  336\n",
      "Processing i =  103  out of  336\n",
      "Processing i =  104  out of  336\n",
      "Processing i =  105  out of  336\n",
      "Processing i =  106  out of  336\n",
      "Processing i =  107  out of  336\n",
      "Processing i =  108  out of  336\n",
      "Processing i =  109  out of  336\n",
      "Processing i =  110  out of  336\n",
      "Processing i =  111  out of  336\n",
      "Processing i =  112  out of  336\n",
      "Processing i =  113  out of  336\n",
      "Processing i =  114  out of  336\n",
      "Processing i =  115  out of  336\n",
      "Processing i =  116  out of  336\n",
      "Processing i =  117  out of  336\n",
      "Processing i =  118  out of  336\n",
      "Processing i =  119  out of  336\n",
      "Processing i =  120  out of  336\n",
      "Processing i =  121  out of  336\n",
      "Processing i =  122  out of  336\n",
      "Processing i =  123  out of  336\n",
      "Processing i =  124  out of  336\n",
      "Processing i =  125  out of  336\n",
      "Processing i =  126  out of  336\n",
      "Processing i =  127  out of  336\n",
      "Processing i =  128  out of  336\n",
      "Processing i =  129  out of  336\n",
      "Processing i =  130  out of  336\n",
      "Processing i =  131  out of  336\n",
      "Processing i =  132  out of  336\n",
      "Processing i =  133  out of  336\n",
      "Processing i =  134  out of  336\n",
      "Processing i =  135  out of  336\n",
      "Processing i =  136  out of  336\n",
      "Processing i =  137  out of  336\n",
      "Processing i =  138  out of  336\n",
      "Processing i =  139  out of  336\n",
      "Processing i =  140  out of  336\n",
      "Processing i =  141  out of  336\n",
      "Processing i =  142  out of  336\n",
      "Processing i =  143  out of  336\n",
      "Processing i =  144  out of  336\n",
      "Processing i =  145  out of  336\n",
      "Processing i =  146  out of  336\n",
      "Processing i =  147  out of  336\n",
      "Processing i =  148  out of  336\n",
      "Processing i =  149  out of  336\n",
      "Processing i =  150  out of  336\n",
      "Processing i =  151  out of  336\n",
      "Processing i =  152  out of  336\n",
      "Processing i =  153  out of  336\n",
      "Processing i =  154  out of  336\n",
      "Processing i =  155  out of  336\n",
      "Processing i =  156  out of  336\n",
      "Processing i =  157  out of  336\n",
      "Processing i =  158  out of  336\n",
      "Processing i =  159  out of  336\n",
      "Processing i =  160  out of  336\n",
      "Processing i =  161  out of  336\n",
      "Processing i =  162  out of  336\n",
      "Processing i =  163  out of  336\n",
      "Processing i =  164  out of  336\n",
      "Processing i =  165  out of  336\n",
      "Processing i =  166  out of  336\n",
      "Processing i =  167  out of  336\n",
      "Processing i =  168  out of  336\n",
      "Processing i =  169  out of  336\n",
      "Processing i =  170  out of  336\n",
      "Processing i =  171  out of  336\n",
      "Processing i =  172  out of  336\n",
      "Processing i =  173  out of  336\n",
      "Processing i =  174  out of  336\n",
      "Processing i =  175  out of  336\n",
      "Processing i =  176  out of  336\n",
      "Processing i =  177  out of  336\n",
      "Processing i =  178  out of  336\n",
      "Processing i =  179  out of  336\n",
      "Processing i =  180  out of  336\n",
      "Processing i =  181  out of  336\n",
      "Processing i =  182  out of  336\n",
      "Processing i =  183  out of  336\n",
      "Processing i =  184  out of  336\n",
      "Processing i =  185  out of  336\n",
      "Processing i =  186  out of  336\n",
      "Processing i =  187  out of  336\n",
      "Processing i =  188  out of  336\n",
      "Processing i =  189  out of  336\n",
      "Processing i =  190  out of  336\n",
      "Processing i =  191  out of  336\n",
      "Processing i =  192  out of  336\n",
      "Processing i =  193  out of  336\n",
      "Processing i =  194  out of  336\n",
      "Processing i =  195  out of  336\n",
      "Processing i =  196  out of  336\n",
      "Processing i =  197  out of  336\n",
      "Processing i =  198  out of  336\n",
      "Processing i =  199  out of  336\n",
      "Processing i =  200  out of  336\n",
      "Processing i =  201  out of  336\n",
      "Processing i =  202  out of  336\n",
      "Processing i =  203  out of  336\n",
      "Processing i =  204  out of  336\n",
      "Processing i =  205  out of  336\n",
      "Processing i =  206  out of  336\n",
      "Processing i =  207  out of  336\n",
      "Processing i =  208  out of  336\n",
      "Processing i =  209  out of  336\n",
      "Processing i =  210  out of  336\n",
      "Processing i =  211  out of  336\n",
      "Processing i =  212  out of  336\n",
      "Processing i =  213  out of  336\n",
      "Processing i =  214  out of  336\n",
      "Processing i =  215  out of  336\n",
      "Processing i =  216  out of  336\n",
      "Processing i =  217  out of  336\n",
      "Processing i =  218  out of  336\n",
      "Processing i =  219  out of  336\n",
      "Processing i =  220  out of  336\n",
      "Processing i =  221  out of  336\n",
      "Processing i =  222  out of  336\n",
      "Processing i =  223  out of  336\n",
      "Processing i =  224  out of  336\n",
      "Processing i =  225  out of  336\n",
      "Processing i =  226  out of  336\n",
      "Processing i =  227  out of  336\n",
      "Processing i =  228  out of  336\n",
      "Processing i =  229  out of  336\n",
      "Processing i =  230  out of  336\n",
      "Processing i =  231  out of  336\n",
      "Processing i =  232  out of  336\n",
      "Processing i =  233  out of  336\n",
      "Processing i =  234  out of  336\n",
      "Processing i =  235  out of  336\n",
      "Processing i =  236  out of  336\n",
      "Processing i =  237  out of  336\n",
      "Processing i =  238  out of  336\n",
      "Processing i =  239  out of  336\n",
      "Processing i =  240  out of  336\n",
      "Processing i =  241  out of  336\n",
      "Processing i =  242  out of  336\n",
      "Processing i =  243  out of  336\n",
      "Processing i =  244  out of  336\n",
      "Processing i =  245  out of  336\n",
      "Processing i =  246  out of  336\n",
      "Processing i =  247  out of  336\n",
      "Processing i =  248  out of  336\n",
      "Processing i =  249  out of  336\n",
      "Processing i =  250  out of  336\n",
      "Processing i =  251  out of  336\n",
      "Processing i =  252  out of  336\n",
      "Processing i =  253  out of  336\n",
      "Processing i =  254  out of  336\n",
      "Processing i =  255  out of  336\n",
      "Processing i =  256  out of  336\n",
      "Processing i =  257  out of  336\n",
      "Processing i =  258  out of  336\n",
      "Processing i =  259  out of  336\n",
      "Processing i =  260  out of  336\n",
      "Processing i =  261  out of  336\n",
      "Processing i =  262  out of  336\n",
      "Processing i =  263  out of  336\n",
      "Processing i =  264  out of  336\n",
      "Processing i =  265  out of  336\n",
      "Processing i =  266  out of  336\n",
      "Processing i =  267  out of  336\n",
      "Processing i =  268  out of  336\n",
      "Processing i =  269  out of  336\n",
      "Processing i =  270  out of  336\n",
      "Processing i =  271  out of  336\n",
      "Processing i =  272  out of  336\n",
      "Processing i =  273  out of  336\n",
      "Processing i =  274  out of  336\n",
      "Processing i =  275  out of  336\n",
      "Processing i =  276  out of  336\n",
      "Processing i =  277  out of  336\n",
      "Processing i =  278  out of  336\n",
      "Processing i =  279  out of  336\n",
      "Processing i =  280  out of  336\n",
      "Processing i =  281  out of  336\n",
      "Processing i =  282  out of  336\n",
      "Processing i =  283  out of  336\n",
      "Processing i =  284  out of  336\n",
      "Processing i =  285  out of  336\n",
      "Processing i =  286  out of  336\n",
      "Processing i =  287  out of  336\n",
      "Processing i =  288  out of  336\n",
      "Processing i =  289  out of  336\n",
      "Processing i =  290  out of  336\n",
      "Processing i =  291  out of  336\n",
      "Processing i =  292  out of  336\n",
      "Processing i =  293  out of  336\n",
      "Processing i =  294  out of  336\n",
      "Processing i =  295  out of  336\n",
      "Processing i =  296  out of  336\n",
      "Processing i =  297  out of  336\n",
      "Processing i =  298  out of  336\n",
      "Processing i =  299  out of  336\n",
      "Processing i =  300  out of  336\n",
      "Processing i =  301  out of  336\n",
      "Processing i =  302  out of  336\n",
      "Processing i =  303  out of  336\n",
      "Processing i =  304  out of  336\n",
      "Processing i =  305  out of  336\n",
      "Processing i =  306  out of  336\n",
      "Processing i =  307  out of  336\n",
      "Processing i =  308  out of  336\n",
      "Processing i =  309  out of  336\n",
      "Processing i =  310  out of  336\n",
      "Processing i =  311  out of  336\n",
      "Processing i =  312  out of  336\n",
      "Processing i =  313  out of  336\n",
      "Processing i =  314  out of  336\n",
      "Processing i =  315  out of  336\n",
      "Processing i =  316  out of  336\n",
      "Processing i =  317  out of  336\n",
      "Processing i =  318  out of  336\n",
      "Processing i =  319  out of  336\n",
      "Processing i =  320  out of  336\n",
      "Processing i =  321  out of  336\n",
      "Processing i =  322  out of  336\n",
      "Processing i =  323  out of  336\n",
      "Processing i =  324  out of  336\n",
      "Processing i =  325  out of  336\n",
      "Processing i =  326  out of  336\n",
      "Processing i =  327  out of  336\n",
      "Processing i =  328  out of  336\n",
      "Processing i =  329  out of  336\n",
      "Processing i =  330  out of  336\n",
      "Processing i =  331  out of  336\n",
      "Processing i =  332  out of  336\n",
      "Processing i =  333  out of  336\n",
      "Processing i =  334  out of  336\n",
      "Processing i =  335  out of  336\n",
      "Processing i =  336  out of  336\n",
      "\n",
      "Processing CV 9 / 10....\n",
      "Processing i =  1  out of  336\n",
      "Processing i =  2  out of  336\n",
      "Processing i =  3  out of  336\n",
      "Processing i =  4  out of  336\n",
      "Processing i =  5  out of  336\n",
      "Processing i =  6  out of  336\n",
      "Processing i =  7  out of  336\n",
      "Processing i =  8  out of  336\n",
      "Processing i =  9  out of  336\n",
      "Processing i =  10  out of  336\n",
      "Processing i =  11  out of  336\n",
      "Processing i =  12  out of  336\n",
      "Processing i =  13  out of  336\n",
      "Processing i =  14  out of  336\n",
      "Processing i =  15  out of  336\n",
      "Processing i =  16  out of  336\n",
      "Processing i =  17  out of  336\n",
      "Processing i =  18  out of  336\n",
      "Processing i =  19  out of  336\n",
      "Processing i =  20  out of  336\n",
      "Processing i =  21  out of  336\n",
      "Processing i =  22  out of  336\n",
      "Processing i =  23  out of  336\n",
      "Processing i =  24  out of  336\n",
      "Processing i =  25  out of  336\n",
      "Processing i =  26  out of  336\n",
      "Processing i =  27  out of  336\n",
      "Processing i =  28  out of  336\n",
      "Processing i =  29  out of  336\n",
      "Processing i =  30  out of  336\n",
      "Processing i =  31  out of  336\n",
      "Processing i =  32  out of  336\n",
      "Processing i =  33  out of  336\n",
      "Processing i =  34  out of  336\n",
      "Processing i =  35  out of  336\n",
      "Processing i =  36  out of  336\n",
      "Processing i =  37  out of  336\n",
      "Processing i =  38  out of  336\n",
      "Processing i =  39  out of  336\n",
      "Processing i =  40  out of  336\n",
      "Processing i =  41  out of  336\n",
      "Processing i =  42  out of  336\n",
      "Processing i =  43  out of  336\n",
      "Processing i =  44  out of  336\n",
      "Processing i =  45  out of  336\n",
      "Processing i =  46  out of  336\n",
      "Processing i =  47  out of  336\n",
      "Processing i =  48  out of  336\n",
      "Processing i =  49  out of  336\n",
      "Processing i =  50  out of  336\n",
      "Processing i =  51  out of  336\n",
      "Processing i =  52  out of  336\n",
      "Processing i =  53  out of  336\n",
      "Processing i =  54  out of  336\n",
      "Processing i =  55  out of  336\n",
      "Processing i =  56  out of  336\n",
      "Processing i =  57  out of  336\n",
      "Processing i =  58  out of  336\n",
      "Processing i =  59  out of  336\n",
      "Processing i =  60  out of  336\n",
      "Processing i =  61  out of  336\n",
      "Processing i =  62  out of  336\n",
      "Processing i =  63  out of  336\n",
      "Processing i =  64  out of  336\n",
      "Processing i =  65  out of  336\n",
      "Processing i =  66  out of  336\n",
      "Processing i =  67  out of  336\n",
      "Processing i =  68  out of  336\n",
      "Processing i =  69  out of  336\n",
      "Processing i =  70  out of  336\n",
      "Processing i =  71  out of  336\n",
      "Processing i =  72  out of  336\n",
      "Processing i =  73  out of  336\n",
      "Processing i =  74  out of  336\n",
      "Processing i =  75  out of  336\n",
      "Processing i =  76  out of  336\n",
      "Processing i =  77  out of  336\n",
      "Processing i =  78  out of  336\n",
      "Processing i =  79  out of  336\n",
      "Processing i =  80  out of  336\n",
      "Processing i =  81  out of  336\n",
      "Processing i =  82  out of  336\n",
      "Processing i =  83  out of  336\n",
      "Processing i =  84  out of  336\n",
      "Processing i =  85  out of  336\n",
      "Processing i =  86  out of  336\n",
      "Processing i =  87  out of  336\n",
      "Processing i =  88  out of  336\n",
      "Processing i =  89  out of  336\n",
      "Processing i =  90  out of  336\n",
      "Processing i =  91  out of  336\n",
      "Processing i =  92  out of  336\n",
      "Processing i =  93  out of  336\n",
      "Processing i =  94  out of  336\n",
      "Processing i =  95  out of  336\n",
      "Processing i =  96  out of  336\n",
      "Processing i =  97  out of  336\n",
      "Processing i =  98  out of  336\n",
      "Processing i =  99  out of  336\n",
      "Processing i =  100  out of  336\n",
      "Processing i =  101  out of  336\n",
      "Processing i =  102  out of  336\n",
      "Processing i =  103  out of  336\n",
      "Processing i =  104  out of  336\n",
      "Processing i =  105  out of  336\n",
      "Processing i =  106  out of  336\n",
      "Processing i =  107  out of  336\n",
      "Processing i =  108  out of  336\n",
      "Processing i =  109  out of  336\n",
      "Processing i =  110  out of  336\n",
      "Processing i =  111  out of  336\n",
      "Processing i =  112  out of  336\n",
      "Processing i =  113  out of  336\n",
      "Processing i =  114  out of  336\n",
      "Processing i =  115  out of  336\n",
      "Processing i =  116  out of  336\n",
      "Processing i =  117  out of  336\n",
      "Processing i =  118  out of  336\n",
      "Processing i =  119  out of  336\n",
      "Processing i =  120  out of  336\n",
      "Processing i =  121  out of  336\n",
      "Processing i =  122  out of  336\n",
      "Processing i =  123  out of  336\n",
      "Processing i =  124  out of  336\n",
      "Processing i =  125  out of  336\n",
      "Processing i =  126  out of  336\n",
      "Processing i =  127  out of  336\n",
      "Processing i =  128  out of  336\n",
      "Processing i =  129  out of  336\n",
      "Processing i =  130  out of  336\n",
      "Processing i =  131  out of  336\n",
      "Processing i =  132  out of  336\n",
      "Processing i =  133  out of  336\n",
      "Processing i =  134  out of  336\n",
      "Processing i =  135  out of  336\n",
      "Processing i =  136  out of  336\n",
      "Processing i =  137  out of  336\n",
      "Processing i =  138  out of  336\n",
      "Processing i =  139  out of  336\n",
      "Processing i =  140  out of  336\n",
      "Processing i =  141  out of  336\n",
      "Processing i =  142  out of  336\n",
      "Processing i =  143  out of  336\n",
      "Processing i =  144  out of  336\n",
      "Processing i =  145  out of  336\n",
      "Processing i =  146  out of  336\n",
      "Processing i =  147  out of  336\n",
      "Processing i =  148  out of  336\n",
      "Processing i =  149  out of  336\n",
      "Processing i =  150  out of  336\n",
      "Processing i =  151  out of  336\n",
      "Processing i =  152  out of  336\n",
      "Processing i =  153  out of  336\n",
      "Processing i =  154  out of  336\n",
      "Processing i =  155  out of  336\n",
      "Processing i =  156  out of  336\n",
      "Processing i =  157  out of  336\n",
      "Processing i =  158  out of  336\n",
      "Processing i =  159  out of  336\n",
      "Processing i =  160  out of  336\n",
      "Processing i =  161  out of  336\n",
      "Processing i =  162  out of  336\n",
      "Processing i =  163  out of  336\n",
      "Processing i =  164  out of  336\n",
      "Processing i =  165  out of  336\n",
      "Processing i =  166  out of  336\n",
      "Processing i =  167  out of  336\n",
      "Processing i =  168  out of  336\n",
      "Processing i =  169  out of  336\n",
      "Processing i =  170  out of  336\n",
      "Processing i =  171  out of  336\n",
      "Processing i =  172  out of  336\n",
      "Processing i =  173  out of  336\n",
      "Processing i =  174  out of  336\n",
      "Processing i =  175  out of  336\n",
      "Processing i =  176  out of  336\n",
      "Processing i =  177  out of  336\n",
      "Processing i =  178  out of  336\n",
      "Processing i =  179  out of  336\n",
      "Processing i =  180  out of  336\n",
      "Processing i =  181  out of  336\n",
      "Processing i =  182  out of  336\n",
      "Processing i =  183  out of  336\n",
      "Processing i =  184  out of  336\n",
      "Processing i =  185  out of  336\n",
      "Processing i =  186  out of  336\n",
      "Processing i =  187  out of  336\n",
      "Processing i =  188  out of  336\n",
      "Processing i =  189  out of  336\n",
      "Processing i =  190  out of  336\n",
      "Processing i =  191  out of  336\n",
      "Processing i =  192  out of  336\n",
      "Processing i =  193  out of  336\n",
      "Processing i =  194  out of  336\n",
      "Processing i =  195  out of  336\n",
      "Processing i =  196  out of  336\n",
      "Processing i =  197  out of  336\n",
      "Processing i =  198  out of  336\n",
      "Processing i =  199  out of  336\n",
      "Processing i =  200  out of  336\n",
      "Processing i =  201  out of  336\n",
      "Processing i =  202  out of  336\n",
      "Processing i =  203  out of  336\n",
      "Processing i =  204  out of  336\n",
      "Processing i =  205  out of  336\n",
      "Processing i =  206  out of  336\n",
      "Processing i =  207  out of  336\n",
      "Processing i =  208  out of  336\n",
      "Processing i =  209  out of  336\n",
      "Processing i =  210  out of  336\n",
      "Processing i =  211  out of  336\n",
      "Processing i =  212  out of  336\n",
      "Processing i =  213  out of  336\n",
      "Processing i =  214  out of  336\n",
      "Processing i =  215  out of  336\n",
      "Processing i =  216  out of  336\n",
      "Processing i =  217  out of  336\n",
      "Processing i =  218  out of  336\n",
      "Processing i =  219  out of  336\n",
      "Processing i =  220  out of  336\n",
      "Processing i =  221  out of  336\n",
      "Processing i =  222  out of  336\n",
      "Processing i =  223  out of  336\n",
      "Processing i =  224  out of  336\n",
      "Processing i =  225  out of  336\n",
      "Processing i =  226  out of  336\n",
      "Processing i =  227  out of  336\n",
      "Processing i =  228  out of  336\n",
      "Processing i =  229  out of  336\n",
      "Processing i =  230  out of  336\n",
      "Processing i =  231  out of  336\n",
      "Processing i =  232  out of  336\n",
      "Processing i =  233  out of  336\n",
      "Processing i =  234  out of  336\n",
      "Processing i =  235  out of  336\n",
      "Processing i =  236  out of  336\n",
      "Processing i =  237  out of  336\n",
      "Processing i =  238  out of  336\n",
      "Processing i =  239  out of  336\n",
      "Processing i =  240  out of  336\n",
      "Processing i =  241  out of  336\n",
      "Processing i =  242  out of  336\n",
      "Processing i =  243  out of  336\n",
      "Processing i =  244  out of  336\n",
      "Processing i =  245  out of  336\n",
      "Processing i =  246  out of  336\n",
      "Processing i =  247  out of  336\n",
      "Processing i =  248  out of  336\n",
      "Processing i =  249  out of  336\n",
      "Processing i =  250  out of  336\n",
      "Processing i =  251  out of  336\n",
      "Processing i =  252  out of  336\n",
      "Processing i =  253  out of  336\n",
      "Processing i =  254  out of  336\n",
      "Processing i =  255  out of  336\n",
      "Processing i =  256  out of  336\n",
      "Processing i =  257  out of  336\n",
      "Processing i =  258  out of  336\n",
      "Processing i =  259  out of  336\n",
      "Processing i =  260  out of  336\n",
      "Processing i =  261  out of  336\n",
      "Processing i =  262  out of  336\n",
      "Processing i =  263  out of  336\n",
      "Processing i =  264  out of  336\n",
      "Processing i =  265  out of  336\n",
      "Processing i =  266  out of  336\n",
      "Processing i =  267  out of  336\n",
      "Processing i =  268  out of  336\n",
      "Processing i =  269  out of  336\n",
      "Processing i =  270  out of  336\n",
      "Processing i =  271  out of  336\n",
      "Processing i =  272  out of  336\n",
      "Processing i =  273  out of  336\n",
      "Processing i =  274  out of  336\n",
      "Processing i =  275  out of  336\n",
      "Processing i =  276  out of  336\n",
      "Processing i =  277  out of  336\n",
      "Processing i =  278  out of  336\n",
      "Processing i =  279  out of  336\n",
      "Processing i =  280  out of  336\n",
      "Processing i =  281  out of  336\n",
      "Processing i =  282  out of  336\n",
      "Processing i =  283  out of  336\n",
      "Processing i =  284  out of  336\n",
      "Processing i =  285  out of  336\n",
      "Processing i =  286  out of  336\n",
      "Processing i =  287  out of  336\n",
      "Processing i =  288  out of  336\n",
      "Processing i =  289  out of  336\n",
      "Processing i =  290  out of  336\n",
      "Processing i =  291  out of  336\n",
      "Processing i =  292  out of  336\n",
      "Processing i =  293  out of  336\n",
      "Processing i =  294  out of  336\n",
      "Processing i =  295  out of  336\n",
      "Processing i =  296  out of  336\n",
      "Processing i =  297  out of  336\n",
      "Processing i =  298  out of  336\n",
      "Processing i =  299  out of  336\n",
      "Processing i =  300  out of  336\n",
      "Processing i =  301  out of  336\n",
      "Processing i =  302  out of  336\n",
      "Processing i =  303  out of  336\n",
      "Processing i =  304  out of  336\n",
      "Processing i =  305  out of  336\n",
      "Processing i =  306  out of  336\n",
      "Processing i =  307  out of  336\n",
      "Processing i =  308  out of  336\n",
      "Processing i =  309  out of  336\n",
      "Processing i =  310  out of  336\n",
      "Processing i =  311  out of  336\n",
      "Processing i =  312  out of  336\n",
      "Processing i =  313  out of  336\n",
      "Processing i =  314  out of  336\n",
      "Processing i =  315  out of  336\n",
      "Processing i =  316  out of  336\n",
      "Processing i =  317  out of  336\n",
      "Processing i =  318  out of  336\n",
      "Processing i =  319  out of  336\n",
      "Processing i =  320  out of  336\n",
      "Processing i =  321  out of  336\n",
      "Processing i =  322  out of  336\n",
      "Processing i =  323  out of  336\n",
      "Processing i =  324  out of  336\n",
      "Processing i =  325  out of  336\n",
      "Processing i =  326  out of  336\n",
      "Processing i =  327  out of  336\n",
      "Processing i =  328  out of  336\n",
      "Processing i =  329  out of  336\n",
      "Processing i =  330  out of  336\n",
      "Processing i =  331  out of  336\n",
      "Processing i =  332  out of  336\n",
      "Processing i =  333  out of  336\n",
      "Processing i =  334  out of  336\n",
      "Processing i =  335  out of  336\n",
      "Processing i =  336  out of  336\n",
      "\n",
      "Processing CV 10 / 10....\n",
      "Test set is before train set / CV 10, no test forecast can be made\n",
      "\n",
      "Running m5_sarima with hyperparameter hp1 on ds0_test.csv for forecast horizon 30\n",
      "Pass Test 1 - Forecast horizon is >= dataset frequency\n",
      "Pass Test 2 - Hyperparameter choice is possible given the forecast horizon\n",
      "Processing CV 1 / 10....\n",
      "Processing i =  1  out of  336\n",
      "Processing i =  2  out of  336\n",
      "Processing i =  3  out of  336\n",
      "Processing i =  4  out of  336\n",
      "Processing i =  5  out of  336\n",
      "Processing i =  6  out of  336\n",
      "Processing i =  7  out of  336\n",
      "Processing i =  8  out of  336\n",
      "Processing i =  9  out of  336\n",
      "Processing i =  10  out of  336\n",
      "Processing i =  11  out of  336\n",
      "Processing i =  12  out of  336\n",
      "Processing i =  13  out of  336\n",
      "Processing i =  14  out of  336\n",
      "Processing i =  15  out of  336\n",
      "Processing i =  16  out of  336\n",
      "Processing i =  17  out of  336\n",
      "Processing i =  18  out of  336\n",
      "Processing i =  19  out of  336\n",
      "Processing i =  20  out of  336\n",
      "Processing i =  21  out of  336\n",
      "Processing i =  22  out of  336\n",
      "Processing i =  23  out of  336\n",
      "Processing i =  24  out of  336\n",
      "Processing i =  25  out of  336\n",
      "Processing i =  26  out of  336\n",
      "Processing i =  27  out of  336\n",
      "Processing i =  28  out of  336\n",
      "Processing i =  29  out of  336\n",
      "Processing i =  30  out of  336\n",
      "Processing i =  31  out of  336\n",
      "Processing i =  32  out of  336\n",
      "Processing i =  33  out of  336\n",
      "Processing i =  34  out of  336\n",
      "Processing i =  35  out of  336\n",
      "Processing i =  36  out of  336\n",
      "Processing i =  37  out of  336\n",
      "Processing i =  38  out of  336\n",
      "Processing i =  39  out of  336\n",
      "Processing i =  40  out of  336\n",
      "Processing i =  41  out of  336\n",
      "Processing i =  42  out of  336\n",
      "Processing i =  43  out of  336\n",
      "Processing i =  44  out of  336\n",
      "Processing i =  45  out of  336\n",
      "Processing i =  46  out of  336\n",
      "Processing i =  47  out of  336\n",
      "Processing i =  48  out of  336\n",
      "Processing i =  49  out of  336\n",
      "Processing i =  50  out of  336\n",
      "Processing i =  51  out of  336\n",
      "Processing i =  52  out of  336\n",
      "Processing i =  53  out of  336\n",
      "Processing i =  54  out of  336\n",
      "Processing i =  55  out of  336\n",
      "Processing i =  56  out of  336\n",
      "Processing i =  57  out of  336\n",
      "Processing i =  58  out of  336\n",
      "Processing i =  59  out of  336\n",
      "Processing i =  60  out of  336\n",
      "Processing i =  61  out of  336\n",
      "Processing i =  62  out of  336\n",
      "Processing i =  63  out of  336\n",
      "Processing i =  64  out of  336\n",
      "Processing i =  65  out of  336\n",
      "Processing i =  66  out of  336\n",
      "Processing i =  67  out of  336\n",
      "Processing i =  68  out of  336\n",
      "Processing i =  69  out of  336\n",
      "Processing i =  70  out of  336\n",
      "Processing i =  71  out of  336\n",
      "Processing i =  72  out of  336\n",
      "Processing i =  73  out of  336\n",
      "Processing i =  74  out of  336\n",
      "Processing i =  75  out of  336\n",
      "Processing i =  76  out of  336\n",
      "Processing i =  77  out of  336\n",
      "Processing i =  78  out of  336\n",
      "Processing i =  79  out of  336\n",
      "Processing i =  80  out of  336\n",
      "Processing i =  81  out of  336\n",
      "Processing i =  82  out of  336\n",
      "Processing i =  83  out of  336\n",
      "Processing i =  84  out of  336\n",
      "Processing i =  85  out of  336\n",
      "Processing i =  86  out of  336\n",
      "Processing i =  87  out of  336\n",
      "Processing i =  88  out of  336\n",
      "Processing i =  89  out of  336\n",
      "Processing i =  90  out of  336\n",
      "Processing i =  91  out of  336\n",
      "Processing i =  92  out of  336\n",
      "Processing i =  93  out of  336\n",
      "Processing i =  94  out of  336\n",
      "Processing i =  95  out of  336\n",
      "Processing i =  96  out of  336\n",
      "Processing i =  97  out of  336\n",
      "Processing i =  98  out of  336\n",
      "Processing i =  99  out of  336\n",
      "Processing i =  100  out of  336\n",
      "Processing i =  101  out of  336\n",
      "Processing i =  102  out of  336\n",
      "Processing i =  103  out of  336\n",
      "Processing i =  104  out of  336\n",
      "Processing i =  105  out of  336\n",
      "Processing i =  106  out of  336\n",
      "Processing i =  107  out of  336\n",
      "Processing i =  108  out of  336\n",
      "Processing i =  109  out of  336\n",
      "Processing i =  110  out of  336\n",
      "Processing i =  111  out of  336\n",
      "Processing i =  112  out of  336\n",
      "Processing i =  113  out of  336\n",
      "Processing i =  114  out of  336\n",
      "Processing i =  115  out of  336\n",
      "Processing i =  116  out of  336\n",
      "Processing i =  117  out of  336\n",
      "Processing i =  118  out of  336\n",
      "Processing i =  119  out of  336\n",
      "Processing i =  120  out of  336\n",
      "Processing i =  121  out of  336\n",
      "Processing i =  122  out of  336\n",
      "Processing i =  123  out of  336\n",
      "Processing i =  124  out of  336\n",
      "Processing i =  125  out of  336\n",
      "Processing i =  126  out of  336\n",
      "Processing i =  127  out of  336\n",
      "Processing i =  128  out of  336\n",
      "Processing i =  129  out of  336\n",
      "Processing i =  130  out of  336\n",
      "Processing i =  131  out of  336\n",
      "Processing i =  132  out of  336\n",
      "Processing i =  133  out of  336\n",
      "Processing i =  134  out of  336\n",
      "Processing i =  135  out of  336\n",
      "Processing i =  136  out of  336\n",
      "Processing i =  137  out of  336\n",
      "Processing i =  138  out of  336\n",
      "Processing i =  139  out of  336\n",
      "Processing i =  140  out of  336\n",
      "Processing i =  141  out of  336\n",
      "Processing i =  142  out of  336\n",
      "Processing i =  143  out of  336\n",
      "Processing i =  144  out of  336\n",
      "Processing i =  145  out of  336\n",
      "Processing i =  146  out of  336\n",
      "Processing i =  147  out of  336\n",
      "Processing i =  148  out of  336\n",
      "Processing i =  149  out of  336\n",
      "Processing i =  150  out of  336\n",
      "Processing i =  151  out of  336\n",
      "Processing i =  152  out of  336\n",
      "Processing i =  153  out of  336\n",
      "Processing i =  154  out of  336\n",
      "Processing i =  155  out of  336\n",
      "Processing i =  156  out of  336\n",
      "Processing i =  157  out of  336\n",
      "Processing i =  158  out of  336\n",
      "Processing i =  159  out of  336\n",
      "Processing i =  160  out of  336\n",
      "Processing i =  161  out of  336\n",
      "Processing i =  162  out of  336\n",
      "Processing i =  163  out of  336\n",
      "Processing i =  164  out of  336\n",
      "Processing i =  165  out of  336\n",
      "Processing i =  166  out of  336\n",
      "Processing i =  167  out of  336\n",
      "Processing i =  168  out of  336\n",
      "Processing i =  169  out of  336\n",
      "Processing i =  170  out of  336\n",
      "Processing i =  171  out of  336\n",
      "Processing i =  172  out of  336\n",
      "Processing i =  173  out of  336\n",
      "Processing i =  174  out of  336\n",
      "Processing i =  175  out of  336\n",
      "Processing i =  176  out of  336\n",
      "Processing i =  177  out of  336\n",
      "Processing i =  178  out of  336\n",
      "Processing i =  179  out of  336\n",
      "Processing i =  180  out of  336\n",
      "Processing i =  181  out of  336\n",
      "Processing i =  182  out of  336\n",
      "Processing i =  183  out of  336\n",
      "Processing i =  184  out of  336\n",
      "Processing i =  185  out of  336\n",
      "Processing i =  186  out of  336\n",
      "Processing i =  187  out of  336\n",
      "Processing i =  188  out of  336\n",
      "Processing i =  189  out of  336\n",
      "Processing i =  190  out of  336\n",
      "Processing i =  191  out of  336\n",
      "Processing i =  192  out of  336\n",
      "Processing i =  193  out of  336\n",
      "Processing i =  194  out of  336\n",
      "Processing i =  195  out of  336\n",
      "Processing i =  196  out of  336\n",
      "Processing i =  197  out of  336\n",
      "Processing i =  198  out of  336\n",
      "Processing i =  199  out of  336\n",
      "Processing i =  200  out of  336\n",
      "Processing i =  201  out of  336\n",
      "Processing i =  202  out of  336\n",
      "Processing i =  203  out of  336\n",
      "Processing i =  204  out of  336\n",
      "Processing i =  205  out of  336\n",
      "Processing i =  206  out of  336\n",
      "Processing i =  207  out of  336\n",
      "Processing i =  208  out of  336\n",
      "Processing i =  209  out of  336\n",
      "Processing i =  210  out of  336\n",
      "Processing i =  211  out of  336\n",
      "Processing i =  212  out of  336\n",
      "Processing i =  213  out of  336\n",
      "Processing i =  214  out of  336\n",
      "Processing i =  215  out of  336\n",
      "Processing i =  216  out of  336\n",
      "Processing i =  217  out of  336\n",
      "Processing i =  218  out of  336\n",
      "Processing i =  219  out of  336\n",
      "Processing i =  220  out of  336\n",
      "Processing i =  221  out of  336\n",
      "Processing i =  222  out of  336\n",
      "Processing i =  223  out of  336\n",
      "Processing i =  224  out of  336\n",
      "Processing i =  225  out of  336\n",
      "Processing i =  226  out of  336\n",
      "Processing i =  227  out of  336\n",
      "Processing i =  228  out of  336\n",
      "Processing i =  229  out of  336\n",
      "Processing i =  230  out of  336\n",
      "Processing i =  231  out of  336\n",
      "Processing i =  232  out of  336\n",
      "Processing i =  233  out of  336\n",
      "Processing i =  234  out of  336\n",
      "Processing i =  235  out of  336\n",
      "Processing i =  236  out of  336\n",
      "Processing i =  237  out of  336\n",
      "Processing i =  238  out of  336\n",
      "Processing i =  239  out of  336\n",
      "Processing i =  240  out of  336\n",
      "Processing i =  241  out of  336\n",
      "Processing i =  242  out of  336\n",
      "Processing i =  243  out of  336\n",
      "Processing i =  244  out of  336\n",
      "Processing i =  245  out of  336\n",
      "Processing i =  246  out of  336\n",
      "Processing i =  247  out of  336\n",
      "Processing i =  248  out of  336\n",
      "Processing i =  249  out of  336\n",
      "Processing i =  250  out of  336\n",
      "Processing i =  251  out of  336\n",
      "Processing i =  252  out of  336\n",
      "Processing i =  253  out of  336\n",
      "Processing i =  254  out of  336\n",
      "Processing i =  255  out of  336\n",
      "Processing i =  256  out of  336\n",
      "Processing i =  257  out of  336\n",
      "Processing i =  258  out of  336\n",
      "Processing i =  259  out of  336\n",
      "Processing i =  260  out of  336\n",
      "Processing i =  261  out of  336\n",
      "Processing i =  262  out of  336\n",
      "Processing i =  263  out of  336\n",
      "Processing i =  264  out of  336\n",
      "Processing i =  265  out of  336\n",
      "Processing i =  266  out of  336\n",
      "Processing i =  267  out of  336\n",
      "Processing i =  268  out of  336\n",
      "Processing i =  269  out of  336\n",
      "Processing i =  270  out of  336\n",
      "Processing i =  271  out of  336\n",
      "Processing i =  272  out of  336\n",
      "Processing i =  273  out of  336\n",
      "Processing i =  274  out of  336\n",
      "Processing i =  275  out of  336\n",
      "Processing i =  276  out of  336\n",
      "Processing i =  277  out of  336\n",
      "Processing i =  278  out of  336\n",
      "Processing i =  279  out of  336\n",
      "Processing i =  280  out of  336\n",
      "Processing i =  281  out of  336\n",
      "Processing i =  282  out of  336\n",
      "Processing i =  283  out of  336\n",
      "Processing i =  284  out of  336\n",
      "Processing i =  285  out of  336\n",
      "Processing i =  286  out of  336\n",
      "Processing i =  287  out of  336\n",
      "Processing i =  288  out of  336\n",
      "Processing i =  289  out of  336\n",
      "Processing i =  290  out of  336\n",
      "Processing i =  291  out of  336\n",
      "Processing i =  292  out of  336\n",
      "Processing i =  293  out of  336\n",
      "Processing i =  294  out of  336\n",
      "Processing i =  295  out of  336\n",
      "Processing i =  296  out of  336\n",
      "Processing i =  297  out of  336\n",
      "Processing i =  298  out of  336\n",
      "Processing i =  299  out of  336\n",
      "Processing i =  300  out of  336\n",
      "Processing i =  301  out of  336\n",
      "Processing i =  302  out of  336\n",
      "Processing i =  303  out of  336\n",
      "Processing i =  304  out of  336\n",
      "Processing i =  305  out of  336\n",
      "Processing i =  306  out of  336\n",
      "Processing i =  307  out of  336\n",
      "Processing i =  308  out of  336\n",
      "Processing i =  309  out of  336\n",
      "Processing i =  310  out of  336\n",
      "Processing i =  311  out of  336\n",
      "Processing i =  312  out of  336\n",
      "Processing i =  313  out of  336\n",
      "Processing i =  314  out of  336\n",
      "Processing i =  315  out of  336\n",
      "Processing i =  316  out of  336\n",
      "Processing i =  317  out of  336\n",
      "Processing i =  318  out of  336\n",
      "Processing i =  319  out of  336\n",
      "Processing i =  320  out of  336\n",
      "Processing i =  321  out of  336\n",
      "Processing i =  322  out of  336\n",
      "Processing i =  323  out of  336\n",
      "Processing i =  324  out of  336\n",
      "Processing i =  325  out of  336\n",
      "Processing i =  326  out of  336\n",
      "Processing i =  327  out of  336\n",
      "Processing i =  328  out of  336\n",
      "Processing i =  329  out of  336\n",
      "Processing i =  330  out of  336\n",
      "Processing i =  331  out of  336\n",
      "Processing i =  332  out of  336\n",
      "Processing i =  333  out of  336\n",
      "Processing i =  334  out of  336\n",
      "Processing i =  335  out of  336\n",
      "Processing i =  336  out of  336\n",
      "\n",
      "Processing CV 2 / 10....\n",
      "Processing i =  1  out of  336\n",
      "Processing i =  2  out of  336\n",
      "Processing i =  3  out of  336\n",
      "Processing i =  4  out of  336\n",
      "Processing i =  5  out of  336\n",
      "Processing i =  6  out of  336\n",
      "Processing i =  7  out of  336\n",
      "Processing i =  8  out of  336\n",
      "Processing i =  9  out of  336\n",
      "Processing i =  10  out of  336\n",
      "Processing i =  11  out of  336\n",
      "Processing i =  12  out of  336\n",
      "Processing i =  13  out of  336\n",
      "Processing i =  14  out of  336\n",
      "Processing i =  15  out of  336\n",
      "Processing i =  16  out of  336\n",
      "Processing i =  17  out of  336\n",
      "Processing i =  18  out of  336\n",
      "Processing i =  19  out of  336\n",
      "Processing i =  20  out of  336\n",
      "Processing i =  21  out of  336\n",
      "Processing i =  22  out of  336\n",
      "Processing i =  23  out of  336\n",
      "Processing i =  24  out of  336\n",
      "Processing i =  25  out of  336\n",
      "Processing i =  26  out of  336\n",
      "Processing i =  27  out of  336\n",
      "Processing i =  28  out of  336\n",
      "Processing i =  29  out of  336\n",
      "Processing i =  30  out of  336\n",
      "Processing i =  31  out of  336\n",
      "Processing i =  32  out of  336\n",
      "Processing i =  33  out of  336\n",
      "Processing i =  34  out of  336\n",
      "Processing i =  35  out of  336\n",
      "Processing i =  36  out of  336\n",
      "Processing i =  37  out of  336\n",
      "Processing i =  38  out of  336\n",
      "Processing i =  39  out of  336\n",
      "Processing i =  40  out of  336\n",
      "Processing i =  41  out of  336\n",
      "Processing i =  42  out of  336\n",
      "Processing i =  43  out of  336\n",
      "Processing i =  44  out of  336\n",
      "Processing i =  45  out of  336\n",
      "Processing i =  46  out of  336\n",
      "Processing i =  47  out of  336\n",
      "Processing i =  48  out of  336\n",
      "Processing i =  49  out of  336\n",
      "Processing i =  50  out of  336\n",
      "Processing i =  51  out of  336\n",
      "Processing i =  52  out of  336\n",
      "Processing i =  53  out of  336\n",
      "Processing i =  54  out of  336\n",
      "Processing i =  55  out of  336\n",
      "Processing i =  56  out of  336\n",
      "Processing i =  57  out of  336\n",
      "Processing i =  58  out of  336\n",
      "Processing i =  59  out of  336\n",
      "Processing i =  60  out of  336\n",
      "Processing i =  61  out of  336\n",
      "Processing i =  62  out of  336\n",
      "Processing i =  63  out of  336\n",
      "Processing i =  64  out of  336\n",
      "Processing i =  65  out of  336\n",
      "Processing i =  66  out of  336\n",
      "Processing i =  67  out of  336\n",
      "Processing i =  68  out of  336\n",
      "Processing i =  69  out of  336\n",
      "Processing i =  70  out of  336\n",
      "Processing i =  71  out of  336\n",
      "Processing i =  72  out of  336\n",
      "Processing i =  73  out of  336\n",
      "Processing i =  74  out of  336\n",
      "Processing i =  75  out of  336\n",
      "Processing i =  76  out of  336\n",
      "Processing i =  77  out of  336\n",
      "Processing i =  78  out of  336\n",
      "Processing i =  79  out of  336\n",
      "Processing i =  80  out of  336\n",
      "Processing i =  81  out of  336\n",
      "Processing i =  82  out of  336\n",
      "Processing i =  83  out of  336\n",
      "Processing i =  84  out of  336\n",
      "Processing i =  85  out of  336\n",
      "Processing i =  86  out of  336\n",
      "Processing i =  87  out of  336\n",
      "Processing i =  88  out of  336\n",
      "Processing i =  89  out of  336\n",
      "Processing i =  90  out of  336\n",
      "Processing i =  91  out of  336\n",
      "Processing i =  92  out of  336\n",
      "Processing i =  93  out of  336\n",
      "Processing i =  94  out of  336\n",
      "Processing i =  95  out of  336\n",
      "Processing i =  96  out of  336\n",
      "Processing i =  97  out of  336\n",
      "Processing i =  98  out of  336\n",
      "Processing i =  99  out of  336\n",
      "Processing i =  100  out of  336\n",
      "Processing i =  101  out of  336\n",
      "Processing i =  102  out of  336\n",
      "Processing i =  103  out of  336\n",
      "Processing i =  104  out of  336\n",
      "Processing i =  105  out of  336\n",
      "Processing i =  106  out of  336\n",
      "Processing i =  107  out of  336\n",
      "Processing i =  108  out of  336\n",
      "Processing i =  109  out of  336\n",
      "Processing i =  110  out of  336\n",
      "Processing i =  111  out of  336\n",
      "Processing i =  112  out of  336\n",
      "Processing i =  113  out of  336\n",
      "Processing i =  114  out of  336\n",
      "Processing i =  115  out of  336\n",
      "Processing i =  116  out of  336\n",
      "Processing i =  117  out of  336\n",
      "Processing i =  118  out of  336\n",
      "Processing i =  119  out of  336\n",
      "Processing i =  120  out of  336\n",
      "Processing i =  121  out of  336\n",
      "Processing i =  122  out of  336\n",
      "Processing i =  123  out of  336\n",
      "Processing i =  124  out of  336\n",
      "Processing i =  125  out of  336\n",
      "Processing i =  126  out of  336\n",
      "Processing i =  127  out of  336\n",
      "Processing i =  128  out of  336\n",
      "Processing i =  129  out of  336\n",
      "Processing i =  130  out of  336\n",
      "Processing i =  131  out of  336\n",
      "Processing i =  132  out of  336\n",
      "Processing i =  133  out of  336\n",
      "Processing i =  134  out of  336\n",
      "Processing i =  135  out of  336\n",
      "Processing i =  136  out of  336\n",
      "Processing i =  137  out of  336\n",
      "Processing i =  138  out of  336\n",
      "Processing i =  139  out of  336\n",
      "Processing i =  140  out of  336\n",
      "Processing i =  141  out of  336\n",
      "Processing i =  142  out of  336\n",
      "Processing i =  143  out of  336\n",
      "Processing i =  144  out of  336\n",
      "Processing i =  145  out of  336\n",
      "Processing i =  146  out of  336\n",
      "Processing i =  147  out of  336\n",
      "Processing i =  148  out of  336\n",
      "Processing i =  149  out of  336\n",
      "Processing i =  150  out of  336\n",
      "Processing i =  151  out of  336\n",
      "Processing i =  152  out of  336\n",
      "Processing i =  153  out of  336\n",
      "Processing i =  154  out of  336\n",
      "Processing i =  155  out of  336\n",
      "Processing i =  156  out of  336\n",
      "Processing i =  157  out of  336\n",
      "Processing i =  158  out of  336\n",
      "Processing i =  159  out of  336\n",
      "Processing i =  160  out of  336\n",
      "Processing i =  161  out of  336\n",
      "Processing i =  162  out of  336\n",
      "Processing i =  163  out of  336\n",
      "Processing i =  164  out of  336\n",
      "Processing i =  165  out of  336\n",
      "Processing i =  166  out of  336\n",
      "Processing i =  167  out of  336\n",
      "Processing i =  168  out of  336\n",
      "Processing i =  169  out of  336\n",
      "Processing i =  170  out of  336\n",
      "Processing i =  171  out of  336\n",
      "Processing i =  172  out of  336\n",
      "Processing i =  173  out of  336\n",
      "Processing i =  174  out of  336\n",
      "Processing i =  175  out of  336\n",
      "Processing i =  176  out of  336\n",
      "Processing i =  177  out of  336\n",
      "Processing i =  178  out of  336\n",
      "Processing i =  179  out of  336\n",
      "Processing i =  180  out of  336\n",
      "Processing i =  181  out of  336\n",
      "Processing i =  182  out of  336\n",
      "Processing i =  183  out of  336\n",
      "Processing i =  184  out of  336\n",
      "Processing i =  185  out of  336\n",
      "Processing i =  186  out of  336\n",
      "Processing i =  187  out of  336\n",
      "Processing i =  188  out of  336\n",
      "Processing i =  189  out of  336\n",
      "Processing i =  190  out of  336\n",
      "Processing i =  191  out of  336\n",
      "Processing i =  192  out of  336\n",
      "Processing i =  193  out of  336\n",
      "Processing i =  194  out of  336\n",
      "Processing i =  195  out of  336\n",
      "Processing i =  196  out of  336\n",
      "Processing i =  197  out of  336\n",
      "Processing i =  198  out of  336\n",
      "Processing i =  199  out of  336\n",
      "Processing i =  200  out of  336\n",
      "Processing i =  201  out of  336\n",
      "Processing i =  202  out of  336\n",
      "Processing i =  203  out of  336\n",
      "Processing i =  204  out of  336\n",
      "Processing i =  205  out of  336\n",
      "Processing i =  206  out of  336\n",
      "Processing i =  207  out of  336\n",
      "Processing i =  208  out of  336\n",
      "Processing i =  209  out of  336\n",
      "Processing i =  210  out of  336\n",
      "Processing i =  211  out of  336\n",
      "Processing i =  212  out of  336\n",
      "Processing i =  213  out of  336\n",
      "Processing i =  214  out of  336\n",
      "Processing i =  215  out of  336\n",
      "Processing i =  216  out of  336\n",
      "Processing i =  217  out of  336\n",
      "Processing i =  218  out of  336\n",
      "Processing i =  219  out of  336\n",
      "Processing i =  220  out of  336\n",
      "Processing i =  221  out of  336\n",
      "Processing i =  222  out of  336\n",
      "Processing i =  223  out of  336\n",
      "Processing i =  224  out of  336\n",
      "Processing i =  225  out of  336\n",
      "Processing i =  226  out of  336\n",
      "Processing i =  227  out of  336\n",
      "Processing i =  228  out of  336\n",
      "Processing i =  229  out of  336\n",
      "Processing i =  230  out of  336\n",
      "Processing i =  231  out of  336\n",
      "Processing i =  232  out of  336\n",
      "Processing i =  233  out of  336\n",
      "Processing i =  234  out of  336\n",
      "Processing i =  235  out of  336\n",
      "Processing i =  236  out of  336\n",
      "Processing i =  237  out of  336\n",
      "Processing i =  238  out of  336\n",
      "Processing i =  239  out of  336\n",
      "Processing i =  240  out of  336\n",
      "Processing i =  241  out of  336\n",
      "Processing i =  242  out of  336\n",
      "Processing i =  243  out of  336\n",
      "Processing i =  244  out of  336\n",
      "Processing i =  245  out of  336\n",
      "Processing i =  246  out of  336\n",
      "Processing i =  247  out of  336\n",
      "Processing i =  248  out of  336\n",
      "Processing i =  249  out of  336\n",
      "Processing i =  250  out of  336\n",
      "Processing i =  251  out of  336\n",
      "Processing i =  252  out of  336\n",
      "Processing i =  253  out of  336\n",
      "Processing i =  254  out of  336\n",
      "Processing i =  255  out of  336\n",
      "Processing i =  256  out of  336\n",
      "Processing i =  257  out of  336\n",
      "Processing i =  258  out of  336\n",
      "Processing i =  259  out of  336\n",
      "Processing i =  260  out of  336\n",
      "Processing i =  261  out of  336\n",
      "Processing i =  262  out of  336\n",
      "Processing i =  263  out of  336\n",
      "Processing i =  264  out of  336\n",
      "Processing i =  265  out of  336\n",
      "Processing i =  266  out of  336\n",
      "Processing i =  267  out of  336\n",
      "Processing i =  268  out of  336\n",
      "Processing i =  269  out of  336\n",
      "Processing i =  270  out of  336\n",
      "Processing i =  271  out of  336\n",
      "Processing i =  272  out of  336\n",
      "Processing i =  273  out of  336\n",
      "Processing i =  274  out of  336\n",
      "Processing i =  275  out of  336\n",
      "Processing i =  276  out of  336\n",
      "Processing i =  277  out of  336\n",
      "Processing i =  278  out of  336\n",
      "Processing i =  279  out of  336\n",
      "Processing i =  280  out of  336\n",
      "Processing i =  281  out of  336\n",
      "Processing i =  282  out of  336\n",
      "Processing i =  283  out of  336\n",
      "Processing i =  284  out of  336\n",
      "Processing i =  285  out of  336\n",
      "Processing i =  286  out of  336\n",
      "Processing i =  287  out of  336\n",
      "Processing i =  288  out of  336\n",
      "Processing i =  289  out of  336\n",
      "Processing i =  290  out of  336\n",
      "Processing i =  291  out of  336\n",
      "Processing i =  292  out of  336\n",
      "Processing i =  293  out of  336\n",
      "Processing i =  294  out of  336\n",
      "Processing i =  295  out of  336\n",
      "Processing i =  296  out of  336\n",
      "Processing i =  297  out of  336\n",
      "Processing i =  298  out of  336\n",
      "Processing i =  299  out of  336\n",
      "Processing i =  300  out of  336\n",
      "Processing i =  301  out of  336\n",
      "Processing i =  302  out of  336\n",
      "Processing i =  303  out of  336\n",
      "Processing i =  304  out of  336\n",
      "Processing i =  305  out of  336\n",
      "Processing i =  306  out of  336\n",
      "Processing i =  307  out of  336\n",
      "Processing i =  308  out of  336\n",
      "Processing i =  309  out of  336\n",
      "Processing i =  310  out of  336\n",
      "Processing i =  311  out of  336\n",
      "Processing i =  312  out of  336\n",
      "Processing i =  313  out of  336\n",
      "Processing i =  314  out of  336\n",
      "Processing i =  315  out of  336\n",
      "Processing i =  316  out of  336\n",
      "Processing i =  317  out of  336\n",
      "Processing i =  318  out of  336\n",
      "Processing i =  319  out of  336\n",
      "Processing i =  320  out of  336\n",
      "Processing i =  321  out of  336\n",
      "Processing i =  322  out of  336\n",
      "Processing i =  323  out of  336\n",
      "Processing i =  324  out of  336\n",
      "Processing i =  325  out of  336\n",
      "Processing i =  326  out of  336\n",
      "Processing i =  327  out of  336\n",
      "Processing i =  328  out of  336\n",
      "Processing i =  329  out of  336\n",
      "Processing i =  330  out of  336\n",
      "Processing i =  331  out of  336\n",
      "Processing i =  332  out of  336\n",
      "Processing i =  333  out of  336\n",
      "Processing i =  334  out of  336\n",
      "Processing i =  335  out of  336\n",
      "Processing i =  336  out of  336\n",
      "\n",
      "Processing CV 3 / 10....\n",
      "Processing i =  1  out of  336\n",
      "Processing i =  2  out of  336\n",
      "Processing i =  3  out of  336\n",
      "Processing i =  4  out of  336\n",
      "Processing i =  5  out of  336\n",
      "Processing i =  6  out of  336\n",
      "Processing i =  7  out of  336\n",
      "Processing i =  8  out of  336\n",
      "Processing i =  9  out of  336\n",
      "Processing i =  10  out of  336\n",
      "Processing i =  11  out of  336\n",
      "Processing i =  12  out of  336\n",
      "Processing i =  13  out of  336\n",
      "Processing i =  14  out of  336\n",
      "Processing i =  15  out of  336\n",
      "Processing i =  16  out of  336\n",
      "Processing i =  17  out of  336\n",
      "Processing i =  18  out of  336\n",
      "Processing i =  19  out of  336\n",
      "Processing i =  20  out of  336\n",
      "Processing i =  21  out of  336\n",
      "Processing i =  22  out of  336\n",
      "Processing i =  23  out of  336\n",
      "Processing i =  24  out of  336\n",
      "Processing i =  25  out of  336\n",
      "Processing i =  26  out of  336\n",
      "Processing i =  27  out of  336\n",
      "Processing i =  28  out of  336\n",
      "Processing i =  29  out of  336\n",
      "Processing i =  30  out of  336\n",
      "Processing i =  31  out of  336\n",
      "Processing i =  32  out of  336\n",
      "Processing i =  33  out of  336\n",
      "Processing i =  34  out of  336\n",
      "Processing i =  35  out of  336\n",
      "Processing i =  36  out of  336\n",
      "Processing i =  37  out of  336\n",
      "Processing i =  38  out of  336\n",
      "Processing i =  39  out of  336\n",
      "Processing i =  40  out of  336\n",
      "Processing i =  41  out of  336\n",
      "Processing i =  42  out of  336\n",
      "Processing i =  43  out of  336\n",
      "Processing i =  44  out of  336\n",
      "Processing i =  45  out of  336\n",
      "Processing i =  46  out of  336\n",
      "Processing i =  47  out of  336\n",
      "Processing i =  48  out of  336\n",
      "Processing i =  49  out of  336\n",
      "Processing i =  50  out of  336\n",
      "Processing i =  51  out of  336\n",
      "Processing i =  52  out of  336\n",
      "Processing i =  53  out of  336\n",
      "Processing i =  54  out of  336\n",
      "Processing i =  55  out of  336\n",
      "Processing i =  56  out of  336\n",
      "Processing i =  57  out of  336\n",
      "Processing i =  58  out of  336\n",
      "Processing i =  59  out of  336\n",
      "Processing i =  60  out of  336\n",
      "Processing i =  61  out of  336\n",
      "Processing i =  62  out of  336\n",
      "Processing i =  63  out of  336\n",
      "Processing i =  64  out of  336\n",
      "Processing i =  65  out of  336\n",
      "Processing i =  66  out of  336\n",
      "Processing i =  67  out of  336\n",
      "Processing i =  68  out of  336\n",
      "Processing i =  69  out of  336\n",
      "Processing i =  70  out of  336\n",
      "Processing i =  71  out of  336\n",
      "Processing i =  72  out of  336\n",
      "Processing i =  73  out of  336\n",
      "Processing i =  74  out of  336\n",
      "Processing i =  75  out of  336\n",
      "Processing i =  76  out of  336\n",
      "Processing i =  77  out of  336\n",
      "Processing i =  78  out of  336\n",
      "Processing i =  79  out of  336\n",
      "Processing i =  80  out of  336\n",
      "Processing i =  81  out of  336\n",
      "Processing i =  82  out of  336\n",
      "Processing i =  83  out of  336\n",
      "Processing i =  84  out of  336\n",
      "Processing i =  85  out of  336\n",
      "Processing i =  86  out of  336\n",
      "Processing i =  87  out of  336\n",
      "Processing i =  88  out of  336\n",
      "Processing i =  89  out of  336\n",
      "Processing i =  90  out of  336\n",
      "Processing i =  91  out of  336\n",
      "Processing i =  92  out of  336\n",
      "Processing i =  93  out of  336\n",
      "Processing i =  94  out of  336\n",
      "Processing i =  95  out of  336\n",
      "Processing i =  96  out of  336\n",
      "Processing i =  97  out of  336\n",
      "Processing i =  98  out of  336\n",
      "Processing i =  99  out of  336\n",
      "Processing i =  100  out of  336\n",
      "Processing i =  101  out of  336\n",
      "Processing i =  102  out of  336\n",
      "Processing i =  103  out of  336\n",
      "Processing i =  104  out of  336\n",
      "Processing i =  105  out of  336\n",
      "Processing i =  106  out of  336\n",
      "Processing i =  107  out of  336\n",
      "Processing i =  108  out of  336\n",
      "Processing i =  109  out of  336\n",
      "Processing i =  110  out of  336\n",
      "Processing i =  111  out of  336\n",
      "Processing i =  112  out of  336\n",
      "Processing i =  113  out of  336\n",
      "Processing i =  114  out of  336\n",
      "Processing i =  115  out of  336\n",
      "Processing i =  116  out of  336\n",
      "Processing i =  117  out of  336\n",
      "Processing i =  118  out of  336\n",
      "Processing i =  119  out of  336\n",
      "Processing i =  120  out of  336\n",
      "Processing i =  121  out of  336\n",
      "Processing i =  122  out of  336\n",
      "Processing i =  123  out of  336\n",
      "Processing i =  124  out of  336\n",
      "Processing i =  125  out of  336\n",
      "Processing i =  126  out of  336\n",
      "Processing i =  127  out of  336\n",
      "Processing i =  128  out of  336\n",
      "Processing i =  129  out of  336\n",
      "Processing i =  130  out of  336\n",
      "Processing i =  131  out of  336\n",
      "Processing i =  132  out of  336\n",
      "Processing i =  133  out of  336\n",
      "Processing i =  134  out of  336\n",
      "Processing i =  135  out of  336\n",
      "Processing i =  136  out of  336\n",
      "Processing i =  137  out of  336\n",
      "Processing i =  138  out of  336\n",
      "Processing i =  139  out of  336\n",
      "Processing i =  140  out of  336\n",
      "Processing i =  141  out of  336\n",
      "Processing i =  142  out of  336\n",
      "Processing i =  143  out of  336\n",
      "Processing i =  144  out of  336\n",
      "Processing i =  145  out of  336\n",
      "Processing i =  146  out of  336\n",
      "Processing i =  147  out of  336\n",
      "Processing i =  148  out of  336\n",
      "Processing i =  149  out of  336\n",
      "Processing i =  150  out of  336\n",
      "Processing i =  151  out of  336\n",
      "Processing i =  152  out of  336\n",
      "Processing i =  153  out of  336\n",
      "Processing i =  154  out of  336\n",
      "Processing i =  155  out of  336\n",
      "Processing i =  156  out of  336\n",
      "Processing i =  157  out of  336\n",
      "Processing i =  158  out of  336\n",
      "Processing i =  159  out of  336\n",
      "Processing i =  160  out of  336\n",
      "Processing i =  161  out of  336\n",
      "Processing i =  162  out of  336\n",
      "Processing i =  163  out of  336\n",
      "Processing i =  164  out of  336\n",
      "Processing i =  165  out of  336\n",
      "Processing i =  166  out of  336\n",
      "Processing i =  167  out of  336\n",
      "Processing i =  168  out of  336\n",
      "Processing i =  169  out of  336\n",
      "Processing i =  170  out of  336\n",
      "Processing i =  171  out of  336\n",
      "Processing i =  172  out of  336\n",
      "Processing i =  173  out of  336\n",
      "Processing i =  174  out of  336\n",
      "Processing i =  175  out of  336\n",
      "Processing i =  176  out of  336\n",
      "Processing i =  177  out of  336\n",
      "Processing i =  178  out of  336\n",
      "Processing i =  179  out of  336\n",
      "Processing i =  180  out of  336\n",
      "Processing i =  181  out of  336\n",
      "Processing i =  182  out of  336\n",
      "Processing i =  183  out of  336\n",
      "Processing i =  184  out of  336\n",
      "Processing i =  185  out of  336\n",
      "Processing i =  186  out of  336\n",
      "Processing i =  187  out of  336\n",
      "Processing i =  188  out of  336\n",
      "Processing i =  189  out of  336\n",
      "Processing i =  190  out of  336\n",
      "Processing i =  191  out of  336\n",
      "Processing i =  192  out of  336\n",
      "Processing i =  193  out of  336\n",
      "Processing i =  194  out of  336\n",
      "Processing i =  195  out of  336\n",
      "Processing i =  196  out of  336\n",
      "Processing i =  197  out of  336\n",
      "Processing i =  198  out of  336\n",
      "Processing i =  199  out of  336\n",
      "Processing i =  200  out of  336\n",
      "Processing i =  201  out of  336\n",
      "Processing i =  202  out of  336\n",
      "Processing i =  203  out of  336\n",
      "Processing i =  204  out of  336\n",
      "Processing i =  205  out of  336\n",
      "Processing i =  206  out of  336\n",
      "Processing i =  207  out of  336\n",
      "Processing i =  208  out of  336\n",
      "Processing i =  209  out of  336\n",
      "Processing i =  210  out of  336\n",
      "Processing i =  211  out of  336\n",
      "Processing i =  212  out of  336\n",
      "Processing i =  213  out of  336\n",
      "Processing i =  214  out of  336\n",
      "Processing i =  215  out of  336\n",
      "Processing i =  216  out of  336\n",
      "Processing i =  217  out of  336\n",
      "Processing i =  218  out of  336\n",
      "Processing i =  219  out of  336\n",
      "Processing i =  220  out of  336\n",
      "Processing i =  221  out of  336\n",
      "Processing i =  222  out of  336\n",
      "Processing i =  223  out of  336\n",
      "Processing i =  224  out of  336\n",
      "Processing i =  225  out of  336\n",
      "Processing i =  226  out of  336\n",
      "Processing i =  227  out of  336\n",
      "Processing i =  228  out of  336\n",
      "Processing i =  229  out of  336\n",
      "Processing i =  230  out of  336\n",
      "Processing i =  231  out of  336\n",
      "Processing i =  232  out of  336\n",
      "Processing i =  233  out of  336\n",
      "Processing i =  234  out of  336\n",
      "Processing i =  235  out of  336\n",
      "Processing i =  236  out of  336\n",
      "Processing i =  237  out of  336\n",
      "Processing i =  238  out of  336\n",
      "Processing i =  239  out of  336\n",
      "Processing i =  240  out of  336\n",
      "Processing i =  241  out of  336\n",
      "Processing i =  242  out of  336\n",
      "Processing i =  243  out of  336\n",
      "Processing i =  244  out of  336\n",
      "Processing i =  245  out of  336\n",
      "Processing i =  246  out of  336\n",
      "Processing i =  247  out of  336\n",
      "Processing i =  248  out of  336\n",
      "Processing i =  249  out of  336\n",
      "Processing i =  250  out of  336\n",
      "Processing i =  251  out of  336\n",
      "Processing i =  252  out of  336\n",
      "Processing i =  253  out of  336\n",
      "Processing i =  254  out of  336\n",
      "Processing i =  255  out of  336\n",
      "Processing i =  256  out of  336\n",
      "Processing i =  257  out of  336\n",
      "Processing i =  258  out of  336\n",
      "Processing i =  259  out of  336\n",
      "Processing i =  260  out of  336\n",
      "Processing i =  261  out of  336\n",
      "Processing i =  262  out of  336\n",
      "Processing i =  263  out of  336\n",
      "Processing i =  264  out of  336\n",
      "Processing i =  265  out of  336\n",
      "Processing i =  266  out of  336\n",
      "Processing i =  267  out of  336\n",
      "Processing i =  268  out of  336\n",
      "Processing i =  269  out of  336\n",
      "Processing i =  270  out of  336\n",
      "Processing i =  271  out of  336\n",
      "Processing i =  272  out of  336\n",
      "Processing i =  273  out of  336\n",
      "Processing i =  274  out of  336\n",
      "Processing i =  275  out of  336\n",
      "Processing i =  276  out of  336\n",
      "Processing i =  277  out of  336\n",
      "Processing i =  278  out of  336\n",
      "Processing i =  279  out of  336\n",
      "Processing i =  280  out of  336\n",
      "Processing i =  281  out of  336\n",
      "Processing i =  282  out of  336\n",
      "Processing i =  283  out of  336\n",
      "Processing i =  284  out of  336\n",
      "Processing i =  285  out of  336\n",
      "Processing i =  286  out of  336\n",
      "Processing i =  287  out of  336\n",
      "Processing i =  288  out of  336\n",
      "Processing i =  289  out of  336\n",
      "Processing i =  290  out of  336\n",
      "Processing i =  291  out of  336\n",
      "Processing i =  292  out of  336\n",
      "Processing i =  293  out of  336\n",
      "Processing i =  294  out of  336\n",
      "Processing i =  295  out of  336\n",
      "Processing i =  296  out of  336\n",
      "Processing i =  297  out of  336\n",
      "Processing i =  298  out of  336\n",
      "Processing i =  299  out of  336\n",
      "Processing i =  300  out of  336\n",
      "Processing i =  301  out of  336\n",
      "Processing i =  302  out of  336\n",
      "Processing i =  303  out of  336\n",
      "Processing i =  304  out of  336\n",
      "Processing i =  305  out of  336\n",
      "Processing i =  306  out of  336\n",
      "Processing i =  307  out of  336\n",
      "Processing i =  308  out of  336\n",
      "Processing i =  309  out of  336\n",
      "Processing i =  310  out of  336\n",
      "Processing i =  311  out of  336\n",
      "Processing i =  312  out of  336\n",
      "Processing i =  313  out of  336\n",
      "Processing i =  314  out of  336\n",
      "Processing i =  315  out of  336\n",
      "Processing i =  316  out of  336\n",
      "Processing i =  317  out of  336\n",
      "Processing i =  318  out of  336\n",
      "Processing i =  319  out of  336\n",
      "Processing i =  320  out of  336\n",
      "Processing i =  321  out of  336\n",
      "Processing i =  322  out of  336\n",
      "Processing i =  323  out of  336\n",
      "Processing i =  324  out of  336\n",
      "Processing i =  325  out of  336\n",
      "Processing i =  326  out of  336\n",
      "Processing i =  327  out of  336\n",
      "Processing i =  328  out of  336\n",
      "Processing i =  329  out of  336\n",
      "Processing i =  330  out of  336\n",
      "Processing i =  331  out of  336\n",
      "Processing i =  332  out of  336\n",
      "Processing i =  333  out of  336\n",
      "Processing i =  334  out of  336\n",
      "Processing i =  335  out of  336\n",
      "Processing i =  336  out of  336\n",
      "\n",
      "Processing CV 4 / 10....\n",
      "Processing i =  1  out of  336\n",
      "Processing i =  2  out of  336\n",
      "Processing i =  3  out of  336\n",
      "Processing i =  4  out of  336\n",
      "Processing i =  5  out of  336\n",
      "Processing i =  6  out of  336\n",
      "Processing i =  7  out of  336\n",
      "Processing i =  8  out of  336\n",
      "Processing i =  9  out of  336\n",
      "Processing i =  10  out of  336\n",
      "Processing i =  11  out of  336\n",
      "Processing i =  12  out of  336\n",
      "Processing i =  13  out of  336\n",
      "Processing i =  14  out of  336\n",
      "Processing i =  15  out of  336\n",
      "Processing i =  16  out of  336\n",
      "Processing i =  17  out of  336\n",
      "Processing i =  18  out of  336\n",
      "Processing i =  19  out of  336\n",
      "Processing i =  20  out of  336\n",
      "Processing i =  21  out of  336\n",
      "Processing i =  22  out of  336\n",
      "Processing i =  23  out of  336\n",
      "Processing i =  24  out of  336\n",
      "Processing i =  25  out of  336\n",
      "Processing i =  26  out of  336\n",
      "Processing i =  27  out of  336\n",
      "Processing i =  28  out of  336\n",
      "Processing i =  29  out of  336\n",
      "Processing i =  30  out of  336\n",
      "Processing i =  31  out of  336\n",
      "Processing i =  32  out of  336\n",
      "Processing i =  33  out of  336\n",
      "Processing i =  34  out of  336\n",
      "Processing i =  35  out of  336\n",
      "Processing i =  36  out of  336\n",
      "Processing i =  37  out of  336\n",
      "Processing i =  38  out of  336\n",
      "Processing i =  39  out of  336\n",
      "Processing i =  40  out of  336\n",
      "Processing i =  41  out of  336\n",
      "Processing i =  42  out of  336\n",
      "Processing i =  43  out of  336\n",
      "Processing i =  44  out of  336\n",
      "Processing i =  45  out of  336\n",
      "Processing i =  46  out of  336\n",
      "Processing i =  47  out of  336\n",
      "Processing i =  48  out of  336\n",
      "Processing i =  49  out of  336\n",
      "Processing i =  50  out of  336\n",
      "Processing i =  51  out of  336\n",
      "Processing i =  52  out of  336\n",
      "Processing i =  53  out of  336\n",
      "Processing i =  54  out of  336\n",
      "Processing i =  55  out of  336\n",
      "Processing i =  56  out of  336\n",
      "Processing i =  57  out of  336\n",
      "Processing i =  58  out of  336\n",
      "Processing i =  59  out of  336\n",
      "Processing i =  60  out of  336\n",
      "Processing i =  61  out of  336\n",
      "Processing i =  62  out of  336\n",
      "Processing i =  63  out of  336\n",
      "Processing i =  64  out of  336\n",
      "Processing i =  65  out of  336\n",
      "Processing i =  66  out of  336\n",
      "Processing i =  67  out of  336\n",
      "Processing i =  68  out of  336\n",
      "Processing i =  69  out of  336\n",
      "Processing i =  70  out of  336\n",
      "Processing i =  71  out of  336\n",
      "Processing i =  72  out of  336\n",
      "Processing i =  73  out of  336\n",
      "Processing i =  74  out of  336\n",
      "Processing i =  75  out of  336\n",
      "Processing i =  76  out of  336\n",
      "Processing i =  77  out of  336\n",
      "Processing i =  78  out of  336\n",
      "Processing i =  79  out of  336\n",
      "Processing i =  80  out of  336\n",
      "Processing i =  81  out of  336\n",
      "Processing i =  82  out of  336\n",
      "Processing i =  83  out of  336\n",
      "Processing i =  84  out of  336\n",
      "Processing i =  85  out of  336\n",
      "Processing i =  86  out of  336\n",
      "Processing i =  87  out of  336\n",
      "Processing i =  88  out of  336\n",
      "Processing i =  89  out of  336\n",
      "Processing i =  90  out of  336\n",
      "Processing i =  91  out of  336\n",
      "Processing i =  92  out of  336\n",
      "Processing i =  93  out of  336\n",
      "Processing i =  94  out of  336\n",
      "Processing i =  95  out of  336\n",
      "Processing i =  96  out of  336\n",
      "Processing i =  97  out of  336\n",
      "Processing i =  98  out of  336\n",
      "Processing i =  99  out of  336\n",
      "Processing i =  100  out of  336\n",
      "Processing i =  101  out of  336\n",
      "Processing i =  102  out of  336\n",
      "Processing i =  103  out of  336\n",
      "Processing i =  104  out of  336\n",
      "Processing i =  105  out of  336\n",
      "Processing i =  106  out of  336\n",
      "Processing i =  107  out of  336\n",
      "Processing i =  108  out of  336\n",
      "Processing i =  109  out of  336\n",
      "Processing i =  110  out of  336\n",
      "Processing i =  111  out of  336\n",
      "Processing i =  112  out of  336\n",
      "Processing i =  113  out of  336\n",
      "Processing i =  114  out of  336\n",
      "Processing i =  115  out of  336\n",
      "Processing i =  116  out of  336\n",
      "Processing i =  117  out of  336\n",
      "Processing i =  118  out of  336\n",
      "Processing i =  119  out of  336\n",
      "Processing i =  120  out of  336\n",
      "Processing i =  121  out of  336\n",
      "Processing i =  122  out of  336\n",
      "Processing i =  123  out of  336\n",
      "Processing i =  124  out of  336\n",
      "Processing i =  125  out of  336\n",
      "Processing i =  126  out of  336\n",
      "Processing i =  127  out of  336\n",
      "Processing i =  128  out of  336\n",
      "Processing i =  129  out of  336\n",
      "Processing i =  130  out of  336\n",
      "Processing i =  131  out of  336\n",
      "Processing i =  132  out of  336\n",
      "Processing i =  133  out of  336\n",
      "Processing i =  134  out of  336\n",
      "Processing i =  135  out of  336\n",
      "Processing i =  136  out of  336\n",
      "Processing i =  137  out of  336\n",
      "Processing i =  138  out of  336\n",
      "Processing i =  139  out of  336\n",
      "Processing i =  140  out of  336\n",
      "Processing i =  141  out of  336\n",
      "Processing i =  142  out of  336\n",
      "Processing i =  143  out of  336\n",
      "Processing i =  144  out of  336\n",
      "Processing i =  145  out of  336\n",
      "Processing i =  146  out of  336\n",
      "Processing i =  147  out of  336\n",
      "Processing i =  148  out of  336\n",
      "Processing i =  149  out of  336\n",
      "Processing i =  150  out of  336\n",
      "Processing i =  151  out of  336\n",
      "Processing i =  152  out of  336\n",
      "Processing i =  153  out of  336\n",
      "Processing i =  154  out of  336\n",
      "Processing i =  155  out of  336\n",
      "Processing i =  156  out of  336\n",
      "Processing i =  157  out of  336\n",
      "Processing i =  158  out of  336\n",
      "Processing i =  159  out of  336\n",
      "Processing i =  160  out of  336\n",
      "Processing i =  161  out of  336\n",
      "Processing i =  162  out of  336\n",
      "Processing i =  163  out of  336\n",
      "Processing i =  164  out of  336\n",
      "Processing i =  165  out of  336\n",
      "Processing i =  166  out of  336\n",
      "Processing i =  167  out of  336\n",
      "Processing i =  168  out of  336\n",
      "Processing i =  169  out of  336\n",
      "Processing i =  170  out of  336\n",
      "Processing i =  171  out of  336\n",
      "Processing i =  172  out of  336\n",
      "Processing i =  173  out of  336\n",
      "Processing i =  174  out of  336\n",
      "Processing i =  175  out of  336\n",
      "Processing i =  176  out of  336\n",
      "Processing i =  177  out of  336\n",
      "Processing i =  178  out of  336\n",
      "Processing i =  179  out of  336\n",
      "Processing i =  180  out of  336\n",
      "Processing i =  181  out of  336\n",
      "Processing i =  182  out of  336\n",
      "Processing i =  183  out of  336\n",
      "Processing i =  184  out of  336\n",
      "Processing i =  185  out of  336\n",
      "Processing i =  186  out of  336\n",
      "Processing i =  187  out of  336\n",
      "Processing i =  188  out of  336\n",
      "Processing i =  189  out of  336\n",
      "Processing i =  190  out of  336\n",
      "Processing i =  191  out of  336\n",
      "Processing i =  192  out of  336\n",
      "Processing i =  193  out of  336\n",
      "Processing i =  194  out of  336\n",
      "Processing i =  195  out of  336\n",
      "Processing i =  196  out of  336\n",
      "Processing i =  197  out of  336\n",
      "Processing i =  198  out of  336\n",
      "Processing i =  199  out of  336\n",
      "Processing i =  200  out of  336\n",
      "Processing i =  201  out of  336\n",
      "Processing i =  202  out of  336\n",
      "Processing i =  203  out of  336\n",
      "Processing i =  204  out of  336\n",
      "Processing i =  205  out of  336\n",
      "Processing i =  206  out of  336\n",
      "Processing i =  207  out of  336\n",
      "Processing i =  208  out of  336\n",
      "Processing i =  209  out of  336\n",
      "Processing i =  210  out of  336\n",
      "Processing i =  211  out of  336\n",
      "Processing i =  212  out of  336\n",
      "Processing i =  213  out of  336\n",
      "Processing i =  214  out of  336\n",
      "Processing i =  215  out of  336\n",
      "Processing i =  216  out of  336\n",
      "Processing i =  217  out of  336\n",
      "Processing i =  218  out of  336\n",
      "Processing i =  219  out of  336\n",
      "Processing i =  220  out of  336\n",
      "Processing i =  221  out of  336\n",
      "Processing i =  222  out of  336\n",
      "Processing i =  223  out of  336\n",
      "Processing i =  224  out of  336\n",
      "Processing i =  225  out of  336\n",
      "Processing i =  226  out of  336\n",
      "Processing i =  227  out of  336\n",
      "Processing i =  228  out of  336\n",
      "Processing i =  229  out of  336\n",
      "Processing i =  230  out of  336\n",
      "Processing i =  231  out of  336\n",
      "Processing i =  232  out of  336\n",
      "Processing i =  233  out of  336\n",
      "Processing i =  234  out of  336\n",
      "Processing i =  235  out of  336\n",
      "Processing i =  236  out of  336\n",
      "Processing i =  237  out of  336\n",
      "Processing i =  238  out of  336\n",
      "Processing i =  239  out of  336\n",
      "Processing i =  240  out of  336\n",
      "Processing i =  241  out of  336\n",
      "Processing i =  242  out of  336\n",
      "Processing i =  243  out of  336\n",
      "Processing i =  244  out of  336\n",
      "Processing i =  245  out of  336\n",
      "Processing i =  246  out of  336\n",
      "Processing i =  247  out of  336\n",
      "Processing i =  248  out of  336\n",
      "Processing i =  249  out of  336\n",
      "Processing i =  250  out of  336\n",
      "Processing i =  251  out of  336\n",
      "Processing i =  252  out of  336\n",
      "Processing i =  253  out of  336\n",
      "Processing i =  254  out of  336\n",
      "Processing i =  255  out of  336\n",
      "Processing i =  256  out of  336\n",
      "Processing i =  257  out of  336\n",
      "Processing i =  258  out of  336\n",
      "Processing i =  259  out of  336\n",
      "Processing i =  260  out of  336\n",
      "Processing i =  261  out of  336\n",
      "Processing i =  262  out of  336\n",
      "Processing i =  263  out of  336\n",
      "Processing i =  264  out of  336\n",
      "Processing i =  265  out of  336\n",
      "Processing i =  266  out of  336\n",
      "Processing i =  267  out of  336\n",
      "Processing i =  268  out of  336\n",
      "Processing i =  269  out of  336\n",
      "Processing i =  270  out of  336\n",
      "Processing i =  271  out of  336\n",
      "Processing i =  272  out of  336\n",
      "Processing i =  273  out of  336\n",
      "Processing i =  274  out of  336\n",
      "Processing i =  275  out of  336\n",
      "Processing i =  276  out of  336\n",
      "Processing i =  277  out of  336\n",
      "Processing i =  278  out of  336\n",
      "Processing i =  279  out of  336\n",
      "Processing i =  280  out of  336\n",
      "Processing i =  281  out of  336\n",
      "Processing i =  282  out of  336\n",
      "Processing i =  283  out of  336\n",
      "Processing i =  284  out of  336\n",
      "Processing i =  285  out of  336\n",
      "Processing i =  286  out of  336\n",
      "Processing i =  287  out of  336\n",
      "Processing i =  288  out of  336\n",
      "Processing i =  289  out of  336\n",
      "Processing i =  290  out of  336\n",
      "Processing i =  291  out of  336\n",
      "Processing i =  292  out of  336\n",
      "Processing i =  293  out of  336\n",
      "Processing i =  294  out of  336\n",
      "Processing i =  295  out of  336\n",
      "Processing i =  296  out of  336\n",
      "Processing i =  297  out of  336\n",
      "Processing i =  298  out of  336\n",
      "Processing i =  299  out of  336\n",
      "Processing i =  300  out of  336\n",
      "Processing i =  301  out of  336\n",
      "Processing i =  302  out of  336\n",
      "Processing i =  303  out of  336\n",
      "Processing i =  304  out of  336\n",
      "Processing i =  305  out of  336\n",
      "Processing i =  306  out of  336\n",
      "Processing i =  307  out of  336\n",
      "Processing i =  308  out of  336\n",
      "Processing i =  309  out of  336\n",
      "Processing i =  310  out of  336\n",
      "Processing i =  311  out of  336\n",
      "Processing i =  312  out of  336\n",
      "Processing i =  313  out of  336\n",
      "Processing i =  314  out of  336\n",
      "Processing i =  315  out of  336\n",
      "Processing i =  316  out of  336\n",
      "Processing i =  317  out of  336\n",
      "Processing i =  318  out of  336\n",
      "Processing i =  319  out of  336\n",
      "Processing i =  320  out of  336\n",
      "Processing i =  321  out of  336\n",
      "Processing i =  322  out of  336\n",
      "Processing i =  323  out of  336\n",
      "Processing i =  324  out of  336\n",
      "Processing i =  325  out of  336\n",
      "Processing i =  326  out of  336\n",
      "Processing i =  327  out of  336\n",
      "Processing i =  328  out of  336\n",
      "Processing i =  329  out of  336\n",
      "Processing i =  330  out of  336\n",
      "Processing i =  331  out of  336\n",
      "Processing i =  332  out of  336\n",
      "Processing i =  333  out of  336\n",
      "Processing i =  334  out of  336\n",
      "Processing i =  335  out of  336\n",
      "Processing i =  336  out of  336\n",
      "\n",
      "Processing CV 5 / 10....\n",
      "Processing i =  1  out of  336\n",
      "Processing i =  2  out of  336\n",
      "Processing i =  3  out of  336\n",
      "Processing i =  4  out of  336\n",
      "Processing i =  5  out of  336\n",
      "Processing i =  6  out of  336\n",
      "Processing i =  7  out of  336\n",
      "Processing i =  8  out of  336\n",
      "Processing i =  9  out of  336\n",
      "Processing i =  10  out of  336\n",
      "Processing i =  11  out of  336\n",
      "Processing i =  12  out of  336\n",
      "Processing i =  13  out of  336\n",
      "Processing i =  14  out of  336\n",
      "Processing i =  15  out of  336\n",
      "Processing i =  16  out of  336\n",
      "Processing i =  17  out of  336\n",
      "Processing i =  18  out of  336\n",
      "Processing i =  19  out of  336\n",
      "Processing i =  20  out of  336\n",
      "Processing i =  21  out of  336\n",
      "Processing i =  22  out of  336\n",
      "Processing i =  23  out of  336\n",
      "Processing i =  24  out of  336\n",
      "Processing i =  25  out of  336\n",
      "Processing i =  26  out of  336\n",
      "Processing i =  27  out of  336\n",
      "Processing i =  28  out of  336\n",
      "Processing i =  29  out of  336\n",
      "Processing i =  30  out of  336\n",
      "Processing i =  31  out of  336\n",
      "Processing i =  32  out of  336\n",
      "Processing i =  33  out of  336\n",
      "Processing i =  34  out of  336\n",
      "Processing i =  35  out of  336\n",
      "Processing i =  36  out of  336\n",
      "Processing i =  37  out of  336\n",
      "Processing i =  38  out of  336\n",
      "Processing i =  39  out of  336\n",
      "Processing i =  40  out of  336\n",
      "Processing i =  41  out of  336\n",
      "Processing i =  42  out of  336\n",
      "Processing i =  43  out of  336\n",
      "Processing i =  44  out of  336\n",
      "Processing i =  45  out of  336\n",
      "Processing i =  46  out of  336\n",
      "Processing i =  47  out of  336\n",
      "Processing i =  48  out of  336\n",
      "Processing i =  49  out of  336\n",
      "Processing i =  50  out of  336\n",
      "Processing i =  51  out of  336\n",
      "Processing i =  52  out of  336\n",
      "Processing i =  53  out of  336\n",
      "Processing i =  54  out of  336\n",
      "Processing i =  55  out of  336\n",
      "Processing i =  56  out of  336\n",
      "Processing i =  57  out of  336\n",
      "Processing i =  58  out of  336\n",
      "Processing i =  59  out of  336\n",
      "Processing i =  60  out of  336\n",
      "Processing i =  61  out of  336\n",
      "Processing i =  62  out of  336\n",
      "Processing i =  63  out of  336\n",
      "Processing i =  64  out of  336\n",
      "Processing i =  65  out of  336\n",
      "Processing i =  66  out of  336\n",
      "Processing i =  67  out of  336\n",
      "Processing i =  68  out of  336\n",
      "Processing i =  69  out of  336\n",
      "Processing i =  70  out of  336\n",
      "Processing i =  71  out of  336\n",
      "Processing i =  72  out of  336\n",
      "Processing i =  73  out of  336\n",
      "Processing i =  74  out of  336\n",
      "Processing i =  75  out of  336\n",
      "Processing i =  76  out of  336\n",
      "Processing i =  77  out of  336\n",
      "Processing i =  78  out of  336\n",
      "Processing i =  79  out of  336\n",
      "Processing i =  80  out of  336\n",
      "Processing i =  81  out of  336\n",
      "Processing i =  82  out of  336\n",
      "Processing i =  83  out of  336\n",
      "Processing i =  84  out of  336\n",
      "Processing i =  85  out of  336\n",
      "Processing i =  86  out of  336\n",
      "Processing i =  87  out of  336\n",
      "Processing i =  88  out of  336\n",
      "Processing i =  89  out of  336\n",
      "Processing i =  90  out of  336\n",
      "Processing i =  91  out of  336\n",
      "Processing i =  92  out of  336\n",
      "Processing i =  93  out of  336\n",
      "Processing i =  94  out of  336\n",
      "Processing i =  95  out of  336\n",
      "Processing i =  96  out of  336\n",
      "Processing i =  97  out of  336\n",
      "Processing i =  98  out of  336\n",
      "Processing i =  99  out of  336\n",
      "Processing i =  100  out of  336\n",
      "Processing i =  101  out of  336\n",
      "Processing i =  102  out of  336\n",
      "Processing i =  103  out of  336\n",
      "Processing i =  104  out of  336\n",
      "Processing i =  105  out of  336\n",
      "Processing i =  106  out of  336\n",
      "Processing i =  107  out of  336\n",
      "Processing i =  108  out of  336\n",
      "Processing i =  109  out of  336\n",
      "Processing i =  110  out of  336\n",
      "Processing i =  111  out of  336\n",
      "Processing i =  112  out of  336\n",
      "Processing i =  113  out of  336\n",
      "Processing i =  114  out of  336\n",
      "Processing i =  115  out of  336\n",
      "Processing i =  116  out of  336\n",
      "Processing i =  117  out of  336\n",
      "Processing i =  118  out of  336\n",
      "Processing i =  119  out of  336\n",
      "Processing i =  120  out of  336\n",
      "Processing i =  121  out of  336\n",
      "Processing i =  122  out of  336\n",
      "Processing i =  123  out of  336\n",
      "Processing i =  124  out of  336\n",
      "Processing i =  125  out of  336\n",
      "Processing i =  126  out of  336\n",
      "Processing i =  127  out of  336\n",
      "Processing i =  128  out of  336\n",
      "Processing i =  129  out of  336\n",
      "Processing i =  130  out of  336\n",
      "Processing i =  131  out of  336\n",
      "Processing i =  132  out of  336\n",
      "Processing i =  133  out of  336\n",
      "Processing i =  134  out of  336\n",
      "Processing i =  135  out of  336\n",
      "Processing i =  136  out of  336\n",
      "Processing i =  137  out of  336\n",
      "Processing i =  138  out of  336\n",
      "Processing i =  139  out of  336\n",
      "Processing i =  140  out of  336\n",
      "Processing i =  141  out of  336\n",
      "Processing i =  142  out of  336\n",
      "Processing i =  143  out of  336\n",
      "Processing i =  144  out of  336\n",
      "Processing i =  145  out of  336\n",
      "Processing i =  146  out of  336\n",
      "Processing i =  147  out of  336\n",
      "Processing i =  148  out of  336\n",
      "Processing i =  149  out of  336\n",
      "Processing i =  150  out of  336\n",
      "Processing i =  151  out of  336\n",
      "Processing i =  152  out of  336\n",
      "Processing i =  153  out of  336\n",
      "Processing i =  154  out of  336\n",
      "Processing i =  155  out of  336\n",
      "Processing i =  156  out of  336\n",
      "Processing i =  157  out of  336\n",
      "Processing i =  158  out of  336\n",
      "Processing i =  159  out of  336\n",
      "Processing i =  160  out of  336\n",
      "Processing i =  161  out of  336\n",
      "Processing i =  162  out of  336\n",
      "Processing i =  163  out of  336\n",
      "Processing i =  164  out of  336\n",
      "Processing i =  165  out of  336\n",
      "Processing i =  166  out of  336\n",
      "Processing i =  167  out of  336\n",
      "Processing i =  168  out of  336\n",
      "Processing i =  169  out of  336\n",
      "Processing i =  170  out of  336\n",
      "Processing i =  171  out of  336\n",
      "Processing i =  172  out of  336\n",
      "Processing i =  173  out of  336\n",
      "Processing i =  174  out of  336\n",
      "Processing i =  175  out of  336\n",
      "Processing i =  176  out of  336\n",
      "Processing i =  177  out of  336\n",
      "Processing i =  178  out of  336\n",
      "Processing i =  179  out of  336\n",
      "Processing i =  180  out of  336\n",
      "Processing i =  181  out of  336\n",
      "Processing i =  182  out of  336\n",
      "Processing i =  183  out of  336\n",
      "Processing i =  184  out of  336\n",
      "Processing i =  185  out of  336\n",
      "Processing i =  186  out of  336\n",
      "Processing i =  187  out of  336\n",
      "Processing i =  188  out of  336\n",
      "Processing i =  189  out of  336\n",
      "Processing i =  190  out of  336\n",
      "Processing i =  191  out of  336\n",
      "Processing i =  192  out of  336\n",
      "Processing i =  193  out of  336\n",
      "Processing i =  194  out of  336\n",
      "Processing i =  195  out of  336\n",
      "Processing i =  196  out of  336\n",
      "Processing i =  197  out of  336\n",
      "Processing i =  198  out of  336\n",
      "Processing i =  199  out of  336\n",
      "Processing i =  200  out of  336\n",
      "Processing i =  201  out of  336\n",
      "Processing i =  202  out of  336\n",
      "Processing i =  203  out of  336\n",
      "Processing i =  204  out of  336\n",
      "Processing i =  205  out of  336\n",
      "Processing i =  206  out of  336\n",
      "Processing i =  207  out of  336\n",
      "Processing i =  208  out of  336\n",
      "Processing i =  209  out of  336\n",
      "Processing i =  210  out of  336\n",
      "Processing i =  211  out of  336\n",
      "Processing i =  212  out of  336\n",
      "Processing i =  213  out of  336\n",
      "Processing i =  214  out of  336\n",
      "Processing i =  215  out of  336\n",
      "Processing i =  216  out of  336\n",
      "Processing i =  217  out of  336\n",
      "Processing i =  218  out of  336\n",
      "Processing i =  219  out of  336\n",
      "Processing i =  220  out of  336\n",
      "Processing i =  221  out of  336\n",
      "Processing i =  222  out of  336\n",
      "Processing i =  223  out of  336\n",
      "Processing i =  224  out of  336\n",
      "Processing i =  225  out of  336\n",
      "Processing i =  226  out of  336\n",
      "Processing i =  227  out of  336\n",
      "Processing i =  228  out of  336\n",
      "Processing i =  229  out of  336\n",
      "Processing i =  230  out of  336\n",
      "Processing i =  231  out of  336\n",
      "Processing i =  232  out of  336\n",
      "Processing i =  233  out of  336\n",
      "Processing i =  234  out of  336\n",
      "Processing i =  235  out of  336\n",
      "Processing i =  236  out of  336\n",
      "Processing i =  237  out of  336\n",
      "Processing i =  238  out of  336\n",
      "Processing i =  239  out of  336\n",
      "Processing i =  240  out of  336\n",
      "Processing i =  241  out of  336\n",
      "Processing i =  242  out of  336\n",
      "Processing i =  243  out of  336\n",
      "Processing i =  244  out of  336\n",
      "Processing i =  245  out of  336\n",
      "Processing i =  246  out of  336\n",
      "Processing i =  247  out of  336\n",
      "Processing i =  248  out of  336\n",
      "Processing i =  249  out of  336\n",
      "Processing i =  250  out of  336\n",
      "Processing i =  251  out of  336\n",
      "Processing i =  252  out of  336\n",
      "Processing i =  253  out of  336\n",
      "Processing i =  254  out of  336\n",
      "Processing i =  255  out of  336\n",
      "Processing i =  256  out of  336\n",
      "Processing i =  257  out of  336\n",
      "Processing i =  258  out of  336\n",
      "Processing i =  259  out of  336\n",
      "Processing i =  260  out of  336\n",
      "Processing i =  261  out of  336\n",
      "Processing i =  262  out of  336\n",
      "Processing i =  263  out of  336\n",
      "Processing i =  264  out of  336\n",
      "Processing i =  265  out of  336\n",
      "Processing i =  266  out of  336\n",
      "Processing i =  267  out of  336\n",
      "Processing i =  268  out of  336\n",
      "Processing i =  269  out of  336\n",
      "Processing i =  270  out of  336\n",
      "Processing i =  271  out of  336\n",
      "Processing i =  272  out of  336\n",
      "Processing i =  273  out of  336\n",
      "Processing i =  274  out of  336\n",
      "Processing i =  275  out of  336\n",
      "Processing i =  276  out of  336\n",
      "Processing i =  277  out of  336\n",
      "Processing i =  278  out of  336\n",
      "Processing i =  279  out of  336\n",
      "Processing i =  280  out of  336\n",
      "Processing i =  281  out of  336\n",
      "Processing i =  282  out of  336\n",
      "Processing i =  283  out of  336\n",
      "Processing i =  284  out of  336\n",
      "Processing i =  285  out of  336\n",
      "Processing i =  286  out of  336\n",
      "Processing i =  287  out of  336\n",
      "Processing i =  288  out of  336\n",
      "Processing i =  289  out of  336\n",
      "Processing i =  290  out of  336\n",
      "Processing i =  291  out of  336\n",
      "Processing i =  292  out of  336\n",
      "Processing i =  293  out of  336\n",
      "Processing i =  294  out of  336\n",
      "Processing i =  295  out of  336\n",
      "Processing i =  296  out of  336\n",
      "Processing i =  297  out of  336\n",
      "Processing i =  298  out of  336\n",
      "Processing i =  299  out of  336\n",
      "Processing i =  300  out of  336\n",
      "Processing i =  301  out of  336\n",
      "Processing i =  302  out of  336\n",
      "Processing i =  303  out of  336\n",
      "Processing i =  304  out of  336\n",
      "Processing i =  305  out of  336\n",
      "Processing i =  306  out of  336\n",
      "Processing i =  307  out of  336\n",
      "Processing i =  308  out of  336\n",
      "Processing i =  309  out of  336\n",
      "Processing i =  310  out of  336\n",
      "Processing i =  311  out of  336\n",
      "Processing i =  312  out of  336\n",
      "Processing i =  313  out of  336\n",
      "Processing i =  314  out of  336\n",
      "Processing i =  315  out of  336\n",
      "Processing i =  316  out of  336\n",
      "Processing i =  317  out of  336\n",
      "Processing i =  318  out of  336\n",
      "Processing i =  319  out of  336\n",
      "Processing i =  320  out of  336\n",
      "Processing i =  321  out of  336\n",
      "Processing i =  322  out of  336\n",
      "Processing i =  323  out of  336\n",
      "Processing i =  324  out of  336\n",
      "Processing i =  325  out of  336\n",
      "Processing i =  326  out of  336\n",
      "Processing i =  327  out of  336\n",
      "Processing i =  328  out of  336\n",
      "Processing i =  329  out of  336\n",
      "Processing i =  330  out of  336\n",
      "Processing i =  331  out of  336\n",
      "Processing i =  332  out of  336\n",
      "Processing i =  333  out of  336\n",
      "Processing i =  334  out of  336\n",
      "Processing i =  335  out of  336\n",
      "Processing i =  336  out of  336\n",
      "\n",
      "Processing CV 6 / 10....\n",
      "Processing i =  1  out of  337\n",
      "Processing i =  2  out of  337\n",
      "Processing i =  3  out of  337\n",
      "Processing i =  4  out of  337\n",
      "Processing i =  5  out of  337\n",
      "Processing i =  6  out of  337\n",
      "Processing i =  7  out of  337\n",
      "Processing i =  8  out of  337\n",
      "Processing i =  9  out of  337\n",
      "Processing i =  10  out of  337\n",
      "Processing i =  11  out of  337\n",
      "Processing i =  12  out of  337\n",
      "Processing i =  13  out of  337\n",
      "Processing i =  14  out of  337\n",
      "Processing i =  15  out of  337\n",
      "Processing i =  16  out of  337\n",
      "Processing i =  17  out of  337\n",
      "Processing i =  18  out of  337\n",
      "Processing i =  19  out of  337\n",
      "Processing i =  20  out of  337\n",
      "Processing i =  21  out of  337\n",
      "Processing i =  22  out of  337\n",
      "Processing i =  23  out of  337\n",
      "Processing i =  24  out of  337\n",
      "Processing i =  25  out of  337\n",
      "Processing i =  26  out of  337\n",
      "Processing i =  27  out of  337\n",
      "Processing i =  28  out of  337\n",
      "Processing i =  29  out of  337\n",
      "Processing i =  30  out of  337\n",
      "Processing i =  31  out of  337\n",
      "Processing i =  32  out of  337\n",
      "Processing i =  33  out of  337\n",
      "Processing i =  34  out of  337\n",
      "Processing i =  35  out of  337\n",
      "Processing i =  36  out of  337\n",
      "Processing i =  37  out of  337\n",
      "Processing i =  38  out of  337\n",
      "Processing i =  39  out of  337\n",
      "Processing i =  40  out of  337\n",
      "Processing i =  41  out of  337\n",
      "Processing i =  42  out of  337\n",
      "Processing i =  43  out of  337\n",
      "Processing i =  44  out of  337\n",
      "Processing i =  45  out of  337\n",
      "Processing i =  46  out of  337\n",
      "Processing i =  47  out of  337\n",
      "Processing i =  48  out of  337\n",
      "Processing i =  49  out of  337\n",
      "Processing i =  50  out of  337\n",
      "Processing i =  51  out of  337\n",
      "Processing i =  52  out of  337\n",
      "Processing i =  53  out of  337\n",
      "Processing i =  54  out of  337\n",
      "Processing i =  55  out of  337\n",
      "Processing i =  56  out of  337\n",
      "Processing i =  57  out of  337\n",
      "Processing i =  58  out of  337\n",
      "Processing i =  59  out of  337\n",
      "Processing i =  60  out of  337\n",
      "Processing i =  61  out of  337\n",
      "Processing i =  62  out of  337\n",
      "Processing i =  63  out of  337\n",
      "Processing i =  64  out of  337\n",
      "Processing i =  65  out of  337\n",
      "Processing i =  66  out of  337\n",
      "Processing i =  67  out of  337\n",
      "Processing i =  68  out of  337\n",
      "Processing i =  69  out of  337\n",
      "Processing i =  70  out of  337\n",
      "Processing i =  71  out of  337\n",
      "Processing i =  72  out of  337\n",
      "Processing i =  73  out of  337\n",
      "Processing i =  74  out of  337\n",
      "Processing i =  75  out of  337\n",
      "Processing i =  76  out of  337\n",
      "Processing i =  77  out of  337\n",
      "Processing i =  78  out of  337\n",
      "Processing i =  79  out of  337\n",
      "Processing i =  80  out of  337\n",
      "Processing i =  81  out of  337\n",
      "Processing i =  82  out of  337\n",
      "Processing i =  83  out of  337\n",
      "Processing i =  84  out of  337\n",
      "Processing i =  85  out of  337\n",
      "Processing i =  86  out of  337\n",
      "Processing i =  87  out of  337\n",
      "Processing i =  88  out of  337\n",
      "Processing i =  89  out of  337\n",
      "Processing i =  90  out of  337\n",
      "Processing i =  91  out of  337\n",
      "Processing i =  92  out of  337\n",
      "Processing i =  93  out of  337\n",
      "Processing i =  94  out of  337\n",
      "Processing i =  95  out of  337\n",
      "Processing i =  96  out of  337\n",
      "Processing i =  97  out of  337\n",
      "Processing i =  98  out of  337\n",
      "Processing i =  99  out of  337\n",
      "Processing i =  100  out of  337\n",
      "Processing i =  101  out of  337\n",
      "Processing i =  102  out of  337\n",
      "Processing i =  103  out of  337\n",
      "Processing i =  104  out of  337\n",
      "Processing i =  105  out of  337\n",
      "Processing i =  106  out of  337\n",
      "Processing i =  107  out of  337\n",
      "Processing i =  108  out of  337\n",
      "Processing i =  109  out of  337\n",
      "Processing i =  110  out of  337\n",
      "Processing i =  111  out of  337\n",
      "Processing i =  112  out of  337\n",
      "Processing i =  113  out of  337\n",
      "Processing i =  114  out of  337\n",
      "Processing i =  115  out of  337\n",
      "Processing i =  116  out of  337\n",
      "Processing i =  117  out of  337\n",
      "Processing i =  118  out of  337\n",
      "Processing i =  119  out of  337\n",
      "Processing i =  120  out of  337\n",
      "Processing i =  121  out of  337\n",
      "Processing i =  122  out of  337\n",
      "Processing i =  123  out of  337\n",
      "Processing i =  124  out of  337\n",
      "Processing i =  125  out of  337\n",
      "Processing i =  126  out of  337\n",
      "Processing i =  127  out of  337\n",
      "Processing i =  128  out of  337\n",
      "Processing i =  129  out of  337\n",
      "Processing i =  130  out of  337\n",
      "Processing i =  131  out of  337\n",
      "Processing i =  132  out of  337\n",
      "Processing i =  133  out of  337\n",
      "Processing i =  134  out of  337\n",
      "Processing i =  135  out of  337\n",
      "Processing i =  136  out of  337\n",
      "Processing i =  137  out of  337\n",
      "Processing i =  138  out of  337\n",
      "Processing i =  139  out of  337\n",
      "Processing i =  140  out of  337\n",
      "Processing i =  141  out of  337\n",
      "Processing i =  142  out of  337\n",
      "Processing i =  143  out of  337\n",
      "Processing i =  144  out of  337\n",
      "Processing i =  145  out of  337\n",
      "Processing i =  146  out of  337\n",
      "Processing i =  147  out of  337\n",
      "Processing i =  148  out of  337\n",
      "Processing i =  149  out of  337\n",
      "Processing i =  150  out of  337\n",
      "Processing i =  151  out of  337\n",
      "Processing i =  152  out of  337\n",
      "Processing i =  153  out of  337\n",
      "Processing i =  154  out of  337\n",
      "Processing i =  155  out of  337\n",
      "Processing i =  156  out of  337\n",
      "Processing i =  157  out of  337\n",
      "Processing i =  158  out of  337\n",
      "Processing i =  159  out of  337\n",
      "Processing i =  160  out of  337\n",
      "Processing i =  161  out of  337\n",
      "Processing i =  162  out of  337\n",
      "Processing i =  163  out of  337\n",
      "Processing i =  164  out of  337\n",
      "Processing i =  165  out of  337\n",
      "Processing i =  166  out of  337\n",
      "Processing i =  167  out of  337\n",
      "Processing i =  168  out of  337\n",
      "Processing i =  169  out of  337\n",
      "Processing i =  170  out of  337\n",
      "Processing i =  171  out of  337\n",
      "Processing i =  172  out of  337\n",
      "Processing i =  173  out of  337\n",
      "Processing i =  174  out of  337\n",
      "Processing i =  175  out of  337\n",
      "Processing i =  176  out of  337\n",
      "Processing i =  177  out of  337\n",
      "Processing i =  178  out of  337\n",
      "Processing i =  179  out of  337\n",
      "Processing i =  180  out of  337\n",
      "Processing i =  181  out of  337\n",
      "Processing i =  182  out of  337\n",
      "Processing i =  183  out of  337\n",
      "Processing i =  184  out of  337\n",
      "Processing i =  185  out of  337\n",
      "Processing i =  186  out of  337\n",
      "Processing i =  187  out of  337\n",
      "Processing i =  188  out of  337\n",
      "Processing i =  189  out of  337\n",
      "Processing i =  190  out of  337\n",
      "Processing i =  191  out of  337\n",
      "Processing i =  192  out of  337\n",
      "Processing i =  193  out of  337\n",
      "Processing i =  194  out of  337\n",
      "Processing i =  195  out of  337\n",
      "Processing i =  196  out of  337\n",
      "Processing i =  197  out of  337\n",
      "Processing i =  198  out of  337\n",
      "Processing i =  199  out of  337\n",
      "Processing i =  200  out of  337\n",
      "Processing i =  201  out of  337\n",
      "Processing i =  202  out of  337\n",
      "Processing i =  203  out of  337\n",
      "Processing i =  204  out of  337\n",
      "Processing i =  205  out of  337\n",
      "Processing i =  206  out of  337\n",
      "Processing i =  207  out of  337\n",
      "Processing i =  208  out of  337\n",
      "Processing i =  209  out of  337\n",
      "Processing i =  210  out of  337\n",
      "Processing i =  211  out of  337\n",
      "Processing i =  212  out of  337\n",
      "Processing i =  213  out of  337\n",
      "Processing i =  214  out of  337\n",
      "Processing i =  215  out of  337\n",
      "Processing i =  216  out of  337\n",
      "Processing i =  217  out of  337\n",
      "Processing i =  218  out of  337\n",
      "Processing i =  219  out of  337\n",
      "Processing i =  220  out of  337\n",
      "Processing i =  221  out of  337\n",
      "Processing i =  222  out of  337\n",
      "Processing i =  223  out of  337\n",
      "Processing i =  224  out of  337\n",
      "Processing i =  225  out of  337\n",
      "Processing i =  226  out of  337\n",
      "Processing i =  227  out of  337\n",
      "Processing i =  228  out of  337\n",
      "Processing i =  229  out of  337\n",
      "Processing i =  230  out of  337\n",
      "Processing i =  231  out of  337\n",
      "Processing i =  232  out of  337\n",
      "Processing i =  233  out of  337\n",
      "Processing i =  234  out of  337\n",
      "Processing i =  235  out of  337\n",
      "Processing i =  236  out of  337\n",
      "Processing i =  237  out of  337\n",
      "Processing i =  238  out of  337\n",
      "Processing i =  239  out of  337\n",
      "Processing i =  240  out of  337\n",
      "Processing i =  241  out of  337\n",
      "Processing i =  242  out of  337\n",
      "Processing i =  243  out of  337\n",
      "Processing i =  244  out of  337\n",
      "Processing i =  245  out of  337\n",
      "Processing i =  246  out of  337\n",
      "Processing i =  247  out of  337\n",
      "Processing i =  248  out of  337\n",
      "Processing i =  249  out of  337\n",
      "Processing i =  250  out of  337\n",
      "Processing i =  251  out of  337\n",
      "Processing i =  252  out of  337\n",
      "Processing i =  253  out of  337\n",
      "Processing i =  254  out of  337\n",
      "Processing i =  255  out of  337\n",
      "Processing i =  256  out of  337\n",
      "Processing i =  257  out of  337\n",
      "Processing i =  258  out of  337\n",
      "Processing i =  259  out of  337\n",
      "Processing i =  260  out of  337\n",
      "Processing i =  261  out of  337\n",
      "Processing i =  262  out of  337\n",
      "Processing i =  263  out of  337\n",
      "Processing i =  264  out of  337\n",
      "Processing i =  265  out of  337\n",
      "Processing i =  266  out of  337\n",
      "Processing i =  267  out of  337\n",
      "Processing i =  268  out of  337\n",
      "Processing i =  269  out of  337\n",
      "Processing i =  270  out of  337\n",
      "Processing i =  271  out of  337\n",
      "Processing i =  272  out of  337\n",
      "Processing i =  273  out of  337\n",
      "Processing i =  274  out of  337\n",
      "Processing i =  275  out of  337\n",
      "Processing i =  276  out of  337\n",
      "Processing i =  277  out of  337\n",
      "Processing i =  278  out of  337\n",
      "Processing i =  279  out of  337\n",
      "Processing i =  280  out of  337\n",
      "Processing i =  281  out of  337\n",
      "Processing i =  282  out of  337\n",
      "Processing i =  283  out of  337\n",
      "Processing i =  284  out of  337\n",
      "Processing i =  285  out of  337\n",
      "Processing i =  286  out of  337\n",
      "Processing i =  287  out of  337\n",
      "Processing i =  288  out of  337\n",
      "Processing i =  289  out of  337\n",
      "Processing i =  290  out of  337\n",
      "Processing i =  291  out of  337\n",
      "Processing i =  292  out of  337\n",
      "Processing i =  293  out of  337\n",
      "Processing i =  294  out of  337\n",
      "Processing i =  295  out of  337\n",
      "Processing i =  296  out of  337\n",
      "Processing i =  297  out of  337\n",
      "Processing i =  298  out of  337\n",
      "Processing i =  299  out of  337\n",
      "Processing i =  300  out of  337\n",
      "Processing i =  301  out of  337\n",
      "Processing i =  302  out of  337\n",
      "Processing i =  303  out of  337\n",
      "Processing i =  304  out of  337\n",
      "Processing i =  305  out of  337\n",
      "Processing i =  306  out of  337\n",
      "Processing i =  307  out of  337\n",
      "Processing i =  308  out of  337\n",
      "Processing i =  309  out of  337\n",
      "Processing i =  310  out of  337\n",
      "Processing i =  311  out of  337\n",
      "Processing i =  312  out of  337\n",
      "Processing i =  313  out of  337\n",
      "Processing i =  314  out of  337\n",
      "Processing i =  315  out of  337\n",
      "Processing i =  316  out of  337\n",
      "Processing i =  317  out of  337\n",
      "Processing i =  318  out of  337\n",
      "Processing i =  319  out of  337\n",
      "Processing i =  320  out of  337\n",
      "Processing i =  321  out of  337\n",
      "Processing i =  322  out of  337\n",
      "Processing i =  323  out of  337\n",
      "Processing i =  324  out of  337\n",
      "Processing i =  325  out of  337\n",
      "Processing i =  326  out of  337\n",
      "Processing i =  327  out of  337\n",
      "Processing i =  328  out of  337\n",
      "Processing i =  329  out of  337\n",
      "Processing i =  330  out of  337\n",
      "Processing i =  331  out of  337\n",
      "Processing i =  332  out of  337\n",
      "Processing i =  333  out of  337\n",
      "Processing i =  334  out of  337\n",
      "Processing i =  335  out of  337\n",
      "Processing i =  336  out of  337\n",
      "Processing i =  337  out of  337\n",
      "\n",
      "Processing CV 7 / 10....\n",
      "Processing i =  1  out of  336\n",
      "Processing i =  2  out of  336\n",
      "Processing i =  3  out of  336\n",
      "Processing i =  4  out of  336\n",
      "Processing i =  5  out of  336\n",
      "Processing i =  6  out of  336\n",
      "Processing i =  7  out of  336\n",
      "Processing i =  8  out of  336\n",
      "Processing i =  9  out of  336\n",
      "Processing i =  10  out of  336\n",
      "Processing i =  11  out of  336\n",
      "Processing i =  12  out of  336\n",
      "Processing i =  13  out of  336\n",
      "Processing i =  14  out of  336\n",
      "Processing i =  15  out of  336\n",
      "Processing i =  16  out of  336\n",
      "Processing i =  17  out of  336\n",
      "Processing i =  18  out of  336\n",
      "Processing i =  19  out of  336\n",
      "Processing i =  20  out of  336\n",
      "Processing i =  21  out of  336\n",
      "Processing i =  22  out of  336\n",
      "Processing i =  23  out of  336\n",
      "Processing i =  24  out of  336\n",
      "Processing i =  25  out of  336\n",
      "Processing i =  26  out of  336\n",
      "Processing i =  27  out of  336\n",
      "Processing i =  28  out of  336\n",
      "Processing i =  29  out of  336\n",
      "Processing i =  30  out of  336\n",
      "Processing i =  31  out of  336\n",
      "Processing i =  32  out of  336\n",
      "Processing i =  33  out of  336\n",
      "Processing i =  34  out of  336\n",
      "Processing i =  35  out of  336\n",
      "Processing i =  36  out of  336\n",
      "Processing i =  37  out of  336\n",
      "Processing i =  38  out of  336\n",
      "Processing i =  39  out of  336\n",
      "Processing i =  40  out of  336\n",
      "Processing i =  41  out of  336\n",
      "Processing i =  42  out of  336\n",
      "Processing i =  43  out of  336\n",
      "Processing i =  44  out of  336\n",
      "Processing i =  45  out of  336\n",
      "Processing i =  46  out of  336\n",
      "Processing i =  47  out of  336\n",
      "Processing i =  48  out of  336\n",
      "Processing i =  49  out of  336\n",
      "Processing i =  50  out of  336\n",
      "Processing i =  51  out of  336\n",
      "Processing i =  52  out of  336\n",
      "Processing i =  53  out of  336\n",
      "Processing i =  54  out of  336\n",
      "Processing i =  55  out of  336\n",
      "Processing i =  56  out of  336\n",
      "Processing i =  57  out of  336\n",
      "Processing i =  58  out of  336\n",
      "Processing i =  59  out of  336\n",
      "Processing i =  60  out of  336\n",
      "Processing i =  61  out of  336\n",
      "Processing i =  62  out of  336\n",
      "Processing i =  63  out of  336\n",
      "Processing i =  64  out of  336\n",
      "Processing i =  65  out of  336\n",
      "Processing i =  66  out of  336\n",
      "Processing i =  67  out of  336\n",
      "Processing i =  68  out of  336\n",
      "Processing i =  69  out of  336\n",
      "Processing i =  70  out of  336\n",
      "Processing i =  71  out of  336\n",
      "Processing i =  72  out of  336\n",
      "Processing i =  73  out of  336\n",
      "Processing i =  74  out of  336\n",
      "Processing i =  75  out of  336\n",
      "Processing i =  76  out of  336\n",
      "Processing i =  77  out of  336\n",
      "Processing i =  78  out of  336\n",
      "Processing i =  79  out of  336\n",
      "Processing i =  80  out of  336\n",
      "Processing i =  81  out of  336\n",
      "Processing i =  82  out of  336\n",
      "Processing i =  83  out of  336\n",
      "Processing i =  84  out of  336\n",
      "Processing i =  85  out of  336\n",
      "Processing i =  86  out of  336\n",
      "Processing i =  87  out of  336\n",
      "Processing i =  88  out of  336\n",
      "Processing i =  89  out of  336\n",
      "Processing i =  90  out of  336\n",
      "Processing i =  91  out of  336\n",
      "Processing i =  92  out of  336\n",
      "Processing i =  93  out of  336\n",
      "Processing i =  94  out of  336\n",
      "Processing i =  95  out of  336\n",
      "Processing i =  96  out of  336\n",
      "Processing i =  97  out of  336\n",
      "Processing i =  98  out of  336\n",
      "Processing i =  99  out of  336\n",
      "Processing i =  100  out of  336\n",
      "Processing i =  101  out of  336\n",
      "Processing i =  102  out of  336\n",
      "Processing i =  103  out of  336\n",
      "Processing i =  104  out of  336\n",
      "Processing i =  105  out of  336\n",
      "Processing i =  106  out of  336\n",
      "Processing i =  107  out of  336\n",
      "Processing i =  108  out of  336\n",
      "Processing i =  109  out of  336\n",
      "Processing i =  110  out of  336\n",
      "Processing i =  111  out of  336\n",
      "Processing i =  112  out of  336\n",
      "Processing i =  113  out of  336\n",
      "Processing i =  114  out of  336\n",
      "Processing i =  115  out of  336\n",
      "Processing i =  116  out of  336\n",
      "Processing i =  117  out of  336\n",
      "Processing i =  118  out of  336\n",
      "Processing i =  119  out of  336\n",
      "Processing i =  120  out of  336\n",
      "Processing i =  121  out of  336\n",
      "Processing i =  122  out of  336\n",
      "Processing i =  123  out of  336\n",
      "Processing i =  124  out of  336\n",
      "Processing i =  125  out of  336\n",
      "Processing i =  126  out of  336\n",
      "Processing i =  127  out of  336\n",
      "Processing i =  128  out of  336\n",
      "Processing i =  129  out of  336\n",
      "Processing i =  130  out of  336\n",
      "Processing i =  131  out of  336\n",
      "Processing i =  132  out of  336\n",
      "Processing i =  133  out of  336\n",
      "Processing i =  134  out of  336\n",
      "Processing i =  135  out of  336\n",
      "Processing i =  136  out of  336\n",
      "Processing i =  137  out of  336\n",
      "Processing i =  138  out of  336\n",
      "Processing i =  139  out of  336\n",
      "Processing i =  140  out of  336\n",
      "Processing i =  141  out of  336\n",
      "Processing i =  142  out of  336\n",
      "Processing i =  143  out of  336\n",
      "Processing i =  144  out of  336\n",
      "Processing i =  145  out of  336\n",
      "Processing i =  146  out of  336\n",
      "Processing i =  147  out of  336\n",
      "Processing i =  148  out of  336\n",
      "Processing i =  149  out of  336\n",
      "Processing i =  150  out of  336\n",
      "Processing i =  151  out of  336\n",
      "Processing i =  152  out of  336\n",
      "Processing i =  153  out of  336\n",
      "Processing i =  154  out of  336\n",
      "Processing i =  155  out of  336\n",
      "Processing i =  156  out of  336\n",
      "Processing i =  157  out of  336\n",
      "Processing i =  158  out of  336\n",
      "Processing i =  159  out of  336\n",
      "Processing i =  160  out of  336\n",
      "Processing i =  161  out of  336\n",
      "Processing i =  162  out of  336\n",
      "Processing i =  163  out of  336\n",
      "Processing i =  164  out of  336\n",
      "Processing i =  165  out of  336\n",
      "Processing i =  166  out of  336\n",
      "Processing i =  167  out of  336\n",
      "Processing i =  168  out of  336\n",
      "Processing i =  169  out of  336\n",
      "Processing i =  170  out of  336\n",
      "Processing i =  171  out of  336\n",
      "Processing i =  172  out of  336\n",
      "Processing i =  173  out of  336\n",
      "Processing i =  174  out of  336\n",
      "Processing i =  175  out of  336\n",
      "Processing i =  176  out of  336\n",
      "Processing i =  177  out of  336\n",
      "Processing i =  178  out of  336\n",
      "Processing i =  179  out of  336\n",
      "Processing i =  180  out of  336\n",
      "Processing i =  181  out of  336\n",
      "Processing i =  182  out of  336\n",
      "Processing i =  183  out of  336\n",
      "Processing i =  184  out of  336\n",
      "Processing i =  185  out of  336\n",
      "Processing i =  186  out of  336\n",
      "Processing i =  187  out of  336\n",
      "Processing i =  188  out of  336\n",
      "Processing i =  189  out of  336\n",
      "Processing i =  190  out of  336\n",
      "Processing i =  191  out of  336\n",
      "Processing i =  192  out of  336\n",
      "Processing i =  193  out of  336\n",
      "Processing i =  194  out of  336\n",
      "Processing i =  195  out of  336\n",
      "Processing i =  196  out of  336\n",
      "Processing i =  197  out of  336\n",
      "Processing i =  198  out of  336\n",
      "Processing i =  199  out of  336\n",
      "Processing i =  200  out of  336\n",
      "Processing i =  201  out of  336\n",
      "Processing i =  202  out of  336\n",
      "Processing i =  203  out of  336\n",
      "Processing i =  204  out of  336\n",
      "Processing i =  205  out of  336\n",
      "Processing i =  206  out of  336\n",
      "Processing i =  207  out of  336\n",
      "Processing i =  208  out of  336\n",
      "Processing i =  209  out of  336\n",
      "Processing i =  210  out of  336\n",
      "Processing i =  211  out of  336\n",
      "Processing i =  212  out of  336\n",
      "Processing i =  213  out of  336\n",
      "Processing i =  214  out of  336\n",
      "Processing i =  215  out of  336\n",
      "Processing i =  216  out of  336\n",
      "Processing i =  217  out of  336\n",
      "Processing i =  218  out of  336\n",
      "Processing i =  219  out of  336\n",
      "Processing i =  220  out of  336\n",
      "Processing i =  221  out of  336\n",
      "Processing i =  222  out of  336\n",
      "Processing i =  223  out of  336\n",
      "Processing i =  224  out of  336\n",
      "Processing i =  225  out of  336\n",
      "Processing i =  226  out of  336\n",
      "Processing i =  227  out of  336\n",
      "Processing i =  228  out of  336\n",
      "Processing i =  229  out of  336\n",
      "Processing i =  230  out of  336\n",
      "Processing i =  231  out of  336\n",
      "Processing i =  232  out of  336\n",
      "Processing i =  233  out of  336\n",
      "Processing i =  234  out of  336\n",
      "Processing i =  235  out of  336\n",
      "Processing i =  236  out of  336\n",
      "Processing i =  237  out of  336\n",
      "Processing i =  238  out of  336\n",
      "Processing i =  239  out of  336\n",
      "Processing i =  240  out of  336\n",
      "Processing i =  241  out of  336\n",
      "Processing i =  242  out of  336\n",
      "Processing i =  243  out of  336\n",
      "Processing i =  244  out of  336\n",
      "Processing i =  245  out of  336\n",
      "Processing i =  246  out of  336\n",
      "Processing i =  247  out of  336\n",
      "Processing i =  248  out of  336\n",
      "Processing i =  249  out of  336\n",
      "Processing i =  250  out of  336\n",
      "Processing i =  251  out of  336\n",
      "Processing i =  252  out of  336\n",
      "Processing i =  253  out of  336\n",
      "Processing i =  254  out of  336\n",
      "Processing i =  255  out of  336\n",
      "Processing i =  256  out of  336\n",
      "Processing i =  257  out of  336\n",
      "Processing i =  258  out of  336\n",
      "Processing i =  259  out of  336\n",
      "Processing i =  260  out of  336\n",
      "Processing i =  261  out of  336\n",
      "Processing i =  262  out of  336\n",
      "Processing i =  263  out of  336\n",
      "Processing i =  264  out of  336\n",
      "Processing i =  265  out of  336\n",
      "Processing i =  266  out of  336\n",
      "Processing i =  267  out of  336\n",
      "Processing i =  268  out of  336\n",
      "Processing i =  269  out of  336\n",
      "Processing i =  270  out of  336\n",
      "Processing i =  271  out of  336\n",
      "Processing i =  272  out of  336\n",
      "Processing i =  273  out of  336\n",
      "Processing i =  274  out of  336\n",
      "Processing i =  275  out of  336\n",
      "Processing i =  276  out of  336\n",
      "Processing i =  277  out of  336\n",
      "Processing i =  278  out of  336\n",
      "Processing i =  279  out of  336\n",
      "Processing i =  280  out of  336\n",
      "Processing i =  281  out of  336\n",
      "Processing i =  282  out of  336\n",
      "Processing i =  283  out of  336\n",
      "Processing i =  284  out of  336\n",
      "Processing i =  285  out of  336\n",
      "Processing i =  286  out of  336\n",
      "Processing i =  287  out of  336\n",
      "Processing i =  288  out of  336\n",
      "Processing i =  289  out of  336\n",
      "Processing i =  290  out of  336\n",
      "Processing i =  291  out of  336\n",
      "Processing i =  292  out of  336\n",
      "Processing i =  293  out of  336\n",
      "Processing i =  294  out of  336\n",
      "Processing i =  295  out of  336\n",
      "Processing i =  296  out of  336\n",
      "Processing i =  297  out of  336\n",
      "Processing i =  298  out of  336\n",
      "Processing i =  299  out of  336\n",
      "Processing i =  300  out of  336\n",
      "Processing i =  301  out of  336\n",
      "Processing i =  302  out of  336\n",
      "Processing i =  303  out of  336\n",
      "Processing i =  304  out of  336\n",
      "Processing i =  305  out of  336\n",
      "Processing i =  306  out of  336\n",
      "Processing i =  307  out of  336\n",
      "Processing i =  308  out of  336\n",
      "Processing i =  309  out of  336\n",
      "Processing i =  310  out of  336\n",
      "Processing i =  311  out of  336\n",
      "Processing i =  312  out of  336\n",
      "Processing i =  313  out of  336\n",
      "Processing i =  314  out of  336\n",
      "Processing i =  315  out of  336\n",
      "Processing i =  316  out of  336\n",
      "Processing i =  317  out of  336\n",
      "Processing i =  318  out of  336\n",
      "Processing i =  319  out of  336\n",
      "Processing i =  320  out of  336\n",
      "Processing i =  321  out of  336\n",
      "Processing i =  322  out of  336\n",
      "Processing i =  323  out of  336\n",
      "Processing i =  324  out of  336\n",
      "Processing i =  325  out of  336\n",
      "Processing i =  326  out of  336\n",
      "Processing i =  327  out of  336\n",
      "Processing i =  328  out of  336\n",
      "Processing i =  329  out of  336\n",
      "Processing i =  330  out of  336\n",
      "Processing i =  331  out of  336\n",
      "Processing i =  332  out of  336\n",
      "Processing i =  333  out of  336\n",
      "Processing i =  334  out of  336\n",
      "Processing i =  335  out of  336\n",
      "Processing i =  336  out of  336\n",
      "\n",
      "Processing CV 8 / 10....\n",
      "Processing i =  1  out of  336\n",
      "Processing i =  2  out of  336\n",
      "Processing i =  3  out of  336\n",
      "Processing i =  4  out of  336\n",
      "Processing i =  5  out of  336\n",
      "Processing i =  6  out of  336\n",
      "Processing i =  7  out of  336\n",
      "Processing i =  8  out of  336\n",
      "Processing i =  9  out of  336\n",
      "Processing i =  10  out of  336\n",
      "Processing i =  11  out of  336\n",
      "Processing i =  12  out of  336\n",
      "Processing i =  13  out of  336\n",
      "Processing i =  14  out of  336\n",
      "Processing i =  15  out of  336\n",
      "Processing i =  16  out of  336\n",
      "Processing i =  17  out of  336\n",
      "Processing i =  18  out of  336\n",
      "Processing i =  19  out of  336\n",
      "Processing i =  20  out of  336\n",
      "Processing i =  21  out of  336\n",
      "Processing i =  22  out of  336\n",
      "Processing i =  23  out of  336\n",
      "Processing i =  24  out of  336\n",
      "Processing i =  25  out of  336\n",
      "Processing i =  26  out of  336\n",
      "Processing i =  27  out of  336\n",
      "Processing i =  28  out of  336\n",
      "Processing i =  29  out of  336\n",
      "Processing i =  30  out of  336\n",
      "Processing i =  31  out of  336\n",
      "Processing i =  32  out of  336\n",
      "Processing i =  33  out of  336\n",
      "Processing i =  34  out of  336\n",
      "Processing i =  35  out of  336\n",
      "Processing i =  36  out of  336\n",
      "Processing i =  37  out of  336\n",
      "Processing i =  38  out of  336\n",
      "Processing i =  39  out of  336\n",
      "Processing i =  40  out of  336\n",
      "Processing i =  41  out of  336\n",
      "Processing i =  42  out of  336\n",
      "Processing i =  43  out of  336\n",
      "Processing i =  44  out of  336\n",
      "Processing i =  45  out of  336\n",
      "Processing i =  46  out of  336\n",
      "Processing i =  47  out of  336\n",
      "Processing i =  48  out of  336\n",
      "Processing i =  49  out of  336\n",
      "Processing i =  50  out of  336\n",
      "Processing i =  51  out of  336\n",
      "Processing i =  52  out of  336\n",
      "Processing i =  53  out of  336\n",
      "Processing i =  54  out of  336\n",
      "Processing i =  55  out of  336\n",
      "Processing i =  56  out of  336\n",
      "Processing i =  57  out of  336\n",
      "Processing i =  58  out of  336\n",
      "Processing i =  59  out of  336\n",
      "Processing i =  60  out of  336\n",
      "Processing i =  61  out of  336\n",
      "Processing i =  62  out of  336\n",
      "Processing i =  63  out of  336\n",
      "Processing i =  64  out of  336\n",
      "Processing i =  65  out of  336\n",
      "Processing i =  66  out of  336\n",
      "Processing i =  67  out of  336\n",
      "Processing i =  68  out of  336\n",
      "Processing i =  69  out of  336\n",
      "Processing i =  70  out of  336\n",
      "Processing i =  71  out of  336\n",
      "Processing i =  72  out of  336\n",
      "Processing i =  73  out of  336\n",
      "Processing i =  74  out of  336\n",
      "Processing i =  75  out of  336\n",
      "Processing i =  76  out of  336\n",
      "Processing i =  77  out of  336\n",
      "Processing i =  78  out of  336\n",
      "Processing i =  79  out of  336\n",
      "Processing i =  80  out of  336\n",
      "Processing i =  81  out of  336\n",
      "Processing i =  82  out of  336\n",
      "Processing i =  83  out of  336\n",
      "Processing i =  84  out of  336\n",
      "Processing i =  85  out of  336\n",
      "Processing i =  86  out of  336\n",
      "Processing i =  87  out of  336\n",
      "Processing i =  88  out of  336\n",
      "Processing i =  89  out of  336\n",
      "Processing i =  90  out of  336\n",
      "Processing i =  91  out of  336\n",
      "Processing i =  92  out of  336\n",
      "Processing i =  93  out of  336\n",
      "Processing i =  94  out of  336\n",
      "Processing i =  95  out of  336\n",
      "Processing i =  96  out of  336\n",
      "Processing i =  97  out of  336\n",
      "Processing i =  98  out of  336\n",
      "Processing i =  99  out of  336\n",
      "Processing i =  100  out of  336\n",
      "Processing i =  101  out of  336\n",
      "Processing i =  102  out of  336\n",
      "Processing i =  103  out of  336\n",
      "Processing i =  104  out of  336\n",
      "Processing i =  105  out of  336\n",
      "Processing i =  106  out of  336\n",
      "Processing i =  107  out of  336\n",
      "Processing i =  108  out of  336\n",
      "Processing i =  109  out of  336\n",
      "Processing i =  110  out of  336\n",
      "Processing i =  111  out of  336\n",
      "Processing i =  112  out of  336\n",
      "Processing i =  113  out of  336\n",
      "Processing i =  114  out of  336\n",
      "Processing i =  115  out of  336\n",
      "Processing i =  116  out of  336\n",
      "Processing i =  117  out of  336\n",
      "Processing i =  118  out of  336\n",
      "Processing i =  119  out of  336\n",
      "Processing i =  120  out of  336\n",
      "Processing i =  121  out of  336\n",
      "Processing i =  122  out of  336\n",
      "Processing i =  123  out of  336\n",
      "Processing i =  124  out of  336\n",
      "Processing i =  125  out of  336\n",
      "Processing i =  126  out of  336\n",
      "Processing i =  127  out of  336\n",
      "Processing i =  128  out of  336\n",
      "Processing i =  129  out of  336\n",
      "Processing i =  130  out of  336\n",
      "Processing i =  131  out of  336\n",
      "Processing i =  132  out of  336\n",
      "Processing i =  133  out of  336\n",
      "Processing i =  134  out of  336\n",
      "Processing i =  135  out of  336\n",
      "Processing i =  136  out of  336\n",
      "Processing i =  137  out of  336\n",
      "Processing i =  138  out of  336\n",
      "Processing i =  139  out of  336\n",
      "Processing i =  140  out of  336\n",
      "Processing i =  141  out of  336\n",
      "Processing i =  142  out of  336\n",
      "Processing i =  143  out of  336\n",
      "Processing i =  144  out of  336\n",
      "Processing i =  145  out of  336\n",
      "Processing i =  146  out of  336\n",
      "Processing i =  147  out of  336\n",
      "Processing i =  148  out of  336\n",
      "Processing i =  149  out of  336\n",
      "Processing i =  150  out of  336\n",
      "Processing i =  151  out of  336\n",
      "Processing i =  152  out of  336\n",
      "Processing i =  153  out of  336\n",
      "Processing i =  154  out of  336\n",
      "Processing i =  155  out of  336\n",
      "Processing i =  156  out of  336\n",
      "Processing i =  157  out of  336\n",
      "Processing i =  158  out of  336\n",
      "Processing i =  159  out of  336\n",
      "Processing i =  160  out of  336\n",
      "Processing i =  161  out of  336\n",
      "Processing i =  162  out of  336\n",
      "Processing i =  163  out of  336\n",
      "Processing i =  164  out of  336\n",
      "Processing i =  165  out of  336\n",
      "Processing i =  166  out of  336\n",
      "Processing i =  167  out of  336\n",
      "Processing i =  168  out of  336\n",
      "Processing i =  169  out of  336\n",
      "Processing i =  170  out of  336\n",
      "Processing i =  171  out of  336\n",
      "Processing i =  172  out of  336\n",
      "Processing i =  173  out of  336\n",
      "Processing i =  174  out of  336\n",
      "Processing i =  175  out of  336\n",
      "Processing i =  176  out of  336\n",
      "Processing i =  177  out of  336\n",
      "Processing i =  178  out of  336\n",
      "Processing i =  179  out of  336\n",
      "Processing i =  180  out of  336\n",
      "Processing i =  181  out of  336\n",
      "Processing i =  182  out of  336\n",
      "Processing i =  183  out of  336\n",
      "Processing i =  184  out of  336\n",
      "Processing i =  185  out of  336\n",
      "Processing i =  186  out of  336\n",
      "Processing i =  187  out of  336\n",
      "Processing i =  188  out of  336\n",
      "Processing i =  189  out of  336\n",
      "Processing i =  190  out of  336\n",
      "Processing i =  191  out of  336\n",
      "Processing i =  192  out of  336\n",
      "Processing i =  193  out of  336\n",
      "Processing i =  194  out of  336\n",
      "Processing i =  195  out of  336\n",
      "Processing i =  196  out of  336\n",
      "Processing i =  197  out of  336\n",
      "Processing i =  198  out of  336\n",
      "Processing i =  199  out of  336\n",
      "Processing i =  200  out of  336\n",
      "Processing i =  201  out of  336\n",
      "Processing i =  202  out of  336\n",
      "Processing i =  203  out of  336\n",
      "Processing i =  204  out of  336\n",
      "Processing i =  205  out of  336\n",
      "Processing i =  206  out of  336\n",
      "Processing i =  207  out of  336\n",
      "Processing i =  208  out of  336\n",
      "Processing i =  209  out of  336\n",
      "Processing i =  210  out of  336\n",
      "Processing i =  211  out of  336\n",
      "Processing i =  212  out of  336\n",
      "Processing i =  213  out of  336\n",
      "Processing i =  214  out of  336\n",
      "Processing i =  215  out of  336\n",
      "Processing i =  216  out of  336\n",
      "Processing i =  217  out of  336\n",
      "Processing i =  218  out of  336\n",
      "Processing i =  219  out of  336\n",
      "Processing i =  220  out of  336\n",
      "Processing i =  221  out of  336\n",
      "Processing i =  222  out of  336\n",
      "Processing i =  223  out of  336\n",
      "Processing i =  224  out of  336\n",
      "Processing i =  225  out of  336\n",
      "Processing i =  226  out of  336\n",
      "Processing i =  227  out of  336\n",
      "Processing i =  228  out of  336\n",
      "Processing i =  229  out of  336\n",
      "Processing i =  230  out of  336\n",
      "Processing i =  231  out of  336\n",
      "Processing i =  232  out of  336\n",
      "Processing i =  233  out of  336\n",
      "Processing i =  234  out of  336\n",
      "Processing i =  235  out of  336\n",
      "Processing i =  236  out of  336\n",
      "Processing i =  237  out of  336\n",
      "Processing i =  238  out of  336\n",
      "Processing i =  239  out of  336\n",
      "Processing i =  240  out of  336\n",
      "Processing i =  241  out of  336\n",
      "Processing i =  242  out of  336\n",
      "Processing i =  243  out of  336\n",
      "Processing i =  244  out of  336\n",
      "Processing i =  245  out of  336\n",
      "Processing i =  246  out of  336\n",
      "Processing i =  247  out of  336\n",
      "Processing i =  248  out of  336\n",
      "Processing i =  249  out of  336\n",
      "Processing i =  250  out of  336\n",
      "Processing i =  251  out of  336\n",
      "Processing i =  252  out of  336\n",
      "Processing i =  253  out of  336\n",
      "Processing i =  254  out of  336\n",
      "Processing i =  255  out of  336\n",
      "Processing i =  256  out of  336\n",
      "Processing i =  257  out of  336\n",
      "Processing i =  258  out of  336\n",
      "Processing i =  259  out of  336\n",
      "Processing i =  260  out of  336\n",
      "Processing i =  261  out of  336\n",
      "Processing i =  262  out of  336\n",
      "Processing i =  263  out of  336\n",
      "Processing i =  264  out of  336\n",
      "Processing i =  265  out of  336\n",
      "Processing i =  266  out of  336\n",
      "Processing i =  267  out of  336\n",
      "Processing i =  268  out of  336\n",
      "Processing i =  269  out of  336\n",
      "Processing i =  270  out of  336\n",
      "Processing i =  271  out of  336\n",
      "Processing i =  272  out of  336\n",
      "Processing i =  273  out of  336\n",
      "Processing i =  274  out of  336\n",
      "Processing i =  275  out of  336\n",
      "Processing i =  276  out of  336\n",
      "Processing i =  277  out of  336\n",
      "Processing i =  278  out of  336\n",
      "Processing i =  279  out of  336\n",
      "Processing i =  280  out of  336\n",
      "Processing i =  281  out of  336\n",
      "Processing i =  282  out of  336\n",
      "Processing i =  283  out of  336\n",
      "Processing i =  284  out of  336\n",
      "Processing i =  285  out of  336\n",
      "Processing i =  286  out of  336\n",
      "Processing i =  287  out of  336\n",
      "Processing i =  288  out of  336\n",
      "Processing i =  289  out of  336\n",
      "Processing i =  290  out of  336\n",
      "Processing i =  291  out of  336\n",
      "Processing i =  292  out of  336\n",
      "Processing i =  293  out of  336\n",
      "Processing i =  294  out of  336\n",
      "Processing i =  295  out of  336\n",
      "Processing i =  296  out of  336\n",
      "Processing i =  297  out of  336\n",
      "Processing i =  298  out of  336\n",
      "Processing i =  299  out of  336\n",
      "Processing i =  300  out of  336\n",
      "Processing i =  301  out of  336\n",
      "Processing i =  302  out of  336\n",
      "Processing i =  303  out of  336\n",
      "Processing i =  304  out of  336\n",
      "Processing i =  305  out of  336\n",
      "Processing i =  306  out of  336\n",
      "Processing i =  307  out of  336\n",
      "Processing i =  308  out of  336\n",
      "Processing i =  309  out of  336\n",
      "Processing i =  310  out of  336\n",
      "Processing i =  311  out of  336\n",
      "Processing i =  312  out of  336\n",
      "Processing i =  313  out of  336\n",
      "Processing i =  314  out of  336\n",
      "Processing i =  315  out of  336\n",
      "Processing i =  316  out of  336\n",
      "Processing i =  317  out of  336\n",
      "Processing i =  318  out of  336\n",
      "Processing i =  319  out of  336\n",
      "Processing i =  320  out of  336\n",
      "Processing i =  321  out of  336\n",
      "Processing i =  322  out of  336\n",
      "Processing i =  323  out of  336\n",
      "Processing i =  324  out of  336\n",
      "Processing i =  325  out of  336\n",
      "Processing i =  326  out of  336\n",
      "Processing i =  327  out of  336\n",
      "Processing i =  328  out of  336\n",
      "Processing i =  329  out of  336\n",
      "Processing i =  330  out of  336\n",
      "Processing i =  331  out of  336\n",
      "Processing i =  332  out of  336\n",
      "Processing i =  333  out of  336\n",
      "Processing i =  334  out of  336\n",
      "Processing i =  335  out of  336\n",
      "Processing i =  336  out of  336\n",
      "\n",
      "Processing CV 9 / 10....\n",
      "Processing i =  1  out of  336\n",
      "Processing i =  2  out of  336\n",
      "Processing i =  3  out of  336\n",
      "Processing i =  4  out of  336\n",
      "Processing i =  5  out of  336\n",
      "Processing i =  6  out of  336\n",
      "Processing i =  7  out of  336\n",
      "Processing i =  8  out of  336\n",
      "Processing i =  9  out of  336\n",
      "Processing i =  10  out of  336\n",
      "Processing i =  11  out of  336\n",
      "Processing i =  12  out of  336\n",
      "Processing i =  13  out of  336\n",
      "Processing i =  14  out of  336\n",
      "Processing i =  15  out of  336\n",
      "Processing i =  16  out of  336\n",
      "Processing i =  17  out of  336\n",
      "Processing i =  18  out of  336\n",
      "Processing i =  19  out of  336\n",
      "Processing i =  20  out of  336\n",
      "Processing i =  21  out of  336\n",
      "Processing i =  22  out of  336\n",
      "Processing i =  23  out of  336\n",
      "Processing i =  24  out of  336\n",
      "Processing i =  25  out of  336\n",
      "Processing i =  26  out of  336\n",
      "Processing i =  27  out of  336\n",
      "Processing i =  28  out of  336\n",
      "Processing i =  29  out of  336\n",
      "Processing i =  30  out of  336\n",
      "Processing i =  31  out of  336\n",
      "Processing i =  32  out of  336\n",
      "Processing i =  33  out of  336\n",
      "Processing i =  34  out of  336\n",
      "Processing i =  35  out of  336\n",
      "Processing i =  36  out of  336\n",
      "Processing i =  37  out of  336\n",
      "Processing i =  38  out of  336\n",
      "Processing i =  39  out of  336\n",
      "Processing i =  40  out of  336\n",
      "Processing i =  41  out of  336\n",
      "Processing i =  42  out of  336\n",
      "Processing i =  43  out of  336\n",
      "Processing i =  44  out of  336\n",
      "Processing i =  45  out of  336\n",
      "Processing i =  46  out of  336\n",
      "Processing i =  47  out of  336\n",
      "Processing i =  48  out of  336\n",
      "Processing i =  49  out of  336\n",
      "Processing i =  50  out of  336\n",
      "Processing i =  51  out of  336\n",
      "Processing i =  52  out of  336\n",
      "Processing i =  53  out of  336\n",
      "Processing i =  54  out of  336\n",
      "Processing i =  55  out of  336\n",
      "Processing i =  56  out of  336\n",
      "Processing i =  57  out of  336\n",
      "Processing i =  58  out of  336\n",
      "Processing i =  59  out of  336\n",
      "Processing i =  60  out of  336\n",
      "Processing i =  61  out of  336\n",
      "Processing i =  62  out of  336\n",
      "Processing i =  63  out of  336\n",
      "Processing i =  64  out of  336\n",
      "Processing i =  65  out of  336\n",
      "Processing i =  66  out of  336\n",
      "Processing i =  67  out of  336\n",
      "Processing i =  68  out of  336\n",
      "Processing i =  69  out of  336\n",
      "Processing i =  70  out of  336\n",
      "Processing i =  71  out of  336\n",
      "Processing i =  72  out of  336\n",
      "Processing i =  73  out of  336\n",
      "Processing i =  74  out of  336\n",
      "Processing i =  75  out of  336\n",
      "Processing i =  76  out of  336\n",
      "Processing i =  77  out of  336\n",
      "Processing i =  78  out of  336\n",
      "Processing i =  79  out of  336\n",
      "Processing i =  80  out of  336\n",
      "Processing i =  81  out of  336\n",
      "Processing i =  82  out of  336\n",
      "Processing i =  83  out of  336\n",
      "Processing i =  84  out of  336\n",
      "Processing i =  85  out of  336\n",
      "Processing i =  86  out of  336\n",
      "Processing i =  87  out of  336\n",
      "Processing i =  88  out of  336\n",
      "Processing i =  89  out of  336\n",
      "Processing i =  90  out of  336\n",
      "Processing i =  91  out of  336\n",
      "Processing i =  92  out of  336\n",
      "Processing i =  93  out of  336\n",
      "Processing i =  94  out of  336\n",
      "Processing i =  95  out of  336\n",
      "Processing i =  96  out of  336\n",
      "Processing i =  97  out of  336\n",
      "Processing i =  98  out of  336\n",
      "Processing i =  99  out of  336\n",
      "Processing i =  100  out of  336\n",
      "Processing i =  101  out of  336\n",
      "Processing i =  102  out of  336\n",
      "Processing i =  103  out of  336\n",
      "Processing i =  104  out of  336\n",
      "Processing i =  105  out of  336\n",
      "Processing i =  106  out of  336\n",
      "Processing i =  107  out of  336\n",
      "Processing i =  108  out of  336\n",
      "Processing i =  109  out of  336\n",
      "Processing i =  110  out of  336\n",
      "Processing i =  111  out of  336\n",
      "Processing i =  112  out of  336\n",
      "Processing i =  113  out of  336\n",
      "Processing i =  114  out of  336\n",
      "Processing i =  115  out of  336\n",
      "Processing i =  116  out of  336\n",
      "Processing i =  117  out of  336\n",
      "Processing i =  118  out of  336\n",
      "Processing i =  119  out of  336\n",
      "Processing i =  120  out of  336\n",
      "Processing i =  121  out of  336\n",
      "Processing i =  122  out of  336\n",
      "Processing i =  123  out of  336\n",
      "Processing i =  124  out of  336\n",
      "Processing i =  125  out of  336\n",
      "Processing i =  126  out of  336\n",
      "Processing i =  127  out of  336\n",
      "Processing i =  128  out of  336\n",
      "Processing i =  129  out of  336\n",
      "Processing i =  130  out of  336\n",
      "Processing i =  131  out of  336\n",
      "Processing i =  132  out of  336\n",
      "Processing i =  133  out of  336\n",
      "Processing i =  134  out of  336\n",
      "Processing i =  135  out of  336\n",
      "Processing i =  136  out of  336\n",
      "Processing i =  137  out of  336\n",
      "Processing i =  138  out of  336\n",
      "Processing i =  139  out of  336\n",
      "Processing i =  140  out of  336\n",
      "Processing i =  141  out of  336\n",
      "Processing i =  142  out of  336\n",
      "Processing i =  143  out of  336\n",
      "Processing i =  144  out of  336\n",
      "Processing i =  145  out of  336\n",
      "Processing i =  146  out of  336\n",
      "Processing i =  147  out of  336\n",
      "Processing i =  148  out of  336\n",
      "Processing i =  149  out of  336\n",
      "Processing i =  150  out of  336\n",
      "Processing i =  151  out of  336\n",
      "Processing i =  152  out of  336\n",
      "Processing i =  153  out of  336\n",
      "Processing i =  154  out of  336\n",
      "Processing i =  155  out of  336\n",
      "Processing i =  156  out of  336\n",
      "Processing i =  157  out of  336\n",
      "Processing i =  158  out of  336\n",
      "Processing i =  159  out of  336\n",
      "Processing i =  160  out of  336\n",
      "Processing i =  161  out of  336\n",
      "Processing i =  162  out of  336\n",
      "Processing i =  163  out of  336\n",
      "Processing i =  164  out of  336\n",
      "Processing i =  165  out of  336\n",
      "Processing i =  166  out of  336\n",
      "Processing i =  167  out of  336\n",
      "Processing i =  168  out of  336\n",
      "Processing i =  169  out of  336\n",
      "Processing i =  170  out of  336\n",
      "Processing i =  171  out of  336\n",
      "Processing i =  172  out of  336\n",
      "Processing i =  173  out of  336\n",
      "Processing i =  174  out of  336\n",
      "Processing i =  175  out of  336\n",
      "Processing i =  176  out of  336\n",
      "Processing i =  177  out of  336\n",
      "Processing i =  178  out of  336\n",
      "Processing i =  179  out of  336\n",
      "Processing i =  180  out of  336\n",
      "Processing i =  181  out of  336\n",
      "Processing i =  182  out of  336\n",
      "Processing i =  183  out of  336\n",
      "Processing i =  184  out of  336\n",
      "Processing i =  185  out of  336\n",
      "Processing i =  186  out of  336\n",
      "Processing i =  187  out of  336\n",
      "Processing i =  188  out of  336\n",
      "Processing i =  189  out of  336\n",
      "Processing i =  190  out of  336\n",
      "Processing i =  191  out of  336\n",
      "Processing i =  192  out of  336\n",
      "Processing i =  193  out of  336\n",
      "Processing i =  194  out of  336\n",
      "Processing i =  195  out of  336\n",
      "Processing i =  196  out of  336\n",
      "Processing i =  197  out of  336\n",
      "Processing i =  198  out of  336\n",
      "Processing i =  199  out of  336\n",
      "Processing i =  200  out of  336\n",
      "Processing i =  201  out of  336\n",
      "Processing i =  202  out of  336\n",
      "Processing i =  203  out of  336\n",
      "Processing i =  204  out of  336\n",
      "Processing i =  205  out of  336\n",
      "Processing i =  206  out of  336\n",
      "Processing i =  207  out of  336\n",
      "Processing i =  208  out of  336\n",
      "Processing i =  209  out of  336\n",
      "Processing i =  210  out of  336\n",
      "Processing i =  211  out of  336\n",
      "Processing i =  212  out of  336\n",
      "Processing i =  213  out of  336\n",
      "Processing i =  214  out of  336\n",
      "Processing i =  215  out of  336\n",
      "Processing i =  216  out of  336\n",
      "Processing i =  217  out of  336\n",
      "Processing i =  218  out of  336\n",
      "Processing i =  219  out of  336\n",
      "Processing i =  220  out of  336\n",
      "Processing i =  221  out of  336\n",
      "Processing i =  222  out of  336\n",
      "Processing i =  223  out of  336\n",
      "Processing i =  224  out of  336\n",
      "Processing i =  225  out of  336\n",
      "Processing i =  226  out of  336\n",
      "Processing i =  227  out of  336\n",
      "Processing i =  228  out of  336\n",
      "Processing i =  229  out of  336\n",
      "Processing i =  230  out of  336\n",
      "Processing i =  231  out of  336\n",
      "Processing i =  232  out of  336\n",
      "Processing i =  233  out of  336\n",
      "Processing i =  234  out of  336\n",
      "Processing i =  235  out of  336\n",
      "Processing i =  236  out of  336\n",
      "Processing i =  237  out of  336\n",
      "Processing i =  238  out of  336\n",
      "Processing i =  239  out of  336\n",
      "Processing i =  240  out of  336\n",
      "Processing i =  241  out of  336\n",
      "Processing i =  242  out of  336\n",
      "Processing i =  243  out of  336\n",
      "Processing i =  244  out of  336\n",
      "Processing i =  245  out of  336\n",
      "Processing i =  246  out of  336\n",
      "Processing i =  247  out of  336\n",
      "Processing i =  248  out of  336\n",
      "Processing i =  249  out of  336\n",
      "Processing i =  250  out of  336\n",
      "Processing i =  251  out of  336\n",
      "Processing i =  252  out of  336\n",
      "Processing i =  253  out of  336\n",
      "Processing i =  254  out of  336\n",
      "Processing i =  255  out of  336\n",
      "Processing i =  256  out of  336\n",
      "Processing i =  257  out of  336\n",
      "Processing i =  258  out of  336\n",
      "Processing i =  259  out of  336\n",
      "Processing i =  260  out of  336\n",
      "Processing i =  261  out of  336\n",
      "Processing i =  262  out of  336\n",
      "Processing i =  263  out of  336\n",
      "Processing i =  264  out of  336\n",
      "Processing i =  265  out of  336\n",
      "Processing i =  266  out of  336\n",
      "Processing i =  267  out of  336\n",
      "Processing i =  268  out of  336\n",
      "Processing i =  269  out of  336\n",
      "Processing i =  270  out of  336\n",
      "Processing i =  271  out of  336\n",
      "Processing i =  272  out of  336\n",
      "Processing i =  273  out of  336\n",
      "Processing i =  274  out of  336\n",
      "Processing i =  275  out of  336\n",
      "Processing i =  276  out of  336\n",
      "Processing i =  277  out of  336\n",
      "Processing i =  278  out of  336\n",
      "Processing i =  279  out of  336\n",
      "Processing i =  280  out of  336\n",
      "Processing i =  281  out of  336\n",
      "Processing i =  282  out of  336\n",
      "Processing i =  283  out of  336\n",
      "Processing i =  284  out of  336\n",
      "Processing i =  285  out of  336\n",
      "Processing i =  286  out of  336\n",
      "Processing i =  287  out of  336\n",
      "Processing i =  288  out of  336\n",
      "Processing i =  289  out of  336\n",
      "Processing i =  290  out of  336\n",
      "Processing i =  291  out of  336\n",
      "Processing i =  292  out of  336\n",
      "Processing i =  293  out of  336\n",
      "Processing i =  294  out of  336\n",
      "Processing i =  295  out of  336\n",
      "Processing i =  296  out of  336\n",
      "Processing i =  297  out of  336\n",
      "Processing i =  298  out of  336\n",
      "Processing i =  299  out of  336\n",
      "Processing i =  300  out of  336\n",
      "Processing i =  301  out of  336\n",
      "Processing i =  302  out of  336\n",
      "Processing i =  303  out of  336\n",
      "Processing i =  304  out of  336\n",
      "Processing i =  305  out of  336\n",
      "Processing i =  306  out of  336\n",
      "Processing i =  307  out of  336\n",
      "Processing i =  308  out of  336\n",
      "Processing i =  309  out of  336\n",
      "Processing i =  310  out of  336\n",
      "Processing i =  311  out of  336\n",
      "Processing i =  312  out of  336\n",
      "Processing i =  313  out of  336\n",
      "Processing i =  314  out of  336\n",
      "Processing i =  315  out of  336\n",
      "Processing i =  316  out of  336\n",
      "Processing i =  317  out of  336\n",
      "Processing i =  318  out of  336\n",
      "Processing i =  319  out of  336\n",
      "Processing i =  320  out of  336\n",
      "Processing i =  321  out of  336\n",
      "Processing i =  322  out of  336\n",
      "Processing i =  323  out of  336\n",
      "Processing i =  324  out of  336\n",
      "Processing i =  325  out of  336\n",
      "Processing i =  326  out of  336\n",
      "Processing i =  327  out of  336\n",
      "Processing i =  328  out of  336\n",
      "Processing i =  329  out of  336\n",
      "Processing i =  330  out of  336\n",
      "Processing i =  331  out of  336\n",
      "Processing i =  332  out of  336\n",
      "Processing i =  333  out of  336\n",
      "Processing i =  334  out of  336\n",
      "Processing i =  335  out of  336\n",
      "Processing i =  336  out of  336\n",
      "\n",
      "Processing CV 10 / 10....\n",
      "Test set is before train set / CV 10, no test forecast can be made\n",
      "\n",
      "Running m6_lr with hyperparameter hp1 on ds0_test.csv for forecast horizon 30\n",
      "Pass Test 1 - Forecast horizon is >= dataset frequency\n",
      "Pass Test 2 - Hyperparameter choice is possible given the forecast horizon\n",
      "Processing CV 1 / 10....\n",
      "\n",
      "Processing CV 2 / 10....\n",
      "\n",
      "Processing CV 3 / 10....\n",
      "\n",
      "Processing CV 4 / 10....\n",
      "\n",
      "Processing CV 5 / 10....\n",
      "\n",
      "Processing CV 6 / 10....\n",
      "\n",
      "Processing CV 7 / 10....\n",
      "\n",
      "Processing CV 8 / 10....\n",
      "\n",
      "Processing CV 9 / 10....\n",
      "\n",
      "Processing CV 10 / 10....\n",
      "\n",
      "Running m7_ann with hyperparameter hp1 on ds0_test.csv for forecast horizon 30\n",
      "Pass Test 1 - Forecast horizon is >= dataset frequency\n",
      "Pass Test 2 - Hyperparameter choice is possible given the forecast horizon\n",
      "Processing CV 1 / 10....\n",
      "Epoch [1/500], Loss: 22710.0098\n",
      "Epoch [11/500], Loss: 5534.9204\n",
      "Epoch [21/500], Loss: 5733.6089\n",
      "Epoch [31/500], Loss: 4107.8716\n",
      "Epoch [41/500], Loss: 3577.7024\n",
      "Epoch [51/500], Loss: 3236.7026\n",
      "Epoch [61/500], Loss: 2932.7388\n",
      "Epoch [71/500], Loss: 2714.8147\n",
      "Epoch [81/500], Loss: 2529.8271\n",
      "Epoch [91/500], Loss: 2369.4802\n",
      "Epoch [101/500], Loss: 2233.1858\n",
      "Epoch [111/500], Loss: 2117.1953\n",
      "Epoch [121/500], Loss: 2016.9008\n",
      "Epoch [131/500], Loss: 1928.7510\n",
      "Epoch [141/500], Loss: 1850.2355\n",
      "Epoch [151/500], Loss: 1779.1351\n",
      "Epoch [161/500], Loss: 1713.9563\n",
      "Epoch [171/500], Loss: 1653.6333\n",
      "Epoch [181/500], Loss: 1597.4712\n",
      "Epoch [191/500], Loss: 1545.0071\n",
      "Epoch [201/500], Loss: 1495.8800\n",
      "Epoch [211/500], Loss: 1449.5734\n",
      "Epoch [221/500], Loss: 1405.8629\n",
      "Epoch [231/500], Loss: 1364.7190\n",
      "Epoch [241/500], Loss: 1325.8513\n",
      "Epoch [251/500], Loss: 1288.9910\n",
      "Epoch [261/500], Loss: 1253.8036\n",
      "Epoch [271/500], Loss: 1220.3326\n",
      "Epoch [281/500], Loss: 1188.1191\n",
      "Epoch [291/500], Loss: 1157.2770\n",
      "Epoch [301/500], Loss: 1129.0596\n",
      "Epoch [311/500], Loss: 1133.4945\n",
      "Epoch [321/500], Loss: 1075.7100\n",
      "Epoch [331/500], Loss: 1054.7362\n",
      "Epoch [341/500], Loss: 1026.6892\n",
      "Epoch [351/500], Loss: 1002.5417\n",
      "Epoch [361/500], Loss: 978.8516\n",
      "Epoch [371/500], Loss: 955.6329\n",
      "Epoch [381/500], Loss: 936.2141\n",
      "Epoch [391/500], Loss: 916.8022\n",
      "Epoch [401/500], Loss: 897.7421\n",
      "Epoch [411/500], Loss: 878.7647\n",
      "Epoch [421/500], Loss: 862.8093\n",
      "Epoch [431/500], Loss: 846.4760\n",
      "Epoch [441/500], Loss: 830.4816\n",
      "Epoch [451/500], Loss: 815.2747\n",
      "Epoch [461/500], Loss: 808.4737\n",
      "Epoch [471/500], Loss: 786.7043\n",
      "Epoch [481/500], Loss: 786.3698\n",
      "Epoch [491/500], Loss: 762.0126\n",
      "\n",
      "Processing CV 2 / 10....\n",
      "Epoch [1/500], Loss: 22906.7461\n",
      "Epoch [11/500], Loss: 5425.4272\n",
      "Epoch [21/500], Loss: 5247.1553\n",
      "Epoch [31/500], Loss: 3775.3154\n",
      "Epoch [41/500], Loss: 3197.7856\n",
      "Epoch [51/500], Loss: 2948.5754\n",
      "Epoch [61/500], Loss: 2698.3281\n",
      "Epoch [71/500], Loss: 2501.8638\n",
      "Epoch [81/500], Loss: 2339.7183\n",
      "Epoch [91/500], Loss: 2201.5725\n",
      "Epoch [101/500], Loss: 2087.4709\n",
      "Epoch [111/500], Loss: 1992.3671\n",
      "Epoch [121/500], Loss: 1911.8124\n",
      "Epoch [131/500], Loss: 1841.7716\n",
      "Epoch [141/500], Loss: 1779.7181\n",
      "Epoch [151/500], Loss: 1723.5868\n",
      "Epoch [161/500], Loss: 1671.8363\n",
      "Epoch [171/500], Loss: 1622.8528\n",
      "Epoch [181/500], Loss: 1576.4081\n",
      "Epoch [191/500], Loss: 1532.0929\n",
      "Epoch [201/500], Loss: 1490.1162\n",
      "Epoch [211/500], Loss: 1450.1226\n",
      "Epoch [221/500], Loss: 1411.7588\n",
      "Epoch [231/500], Loss: 1374.9463\n",
      "Epoch [241/500], Loss: 1339.5872\n",
      "Epoch [251/500], Loss: 1305.8190\n",
      "Epoch [261/500], Loss: 1273.6444\n",
      "Epoch [271/500], Loss: 1242.9636\n",
      "Epoch [281/500], Loss: 1213.5129\n",
      "Epoch [291/500], Loss: 1185.0078\n",
      "Epoch [301/500], Loss: 1157.6067\n",
      "Epoch [311/500], Loss: 1131.1760\n",
      "Epoch [321/500], Loss: 1105.7194\n",
      "Epoch [331/500], Loss: 1081.1836\n",
      "Epoch [341/500], Loss: 1057.5164\n",
      "Epoch [351/500], Loss: 1036.8285\n",
      "Epoch [361/500], Loss: 1055.3922\n",
      "Epoch [371/500], Loss: 994.1668\n",
      "Epoch [381/500], Loss: 976.7807\n",
      "Epoch [391/500], Loss: 956.4494\n",
      "Epoch [401/500], Loss: 937.7939\n",
      "Epoch [411/500], Loss: 919.7731\n",
      "Epoch [421/500], Loss: 902.7509\n",
      "Epoch [431/500], Loss: 886.2013\n",
      "Epoch [441/500], Loss: 870.2706\n",
      "Epoch [451/500], Loss: 854.9981\n",
      "Epoch [461/500], Loss: 846.5372\n",
      "Epoch [471/500], Loss: 836.0289\n",
      "Epoch [481/500], Loss: 813.1922\n",
      "Epoch [491/500], Loss: 800.6112\n",
      "\n",
      "Processing CV 3 / 10....\n",
      "Epoch [1/500], Loss: 22454.0156\n",
      "Epoch [11/500], Loss: 5838.6953\n",
      "Epoch [21/500], Loss: 5646.2109\n",
      "Epoch [31/500], Loss: 4086.1753\n",
      "Epoch [41/500], Loss: 3559.2153\n",
      "Epoch [51/500], Loss: 3274.2043\n",
      "Epoch [61/500], Loss: 2988.9773\n",
      "Epoch [71/500], Loss: 2762.3135\n",
      "Epoch [81/500], Loss: 2569.9500\n",
      "Epoch [91/500], Loss: 2405.6636\n",
      "Epoch [101/500], Loss: 2267.5193\n",
      "Epoch [111/500], Loss: 2150.8188\n",
      "Epoch [121/500], Loss: 2051.5330\n",
      "Epoch [131/500], Loss: 1965.7614\n",
      "Epoch [141/500], Loss: 1889.7043\n",
      "Epoch [151/500], Loss: 1820.6376\n",
      "Epoch [161/500], Loss: 1756.6223\n",
      "Epoch [171/500], Loss: 1696.9618\n",
      "Epoch [181/500], Loss: 1640.6964\n",
      "Epoch [191/500], Loss: 1587.4901\n",
      "Epoch [201/500], Loss: 1537.1442\n",
      "Epoch [211/500], Loss: 1489.7072\n",
      "Epoch [221/500], Loss: 1444.9584\n",
      "Epoch [231/500], Loss: 1403.0396\n",
      "Epoch [241/500], Loss: 1363.4602\n",
      "Epoch [251/500], Loss: 1325.7571\n",
      "Epoch [261/500], Loss: 1289.6293\n",
      "Epoch [271/500], Loss: 1255.1351\n",
      "Epoch [281/500], Loss: 1222.3433\n",
      "Epoch [291/500], Loss: 1191.4991\n",
      "Epoch [301/500], Loss: 1162.1570\n",
      "Epoch [311/500], Loss: 1134.1031\n",
      "Epoch [321/500], Loss: 1106.7167\n",
      "Epoch [331/500], Loss: 1142.3159\n",
      "Epoch [341/500], Loss: 1085.6393\n",
      "Epoch [351/500], Loss: 1046.9607\n",
      "Epoch [361/500], Loss: 1015.7728\n",
      "Epoch [371/500], Loss: 992.1875\n",
      "Epoch [381/500], Loss: 972.4073\n",
      "Epoch [391/500], Loss: 952.6270\n",
      "Epoch [401/500], Loss: 933.7255\n",
      "Epoch [411/500], Loss: 915.5518\n",
      "Epoch [421/500], Loss: 897.8957\n",
      "Epoch [431/500], Loss: 880.5676\n",
      "Epoch [441/500], Loss: 870.8341\n",
      "Epoch [451/500], Loss: 932.1494\n",
      "Epoch [461/500], Loss: 843.0958\n",
      "Epoch [471/500], Loss: 822.8841\n",
      "Epoch [481/500], Loss: 812.8132\n",
      "Epoch [491/500], Loss: 796.9977\n",
      "\n",
      "Processing CV 4 / 10....\n",
      "Epoch [1/500], Loss: 21944.7344\n",
      "Epoch [11/500], Loss: 5626.0762\n",
      "Epoch [21/500], Loss: 5410.9106\n",
      "Epoch [31/500], Loss: 3912.2295\n",
      "Epoch [41/500], Loss: 3352.2036\n",
      "Epoch [51/500], Loss: 3077.7073\n",
      "Epoch [61/500], Loss: 2811.3035\n",
      "Epoch [71/500], Loss: 2604.2239\n",
      "Epoch [81/500], Loss: 2430.9812\n",
      "Epoch [91/500], Loss: 2282.6008\n",
      "Epoch [101/500], Loss: 2156.5781\n",
      "Epoch [111/500], Loss: 2048.7622\n",
      "Epoch [121/500], Loss: 1955.5524\n",
      "Epoch [131/500], Loss: 1873.7007\n",
      "Epoch [141/500], Loss: 1800.8068\n",
      "Epoch [151/500], Loss: 1734.9197\n",
      "Epoch [161/500], Loss: 1674.7598\n",
      "Epoch [171/500], Loss: 1619.1359\n",
      "Epoch [181/500], Loss: 1567.3163\n",
      "Epoch [191/500], Loss: 1518.6674\n",
      "Epoch [201/500], Loss: 1472.6989\n",
      "Epoch [211/500], Loss: 1429.2280\n",
      "Epoch [221/500], Loss: 1388.0859\n",
      "Epoch [231/500], Loss: 1349.1615\n",
      "Epoch [241/500], Loss: 1312.2163\n",
      "Epoch [251/500], Loss: 1276.8467\n",
      "Epoch [261/500], Loss: 1243.2625\n",
      "Epoch [271/500], Loss: 1211.1569\n",
      "Epoch [281/500], Loss: 1180.4807\n",
      "Epoch [291/500], Loss: 1151.3846\n",
      "Epoch [301/500], Loss: 1131.2883\n",
      "Epoch [311/500], Loss: 1116.5277\n",
      "Epoch [321/500], Loss: 1075.4403\n",
      "Epoch [331/500], Loss: 1052.0375\n",
      "Epoch [341/500], Loss: 1028.0443\n",
      "Epoch [351/500], Loss: 1006.2325\n",
      "Epoch [361/500], Loss: 984.9944\n",
      "Epoch [371/500], Loss: 964.5858\n",
      "Epoch [381/500], Loss: 944.7632\n",
      "Epoch [391/500], Loss: 925.9646\n",
      "Epoch [401/500], Loss: 998.6276\n",
      "Epoch [411/500], Loss: 890.9403\n",
      "Epoch [421/500], Loss: 884.9427\n",
      "Epoch [431/500], Loss: 861.2681\n",
      "Epoch [441/500], Loss: 846.0852\n",
      "Epoch [451/500], Loss: 830.2548\n",
      "Epoch [461/500], Loss: 815.9940\n",
      "Epoch [471/500], Loss: 801.9977\n",
      "Epoch [481/500], Loss: 788.6356\n",
      "Epoch [491/500], Loss: 775.6375\n",
      "\n",
      "Processing CV 5 / 10....\n",
      "Epoch [1/500], Loss: 22224.0273\n",
      "Epoch [11/500], Loss: 5774.8657\n",
      "Epoch [21/500], Loss: 5412.0903\n",
      "Epoch [31/500], Loss: 3963.4136\n",
      "Epoch [41/500], Loss: 3442.1306\n",
      "Epoch [51/500], Loss: 3197.1418\n",
      "Epoch [61/500], Loss: 2932.3594\n",
      "Epoch [71/500], Loss: 2718.0002\n",
      "Epoch [81/500], Loss: 2537.5552\n",
      "Epoch [91/500], Loss: 2380.5959\n",
      "Epoch [101/500], Loss: 2245.9834\n",
      "Epoch [111/500], Loss: 2130.4746\n",
      "Epoch [121/500], Loss: 2030.7118\n",
      "Epoch [131/500], Loss: 1943.5209\n",
      "Epoch [141/500], Loss: 1865.5839\n",
      "Epoch [151/500], Loss: 1794.4948\n",
      "Epoch [161/500], Loss: 1728.6871\n",
      "Epoch [171/500], Loss: 1667.1072\n",
      "Epoch [181/500], Loss: 1609.5415\n",
      "Epoch [191/500], Loss: 1555.4739\n",
      "Epoch [201/500], Loss: 1504.6544\n",
      "Epoch [211/500], Loss: 1457.0370\n",
      "Epoch [221/500], Loss: 1412.3497\n",
      "Epoch [231/500], Loss: 1370.3009\n",
      "Epoch [241/500], Loss: 1330.4915\n",
      "Epoch [251/500], Loss: 1292.8831\n",
      "Epoch [261/500], Loss: 1257.1726\n",
      "Epoch [271/500], Loss: 1223.1923\n",
      "Epoch [281/500], Loss: 1190.8547\n",
      "Epoch [291/500], Loss: 1159.9597\n",
      "Epoch [301/500], Loss: 1130.3700\n",
      "Epoch [311/500], Loss: 1102.0295\n",
      "Epoch [321/500], Loss: 1074.8341\n",
      "Epoch [331/500], Loss: 1085.0580\n",
      "Epoch [341/500], Loss: 1061.9017\n",
      "Epoch [351/500], Loss: 1013.8832\n",
      "Epoch [361/500], Loss: 984.1461\n",
      "Epoch [371/500], Loss: 960.9578\n",
      "Epoch [381/500], Loss: 941.7432\n",
      "Epoch [391/500], Loss: 921.9004\n",
      "Epoch [401/500], Loss: 903.3316\n",
      "Epoch [411/500], Loss: 885.4240\n",
      "Epoch [421/500], Loss: 868.0826\n",
      "Epoch [431/500], Loss: 851.3141\n",
      "Epoch [441/500], Loss: 834.9955\n",
      "Epoch [451/500], Loss: 819.5676\n",
      "Epoch [461/500], Loss: 912.6548\n",
      "Epoch [471/500], Loss: 804.4398\n",
      "Epoch [481/500], Loss: 784.1908\n",
      "Epoch [491/500], Loss: 768.0247\n",
      "\n",
      "Processing CV 6 / 10....\n",
      "Epoch [1/500], Loss: 21996.2871\n",
      "Epoch [11/500], Loss: 5722.8169\n",
      "Epoch [21/500], Loss: 5007.3418\n",
      "Epoch [31/500], Loss: 3791.1165\n",
      "Epoch [41/500], Loss: 3263.5142\n",
      "Epoch [51/500], Loss: 3038.0271\n",
      "Epoch [61/500], Loss: 2782.1516\n",
      "Epoch [71/500], Loss: 2570.4780\n",
      "Epoch [81/500], Loss: 2402.0674\n",
      "Epoch [91/500], Loss: 2260.0593\n",
      "Epoch [101/500], Loss: 2139.0393\n",
      "Epoch [111/500], Loss: 2035.3607\n",
      "Epoch [121/500], Loss: 1945.1462\n",
      "Epoch [131/500], Loss: 1865.2275\n",
      "Epoch [141/500], Loss: 1793.4325\n",
      "Epoch [151/500], Loss: 1727.7632\n",
      "Epoch [161/500], Loss: 1667.1017\n",
      "Epoch [171/500], Loss: 1610.6892\n",
      "Epoch [181/500], Loss: 1558.0350\n",
      "Epoch [191/500], Loss: 1508.7069\n",
      "Epoch [201/500], Loss: 1462.2555\n",
      "Epoch [211/500], Loss: 1418.3799\n",
      "Epoch [221/500], Loss: 1376.9176\n",
      "Epoch [231/500], Loss: 1337.7012\n",
      "Epoch [241/500], Loss: 1300.6040\n",
      "Epoch [251/500], Loss: 1265.2996\n",
      "Epoch [261/500], Loss: 1231.6632\n",
      "Epoch [271/500], Loss: 1199.6243\n",
      "Epoch [281/500], Loss: 1169.1265\n",
      "Epoch [291/500], Loss: 1173.4598\n",
      "Epoch [301/500], Loss: 1133.7493\n",
      "Epoch [311/500], Loss: 1088.3657\n",
      "Epoch [321/500], Loss: 1066.6191\n",
      "Epoch [331/500], Loss: 1040.8586\n",
      "Epoch [341/500], Loss: 1018.5053\n",
      "Epoch [351/500], Loss: 997.1119\n",
      "Epoch [361/500], Loss: 976.2859\n",
      "Epoch [371/500], Loss: 956.4741\n",
      "Epoch [381/500], Loss: 939.7654\n",
      "Epoch [391/500], Loss: 919.7425\n",
      "Epoch [401/500], Loss: 910.1389\n",
      "Epoch [411/500], Loss: 887.1337\n",
      "Epoch [421/500], Loss: 870.3683\n",
      "Epoch [431/500], Loss: 854.3889\n",
      "Epoch [441/500], Loss: 838.5757\n",
      "Epoch [451/500], Loss: 850.5093\n",
      "Epoch [461/500], Loss: 828.1387\n",
      "Epoch [471/500], Loss: 797.2584\n",
      "Epoch [481/500], Loss: 786.9728\n",
      "Epoch [491/500], Loss: 772.5603\n",
      "\n",
      "Processing CV 7 / 10....\n",
      "Epoch [1/500], Loss: 22809.9941\n",
      "Epoch [11/500], Loss: 5764.7964\n",
      "Epoch [21/500], Loss: 5158.3613\n",
      "Epoch [31/500], Loss: 3852.0806\n",
      "Epoch [41/500], Loss: 3296.2708\n",
      "Epoch [51/500], Loss: 3061.8538\n",
      "Epoch [61/500], Loss: 2795.8901\n",
      "Epoch [71/500], Loss: 2575.3892\n",
      "Epoch [81/500], Loss: 2400.2964\n",
      "Epoch [91/500], Loss: 2253.9153\n",
      "Epoch [101/500], Loss: 2129.8025\n",
      "Epoch [111/500], Loss: 2024.4884\n",
      "Epoch [121/500], Loss: 1933.7383\n",
      "Epoch [131/500], Loss: 1854.4745\n",
      "Epoch [141/500], Loss: 1783.5430\n",
      "Epoch [151/500], Loss: 1718.7609\n",
      "Epoch [161/500], Loss: 1659.1400\n",
      "Epoch [171/500], Loss: 1603.5808\n",
      "Epoch [181/500], Loss: 1551.5780\n",
      "Epoch [191/500], Loss: 1502.6050\n",
      "Epoch [201/500], Loss: 1456.2360\n",
      "Epoch [211/500], Loss: 1412.2373\n",
      "Epoch [221/500], Loss: 1370.3947\n",
      "Epoch [231/500], Loss: 1330.3790\n",
      "Epoch [241/500], Loss: 1292.2101\n",
      "Epoch [251/500], Loss: 1255.8782\n",
      "Epoch [261/500], Loss: 1221.1021\n",
      "Epoch [271/500], Loss: 1187.7374\n",
      "Epoch [281/500], Loss: 1158.4706\n",
      "Epoch [291/500], Loss: 1148.3439\n",
      "Epoch [301/500], Loss: 1106.3868\n",
      "Epoch [311/500], Loss: 1072.6044\n",
      "Epoch [321/500], Loss: 1048.6200\n",
      "Epoch [331/500], Loss: 1023.3929\n",
      "Epoch [341/500], Loss: 999.5088\n",
      "Epoch [351/500], Loss: 976.6508\n",
      "Epoch [361/500], Loss: 954.7845\n",
      "Epoch [371/500], Loss: 934.2852\n",
      "Epoch [381/500], Loss: 936.2567\n",
      "Epoch [391/500], Loss: 899.9075\n",
      "Epoch [401/500], Loss: 876.8326\n",
      "Epoch [411/500], Loss: 859.4326\n",
      "Epoch [421/500], Loss: 843.3656\n",
      "Epoch [431/500], Loss: 826.3699\n",
      "Epoch [441/500], Loss: 810.6234\n",
      "Epoch [451/500], Loss: 797.0765\n",
      "Epoch [461/500], Loss: 819.4076\n",
      "Epoch [471/500], Loss: 778.4345\n",
      "Epoch [481/500], Loss: 754.6116\n",
      "Epoch [491/500], Loss: 744.6654\n",
      "\n",
      "Processing CV 8 / 10....\n",
      "Epoch [1/500], Loss: 22676.7812\n",
      "Epoch [11/500], Loss: 5708.3979\n",
      "Epoch [21/500], Loss: 5118.3521\n",
      "Epoch [31/500], Loss: 4054.4500\n",
      "Epoch [41/500], Loss: 3470.2305\n",
      "Epoch [51/500], Loss: 3209.3105\n",
      "Epoch [61/500], Loss: 2947.1323\n",
      "Epoch [71/500], Loss: 2721.7664\n",
      "Epoch [81/500], Loss: 2534.2200\n",
      "Epoch [91/500], Loss: 2375.4443\n",
      "Epoch [101/500], Loss: 2240.9443\n",
      "Epoch [111/500], Loss: 2127.9204\n",
      "Epoch [121/500], Loss: 2031.4189\n",
      "Epoch [131/500], Loss: 1947.0168\n",
      "Epoch [141/500], Loss: 1870.8772\n",
      "Epoch [151/500], Loss: 1799.8964\n",
      "Epoch [161/500], Loss: 1733.9301\n",
      "Epoch [171/500], Loss: 1671.7935\n",
      "Epoch [181/500], Loss: 1612.7905\n",
      "Epoch [191/500], Loss: 1557.1403\n",
      "Epoch [201/500], Loss: 1505.2802\n",
      "Epoch [211/500], Loss: 1456.9059\n",
      "Epoch [221/500], Loss: 1411.4435\n",
      "Epoch [231/500], Loss: 1368.9568\n",
      "Epoch [241/500], Loss: 1328.9540\n",
      "Epoch [251/500], Loss: 1291.4116\n",
      "Epoch [261/500], Loss: 1255.7322\n",
      "Epoch [271/500], Loss: 1240.8313\n",
      "Epoch [281/500], Loss: 1198.2173\n",
      "Epoch [291/500], Loss: 1162.4248\n",
      "Epoch [301/500], Loss: 1135.2626\n",
      "Epoch [311/500], Loss: 1108.4077\n",
      "Epoch [321/500], Loss: 1083.2424\n",
      "Epoch [331/500], Loss: 1059.0612\n",
      "Epoch [341/500], Loss: 1035.7753\n",
      "Epoch [351/500], Loss: 1013.2841\n",
      "Epoch [361/500], Loss: 991.7264\n",
      "Epoch [371/500], Loss: 971.0045\n",
      "Epoch [381/500], Loss: 951.0339\n",
      "Epoch [391/500], Loss: 959.2861\n",
      "Epoch [401/500], Loss: 914.5753\n",
      "Epoch [411/500], Loss: 913.5082\n",
      "Epoch [421/500], Loss: 883.3267\n",
      "Epoch [431/500], Loss: 869.3964\n",
      "Epoch [441/500], Loss: 852.7339\n",
      "Epoch [451/500], Loss: 838.1306\n",
      "Epoch [461/500], Loss: 824.2189\n",
      "Epoch [471/500], Loss: 810.6961\n",
      "Epoch [481/500], Loss: 797.7078\n",
      "Epoch [491/500], Loss: 785.1323\n",
      "\n",
      "Processing CV 9 / 10....\n",
      "Epoch [1/500], Loss: 22241.2168\n",
      "Epoch [11/500], Loss: 5774.2505\n",
      "Epoch [21/500], Loss: 5001.7534\n",
      "Epoch [31/500], Loss: 3874.0049\n",
      "Epoch [41/500], Loss: 3329.0708\n",
      "Epoch [51/500], Loss: 3096.3347\n",
      "Epoch [61/500], Loss: 2838.2354\n",
      "Epoch [71/500], Loss: 2622.1135\n",
      "Epoch [81/500], Loss: 2451.4365\n",
      "Epoch [91/500], Loss: 2308.0698\n",
      "Epoch [101/500], Loss: 2186.5989\n",
      "Epoch [111/500], Loss: 2082.7866\n",
      "Epoch [121/500], Loss: 1992.1646\n",
      "Epoch [131/500], Loss: 1911.3763\n",
      "Epoch [141/500], Loss: 1838.5164\n",
      "Epoch [151/500], Loss: 1771.8464\n",
      "Epoch [161/500], Loss: 1710.1240\n",
      "Epoch [171/500], Loss: 1652.4392\n",
      "Epoch [181/500], Loss: 1598.1904\n",
      "Epoch [191/500], Loss: 1546.9875\n",
      "Epoch [201/500], Loss: 1498.2649\n",
      "Epoch [211/500], Loss: 1452.1628\n",
      "Epoch [221/500], Loss: 1408.2023\n",
      "Epoch [231/500], Loss: 1366.4755\n",
      "Epoch [241/500], Loss: 1326.8800\n",
      "Epoch [251/500], Loss: 1289.2894\n",
      "Epoch [261/500], Loss: 1253.5131\n",
      "Epoch [271/500], Loss: 1220.8135\n",
      "Epoch [281/500], Loss: 1189.3147\n",
      "Epoch [291/500], Loss: 1162.9596\n",
      "Epoch [301/500], Loss: 1134.1637\n",
      "Epoch [311/500], Loss: 1105.3723\n",
      "Epoch [321/500], Loss: 1078.9769\n",
      "Epoch [331/500], Loss: 1053.7205\n",
      "Epoch [341/500], Loss: 1029.2729\n",
      "Epoch [351/500], Loss: 1005.6901\n",
      "Epoch [361/500], Loss: 983.0093\n",
      "Epoch [371/500], Loss: 961.1740\n",
      "Epoch [381/500], Loss: 940.4211\n",
      "Epoch [391/500], Loss: 987.4517\n",
      "Epoch [401/500], Loss: 926.7174\n",
      "Epoch [411/500], Loss: 887.8829\n",
      "Epoch [421/500], Loss: 869.8520\n",
      "Epoch [431/500], Loss: 855.3438\n",
      "Epoch [441/500], Loss: 838.2175\n",
      "Epoch [451/500], Loss: 823.3227\n",
      "Epoch [461/500], Loss: 808.8995\n",
      "Epoch [471/500], Loss: 794.9793\n",
      "Epoch [481/500], Loss: 781.4155\n",
      "Epoch [491/500], Loss: 768.3514\n",
      "\n",
      "Processing CV 10 / 10....\n",
      "Epoch [1/500], Loss: 23164.1973\n",
      "Epoch [11/500], Loss: 5910.9858\n",
      "Epoch [21/500], Loss: 5421.7808\n",
      "Epoch [31/500], Loss: 4160.5679\n",
      "Epoch [41/500], Loss: 3513.2458\n",
      "Epoch [51/500], Loss: 3242.0708\n",
      "Epoch [61/500], Loss: 2959.4202\n",
      "Epoch [71/500], Loss: 2717.9941\n",
      "Epoch [81/500], Loss: 2523.8181\n",
      "Epoch [91/500], Loss: 2362.4648\n",
      "Epoch [101/500], Loss: 2227.1501\n",
      "Epoch [111/500], Loss: 2112.9536\n",
      "Epoch [121/500], Loss: 2015.3608\n",
      "Epoch [131/500], Loss: 1930.1923\n",
      "Epoch [141/500], Loss: 1854.4175\n",
      "Epoch [151/500], Loss: 1785.9121\n",
      "Epoch [161/500], Loss: 1722.9551\n",
      "Epoch [171/500], Loss: 1664.3953\n",
      "Epoch [181/500], Loss: 1609.7466\n",
      "Epoch [191/500], Loss: 1558.5966\n",
      "Epoch [201/500], Loss: 1510.6344\n",
      "Epoch [211/500], Loss: 1465.2717\n",
      "Epoch [221/500], Loss: 1422.1028\n",
      "Epoch [231/500], Loss: 1380.9291\n",
      "Epoch [241/500], Loss: 1341.6595\n",
      "Epoch [251/500], Loss: 1304.3783\n",
      "Epoch [261/500], Loss: 1285.6562\n",
      "Epoch [271/500], Loss: 1241.5085\n",
      "Epoch [281/500], Loss: 1206.6906\n",
      "Epoch [291/500], Loss: 1176.3455\n",
      "Epoch [301/500], Loss: 1147.2806\n",
      "Epoch [311/500], Loss: 1119.0985\n",
      "Epoch [321/500], Loss: 1092.6288\n",
      "Epoch [331/500], Loss: 1066.8708\n",
      "Epoch [341/500], Loss: 1047.6366\n",
      "Epoch [351/500], Loss: 1052.3564\n",
      "Epoch [361/500], Loss: 999.3209\n",
      "Epoch [371/500], Loss: 977.4221\n",
      "Epoch [381/500], Loss: 956.9421\n",
      "Epoch [391/500], Loss: 936.0488\n",
      "Epoch [401/500], Loss: 916.7668\n",
      "Epoch [411/500], Loss: 898.1693\n",
      "Epoch [421/500], Loss: 880.5787\n",
      "Epoch [431/500], Loss: 913.1893\n",
      "Epoch [441/500], Loss: 847.1449\n",
      "Epoch [451/500], Loss: 831.8975\n",
      "Epoch [461/500], Loss: 817.6830\n",
      "Epoch [471/500], Loss: 804.0792\n",
      "Epoch [481/500], Loss: 788.4928\n",
      "Epoch [491/500], Loss: 774.6155\n",
      "\n",
      "Running m8_dnn with hyperparameter hp1 on ds0_test.csv for forecast horizon 30\n",
      "Pass Test 1 - Forecast horizon is >= dataset frequency\n",
      "Pass Test 2 - Hyperparameter choice is possible given the forecast horizon\n",
      "Processing CV 1 / 10....\n",
      "Epoch [1/500], Loss: 57091.1016\n",
      "Epoch [11/500], Loss: 47615.9883\n",
      "Epoch [21/500], Loss: 29871.3184\n",
      "Epoch [31/500], Loss: 21254.2246\n",
      "Epoch [41/500], Loss: 16617.3906\n",
      "Epoch [51/500], Loss: 11595.8779\n",
      "Epoch [61/500], Loss: 7711.8730\n",
      "Epoch [71/500], Loss: 5531.6274\n",
      "Epoch [81/500], Loss: 4497.8135\n",
      "Epoch [91/500], Loss: 4027.8059\n",
      "Epoch [101/500], Loss: 3763.6602\n",
      "Epoch [111/500], Loss: 3552.3743\n",
      "Epoch [121/500], Loss: 3392.4578\n",
      "Epoch [131/500], Loss: 3264.5730\n",
      "Epoch [141/500], Loss: 3141.1919\n",
      "Epoch [151/500], Loss: 3002.8145\n",
      "Epoch [161/500], Loss: 2881.6606\n",
      "Epoch [171/500], Loss: 2764.8660\n",
      "Epoch [181/500], Loss: 2635.1396\n",
      "Epoch [191/500], Loss: 2509.2913\n",
      "Epoch [201/500], Loss: 2387.0923\n",
      "Epoch [211/500], Loss: 2259.2568\n",
      "Epoch [221/500], Loss: 2123.5300\n",
      "Epoch [231/500], Loss: 1984.8005\n",
      "Epoch [241/500], Loss: 1845.1576\n",
      "Epoch [251/500], Loss: 1698.2639\n",
      "Epoch [261/500], Loss: 1571.9575\n",
      "Epoch [271/500], Loss: 1504.2458\n",
      "Epoch [281/500], Loss: 1385.5720\n",
      "Epoch [291/500], Loss: 1313.2589\n",
      "Epoch [301/500], Loss: 1251.7355\n",
      "Epoch [311/500], Loss: 1178.6091\n",
      "Epoch [321/500], Loss: 1113.1399\n",
      "Epoch [331/500], Loss: 1045.7776\n",
      "Epoch [341/500], Loss: 997.9274\n",
      "Epoch [351/500], Loss: 932.7844\n",
      "Epoch [361/500], Loss: 897.3387\n",
      "Epoch [371/500], Loss: 861.2499\n",
      "Epoch [381/500], Loss: 845.7288\n",
      "Epoch [391/500], Loss: 807.1315\n",
      "Epoch [401/500], Loss: 802.8522\n",
      "Epoch [411/500], Loss: 766.0961\n",
      "Epoch [421/500], Loss: 748.1774\n",
      "Epoch [431/500], Loss: 729.0947\n",
      "Epoch [441/500], Loss: 710.8261\n",
      "Epoch [451/500], Loss: 695.1520\n",
      "Epoch [461/500], Loss: 690.5446\n",
      "Epoch [471/500], Loss: 724.7148\n",
      "Epoch [481/500], Loss: 681.7130\n",
      "Epoch [491/500], Loss: 649.0823\n",
      "\n",
      "Processing CV 2 / 10....\n",
      "Epoch [1/500], Loss: 56672.0039\n",
      "Epoch [11/500], Loss: 47309.6914\n",
      "Epoch [21/500], Loss: 29768.6816\n",
      "Epoch [31/500], Loss: 21116.8047\n",
      "Epoch [41/500], Loss: 16349.8496\n",
      "Epoch [51/500], Loss: 11239.8867\n",
      "Epoch [61/500], Loss: 7345.4956\n",
      "Epoch [71/500], Loss: 5252.3770\n",
      "Epoch [81/500], Loss: 4209.2979\n",
      "Epoch [91/500], Loss: 3780.0344\n",
      "Epoch [101/500], Loss: 3497.0432\n",
      "Epoch [111/500], Loss: 3264.6399\n",
      "Epoch [121/500], Loss: 3093.2549\n",
      "Epoch [131/500], Loss: 2964.5608\n",
      "Epoch [141/500], Loss: 2854.8145\n",
      "Epoch [151/500], Loss: 2721.9260\n",
      "Epoch [161/500], Loss: 2620.1638\n",
      "Epoch [171/500], Loss: 2525.9468\n",
      "Epoch [181/500], Loss: 2435.5918\n",
      "Epoch [191/500], Loss: 2343.5466\n",
      "Epoch [201/500], Loss: 2250.2065\n",
      "Epoch [211/500], Loss: 2149.0115\n",
      "Epoch [221/500], Loss: 2061.8542\n",
      "Epoch [231/500], Loss: 1974.3885\n",
      "Epoch [241/500], Loss: 1883.5521\n",
      "Epoch [251/500], Loss: 1789.0602\n",
      "Epoch [261/500], Loss: 1698.9880\n",
      "Epoch [271/500], Loss: 1594.9778\n",
      "Epoch [281/500], Loss: 1487.9486\n",
      "Epoch [291/500], Loss: 1407.1119\n",
      "Epoch [301/500], Loss: 1335.5938\n",
      "Epoch [311/500], Loss: 1273.1617\n",
      "Epoch [321/500], Loss: 1220.0262\n",
      "Epoch [331/500], Loss: 1169.0261\n",
      "Epoch [341/500], Loss: 1122.2047\n",
      "Epoch [351/500], Loss: 1070.9692\n",
      "Epoch [361/500], Loss: 1025.4774\n",
      "Epoch [371/500], Loss: 987.4613\n",
      "Epoch [381/500], Loss: 951.2941\n",
      "Epoch [391/500], Loss: 921.2234\n",
      "Epoch [401/500], Loss: 895.1633\n",
      "Epoch [411/500], Loss: 866.3804\n",
      "Epoch [421/500], Loss: 853.0262\n",
      "Epoch [431/500], Loss: 818.4190\n",
      "Epoch [441/500], Loss: 799.9760\n",
      "Epoch [451/500], Loss: 780.0835\n",
      "Epoch [461/500], Loss: 762.6027\n",
      "Epoch [471/500], Loss: 759.0859\n",
      "Epoch [481/500], Loss: 739.4636\n",
      "Epoch [491/500], Loss: 719.6974\n",
      "\n",
      "Processing CV 3 / 10....\n",
      "Epoch [1/500], Loss: 55996.6719\n",
      "Epoch [11/500], Loss: 46689.6016\n",
      "Epoch [21/500], Loss: 29250.0645\n",
      "Epoch [31/500], Loss: 20788.6035\n",
      "Epoch [41/500], Loss: 16351.2803\n",
      "Epoch [51/500], Loss: 11490.0977\n",
      "Epoch [61/500], Loss: 7735.6851\n",
      "Epoch [71/500], Loss: 5594.6377\n",
      "Epoch [81/500], Loss: 4596.6182\n",
      "Epoch [91/500], Loss: 4130.5293\n",
      "Epoch [101/500], Loss: 3876.6621\n",
      "Epoch [111/500], Loss: 3664.9934\n",
      "Epoch [121/500], Loss: 3503.6355\n",
      "Epoch [131/500], Loss: 3370.1213\n",
      "Epoch [141/500], Loss: 3241.5867\n",
      "Epoch [151/500], Loss: 3099.7612\n",
      "Epoch [161/500], Loss: 2970.9392\n",
      "Epoch [171/500], Loss: 2843.6201\n",
      "Epoch [181/500], Loss: 2694.4250\n",
      "Epoch [191/500], Loss: 2555.3423\n",
      "Epoch [201/500], Loss: 2413.9387\n",
      "Epoch [211/500], Loss: 2260.0303\n",
      "Epoch [221/500], Loss: 2095.1919\n",
      "Epoch [231/500], Loss: 1920.6405\n",
      "Epoch [241/500], Loss: 1754.1154\n",
      "Epoch [251/500], Loss: 1626.5475\n",
      "Epoch [261/500], Loss: 1530.0574\n",
      "Epoch [271/500], Loss: 1448.6263\n",
      "Epoch [281/500], Loss: 1371.9136\n",
      "Epoch [291/500], Loss: 1306.5514\n",
      "Epoch [301/500], Loss: 1247.7559\n",
      "Epoch [311/500], Loss: 1192.1112\n",
      "Epoch [321/500], Loss: 1134.5801\n",
      "Epoch [331/500], Loss: 1079.9574\n",
      "Epoch [341/500], Loss: 1041.0082\n",
      "Epoch [351/500], Loss: 991.7922\n",
      "Epoch [361/500], Loss: 960.8165\n",
      "Epoch [371/500], Loss: 922.8713\n",
      "Epoch [381/500], Loss: 891.9008\n",
      "Epoch [391/500], Loss: 863.7092\n",
      "Epoch [401/500], Loss: 838.2731\n",
      "Epoch [411/500], Loss: 818.2855\n",
      "Epoch [421/500], Loss: 813.9999\n",
      "Epoch [431/500], Loss: 786.1275\n",
      "Epoch [441/500], Loss: 765.8460\n",
      "Epoch [451/500], Loss: 746.4816\n",
      "Epoch [461/500], Loss: 731.0732\n",
      "Epoch [471/500], Loss: 715.5532\n",
      "Epoch [481/500], Loss: 700.8687\n",
      "Epoch [491/500], Loss: 686.8250\n",
      "\n",
      "Processing CV 4 / 10....\n",
      "Epoch [1/500], Loss: 55261.9297\n",
      "Epoch [11/500], Loss: 45987.5469\n",
      "Epoch [21/500], Loss: 28638.2773\n",
      "Epoch [31/500], Loss: 20380.3418\n",
      "Epoch [41/500], Loss: 15936.8145\n",
      "Epoch [51/500], Loss: 11146.8164\n",
      "Epoch [61/500], Loss: 7418.9727\n",
      "Epoch [71/500], Loss: 5312.9424\n",
      "Epoch [81/500], Loss: 4335.2153\n",
      "Epoch [91/500], Loss: 3849.7842\n",
      "Epoch [101/500], Loss: 3597.8906\n",
      "Epoch [111/500], Loss: 3386.6699\n",
      "Epoch [121/500], Loss: 3226.4570\n",
      "Epoch [131/500], Loss: 3098.5076\n",
      "Epoch [141/500], Loss: 2981.6514\n",
      "Epoch [151/500], Loss: 2843.8030\n",
      "Epoch [161/500], Loss: 2729.5344\n",
      "Epoch [171/500], Loss: 2620.1819\n",
      "Epoch [181/500], Loss: 2493.6790\n",
      "Epoch [191/500], Loss: 2383.3335\n",
      "Epoch [201/500], Loss: 2272.6704\n",
      "Epoch [211/500], Loss: 2157.8452\n",
      "Epoch [221/500], Loss: 2033.4194\n",
      "Epoch [231/500], Loss: 1908.7963\n",
      "Epoch [241/500], Loss: 1789.1078\n",
      "Epoch [251/500], Loss: 1662.8055\n",
      "Epoch [261/500], Loss: 1554.1907\n",
      "Epoch [271/500], Loss: 1459.4972\n",
      "Epoch [281/500], Loss: 1381.9246\n",
      "Epoch [291/500], Loss: 1314.3459\n",
      "Epoch [301/500], Loss: 1254.7898\n",
      "Epoch [311/500], Loss: 1197.6306\n",
      "Epoch [321/500], Loss: 1147.0452\n",
      "Epoch [331/500], Loss: 1105.1178\n",
      "Epoch [341/500], Loss: 1063.9734\n",
      "Epoch [351/500], Loss: 1023.2696\n",
      "Epoch [361/500], Loss: 980.5543\n",
      "Epoch [371/500], Loss: 953.7750\n",
      "Epoch [381/500], Loss: 913.8668\n",
      "Epoch [391/500], Loss: 888.7313\n",
      "Epoch [401/500], Loss: 856.4405\n",
      "Epoch [411/500], Loss: 886.2890\n",
      "Epoch [421/500], Loss: 827.7811\n",
      "Epoch [431/500], Loss: 795.4999\n",
      "Epoch [441/500], Loss: 774.4529\n",
      "Epoch [451/500], Loss: 755.9799\n",
      "Epoch [461/500], Loss: 737.7405\n",
      "Epoch [471/500], Loss: 752.5701\n",
      "Epoch [481/500], Loss: 718.0714\n",
      "Epoch [491/500], Loss: 693.4073\n",
      "\n",
      "Processing CV 5 / 10....\n",
      "Epoch [1/500], Loss: 55334.1172\n",
      "Epoch [11/500], Loss: 46124.5664\n",
      "Epoch [21/500], Loss: 28836.6484\n",
      "Epoch [31/500], Loss: 20353.2715\n",
      "Epoch [41/500], Loss: 15972.2041\n",
      "Epoch [51/500], Loss: 11159.3408\n",
      "Epoch [61/500], Loss: 7476.9883\n",
      "Epoch [71/500], Loss: 5424.1851\n",
      "Epoch [81/500], Loss: 4448.0503\n",
      "Epoch [91/500], Loss: 4013.4885\n",
      "Epoch [101/500], Loss: 3775.2568\n",
      "Epoch [111/500], Loss: 3571.3958\n",
      "Epoch [121/500], Loss: 3417.5940\n",
      "Epoch [131/500], Loss: 3293.8677\n",
      "Epoch [141/500], Loss: 3183.2268\n",
      "Epoch [151/500], Loss: 3045.6428\n",
      "Epoch [161/500], Loss: 2930.2217\n",
      "Epoch [171/500], Loss: 2818.1113\n",
      "Epoch [181/500], Loss: 2699.8125\n",
      "Epoch [191/500], Loss: 2564.4500\n",
      "Epoch [201/500], Loss: 2446.4946\n",
      "Epoch [211/500], Loss: 2321.4500\n",
      "Epoch [221/500], Loss: 2184.8716\n",
      "Epoch [231/500], Loss: 2041.2035\n",
      "Epoch [241/500], Loss: 1898.9335\n",
      "Epoch [251/500], Loss: 1739.4243\n",
      "Epoch [261/500], Loss: 1596.7188\n",
      "Epoch [271/500], Loss: 1479.6515\n",
      "Epoch [281/500], Loss: 1389.9668\n",
      "Epoch [291/500], Loss: 1308.9323\n",
      "Epoch [301/500], Loss: 1241.1152\n",
      "Epoch [311/500], Loss: 1181.4189\n",
      "Epoch [321/500], Loss: 1124.1407\n",
      "Epoch [331/500], Loss: 1058.2373\n",
      "Epoch [341/500], Loss: 1012.5921\n",
      "Epoch [351/500], Loss: 972.1924\n",
      "Epoch [361/500], Loss: 931.7672\n",
      "Epoch [371/500], Loss: 917.2886\n",
      "Epoch [381/500], Loss: 869.3629\n",
      "Epoch [391/500], Loss: 845.2476\n",
      "Epoch [401/500], Loss: 823.7579\n",
      "Epoch [411/500], Loss: 799.1082\n",
      "Epoch [421/500], Loss: 777.6469\n",
      "Epoch [431/500], Loss: 756.9711\n",
      "Epoch [441/500], Loss: 736.8730\n",
      "Epoch [451/500], Loss: 718.1127\n",
      "Epoch [461/500], Loss: 782.4861\n",
      "Epoch [471/500], Loss: 687.7241\n",
      "Epoch [481/500], Loss: 676.3325\n",
      "Epoch [491/500], Loss: 662.4703\n",
      "\n",
      "Processing CV 6 / 10....\n",
      "Epoch [1/500], Loss: 53688.9141\n",
      "Epoch [11/500], Loss: 44777.5312\n",
      "Epoch [21/500], Loss: 28270.7090\n",
      "Epoch [31/500], Loss: 20304.5078\n",
      "Epoch [41/500], Loss: 15786.3125\n",
      "Epoch [51/500], Loss: 11000.5928\n",
      "Epoch [61/500], Loss: 7312.5884\n",
      "Epoch [71/500], Loss: 5336.5835\n",
      "Epoch [81/500], Loss: 4329.4795\n",
      "Epoch [91/500], Loss: 3908.8865\n",
      "Epoch [101/500], Loss: 3635.5352\n",
      "Epoch [111/500], Loss: 3407.1028\n",
      "Epoch [121/500], Loss: 3234.7456\n",
      "Epoch [131/500], Loss: 3099.1929\n",
      "Epoch [141/500], Loss: 2978.3879\n",
      "Epoch [151/500], Loss: 2833.8376\n",
      "Epoch [161/500], Loss: 2719.7644\n",
      "Epoch [171/500], Loss: 2610.8003\n",
      "Epoch [181/500], Loss: 2496.5022\n",
      "Epoch [191/500], Loss: 2370.8887\n",
      "Epoch [201/500], Loss: 2252.9607\n",
      "Epoch [211/500], Loss: 2133.6206\n",
      "Epoch [221/500], Loss: 2009.7302\n",
      "Epoch [231/500], Loss: 1886.5541\n",
      "Epoch [241/500], Loss: 1760.6748\n",
      "Epoch [251/500], Loss: 1640.0286\n",
      "Epoch [261/500], Loss: 1538.5363\n",
      "Epoch [271/500], Loss: 1446.5671\n",
      "Epoch [281/500], Loss: 1367.3834\n",
      "Epoch [291/500], Loss: 1302.2122\n",
      "Epoch [301/500], Loss: 1239.3314\n",
      "Epoch [311/500], Loss: 1183.1014\n",
      "Epoch [321/500], Loss: 1124.0173\n",
      "Epoch [331/500], Loss: 1068.6818\n",
      "Epoch [341/500], Loss: 1023.3376\n",
      "Epoch [351/500], Loss: 985.0641\n",
      "Epoch [361/500], Loss: 946.2822\n",
      "Epoch [371/500], Loss: 914.9514\n",
      "Epoch [381/500], Loss: 885.9319\n",
      "Epoch [391/500], Loss: 861.5057\n",
      "Epoch [401/500], Loss: 860.1603\n",
      "Epoch [411/500], Loss: 824.1020\n",
      "Epoch [421/500], Loss: 796.7053\n",
      "Epoch [431/500], Loss: 778.1349\n",
      "Epoch [441/500], Loss: 761.7526\n",
      "Epoch [451/500], Loss: 743.3227\n",
      "Epoch [461/500], Loss: 749.6243\n",
      "Epoch [471/500], Loss: 727.4316\n",
      "Epoch [481/500], Loss: 699.3744\n",
      "Epoch [491/500], Loss: 688.3418\n",
      "\n",
      "Processing CV 7 / 10....\n",
      "Epoch [1/500], Loss: 54546.1094\n",
      "Epoch [11/500], Loss: 45690.0469\n",
      "Epoch [21/500], Loss: 29150.6719\n",
      "Epoch [31/500], Loss: 20779.2988\n",
      "Epoch [41/500], Loss: 15982.8027\n",
      "Epoch [51/500], Loss: 10924.1523\n",
      "Epoch [61/500], Loss: 7178.9873\n",
      "Epoch [71/500], Loss: 5256.0718\n",
      "Epoch [81/500], Loss: 4287.4858\n",
      "Epoch [91/500], Loss: 3893.9863\n",
      "Epoch [101/500], Loss: 3609.5591\n",
      "Epoch [111/500], Loss: 3384.5996\n",
      "Epoch [121/500], Loss: 3218.9282\n",
      "Epoch [131/500], Loss: 3094.2480\n",
      "Epoch [141/500], Loss: 2988.9338\n",
      "Epoch [151/500], Loss: 2893.9619\n",
      "Epoch [161/500], Loss: 2803.9583\n",
      "Epoch [171/500], Loss: 2718.6938\n",
      "Epoch [181/500], Loss: 2636.9451\n",
      "Epoch [191/500], Loss: 2552.1475\n",
      "Epoch [201/500], Loss: 2465.7549\n",
      "Epoch [211/500], Loss: 2379.7732\n",
      "Epoch [221/500], Loss: 2286.3062\n",
      "Epoch [231/500], Loss: 2180.9995\n",
      "Epoch [241/500], Loss: 2072.9563\n",
      "Epoch [251/500], Loss: 1966.6591\n",
      "Epoch [261/500], Loss: 1854.0757\n",
      "Epoch [271/500], Loss: 1730.1531\n",
      "Epoch [281/500], Loss: 1630.7896\n",
      "Epoch [291/500], Loss: 1554.6227\n",
      "Epoch [301/500], Loss: 1486.3385\n",
      "Epoch [311/500], Loss: 1425.1255\n",
      "Epoch [321/500], Loss: 1367.4989\n",
      "Epoch [331/500], Loss: 1313.5797\n",
      "Epoch [341/500], Loss: 1264.4243\n",
      "Epoch [351/500], Loss: 1219.4358\n",
      "Epoch [361/500], Loss: 1175.9955\n",
      "Epoch [371/500], Loss: 1126.3456\n",
      "Epoch [381/500], Loss: 1075.6056\n",
      "Epoch [391/500], Loss: 1029.6418\n",
      "Epoch [401/500], Loss: 990.3525\n",
      "Epoch [411/500], Loss: 954.9330\n",
      "Epoch [421/500], Loss: 924.7123\n",
      "Epoch [431/500], Loss: 902.0057\n",
      "Epoch [441/500], Loss: 873.2847\n",
      "Epoch [451/500], Loss: 852.3198\n",
      "Epoch [461/500], Loss: 828.8583\n",
      "Epoch [471/500], Loss: 805.4636\n",
      "Epoch [481/500], Loss: 804.3965\n",
      "Epoch [491/500], Loss: 773.1633\n",
      "\n",
      "Processing CV 8 / 10....\n",
      "Epoch [1/500], Loss: 53529.9297\n",
      "Epoch [11/500], Loss: 44915.4062\n",
      "Epoch [21/500], Loss: 28983.0508\n",
      "Epoch [31/500], Loss: 21079.5879\n",
      "Epoch [41/500], Loss: 16220.7979\n",
      "Epoch [51/500], Loss: 11201.5752\n",
      "Epoch [61/500], Loss: 7413.5938\n",
      "Epoch [71/500], Loss: 5428.5161\n",
      "Epoch [81/500], Loss: 4411.4819\n",
      "Epoch [91/500], Loss: 4003.1438\n",
      "Epoch [101/500], Loss: 3689.4456\n",
      "Epoch [111/500], Loss: 3449.9919\n",
      "Epoch [121/500], Loss: 3279.9275\n",
      "Epoch [131/500], Loss: 3155.3618\n",
      "Epoch [141/500], Loss: 3044.9517\n",
      "Epoch [151/500], Loss: 2917.2500\n",
      "Epoch [161/500], Loss: 2813.9458\n",
      "Epoch [171/500], Loss: 2713.9546\n",
      "Epoch [181/500], Loss: 2604.8296\n",
      "Epoch [191/500], Loss: 2488.2817\n",
      "Epoch [201/500], Loss: 2379.8494\n",
      "Epoch [211/500], Loss: 2265.4434\n",
      "Epoch [221/500], Loss: 2139.3772\n",
      "Epoch [231/500], Loss: 1998.3523\n",
      "Epoch [241/500], Loss: 1840.4904\n",
      "Epoch [251/500], Loss: 1699.0508\n",
      "Epoch [261/500], Loss: 1581.8870\n",
      "Epoch [271/500], Loss: 1488.6937\n",
      "Epoch [281/500], Loss: 1410.8918\n",
      "Epoch [291/500], Loss: 1341.0499\n",
      "Epoch [301/500], Loss: 1282.2175\n",
      "Epoch [311/500], Loss: 1228.6848\n",
      "Epoch [321/500], Loss: 1181.8562\n",
      "Epoch [331/500], Loss: 1136.6892\n",
      "Epoch [341/500], Loss: 1094.0663\n",
      "Epoch [351/500], Loss: 1051.9227\n",
      "Epoch [361/500], Loss: 1013.0553\n",
      "Epoch [371/500], Loss: 975.8797\n",
      "Epoch [381/500], Loss: 933.7681\n",
      "Epoch [391/500], Loss: 905.4279\n",
      "Epoch [401/500], Loss: 876.2625\n",
      "Epoch [411/500], Loss: 847.5084\n",
      "Epoch [421/500], Loss: 823.6678\n",
      "Epoch [431/500], Loss: 793.4805\n",
      "Epoch [441/500], Loss: 773.8882\n",
      "Epoch [451/500], Loss: 751.7675\n",
      "Epoch [461/500], Loss: 751.7446\n",
      "Epoch [471/500], Loss: 723.5977\n",
      "Epoch [481/500], Loss: 703.2255\n",
      "Epoch [491/500], Loss: 686.6075\n",
      "\n",
      "Processing CV 9 / 10....\n",
      "Epoch [1/500], Loss: 53492.0742\n",
      "Epoch [11/500], Loss: 44685.9062\n",
      "Epoch [21/500], Loss: 28363.9258\n",
      "Epoch [31/500], Loss: 20398.2344\n",
      "Epoch [41/500], Loss: 15725.2061\n",
      "Epoch [51/500], Loss: 10866.5557\n",
      "Epoch [61/500], Loss: 7230.4722\n",
      "Epoch [71/500], Loss: 5351.8022\n",
      "Epoch [81/500], Loss: 4392.3110\n",
      "Epoch [91/500], Loss: 4005.4058\n",
      "Epoch [101/500], Loss: 3722.2302\n",
      "Epoch [111/500], Loss: 3489.7031\n",
      "Epoch [121/500], Loss: 3314.6038\n",
      "Epoch [131/500], Loss: 3184.2363\n",
      "Epoch [141/500], Loss: 3076.6494\n",
      "Epoch [151/500], Loss: 2969.2339\n",
      "Epoch [161/500], Loss: 2840.4011\n",
      "Epoch [171/500], Loss: 2735.0347\n",
      "Epoch [181/500], Loss: 2632.7822\n",
      "Epoch [191/500], Loss: 2528.8311\n",
      "Epoch [201/500], Loss: 2413.8381\n",
      "Epoch [211/500], Loss: 2294.9648\n",
      "Epoch [221/500], Loss: 2170.7004\n",
      "Epoch [231/500], Loss: 2037.1479\n",
      "Epoch [241/500], Loss: 1892.2701\n",
      "Epoch [251/500], Loss: 1745.7566\n",
      "Epoch [261/500], Loss: 1632.0396\n",
      "Epoch [271/500], Loss: 1537.5449\n",
      "Epoch [281/500], Loss: 1453.3894\n",
      "Epoch [291/500], Loss: 1376.8096\n",
      "Epoch [301/500], Loss: 1306.2620\n",
      "Epoch [311/500], Loss: 1255.2522\n",
      "Epoch [321/500], Loss: 1188.2046\n",
      "Epoch [331/500], Loss: 1129.0150\n",
      "Epoch [341/500], Loss: 1077.6766\n",
      "Epoch [351/500], Loss: 1031.7631\n",
      "Epoch [361/500], Loss: 990.6851\n",
      "Epoch [371/500], Loss: 953.3716\n",
      "Epoch [381/500], Loss: 925.2295\n",
      "Epoch [391/500], Loss: 893.5256\n",
      "Epoch [401/500], Loss: 868.2831\n",
      "Epoch [411/500], Loss: 850.6028\n",
      "Epoch [421/500], Loss: 826.4849\n",
      "Epoch [431/500], Loss: 805.2220\n",
      "Epoch [441/500], Loss: 779.9070\n",
      "Epoch [451/500], Loss: 776.3603\n",
      "Epoch [461/500], Loss: 744.3875\n",
      "Epoch [471/500], Loss: 731.5024\n",
      "Epoch [481/500], Loss: 714.7055\n",
      "Epoch [491/500], Loss: 719.9651\n",
      "\n",
      "Processing CV 10 / 10....\n",
      "Epoch [1/500], Loss: 54248.4805\n",
      "Epoch [11/500], Loss: 45675.6094\n",
      "Epoch [21/500], Loss: 29632.1094\n",
      "Epoch [31/500], Loss: 21401.6387\n",
      "Epoch [41/500], Loss: 16406.8770\n",
      "Epoch [51/500], Loss: 11241.9531\n",
      "Epoch [61/500], Loss: 7417.9009\n",
      "Epoch [71/500], Loss: 5448.3535\n",
      "Epoch [81/500], Loss: 4453.3760\n",
      "Epoch [91/500], Loss: 4045.5054\n",
      "Epoch [101/500], Loss: 3752.2996\n",
      "Epoch [111/500], Loss: 3531.4875\n",
      "Epoch [121/500], Loss: 3368.9094\n",
      "Epoch [131/500], Loss: 3235.3728\n",
      "Epoch [141/500], Loss: 3107.3691\n",
      "Epoch [151/500], Loss: 2960.6545\n",
      "Epoch [161/500], Loss: 2835.4937\n",
      "Epoch [171/500], Loss: 2698.0576\n",
      "Epoch [181/500], Loss: 2571.4922\n",
      "Epoch [191/500], Loss: 2446.8835\n",
      "Epoch [201/500], Loss: 2327.5208\n",
      "Epoch [211/500], Loss: 2204.3953\n",
      "Epoch [221/500], Loss: 2073.1646\n",
      "Epoch [231/500], Loss: 1944.8823\n",
      "Epoch [241/500], Loss: 1806.3469\n",
      "Epoch [251/500], Loss: 1670.8652\n",
      "Epoch [261/500], Loss: 1563.6105\n",
      "Epoch [271/500], Loss: 1475.1322\n",
      "Epoch [281/500], Loss: 1400.3356\n",
      "Epoch [291/500], Loss: 1344.2797\n",
      "Epoch [301/500], Loss: 1289.9247\n",
      "Epoch [311/500], Loss: 1235.3446\n",
      "Epoch [321/500], Loss: 1194.7653\n",
      "Epoch [331/500], Loss: 1152.1287\n",
      "Epoch [341/500], Loss: 1112.3385\n",
      "Epoch [351/500], Loss: 1073.8870\n",
      "Epoch [361/500], Loss: 1037.9224\n",
      "Epoch [371/500], Loss: 1001.7686\n",
      "Epoch [381/500], Loss: 992.7327\n",
      "Epoch [391/500], Loss: 929.1411\n",
      "Epoch [401/500], Loss: 900.8830\n",
      "Epoch [411/500], Loss: 866.3265\n",
      "Epoch [421/500], Loss: 837.3286\n",
      "Epoch [431/500], Loss: 811.3487\n",
      "Epoch [441/500], Loss: 788.7245\n",
      "Epoch [451/500], Loss: 766.4240\n",
      "Epoch [461/500], Loss: 752.7222\n",
      "Epoch [471/500], Loss: 736.4241\n",
      "Epoch [481/500], Loss: 716.9649\n",
      "Epoch [491/500], Loss: 700.6564\n",
      "\n",
      "Running m9_rt with hyperparameter hp3 on ds0_test.csv for forecast horizon 30\n",
      "Pass Test 1 - Forecast horizon is >= dataset frequency\n",
      "Pass Test 2 - Hyperparameter choice is possible given the forecast horizon\n",
      "Processing CV 1 / 10....\n",
      "\n",
      "Processing CV 2 / 10....\n",
      "\n",
      "Processing CV 3 / 10....\n",
      "\n",
      "Processing CV 4 / 10....\n",
      "\n",
      "Processing CV 5 / 10....\n",
      "\n",
      "Processing CV 6 / 10....\n",
      "\n",
      "Processing CV 7 / 10....\n",
      "\n",
      "Processing CV 8 / 10....\n",
      "\n",
      "Processing CV 9 / 10....\n",
      "\n",
      "Processing CV 10 / 10....\n",
      "\n",
      "Running m10_rf with hyperparameter hp1 on ds0_test.csv for forecast horizon 30\n",
      "Pass Test 1 - Forecast horizon is >= dataset frequency\n",
      "Pass Test 2 - Hyperparameter choice is possible given the forecast horizon\n",
      "Processing CV 1 / 10....\n"
     ]
    },
    {
     "name": "stderr",
     "output_type": "stream",
     "text": [
      "c:\\Users\\z5404477\\Documents\\PyNNLF\\.venv\\Lib\\site-packages\\sklearn\\base.py:1389: DataConversionWarning: A column-vector y was passed when a 1d array was expected. Please change the shape of y to (n_samples,), for example using ravel().\n",
      "  return fit_method(estimator, *args, **kwargs)\n"
     ]
    },
    {
     "name": "stdout",
     "output_type": "stream",
     "text": [
      "\n",
      "Processing CV 2 / 10....\n"
     ]
    },
    {
     "name": "stderr",
     "output_type": "stream",
     "text": [
      "c:\\Users\\z5404477\\Documents\\PyNNLF\\.venv\\Lib\\site-packages\\sklearn\\base.py:1389: DataConversionWarning: A column-vector y was passed when a 1d array was expected. Please change the shape of y to (n_samples,), for example using ravel().\n",
      "  return fit_method(estimator, *args, **kwargs)\n"
     ]
    },
    {
     "name": "stdout",
     "output_type": "stream",
     "text": [
      "\n",
      "Processing CV 3 / 10....\n"
     ]
    },
    {
     "name": "stderr",
     "output_type": "stream",
     "text": [
      "c:\\Users\\z5404477\\Documents\\PyNNLF\\.venv\\Lib\\site-packages\\sklearn\\base.py:1389: DataConversionWarning: A column-vector y was passed when a 1d array was expected. Please change the shape of y to (n_samples,), for example using ravel().\n",
      "  return fit_method(estimator, *args, **kwargs)\n"
     ]
    },
    {
     "name": "stdout",
     "output_type": "stream",
     "text": [
      "\n",
      "Processing CV 4 / 10....\n"
     ]
    },
    {
     "name": "stderr",
     "output_type": "stream",
     "text": [
      "c:\\Users\\z5404477\\Documents\\PyNNLF\\.venv\\Lib\\site-packages\\sklearn\\base.py:1389: DataConversionWarning: A column-vector y was passed when a 1d array was expected. Please change the shape of y to (n_samples,), for example using ravel().\n",
      "  return fit_method(estimator, *args, **kwargs)\n"
     ]
    },
    {
     "name": "stdout",
     "output_type": "stream",
     "text": [
      "\n",
      "Processing CV 5 / 10....\n"
     ]
    },
    {
     "name": "stderr",
     "output_type": "stream",
     "text": [
      "c:\\Users\\z5404477\\Documents\\PyNNLF\\.venv\\Lib\\site-packages\\sklearn\\base.py:1389: DataConversionWarning: A column-vector y was passed when a 1d array was expected. Please change the shape of y to (n_samples,), for example using ravel().\n",
      "  return fit_method(estimator, *args, **kwargs)\n"
     ]
    },
    {
     "name": "stdout",
     "output_type": "stream",
     "text": [
      "\n",
      "Processing CV 6 / 10....\n"
     ]
    },
    {
     "name": "stderr",
     "output_type": "stream",
     "text": [
      "c:\\Users\\z5404477\\Documents\\PyNNLF\\.venv\\Lib\\site-packages\\sklearn\\base.py:1389: DataConversionWarning: A column-vector y was passed when a 1d array was expected. Please change the shape of y to (n_samples,), for example using ravel().\n",
      "  return fit_method(estimator, *args, **kwargs)\n"
     ]
    },
    {
     "name": "stdout",
     "output_type": "stream",
     "text": [
      "\n",
      "Processing CV 7 / 10....\n"
     ]
    },
    {
     "name": "stderr",
     "output_type": "stream",
     "text": [
      "c:\\Users\\z5404477\\Documents\\PyNNLF\\.venv\\Lib\\site-packages\\sklearn\\base.py:1389: DataConversionWarning: A column-vector y was passed when a 1d array was expected. Please change the shape of y to (n_samples,), for example using ravel().\n",
      "  return fit_method(estimator, *args, **kwargs)\n"
     ]
    },
    {
     "name": "stdout",
     "output_type": "stream",
     "text": [
      "\n",
      "Processing CV 8 / 10....\n"
     ]
    },
    {
     "name": "stderr",
     "output_type": "stream",
     "text": [
      "c:\\Users\\z5404477\\Documents\\PyNNLF\\.venv\\Lib\\site-packages\\sklearn\\base.py:1389: DataConversionWarning: A column-vector y was passed when a 1d array was expected. Please change the shape of y to (n_samples,), for example using ravel().\n",
      "  return fit_method(estimator, *args, **kwargs)\n"
     ]
    },
    {
     "name": "stdout",
     "output_type": "stream",
     "text": [
      "\n",
      "Processing CV 9 / 10....\n"
     ]
    },
    {
     "name": "stderr",
     "output_type": "stream",
     "text": [
      "c:\\Users\\z5404477\\Documents\\PyNNLF\\.venv\\Lib\\site-packages\\sklearn\\base.py:1389: DataConversionWarning: A column-vector y was passed when a 1d array was expected. Please change the shape of y to (n_samples,), for example using ravel().\n",
      "  return fit_method(estimator, *args, **kwargs)\n"
     ]
    },
    {
     "name": "stdout",
     "output_type": "stream",
     "text": [
      "\n",
      "Processing CV 10 / 10....\n"
     ]
    },
    {
     "name": "stderr",
     "output_type": "stream",
     "text": [
      "c:\\Users\\z5404477\\Documents\\PyNNLF\\.venv\\Lib\\site-packages\\sklearn\\base.py:1389: DataConversionWarning: A column-vector y was passed when a 1d array was expected. Please change the shape of y to (n_samples,), for example using ravel().\n",
      "  return fit_method(estimator, *args, **kwargs)\n"
     ]
    },
    {
     "name": "stdout",
     "output_type": "stream",
     "text": [
      "\n",
      "Running m11_svr with hyperparameter hp1 on ds0_test.csv for forecast horizon 30\n",
      "Pass Test 1 - Forecast horizon is >= dataset frequency\n",
      "Pass Test 2 - Hyperparameter choice is possible given the forecast horizon\n",
      "Processing CV 1 / 10....\n",
      "\n",
      "Processing CV 2 / 10....\n",
      "\n",
      "Processing CV 3 / 10....\n",
      "\n",
      "Processing CV 4 / 10....\n",
      "\n",
      "Processing CV 5 / 10....\n",
      "\n",
      "Processing CV 6 / 10....\n",
      "\n",
      "Processing CV 7 / 10....\n",
      "\n",
      "Processing CV 8 / 10....\n",
      "\n",
      "Processing CV 9 / 10....\n",
      "\n",
      "Processing CV 10 / 10....\n",
      "\n",
      "Running m12_rnn with hyperparameter hp1 on ds0_test.csv for forecast horizon 30\n",
      "Pass Test 1 - Forecast horizon is >= dataset frequency\n",
      "Pass Test 2 - Hyperparameter choice is possible given the forecast horizon\n",
      "Processing CV 1 / 10....\n",
      "Epoch [1/2]\n",
      "Epoch [1/2] and batch [1/1]\n",
      "Epoch [1/2], Loss: 458791.9688, time taken: 1.80 seconds\n",
      "Epoch [2/2]\n",
      "Epoch [2/2] and batch [1/1]\n",
      "Epoch [2/2], Loss: 436810.4688, time taken: 1.52 seconds\n",
      "\n",
      "Processing CV 2 / 10....\n",
      "Epoch [1/2]\n",
      "Epoch [1/2] and batch [1/1]\n",
      "Epoch [1/2], Loss: 461053.9688, time taken: 1.61 seconds\n",
      "Epoch [2/2]\n",
      "Epoch [2/2] and batch [1/1]\n",
      "Epoch [2/2], Loss: 439014.1875, time taken: 1.42 seconds\n",
      "\n",
      "Processing CV 3 / 10....\n",
      "Epoch [1/2]\n",
      "Epoch [1/2] and batch [1/1]\n",
      "Epoch [1/2], Loss: 461028.8750, time taken: 1.62 seconds\n",
      "Epoch [2/2]\n",
      "Epoch [2/2] and batch [1/1]\n",
      "Epoch [2/2], Loss: 438974.9375, time taken: 1.47 seconds\n",
      "\n",
      "Processing CV 4 / 10....\n",
      "Epoch [1/2]\n",
      "Epoch [1/2] and batch [1/1]\n",
      "Epoch [1/2], Loss: 461906.7500, time taken: 1.62 seconds\n",
      "Epoch [2/2]\n",
      "Epoch [2/2] and batch [1/1]\n",
      "Epoch [2/2], Loss: 439818.7812, time taken: 1.49 seconds\n",
      "\n",
      "Processing CV 5 / 10....\n",
      "Epoch [1/2]\n",
      "Epoch [1/2] and batch [1/1]\n",
      "Epoch [1/2], Loss: 462013.0312, time taken: 1.62 seconds\n",
      "Epoch [2/2]\n",
      "Epoch [2/2] and batch [1/1]\n",
      "Epoch [2/2], Loss: 439924.6562, time taken: 1.49 seconds\n",
      "\n",
      "Processing CV 6 / 10....\n",
      "Epoch [1/2]\n",
      "Epoch [1/2] and batch [1/1]\n",
      "Epoch [1/2], Loss: 468181.5000, time taken: 1.35 seconds\n",
      "Epoch [2/2]\n",
      "Epoch [2/2] and batch [1/1]\n",
      "Epoch [2/2], Loss: 445936.9375, time taken: 1.39 seconds\n",
      "\n",
      "Processing CV 7 / 10....\n",
      "Epoch [1/2]\n",
      "Epoch [1/2] and batch [1/1]\n",
      "Epoch [1/2], Loss: 468825.1562, time taken: 1.40 seconds\n",
      "Epoch [2/2]\n",
      "Epoch [2/2] and batch [1/1]\n",
      "Epoch [2/2], Loss: 446586.0312, time taken: 1.31 seconds\n",
      "\n",
      "Processing CV 8 / 10....\n",
      "Epoch [1/2]\n",
      "Epoch [1/2] and batch [1/1]\n",
      "Epoch [1/2], Loss: 473308.3125, time taken: 1.44 seconds\n",
      "Epoch [2/2]\n",
      "Epoch [2/2] and batch [1/1]\n",
      "Epoch [2/2], Loss: 450954.1250, time taken: 1.60 seconds\n",
      "\n",
      "Processing CV 9 / 10....\n",
      "Epoch [1/2]\n",
      "Epoch [1/2] and batch [1/1]\n",
      "Epoch [1/2], Loss: 470309.9375, time taken: 1.46 seconds\n",
      "Epoch [2/2]\n",
      "Epoch [2/2] and batch [1/1]\n",
      "Epoch [2/2], Loss: 448016.8750, time taken: 1.41 seconds\n",
      "\n",
      "Processing CV 10 / 10....\n",
      "Epoch [1/2]\n",
      "Epoch [1/2] and batch [1/1]\n",
      "Epoch [1/2], Loss: 473076.6875, time taken: 1.52 seconds\n",
      "Epoch [2/2]\n",
      "Epoch [2/2] and batch [1/1]\n",
      "Epoch [2/2], Loss: 450741.5312, time taken: 1.42 seconds\n",
      "\n",
      "Running m13_lstm with hyperparameter hp1 on ds0_test.csv for forecast horizon 30\n",
      "Pass Test 1 - Forecast horizon is >= dataset frequency\n",
      "Pass Test 2 - Hyperparameter choice is possible given the forecast horizon\n",
      "Processing CV 1 / 10....\n",
      "Epoch [1/2]\n",
      "Epoch [1/2] and batch [1/1]\n",
      "Epoch [1/2], Loss: 2274715.0000, time taken: 4.04 seconds\n",
      "Epoch [2/2]\n",
      "Epoch [2/2] and batch [1/1]\n",
      "Epoch [2/2], Loss: 2224363.2500, time taken: 4.37 seconds\n",
      "\n",
      "Processing CV 2 / 10....\n",
      "Epoch [1/2]\n",
      "Epoch [1/2] and batch [1/1]\n",
      "Epoch [1/2], Loss: 2270361.7500, time taken: 3.98 seconds\n",
      "Epoch [2/2]\n",
      "Epoch [2/2] and batch [1/1]\n",
      "Epoch [2/2], Loss: 2220057.5000, time taken: 5.29 seconds\n",
      "\n",
      "Processing CV 3 / 10....\n",
      "Epoch [1/2]\n",
      "Epoch [1/2] and batch [1/1]\n",
      "Epoch [1/2], Loss: 2268984.5000, time taken: 4.64 seconds\n",
      "Epoch [2/2]\n",
      "Epoch [2/2] and batch [1/1]\n",
      "Epoch [2/2], Loss: 2218687.7500, time taken: 3.87 seconds\n",
      "\n",
      "Processing CV 4 / 10....\n",
      "Epoch [1/2]\n",
      "Epoch [1/2] and batch [1/1]\n",
      "Epoch [1/2], Loss: 2265992.0000, time taken: 5.18 seconds\n",
      "Epoch [2/2]\n",
      "Epoch [2/2] and batch [1/1]\n",
      "Epoch [2/2], Loss: 2215722.0000, time taken: 4.22 seconds\n",
      "\n",
      "Processing CV 5 / 10....\n",
      "Epoch [1/2]\n",
      "Epoch [1/2] and batch [1/1]\n",
      "Epoch [1/2], Loss: 2266295.7500, time taken: 4.13 seconds\n",
      "Epoch [2/2]\n",
      "Epoch [2/2] and batch [1/1]\n",
      "Epoch [2/2], Loss: 2216021.2500, time taken: 4.13 seconds\n",
      "\n",
      "Processing CV 6 / 10....\n",
      "Epoch [1/2]\n",
      "Epoch [1/2] and batch [1/1]\n",
      "Epoch [1/2], Loss: 2252616.0000, time taken: 4.38 seconds\n",
      "Epoch [2/2]\n",
      "Epoch [2/2] and batch [1/1]\n",
      "Epoch [2/2], Loss: 2202493.2500, time taken: 3.48 seconds\n",
      "\n",
      "Processing CV 7 / 10....\n",
      "Epoch [1/2]\n",
      "Epoch [1/2] and batch [1/1]\n",
      "Epoch [1/2], Loss: 2254046.0000, time taken: 3.64 seconds\n",
      "Epoch [2/2]\n",
      "Epoch [2/2] and batch [1/1]\n",
      "Epoch [2/2], Loss: 2203914.2500, time taken: 3.62 seconds\n",
      "\n",
      "Processing CV 8 / 10....\n",
      "Epoch [1/2]\n",
      "Epoch [1/2] and batch [1/1]\n",
      "Epoch [1/2], Loss: 2244625.0000, time taken: 3.96 seconds\n",
      "Epoch [2/2]\n",
      "Epoch [2/2] and batch [1/1]\n",
      "Epoch [2/2], Loss: 2194598.2500, time taken: 4.14 seconds\n",
      "\n",
      "Processing CV 9 / 10....\n",
      "Epoch [1/2]\n",
      "Epoch [1/2] and batch [1/1]\n",
      "Epoch [1/2], Loss: 2249514.7500, time taken: 3.79 seconds\n",
      "Epoch [2/2]\n",
      "Epoch [2/2] and batch [1/1]\n",
      "Epoch [2/2], Loss: 2199424.0000, time taken: 3.61 seconds\n",
      "\n",
      "Processing CV 10 / 10....\n",
      "Epoch [1/2]\n",
      "Epoch [1/2] and batch [1/1]\n",
      "Epoch [1/2], Loss: 2247391.5000, time taken: 5.02 seconds\n",
      "Epoch [2/2]\n",
      "Epoch [2/2] and batch [1/1]\n",
      "Epoch [2/2], Loss: 2197334.0000, time taken: 4.04 seconds\n",
      "\n",
      "Running m14_gru with hyperparameter hp1 on ds0_test.csv for forecast horizon 30\n",
      "Pass Test 1 - Forecast horizon is >= dataset frequency\n",
      "Pass Test 2 - Hyperparameter choice is possible given the forecast horizon\n",
      "Processing CV 1 / 10....\n",
      "Epoch [1/2]\n",
      "Epoch [1/2] and batch [1/1]\n",
      "Epoch [1/2], Loss: 941273.6250, time taken: 2.50s\n",
      "Epoch [2/2]\n",
      "Epoch [2/2] and batch [1/1]\n",
      "Epoch [2/2], Loss: 909094.5000, time taken: 2.40s\n",
      "\n",
      "Processing CV 2 / 10....\n",
      "Epoch [1/2]\n",
      "Epoch [1/2] and batch [1/1]\n",
      "Epoch [1/2], Loss: 944523.6875, time taken: 2.53s\n",
      "Epoch [2/2]\n",
      "Epoch [2/2] and batch [1/1]\n",
      "Epoch [2/2], Loss: 912285.9375, time taken: 2.06s\n",
      "\n",
      "Processing CV 3 / 10....\n",
      "Epoch [1/2]\n",
      "Epoch [1/2] and batch [1/1]\n",
      "Epoch [1/2], Loss: 944736.0625, time taken: 2.13s\n",
      "Epoch [2/2]\n",
      "Epoch [2/2] and batch [1/1]\n",
      "Epoch [2/2], Loss: 912486.3750, time taken: 2.02s\n",
      "\n",
      "Processing CV 4 / 10....\n",
      "Epoch [1/2]\n",
      "Epoch [1/2] and batch [1/1]\n",
      "Epoch [1/2], Loss: 946209.7500, time taken: 2.48s\n",
      "Epoch [2/2]\n",
      "Epoch [2/2] and batch [1/1]\n",
      "Epoch [2/2], Loss: 913925.2500, time taken: 2.36s\n",
      "\n",
      "Processing CV 5 / 10....\n",
      "Epoch [1/2]\n",
      "Epoch [1/2] and batch [1/1]\n",
      "Epoch [1/2], Loss: 946342.6250, time taken: 2.26s\n",
      "Epoch [2/2]\n",
      "Epoch [2/2] and batch [1/1]\n",
      "Epoch [2/2], Loss: 914055.4375, time taken: 2.25s\n",
      "\n",
      "Processing CV 6 / 10....\n",
      "Epoch [1/2]\n",
      "Epoch [1/2] and batch [1/1]\n",
      "Epoch [1/2], Loss: 955316.3750, time taken: 2.40s\n",
      "Epoch [2/2]\n",
      "Epoch [2/2] and batch [1/1]\n",
      "Epoch [2/2], Loss: 922867.8125, time taken: 2.48s\n",
      "\n",
      "Processing CV 7 / 10....\n",
      "Epoch [1/2]\n",
      "Epoch [1/2] and batch [1/1]\n",
      "Epoch [1/2], Loss: 955913.5625, time taken: 2.47s\n",
      "Epoch [2/2]\n",
      "Epoch [2/2] and batch [1/1]\n",
      "Epoch [2/2], Loss: 923463.8125, time taken: 2.83s\n",
      "\n",
      "Processing CV 8 / 10....\n",
      "Epoch [1/2]\n",
      "Epoch [1/2] and batch [1/1]\n",
      "Epoch [1/2], Loss: 962427.7500, time taken: 2.09s\n",
      "Epoch [2/2]\n",
      "Epoch [2/2] and batch [1/1]\n",
      "Epoch [2/2], Loss: 929865.7500, time taken: 2.22s\n",
      "\n",
      "Processing CV 9 / 10....\n",
      "Epoch [1/2]\n",
      "Epoch [1/2] and batch [1/1]\n",
      "Epoch [1/2], Loss: 958382.0625, time taken: 2.21s\n",
      "Epoch [2/2]\n",
      "Epoch [2/2] and batch [1/1]\n",
      "Epoch [2/2], Loss: 925878.6875, time taken: 2.16s\n",
      "\n",
      "Processing CV 10 / 10....\n",
      "Epoch [1/2]\n",
      "Epoch [1/2] and batch [1/1]\n",
      "Epoch [1/2], Loss: 961886.0000, time taken: 2.21s\n",
      "Epoch [2/2]\n",
      "Epoch [2/2] and batch [1/1]\n",
      "Epoch [2/2], Loss: 929332.1250, time taken: 2.20s\n",
      "\n",
      "Running m15_transformer with hyperparameter hp1 on ds0_test.csv for forecast horizon 30\n",
      "Pass Test 1 - Forecast horizon is >= dataset frequency\n",
      "Pass Test 2 - Hyperparameter choice is possible given the forecast horizon\n",
      "Processing CV 1 / 10....\n",
      "Epoch [1/2]\n",
      "Epoch [1/2] batch [1/1]\n",
      "Epoch [1/2], Loss: 24858.5078, time: 46.43s\n",
      "Epoch [2/2]\n",
      "Epoch [2/2] batch [1/1]\n",
      "Epoch [2/2], Loss: 25053.9316, time: 19.70s\n",
      "\n",
      "Processing CV 2 / 10....\n",
      "Epoch [1/2]\n",
      "Epoch [1/2] batch [1/1]\n",
      "Epoch [1/2], Loss: 24991.9414, time: 18.65s\n",
      "Epoch [2/2]\n",
      "Epoch [2/2] batch [1/1]\n",
      "Epoch [2/2], Loss: 25207.1211, time: 20.18s\n",
      "\n",
      "Processing CV 3 / 10....\n",
      "Epoch [1/2]\n",
      "Epoch [1/2] batch [1/1]\n",
      "Epoch [1/2], Loss: 24443.8438, time: 17.96s\n",
      "Epoch [2/2]\n",
      "Epoch [2/2] batch [1/1]\n",
      "Epoch [2/2], Loss: 24648.7891, time: 17.65s\n",
      "\n",
      "Processing CV 4 / 10....\n",
      "Epoch [1/2]\n",
      "Epoch [1/2] batch [1/1]\n",
      "Epoch [1/2], Loss: 24037.0898, time: 20.48s\n",
      "Epoch [2/2]\n",
      "Epoch [2/2] batch [1/1]\n",
      "Epoch [2/2], Loss: 24211.8574, time: 18.99s\n",
      "\n",
      "Processing CV 5 / 10....\n",
      "Epoch [1/2]\n",
      "Epoch [1/2] batch [1/1]\n",
      "Epoch [1/2], Loss: 24106.5586, time: 15.79s\n",
      "Epoch [2/2]\n",
      "Epoch [2/2] batch [1/1]\n",
      "Epoch [2/2], Loss: 24279.4609, time: 15.94s\n",
      "\n",
      "Processing CV 6 / 10....\n",
      "Epoch [1/2]\n",
      "Epoch [1/2] batch [1/1]\n",
      "Epoch [1/2], Loss: 24112.5645, time: 17.25s\n",
      "Epoch [2/2]\n",
      "Epoch [2/2] batch [1/1]\n",
      "Epoch [2/2], Loss: 24127.4062, time: 16.24s\n",
      "\n",
      "Processing CV 7 / 10....\n",
      "Epoch [1/2]\n",
      "Epoch [1/2] batch [1/1]\n",
      "Epoch [1/2], Loss: 24915.1621, time: 25.59s\n",
      "Epoch [2/2]\n",
      "Epoch [2/2] batch [1/1]\n",
      "Epoch [2/2], Loss: 24945.3125, time: 17.72s\n",
      "\n",
      "Processing CV 8 / 10....\n",
      "Epoch [1/2]\n",
      "Epoch [1/2] batch [1/1]\n",
      "Epoch [1/2], Loss: 25054.5352, time: 18.09s\n",
      "Epoch [2/2]\n",
      "Epoch [2/2] batch [1/1]\n",
      "Epoch [2/2], Loss: 24979.8887, time: 23.94s\n",
      "\n",
      "Processing CV 9 / 10....\n",
      "Epoch [1/2]\n",
      "Epoch [1/2] batch [1/1]\n",
      "Epoch [1/2], Loss: 24377.6992, time: 17.63s\n",
      "Epoch [2/2]\n",
      "Epoch [2/2] batch [1/1]\n",
      "Epoch [2/2], Loss: 24359.3203, time: 18.32s\n",
      "\n",
      "Processing CV 10 / 10....\n",
      "Epoch [1/2]\n",
      "Epoch [1/2] batch [1/1]\n",
      "Epoch [1/2], Loss: 25551.6035, time: 17.35s\n",
      "Epoch [2/2]\n",
      "Epoch [2/2] batch [1/1]\n",
      "Epoch [2/2], Loss: 25495.5586, time: 17.23s\n",
      "\n",
      "Running m16_prophet with hyperparameter hp1 on ds0_test.csv for forecast horizon 30\n",
      "Pass Test 1 - Forecast horizon is >= dataset frequency\n",
      "Pass Test 2 - Hyperparameter choice is possible given the forecast horizon\n",
      "Processing CV 1 / 10....\n"
     ]
    },
    {
     "name": "stderr",
     "output_type": "stream",
     "text": [
      "09:06:14 - cmdstanpy - INFO - Chain [1] start processing\n",
      "09:06:14 - cmdstanpy - INFO - Chain [1] done processing\n",
      "C:\\Users\\z5404477\\AppData\\Local\\Temp\\ipykernel_33584\\1029035988.py:39: SettingWithCopyWarning: \n",
      "A value is trying to be set on a copy of a slice from a DataFrame\n",
      "\n",
      "See the caveats in the documentation: https://pandas.pydata.org/pandas-docs/stable/user_guide/indexing.html#returning-a-view-versus-a-copy\n",
      "  X_exog.rename(columns={'datetime': 'ds'}, inplace=True)\n",
      "C:\\Users\\z5404477\\AppData\\Local\\Temp\\ipykernel_33584\\1029035988.py:96: SettingWithCopyWarning: \n",
      "A value is trying to be set on a copy of a slice from a DataFrame\n",
      "\n",
      "See the caveats in the documentation: https://pandas.pydata.org/pandas-docs/stable/user_guide/indexing.html#returning-a-view-versus-a-copy\n",
      "  X_test.rename(columns={'datetime': 'ds'}, inplace=True)\n",
      "09:06:15 - cmdstanpy - INFO - Chain [1] start processing\n"
     ]
    },
    {
     "name": "stdout",
     "output_type": "stream",
     "text": [
      "Processing i =  1  out of  100\n",
      "Processing i =  2  out of  100\n"
     ]
    },
    {
     "name": "stderr",
     "output_type": "stream",
     "text": [
      "09:06:15 - cmdstanpy - INFO - Chain [1] done processing\n",
      "09:06:15 - cmdstanpy - INFO - Chain [1] start processing\n"
     ]
    },
    {
     "name": "stdout",
     "output_type": "stream",
     "text": [
      "Processing i =  3  out of  100\n"
     ]
    },
    {
     "name": "stderr",
     "output_type": "stream",
     "text": [
      "09:06:15 - cmdstanpy - INFO - Chain [1] done processing\n",
      "09:06:15 - cmdstanpy - INFO - Chain [1] start processing\n"
     ]
    },
    {
     "name": "stdout",
     "output_type": "stream",
     "text": [
      "Processing i =  4  out of  100\n"
     ]
    },
    {
     "name": "stderr",
     "output_type": "stream",
     "text": [
      "09:06:15 - cmdstanpy - INFO - Chain [1] done processing\n",
      "09:06:15 - cmdstanpy - INFO - Chain [1] start processing\n",
      "09:06:16 - cmdstanpy - INFO - Chain [1] done processing\n"
     ]
    },
    {
     "name": "stdout",
     "output_type": "stream",
     "text": [
      "Processing i =  5  out of  100\n",
      "Processing i =  6  out of  100\n"
     ]
    },
    {
     "name": "stderr",
     "output_type": "stream",
     "text": [
      "09:06:16 - cmdstanpy - INFO - Chain [1] start processing\n",
      "09:06:16 - cmdstanpy - INFO - Chain [1] done processing\n",
      "09:06:16 - cmdstanpy - INFO - Chain [1] start processing\n"
     ]
    },
    {
     "name": "stdout",
     "output_type": "stream",
     "text": [
      "Processing i =  7  out of  100\n"
     ]
    },
    {
     "name": "stderr",
     "output_type": "stream",
     "text": [
      "09:06:16 - cmdstanpy - INFO - Chain [1] done processing\n",
      "09:06:16 - cmdstanpy - INFO - Chain [1] start processing\n"
     ]
    },
    {
     "name": "stdout",
     "output_type": "stream",
     "text": [
      "Processing i =  8  out of  100\n"
     ]
    },
    {
     "name": "stderr",
     "output_type": "stream",
     "text": [
      "09:06:16 - cmdstanpy - INFO - Chain [1] done processing\n",
      "09:06:16 - cmdstanpy - INFO - Chain [1] start processing\n"
     ]
    },
    {
     "name": "stdout",
     "output_type": "stream",
     "text": [
      "Processing i =  9  out of  100\n"
     ]
    },
    {
     "name": "stderr",
     "output_type": "stream",
     "text": [
      "09:06:17 - cmdstanpy - INFO - Chain [1] done processing\n",
      "09:06:17 - cmdstanpy - INFO - Chain [1] start processing\n"
     ]
    },
    {
     "name": "stdout",
     "output_type": "stream",
     "text": [
      "Processing i =  10  out of  100\n"
     ]
    },
    {
     "name": "stderr",
     "output_type": "stream",
     "text": [
      "09:06:17 - cmdstanpy - INFO - Chain [1] done processing\n",
      "09:06:17 - cmdstanpy - INFO - Chain [1] start processing\n"
     ]
    },
    {
     "name": "stdout",
     "output_type": "stream",
     "text": [
      "Processing i =  11  out of  100\n"
     ]
    },
    {
     "name": "stderr",
     "output_type": "stream",
     "text": [
      "09:06:17 - cmdstanpy - INFO - Chain [1] done processing\n",
      "09:06:17 - cmdstanpy - INFO - Chain [1] start processing\n",
      "09:06:17 - cmdstanpy - INFO - Chain [1] done processing\n"
     ]
    },
    {
     "name": "stdout",
     "output_type": "stream",
     "text": [
      "Processing i =  12  out of  100\n"
     ]
    },
    {
     "name": "stderr",
     "output_type": "stream",
     "text": [
      "09:06:17 - cmdstanpy - INFO - Chain [1] start processing\n"
     ]
    },
    {
     "name": "stdout",
     "output_type": "stream",
     "text": [
      "Processing i =  13  out of  100\n"
     ]
    },
    {
     "name": "stderr",
     "output_type": "stream",
     "text": [
      "09:06:18 - cmdstanpy - INFO - Chain [1] done processing\n",
      "09:06:18 - cmdstanpy - INFO - Chain [1] start processing\n"
     ]
    },
    {
     "name": "stdout",
     "output_type": "stream",
     "text": [
      "Processing i =  14  out of  100\n"
     ]
    },
    {
     "name": "stderr",
     "output_type": "stream",
     "text": [
      "09:06:18 - cmdstanpy - INFO - Chain [1] done processing\n",
      "09:06:18 - cmdstanpy - INFO - Chain [1] start processing\n"
     ]
    },
    {
     "name": "stdout",
     "output_type": "stream",
     "text": [
      "Processing i =  15  out of  100\n"
     ]
    },
    {
     "name": "stderr",
     "output_type": "stream",
     "text": [
      "09:06:18 - cmdstanpy - INFO - Chain [1] done processing\n",
      "09:06:18 - cmdstanpy - INFO - Chain [1] start processing\n",
      "09:06:18 - cmdstanpy - INFO - Chain [1] done processing\n"
     ]
    },
    {
     "name": "stdout",
     "output_type": "stream",
     "text": [
      "Processing i =  16  out of  100\n"
     ]
    },
    {
     "name": "stderr",
     "output_type": "stream",
     "text": [
      "09:06:18 - cmdstanpy - INFO - Chain [1] start processing\n",
      "09:06:19 - cmdstanpy - INFO - Chain [1] done processing\n"
     ]
    },
    {
     "name": "stdout",
     "output_type": "stream",
     "text": [
      "Processing i =  17  out of  100\n"
     ]
    },
    {
     "name": "stderr",
     "output_type": "stream",
     "text": [
      "09:06:19 - cmdstanpy - INFO - Chain [1] start processing\n"
     ]
    },
    {
     "name": "stdout",
     "output_type": "stream",
     "text": [
      "Processing i =  18  out of  100\n"
     ]
    },
    {
     "name": "stderr",
     "output_type": "stream",
     "text": [
      "09:06:19 - cmdstanpy - INFO - Chain [1] done processing\n",
      "09:06:19 - cmdstanpy - INFO - Chain [1] start processing\n"
     ]
    },
    {
     "name": "stdout",
     "output_type": "stream",
     "text": [
      "Processing i =  19  out of  100\n"
     ]
    },
    {
     "name": "stderr",
     "output_type": "stream",
     "text": [
      "09:06:19 - cmdstanpy - INFO - Chain [1] done processing\n"
     ]
    },
    {
     "name": "stdout",
     "output_type": "stream",
     "text": [
      "Processing i =  20  out of  100\n"
     ]
    },
    {
     "name": "stderr",
     "output_type": "stream",
     "text": [
      "09:06:19 - cmdstanpy - INFO - Chain [1] start processing\n",
      "09:06:19 - cmdstanpy - INFO - Chain [1] done processing\n",
      "09:06:20 - cmdstanpy - INFO - Chain [1] start processing\n"
     ]
    },
    {
     "name": "stdout",
     "output_type": "stream",
     "text": [
      "Processing i =  21  out of  100\n"
     ]
    },
    {
     "name": "stderr",
     "output_type": "stream",
     "text": [
      "09:06:20 - cmdstanpy - INFO - Chain [1] done processing\n"
     ]
    },
    {
     "name": "stdout",
     "output_type": "stream",
     "text": [
      "Processing i =  22  out of  100\n"
     ]
    },
    {
     "name": "stderr",
     "output_type": "stream",
     "text": [
      "09:06:20 - cmdstanpy - INFO - Chain [1] start processing\n",
      "09:06:20 - cmdstanpy - INFO - Chain [1] done processing\n"
     ]
    },
    {
     "name": "stdout",
     "output_type": "stream",
     "text": [
      "Processing i =  23  out of  100\n"
     ]
    },
    {
     "name": "stderr",
     "output_type": "stream",
     "text": [
      "09:06:22 - cmdstanpy - INFO - Chain [1] start processing\n",
      "09:06:22 - cmdstanpy - INFO - Chain [1] done processing\n",
      "09:06:22 - cmdstanpy - INFO - Chain [1] start processing\n",
      "09:06:22 - cmdstanpy - INFO - Chain [1] done processing\n"
     ]
    },
    {
     "name": "stdout",
     "output_type": "stream",
     "text": [
      "Processing i =  24  out of  100\n"
     ]
    },
    {
     "name": "stderr",
     "output_type": "stream",
     "text": [
      "09:06:22 - cmdstanpy - INFO - Chain [1] start processing\n",
      "09:06:22 - cmdstanpy - INFO - Chain [1] done processing\n"
     ]
    },
    {
     "name": "stdout",
     "output_type": "stream",
     "text": [
      "Processing i =  25  out of  100\n"
     ]
    },
    {
     "name": "stderr",
     "output_type": "stream",
     "text": [
      "09:06:23 - cmdstanpy - INFO - Chain [1] start processing\n"
     ]
    },
    {
     "name": "stdout",
     "output_type": "stream",
     "text": [
      "Processing i =  26  out of  100\n"
     ]
    },
    {
     "name": "stderr",
     "output_type": "stream",
     "text": [
      "09:06:23 - cmdstanpy - INFO - Chain [1] done processing\n",
      "09:06:23 - cmdstanpy - INFO - Chain [1] start processing\n"
     ]
    },
    {
     "name": "stdout",
     "output_type": "stream",
     "text": [
      "Processing i =  27  out of  100\n"
     ]
    },
    {
     "name": "stderr",
     "output_type": "stream",
     "text": [
      "09:06:23 - cmdstanpy - INFO - Chain [1] done processing\n",
      "09:06:23 - cmdstanpy - INFO - Chain [1] start processing\n"
     ]
    },
    {
     "name": "stdout",
     "output_type": "stream",
     "text": [
      "Processing i =  28  out of  100\n"
     ]
    },
    {
     "name": "stderr",
     "output_type": "stream",
     "text": [
      "09:06:23 - cmdstanpy - INFO - Chain [1] done processing\n",
      "09:06:23 - cmdstanpy - INFO - Chain [1] start processing\n"
     ]
    },
    {
     "name": "stdout",
     "output_type": "stream",
     "text": [
      "Processing i =  29  out of  100\n"
     ]
    },
    {
     "name": "stderr",
     "output_type": "stream",
     "text": [
      "09:06:24 - cmdstanpy - INFO - Chain [1] done processing\n",
      "09:06:24 - cmdstanpy - INFO - Chain [1] start processing\n"
     ]
    },
    {
     "name": "stdout",
     "output_type": "stream",
     "text": [
      "Processing i =  30  out of  100\n"
     ]
    },
    {
     "name": "stderr",
     "output_type": "stream",
     "text": [
      "09:06:24 - cmdstanpy - INFO - Chain [1] done processing\n",
      "09:06:24 - cmdstanpy - INFO - Chain [1] start processing\n"
     ]
    },
    {
     "name": "stdout",
     "output_type": "stream",
     "text": [
      "Processing i =  31  out of  100\n"
     ]
    },
    {
     "name": "stderr",
     "output_type": "stream",
     "text": [
      "09:06:24 - cmdstanpy - INFO - Chain [1] done processing\n",
      "09:06:24 - cmdstanpy - INFO - Chain [1] start processing\n"
     ]
    },
    {
     "name": "stdout",
     "output_type": "stream",
     "text": [
      "Processing i =  32  out of  100\n"
     ]
    },
    {
     "name": "stderr",
     "output_type": "stream",
     "text": [
      "09:06:24 - cmdstanpy - INFO - Chain [1] done processing\n",
      "09:06:25 - cmdstanpy - INFO - Chain [1] start processing\n",
      "09:06:25 - cmdstanpy - INFO - Chain [1] done processing\n"
     ]
    },
    {
     "name": "stdout",
     "output_type": "stream",
     "text": [
      "Processing i =  33  out of  100\n"
     ]
    },
    {
     "name": "stderr",
     "output_type": "stream",
     "text": [
      "09:06:25 - cmdstanpy - INFO - Chain [1] start processing\n"
     ]
    },
    {
     "name": "stdout",
     "output_type": "stream",
     "text": [
      "Processing i =  34  out of  100\n"
     ]
    },
    {
     "name": "stderr",
     "output_type": "stream",
     "text": [
      "09:06:25 - cmdstanpy - INFO - Chain [1] done processing\n",
      "09:06:25 - cmdstanpy - INFO - Chain [1] start processing\n"
     ]
    },
    {
     "name": "stdout",
     "output_type": "stream",
     "text": [
      "Processing i =  35  out of  100\n"
     ]
    },
    {
     "name": "stderr",
     "output_type": "stream",
     "text": [
      "09:06:25 - cmdstanpy - INFO - Chain [1] done processing\n",
      "09:06:25 - cmdstanpy - INFO - Chain [1] start processing\n"
     ]
    },
    {
     "name": "stdout",
     "output_type": "stream",
     "text": [
      "Processing i =  36  out of  100\n"
     ]
    },
    {
     "name": "stderr",
     "output_type": "stream",
     "text": [
      "09:06:25 - cmdstanpy - INFO - Chain [1] done processing\n",
      "09:06:26 - cmdstanpy - INFO - Chain [1] start processing\n"
     ]
    },
    {
     "name": "stdout",
     "output_type": "stream",
     "text": [
      "Processing i =  37  out of  100\n"
     ]
    },
    {
     "name": "stderr",
     "output_type": "stream",
     "text": [
      "09:06:26 - cmdstanpy - INFO - Chain [1] done processing\n",
      "09:06:26 - cmdstanpy - INFO - Chain [1] start processing\n"
     ]
    },
    {
     "name": "stdout",
     "output_type": "stream",
     "text": [
      "Processing i =  38  out of  100\n"
     ]
    },
    {
     "name": "stderr",
     "output_type": "stream",
     "text": [
      "09:06:26 - cmdstanpy - INFO - Chain [1] done processing\n",
      "09:06:26 - cmdstanpy - INFO - Chain [1] start processing\n"
     ]
    },
    {
     "name": "stdout",
     "output_type": "stream",
     "text": [
      "Processing i =  39  out of  100\n"
     ]
    },
    {
     "name": "stderr",
     "output_type": "stream",
     "text": [
      "09:06:26 - cmdstanpy - INFO - Chain [1] done processing\n",
      "09:06:26 - cmdstanpy - INFO - Chain [1] start processing\n"
     ]
    },
    {
     "name": "stdout",
     "output_type": "stream",
     "text": [
      "Processing i =  40  out of  100\n"
     ]
    },
    {
     "name": "stderr",
     "output_type": "stream",
     "text": [
      "09:06:27 - cmdstanpy - INFO - Chain [1] done processing\n",
      "09:06:27 - cmdstanpy - INFO - Chain [1] start processing\n"
     ]
    },
    {
     "name": "stdout",
     "output_type": "stream",
     "text": [
      "Processing i =  41  out of  100\n"
     ]
    },
    {
     "name": "stderr",
     "output_type": "stream",
     "text": [
      "09:06:27 - cmdstanpy - INFO - Chain [1] done processing\n",
      "09:06:27 - cmdstanpy - INFO - Chain [1] start processing\n"
     ]
    },
    {
     "name": "stdout",
     "output_type": "stream",
     "text": [
      "Processing i =  42  out of  100\n"
     ]
    },
    {
     "name": "stderr",
     "output_type": "stream",
     "text": [
      "09:06:27 - cmdstanpy - INFO - Chain [1] done processing\n",
      "09:06:27 - cmdstanpy - INFO - Chain [1] start processing\n"
     ]
    },
    {
     "name": "stdout",
     "output_type": "stream",
     "text": [
      "Processing i =  43  out of  100\n"
     ]
    },
    {
     "name": "stderr",
     "output_type": "stream",
     "text": [
      "09:06:27 - cmdstanpy - INFO - Chain [1] done processing\n",
      "09:06:28 - cmdstanpy - INFO - Chain [1] start processing\n"
     ]
    },
    {
     "name": "stdout",
     "output_type": "stream",
     "text": [
      "Processing i =  44  out of  100\n"
     ]
    },
    {
     "name": "stderr",
     "output_type": "stream",
     "text": [
      "09:06:28 - cmdstanpy - INFO - Chain [1] done processing\n",
      "09:06:28 - cmdstanpy - INFO - Chain [1] start processing\n"
     ]
    },
    {
     "name": "stdout",
     "output_type": "stream",
     "text": [
      "Processing i =  45  out of  100\n"
     ]
    },
    {
     "name": "stderr",
     "output_type": "stream",
     "text": [
      "09:06:28 - cmdstanpy - INFO - Chain [1] done processing\n",
      "09:06:28 - cmdstanpy - INFO - Chain [1] start processing\n",
      "09:06:28 - cmdstanpy - INFO - Chain [1] done processing\n"
     ]
    },
    {
     "name": "stdout",
     "output_type": "stream",
     "text": [
      "Processing i =  46  out of  100\n"
     ]
    },
    {
     "name": "stderr",
     "output_type": "stream",
     "text": [
      "09:06:28 - cmdstanpy - INFO - Chain [1] start processing\n"
     ]
    },
    {
     "name": "stdout",
     "output_type": "stream",
     "text": [
      "Processing i =  47  out of  100\n"
     ]
    },
    {
     "name": "stderr",
     "output_type": "stream",
     "text": [
      "09:06:29 - cmdstanpy - INFO - Chain [1] done processing\n",
      "09:06:29 - cmdstanpy - INFO - Chain [1] start processing\n"
     ]
    },
    {
     "name": "stdout",
     "output_type": "stream",
     "text": [
      "Processing i =  48  out of  100\n"
     ]
    },
    {
     "name": "stderr",
     "output_type": "stream",
     "text": [
      "09:06:29 - cmdstanpy - INFO - Chain [1] done processing\n",
      "09:06:29 - cmdstanpy - INFO - Chain [1] start processing\n",
      "09:06:29 - cmdstanpy - INFO - Chain [1] done processing\n"
     ]
    },
    {
     "name": "stdout",
     "output_type": "stream",
     "text": [
      "Processing i =  49  out of  100\n"
     ]
    },
    {
     "name": "stderr",
     "output_type": "stream",
     "text": [
      "09:06:29 - cmdstanpy - INFO - Chain [1] start processing\n"
     ]
    },
    {
     "name": "stdout",
     "output_type": "stream",
     "text": [
      "Processing i =  50  out of  100\n"
     ]
    },
    {
     "name": "stderr",
     "output_type": "stream",
     "text": [
      "09:06:29 - cmdstanpy - INFO - Chain [1] done processing\n",
      "09:06:29 - cmdstanpy - INFO - Chain [1] start processing\n"
     ]
    },
    {
     "name": "stdout",
     "output_type": "stream",
     "text": [
      "Processing i =  51  out of  100\n"
     ]
    },
    {
     "name": "stderr",
     "output_type": "stream",
     "text": [
      "09:06:30 - cmdstanpy - INFO - Chain [1] done processing\n",
      "09:06:30 - cmdstanpy - INFO - Chain [1] start processing\n"
     ]
    },
    {
     "name": "stdout",
     "output_type": "stream",
     "text": [
      "Processing i =  52  out of  100\n"
     ]
    },
    {
     "name": "stderr",
     "output_type": "stream",
     "text": [
      "09:06:30 - cmdstanpy - INFO - Chain [1] done processing\n",
      "09:06:30 - cmdstanpy - INFO - Chain [1] start processing\n"
     ]
    },
    {
     "name": "stdout",
     "output_type": "stream",
     "text": [
      "Processing i =  53  out of  100\n"
     ]
    },
    {
     "name": "stderr",
     "output_type": "stream",
     "text": [
      "09:06:30 - cmdstanpy - INFO - Chain [1] done processing\n",
      "09:06:30 - cmdstanpy - INFO - Chain [1] start processing\n"
     ]
    },
    {
     "name": "stdout",
     "output_type": "stream",
     "text": [
      "Processing i =  54  out of  100\n"
     ]
    },
    {
     "name": "stderr",
     "output_type": "stream",
     "text": [
      "09:06:30 - cmdstanpy - INFO - Chain [1] done processing\n",
      "09:06:30 - cmdstanpy - INFO - Chain [1] start processing\n"
     ]
    },
    {
     "name": "stdout",
     "output_type": "stream",
     "text": [
      "Processing i =  55  out of  100\n"
     ]
    },
    {
     "name": "stderr",
     "output_type": "stream",
     "text": [
      "09:06:31 - cmdstanpy - INFO - Chain [1] done processing\n",
      "09:06:31 - cmdstanpy - INFO - Chain [1] start processing\n"
     ]
    },
    {
     "name": "stdout",
     "output_type": "stream",
     "text": [
      "Processing i =  56  out of  100\n"
     ]
    },
    {
     "name": "stderr",
     "output_type": "stream",
     "text": [
      "09:06:31 - cmdstanpy - INFO - Chain [1] done processing\n",
      "09:06:31 - cmdstanpy - INFO - Chain [1] start processing\n"
     ]
    },
    {
     "name": "stdout",
     "output_type": "stream",
     "text": [
      "Processing i =  57  out of  100\n"
     ]
    },
    {
     "name": "stderr",
     "output_type": "stream",
     "text": [
      "09:06:31 - cmdstanpy - INFO - Chain [1] done processing\n",
      "09:06:31 - cmdstanpy - INFO - Chain [1] start processing\n"
     ]
    },
    {
     "name": "stdout",
     "output_type": "stream",
     "text": [
      "Processing i =  58  out of  100\n"
     ]
    },
    {
     "name": "stderr",
     "output_type": "stream",
     "text": [
      "09:06:31 - cmdstanpy - INFO - Chain [1] done processing\n",
      "09:06:32 - cmdstanpy - INFO - Chain [1] start processing\n"
     ]
    },
    {
     "name": "stdout",
     "output_type": "stream",
     "text": [
      "Processing i =  59  out of  100\n"
     ]
    },
    {
     "name": "stderr",
     "output_type": "stream",
     "text": [
      "09:06:32 - cmdstanpy - INFO - Chain [1] done processing\n",
      "09:06:32 - cmdstanpy - INFO - Chain [1] start processing\n",
      "09:06:32 - cmdstanpy - INFO - Chain [1] done processing\n"
     ]
    },
    {
     "name": "stdout",
     "output_type": "stream",
     "text": [
      "Processing i =  60  out of  100\n"
     ]
    },
    {
     "name": "stderr",
     "output_type": "stream",
     "text": [
      "09:06:32 - cmdstanpy - INFO - Chain [1] start processing\n"
     ]
    },
    {
     "name": "stdout",
     "output_type": "stream",
     "text": [
      "Processing i =  61  out of  100\n"
     ]
    },
    {
     "name": "stderr",
     "output_type": "stream",
     "text": [
      "09:06:32 - cmdstanpy - INFO - Chain [1] done processing\n",
      "09:06:32 - cmdstanpy - INFO - Chain [1] start processing\n",
      "09:06:32 - cmdstanpy - INFO - Chain [1] done processing\n"
     ]
    },
    {
     "name": "stdout",
     "output_type": "stream",
     "text": [
      "Processing i =  62  out of  100\n"
     ]
    },
    {
     "name": "stderr",
     "output_type": "stream",
     "text": [
      "09:06:33 - cmdstanpy - INFO - Chain [1] start processing\n"
     ]
    },
    {
     "name": "stdout",
     "output_type": "stream",
     "text": [
      "Processing i =  63  out of  100\n"
     ]
    },
    {
     "name": "stderr",
     "output_type": "stream",
     "text": [
      "09:06:33 - cmdstanpy - INFO - Chain [1] done processing\n",
      "09:06:33 - cmdstanpy - INFO - Chain [1] start processing\n"
     ]
    },
    {
     "name": "stdout",
     "output_type": "stream",
     "text": [
      "Processing i =  64  out of  100\n"
     ]
    },
    {
     "name": "stderr",
     "output_type": "stream",
     "text": [
      "09:06:33 - cmdstanpy - INFO - Chain [1] done processing\n",
      "09:06:33 - cmdstanpy - INFO - Chain [1] start processing\n"
     ]
    },
    {
     "name": "stdout",
     "output_type": "stream",
     "text": [
      "Processing i =  65  out of  100\n"
     ]
    },
    {
     "name": "stderr",
     "output_type": "stream",
     "text": [
      "09:06:33 - cmdstanpy - INFO - Chain [1] done processing\n",
      "09:06:33 - cmdstanpy - INFO - Chain [1] start processing\n"
     ]
    },
    {
     "name": "stdout",
     "output_type": "stream",
     "text": [
      "Processing i =  66  out of  100\n"
     ]
    },
    {
     "name": "stderr",
     "output_type": "stream",
     "text": [
      "09:06:33 - cmdstanpy - INFO - Chain [1] done processing\n",
      "09:06:33 - cmdstanpy - INFO - Chain [1] start processing\n",
      "09:06:34 - cmdstanpy - INFO - Chain [1] done processing\n"
     ]
    },
    {
     "name": "stdout",
     "output_type": "stream",
     "text": [
      "Processing i =  67  out of  100\n"
     ]
    },
    {
     "name": "stderr",
     "output_type": "stream",
     "text": [
      "09:06:34 - cmdstanpy - INFO - Chain [1] start processing\n"
     ]
    },
    {
     "name": "stdout",
     "output_type": "stream",
     "text": [
      "Processing i =  68  out of  100\n"
     ]
    },
    {
     "name": "stderr",
     "output_type": "stream",
     "text": [
      "09:06:34 - cmdstanpy - INFO - Chain [1] done processing\n",
      "09:06:34 - cmdstanpy - INFO - Chain [1] start processing\n",
      "09:06:34 - cmdstanpy - INFO - Chain [1] done processing\n"
     ]
    },
    {
     "name": "stdout",
     "output_type": "stream",
     "text": [
      "Processing i =  69  out of  100\n"
     ]
    },
    {
     "name": "stderr",
     "output_type": "stream",
     "text": [
      "09:06:34 - cmdstanpy - INFO - Chain [1] start processing\n"
     ]
    },
    {
     "name": "stdout",
     "output_type": "stream",
     "text": [
      "Processing i =  70  out of  100\n"
     ]
    },
    {
     "name": "stderr",
     "output_type": "stream",
     "text": [
      "09:06:34 - cmdstanpy - INFO - Chain [1] done processing\n",
      "09:06:35 - cmdstanpy - INFO - Chain [1] start processing\n"
     ]
    },
    {
     "name": "stdout",
     "output_type": "stream",
     "text": [
      "Processing i =  71  out of  100\n"
     ]
    },
    {
     "name": "stderr",
     "output_type": "stream",
     "text": [
      "09:06:35 - cmdstanpy - INFO - Chain [1] done processing\n",
      "09:06:35 - cmdstanpy - INFO - Chain [1] start processing\n"
     ]
    },
    {
     "name": "stdout",
     "output_type": "stream",
     "text": [
      "Processing i =  72  out of  100\n"
     ]
    },
    {
     "name": "stderr",
     "output_type": "stream",
     "text": [
      "09:06:35 - cmdstanpy - INFO - Chain [1] done processing\n",
      "09:06:35 - cmdstanpy - INFO - Chain [1] start processing\n",
      "09:06:35 - cmdstanpy - INFO - Chain [1] done processing\n"
     ]
    },
    {
     "name": "stdout",
     "output_type": "stream",
     "text": [
      "Processing i =  73  out of  100\n"
     ]
    },
    {
     "name": "stderr",
     "output_type": "stream",
     "text": [
      "09:06:35 - cmdstanpy - INFO - Chain [1] start processing\n"
     ]
    },
    {
     "name": "stdout",
     "output_type": "stream",
     "text": [
      "Processing i =  74  out of  100\n"
     ]
    },
    {
     "name": "stderr",
     "output_type": "stream",
     "text": [
      "09:06:35 - cmdstanpy - INFO - Chain [1] done processing\n",
      "09:06:36 - cmdstanpy - INFO - Chain [1] start processing\n"
     ]
    },
    {
     "name": "stdout",
     "output_type": "stream",
     "text": [
      "Processing i =  75  out of  100\n"
     ]
    },
    {
     "name": "stderr",
     "output_type": "stream",
     "text": [
      "09:06:36 - cmdstanpy - INFO - Chain [1] done processing\n",
      "09:06:36 - cmdstanpy - INFO - Chain [1] start processing\n"
     ]
    },
    {
     "name": "stdout",
     "output_type": "stream",
     "text": [
      "Processing i =  76  out of  100\n"
     ]
    },
    {
     "name": "stderr",
     "output_type": "stream",
     "text": [
      "09:06:36 - cmdstanpy - INFO - Chain [1] done processing\n",
      "09:06:36 - cmdstanpy - INFO - Chain [1] start processing\n"
     ]
    },
    {
     "name": "stdout",
     "output_type": "stream",
     "text": [
      "Processing i =  77  out of  100\n"
     ]
    },
    {
     "name": "stderr",
     "output_type": "stream",
     "text": [
      "09:06:36 - cmdstanpy - INFO - Chain [1] done processing\n",
      "09:06:36 - cmdstanpy - INFO - Chain [1] start processing\n",
      "09:06:36 - cmdstanpy - INFO - Chain [1] done processing\n"
     ]
    },
    {
     "name": "stdout",
     "output_type": "stream",
     "text": [
      "Processing i =  78  out of  100\n"
     ]
    },
    {
     "name": "stderr",
     "output_type": "stream",
     "text": [
      "09:06:37 - cmdstanpy - INFO - Chain [1] start processing\n",
      "09:06:37 - cmdstanpy - INFO - Chain [1] done processing\n"
     ]
    },
    {
     "name": "stdout",
     "output_type": "stream",
     "text": [
      "Processing i =  79  out of  100\n"
     ]
    },
    {
     "name": "stderr",
     "output_type": "stream",
     "text": [
      "09:06:37 - cmdstanpy - INFO - Chain [1] start processing\n"
     ]
    },
    {
     "name": "stdout",
     "output_type": "stream",
     "text": [
      "Processing i =  80  out of  100\n"
     ]
    },
    {
     "name": "stderr",
     "output_type": "stream",
     "text": [
      "09:06:37 - cmdstanpy - INFO - Chain [1] done processing\n",
      "09:06:37 - cmdstanpy - INFO - Chain [1] start processing\n"
     ]
    },
    {
     "name": "stdout",
     "output_type": "stream",
     "text": [
      "Processing i =  81  out of  100\n"
     ]
    },
    {
     "name": "stderr",
     "output_type": "stream",
     "text": [
      "09:06:37 - cmdstanpy - INFO - Chain [1] done processing\n",
      "09:06:37 - cmdstanpy - INFO - Chain [1] start processing\n",
      "09:06:37 - cmdstanpy - INFO - Chain [1] done processing\n"
     ]
    },
    {
     "name": "stdout",
     "output_type": "stream",
     "text": [
      "Processing i =  82  out of  100\n"
     ]
    },
    {
     "name": "stderr",
     "output_type": "stream",
     "text": [
      "09:06:38 - cmdstanpy - INFO - Chain [1] start processing\n"
     ]
    },
    {
     "name": "stdout",
     "output_type": "stream",
     "text": [
      "Processing i =  83  out of  100\n"
     ]
    },
    {
     "name": "stderr",
     "output_type": "stream",
     "text": [
      "09:06:38 - cmdstanpy - INFO - Chain [1] done processing\n",
      "09:06:38 - cmdstanpy - INFO - Chain [1] start processing\n",
      "09:06:38 - cmdstanpy - INFO - Chain [1] done processing\n"
     ]
    },
    {
     "name": "stdout",
     "output_type": "stream",
     "text": [
      "Processing i =  84  out of  100\n"
     ]
    },
    {
     "name": "stderr",
     "output_type": "stream",
     "text": [
      "09:06:38 - cmdstanpy - INFO - Chain [1] start processing\n"
     ]
    },
    {
     "name": "stdout",
     "output_type": "stream",
     "text": [
      "Processing i =  85  out of  100\n"
     ]
    },
    {
     "name": "stderr",
     "output_type": "stream",
     "text": [
      "09:06:38 - cmdstanpy - INFO - Chain [1] done processing\n",
      "09:06:38 - cmdstanpy - INFO - Chain [1] start processing\n"
     ]
    },
    {
     "name": "stdout",
     "output_type": "stream",
     "text": [
      "Processing i =  86  out of  100\n"
     ]
    },
    {
     "name": "stderr",
     "output_type": "stream",
     "text": [
      "09:06:38 - cmdstanpy - INFO - Chain [1] done processing\n",
      "09:06:39 - cmdstanpy - INFO - Chain [1] start processing\n"
     ]
    },
    {
     "name": "stdout",
     "output_type": "stream",
     "text": [
      "Processing i =  87  out of  100\n"
     ]
    },
    {
     "name": "stderr",
     "output_type": "stream",
     "text": [
      "09:06:39 - cmdstanpy - INFO - Chain [1] done processing\n",
      "09:06:39 - cmdstanpy - INFO - Chain [1] start processing\n",
      "09:06:39 - cmdstanpy - INFO - Chain [1] done processing\n"
     ]
    },
    {
     "name": "stdout",
     "output_type": "stream",
     "text": [
      "Processing i =  88  out of  100\n"
     ]
    },
    {
     "name": "stderr",
     "output_type": "stream",
     "text": [
      "09:06:39 - cmdstanpy - INFO - Chain [1] start processing\n",
      "09:06:39 - cmdstanpy - INFO - Chain [1] done processing\n"
     ]
    },
    {
     "name": "stdout",
     "output_type": "stream",
     "text": [
      "Processing i =  89  out of  100\n"
     ]
    },
    {
     "name": "stderr",
     "output_type": "stream",
     "text": [
      "09:06:39 - cmdstanpy - INFO - Chain [1] start processing\n",
      "09:06:39 - cmdstanpy - INFO - Chain [1] done processing\n"
     ]
    },
    {
     "name": "stdout",
     "output_type": "stream",
     "text": [
      "Processing i =  90  out of  100\n"
     ]
    },
    {
     "name": "stderr",
     "output_type": "stream",
     "text": [
      "09:06:40 - cmdstanpy - INFO - Chain [1] start processing\n",
      "09:06:40 - cmdstanpy - INFO - Chain [1] done processing\n"
     ]
    },
    {
     "name": "stdout",
     "output_type": "stream",
     "text": [
      "Processing i =  91  out of  100\n"
     ]
    },
    {
     "name": "stderr",
     "output_type": "stream",
     "text": [
      "09:06:40 - cmdstanpy - INFO - Chain [1] start processing\n"
     ]
    },
    {
     "name": "stdout",
     "output_type": "stream",
     "text": [
      "Processing i =  92  out of  100\n"
     ]
    },
    {
     "name": "stderr",
     "output_type": "stream",
     "text": [
      "09:06:40 - cmdstanpy - INFO - Chain [1] done processing\n",
      "09:06:40 - cmdstanpy - INFO - Chain [1] start processing\n"
     ]
    },
    {
     "name": "stdout",
     "output_type": "stream",
     "text": [
      "Processing i =  93  out of  100\n"
     ]
    },
    {
     "name": "stderr",
     "output_type": "stream",
     "text": [
      "09:06:40 - cmdstanpy - INFO - Chain [1] done processing\n",
      "09:06:40 - cmdstanpy - INFO - Chain [1] start processing\n"
     ]
    },
    {
     "name": "stdout",
     "output_type": "stream",
     "text": [
      "Processing i =  94  out of  100\n"
     ]
    },
    {
     "name": "stderr",
     "output_type": "stream",
     "text": [
      "09:06:40 - cmdstanpy - INFO - Chain [1] done processing\n",
      "09:06:41 - cmdstanpy - INFO - Chain [1] start processing\n"
     ]
    },
    {
     "name": "stdout",
     "output_type": "stream",
     "text": [
      "Processing i =  95  out of  100\n"
     ]
    },
    {
     "name": "stderr",
     "output_type": "stream",
     "text": [
      "09:06:41 - cmdstanpy - INFO - Chain [1] done processing\n",
      "09:06:41 - cmdstanpy - INFO - Chain [1] start processing\n",
      "09:06:41 - cmdstanpy - INFO - Chain [1] done processing\n"
     ]
    },
    {
     "name": "stdout",
     "output_type": "stream",
     "text": [
      "Processing i =  96  out of  100\n"
     ]
    },
    {
     "name": "stderr",
     "output_type": "stream",
     "text": [
      "09:06:41 - cmdstanpy - INFO - Chain [1] start processing\n"
     ]
    },
    {
     "name": "stdout",
     "output_type": "stream",
     "text": [
      "Processing i =  97  out of  100\n"
     ]
    },
    {
     "name": "stderr",
     "output_type": "stream",
     "text": [
      "09:06:41 - cmdstanpy - INFO - Chain [1] done processing\n"
     ]
    },
    {
     "name": "stdout",
     "output_type": "stream",
     "text": [
      "Processing i =  98  out of  100\n"
     ]
    },
    {
     "name": "stderr",
     "output_type": "stream",
     "text": [
      "09:06:42 - cmdstanpy - INFO - Chain [1] start processing\n",
      "09:06:42 - cmdstanpy - INFO - Chain [1] done processing\n",
      "09:06:42 - cmdstanpy - INFO - Chain [1] start processing\n",
      "09:06:42 - cmdstanpy - INFO - Chain [1] done processing\n"
     ]
    },
    {
     "name": "stdout",
     "output_type": "stream",
     "text": [
      "Processing i =  99  out of  100\n"
     ]
    },
    {
     "name": "stderr",
     "output_type": "stream",
     "text": [
      "09:06:42 - cmdstanpy - INFO - Chain [1] start processing\n"
     ]
    },
    {
     "name": "stdout",
     "output_type": "stream",
     "text": [
      "Processing i =  100  out of  100\n"
     ]
    },
    {
     "name": "stderr",
     "output_type": "stream",
     "text": [
      "09:06:42 - cmdstanpy - INFO - Chain [1] done processing\n"
     ]
    },
    {
     "name": "stdout",
     "output_type": "stream",
     "text": [
      "\n",
      "Processing CV 2 / 10....\n"
     ]
    },
    {
     "name": "stderr",
     "output_type": "stream",
     "text": [
      "09:06:44 - cmdstanpy - INFO - Chain [1] start processing\n",
      "09:06:44 - cmdstanpy - INFO - Chain [1] done processing\n",
      "C:\\Users\\z5404477\\AppData\\Local\\Temp\\ipykernel_33584\\1029035988.py:39: SettingWithCopyWarning: \n",
      "A value is trying to be set on a copy of a slice from a DataFrame\n",
      "\n",
      "See the caveats in the documentation: https://pandas.pydata.org/pandas-docs/stable/user_guide/indexing.html#returning-a-view-versus-a-copy\n",
      "  X_exog.rename(columns={'datetime': 'ds'}, inplace=True)\n",
      "C:\\Users\\z5404477\\AppData\\Local\\Temp\\ipykernel_33584\\1029035988.py:96: SettingWithCopyWarning: \n",
      "A value is trying to be set on a copy of a slice from a DataFrame\n",
      "\n",
      "See the caveats in the documentation: https://pandas.pydata.org/pandas-docs/stable/user_guide/indexing.html#returning-a-view-versus-a-copy\n",
      "  X_test.rename(columns={'datetime': 'ds'}, inplace=True)\n",
      "09:06:44 - cmdstanpy - INFO - Chain [1] start processing\n"
     ]
    },
    {
     "name": "stdout",
     "output_type": "stream",
     "text": [
      "Processing i =  1  out of  100\n",
      "Processing i =  2  out of  100\n"
     ]
    },
    {
     "name": "stderr",
     "output_type": "stream",
     "text": [
      "09:06:44 - cmdstanpy - INFO - Chain [1] done processing\n",
      "09:06:45 - cmdstanpy - INFO - Chain [1] start processing\n"
     ]
    },
    {
     "name": "stdout",
     "output_type": "stream",
     "text": [
      "Processing i =  3  out of  100\n"
     ]
    },
    {
     "name": "stderr",
     "output_type": "stream",
     "text": [
      "09:06:45 - cmdstanpy - INFO - Chain [1] done processing\n",
      "09:06:45 - cmdstanpy - INFO - Chain [1] start processing\n",
      "09:06:45 - cmdstanpy - INFO - Chain [1] done processing\n"
     ]
    },
    {
     "name": "stdout",
     "output_type": "stream",
     "text": [
      "Processing i =  4  out of  100\n"
     ]
    },
    {
     "name": "stderr",
     "output_type": "stream",
     "text": [
      "09:06:45 - cmdstanpy - INFO - Chain [1] start processing\n",
      "09:06:45 - cmdstanpy - INFO - Chain [1] done processing\n"
     ]
    },
    {
     "name": "stdout",
     "output_type": "stream",
     "text": [
      "Processing i =  5  out of  100\n"
     ]
    },
    {
     "name": "stderr",
     "output_type": "stream",
     "text": [
      "09:06:45 - cmdstanpy - INFO - Chain [1] start processing\n"
     ]
    },
    {
     "name": "stdout",
     "output_type": "stream",
     "text": [
      "Processing i =  6  out of  100\n"
     ]
    },
    {
     "name": "stderr",
     "output_type": "stream",
     "text": [
      "09:06:45 - cmdstanpy - INFO - Chain [1] done processing\n",
      "09:06:46 - cmdstanpy - INFO - Chain [1] start processing\n"
     ]
    },
    {
     "name": "stdout",
     "output_type": "stream",
     "text": [
      "Processing i =  7  out of  100\n"
     ]
    },
    {
     "name": "stderr",
     "output_type": "stream",
     "text": [
      "09:06:46 - cmdstanpy - INFO - Chain [1] done processing\n",
      "09:06:46 - cmdstanpy - INFO - Chain [1] start processing\n",
      "09:06:46 - cmdstanpy - INFO - Chain [1] done processing\n"
     ]
    },
    {
     "name": "stdout",
     "output_type": "stream",
     "text": [
      "Processing i =  8  out of  100\n"
     ]
    },
    {
     "name": "stderr",
     "output_type": "stream",
     "text": [
      "09:06:46 - cmdstanpy - INFO - Chain [1] start processing\n",
      "09:06:46 - cmdstanpy - INFO - Chain [1] done processing\n"
     ]
    },
    {
     "name": "stdout",
     "output_type": "stream",
     "text": [
      "Processing i =  9  out of  100\n"
     ]
    },
    {
     "name": "stderr",
     "output_type": "stream",
     "text": [
      "09:06:46 - cmdstanpy - INFO - Chain [1] start processing\n",
      "09:06:46 - cmdstanpy - INFO - Chain [1] done processing\n"
     ]
    },
    {
     "name": "stdout",
     "output_type": "stream",
     "text": [
      "Processing i =  10  out of  100\n"
     ]
    },
    {
     "name": "stderr",
     "output_type": "stream",
     "text": [
      "09:06:47 - cmdstanpy - INFO - Chain [1] start processing\n",
      "09:06:47 - cmdstanpy - INFO - Chain [1] done processing\n"
     ]
    },
    {
     "name": "stdout",
     "output_type": "stream",
     "text": [
      "Processing i =  11  out of  100\n"
     ]
    },
    {
     "name": "stderr",
     "output_type": "stream",
     "text": [
      "09:06:47 - cmdstanpy - INFO - Chain [1] start processing\n",
      "09:06:47 - cmdstanpy - INFO - Chain [1] done processing\n"
     ]
    },
    {
     "name": "stdout",
     "output_type": "stream",
     "text": [
      "Processing i =  12  out of  100\n"
     ]
    },
    {
     "name": "stderr",
     "output_type": "stream",
     "text": [
      "09:06:47 - cmdstanpy - INFO - Chain [1] start processing\n"
     ]
    },
    {
     "name": "stdout",
     "output_type": "stream",
     "text": [
      "Processing i =  13  out of  100\n"
     ]
    },
    {
     "name": "stderr",
     "output_type": "stream",
     "text": [
      "09:06:47 - cmdstanpy - INFO - Chain [1] done processing\n",
      "09:06:47 - cmdstanpy - INFO - Chain [1] start processing\n",
      "09:06:47 - cmdstanpy - INFO - Chain [1] done processing\n"
     ]
    },
    {
     "name": "stdout",
     "output_type": "stream",
     "text": [
      "Processing i =  14  out of  100\n"
     ]
    },
    {
     "name": "stderr",
     "output_type": "stream",
     "text": [
      "09:06:48 - cmdstanpy - INFO - Chain [1] start processing\n"
     ]
    },
    {
     "name": "stdout",
     "output_type": "stream",
     "text": [
      "Processing i =  15  out of  100\n"
     ]
    },
    {
     "name": "stderr",
     "output_type": "stream",
     "text": [
      "09:06:48 - cmdstanpy - INFO - Chain [1] done processing\n",
      "09:06:48 - cmdstanpy - INFO - Chain [1] start processing\n"
     ]
    },
    {
     "name": "stdout",
     "output_type": "stream",
     "text": [
      "Processing i =  16  out of  100\n"
     ]
    },
    {
     "name": "stderr",
     "output_type": "stream",
     "text": [
      "09:06:48 - cmdstanpy - INFO - Chain [1] done processing\n",
      "09:06:48 - cmdstanpy - INFO - Chain [1] start processing\n",
      "09:06:48 - cmdstanpy - INFO - Chain [1] done processing\n"
     ]
    },
    {
     "name": "stdout",
     "output_type": "stream",
     "text": [
      "Processing i =  17  out of  100\n"
     ]
    },
    {
     "name": "stderr",
     "output_type": "stream",
     "text": [
      "09:06:48 - cmdstanpy - INFO - Chain [1] start processing\n"
     ]
    },
    {
     "name": "stdout",
     "output_type": "stream",
     "text": [
      "Processing i =  18  out of  100\n"
     ]
    },
    {
     "name": "stderr",
     "output_type": "stream",
     "text": [
      "09:06:48 - cmdstanpy - INFO - Chain [1] done processing\n",
      "09:06:49 - cmdstanpy - INFO - Chain [1] start processing\n"
     ]
    },
    {
     "name": "stdout",
     "output_type": "stream",
     "text": [
      "Processing i =  19  out of  100\n"
     ]
    },
    {
     "name": "stderr",
     "output_type": "stream",
     "text": [
      "09:06:49 - cmdstanpy - INFO - Chain [1] done processing\n",
      "09:06:49 - cmdstanpy - INFO - Chain [1] start processing\n"
     ]
    },
    {
     "name": "stdout",
     "output_type": "stream",
     "text": [
      "Processing i =  20  out of  100\n"
     ]
    },
    {
     "name": "stderr",
     "output_type": "stream",
     "text": [
      "09:06:49 - cmdstanpy - INFO - Chain [1] done processing\n",
      "09:06:49 - cmdstanpy - INFO - Chain [1] start processing\n"
     ]
    },
    {
     "name": "stdout",
     "output_type": "stream",
     "text": [
      "Processing i =  21  out of  100\n"
     ]
    },
    {
     "name": "stderr",
     "output_type": "stream",
     "text": [
      "09:06:49 - cmdstanpy - INFO - Chain [1] done processing\n",
      "09:06:49 - cmdstanpy - INFO - Chain [1] start processing\n"
     ]
    },
    {
     "name": "stdout",
     "output_type": "stream",
     "text": [
      "Processing i =  22  out of  100\n"
     ]
    },
    {
     "name": "stderr",
     "output_type": "stream",
     "text": [
      "09:06:49 - cmdstanpy - INFO - Chain [1] done processing\n",
      "09:06:50 - cmdstanpy - INFO - Chain [1] start processing\n"
     ]
    },
    {
     "name": "stdout",
     "output_type": "stream",
     "text": [
      "Processing i =  23  out of  100\n"
     ]
    },
    {
     "name": "stderr",
     "output_type": "stream",
     "text": [
      "09:06:50 - cmdstanpy - INFO - Chain [1] done processing\n",
      "09:06:50 - cmdstanpy - INFO - Chain [1] start processing\n"
     ]
    },
    {
     "name": "stdout",
     "output_type": "stream",
     "text": [
      "Processing i =  24  out of  100\n"
     ]
    },
    {
     "name": "stderr",
     "output_type": "stream",
     "text": [
      "09:06:50 - cmdstanpy - INFO - Chain [1] done processing\n",
      "09:06:50 - cmdstanpy - INFO - Chain [1] start processing\n"
     ]
    },
    {
     "name": "stdout",
     "output_type": "stream",
     "text": [
      "Processing i =  25  out of  100\n"
     ]
    },
    {
     "name": "stderr",
     "output_type": "stream",
     "text": [
      "09:06:50 - cmdstanpy - INFO - Chain [1] done processing\n",
      "09:06:50 - cmdstanpy - INFO - Chain [1] start processing\n"
     ]
    },
    {
     "name": "stdout",
     "output_type": "stream",
     "text": [
      "Processing i =  26  out of  100\n"
     ]
    },
    {
     "name": "stderr",
     "output_type": "stream",
     "text": [
      "09:06:51 - cmdstanpy - INFO - Chain [1] done processing\n",
      "09:06:51 - cmdstanpy - INFO - Chain [1] start processing\n"
     ]
    },
    {
     "name": "stdout",
     "output_type": "stream",
     "text": [
      "Processing i =  27  out of  100\n"
     ]
    },
    {
     "name": "stderr",
     "output_type": "stream",
     "text": [
      "09:06:51 - cmdstanpy - INFO - Chain [1] done processing\n",
      "09:06:51 - cmdstanpy - INFO - Chain [1] start processing\n",
      "09:06:51 - cmdstanpy - INFO - Chain [1] done processing\n"
     ]
    },
    {
     "name": "stdout",
     "output_type": "stream",
     "text": [
      "Processing i =  28  out of  100\n"
     ]
    },
    {
     "name": "stderr",
     "output_type": "stream",
     "text": [
      "09:06:51 - cmdstanpy - INFO - Chain [1] start processing\n"
     ]
    },
    {
     "name": "stdout",
     "output_type": "stream",
     "text": [
      "Processing i =  29  out of  100\n"
     ]
    },
    {
     "name": "stderr",
     "output_type": "stream",
     "text": [
      "09:06:51 - cmdstanpy - INFO - Chain [1] done processing\n",
      "09:06:51 - cmdstanpy - INFO - Chain [1] start processing\n"
     ]
    },
    {
     "name": "stdout",
     "output_type": "stream",
     "text": [
      "Processing i =  30  out of  100\n"
     ]
    },
    {
     "name": "stderr",
     "output_type": "stream",
     "text": [
      "09:06:52 - cmdstanpy - INFO - Chain [1] done processing\n",
      "09:06:52 - cmdstanpy - INFO - Chain [1] start processing\n"
     ]
    },
    {
     "name": "stdout",
     "output_type": "stream",
     "text": [
      "Processing i =  31  out of  100\n"
     ]
    },
    {
     "name": "stderr",
     "output_type": "stream",
     "text": [
      "09:06:52 - cmdstanpy - INFO - Chain [1] done processing\n",
      "09:06:52 - cmdstanpy - INFO - Chain [1] start processing\n",
      "09:06:52 - cmdstanpy - INFO - Chain [1] done processing\n"
     ]
    },
    {
     "name": "stdout",
     "output_type": "stream",
     "text": [
      "Processing i =  32  out of  100\n"
     ]
    },
    {
     "name": "stderr",
     "output_type": "stream",
     "text": [
      "09:06:52 - cmdstanpy - INFO - Chain [1] start processing\n"
     ]
    },
    {
     "name": "stdout",
     "output_type": "stream",
     "text": [
      "Processing i =  33  out of  100\n"
     ]
    },
    {
     "name": "stderr",
     "output_type": "stream",
     "text": [
      "09:06:52 - cmdstanpy - INFO - Chain [1] done processing\n",
      "09:06:52 - cmdstanpy - INFO - Chain [1] start processing\n",
      "09:06:53 - cmdstanpy - INFO - Chain [1] done processing\n"
     ]
    },
    {
     "name": "stdout",
     "output_type": "stream",
     "text": [
      "Processing i =  34  out of  100\n"
     ]
    },
    {
     "name": "stderr",
     "output_type": "stream",
     "text": [
      "09:06:53 - cmdstanpy - INFO - Chain [1] start processing\n",
      "09:06:53 - cmdstanpy - INFO - Chain [1] done processing\n"
     ]
    },
    {
     "name": "stdout",
     "output_type": "stream",
     "text": [
      "Processing i =  35  out of  100\n"
     ]
    },
    {
     "name": "stderr",
     "output_type": "stream",
     "text": [
      "09:06:53 - cmdstanpy - INFO - Chain [1] start processing\n"
     ]
    },
    {
     "name": "stdout",
     "output_type": "stream",
     "text": [
      "Processing i =  36  out of  100\n"
     ]
    },
    {
     "name": "stderr",
     "output_type": "stream",
     "text": [
      "09:06:53 - cmdstanpy - INFO - Chain [1] done processing\n",
      "09:06:53 - cmdstanpy - INFO - Chain [1] start processing\n"
     ]
    },
    {
     "name": "stdout",
     "output_type": "stream",
     "text": [
      "Processing i =  37  out of  100\n"
     ]
    },
    {
     "name": "stderr",
     "output_type": "stream",
     "text": [
      "09:06:53 - cmdstanpy - INFO - Chain [1] done processing\n",
      "09:06:53 - cmdstanpy - INFO - Chain [1] start processing\n"
     ]
    },
    {
     "name": "stdout",
     "output_type": "stream",
     "text": [
      "Processing i =  38  out of  100\n"
     ]
    },
    {
     "name": "stderr",
     "output_type": "stream",
     "text": [
      "09:06:54 - cmdstanpy - INFO - Chain [1] done processing\n",
      "09:06:54 - cmdstanpy - INFO - Chain [1] start processing\n",
      "09:06:54 - cmdstanpy - INFO - Chain [1] done processing\n"
     ]
    },
    {
     "name": "stdout",
     "output_type": "stream",
     "text": [
      "Processing i =  39  out of  100\n"
     ]
    },
    {
     "name": "stderr",
     "output_type": "stream",
     "text": [
      "09:06:54 - cmdstanpy - INFO - Chain [1] start processing\n"
     ]
    },
    {
     "name": "stdout",
     "output_type": "stream",
     "text": [
      "Processing i =  40  out of  100\n"
     ]
    },
    {
     "name": "stderr",
     "output_type": "stream",
     "text": [
      "09:06:54 - cmdstanpy - INFO - Chain [1] done processing\n",
      "09:06:54 - cmdstanpy - INFO - Chain [1] start processing\n"
     ]
    },
    {
     "name": "stdout",
     "output_type": "stream",
     "text": [
      "Processing i =  41  out of  100\n"
     ]
    },
    {
     "name": "stderr",
     "output_type": "stream",
     "text": [
      "09:06:54 - cmdstanpy - INFO - Chain [1] done processing\n",
      "09:06:54 - cmdstanpy - INFO - Chain [1] start processing\n"
     ]
    },
    {
     "name": "stdout",
     "output_type": "stream",
     "text": [
      "Processing i =  42  out of  100\n"
     ]
    },
    {
     "name": "stderr",
     "output_type": "stream",
     "text": [
      "09:06:55 - cmdstanpy - INFO - Chain [1] done processing\n",
      "09:06:55 - cmdstanpy - INFO - Chain [1] start processing\n"
     ]
    },
    {
     "name": "stdout",
     "output_type": "stream",
     "text": [
      "Processing i =  43  out of  100\n"
     ]
    },
    {
     "name": "stderr",
     "output_type": "stream",
     "text": [
      "09:06:55 - cmdstanpy - INFO - Chain [1] done processing\n",
      "09:06:55 - cmdstanpy - INFO - Chain [1] start processing\n"
     ]
    },
    {
     "name": "stdout",
     "output_type": "stream",
     "text": [
      "Processing i =  44  out of  100\n"
     ]
    },
    {
     "name": "stderr",
     "output_type": "stream",
     "text": [
      "09:06:55 - cmdstanpy - INFO - Chain [1] done processing\n",
      "09:06:55 - cmdstanpy - INFO - Chain [1] start processing\n"
     ]
    },
    {
     "name": "stdout",
     "output_type": "stream",
     "text": [
      "Processing i =  45  out of  100\n"
     ]
    },
    {
     "name": "stderr",
     "output_type": "stream",
     "text": [
      "09:06:55 - cmdstanpy - INFO - Chain [1] done processing\n",
      "09:06:55 - cmdstanpy - INFO - Chain [1] start processing\n"
     ]
    },
    {
     "name": "stdout",
     "output_type": "stream",
     "text": [
      "Processing i =  46  out of  100\n"
     ]
    },
    {
     "name": "stderr",
     "output_type": "stream",
     "text": [
      "09:06:56 - cmdstanpy - INFO - Chain [1] done processing\n",
      "09:06:56 - cmdstanpy - INFO - Chain [1] start processing\n",
      "09:06:56 - cmdstanpy - INFO - Chain [1] done processing\n"
     ]
    },
    {
     "name": "stdout",
     "output_type": "stream",
     "text": [
      "Processing i =  47  out of  100\n"
     ]
    },
    {
     "name": "stderr",
     "output_type": "stream",
     "text": [
      "09:06:56 - cmdstanpy - INFO - Chain [1] start processing\n"
     ]
    },
    {
     "name": "stdout",
     "output_type": "stream",
     "text": [
      "Processing i =  48  out of  100\n"
     ]
    },
    {
     "name": "stderr",
     "output_type": "stream",
     "text": [
      "09:06:56 - cmdstanpy - INFO - Chain [1] done processing\n",
      "09:06:56 - cmdstanpy - INFO - Chain [1] start processing\n",
      "09:06:56 - cmdstanpy - INFO - Chain [1] done processing\n"
     ]
    },
    {
     "name": "stdout",
     "output_type": "stream",
     "text": [
      "Processing i =  49  out of  100\n"
     ]
    },
    {
     "name": "stderr",
     "output_type": "stream",
     "text": [
      "09:06:56 - cmdstanpy - INFO - Chain [1] start processing\n"
     ]
    },
    {
     "name": "stdout",
     "output_type": "stream",
     "text": [
      "Processing i =  50  out of  100\n"
     ]
    },
    {
     "name": "stderr",
     "output_type": "stream",
     "text": [
      "09:06:57 - cmdstanpy - INFO - Chain [1] done processing\n",
      "09:06:57 - cmdstanpy - INFO - Chain [1] start processing\n"
     ]
    },
    {
     "name": "stdout",
     "output_type": "stream",
     "text": [
      "Processing i =  51  out of  100\n"
     ]
    },
    {
     "name": "stderr",
     "output_type": "stream",
     "text": [
      "09:06:57 - cmdstanpy - INFO - Chain [1] done processing\n",
      "09:06:57 - cmdstanpy - INFO - Chain [1] start processing\n",
      "09:06:57 - cmdstanpy - INFO - Chain [1] done processing\n"
     ]
    },
    {
     "name": "stdout",
     "output_type": "stream",
     "text": [
      "Processing i =  52  out of  100\n"
     ]
    },
    {
     "name": "stderr",
     "output_type": "stream",
     "text": [
      "09:06:57 - cmdstanpy - INFO - Chain [1] start processing\n"
     ]
    },
    {
     "name": "stdout",
     "output_type": "stream",
     "text": [
      "Processing i =  53  out of  100\n"
     ]
    },
    {
     "name": "stderr",
     "output_type": "stream",
     "text": [
      "09:06:57 - cmdstanpy - INFO - Chain [1] done processing\n",
      "09:06:57 - cmdstanpy - INFO - Chain [1] start processing\n",
      "09:06:58 - cmdstanpy - INFO - Chain [1] done processing\n"
     ]
    },
    {
     "name": "stdout",
     "output_type": "stream",
     "text": [
      "Processing i =  54  out of  100\n"
     ]
    },
    {
     "name": "stderr",
     "output_type": "stream",
     "text": [
      "09:06:58 - cmdstanpy - INFO - Chain [1] start processing\n"
     ]
    },
    {
     "name": "stdout",
     "output_type": "stream",
     "text": [
      "Processing i =  55  out of  100\n"
     ]
    },
    {
     "name": "stderr",
     "output_type": "stream",
     "text": [
      "09:06:58 - cmdstanpy - INFO - Chain [1] done processing\n",
      "09:06:58 - cmdstanpy - INFO - Chain [1] start processing\n",
      "09:06:58 - cmdstanpy - INFO - Chain [1] done processing\n"
     ]
    },
    {
     "name": "stdout",
     "output_type": "stream",
     "text": [
      "Processing i =  56  out of  100\n"
     ]
    },
    {
     "name": "stderr",
     "output_type": "stream",
     "text": [
      "09:06:58 - cmdstanpy - INFO - Chain [1] start processing\n"
     ]
    },
    {
     "name": "stdout",
     "output_type": "stream",
     "text": [
      "Processing i =  57  out of  100\n"
     ]
    },
    {
     "name": "stderr",
     "output_type": "stream",
     "text": [
      "09:06:58 - cmdstanpy - INFO - Chain [1] done processing\n",
      "09:06:59 - cmdstanpy - INFO - Chain [1] start processing\n"
     ]
    },
    {
     "name": "stdout",
     "output_type": "stream",
     "text": [
      "Processing i =  58  out of  100\n"
     ]
    },
    {
     "name": "stderr",
     "output_type": "stream",
     "text": [
      "09:06:59 - cmdstanpy - INFO - Chain [1] done processing\n",
      "09:06:59 - cmdstanpy - INFO - Chain [1] start processing\n"
     ]
    },
    {
     "name": "stdout",
     "output_type": "stream",
     "text": [
      "Processing i =  59  out of  100\n"
     ]
    },
    {
     "name": "stderr",
     "output_type": "stream",
     "text": [
      "09:06:59 - cmdstanpy - INFO - Chain [1] done processing\n",
      "09:06:59 - cmdstanpy - INFO - Chain [1] start processing\n"
     ]
    },
    {
     "name": "stdout",
     "output_type": "stream",
     "text": [
      "Processing i =  60  out of  100\n"
     ]
    },
    {
     "name": "stderr",
     "output_type": "stream",
     "text": [
      "09:06:59 - cmdstanpy - INFO - Chain [1] done processing\n",
      "09:06:59 - cmdstanpy - INFO - Chain [1] start processing\n",
      "09:06:59 - cmdstanpy - INFO - Chain [1] done processing\n"
     ]
    },
    {
     "name": "stdout",
     "output_type": "stream",
     "text": [
      "Processing i =  61  out of  100\n",
      "Processing i =  62  out of  100\n"
     ]
    },
    {
     "name": "stderr",
     "output_type": "stream",
     "text": [
      "09:07:00 - cmdstanpy - INFO - Chain [1] start processing\n",
      "09:07:00 - cmdstanpy - INFO - Chain [1] done processing\n",
      "09:07:00 - cmdstanpy - INFO - Chain [1] start processing\n"
     ]
    },
    {
     "name": "stdout",
     "output_type": "stream",
     "text": [
      "Processing i =  63  out of  100\n"
     ]
    },
    {
     "name": "stderr",
     "output_type": "stream",
     "text": [
      "09:07:00 - cmdstanpy - INFO - Chain [1] done processing\n",
      "09:07:00 - cmdstanpy - INFO - Chain [1] start processing\n"
     ]
    },
    {
     "name": "stdout",
     "output_type": "stream",
     "text": [
      "Processing i =  64  out of  100\n"
     ]
    },
    {
     "name": "stderr",
     "output_type": "stream",
     "text": [
      "09:07:00 - cmdstanpy - INFO - Chain [1] done processing\n",
      "09:07:00 - cmdstanpy - INFO - Chain [1] start processing\n"
     ]
    },
    {
     "name": "stdout",
     "output_type": "stream",
     "text": [
      "Processing i =  65  out of  100\n"
     ]
    },
    {
     "name": "stderr",
     "output_type": "stream",
     "text": [
      "09:07:01 - cmdstanpy - INFO - Chain [1] done processing\n"
     ]
    },
    {
     "name": "stdout",
     "output_type": "stream",
     "text": [
      "Processing i =  66  out of  100\n"
     ]
    },
    {
     "name": "stderr",
     "output_type": "stream",
     "text": [
      "09:07:01 - cmdstanpy - INFO - Chain [1] start processing\n",
      "09:07:01 - cmdstanpy - INFO - Chain [1] done processing\n",
      "09:07:01 - cmdstanpy - INFO - Chain [1] start processing\n"
     ]
    },
    {
     "name": "stdout",
     "output_type": "stream",
     "text": [
      "Processing i =  67  out of  100\n"
     ]
    },
    {
     "name": "stderr",
     "output_type": "stream",
     "text": [
      "09:07:01 - cmdstanpy - INFO - Chain [1] done processing\n",
      "09:07:01 - cmdstanpy - INFO - Chain [1] start processing\n",
      "09:07:01 - cmdstanpy - INFO - Chain [1] done processing\n"
     ]
    },
    {
     "name": "stdout",
     "output_type": "stream",
     "text": [
      "Processing i =  68  out of  100\n"
     ]
    },
    {
     "name": "stderr",
     "output_type": "stream",
     "text": [
      "09:07:02 - cmdstanpy - INFO - Chain [1] start processing\n",
      "09:07:02 - cmdstanpy - INFO - Chain [1] done processing\n"
     ]
    },
    {
     "name": "stdout",
     "output_type": "stream",
     "text": [
      "Processing i =  69  out of  100\n"
     ]
    },
    {
     "name": "stderr",
     "output_type": "stream",
     "text": [
      "09:07:02 - cmdstanpy - INFO - Chain [1] start processing\n",
      "09:07:02 - cmdstanpy - INFO - Chain [1] done processing\n"
     ]
    },
    {
     "name": "stdout",
     "output_type": "stream",
     "text": [
      "Processing i =  70  out of  100\n"
     ]
    },
    {
     "name": "stderr",
     "output_type": "stream",
     "text": [
      "09:07:02 - cmdstanpy - INFO - Chain [1] start processing\n"
     ]
    },
    {
     "name": "stdout",
     "output_type": "stream",
     "text": [
      "Processing i =  71  out of  100\n"
     ]
    },
    {
     "name": "stderr",
     "output_type": "stream",
     "text": [
      "09:07:02 - cmdstanpy - INFO - Chain [1] done processing\n",
      "09:07:02 - cmdstanpy - INFO - Chain [1] start processing\n",
      "09:07:02 - cmdstanpy - INFO - Chain [1] done processing\n"
     ]
    },
    {
     "name": "stdout",
     "output_type": "stream",
     "text": [
      "Processing i =  72  out of  100\n"
     ]
    },
    {
     "name": "stderr",
     "output_type": "stream",
     "text": [
      "09:07:03 - cmdstanpy - INFO - Chain [1] start processing\n"
     ]
    },
    {
     "name": "stdout",
     "output_type": "stream",
     "text": [
      "Processing i =  73  out of  100\n"
     ]
    },
    {
     "name": "stderr",
     "output_type": "stream",
     "text": [
      "09:07:03 - cmdstanpy - INFO - Chain [1] done processing\n",
      "09:07:03 - cmdstanpy - INFO - Chain [1] start processing\n"
     ]
    },
    {
     "name": "stdout",
     "output_type": "stream",
     "text": [
      "Processing i =  74  out of  100\n"
     ]
    },
    {
     "name": "stderr",
     "output_type": "stream",
     "text": [
      "09:07:03 - cmdstanpy - INFO - Chain [1] done processing\n",
      "09:07:03 - cmdstanpy - INFO - Chain [1] start processing\n"
     ]
    },
    {
     "name": "stdout",
     "output_type": "stream",
     "text": [
      "Processing i =  75  out of  100\n"
     ]
    },
    {
     "name": "stderr",
     "output_type": "stream",
     "text": [
      "09:07:03 - cmdstanpy - INFO - Chain [1] done processing\n",
      "09:07:04 - cmdstanpy - INFO - Chain [1] start processing\n"
     ]
    },
    {
     "name": "stdout",
     "output_type": "stream",
     "text": [
      "Processing i =  76  out of  100\n"
     ]
    },
    {
     "name": "stderr",
     "output_type": "stream",
     "text": [
      "09:07:04 - cmdstanpy - INFO - Chain [1] done processing\n",
      "09:07:04 - cmdstanpy - INFO - Chain [1] start processing\n"
     ]
    },
    {
     "name": "stdout",
     "output_type": "stream",
     "text": [
      "Processing i =  77  out of  100\n"
     ]
    },
    {
     "name": "stderr",
     "output_type": "stream",
     "text": [
      "09:07:04 - cmdstanpy - INFO - Chain [1] done processing\n",
      "09:07:04 - cmdstanpy - INFO - Chain [1] start processing\n"
     ]
    },
    {
     "name": "stdout",
     "output_type": "stream",
     "text": [
      "Processing i =  78  out of  100\n"
     ]
    },
    {
     "name": "stderr",
     "output_type": "stream",
     "text": [
      "09:07:04 - cmdstanpy - INFO - Chain [1] done processing\n",
      "09:07:04 - cmdstanpy - INFO - Chain [1] start processing\n",
      "09:07:04 - cmdstanpy - INFO - Chain [1] done processing\n"
     ]
    },
    {
     "name": "stdout",
     "output_type": "stream",
     "text": [
      "Processing i =  79  out of  100\n"
     ]
    },
    {
     "name": "stderr",
     "output_type": "stream",
     "text": [
      "09:07:05 - cmdstanpy - INFO - Chain [1] start processing\n",
      "09:07:05 - cmdstanpy - INFO - Chain [1] done processing\n"
     ]
    },
    {
     "name": "stdout",
     "output_type": "stream",
     "text": [
      "Processing i =  80  out of  100\n"
     ]
    },
    {
     "name": "stderr",
     "output_type": "stream",
     "text": [
      "09:07:05 - cmdstanpy - INFO - Chain [1] start processing\n"
     ]
    },
    {
     "name": "stdout",
     "output_type": "stream",
     "text": [
      "Processing i =  81  out of  100\n"
     ]
    },
    {
     "name": "stderr",
     "output_type": "stream",
     "text": [
      "09:07:05 - cmdstanpy - INFO - Chain [1] done processing\n",
      "09:07:05 - cmdstanpy - INFO - Chain [1] start processing\n"
     ]
    },
    {
     "name": "stdout",
     "output_type": "stream",
     "text": [
      "Processing i =  82  out of  100\n"
     ]
    },
    {
     "name": "stderr",
     "output_type": "stream",
     "text": [
      "09:07:05 - cmdstanpy - INFO - Chain [1] done processing\n",
      "09:07:05 - cmdstanpy - INFO - Chain [1] start processing\n"
     ]
    },
    {
     "name": "stdout",
     "output_type": "stream",
     "text": [
      "Processing i =  83  out of  100\n"
     ]
    },
    {
     "name": "stderr",
     "output_type": "stream",
     "text": [
      "09:07:06 - cmdstanpy - INFO - Chain [1] done processing\n",
      "09:07:06 - cmdstanpy - INFO - Chain [1] start processing\n"
     ]
    },
    {
     "name": "stdout",
     "output_type": "stream",
     "text": [
      "Processing i =  84  out of  100\n"
     ]
    },
    {
     "name": "stderr",
     "output_type": "stream",
     "text": [
      "09:07:06 - cmdstanpy - INFO - Chain [1] done processing\n",
      "09:07:06 - cmdstanpy - INFO - Chain [1] start processing\n"
     ]
    },
    {
     "name": "stdout",
     "output_type": "stream",
     "text": [
      "Processing i =  85  out of  100\n"
     ]
    },
    {
     "name": "stderr",
     "output_type": "stream",
     "text": [
      "09:07:06 - cmdstanpy - INFO - Chain [1] done processing\n",
      "09:07:06 - cmdstanpy - INFO - Chain [1] start processing\n"
     ]
    },
    {
     "name": "stdout",
     "output_type": "stream",
     "text": [
      "Processing i =  86  out of  100\n"
     ]
    },
    {
     "name": "stderr",
     "output_type": "stream",
     "text": [
      "09:07:06 - cmdstanpy - INFO - Chain [1] done processing\n",
      "09:07:07 - cmdstanpy - INFO - Chain [1] start processing\n"
     ]
    },
    {
     "name": "stdout",
     "output_type": "stream",
     "text": [
      "Processing i =  87  out of  100\n"
     ]
    },
    {
     "name": "stderr",
     "output_type": "stream",
     "text": [
      "09:07:07 - cmdstanpy - INFO - Chain [1] done processing\n",
      "09:07:07 - cmdstanpy - INFO - Chain [1] start processing\n",
      "09:07:07 - cmdstanpy - INFO - Chain [1] done processing\n"
     ]
    },
    {
     "name": "stdout",
     "output_type": "stream",
     "text": [
      "Processing i =  88  out of  100\n"
     ]
    },
    {
     "name": "stderr",
     "output_type": "stream",
     "text": [
      "09:07:07 - cmdstanpy - INFO - Chain [1] start processing\n"
     ]
    },
    {
     "name": "stdout",
     "output_type": "stream",
     "text": [
      "Processing i =  89  out of  100\n"
     ]
    },
    {
     "name": "stderr",
     "output_type": "stream",
     "text": [
      "09:07:07 - cmdstanpy - INFO - Chain [1] done processing\n",
      "09:07:07 - cmdstanpy - INFO - Chain [1] start processing\n"
     ]
    },
    {
     "name": "stdout",
     "output_type": "stream",
     "text": [
      "Processing i =  90  out of  100\n"
     ]
    },
    {
     "name": "stderr",
     "output_type": "stream",
     "text": [
      "09:07:07 - cmdstanpy - INFO - Chain [1] done processing\n"
     ]
    },
    {
     "name": "stdout",
     "output_type": "stream",
     "text": [
      "Processing i =  91  out of  100\n"
     ]
    },
    {
     "name": "stderr",
     "output_type": "stream",
     "text": [
      "09:07:08 - cmdstanpy - INFO - Chain [1] start processing\n",
      "09:07:08 - cmdstanpy - INFO - Chain [1] done processing\n",
      "09:07:08 - cmdstanpy - INFO - Chain [1] start processing\n"
     ]
    },
    {
     "name": "stdout",
     "output_type": "stream",
     "text": [
      "Processing i =  92  out of  100\n"
     ]
    },
    {
     "name": "stderr",
     "output_type": "stream",
     "text": [
      "09:07:08 - cmdstanpy - INFO - Chain [1] done processing\n",
      "09:07:08 - cmdstanpy - INFO - Chain [1] start processing\n",
      "09:07:08 - cmdstanpy - INFO - Chain [1] done processing\n"
     ]
    },
    {
     "name": "stdout",
     "output_type": "stream",
     "text": [
      "Processing i =  93  out of  100\n"
     ]
    },
    {
     "name": "stderr",
     "output_type": "stream",
     "text": [
      "09:07:08 - cmdstanpy - INFO - Chain [1] start processing\n"
     ]
    },
    {
     "name": "stdout",
     "output_type": "stream",
     "text": [
      "Processing i =  94  out of  100\n"
     ]
    },
    {
     "name": "stderr",
     "output_type": "stream",
     "text": [
      "09:07:09 - cmdstanpy - INFO - Chain [1] done processing\n",
      "09:07:09 - cmdstanpy - INFO - Chain [1] start processing\n",
      "09:07:09 - cmdstanpy - INFO - Chain [1] done processing\n"
     ]
    },
    {
     "name": "stdout",
     "output_type": "stream",
     "text": [
      "Processing i =  95  out of  100\n",
      "Processing i =  96  out of  100\n"
     ]
    },
    {
     "name": "stderr",
     "output_type": "stream",
     "text": [
      "09:07:09 - cmdstanpy - INFO - Chain [1] start processing\n",
      "09:07:09 - cmdstanpy - INFO - Chain [1] done processing\n",
      "09:07:09 - cmdstanpy - INFO - Chain [1] start processing\n"
     ]
    },
    {
     "name": "stdout",
     "output_type": "stream",
     "text": [
      "Processing i =  97  out of  100\n"
     ]
    },
    {
     "name": "stderr",
     "output_type": "stream",
     "text": [
      "09:07:09 - cmdstanpy - INFO - Chain [1] done processing\n",
      "09:07:09 - cmdstanpy - INFO - Chain [1] start processing\n",
      "09:07:10 - cmdstanpy - INFO - Chain [1] done processing\n"
     ]
    },
    {
     "name": "stdout",
     "output_type": "stream",
     "text": [
      "Processing i =  98  out of  100\n"
     ]
    },
    {
     "name": "stderr",
     "output_type": "stream",
     "text": [
      "09:07:10 - cmdstanpy - INFO - Chain [1] start processing\n"
     ]
    },
    {
     "name": "stdout",
     "output_type": "stream",
     "text": [
      "Processing i =  99  out of  100\n"
     ]
    },
    {
     "name": "stderr",
     "output_type": "stream",
     "text": [
      "09:07:10 - cmdstanpy - INFO - Chain [1] done processing\n",
      "09:07:10 - cmdstanpy - INFO - Chain [1] start processing\n"
     ]
    },
    {
     "name": "stdout",
     "output_type": "stream",
     "text": [
      "Processing i =  100  out of  100\n"
     ]
    },
    {
     "name": "stderr",
     "output_type": "stream",
     "text": [
      "09:07:10 - cmdstanpy - INFO - Chain [1] done processing\n"
     ]
    },
    {
     "name": "stdout",
     "output_type": "stream",
     "text": [
      "\n",
      "Processing CV 3 / 10....\n"
     ]
    },
    {
     "name": "stderr",
     "output_type": "stream",
     "text": [
      "09:07:10 - cmdstanpy - INFO - Chain [1] start processing\n",
      "09:07:11 - cmdstanpy - INFO - Chain [1] done processing\n",
      "C:\\Users\\z5404477\\AppData\\Local\\Temp\\ipykernel_33584\\1029035988.py:39: SettingWithCopyWarning: \n",
      "A value is trying to be set on a copy of a slice from a DataFrame\n",
      "\n",
      "See the caveats in the documentation: https://pandas.pydata.org/pandas-docs/stable/user_guide/indexing.html#returning-a-view-versus-a-copy\n",
      "  X_exog.rename(columns={'datetime': 'ds'}, inplace=True)\n",
      "C:\\Users\\z5404477\\AppData\\Local\\Temp\\ipykernel_33584\\1029035988.py:96: SettingWithCopyWarning: \n",
      "A value is trying to be set on a copy of a slice from a DataFrame\n",
      "\n",
      "See the caveats in the documentation: https://pandas.pydata.org/pandas-docs/stable/user_guide/indexing.html#returning-a-view-versus-a-copy\n",
      "  X_test.rename(columns={'datetime': 'ds'}, inplace=True)\n",
      "09:07:11 - cmdstanpy - INFO - Chain [1] start processing\n"
     ]
    },
    {
     "name": "stdout",
     "output_type": "stream",
     "text": [
      "Processing i =  1  out of  100\n",
      "Processing i =  2  out of  100\n"
     ]
    },
    {
     "name": "stderr",
     "output_type": "stream",
     "text": [
      "09:07:11 - cmdstanpy - INFO - Chain [1] done processing\n",
      "09:07:11 - cmdstanpy - INFO - Chain [1] start processing\n"
     ]
    },
    {
     "name": "stdout",
     "output_type": "stream",
     "text": [
      "Processing i =  3  out of  100\n"
     ]
    },
    {
     "name": "stderr",
     "output_type": "stream",
     "text": [
      "09:07:11 - cmdstanpy - INFO - Chain [1] done processing\n",
      "09:07:12 - cmdstanpy - INFO - Chain [1] start processing\n",
      "09:07:12 - cmdstanpy - INFO - Chain [1] done processing\n"
     ]
    },
    {
     "name": "stdout",
     "output_type": "stream",
     "text": [
      "Processing i =  4  out of  100\n"
     ]
    },
    {
     "name": "stderr",
     "output_type": "stream",
     "text": [
      "09:07:12 - cmdstanpy - INFO - Chain [1] start processing\n"
     ]
    },
    {
     "name": "stdout",
     "output_type": "stream",
     "text": [
      "Processing i =  5  out of  100\n"
     ]
    },
    {
     "name": "stderr",
     "output_type": "stream",
     "text": [
      "09:07:12 - cmdstanpy - INFO - Chain [1] done processing\n",
      "09:07:12 - cmdstanpy - INFO - Chain [1] start processing\n"
     ]
    },
    {
     "name": "stdout",
     "output_type": "stream",
     "text": [
      "Processing i =  6  out of  100\n"
     ]
    },
    {
     "name": "stderr",
     "output_type": "stream",
     "text": [
      "09:07:12 - cmdstanpy - INFO - Chain [1] done processing\n",
      "09:07:12 - cmdstanpy - INFO - Chain [1] start processing\n",
      "09:07:12 - cmdstanpy - INFO - Chain [1] done processing\n"
     ]
    },
    {
     "name": "stdout",
     "output_type": "stream",
     "text": [
      "Processing i =  7  out of  100\n"
     ]
    },
    {
     "name": "stderr",
     "output_type": "stream",
     "text": [
      "09:07:12 - cmdstanpy - INFO - Chain [1] start processing\n"
     ]
    },
    {
     "name": "stdout",
     "output_type": "stream",
     "text": [
      "Processing i =  8  out of  100\n"
     ]
    },
    {
     "name": "stderr",
     "output_type": "stream",
     "text": [
      "09:07:13 - cmdstanpy - INFO - Chain [1] done processing\n",
      "09:07:13 - cmdstanpy - INFO - Chain [1] start processing\n"
     ]
    },
    {
     "name": "stdout",
     "output_type": "stream",
     "text": [
      "Processing i =  9  out of  100\n"
     ]
    },
    {
     "name": "stderr",
     "output_type": "stream",
     "text": [
      "09:07:13 - cmdstanpy - INFO - Chain [1] done processing\n",
      "09:07:13 - cmdstanpy - INFO - Chain [1] start processing\n"
     ]
    },
    {
     "name": "stdout",
     "output_type": "stream",
     "text": [
      "Processing i =  10  out of  100\n"
     ]
    },
    {
     "name": "stderr",
     "output_type": "stream",
     "text": [
      "09:07:13 - cmdstanpy - INFO - Chain [1] done processing\n",
      "09:07:13 - cmdstanpy - INFO - Chain [1] start processing\n",
      "09:07:13 - cmdstanpy - INFO - Chain [1] done processing\n"
     ]
    },
    {
     "name": "stdout",
     "output_type": "stream",
     "text": [
      "Processing i =  11  out of  100\n"
     ]
    },
    {
     "name": "stderr",
     "output_type": "stream",
     "text": [
      "09:07:13 - cmdstanpy - INFO - Chain [1] start processing\n"
     ]
    },
    {
     "name": "stdout",
     "output_type": "stream",
     "text": [
      "Processing i =  12  out of  100\n"
     ]
    },
    {
     "name": "stderr",
     "output_type": "stream",
     "text": [
      "09:07:13 - cmdstanpy - INFO - Chain [1] done processing\n",
      "09:07:14 - cmdstanpy - INFO - Chain [1] start processing\n"
     ]
    },
    {
     "name": "stdout",
     "output_type": "stream",
     "text": [
      "Processing i =  13  out of  100\n"
     ]
    },
    {
     "name": "stderr",
     "output_type": "stream",
     "text": [
      "09:07:14 - cmdstanpy - INFO - Chain [1] done processing\n",
      "09:07:14 - cmdstanpy - INFO - Chain [1] start processing\n",
      "09:07:14 - cmdstanpy - INFO - Chain [1] done processing\n"
     ]
    },
    {
     "name": "stdout",
     "output_type": "stream",
     "text": [
      "Processing i =  14  out of  100\n"
     ]
    },
    {
     "name": "stderr",
     "output_type": "stream",
     "text": [
      "09:07:14 - cmdstanpy - INFO - Chain [1] start processing\n"
     ]
    },
    {
     "name": "stdout",
     "output_type": "stream",
     "text": [
      "Processing i =  15  out of  100\n"
     ]
    },
    {
     "name": "stderr",
     "output_type": "stream",
     "text": [
      "09:07:14 - cmdstanpy - INFO - Chain [1] done processing\n",
      "09:07:14 - cmdstanpy - INFO - Chain [1] start processing\n",
      "09:07:14 - cmdstanpy - INFO - Chain [1] done processing\n"
     ]
    },
    {
     "name": "stdout",
     "output_type": "stream",
     "text": [
      "Processing i =  16  out of  100\n"
     ]
    },
    {
     "name": "stderr",
     "output_type": "stream",
     "text": [
      "09:07:15 - cmdstanpy - INFO - Chain [1] start processing\n",
      "09:07:15 - cmdstanpy - INFO - Chain [1] done processing\n"
     ]
    },
    {
     "name": "stdout",
     "output_type": "stream",
     "text": [
      "Processing i =  17  out of  100\n"
     ]
    },
    {
     "name": "stderr",
     "output_type": "stream",
     "text": [
      "09:07:15 - cmdstanpy - INFO - Chain [1] start processing\n",
      "09:07:15 - cmdstanpy - INFO - Chain [1] done processing\n"
     ]
    },
    {
     "name": "stdout",
     "output_type": "stream",
     "text": [
      "Processing i =  18  out of  100\n"
     ]
    },
    {
     "name": "stderr",
     "output_type": "stream",
     "text": [
      "09:07:15 - cmdstanpy - INFO - Chain [1] start processing\n"
     ]
    },
    {
     "name": "stdout",
     "output_type": "stream",
     "text": [
      "Processing i =  19  out of  100\n"
     ]
    },
    {
     "name": "stderr",
     "output_type": "stream",
     "text": [
      "09:07:15 - cmdstanpy - INFO - Chain [1] done processing\n",
      "09:07:15 - cmdstanpy - INFO - Chain [1] start processing\n",
      "09:07:15 - cmdstanpy - INFO - Chain [1] done processing\n"
     ]
    },
    {
     "name": "stdout",
     "output_type": "stream",
     "text": [
      "Processing i =  20  out of  100\n"
     ]
    },
    {
     "name": "stderr",
     "output_type": "stream",
     "text": [
      "09:07:16 - cmdstanpy - INFO - Chain [1] start processing\n"
     ]
    },
    {
     "name": "stdout",
     "output_type": "stream",
     "text": [
      "Processing i =  21  out of  100\n"
     ]
    },
    {
     "name": "stderr",
     "output_type": "stream",
     "text": [
      "09:07:16 - cmdstanpy - INFO - Chain [1] done processing\n",
      "09:07:16 - cmdstanpy - INFO - Chain [1] start processing\n"
     ]
    },
    {
     "name": "stdout",
     "output_type": "stream",
     "text": [
      "Processing i =  22  out of  100\n"
     ]
    },
    {
     "name": "stderr",
     "output_type": "stream",
     "text": [
      "09:07:16 - cmdstanpy - INFO - Chain [1] done processing\n",
      "09:07:16 - cmdstanpy - INFO - Chain [1] start processing\n"
     ]
    },
    {
     "name": "stdout",
     "output_type": "stream",
     "text": [
      "Processing i =  23  out of  100\n"
     ]
    },
    {
     "name": "stderr",
     "output_type": "stream",
     "text": [
      "09:07:16 - cmdstanpy - INFO - Chain [1] done processing\n",
      "09:07:16 - cmdstanpy - INFO - Chain [1] start processing\n",
      "09:07:16 - cmdstanpy - INFO - Chain [1] done processing\n"
     ]
    },
    {
     "name": "stdout",
     "output_type": "stream",
     "text": [
      "Processing i =  24  out of  100\n"
     ]
    },
    {
     "name": "stderr",
     "output_type": "stream",
     "text": [
      "09:07:16 - cmdstanpy - INFO - Chain [1] start processing\n"
     ]
    },
    {
     "name": "stdout",
     "output_type": "stream",
     "text": [
      "Processing i =  25  out of  100\n"
     ]
    },
    {
     "name": "stderr",
     "output_type": "stream",
     "text": [
      "09:07:17 - cmdstanpy - INFO - Chain [1] done processing\n",
      "09:07:17 - cmdstanpy - INFO - Chain [1] start processing\n",
      "09:07:17 - cmdstanpy - INFO - Chain [1] done processing\n"
     ]
    },
    {
     "name": "stdout",
     "output_type": "stream",
     "text": [
      "Processing i =  26  out of  100\n"
     ]
    },
    {
     "name": "stderr",
     "output_type": "stream",
     "text": [
      "09:07:17 - cmdstanpy - INFO - Chain [1] start processing\n"
     ]
    },
    {
     "name": "stdout",
     "output_type": "stream",
     "text": [
      "Processing i =  27  out of  100\n"
     ]
    },
    {
     "name": "stderr",
     "output_type": "stream",
     "text": [
      "09:07:17 - cmdstanpy - INFO - Chain [1] done processing\n",
      "09:07:17 - cmdstanpy - INFO - Chain [1] start processing\n",
      "09:07:17 - cmdstanpy - INFO - Chain [1] done processing\n"
     ]
    },
    {
     "name": "stdout",
     "output_type": "stream",
     "text": [
      "Processing i =  28  out of  100\n"
     ]
    },
    {
     "name": "stderr",
     "output_type": "stream",
     "text": [
      "09:07:17 - cmdstanpy - INFO - Chain [1] start processing\n",
      "09:07:18 - cmdstanpy - INFO - Chain [1] done processing\n"
     ]
    },
    {
     "name": "stdout",
     "output_type": "stream",
     "text": [
      "Processing i =  29  out of  100\n"
     ]
    },
    {
     "name": "stderr",
     "output_type": "stream",
     "text": [
      "09:07:18 - cmdstanpy - INFO - Chain [1] start processing\n"
     ]
    },
    {
     "name": "stdout",
     "output_type": "stream",
     "text": [
      "Processing i =  30  out of  100\n"
     ]
    },
    {
     "name": "stderr",
     "output_type": "stream",
     "text": [
      "09:07:18 - cmdstanpy - INFO - Chain [1] done processing\n",
      "09:07:18 - cmdstanpy - INFO - Chain [1] start processing\n"
     ]
    },
    {
     "name": "stdout",
     "output_type": "stream",
     "text": [
      "Processing i =  31  out of  100\n"
     ]
    },
    {
     "name": "stderr",
     "output_type": "stream",
     "text": [
      "09:07:18 - cmdstanpy - INFO - Chain [1] done processing\n",
      "09:07:18 - cmdstanpy - INFO - Chain [1] start processing\n"
     ]
    },
    {
     "name": "stdout",
     "output_type": "stream",
     "text": [
      "Processing i =  32  out of  100\n"
     ]
    },
    {
     "name": "stderr",
     "output_type": "stream",
     "text": [
      "09:07:18 - cmdstanpy - INFO - Chain [1] done processing\n",
      "09:07:18 - cmdstanpy - INFO - Chain [1] start processing\n",
      "09:07:18 - cmdstanpy - INFO - Chain [1] done processing\n"
     ]
    },
    {
     "name": "stdout",
     "output_type": "stream",
     "text": [
      "Processing i =  33  out of  100\n"
     ]
    },
    {
     "name": "stderr",
     "output_type": "stream",
     "text": [
      "09:07:19 - cmdstanpy - INFO - Chain [1] start processing\n"
     ]
    },
    {
     "name": "stdout",
     "output_type": "stream",
     "text": [
      "Processing i =  34  out of  100\n"
     ]
    },
    {
     "name": "stderr",
     "output_type": "stream",
     "text": [
      "09:07:19 - cmdstanpy - INFO - Chain [1] done processing\n",
      "09:07:19 - cmdstanpy - INFO - Chain [1] start processing\n"
     ]
    },
    {
     "name": "stdout",
     "output_type": "stream",
     "text": [
      "Processing i =  35  out of  100\n"
     ]
    },
    {
     "name": "stderr",
     "output_type": "stream",
     "text": [
      "09:07:19 - cmdstanpy - INFO - Chain [1] done processing\n",
      "09:07:19 - cmdstanpy - INFO - Chain [1] start processing\n"
     ]
    },
    {
     "name": "stdout",
     "output_type": "stream",
     "text": [
      "Processing i =  36  out of  100\n"
     ]
    },
    {
     "name": "stderr",
     "output_type": "stream",
     "text": [
      "09:07:19 - cmdstanpy - INFO - Chain [1] done processing\n",
      "09:07:19 - cmdstanpy - INFO - Chain [1] start processing\n"
     ]
    },
    {
     "name": "stdout",
     "output_type": "stream",
     "text": [
      "Processing i =  37  out of  100\n"
     ]
    },
    {
     "name": "stderr",
     "output_type": "stream",
     "text": [
      "09:07:20 - cmdstanpy - INFO - Chain [1] done processing\n",
      "09:07:20 - cmdstanpy - INFO - Chain [1] start processing\n"
     ]
    },
    {
     "name": "stdout",
     "output_type": "stream",
     "text": [
      "Processing i =  38  out of  100\n"
     ]
    },
    {
     "name": "stderr",
     "output_type": "stream",
     "text": [
      "09:07:20 - cmdstanpy - INFO - Chain [1] done processing\n",
      "09:07:20 - cmdstanpy - INFO - Chain [1] start processing\n"
     ]
    },
    {
     "name": "stdout",
     "output_type": "stream",
     "text": [
      "Processing i =  39  out of  100\n"
     ]
    },
    {
     "name": "stderr",
     "output_type": "stream",
     "text": [
      "09:07:20 - cmdstanpy - INFO - Chain [1] done processing\n",
      "09:07:20 - cmdstanpy - INFO - Chain [1] start processing\n"
     ]
    },
    {
     "name": "stdout",
     "output_type": "stream",
     "text": [
      "Processing i =  40  out of  100\n"
     ]
    },
    {
     "name": "stderr",
     "output_type": "stream",
     "text": [
      "09:07:20 - cmdstanpy - INFO - Chain [1] done processing\n",
      "09:07:20 - cmdstanpy - INFO - Chain [1] start processing\n"
     ]
    },
    {
     "name": "stdout",
     "output_type": "stream",
     "text": [
      "Processing i =  41  out of  100\n"
     ]
    },
    {
     "name": "stderr",
     "output_type": "stream",
     "text": [
      "09:07:21 - cmdstanpy - INFO - Chain [1] done processing\n",
      "09:07:21 - cmdstanpy - INFO - Chain [1] start processing\n"
     ]
    },
    {
     "name": "stdout",
     "output_type": "stream",
     "text": [
      "Processing i =  42  out of  100\n"
     ]
    },
    {
     "name": "stderr",
     "output_type": "stream",
     "text": [
      "09:07:21 - cmdstanpy - INFO - Chain [1] done processing\n",
      "09:07:21 - cmdstanpy - INFO - Chain [1] start processing\n"
     ]
    },
    {
     "name": "stdout",
     "output_type": "stream",
     "text": [
      "Processing i =  43  out of  100\n"
     ]
    },
    {
     "name": "stderr",
     "output_type": "stream",
     "text": [
      "09:07:21 - cmdstanpy - INFO - Chain [1] done processing\n",
      "09:07:21 - cmdstanpy - INFO - Chain [1] start processing\n"
     ]
    },
    {
     "name": "stdout",
     "output_type": "stream",
     "text": [
      "Processing i =  44  out of  100\n"
     ]
    },
    {
     "name": "stderr",
     "output_type": "stream",
     "text": [
      "09:07:21 - cmdstanpy - INFO - Chain [1] done processing\n",
      "09:07:22 - cmdstanpy - INFO - Chain [1] start processing\n",
      "09:07:22 - cmdstanpy - INFO - Chain [1] done processing\n"
     ]
    },
    {
     "name": "stdout",
     "output_type": "stream",
     "text": [
      "Processing i =  45  out of  100\n"
     ]
    },
    {
     "name": "stderr",
     "output_type": "stream",
     "text": [
      "09:07:22 - cmdstanpy - INFO - Chain [1] start processing\n"
     ]
    },
    {
     "name": "stdout",
     "output_type": "stream",
     "text": [
      "Processing i =  46  out of  100\n"
     ]
    },
    {
     "name": "stderr",
     "output_type": "stream",
     "text": [
      "09:07:22 - cmdstanpy - INFO - Chain [1] done processing\n",
      "09:07:22 - cmdstanpy - INFO - Chain [1] start processing\n",
      "09:07:22 - cmdstanpy - INFO - Chain [1] done processing\n"
     ]
    },
    {
     "name": "stdout",
     "output_type": "stream",
     "text": [
      "Processing i =  47  out of  100\n"
     ]
    },
    {
     "name": "stderr",
     "output_type": "stream",
     "text": [
      "09:07:22 - cmdstanpy - INFO - Chain [1] start processing\n"
     ]
    },
    {
     "name": "stdout",
     "output_type": "stream",
     "text": [
      "Processing i =  48  out of  100\n"
     ]
    },
    {
     "name": "stderr",
     "output_type": "stream",
     "text": [
      "09:07:22 - cmdstanpy - INFO - Chain [1] done processing\n",
      "09:07:23 - cmdstanpy - INFO - Chain [1] start processing\n",
      "09:07:23 - cmdstanpy - INFO - Chain [1] done processing\n"
     ]
    },
    {
     "name": "stdout",
     "output_type": "stream",
     "text": [
      "Processing i =  49  out of  100\n"
     ]
    },
    {
     "name": "stderr",
     "output_type": "stream",
     "text": [
      "09:07:23 - cmdstanpy - INFO - Chain [1] start processing\n",
      "09:07:23 - cmdstanpy - INFO - Chain [1] done processing\n"
     ]
    },
    {
     "name": "stdout",
     "output_type": "stream",
     "text": [
      "Processing i =  50  out of  100\n"
     ]
    },
    {
     "name": "stderr",
     "output_type": "stream",
     "text": [
      "09:07:23 - cmdstanpy - INFO - Chain [1] start processing\n"
     ]
    },
    {
     "name": "stdout",
     "output_type": "stream",
     "text": [
      "Processing i =  51  out of  100\n"
     ]
    },
    {
     "name": "stderr",
     "output_type": "stream",
     "text": [
      "09:07:23 - cmdstanpy - INFO - Chain [1] done processing\n",
      "09:07:23 - cmdstanpy - INFO - Chain [1] start processing\n",
      "09:07:23 - cmdstanpy - INFO - Chain [1] done processing\n"
     ]
    },
    {
     "name": "stdout",
     "output_type": "stream",
     "text": [
      "Processing i =  52  out of  100\n",
      "Processing i =  53  out of  100\n"
     ]
    },
    {
     "name": "stderr",
     "output_type": "stream",
     "text": [
      "09:07:23 - cmdstanpy - INFO - Chain [1] start processing\n",
      "09:07:23 - cmdstanpy - INFO - Chain [1] done processing\n",
      "09:07:24 - cmdstanpy - INFO - Chain [1] start processing\n"
     ]
    },
    {
     "name": "stdout",
     "output_type": "stream",
     "text": [
      "Processing i =  54  out of  100\n"
     ]
    },
    {
     "name": "stderr",
     "output_type": "stream",
     "text": [
      "09:07:24 - cmdstanpy - INFO - Chain [1] done processing\n",
      "09:07:24 - cmdstanpy - INFO - Chain [1] start processing\n",
      "09:07:24 - cmdstanpy - INFO - Chain [1] done processing\n"
     ]
    },
    {
     "name": "stdout",
     "output_type": "stream",
     "text": [
      "Processing i =  55  out of  100\n"
     ]
    },
    {
     "name": "stderr",
     "output_type": "stream",
     "text": [
      "09:07:24 - cmdstanpy - INFO - Chain [1] start processing\n",
      "09:07:24 - cmdstanpy - INFO - Chain [1] done processing\n"
     ]
    },
    {
     "name": "stdout",
     "output_type": "stream",
     "text": [
      "Processing i =  56  out of  100\n"
     ]
    },
    {
     "name": "stderr",
     "output_type": "stream",
     "text": [
      "09:07:24 - cmdstanpy - INFO - Chain [1] start processing\n",
      "09:07:24 - cmdstanpy - INFO - Chain [1] done processing\n"
     ]
    },
    {
     "name": "stdout",
     "output_type": "stream",
     "text": [
      "Processing i =  57  out of  100\n"
     ]
    },
    {
     "name": "stderr",
     "output_type": "stream",
     "text": [
      "09:07:25 - cmdstanpy - INFO - Chain [1] start processing\n",
      "09:07:25 - cmdstanpy - INFO - Chain [1] done processing\n"
     ]
    },
    {
     "name": "stdout",
     "output_type": "stream",
     "text": [
      "Processing i =  58  out of  100\n"
     ]
    },
    {
     "name": "stderr",
     "output_type": "stream",
     "text": [
      "09:07:25 - cmdstanpy - INFO - Chain [1] start processing\n",
      "09:07:25 - cmdstanpy - INFO - Chain [1] done processing\n"
     ]
    },
    {
     "name": "stdout",
     "output_type": "stream",
     "text": [
      "Processing i =  59  out of  100\n"
     ]
    },
    {
     "name": "stderr",
     "output_type": "stream",
     "text": [
      "09:07:25 - cmdstanpy - INFO - Chain [1] start processing\n",
      "09:07:25 - cmdstanpy - INFO - Chain [1] done processing\n"
     ]
    },
    {
     "name": "stdout",
     "output_type": "stream",
     "text": [
      "Processing i =  60  out of  100\n"
     ]
    },
    {
     "name": "stderr",
     "output_type": "stream",
     "text": [
      "09:07:25 - cmdstanpy - INFO - Chain [1] start processing\n"
     ]
    },
    {
     "name": "stdout",
     "output_type": "stream",
     "text": [
      "Processing i =  61  out of  100\n"
     ]
    },
    {
     "name": "stderr",
     "output_type": "stream",
     "text": [
      "09:07:25 - cmdstanpy - INFO - Chain [1] done processing\n",
      "09:07:26 - cmdstanpy - INFO - Chain [1] start processing\n"
     ]
    },
    {
     "name": "stdout",
     "output_type": "stream",
     "text": [
      "Processing i =  62  out of  100\n"
     ]
    },
    {
     "name": "stderr",
     "output_type": "stream",
     "text": [
      "09:07:26 - cmdstanpy - INFO - Chain [1] done processing\n",
      "09:07:26 - cmdstanpy - INFO - Chain [1] start processing\n"
     ]
    },
    {
     "name": "stdout",
     "output_type": "stream",
     "text": [
      "Processing i =  63  out of  100\n"
     ]
    },
    {
     "name": "stderr",
     "output_type": "stream",
     "text": [
      "09:07:26 - cmdstanpy - INFO - Chain [1] done processing\n",
      "09:07:26 - cmdstanpy - INFO - Chain [1] start processing\n",
      "09:07:26 - cmdstanpy - INFO - Chain [1] done processing\n"
     ]
    },
    {
     "name": "stdout",
     "output_type": "stream",
     "text": [
      "Processing i =  64  out of  100\n"
     ]
    },
    {
     "name": "stderr",
     "output_type": "stream",
     "text": [
      "09:07:26 - cmdstanpy - INFO - Chain [1] start processing\n",
      "09:07:26 - cmdstanpy - INFO - Chain [1] done processing\n"
     ]
    },
    {
     "name": "stdout",
     "output_type": "stream",
     "text": [
      "Processing i =  65  out of  100\n"
     ]
    },
    {
     "name": "stderr",
     "output_type": "stream",
     "text": [
      "09:07:26 - cmdstanpy - INFO - Chain [1] start processing\n",
      "09:07:27 - cmdstanpy - INFO - Chain [1] done processing\n"
     ]
    },
    {
     "name": "stdout",
     "output_type": "stream",
     "text": [
      "Processing i =  66  out of  100\n"
     ]
    },
    {
     "name": "stderr",
     "output_type": "stream",
     "text": [
      "09:07:27 - cmdstanpy - INFO - Chain [1] start processing\n",
      "09:07:27 - cmdstanpy - INFO - Chain [1] done processing\n"
     ]
    },
    {
     "name": "stdout",
     "output_type": "stream",
     "text": [
      "Processing i =  67  out of  100\n"
     ]
    },
    {
     "name": "stderr",
     "output_type": "stream",
     "text": [
      "09:07:27 - cmdstanpy - INFO - Chain [1] start processing\n"
     ]
    },
    {
     "name": "stdout",
     "output_type": "stream",
     "text": [
      "Processing i =  68  out of  100\n"
     ]
    },
    {
     "name": "stderr",
     "output_type": "stream",
     "text": [
      "09:07:27 - cmdstanpy - INFO - Chain [1] done processing\n",
      "09:07:27 - cmdstanpy - INFO - Chain [1] start processing\n",
      "09:07:27 - cmdstanpy - INFO - Chain [1] done processing\n"
     ]
    },
    {
     "name": "stdout",
     "output_type": "stream",
     "text": [
      "Processing i =  69  out of  100\n",
      "Processing i =  70  out of  100\n"
     ]
    },
    {
     "name": "stderr",
     "output_type": "stream",
     "text": [
      "09:07:27 - cmdstanpy - INFO - Chain [1] start processing\n",
      "09:07:27 - cmdstanpy - INFO - Chain [1] done processing\n",
      "09:07:28 - cmdstanpy - INFO - Chain [1] start processing\n",
      "09:07:28 - cmdstanpy - INFO - Chain [1] done processing\n"
     ]
    },
    {
     "name": "stdout",
     "output_type": "stream",
     "text": [
      "Processing i =  71  out of  100\n",
      "Processing i =  72  out of  100\n"
     ]
    },
    {
     "name": "stderr",
     "output_type": "stream",
     "text": [
      "09:07:28 - cmdstanpy - INFO - Chain [1] start processing\n",
      "09:07:28 - cmdstanpy - INFO - Chain [1] done processing\n",
      "09:07:28 - cmdstanpy - INFO - Chain [1] start processing\n",
      "09:07:28 - cmdstanpy - INFO - Chain [1] done processing\n"
     ]
    },
    {
     "name": "stdout",
     "output_type": "stream",
     "text": [
      "Processing i =  73  out of  100\n"
     ]
    },
    {
     "name": "stderr",
     "output_type": "stream",
     "text": [
      "09:07:28 - cmdstanpy - INFO - Chain [1] start processing\n"
     ]
    },
    {
     "name": "stdout",
     "output_type": "stream",
     "text": [
      "Processing i =  74  out of  100\n"
     ]
    },
    {
     "name": "stderr",
     "output_type": "stream",
     "text": [
      "09:07:28 - cmdstanpy - INFO - Chain [1] done processing\n",
      "09:07:29 - cmdstanpy - INFO - Chain [1] start processing\n"
     ]
    },
    {
     "name": "stdout",
     "output_type": "stream",
     "text": [
      "Processing i =  75  out of  100\n"
     ]
    },
    {
     "name": "stderr",
     "output_type": "stream",
     "text": [
      "09:07:29 - cmdstanpy - INFO - Chain [1] done processing\n",
      "09:07:29 - cmdstanpy - INFO - Chain [1] start processing\n",
      "09:07:29 - cmdstanpy - INFO - Chain [1] done processing\n"
     ]
    },
    {
     "name": "stdout",
     "output_type": "stream",
     "text": [
      "Processing i =  76  out of  100\n"
     ]
    },
    {
     "name": "stderr",
     "output_type": "stream",
     "text": [
      "09:07:29 - cmdstanpy - INFO - Chain [1] start processing\n",
      "09:07:29 - cmdstanpy - INFO - Chain [1] done processing\n"
     ]
    },
    {
     "name": "stdout",
     "output_type": "stream",
     "text": [
      "Processing i =  77  out of  100\n"
     ]
    },
    {
     "name": "stderr",
     "output_type": "stream",
     "text": [
      "09:07:29 - cmdstanpy - INFO - Chain [1] start processing\n"
     ]
    },
    {
     "name": "stdout",
     "output_type": "stream",
     "text": [
      "Processing i =  78  out of  100\n"
     ]
    },
    {
     "name": "stderr",
     "output_type": "stream",
     "text": [
      "09:07:29 - cmdstanpy - INFO - Chain [1] done processing\n",
      "09:07:30 - cmdstanpy - INFO - Chain [1] start processing\n"
     ]
    },
    {
     "name": "stdout",
     "output_type": "stream",
     "text": [
      "Processing i =  79  out of  100\n"
     ]
    },
    {
     "name": "stderr",
     "output_type": "stream",
     "text": [
      "09:07:30 - cmdstanpy - INFO - Chain [1] done processing\n",
      "09:07:30 - cmdstanpy - INFO - Chain [1] start processing\n",
      "09:07:30 - cmdstanpy - INFO - Chain [1] done processing\n"
     ]
    },
    {
     "name": "stdout",
     "output_type": "stream",
     "text": [
      "Processing i =  80  out of  100\n"
     ]
    },
    {
     "name": "stderr",
     "output_type": "stream",
     "text": [
      "09:07:30 - cmdstanpy - INFO - Chain [1] start processing\n"
     ]
    },
    {
     "name": "stdout",
     "output_type": "stream",
     "text": [
      "Processing i =  81  out of  100\n"
     ]
    },
    {
     "name": "stderr",
     "output_type": "stream",
     "text": [
      "09:07:30 - cmdstanpy - INFO - Chain [1] done processing\n",
      "09:07:30 - cmdstanpy - INFO - Chain [1] start processing\n"
     ]
    },
    {
     "name": "stdout",
     "output_type": "stream",
     "text": [
      "Processing i =  82  out of  100\n"
     ]
    },
    {
     "name": "stderr",
     "output_type": "stream",
     "text": [
      "09:07:30 - cmdstanpy - INFO - Chain [1] done processing\n",
      "09:07:31 - cmdstanpy - INFO - Chain [1] start processing\n"
     ]
    },
    {
     "name": "stdout",
     "output_type": "stream",
     "text": [
      "Processing i =  83  out of  100\n"
     ]
    },
    {
     "name": "stderr",
     "output_type": "stream",
     "text": [
      "09:07:31 - cmdstanpy - INFO - Chain [1] done processing\n",
      "09:07:31 - cmdstanpy - INFO - Chain [1] start processing\n",
      "09:07:31 - cmdstanpy - INFO - Chain [1] done processing\n"
     ]
    },
    {
     "name": "stdout",
     "output_type": "stream",
     "text": [
      "Processing i =  84  out of  100\n"
     ]
    },
    {
     "name": "stderr",
     "output_type": "stream",
     "text": [
      "09:07:31 - cmdstanpy - INFO - Chain [1] start processing\n"
     ]
    },
    {
     "name": "stdout",
     "output_type": "stream",
     "text": [
      "Processing i =  85  out of  100\n"
     ]
    },
    {
     "name": "stderr",
     "output_type": "stream",
     "text": [
      "09:07:31 - cmdstanpy - INFO - Chain [1] done processing\n",
      "09:07:31 - cmdstanpy - INFO - Chain [1] start processing\n",
      "09:07:31 - cmdstanpy - INFO - Chain [1] done processing\n"
     ]
    },
    {
     "name": "stdout",
     "output_type": "stream",
     "text": [
      "Processing i =  86  out of  100\n",
      "Processing i =  87  out of  100\n"
     ]
    },
    {
     "name": "stderr",
     "output_type": "stream",
     "text": [
      "09:07:31 - cmdstanpy - INFO - Chain [1] start processing\n",
      "09:07:32 - cmdstanpy - INFO - Chain [1] done processing\n",
      "09:07:32 - cmdstanpy - INFO - Chain [1] start processing\n"
     ]
    },
    {
     "name": "stdout",
     "output_type": "stream",
     "text": [
      "Processing i =  88  out of  100\n"
     ]
    },
    {
     "name": "stderr",
     "output_type": "stream",
     "text": [
      "09:07:32 - cmdstanpy - INFO - Chain [1] done processing\n",
      "09:07:32 - cmdstanpy - INFO - Chain [1] start processing\n",
      "09:07:32 - cmdstanpy - INFO - Chain [1] done processing\n"
     ]
    },
    {
     "name": "stdout",
     "output_type": "stream",
     "text": [
      "Processing i =  89  out of  100\n"
     ]
    },
    {
     "name": "stderr",
     "output_type": "stream",
     "text": [
      "09:07:32 - cmdstanpy - INFO - Chain [1] start processing\n"
     ]
    },
    {
     "name": "stdout",
     "output_type": "stream",
     "text": [
      "Processing i =  90  out of  100\n"
     ]
    },
    {
     "name": "stderr",
     "output_type": "stream",
     "text": [
      "09:07:32 - cmdstanpy - INFO - Chain [1] done processing\n",
      "09:07:32 - cmdstanpy - INFO - Chain [1] start processing\n"
     ]
    },
    {
     "name": "stdout",
     "output_type": "stream",
     "text": [
      "Processing i =  91  out of  100\n"
     ]
    },
    {
     "name": "stderr",
     "output_type": "stream",
     "text": [
      "09:07:33 - cmdstanpy - INFO - Chain [1] done processing\n",
      "09:07:33 - cmdstanpy - INFO - Chain [1] start processing\n"
     ]
    },
    {
     "name": "stdout",
     "output_type": "stream",
     "text": [
      "Processing i =  92  out of  100\n"
     ]
    },
    {
     "name": "stderr",
     "output_type": "stream",
     "text": [
      "09:07:33 - cmdstanpy - INFO - Chain [1] done processing\n",
      "09:07:33 - cmdstanpy - INFO - Chain [1] start processing\n",
      "09:07:33 - cmdstanpy - INFO - Chain [1] done processing\n"
     ]
    },
    {
     "name": "stdout",
     "output_type": "stream",
     "text": [
      "Processing i =  93  out of  100\n"
     ]
    },
    {
     "name": "stderr",
     "output_type": "stream",
     "text": [
      "09:07:33 - cmdstanpy - INFO - Chain [1] start processing\n",
      "09:07:33 - cmdstanpy - INFO - Chain [1] done processing\n"
     ]
    },
    {
     "name": "stdout",
     "output_type": "stream",
     "text": [
      "Processing i =  94  out of  100\n"
     ]
    },
    {
     "name": "stderr",
     "output_type": "stream",
     "text": [
      "09:07:33 - cmdstanpy - INFO - Chain [1] start processing\n"
     ]
    },
    {
     "name": "stdout",
     "output_type": "stream",
     "text": [
      "Processing i =  95  out of  100\n"
     ]
    },
    {
     "name": "stderr",
     "output_type": "stream",
     "text": [
      "09:07:33 - cmdstanpy - INFO - Chain [1] done processing\n",
      "09:07:34 - cmdstanpy - INFO - Chain [1] start processing\n",
      "09:07:34 - cmdstanpy - INFO - Chain [1] done processing\n"
     ]
    },
    {
     "name": "stdout",
     "output_type": "stream",
     "text": [
      "Processing i =  96  out of  100\n",
      "Processing i =  97  out of  100\n"
     ]
    },
    {
     "name": "stderr",
     "output_type": "stream",
     "text": [
      "09:07:34 - cmdstanpy - INFO - Chain [1] start processing\n",
      "09:07:34 - cmdstanpy - INFO - Chain [1] done processing\n",
      "09:07:34 - cmdstanpy - INFO - Chain [1] start processing\n"
     ]
    },
    {
     "name": "stdout",
     "output_type": "stream",
     "text": [
      "Processing i =  98  out of  100\n"
     ]
    },
    {
     "name": "stderr",
     "output_type": "stream",
     "text": [
      "09:07:34 - cmdstanpy - INFO - Chain [1] done processing\n",
      "09:07:34 - cmdstanpy - INFO - Chain [1] start processing\n"
     ]
    },
    {
     "name": "stdout",
     "output_type": "stream",
     "text": [
      "Processing i =  99  out of  100\n"
     ]
    },
    {
     "name": "stderr",
     "output_type": "stream",
     "text": [
      "09:07:34 - cmdstanpy - INFO - Chain [1] done processing\n",
      "09:07:35 - cmdstanpy - INFO - Chain [1] start processing\n"
     ]
    },
    {
     "name": "stdout",
     "output_type": "stream",
     "text": [
      "Processing i =  100  out of  100\n"
     ]
    },
    {
     "name": "stderr",
     "output_type": "stream",
     "text": [
      "09:07:35 - cmdstanpy - INFO - Chain [1] done processing\n"
     ]
    },
    {
     "name": "stdout",
     "output_type": "stream",
     "text": [
      "\n",
      "Processing CV 4 / 10....\n"
     ]
    },
    {
     "name": "stderr",
     "output_type": "stream",
     "text": [
      "09:07:35 - cmdstanpy - INFO - Chain [1] start processing\n",
      "09:07:35 - cmdstanpy - INFO - Chain [1] done processing\n",
      "C:\\Users\\z5404477\\AppData\\Local\\Temp\\ipykernel_33584\\1029035988.py:39: SettingWithCopyWarning: \n",
      "A value is trying to be set on a copy of a slice from a DataFrame\n",
      "\n",
      "See the caveats in the documentation: https://pandas.pydata.org/pandas-docs/stable/user_guide/indexing.html#returning-a-view-versus-a-copy\n",
      "  X_exog.rename(columns={'datetime': 'ds'}, inplace=True)\n",
      "C:\\Users\\z5404477\\AppData\\Local\\Temp\\ipykernel_33584\\1029035988.py:96: SettingWithCopyWarning: \n",
      "A value is trying to be set on a copy of a slice from a DataFrame\n",
      "\n",
      "See the caveats in the documentation: https://pandas.pydata.org/pandas-docs/stable/user_guide/indexing.html#returning-a-view-versus-a-copy\n",
      "  X_test.rename(columns={'datetime': 'ds'}, inplace=True)\n",
      "09:07:36 - cmdstanpy - INFO - Chain [1] start processing\n"
     ]
    },
    {
     "name": "stdout",
     "output_type": "stream",
     "text": [
      "Processing i =  1  out of  100\n",
      "Processing i =  2  out of  100\n"
     ]
    },
    {
     "name": "stderr",
     "output_type": "stream",
     "text": [
      "09:07:36 - cmdstanpy - INFO - Chain [1] done processing\n",
      "09:07:36 - cmdstanpy - INFO - Chain [1] start processing\n",
      "09:07:36 - cmdstanpy - INFO - Chain [1] done processing\n"
     ]
    },
    {
     "name": "stdout",
     "output_type": "stream",
     "text": [
      "Processing i =  3  out of  100\n",
      "Processing i =  4  out of  100\n"
     ]
    },
    {
     "name": "stderr",
     "output_type": "stream",
     "text": [
      "09:07:36 - cmdstanpy - INFO - Chain [1] start processing\n",
      "09:07:36 - cmdstanpy - INFO - Chain [1] done processing\n",
      "09:07:36 - cmdstanpy - INFO - Chain [1] start processing\n",
      "09:07:36 - cmdstanpy - INFO - Chain [1] done processing\n"
     ]
    },
    {
     "name": "stdout",
     "output_type": "stream",
     "text": [
      "Processing i =  5  out of  100\n"
     ]
    },
    {
     "name": "stderr",
     "output_type": "stream",
     "text": [
      "09:07:36 - cmdstanpy - INFO - Chain [1] start processing\n"
     ]
    },
    {
     "name": "stdout",
     "output_type": "stream",
     "text": [
      "Processing i =  6  out of  100\n"
     ]
    },
    {
     "name": "stderr",
     "output_type": "stream",
     "text": [
      "09:07:37 - cmdstanpy - INFO - Chain [1] done processing\n",
      "09:07:37 - cmdstanpy - INFO - Chain [1] start processing\n"
     ]
    },
    {
     "name": "stdout",
     "output_type": "stream",
     "text": [
      "Processing i =  7  out of  100\n"
     ]
    },
    {
     "name": "stderr",
     "output_type": "stream",
     "text": [
      "09:07:37 - cmdstanpy - INFO - Chain [1] done processing\n",
      "09:07:37 - cmdstanpy - INFO - Chain [1] start processing\n",
      "09:07:37 - cmdstanpy - INFO - Chain [1] done processing\n"
     ]
    },
    {
     "name": "stdout",
     "output_type": "stream",
     "text": [
      "Processing i =  8  out of  100\n"
     ]
    },
    {
     "name": "stderr",
     "output_type": "stream",
     "text": [
      "09:07:37 - cmdstanpy - INFO - Chain [1] start processing\n"
     ]
    },
    {
     "name": "stdout",
     "output_type": "stream",
     "text": [
      "Processing i =  9  out of  100\n"
     ]
    },
    {
     "name": "stderr",
     "output_type": "stream",
     "text": [
      "09:07:37 - cmdstanpy - INFO - Chain [1] done processing\n",
      "09:07:37 - cmdstanpy - INFO - Chain [1] start processing\n"
     ]
    },
    {
     "name": "stdout",
     "output_type": "stream",
     "text": [
      "Processing i =  10  out of  100\n"
     ]
    },
    {
     "name": "stderr",
     "output_type": "stream",
     "text": [
      "09:07:37 - cmdstanpy - INFO - Chain [1] done processing\n",
      "09:07:38 - cmdstanpy - INFO - Chain [1] start processing\n"
     ]
    },
    {
     "name": "stdout",
     "output_type": "stream",
     "text": [
      "Processing i =  11  out of  100\n"
     ]
    },
    {
     "name": "stderr",
     "output_type": "stream",
     "text": [
      "09:07:38 - cmdstanpy - INFO - Chain [1] done processing\n",
      "09:07:38 - cmdstanpy - INFO - Chain [1] start processing\n"
     ]
    },
    {
     "name": "stdout",
     "output_type": "stream",
     "text": [
      "Processing i =  12  out of  100\n"
     ]
    },
    {
     "name": "stderr",
     "output_type": "stream",
     "text": [
      "09:07:38 - cmdstanpy - INFO - Chain [1] done processing\n",
      "09:07:38 - cmdstanpy - INFO - Chain [1] start processing\n",
      "09:07:38 - cmdstanpy - INFO - Chain [1] done processing\n"
     ]
    },
    {
     "name": "stdout",
     "output_type": "stream",
     "text": [
      "Processing i =  13  out of  100\n"
     ]
    },
    {
     "name": "stderr",
     "output_type": "stream",
     "text": [
      "09:07:38 - cmdstanpy - INFO - Chain [1] start processing\n",
      "09:07:38 - cmdstanpy - INFO - Chain [1] done processing\n"
     ]
    },
    {
     "name": "stdout",
     "output_type": "stream",
     "text": [
      "Processing i =  14  out of  100\n"
     ]
    },
    {
     "name": "stderr",
     "output_type": "stream",
     "text": [
      "09:07:39 - cmdstanpy - INFO - Chain [1] start processing\n",
      "09:07:39 - cmdstanpy - INFO - Chain [1] done processing\n"
     ]
    },
    {
     "name": "stdout",
     "output_type": "stream",
     "text": [
      "Processing i =  15  out of  100\n",
      "Processing i =  16  out of  100\n"
     ]
    },
    {
     "name": "stderr",
     "output_type": "stream",
     "text": [
      "09:07:39 - cmdstanpy - INFO - Chain [1] start processing\n",
      "09:07:39 - cmdstanpy - INFO - Chain [1] done processing\n",
      "09:07:39 - cmdstanpy - INFO - Chain [1] start processing\n",
      "09:07:39 - cmdstanpy - INFO - Chain [1] done processing\n"
     ]
    },
    {
     "name": "stdout",
     "output_type": "stream",
     "text": [
      "Processing i =  17  out of  100\n",
      "Processing i =  18  out of  100\n"
     ]
    },
    {
     "name": "stderr",
     "output_type": "stream",
     "text": [
      "09:07:39 - cmdstanpy - INFO - Chain [1] start processing\n",
      "09:07:39 - cmdstanpy - INFO - Chain [1] done processing\n",
      "09:07:39 - cmdstanpy - INFO - Chain [1] start processing\n",
      "09:07:39 - cmdstanpy - INFO - Chain [1] done processing\n"
     ]
    },
    {
     "name": "stdout",
     "output_type": "stream",
     "text": [
      "Processing i =  19  out of  100\n"
     ]
    },
    {
     "name": "stderr",
     "output_type": "stream",
     "text": [
      "09:07:40 - cmdstanpy - INFO - Chain [1] start processing\n"
     ]
    },
    {
     "name": "stdout",
     "output_type": "stream",
     "text": [
      "Processing i =  20  out of  100\n"
     ]
    },
    {
     "name": "stderr",
     "output_type": "stream",
     "text": [
      "09:07:40 - cmdstanpy - INFO - Chain [1] done processing\n",
      "09:07:40 - cmdstanpy - INFO - Chain [1] start processing\n"
     ]
    },
    {
     "name": "stdout",
     "output_type": "stream",
     "text": [
      "Processing i =  21  out of  100\n"
     ]
    },
    {
     "name": "stderr",
     "output_type": "stream",
     "text": [
      "09:07:40 - cmdstanpy - INFO - Chain [1] done processing\n",
      "09:07:40 - cmdstanpy - INFO - Chain [1] start processing\n",
      "09:07:40 - cmdstanpy - INFO - Chain [1] done processing\n"
     ]
    },
    {
     "name": "stdout",
     "output_type": "stream",
     "text": [
      "Processing i =  22  out of  100\n"
     ]
    },
    {
     "name": "stderr",
     "output_type": "stream",
     "text": [
      "09:07:40 - cmdstanpy - INFO - Chain [1] start processing\n",
      "09:07:40 - cmdstanpy - INFO - Chain [1] done processing\n"
     ]
    },
    {
     "name": "stdout",
     "output_type": "stream",
     "text": [
      "Processing i =  23  out of  100\n"
     ]
    },
    {
     "name": "stderr",
     "output_type": "stream",
     "text": [
      "09:07:41 - cmdstanpy - INFO - Chain [1] start processing\n",
      "09:07:41 - cmdstanpy - INFO - Chain [1] done processing\n"
     ]
    },
    {
     "name": "stdout",
     "output_type": "stream",
     "text": [
      "Processing i =  24  out of  100\n",
      "Processing i =  25  out of  100\n"
     ]
    },
    {
     "name": "stderr",
     "output_type": "stream",
     "text": [
      "09:07:41 - cmdstanpy - INFO - Chain [1] start processing\n",
      "09:07:41 - cmdstanpy - INFO - Chain [1] done processing\n",
      "09:07:41 - cmdstanpy - INFO - Chain [1] start processing\n"
     ]
    },
    {
     "name": "stdout",
     "output_type": "stream",
     "text": [
      "Processing i =  26  out of  100\n"
     ]
    },
    {
     "name": "stderr",
     "output_type": "stream",
     "text": [
      "09:07:41 - cmdstanpy - INFO - Chain [1] done processing\n",
      "09:07:41 - cmdstanpy - INFO - Chain [1] start processing\n"
     ]
    },
    {
     "name": "stdout",
     "output_type": "stream",
     "text": [
      "Processing i =  27  out of  100\n"
     ]
    },
    {
     "name": "stderr",
     "output_type": "stream",
     "text": [
      "09:07:41 - cmdstanpy - INFO - Chain [1] done processing\n",
      "09:07:42 - cmdstanpy - INFO - Chain [1] start processing\n",
      "09:07:42 - cmdstanpy - INFO - Chain [1] done processing\n"
     ]
    },
    {
     "name": "stdout",
     "output_type": "stream",
     "text": [
      "Processing i =  28  out of  100\n",
      "Processing i =  29  out of  100\n"
     ]
    },
    {
     "name": "stderr",
     "output_type": "stream",
     "text": [
      "09:07:42 - cmdstanpy - INFO - Chain [1] start processing\n",
      "09:07:42 - cmdstanpy - INFO - Chain [1] done processing\n",
      "09:07:42 - cmdstanpy - INFO - Chain [1] start processing\n"
     ]
    },
    {
     "name": "stdout",
     "output_type": "stream",
     "text": [
      "Processing i =  30  out of  100\n"
     ]
    },
    {
     "name": "stderr",
     "output_type": "stream",
     "text": [
      "09:07:42 - cmdstanpy - INFO - Chain [1] done processing\n",
      "09:07:42 - cmdstanpy - INFO - Chain [1] start processing\n",
      "09:07:42 - cmdstanpy - INFO - Chain [1] done processing\n"
     ]
    },
    {
     "name": "stdout",
     "output_type": "stream",
     "text": [
      "Processing i =  31  out of  100\n",
      "Processing i =  32  out of  100\n"
     ]
    },
    {
     "name": "stderr",
     "output_type": "stream",
     "text": [
      "09:07:43 - cmdstanpy - INFO - Chain [1] start processing\n",
      "09:07:43 - cmdstanpy - INFO - Chain [1] done processing\n",
      "09:07:43 - cmdstanpy - INFO - Chain [1] start processing\n"
     ]
    },
    {
     "name": "stdout",
     "output_type": "stream",
     "text": [
      "Processing i =  33  out of  100\n"
     ]
    },
    {
     "name": "stderr",
     "output_type": "stream",
     "text": [
      "09:07:43 - cmdstanpy - INFO - Chain [1] done processing\n",
      "09:07:43 - cmdstanpy - INFO - Chain [1] start processing\n",
      "09:07:43 - cmdstanpy - INFO - Chain [1] done processing\n"
     ]
    },
    {
     "name": "stdout",
     "output_type": "stream",
     "text": [
      "Processing i =  34  out of  100\n"
     ]
    },
    {
     "name": "stderr",
     "output_type": "stream",
     "text": [
      "09:07:43 - cmdstanpy - INFO - Chain [1] start processing\n",
      "09:07:43 - cmdstanpy - INFO - Chain [1] done processing\n"
     ]
    },
    {
     "name": "stdout",
     "output_type": "stream",
     "text": [
      "Processing i =  35  out of  100\n"
     ]
    },
    {
     "name": "stderr",
     "output_type": "stream",
     "text": [
      "09:07:44 - cmdstanpy - INFO - Chain [1] start processing\n"
     ]
    },
    {
     "name": "stdout",
     "output_type": "stream",
     "text": [
      "Processing i =  36  out of  100\n"
     ]
    },
    {
     "name": "stderr",
     "output_type": "stream",
     "text": [
      "09:07:44 - cmdstanpy - INFO - Chain [1] done processing\n",
      "09:07:44 - cmdstanpy - INFO - Chain [1] start processing\n",
      "09:07:44 - cmdstanpy - INFO - Chain [1] done processing\n"
     ]
    },
    {
     "name": "stdout",
     "output_type": "stream",
     "text": [
      "Processing i =  37  out of  100\n"
     ]
    },
    {
     "name": "stderr",
     "output_type": "stream",
     "text": [
      "09:07:44 - cmdstanpy - INFO - Chain [1] start processing\n"
     ]
    },
    {
     "name": "stdout",
     "output_type": "stream",
     "text": [
      "Processing i =  38  out of  100\n"
     ]
    },
    {
     "name": "stderr",
     "output_type": "stream",
     "text": [
      "09:07:44 - cmdstanpy - INFO - Chain [1] done processing\n",
      "09:07:44 - cmdstanpy - INFO - Chain [1] start processing\n"
     ]
    },
    {
     "name": "stdout",
     "output_type": "stream",
     "text": [
      "Processing i =  39  out of  100\n"
     ]
    },
    {
     "name": "stderr",
     "output_type": "stream",
     "text": [
      "09:07:44 - cmdstanpy - INFO - Chain [1] done processing\n",
      "09:07:45 - cmdstanpy - INFO - Chain [1] start processing\n"
     ]
    },
    {
     "name": "stdout",
     "output_type": "stream",
     "text": [
      "Processing i =  40  out of  100\n"
     ]
    },
    {
     "name": "stderr",
     "output_type": "stream",
     "text": [
      "09:07:45 - cmdstanpy - INFO - Chain [1] done processing\n",
      "09:07:45 - cmdstanpy - INFO - Chain [1] start processing\n"
     ]
    },
    {
     "name": "stdout",
     "output_type": "stream",
     "text": [
      "Processing i =  41  out of  100\n"
     ]
    },
    {
     "name": "stderr",
     "output_type": "stream",
     "text": [
      "09:07:45 - cmdstanpy - INFO - Chain [1] done processing\n",
      "09:07:45 - cmdstanpy - INFO - Chain [1] start processing\n"
     ]
    },
    {
     "name": "stdout",
     "output_type": "stream",
     "text": [
      "Processing i =  42  out of  100\n"
     ]
    },
    {
     "name": "stderr",
     "output_type": "stream",
     "text": [
      "09:07:45 - cmdstanpy - INFO - Chain [1] done processing\n",
      "09:07:45 - cmdstanpy - INFO - Chain [1] start processing\n"
     ]
    },
    {
     "name": "stdout",
     "output_type": "stream",
     "text": [
      "Processing i =  43  out of  100\n"
     ]
    },
    {
     "name": "stderr",
     "output_type": "stream",
     "text": [
      "09:07:45 - cmdstanpy - INFO - Chain [1] done processing\n",
      "09:07:45 - cmdstanpy - INFO - Chain [1] start processing\n",
      "09:07:46 - cmdstanpy - INFO - Chain [1] done processing\n"
     ]
    },
    {
     "name": "stdout",
     "output_type": "stream",
     "text": [
      "Processing i =  44  out of  100\n"
     ]
    },
    {
     "name": "stderr",
     "output_type": "stream",
     "text": [
      "09:07:46 - cmdstanpy - INFO - Chain [1] start processing\n",
      "09:07:46 - cmdstanpy - INFO - Chain [1] done processing\n"
     ]
    },
    {
     "name": "stdout",
     "output_type": "stream",
     "text": [
      "Processing i =  45  out of  100\n",
      "Processing i =  46  out of  100\n"
     ]
    },
    {
     "name": "stderr",
     "output_type": "stream",
     "text": [
      "09:07:46 - cmdstanpy - INFO - Chain [1] start processing\n",
      "09:07:46 - cmdstanpy - INFO - Chain [1] done processing\n",
      "09:07:46 - cmdstanpy - INFO - Chain [1] start processing\n"
     ]
    },
    {
     "name": "stdout",
     "output_type": "stream",
     "text": [
      "Processing i =  47  out of  100\n"
     ]
    },
    {
     "name": "stderr",
     "output_type": "stream",
     "text": [
      "09:07:46 - cmdstanpy - INFO - Chain [1] done processing\n",
      "09:07:46 - cmdstanpy - INFO - Chain [1] start processing\n",
      "09:07:46 - cmdstanpy - INFO - Chain [1] done processing\n"
     ]
    },
    {
     "name": "stdout",
     "output_type": "stream",
     "text": [
      "Processing i =  48  out of  100\n",
      "Processing i =  49  out of  100\n"
     ]
    },
    {
     "name": "stderr",
     "output_type": "stream",
     "text": [
      "09:07:47 - cmdstanpy - INFO - Chain [1] start processing\n",
      "09:07:47 - cmdstanpy - INFO - Chain [1] done processing\n",
      "09:07:47 - cmdstanpy - INFO - Chain [1] start processing\n"
     ]
    },
    {
     "name": "stdout",
     "output_type": "stream",
     "text": [
      "Processing i =  50  out of  100\n"
     ]
    },
    {
     "name": "stderr",
     "output_type": "stream",
     "text": [
      "09:07:47 - cmdstanpy - INFO - Chain [1] done processing\n",
      "09:07:47 - cmdstanpy - INFO - Chain [1] start processing\n"
     ]
    },
    {
     "name": "stdout",
     "output_type": "stream",
     "text": [
      "Processing i =  51  out of  100\n"
     ]
    },
    {
     "name": "stderr",
     "output_type": "stream",
     "text": [
      "09:07:47 - cmdstanpy - INFO - Chain [1] done processing\n",
      "09:07:47 - cmdstanpy - INFO - Chain [1] start processing\n"
     ]
    },
    {
     "name": "stdout",
     "output_type": "stream",
     "text": [
      "Processing i =  52  out of  100\n"
     ]
    },
    {
     "name": "stderr",
     "output_type": "stream",
     "text": [
      "09:07:47 - cmdstanpy - INFO - Chain [1] done processing\n",
      "09:07:48 - cmdstanpy - INFO - Chain [1] start processing\n"
     ]
    },
    {
     "name": "stdout",
     "output_type": "stream",
     "text": [
      "Processing i =  53  out of  100\n"
     ]
    },
    {
     "name": "stderr",
     "output_type": "stream",
     "text": [
      "09:07:48 - cmdstanpy - INFO - Chain [1] done processing\n",
      "09:07:48 - cmdstanpy - INFO - Chain [1] start processing\n"
     ]
    },
    {
     "name": "stdout",
     "output_type": "stream",
     "text": [
      "Processing i =  54  out of  100\n"
     ]
    },
    {
     "name": "stderr",
     "output_type": "stream",
     "text": [
      "09:07:48 - cmdstanpy - INFO - Chain [1] done processing\n",
      "09:07:48 - cmdstanpy - INFO - Chain [1] start processing\n"
     ]
    },
    {
     "name": "stdout",
     "output_type": "stream",
     "text": [
      "Processing i =  55  out of  100\n"
     ]
    },
    {
     "name": "stderr",
     "output_type": "stream",
     "text": [
      "09:07:48 - cmdstanpy - INFO - Chain [1] done processing\n",
      "09:07:48 - cmdstanpy - INFO - Chain [1] start processing\n",
      "09:07:48 - cmdstanpy - INFO - Chain [1] done processing\n"
     ]
    },
    {
     "name": "stdout",
     "output_type": "stream",
     "text": [
      "Processing i =  56  out of  100\n"
     ]
    },
    {
     "name": "stderr",
     "output_type": "stream",
     "text": [
      "09:07:48 - cmdstanpy - INFO - Chain [1] start processing\n",
      "09:07:49 - cmdstanpy - INFO - Chain [1] done processing\n"
     ]
    },
    {
     "name": "stdout",
     "output_type": "stream",
     "text": [
      "Processing i =  57  out of  100\n"
     ]
    },
    {
     "name": "stderr",
     "output_type": "stream",
     "text": [
      "09:07:49 - cmdstanpy - INFO - Chain [1] start processing\n",
      "09:07:49 - cmdstanpy - INFO - Chain [1] done processing\n"
     ]
    },
    {
     "name": "stdout",
     "output_type": "stream",
     "text": [
      "Processing i =  58  out of  100\n"
     ]
    },
    {
     "name": "stderr",
     "output_type": "stream",
     "text": [
      "09:07:49 - cmdstanpy - INFO - Chain [1] start processing\n"
     ]
    },
    {
     "name": "stdout",
     "output_type": "stream",
     "text": [
      "Processing i =  59  out of  100\n"
     ]
    },
    {
     "name": "stderr",
     "output_type": "stream",
     "text": [
      "09:07:49 - cmdstanpy - INFO - Chain [1] done processing\n",
      "09:07:49 - cmdstanpy - INFO - Chain [1] start processing\n",
      "09:07:49 - cmdstanpy - INFO - Chain [1] done processing\n"
     ]
    },
    {
     "name": "stdout",
     "output_type": "stream",
     "text": [
      "Processing i =  60  out of  100\n"
     ]
    },
    {
     "name": "stderr",
     "output_type": "stream",
     "text": [
      "09:07:49 - cmdstanpy - INFO - Chain [1] start processing\n",
      "09:07:49 - cmdstanpy - INFO - Chain [1] done processing\n"
     ]
    },
    {
     "name": "stdout",
     "output_type": "stream",
     "text": [
      "Processing i =  61  out of  100\n"
     ]
    },
    {
     "name": "stderr",
     "output_type": "stream",
     "text": [
      "09:07:50 - cmdstanpy - INFO - Chain [1] start processing\n"
     ]
    },
    {
     "name": "stdout",
     "output_type": "stream",
     "text": [
      "Processing i =  62  out of  100\n"
     ]
    },
    {
     "name": "stderr",
     "output_type": "stream",
     "text": [
      "09:07:50 - cmdstanpy - INFO - Chain [1] done processing\n",
      "09:07:50 - cmdstanpy - INFO - Chain [1] start processing\n"
     ]
    },
    {
     "name": "stdout",
     "output_type": "stream",
     "text": [
      "Processing i =  63  out of  100\n"
     ]
    },
    {
     "name": "stderr",
     "output_type": "stream",
     "text": [
      "09:07:50 - cmdstanpy - INFO - Chain [1] done processing\n",
      "09:07:50 - cmdstanpy - INFO - Chain [1] start processing\n"
     ]
    },
    {
     "name": "stdout",
     "output_type": "stream",
     "text": [
      "Processing i =  64  out of  100\n"
     ]
    },
    {
     "name": "stderr",
     "output_type": "stream",
     "text": [
      "09:07:50 - cmdstanpy - INFO - Chain [1] done processing\n",
      "09:07:50 - cmdstanpy - INFO - Chain [1] start processing\n",
      "09:07:50 - cmdstanpy - INFO - Chain [1] done processing\n"
     ]
    },
    {
     "name": "stdout",
     "output_type": "stream",
     "text": [
      "Processing i =  65  out of  100\n"
     ]
    },
    {
     "name": "stderr",
     "output_type": "stream",
     "text": [
      "09:07:51 - cmdstanpy - INFO - Chain [1] start processing\n"
     ]
    },
    {
     "name": "stdout",
     "output_type": "stream",
     "text": [
      "Processing i =  66  out of  100\n"
     ]
    },
    {
     "name": "stderr",
     "output_type": "stream",
     "text": [
      "09:07:51 - cmdstanpy - INFO - Chain [1] done processing\n",
      "09:07:51 - cmdstanpy - INFO - Chain [1] start processing\n"
     ]
    },
    {
     "name": "stdout",
     "output_type": "stream",
     "text": [
      "Processing i =  67  out of  100\n"
     ]
    },
    {
     "name": "stderr",
     "output_type": "stream",
     "text": [
      "09:07:51 - cmdstanpy - INFO - Chain [1] done processing\n",
      "09:07:51 - cmdstanpy - INFO - Chain [1] start processing\n"
     ]
    },
    {
     "name": "stdout",
     "output_type": "stream",
     "text": [
      "Processing i =  68  out of  100\n"
     ]
    },
    {
     "name": "stderr",
     "output_type": "stream",
     "text": [
      "09:07:51 - cmdstanpy - INFO - Chain [1] done processing\n",
      "09:07:51 - cmdstanpy - INFO - Chain [1] start processing\n",
      "09:07:51 - cmdstanpy - INFO - Chain [1] done processing\n"
     ]
    },
    {
     "name": "stdout",
     "output_type": "stream",
     "text": [
      "Processing i =  69  out of  100\n"
     ]
    },
    {
     "name": "stderr",
     "output_type": "stream",
     "text": [
      "09:07:52 - cmdstanpy - INFO - Chain [1] start processing\n"
     ]
    },
    {
     "name": "stdout",
     "output_type": "stream",
     "text": [
      "Processing i =  70  out of  100\n"
     ]
    },
    {
     "name": "stderr",
     "output_type": "stream",
     "text": [
      "09:07:52 - cmdstanpy - INFO - Chain [1] done processing\n",
      "09:07:52 - cmdstanpy - INFO - Chain [1] start processing\n",
      "09:07:52 - cmdstanpy - INFO - Chain [1] done processing\n"
     ]
    },
    {
     "name": "stdout",
     "output_type": "stream",
     "text": [
      "Processing i =  71  out of  100\n",
      "Processing i =  72  out of  100\n"
     ]
    },
    {
     "name": "stderr",
     "output_type": "stream",
     "text": [
      "09:07:52 - cmdstanpy - INFO - Chain [1] start processing\n",
      "09:07:52 - cmdstanpy - INFO - Chain [1] done processing\n",
      "09:07:52 - cmdstanpy - INFO - Chain [1] start processing\n",
      "09:07:52 - cmdstanpy - INFO - Chain [1] done processing\n"
     ]
    },
    {
     "name": "stdout",
     "output_type": "stream",
     "text": [
      "Processing i =  73  out of  100\n"
     ]
    },
    {
     "name": "stderr",
     "output_type": "stream",
     "text": [
      "09:07:53 - cmdstanpy - INFO - Chain [1] start processing\n"
     ]
    },
    {
     "name": "stdout",
     "output_type": "stream",
     "text": [
      "Processing i =  74  out of  100\n"
     ]
    },
    {
     "name": "stderr",
     "output_type": "stream",
     "text": [
      "09:07:53 - cmdstanpy - INFO - Chain [1] done processing\n",
      "09:07:53 - cmdstanpy - INFO - Chain [1] start processing\n",
      "09:07:53 - cmdstanpy - INFO - Chain [1] done processing\n"
     ]
    },
    {
     "name": "stdout",
     "output_type": "stream",
     "text": [
      "Processing i =  75  out of  100\n"
     ]
    },
    {
     "name": "stderr",
     "output_type": "stream",
     "text": [
      "09:07:53 - cmdstanpy - INFO - Chain [1] start processing\n"
     ]
    },
    {
     "name": "stdout",
     "output_type": "stream",
     "text": [
      "Processing i =  76  out of  100\n"
     ]
    },
    {
     "name": "stderr",
     "output_type": "stream",
     "text": [
      "09:07:53 - cmdstanpy - INFO - Chain [1] done processing\n",
      "09:07:53 - cmdstanpy - INFO - Chain [1] start processing\n"
     ]
    },
    {
     "name": "stdout",
     "output_type": "stream",
     "text": [
      "Processing i =  77  out of  100\n"
     ]
    },
    {
     "name": "stderr",
     "output_type": "stream",
     "text": [
      "09:07:53 - cmdstanpy - INFO - Chain [1] done processing\n",
      "09:07:53 - cmdstanpy - INFO - Chain [1] start processing\n",
      "09:07:54 - cmdstanpy - INFO - Chain [1] done processing\n"
     ]
    },
    {
     "name": "stdout",
     "output_type": "stream",
     "text": [
      "Processing i =  78  out of  100\n",
      "Processing i =  79  out of  100\n"
     ]
    },
    {
     "name": "stderr",
     "output_type": "stream",
     "text": [
      "09:07:54 - cmdstanpy - INFO - Chain [1] start processing\n",
      "09:07:54 - cmdstanpy - INFO - Chain [1] done processing\n",
      "09:07:54 - cmdstanpy - INFO - Chain [1] start processing\n",
      "09:07:54 - cmdstanpy - INFO - Chain [1] done processing\n"
     ]
    },
    {
     "name": "stdout",
     "output_type": "stream",
     "text": [
      "Processing i =  80  out of  100\n"
     ]
    },
    {
     "name": "stderr",
     "output_type": "stream",
     "text": [
      "09:07:54 - cmdstanpy - INFO - Chain [1] start processing\n"
     ]
    },
    {
     "name": "stdout",
     "output_type": "stream",
     "text": [
      "Processing i =  81  out of  100\n"
     ]
    },
    {
     "name": "stderr",
     "output_type": "stream",
     "text": [
      "09:07:54 - cmdstanpy - INFO - Chain [1] done processing\n",
      "09:07:54 - cmdstanpy - INFO - Chain [1] start processing\n",
      "09:07:54 - cmdstanpy - INFO - Chain [1] done processing\n"
     ]
    },
    {
     "name": "stdout",
     "output_type": "stream",
     "text": [
      "Processing i =  82  out of  100\n"
     ]
    },
    {
     "name": "stderr",
     "output_type": "stream",
     "text": [
      "09:07:55 - cmdstanpy - INFO - Chain [1] start processing\n"
     ]
    },
    {
     "name": "stdout",
     "output_type": "stream",
     "text": [
      "Processing i =  83  out of  100\n"
     ]
    },
    {
     "name": "stderr",
     "output_type": "stream",
     "text": [
      "09:07:55 - cmdstanpy - INFO - Chain [1] done processing\n",
      "09:07:55 - cmdstanpy - INFO - Chain [1] start processing\n",
      "09:07:55 - cmdstanpy - INFO - Chain [1] done processing\n"
     ]
    },
    {
     "name": "stdout",
     "output_type": "stream",
     "text": [
      "Processing i =  84  out of  100\n"
     ]
    },
    {
     "name": "stderr",
     "output_type": "stream",
     "text": [
      "09:07:55 - cmdstanpy - INFO - Chain [1] start processing\n",
      "09:07:55 - cmdstanpy - INFO - Chain [1] done processing\n"
     ]
    },
    {
     "name": "stdout",
     "output_type": "stream",
     "text": [
      "Processing i =  85  out of  100\n",
      "Processing i =  86  out of  100\n"
     ]
    },
    {
     "name": "stderr",
     "output_type": "stream",
     "text": [
      "09:07:55 - cmdstanpy - INFO - Chain [1] start processing\n",
      "09:07:55 - cmdstanpy - INFO - Chain [1] done processing\n",
      "09:07:56 - cmdstanpy - INFO - Chain [1] start processing\n",
      "09:07:56 - cmdstanpy - INFO - Chain [1] done processing\n"
     ]
    },
    {
     "name": "stdout",
     "output_type": "stream",
     "text": [
      "Processing i =  87  out of  100\n"
     ]
    },
    {
     "name": "stderr",
     "output_type": "stream",
     "text": [
      "09:07:56 - cmdstanpy - INFO - Chain [1] start processing\n",
      "09:07:56 - cmdstanpy - INFO - Chain [1] done processing\n"
     ]
    },
    {
     "name": "stdout",
     "output_type": "stream",
     "text": [
      "Processing i =  88  out of  100\n"
     ]
    },
    {
     "name": "stderr",
     "output_type": "stream",
     "text": [
      "09:07:56 - cmdstanpy - INFO - Chain [1] start processing\n"
     ]
    },
    {
     "name": "stdout",
     "output_type": "stream",
     "text": [
      "Processing i =  89  out of  100\n"
     ]
    },
    {
     "name": "stderr",
     "output_type": "stream",
     "text": [
      "09:07:56 - cmdstanpy - INFO - Chain [1] done processing\n",
      "09:07:56 - cmdstanpy - INFO - Chain [1] start processing\n"
     ]
    },
    {
     "name": "stdout",
     "output_type": "stream",
     "text": [
      "Processing i =  90  out of  100\n"
     ]
    },
    {
     "name": "stderr",
     "output_type": "stream",
     "text": [
      "09:07:56 - cmdstanpy - INFO - Chain [1] done processing\n",
      "09:07:56 - cmdstanpy - INFO - Chain [1] start processing\n",
      "09:07:57 - cmdstanpy - INFO - Chain [1] done processing\n"
     ]
    },
    {
     "name": "stdout",
     "output_type": "stream",
     "text": [
      "Processing i =  91  out of  100\n"
     ]
    },
    {
     "name": "stderr",
     "output_type": "stream",
     "text": [
      "09:07:57 - cmdstanpy - INFO - Chain [1] start processing\n"
     ]
    },
    {
     "name": "stdout",
     "output_type": "stream",
     "text": [
      "Processing i =  92  out of  100\n"
     ]
    },
    {
     "name": "stderr",
     "output_type": "stream",
     "text": [
      "09:07:57 - cmdstanpy - INFO - Chain [1] done processing\n",
      "09:07:57 - cmdstanpy - INFO - Chain [1] start processing\n",
      "09:07:57 - cmdstanpy - INFO - Chain [1] done processing\n"
     ]
    },
    {
     "name": "stdout",
     "output_type": "stream",
     "text": [
      "Processing i =  93  out of  100\n",
      "Processing i =  94  out of  100\n"
     ]
    },
    {
     "name": "stderr",
     "output_type": "stream",
     "text": [
      "09:07:57 - cmdstanpy - INFO - Chain [1] start processing\n",
      "09:07:57 - cmdstanpy - INFO - Chain [1] done processing\n",
      "09:07:57 - cmdstanpy - INFO - Chain [1] start processing\n"
     ]
    },
    {
     "name": "stdout",
     "output_type": "stream",
     "text": [
      "Processing i =  95  out of  100\n"
     ]
    },
    {
     "name": "stderr",
     "output_type": "stream",
     "text": [
      "09:07:57 - cmdstanpy - INFO - Chain [1] done processing\n",
      "09:07:58 - cmdstanpy - INFO - Chain [1] start processing\n",
      "09:07:58 - cmdstanpy - INFO - Chain [1] done processing\n"
     ]
    },
    {
     "name": "stdout",
     "output_type": "stream",
     "text": [
      "Processing i =  96  out of  100\n"
     ]
    },
    {
     "name": "stderr",
     "output_type": "stream",
     "text": [
      "09:07:58 - cmdstanpy - INFO - Chain [1] start processing\n",
      "09:07:58 - cmdstanpy - INFO - Chain [1] done processing\n"
     ]
    },
    {
     "name": "stdout",
     "output_type": "stream",
     "text": [
      "Processing i =  97  out of  100\n",
      "Processing i =  98  out of  100\n"
     ]
    },
    {
     "name": "stderr",
     "output_type": "stream",
     "text": [
      "09:07:58 - cmdstanpy - INFO - Chain [1] start processing\n",
      "09:07:58 - cmdstanpy - INFO - Chain [1] done processing\n",
      "09:07:58 - cmdstanpy - INFO - Chain [1] start processing\n",
      "09:07:58 - cmdstanpy - INFO - Chain [1] done processing\n"
     ]
    },
    {
     "name": "stdout",
     "output_type": "stream",
     "text": [
      "Processing i =  99  out of  100\n",
      "Processing i =  100  out of  100\n"
     ]
    },
    {
     "name": "stderr",
     "output_type": "stream",
     "text": [
      "09:07:59 - cmdstanpy - INFO - Chain [1] start processing\n",
      "09:07:59 - cmdstanpy - INFO - Chain [1] done processing\n",
      "09:07:59 - cmdstanpy - INFO - Chain [1] start processing\n"
     ]
    },
    {
     "name": "stdout",
     "output_type": "stream",
     "text": [
      "\n",
      "Processing CV 5 / 10....\n"
     ]
    },
    {
     "name": "stderr",
     "output_type": "stream",
     "text": [
      "09:07:59 - cmdstanpy - INFO - Chain [1] done processing\n",
      "C:\\Users\\z5404477\\AppData\\Local\\Temp\\ipykernel_33584\\1029035988.py:39: SettingWithCopyWarning: \n",
      "A value is trying to be set on a copy of a slice from a DataFrame\n",
      "\n",
      "See the caveats in the documentation: https://pandas.pydata.org/pandas-docs/stable/user_guide/indexing.html#returning-a-view-versus-a-copy\n",
      "  X_exog.rename(columns={'datetime': 'ds'}, inplace=True)\n",
      "C:\\Users\\z5404477\\AppData\\Local\\Temp\\ipykernel_33584\\1029035988.py:96: SettingWithCopyWarning: \n",
      "A value is trying to be set on a copy of a slice from a DataFrame\n",
      "\n",
      "See the caveats in the documentation: https://pandas.pydata.org/pandas-docs/stable/user_guide/indexing.html#returning-a-view-versus-a-copy\n",
      "  X_test.rename(columns={'datetime': 'ds'}, inplace=True)\n",
      "09:07:59 - cmdstanpy - INFO - Chain [1] start processing\n"
     ]
    },
    {
     "name": "stdout",
     "output_type": "stream",
     "text": [
      "Processing i =  1  out of  100\n",
      "Processing i =  2  out of  100\n"
     ]
    },
    {
     "name": "stderr",
     "output_type": "stream",
     "text": [
      "09:08:00 - cmdstanpy - INFO - Chain [1] done processing\n",
      "09:08:00 - cmdstanpy - INFO - Chain [1] start processing\n",
      "09:08:00 - cmdstanpy - INFO - Chain [1] done processing\n"
     ]
    },
    {
     "name": "stdout",
     "output_type": "stream",
     "text": [
      "Processing i =  3  out of  100\n"
     ]
    },
    {
     "name": "stderr",
     "output_type": "stream",
     "text": [
      "09:08:00 - cmdstanpy - INFO - Chain [1] start processing\n"
     ]
    },
    {
     "name": "stdout",
     "output_type": "stream",
     "text": [
      "Processing i =  4  out of  100\n"
     ]
    },
    {
     "name": "stderr",
     "output_type": "stream",
     "text": [
      "09:08:00 - cmdstanpy - INFO - Chain [1] done processing\n",
      "09:08:00 - cmdstanpy - INFO - Chain [1] start processing\n",
      "09:08:00 - cmdstanpy - INFO - Chain [1] done processing\n"
     ]
    },
    {
     "name": "stdout",
     "output_type": "stream",
     "text": [
      "Processing i =  5  out of  100\n"
     ]
    },
    {
     "name": "stderr",
     "output_type": "stream",
     "text": [
      "09:08:00 - cmdstanpy - INFO - Chain [1] start processing\n"
     ]
    },
    {
     "name": "stdout",
     "output_type": "stream",
     "text": [
      "Processing i =  6  out of  100\n"
     ]
    },
    {
     "name": "stderr",
     "output_type": "stream",
     "text": [
      "09:08:00 - cmdstanpy - INFO - Chain [1] done processing\n",
      "09:08:01 - cmdstanpy - INFO - Chain [1] start processing\n"
     ]
    },
    {
     "name": "stdout",
     "output_type": "stream",
     "text": [
      "Processing i =  7  out of  100\n"
     ]
    },
    {
     "name": "stderr",
     "output_type": "stream",
     "text": [
      "09:08:01 - cmdstanpy - INFO - Chain [1] done processing\n",
      "09:08:01 - cmdstanpy - INFO - Chain [1] start processing\n",
      "09:08:01 - cmdstanpy - INFO - Chain [1] done processing\n"
     ]
    },
    {
     "name": "stdout",
     "output_type": "stream",
     "text": [
      "Processing i =  8  out of  100\n",
      "Processing i =  9  out of  100\n"
     ]
    },
    {
     "name": "stderr",
     "output_type": "stream",
     "text": [
      "09:08:01 - cmdstanpy - INFO - Chain [1] start processing\n",
      "09:08:01 - cmdstanpy - INFO - Chain [1] done processing\n",
      "09:08:01 - cmdstanpy - INFO - Chain [1] start processing\n",
      "09:08:01 - cmdstanpy - INFO - Chain [1] done processing\n"
     ]
    },
    {
     "name": "stdout",
     "output_type": "stream",
     "text": [
      "Processing i =  10  out of  100\n"
     ]
    },
    {
     "name": "stderr",
     "output_type": "stream",
     "text": [
      "09:08:02 - cmdstanpy - INFO - Chain [1] start processing\n",
      "09:08:02 - cmdstanpy - INFO - Chain [1] done processing\n"
     ]
    },
    {
     "name": "stdout",
     "output_type": "stream",
     "text": [
      "Processing i =  11  out of  100\n"
     ]
    },
    {
     "name": "stderr",
     "output_type": "stream",
     "text": [
      "09:08:02 - cmdstanpy - INFO - Chain [1] start processing\n",
      "09:08:02 - cmdstanpy - INFO - Chain [1] done processing\n"
     ]
    },
    {
     "name": "stdout",
     "output_type": "stream",
     "text": [
      "Processing i =  12  out of  100\n",
      "Processing i =  13  out of  100\n"
     ]
    },
    {
     "name": "stderr",
     "output_type": "stream",
     "text": [
      "09:08:02 - cmdstanpy - INFO - Chain [1] start processing\n",
      "09:08:02 - cmdstanpy - INFO - Chain [1] done processing\n",
      "09:08:02 - cmdstanpy - INFO - Chain [1] start processing\n",
      "09:08:02 - cmdstanpy - INFO - Chain [1] done processing\n"
     ]
    },
    {
     "name": "stdout",
     "output_type": "stream",
     "text": [
      "Processing i =  14  out of  100\n",
      "Processing i =  15  out of  100\n"
     ]
    },
    {
     "name": "stderr",
     "output_type": "stream",
     "text": [
      "09:08:02 - cmdstanpy - INFO - Chain [1] start processing\n",
      "09:08:02 - cmdstanpy - INFO - Chain [1] done processing\n",
      "09:08:03 - cmdstanpy - INFO - Chain [1] start processing\n",
      "09:08:03 - cmdstanpy - INFO - Chain [1] done processing\n"
     ]
    },
    {
     "name": "stdout",
     "output_type": "stream",
     "text": [
      "Processing i =  16  out of  100\n",
      "Processing i =  17  out of  100\n"
     ]
    },
    {
     "name": "stderr",
     "output_type": "stream",
     "text": [
      "09:08:03 - cmdstanpy - INFO - Chain [1] start processing\n",
      "09:08:03 - cmdstanpy - INFO - Chain [1] done processing\n",
      "09:08:03 - cmdstanpy - INFO - Chain [1] start processing\n",
      "09:08:03 - cmdstanpy - INFO - Chain [1] done processing\n"
     ]
    },
    {
     "name": "stdout",
     "output_type": "stream",
     "text": [
      "Processing i =  18  out of  100\n",
      "Processing i =  19  out of  100\n"
     ]
    },
    {
     "name": "stderr",
     "output_type": "stream",
     "text": [
      "09:08:03 - cmdstanpy - INFO - Chain [1] start processing\n",
      "09:08:03 - cmdstanpy - INFO - Chain [1] done processing\n",
      "09:08:03 - cmdstanpy - INFO - Chain [1] start processing\n",
      "09:08:03 - cmdstanpy - INFO - Chain [1] done processing\n"
     ]
    },
    {
     "name": "stdout",
     "output_type": "stream",
     "text": [
      "Processing i =  20  out of  100\n"
     ]
    },
    {
     "name": "stderr",
     "output_type": "stream",
     "text": [
      "09:08:04 - cmdstanpy - INFO - Chain [1] start processing\n",
      "09:08:04 - cmdstanpy - INFO - Chain [1] done processing\n"
     ]
    },
    {
     "name": "stdout",
     "output_type": "stream",
     "text": [
      "Processing i =  21  out of  100\n",
      "Processing i =  22  out of  100\n"
     ]
    },
    {
     "name": "stderr",
     "output_type": "stream",
     "text": [
      "09:08:04 - cmdstanpy - INFO - Chain [1] start processing\n",
      "09:08:04 - cmdstanpy - INFO - Chain [1] done processing\n",
      "09:08:04 - cmdstanpy - INFO - Chain [1] start processing\n",
      "09:08:04 - cmdstanpy - INFO - Chain [1] done processing\n"
     ]
    },
    {
     "name": "stdout",
     "output_type": "stream",
     "text": [
      "Processing i =  23  out of  100\n"
     ]
    },
    {
     "name": "stderr",
     "output_type": "stream",
     "text": [
      "09:08:04 - cmdstanpy - INFO - Chain [1] start processing\n",
      "09:08:04 - cmdstanpy - INFO - Chain [1] done processing\n"
     ]
    },
    {
     "name": "stdout",
     "output_type": "stream",
     "text": [
      "Processing i =  24  out of  100\n",
      "Processing i =  25  out of  100\n"
     ]
    },
    {
     "name": "stderr",
     "output_type": "stream",
     "text": [
      "09:08:04 - cmdstanpy - INFO - Chain [1] start processing\n",
      "09:08:05 - cmdstanpy - INFO - Chain [1] done processing\n",
      "09:08:05 - cmdstanpy - INFO - Chain [1] start processing\n"
     ]
    },
    {
     "name": "stdout",
     "output_type": "stream",
     "text": [
      "Processing i =  26  out of  100\n"
     ]
    },
    {
     "name": "stderr",
     "output_type": "stream",
     "text": [
      "09:08:05 - cmdstanpy - INFO - Chain [1] done processing\n",
      "09:08:05 - cmdstanpy - INFO - Chain [1] start processing\n",
      "09:08:05 - cmdstanpy - INFO - Chain [1] done processing\n"
     ]
    },
    {
     "name": "stdout",
     "output_type": "stream",
     "text": [
      "Processing i =  27  out of  100\n"
     ]
    },
    {
     "name": "stderr",
     "output_type": "stream",
     "text": [
      "09:08:05 - cmdstanpy - INFO - Chain [1] start processing\n",
      "09:08:05 - cmdstanpy - INFO - Chain [1] done processing\n"
     ]
    },
    {
     "name": "stdout",
     "output_type": "stream",
     "text": [
      "Processing i =  28  out of  100\n"
     ]
    },
    {
     "name": "stderr",
     "output_type": "stream",
     "text": [
      "09:08:05 - cmdstanpy - INFO - Chain [1] start processing\n"
     ]
    },
    {
     "name": "stdout",
     "output_type": "stream",
     "text": [
      "Processing i =  29  out of  100\n"
     ]
    },
    {
     "name": "stderr",
     "output_type": "stream",
     "text": [
      "09:08:05 - cmdstanpy - INFO - Chain [1] done processing\n",
      "09:08:06 - cmdstanpy - INFO - Chain [1] start processing\n",
      "09:08:06 - cmdstanpy - INFO - Chain [1] done processing\n"
     ]
    },
    {
     "name": "stdout",
     "output_type": "stream",
     "text": [
      "Processing i =  30  out of  100\n"
     ]
    },
    {
     "name": "stderr",
     "output_type": "stream",
     "text": [
      "09:08:06 - cmdstanpy - INFO - Chain [1] start processing\n"
     ]
    },
    {
     "name": "stdout",
     "output_type": "stream",
     "text": [
      "Processing i =  31  out of  100\n"
     ]
    },
    {
     "name": "stderr",
     "output_type": "stream",
     "text": [
      "09:08:06 - cmdstanpy - INFO - Chain [1] done processing\n",
      "09:08:06 - cmdstanpy - INFO - Chain [1] start processing\n",
      "09:08:06 - cmdstanpy - INFO - Chain [1] done processing\n"
     ]
    },
    {
     "name": "stdout",
     "output_type": "stream",
     "text": [
      "Processing i =  32  out of  100\n"
     ]
    },
    {
     "name": "stderr",
     "output_type": "stream",
     "text": [
      "09:08:06 - cmdstanpy - INFO - Chain [1] start processing\n",
      "09:08:06 - cmdstanpy - INFO - Chain [1] done processing\n"
     ]
    },
    {
     "name": "stdout",
     "output_type": "stream",
     "text": [
      "Processing i =  33  out of  100\n"
     ]
    },
    {
     "name": "stderr",
     "output_type": "stream",
     "text": [
      "09:08:06 - cmdstanpy - INFO - Chain [1] start processing\n",
      "09:08:07 - cmdstanpy - INFO - Chain [1] done processing\n"
     ]
    },
    {
     "name": "stdout",
     "output_type": "stream",
     "text": [
      "Processing i =  34  out of  100\n"
     ]
    },
    {
     "name": "stderr",
     "output_type": "stream",
     "text": [
      "09:08:07 - cmdstanpy - INFO - Chain [1] start processing\n",
      "09:08:07 - cmdstanpy - INFO - Chain [1] done processing\n"
     ]
    },
    {
     "name": "stdout",
     "output_type": "stream",
     "text": [
      "Processing i =  35  out of  100\n",
      "Processing i =  36  out of  100\n"
     ]
    },
    {
     "name": "stderr",
     "output_type": "stream",
     "text": [
      "09:08:07 - cmdstanpy - INFO - Chain [1] start processing\n",
      "09:08:07 - cmdstanpy - INFO - Chain [1] done processing\n",
      "09:08:07 - cmdstanpy - INFO - Chain [1] start processing\n",
      "09:08:07 - cmdstanpy - INFO - Chain [1] done processing\n"
     ]
    },
    {
     "name": "stdout",
     "output_type": "stream",
     "text": [
      "Processing i =  37  out of  100\n",
      "Processing i =  38  out of  100\n"
     ]
    },
    {
     "name": "stderr",
     "output_type": "stream",
     "text": [
      "09:08:07 - cmdstanpy - INFO - Chain [1] start processing\n",
      "09:08:07 - cmdstanpy - INFO - Chain [1] done processing\n",
      "09:08:08 - cmdstanpy - INFO - Chain [1] start processing\n",
      "09:08:08 - cmdstanpy - INFO - Chain [1] done processing\n"
     ]
    },
    {
     "name": "stdout",
     "output_type": "stream",
     "text": [
      "Processing i =  39  out of  100\n"
     ]
    },
    {
     "name": "stderr",
     "output_type": "stream",
     "text": [
      "09:08:08 - cmdstanpy - INFO - Chain [1] start processing\n",
      "09:08:08 - cmdstanpy - INFO - Chain [1] done processing\n"
     ]
    },
    {
     "name": "stdout",
     "output_type": "stream",
     "text": [
      "Processing i =  40  out of  100\n",
      "Processing i =  41  out of  100\n"
     ]
    },
    {
     "name": "stderr",
     "output_type": "stream",
     "text": [
      "09:08:08 - cmdstanpy - INFO - Chain [1] start processing\n",
      "09:08:08 - cmdstanpy - INFO - Chain [1] done processing\n",
      "09:08:08 - cmdstanpy - INFO - Chain [1] start processing\n",
      "09:08:08 - cmdstanpy - INFO - Chain [1] done processing\n"
     ]
    },
    {
     "name": "stdout",
     "output_type": "stream",
     "text": [
      "Processing i =  42  out of  100\n"
     ]
    },
    {
     "name": "stderr",
     "output_type": "stream",
     "text": [
      "09:08:08 - cmdstanpy - INFO - Chain [1] start processing\n"
     ]
    },
    {
     "name": "stdout",
     "output_type": "stream",
     "text": [
      "Processing i =  43  out of  100\n"
     ]
    },
    {
     "name": "stderr",
     "output_type": "stream",
     "text": [
      "09:08:08 - cmdstanpy - INFO - Chain [1] done processing\n",
      "09:08:09 - cmdstanpy - INFO - Chain [1] start processing\n",
      "09:08:09 - cmdstanpy - INFO - Chain [1] done processing\n"
     ]
    },
    {
     "name": "stdout",
     "output_type": "stream",
     "text": [
      "Processing i =  44  out of  100\n",
      "Processing i =  45  out of  100\n"
     ]
    },
    {
     "name": "stderr",
     "output_type": "stream",
     "text": [
      "09:08:09 - cmdstanpy - INFO - Chain [1] start processing\n",
      "09:08:09 - cmdstanpy - INFO - Chain [1] done processing\n",
      "09:08:09 - cmdstanpy - INFO - Chain [1] start processing\n"
     ]
    },
    {
     "name": "stdout",
     "output_type": "stream",
     "text": [
      "Processing i =  46  out of  100\n"
     ]
    },
    {
     "name": "stderr",
     "output_type": "stream",
     "text": [
      "09:08:09 - cmdstanpy - INFO - Chain [1] done processing\n",
      "09:08:09 - cmdstanpy - INFO - Chain [1] start processing\n",
      "09:08:09 - cmdstanpy - INFO - Chain [1] done processing\n"
     ]
    },
    {
     "name": "stdout",
     "output_type": "stream",
     "text": [
      "Processing i =  47  out of  100\n"
     ]
    },
    {
     "name": "stderr",
     "output_type": "stream",
     "text": [
      "09:08:10 - cmdstanpy - INFO - Chain [1] start processing\n",
      "09:08:10 - cmdstanpy - INFO - Chain [1] done processing\n"
     ]
    },
    {
     "name": "stdout",
     "output_type": "stream",
     "text": [
      "Processing i =  48  out of  100\n"
     ]
    },
    {
     "name": "stderr",
     "output_type": "stream",
     "text": [
      "09:08:10 - cmdstanpy - INFO - Chain [1] start processing\n"
     ]
    },
    {
     "name": "stdout",
     "output_type": "stream",
     "text": [
      "Processing i =  49  out of  100\n"
     ]
    },
    {
     "name": "stderr",
     "output_type": "stream",
     "text": [
      "09:08:10 - cmdstanpy - INFO - Chain [1] done processing\n",
      "09:08:10 - cmdstanpy - INFO - Chain [1] start processing\n",
      "09:08:10 - cmdstanpy - INFO - Chain [1] done processing\n"
     ]
    },
    {
     "name": "stdout",
     "output_type": "stream",
     "text": [
      "Processing i =  50  out of  100\n"
     ]
    },
    {
     "name": "stderr",
     "output_type": "stream",
     "text": [
      "09:08:10 - cmdstanpy - INFO - Chain [1] start processing\n"
     ]
    },
    {
     "name": "stdout",
     "output_type": "stream",
     "text": [
      "Processing i =  51  out of  100\n"
     ]
    },
    {
     "name": "stderr",
     "output_type": "stream",
     "text": [
      "09:08:10 - cmdstanpy - INFO - Chain [1] done processing\n",
      "09:08:10 - cmdstanpy - INFO - Chain [1] start processing\n",
      "09:08:10 - cmdstanpy - INFO - Chain [1] done processing\n"
     ]
    },
    {
     "name": "stdout",
     "output_type": "stream",
     "text": [
      "Processing i =  52  out of  100\n",
      "Processing i =  53  out of  100\n"
     ]
    },
    {
     "name": "stderr",
     "output_type": "stream",
     "text": [
      "09:08:11 - cmdstanpy - INFO - Chain [1] start processing\n",
      "09:08:11 - cmdstanpy - INFO - Chain [1] done processing\n",
      "09:08:11 - cmdstanpy - INFO - Chain [1] start processing\n",
      "09:08:11 - cmdstanpy - INFO - Chain [1] done processing\n"
     ]
    },
    {
     "name": "stdout",
     "output_type": "stream",
     "text": [
      "Processing i =  54  out of  100\n",
      "Processing i =  55  out of  100\n"
     ]
    },
    {
     "name": "stderr",
     "output_type": "stream",
     "text": [
      "09:08:11 - cmdstanpy - INFO - Chain [1] start processing\n",
      "09:08:11 - cmdstanpy - INFO - Chain [1] done processing\n",
      "09:08:11 - cmdstanpy - INFO - Chain [1] start processing\n",
      "09:08:11 - cmdstanpy - INFO - Chain [1] done processing\n"
     ]
    },
    {
     "name": "stdout",
     "output_type": "stream",
     "text": [
      "Processing i =  56  out of  100\n"
     ]
    },
    {
     "name": "stderr",
     "output_type": "stream",
     "text": [
      "09:08:11 - cmdstanpy - INFO - Chain [1] start processing\n",
      "09:08:12 - cmdstanpy - INFO - Chain [1] done processing\n"
     ]
    },
    {
     "name": "stdout",
     "output_type": "stream",
     "text": [
      "Processing i =  57  out of  100\n"
     ]
    },
    {
     "name": "stderr",
     "output_type": "stream",
     "text": [
      "09:08:12 - cmdstanpy - INFO - Chain [1] start processing\n",
      "09:08:12 - cmdstanpy - INFO - Chain [1] done processing\n"
     ]
    },
    {
     "name": "stdout",
     "output_type": "stream",
     "text": [
      "Processing i =  58  out of  100\n"
     ]
    },
    {
     "name": "stderr",
     "output_type": "stream",
     "text": [
      "09:08:12 - cmdstanpy - INFO - Chain [1] start processing\n",
      "09:08:12 - cmdstanpy - INFO - Chain [1] done processing\n"
     ]
    },
    {
     "name": "stdout",
     "output_type": "stream",
     "text": [
      "Processing i =  59  out of  100\n"
     ]
    },
    {
     "name": "stderr",
     "output_type": "stream",
     "text": [
      "09:08:12 - cmdstanpy - INFO - Chain [1] start processing\n",
      "09:08:12 - cmdstanpy - INFO - Chain [1] done processing\n"
     ]
    },
    {
     "name": "stdout",
     "output_type": "stream",
     "text": [
      "Processing i =  60  out of  100\n",
      "Processing i =  61  out of  100\n"
     ]
    },
    {
     "name": "stderr",
     "output_type": "stream",
     "text": [
      "09:08:12 - cmdstanpy - INFO - Chain [1] start processing\n",
      "09:08:12 - cmdstanpy - INFO - Chain [1] done processing\n",
      "09:08:13 - cmdstanpy - INFO - Chain [1] start processing\n",
      "09:08:13 - cmdstanpy - INFO - Chain [1] done processing\n"
     ]
    },
    {
     "name": "stdout",
     "output_type": "stream",
     "text": [
      "Processing i =  62  out of  100\n"
     ]
    },
    {
     "name": "stderr",
     "output_type": "stream",
     "text": [
      "09:08:13 - cmdstanpy - INFO - Chain [1] start processing\n",
      "09:08:13 - cmdstanpy - INFO - Chain [1] done processing\n"
     ]
    },
    {
     "name": "stdout",
     "output_type": "stream",
     "text": [
      "Processing i =  63  out of  100\n"
     ]
    },
    {
     "name": "stderr",
     "output_type": "stream",
     "text": [
      "09:08:13 - cmdstanpy - INFO - Chain [1] start processing\n",
      "09:08:13 - cmdstanpy - INFO - Chain [1] done processing\n"
     ]
    },
    {
     "name": "stdout",
     "output_type": "stream",
     "text": [
      "Processing i =  64  out of  100\n"
     ]
    },
    {
     "name": "stderr",
     "output_type": "stream",
     "text": [
      "09:08:13 - cmdstanpy - INFO - Chain [1] start processing\n",
      "09:08:13 - cmdstanpy - INFO - Chain [1] done processing\n"
     ]
    },
    {
     "name": "stdout",
     "output_type": "stream",
     "text": [
      "Processing i =  65  out of  100\n"
     ]
    },
    {
     "name": "stderr",
     "output_type": "stream",
     "text": [
      "09:08:14 - cmdstanpy - INFO - Chain [1] start processing\n",
      "09:08:14 - cmdstanpy - INFO - Chain [1] done processing\n"
     ]
    },
    {
     "name": "stdout",
     "output_type": "stream",
     "text": [
      "Processing i =  66  out of  100\n"
     ]
    },
    {
     "name": "stderr",
     "output_type": "stream",
     "text": [
      "09:08:14 - cmdstanpy - INFO - Chain [1] start processing\n"
     ]
    },
    {
     "name": "stdout",
     "output_type": "stream",
     "text": [
      "Processing i =  67  out of  100\n"
     ]
    },
    {
     "name": "stderr",
     "output_type": "stream",
     "text": [
      "09:08:14 - cmdstanpy - INFO - Chain [1] done processing\n",
      "09:08:14 - cmdstanpy - INFO - Chain [1] start processing\n",
      "09:08:14 - cmdstanpy - INFO - Chain [1] done processing\n"
     ]
    },
    {
     "name": "stdout",
     "output_type": "stream",
     "text": [
      "Processing i =  68  out of  100\n",
      "Processing i =  69  out of  100\n"
     ]
    },
    {
     "name": "stderr",
     "output_type": "stream",
     "text": [
      "09:08:14 - cmdstanpy - INFO - Chain [1] start processing\n",
      "09:08:14 - cmdstanpy - INFO - Chain [1] done processing\n",
      "09:08:14 - cmdstanpy - INFO - Chain [1] start processing\n",
      "09:08:14 - cmdstanpy - INFO - Chain [1] done processing\n"
     ]
    },
    {
     "name": "stdout",
     "output_type": "stream",
     "text": [
      "Processing i =  70  out of  100\n",
      "Processing i =  71  out of  100\n"
     ]
    },
    {
     "name": "stderr",
     "output_type": "stream",
     "text": [
      "09:08:15 - cmdstanpy - INFO - Chain [1] start processing\n",
      "09:08:15 - cmdstanpy - INFO - Chain [1] done processing\n",
      "09:08:15 - cmdstanpy - INFO - Chain [1] start processing\n",
      "09:08:15 - cmdstanpy - INFO - Chain [1] done processing\n"
     ]
    },
    {
     "name": "stdout",
     "output_type": "stream",
     "text": [
      "Processing i =  72  out of  100\n"
     ]
    },
    {
     "name": "stderr",
     "output_type": "stream",
     "text": [
      "09:08:15 - cmdstanpy - INFO - Chain [1] start processing\n",
      "09:08:15 - cmdstanpy - INFO - Chain [1] done processing\n"
     ]
    },
    {
     "name": "stdout",
     "output_type": "stream",
     "text": [
      "Processing i =  73  out of  100\n"
     ]
    },
    {
     "name": "stderr",
     "output_type": "stream",
     "text": [
      "09:08:15 - cmdstanpy - INFO - Chain [1] start processing\n",
      "09:08:15 - cmdstanpy - INFO - Chain [1] done processing\n"
     ]
    },
    {
     "name": "stdout",
     "output_type": "stream",
     "text": [
      "Processing i =  74  out of  100\n"
     ]
    },
    {
     "name": "stderr",
     "output_type": "stream",
     "text": [
      "09:08:15 - cmdstanpy - INFO - Chain [1] start processing\n"
     ]
    },
    {
     "name": "stdout",
     "output_type": "stream",
     "text": [
      "Processing i =  75  out of  100\n"
     ]
    },
    {
     "name": "stderr",
     "output_type": "stream",
     "text": [
      "09:08:16 - cmdstanpy - INFO - Chain [1] done processing\n",
      "09:08:16 - cmdstanpy - INFO - Chain [1] start processing\n"
     ]
    },
    {
     "name": "stdout",
     "output_type": "stream",
     "text": [
      "Processing i =  76  out of  100\n"
     ]
    },
    {
     "name": "stderr",
     "output_type": "stream",
     "text": [
      "09:08:16 - cmdstanpy - INFO - Chain [1] done processing\n",
      "09:08:16 - cmdstanpy - INFO - Chain [1] start processing\n",
      "09:08:16 - cmdstanpy - INFO - Chain [1] done processing\n"
     ]
    },
    {
     "name": "stdout",
     "output_type": "stream",
     "text": [
      "Processing i =  77  out of  100\n"
     ]
    },
    {
     "name": "stderr",
     "output_type": "stream",
     "text": [
      "09:08:16 - cmdstanpy - INFO - Chain [1] start processing\n",
      "09:08:16 - cmdstanpy - INFO - Chain [1] done processing\n"
     ]
    },
    {
     "name": "stdout",
     "output_type": "stream",
     "text": [
      "Processing i =  78  out of  100\n"
     ]
    },
    {
     "name": "stderr",
     "output_type": "stream",
     "text": [
      "09:08:16 - cmdstanpy - INFO - Chain [1] start processing\n",
      "09:08:16 - cmdstanpy - INFO - Chain [1] done processing\n"
     ]
    },
    {
     "name": "stdout",
     "output_type": "stream",
     "text": [
      "Processing i =  79  out of  100\n"
     ]
    },
    {
     "name": "stderr",
     "output_type": "stream",
     "text": [
      "09:08:17 - cmdstanpy - INFO - Chain [1] start processing\n",
      "09:08:17 - cmdstanpy - INFO - Chain [1] done processing\n"
     ]
    },
    {
     "name": "stdout",
     "output_type": "stream",
     "text": [
      "Processing i =  80  out of  100\n"
     ]
    },
    {
     "name": "stderr",
     "output_type": "stream",
     "text": [
      "09:08:17 - cmdstanpy - INFO - Chain [1] start processing\n",
      "09:08:17 - cmdstanpy - INFO - Chain [1] done processing\n"
     ]
    },
    {
     "name": "stdout",
     "output_type": "stream",
     "text": [
      "Processing i =  81  out of  100\n",
      "Processing i =  82  out of  100\n"
     ]
    },
    {
     "name": "stderr",
     "output_type": "stream",
     "text": [
      "09:08:17 - cmdstanpy - INFO - Chain [1] start processing\n",
      "09:08:17 - cmdstanpy - INFO - Chain [1] done processing\n",
      "09:08:17 - cmdstanpy - INFO - Chain [1] start processing\n",
      "09:08:17 - cmdstanpy - INFO - Chain [1] done processing\n"
     ]
    },
    {
     "name": "stdout",
     "output_type": "stream",
     "text": [
      "Processing i =  83  out of  100\n"
     ]
    },
    {
     "name": "stderr",
     "output_type": "stream",
     "text": [
      "09:08:17 - cmdstanpy - INFO - Chain [1] start processing\n",
      "09:08:18 - cmdstanpy - INFO - Chain [1] done processing\n"
     ]
    },
    {
     "name": "stdout",
     "output_type": "stream",
     "text": [
      "Processing i =  84  out of  100\n",
      "Processing i =  85  out of  100\n"
     ]
    },
    {
     "name": "stderr",
     "output_type": "stream",
     "text": [
      "09:08:18 - cmdstanpy - INFO - Chain [1] start processing\n",
      "09:08:18 - cmdstanpy - INFO - Chain [1] done processing\n",
      "09:08:18 - cmdstanpy - INFO - Chain [1] start processing\n"
     ]
    },
    {
     "name": "stdout",
     "output_type": "stream",
     "text": [
      "Processing i =  86  out of  100\n"
     ]
    },
    {
     "name": "stderr",
     "output_type": "stream",
     "text": [
      "09:08:18 - cmdstanpy - INFO - Chain [1] done processing\n",
      "09:08:18 - cmdstanpy - INFO - Chain [1] start processing\n",
      "09:08:18 - cmdstanpy - INFO - Chain [1] done processing\n"
     ]
    },
    {
     "name": "stdout",
     "output_type": "stream",
     "text": [
      "Processing i =  87  out of  100\n"
     ]
    },
    {
     "name": "stderr",
     "output_type": "stream",
     "text": [
      "09:08:18 - cmdstanpy - INFO - Chain [1] start processing\n",
      "09:08:18 - cmdstanpy - INFO - Chain [1] done processing\n"
     ]
    },
    {
     "name": "stdout",
     "output_type": "stream",
     "text": [
      "Processing i =  88  out of  100\n"
     ]
    },
    {
     "name": "stderr",
     "output_type": "stream",
     "text": [
      "09:08:19 - cmdstanpy - INFO - Chain [1] start processing\n"
     ]
    },
    {
     "name": "stdout",
     "output_type": "stream",
     "text": [
      "Processing i =  89  out of  100\n"
     ]
    },
    {
     "name": "stderr",
     "output_type": "stream",
     "text": [
      "09:08:19 - cmdstanpy - INFO - Chain [1] done processing\n",
      "09:08:19 - cmdstanpy - INFO - Chain [1] start processing\n"
     ]
    },
    {
     "name": "stdout",
     "output_type": "stream",
     "text": [
      "Processing i =  90  out of  100\n"
     ]
    },
    {
     "name": "stderr",
     "output_type": "stream",
     "text": [
      "09:08:19 - cmdstanpy - INFO - Chain [1] done processing\n",
      "09:08:19 - cmdstanpy - INFO - Chain [1] start processing\n",
      "09:08:19 - cmdstanpy - INFO - Chain [1] done processing\n"
     ]
    },
    {
     "name": "stdout",
     "output_type": "stream",
     "text": [
      "Processing i =  91  out of  100\n"
     ]
    },
    {
     "name": "stderr",
     "output_type": "stream",
     "text": [
      "09:08:19 - cmdstanpy - INFO - Chain [1] start processing\n"
     ]
    },
    {
     "name": "stdout",
     "output_type": "stream",
     "text": [
      "Processing i =  92  out of  100\n"
     ]
    },
    {
     "name": "stderr",
     "output_type": "stream",
     "text": [
      "09:08:19 - cmdstanpy - INFO - Chain [1] done processing\n",
      "09:08:20 - cmdstanpy - INFO - Chain [1] start processing\n",
      "09:08:20 - cmdstanpy - INFO - Chain [1] done processing\n"
     ]
    },
    {
     "name": "stdout",
     "output_type": "stream",
     "text": [
      "Processing i =  93  out of  100\n"
     ]
    },
    {
     "name": "stderr",
     "output_type": "stream",
     "text": [
      "09:08:20 - cmdstanpy - INFO - Chain [1] start processing\n",
      "09:08:20 - cmdstanpy - INFO - Chain [1] done processing\n"
     ]
    },
    {
     "name": "stdout",
     "output_type": "stream",
     "text": [
      "Processing i =  94  out of  100\n"
     ]
    },
    {
     "name": "stderr",
     "output_type": "stream",
     "text": [
      "09:08:20 - cmdstanpy - INFO - Chain [1] start processing\n"
     ]
    },
    {
     "name": "stdout",
     "output_type": "stream",
     "text": [
      "Processing i =  95  out of  100\n"
     ]
    },
    {
     "name": "stderr",
     "output_type": "stream",
     "text": [
      "09:08:20 - cmdstanpy - INFO - Chain [1] done processing\n",
      "09:08:20 - cmdstanpy - INFO - Chain [1] start processing\n",
      "09:08:20 - cmdstanpy - INFO - Chain [1] done processing\n"
     ]
    },
    {
     "name": "stdout",
     "output_type": "stream",
     "text": [
      "Processing i =  96  out of  100\n",
      "Processing i =  97  out of  100\n"
     ]
    },
    {
     "name": "stderr",
     "output_type": "stream",
     "text": [
      "09:08:21 - cmdstanpy - INFO - Chain [1] start processing\n",
      "09:08:21 - cmdstanpy - INFO - Chain [1] done processing\n",
      "09:08:21 - cmdstanpy - INFO - Chain [1] start processing\n"
     ]
    },
    {
     "name": "stdout",
     "output_type": "stream",
     "text": [
      "Processing i =  98  out of  100\n"
     ]
    },
    {
     "name": "stderr",
     "output_type": "stream",
     "text": [
      "09:08:21 - cmdstanpy - INFO - Chain [1] done processing\n",
      "09:08:21 - cmdstanpy - INFO - Chain [1] start processing\n",
      "09:08:21 - cmdstanpy - INFO - Chain [1] done processing\n"
     ]
    },
    {
     "name": "stdout",
     "output_type": "stream",
     "text": [
      "Processing i =  99  out of  100\n"
     ]
    },
    {
     "name": "stderr",
     "output_type": "stream",
     "text": [
      "09:08:21 - cmdstanpy - INFO - Chain [1] start processing\n"
     ]
    },
    {
     "name": "stdout",
     "output_type": "stream",
     "text": [
      "Processing i =  100  out of  100\n"
     ]
    },
    {
     "name": "stderr",
     "output_type": "stream",
     "text": [
      "09:08:21 - cmdstanpy - INFO - Chain [1] done processing\n",
      "09:08:22 - cmdstanpy - INFO - Chain [1] start processing\n"
     ]
    },
    {
     "name": "stdout",
     "output_type": "stream",
     "text": [
      "\n",
      "Processing CV 6 / 10....\n"
     ]
    },
    {
     "name": "stderr",
     "output_type": "stream",
     "text": [
      "09:08:22 - cmdstanpy - INFO - Chain [1] done processing\n",
      "C:\\Users\\z5404477\\AppData\\Local\\Temp\\ipykernel_33584\\1029035988.py:39: SettingWithCopyWarning: \n",
      "A value is trying to be set on a copy of a slice from a DataFrame\n",
      "\n",
      "See the caveats in the documentation: https://pandas.pydata.org/pandas-docs/stable/user_guide/indexing.html#returning-a-view-versus-a-copy\n",
      "  X_exog.rename(columns={'datetime': 'ds'}, inplace=True)\n",
      "C:\\Users\\z5404477\\AppData\\Local\\Temp\\ipykernel_33584\\1029035988.py:96: SettingWithCopyWarning: \n",
      "A value is trying to be set on a copy of a slice from a DataFrame\n",
      "\n",
      "See the caveats in the documentation: https://pandas.pydata.org/pandas-docs/stable/user_guide/indexing.html#returning-a-view-versus-a-copy\n",
      "  X_test.rename(columns={'datetime': 'ds'}, inplace=True)\n",
      "09:08:22 - cmdstanpy - INFO - Chain [1] start processing\n"
     ]
    },
    {
     "name": "stdout",
     "output_type": "stream",
     "text": [
      "Processing i =  1  out of  100\n",
      "Processing i =  2  out of  100\n"
     ]
    },
    {
     "name": "stderr",
     "output_type": "stream",
     "text": [
      "09:08:22 - cmdstanpy - INFO - Chain [1] done processing\n",
      "09:08:22 - cmdstanpy - INFO - Chain [1] start processing\n",
      "09:08:22 - cmdstanpy - INFO - Chain [1] done processing\n"
     ]
    },
    {
     "name": "stdout",
     "output_type": "stream",
     "text": [
      "Processing i =  3  out of  100\n",
      "Processing i =  4  out of  100\n"
     ]
    },
    {
     "name": "stderr",
     "output_type": "stream",
     "text": [
      "09:08:22 - cmdstanpy - INFO - Chain [1] start processing\n",
      "09:08:23 - cmdstanpy - INFO - Chain [1] done processing\n",
      "09:08:23 - cmdstanpy - INFO - Chain [1] start processing\n",
      "09:08:23 - cmdstanpy - INFO - Chain [1] done processing\n"
     ]
    },
    {
     "name": "stdout",
     "output_type": "stream",
     "text": [
      "Processing i =  5  out of  100\n",
      "Processing i =  6  out of  100\n"
     ]
    },
    {
     "name": "stderr",
     "output_type": "stream",
     "text": [
      "09:08:23 - cmdstanpy - INFO - Chain [1] start processing\n",
      "09:08:23 - cmdstanpy - INFO - Chain [1] done processing\n",
      "09:08:23 - cmdstanpy - INFO - Chain [1] start processing\n",
      "09:08:23 - cmdstanpy - INFO - Chain [1] done processing\n"
     ]
    },
    {
     "name": "stdout",
     "output_type": "stream",
     "text": [
      "Processing i =  7  out of  100\n"
     ]
    },
    {
     "name": "stderr",
     "output_type": "stream",
     "text": [
      "09:08:23 - cmdstanpy - INFO - Chain [1] start processing\n"
     ]
    },
    {
     "name": "stdout",
     "output_type": "stream",
     "text": [
      "Processing i =  8  out of  100\n"
     ]
    },
    {
     "name": "stderr",
     "output_type": "stream",
     "text": [
      "09:08:23 - cmdstanpy - INFO - Chain [1] done processing\n",
      "09:08:24 - cmdstanpy - INFO - Chain [1] start processing\n",
      "09:08:24 - cmdstanpy - INFO - Chain [1] done processing\n"
     ]
    },
    {
     "name": "stdout",
     "output_type": "stream",
     "text": [
      "Processing i =  9  out of  100\n"
     ]
    },
    {
     "name": "stderr",
     "output_type": "stream",
     "text": [
      "09:08:24 - cmdstanpy - INFO - Chain [1] start processing\n",
      "09:08:24 - cmdstanpy - INFO - Chain [1] done processing\n"
     ]
    },
    {
     "name": "stdout",
     "output_type": "stream",
     "text": [
      "Processing i =  10  out of  100\n",
      "Processing i =  11  out of  100\n"
     ]
    },
    {
     "name": "stderr",
     "output_type": "stream",
     "text": [
      "09:08:24 - cmdstanpy - INFO - Chain [1] start processing\n",
      "09:08:24 - cmdstanpy - INFO - Chain [1] done processing\n",
      "09:08:24 - cmdstanpy - INFO - Chain [1] start processing\n",
      "09:08:24 - cmdstanpy - INFO - Chain [1] done processing\n"
     ]
    },
    {
     "name": "stdout",
     "output_type": "stream",
     "text": [
      "Processing i =  12  out of  100\n"
     ]
    },
    {
     "name": "stderr",
     "output_type": "stream",
     "text": [
      "09:08:24 - cmdstanpy - INFO - Chain [1] start processing\n",
      "09:08:24 - cmdstanpy - INFO - Chain [1] done processing\n"
     ]
    },
    {
     "name": "stdout",
     "output_type": "stream",
     "text": [
      "Processing i =  13  out of  100\n",
      "Processing i =  14  out of  100\n"
     ]
    },
    {
     "name": "stderr",
     "output_type": "stream",
     "text": [
      "09:08:25 - cmdstanpy - INFO - Chain [1] start processing\n",
      "09:08:25 - cmdstanpy - INFO - Chain [1] done processing\n",
      "09:08:25 - cmdstanpy - INFO - Chain [1] start processing\n",
      "09:08:25 - cmdstanpy - INFO - Chain [1] done processing\n"
     ]
    },
    {
     "name": "stdout",
     "output_type": "stream",
     "text": [
      "Processing i =  15  out of  100\n"
     ]
    },
    {
     "name": "stderr",
     "output_type": "stream",
     "text": [
      "09:08:25 - cmdstanpy - INFO - Chain [1] start processing\n"
     ]
    },
    {
     "name": "stdout",
     "output_type": "stream",
     "text": [
      "Processing i =  16  out of  100\n"
     ]
    },
    {
     "name": "stderr",
     "output_type": "stream",
     "text": [
      "09:08:25 - cmdstanpy - INFO - Chain [1] done processing\n",
      "09:08:25 - cmdstanpy - INFO - Chain [1] start processing\n",
      "09:08:25 - cmdstanpy - INFO - Chain [1] done processing\n"
     ]
    },
    {
     "name": "stdout",
     "output_type": "stream",
     "text": [
      "Processing i =  17  out of  100\n",
      "Processing i =  18  out of  100\n"
     ]
    },
    {
     "name": "stderr",
     "output_type": "stream",
     "text": [
      "09:08:25 - cmdstanpy - INFO - Chain [1] start processing\n",
      "09:08:26 - cmdstanpy - INFO - Chain [1] done processing\n",
      "09:08:26 - cmdstanpy - INFO - Chain [1] start processing\n",
      "09:08:26 - cmdstanpy - INFO - Chain [1] done processing\n"
     ]
    },
    {
     "name": "stdout",
     "output_type": "stream",
     "text": [
      "Processing i =  19  out of  100\n"
     ]
    },
    {
     "name": "stderr",
     "output_type": "stream",
     "text": [
      "09:08:26 - cmdstanpy - INFO - Chain [1] start processing\n",
      "09:08:26 - cmdstanpy - INFO - Chain [1] done processing\n"
     ]
    },
    {
     "name": "stdout",
     "output_type": "stream",
     "text": [
      "Processing i =  20  out of  100\n"
     ]
    },
    {
     "name": "stderr",
     "output_type": "stream",
     "text": [
      "09:08:26 - cmdstanpy - INFO - Chain [1] start processing\n",
      "09:08:26 - cmdstanpy - INFO - Chain [1] done processing\n"
     ]
    },
    {
     "name": "stdout",
     "output_type": "stream",
     "text": [
      "Processing i =  21  out of  100\n",
      "Processing i =  22  out of  100\n"
     ]
    },
    {
     "name": "stderr",
     "output_type": "stream",
     "text": [
      "09:08:26 - cmdstanpy - INFO - Chain [1] start processing\n",
      "09:08:26 - cmdstanpy - INFO - Chain [1] done processing\n",
      "09:08:26 - cmdstanpy - INFO - Chain [1] start processing\n",
      "09:08:27 - cmdstanpy - INFO - Chain [1] done processing\n"
     ]
    },
    {
     "name": "stdout",
     "output_type": "stream",
     "text": [
      "Processing i =  23  out of  100\n",
      "Processing i =  24  out of  100\n"
     ]
    },
    {
     "name": "stderr",
     "output_type": "stream",
     "text": [
      "09:08:27 - cmdstanpy - INFO - Chain [1] start processing\n",
      "09:08:27 - cmdstanpy - INFO - Chain [1] done processing\n",
      "09:08:27 - cmdstanpy - INFO - Chain [1] start processing\n",
      "09:08:27 - cmdstanpy - INFO - Chain [1] done processing\n"
     ]
    },
    {
     "name": "stdout",
     "output_type": "stream",
     "text": [
      "Processing i =  25  out of  100\n",
      "Processing i =  26  out of  100\n"
     ]
    },
    {
     "name": "stderr",
     "output_type": "stream",
     "text": [
      "09:08:27 - cmdstanpy - INFO - Chain [1] start processing\n",
      "09:08:27 - cmdstanpy - INFO - Chain [1] done processing\n",
      "09:08:27 - cmdstanpy - INFO - Chain [1] start processing\n",
      "09:08:27 - cmdstanpy - INFO - Chain [1] done processing\n"
     ]
    },
    {
     "name": "stdout",
     "output_type": "stream",
     "text": [
      "Processing i =  27  out of  100\n",
      "Processing i =  28  out of  100\n"
     ]
    },
    {
     "name": "stderr",
     "output_type": "stream",
     "text": [
      "09:08:27 - cmdstanpy - INFO - Chain [1] start processing\n",
      "09:08:28 - cmdstanpy - INFO - Chain [1] done processing\n",
      "09:08:28 - cmdstanpy - INFO - Chain [1] start processing\n",
      "09:08:28 - cmdstanpy - INFO - Chain [1] done processing\n"
     ]
    },
    {
     "name": "stdout",
     "output_type": "stream",
     "text": [
      "Processing i =  29  out of  100\n"
     ]
    },
    {
     "name": "stderr",
     "output_type": "stream",
     "text": [
      "09:08:28 - cmdstanpy - INFO - Chain [1] start processing\n",
      "09:08:28 - cmdstanpy - INFO - Chain [1] done processing\n"
     ]
    },
    {
     "name": "stdout",
     "output_type": "stream",
     "text": [
      "Processing i =  30  out of  100\n"
     ]
    },
    {
     "name": "stderr",
     "output_type": "stream",
     "text": [
      "09:08:28 - cmdstanpy - INFO - Chain [1] start processing\n",
      "09:08:28 - cmdstanpy - INFO - Chain [1] done processing\n"
     ]
    },
    {
     "name": "stdout",
     "output_type": "stream",
     "text": [
      "Processing i =  31  out of  100\n"
     ]
    },
    {
     "name": "stderr",
     "output_type": "stream",
     "text": [
      "09:08:28 - cmdstanpy - INFO - Chain [1] start processing\n",
      "09:08:28 - cmdstanpy - INFO - Chain [1] done processing\n"
     ]
    },
    {
     "name": "stdout",
     "output_type": "stream",
     "text": [
      "Processing i =  32  out of  100\n"
     ]
    },
    {
     "name": "stderr",
     "output_type": "stream",
     "text": [
      "09:08:29 - cmdstanpy - INFO - Chain [1] start processing\n",
      "09:08:29 - cmdstanpy - INFO - Chain [1] done processing\n"
     ]
    },
    {
     "name": "stdout",
     "output_type": "stream",
     "text": [
      "Processing i =  33  out of  100\n",
      "Processing i =  34  out of  100\n"
     ]
    },
    {
     "name": "stderr",
     "output_type": "stream",
     "text": [
      "09:08:29 - cmdstanpy - INFO - Chain [1] start processing\n",
      "09:08:29 - cmdstanpy - INFO - Chain [1] done processing\n",
      "09:08:29 - cmdstanpy - INFO - Chain [1] start processing\n",
      "09:08:29 - cmdstanpy - INFO - Chain [1] done processing\n"
     ]
    },
    {
     "name": "stdout",
     "output_type": "stream",
     "text": [
      "Processing i =  35  out of  100\n"
     ]
    },
    {
     "name": "stderr",
     "output_type": "stream",
     "text": [
      "09:08:29 - cmdstanpy - INFO - Chain [1] start processing\n",
      "09:08:29 - cmdstanpy - INFO - Chain [1] done processing\n"
     ]
    },
    {
     "name": "stdout",
     "output_type": "stream",
     "text": [
      "Processing i =  36  out of  100\n",
      "Processing i =  37  out of  100\n"
     ]
    },
    {
     "name": "stderr",
     "output_type": "stream",
     "text": [
      "09:08:29 - cmdstanpy - INFO - Chain [1] start processing\n",
      "09:08:29 - cmdstanpy - INFO - Chain [1] done processing\n",
      "09:08:30 - cmdstanpy - INFO - Chain [1] start processing\n",
      "09:08:30 - cmdstanpy - INFO - Chain [1] done processing\n"
     ]
    },
    {
     "name": "stdout",
     "output_type": "stream",
     "text": [
      "Processing i =  38  out of  100\n",
      "Processing i =  39  out of  100\n"
     ]
    },
    {
     "name": "stderr",
     "output_type": "stream",
     "text": [
      "09:08:30 - cmdstanpy - INFO - Chain [1] start processing\n",
      "09:08:30 - cmdstanpy - INFO - Chain [1] done processing\n",
      "09:08:30 - cmdstanpy - INFO - Chain [1] start processing\n",
      "09:08:30 - cmdstanpy - INFO - Chain [1] done processing\n"
     ]
    },
    {
     "name": "stdout",
     "output_type": "stream",
     "text": [
      "Processing i =  40  out of  100\n",
      "Processing i =  41  out of  100\n"
     ]
    },
    {
     "name": "stderr",
     "output_type": "stream",
     "text": [
      "09:08:30 - cmdstanpy - INFO - Chain [1] start processing\n",
      "09:08:30 - cmdstanpy - INFO - Chain [1] done processing\n",
      "09:08:30 - cmdstanpy - INFO - Chain [1] start processing\n",
      "09:08:31 - cmdstanpy - INFO - Chain [1] done processing\n"
     ]
    },
    {
     "name": "stdout",
     "output_type": "stream",
     "text": [
      "Processing i =  42  out of  100\n"
     ]
    },
    {
     "name": "stderr",
     "output_type": "stream",
     "text": [
      "09:08:31 - cmdstanpy - INFO - Chain [1] start processing\n",
      "09:08:31 - cmdstanpy - INFO - Chain [1] done processing\n"
     ]
    },
    {
     "name": "stdout",
     "output_type": "stream",
     "text": [
      "Processing i =  43  out of  100\n"
     ]
    },
    {
     "name": "stderr",
     "output_type": "stream",
     "text": [
      "09:08:31 - cmdstanpy - INFO - Chain [1] start processing\n",
      "09:08:31 - cmdstanpy - INFO - Chain [1] done processing\n"
     ]
    },
    {
     "name": "stdout",
     "output_type": "stream",
     "text": [
      "Processing i =  44  out of  100\n",
      "Processing i =  45  out of  100\n"
     ]
    },
    {
     "name": "stderr",
     "output_type": "stream",
     "text": [
      "09:08:31 - cmdstanpy - INFO - Chain [1] start processing\n",
      "09:08:31 - cmdstanpy - INFO - Chain [1] done processing\n"
     ]
    },
    {
     "name": "stdout",
     "output_type": "stream",
     "text": [
      "Processing i =  46  out of  100\n"
     ]
    },
    {
     "name": "stderr",
     "output_type": "stream",
     "text": [
      "09:08:32 - cmdstanpy - INFO - Chain [1] start processing\n",
      "09:08:32 - cmdstanpy - INFO - Chain [1] done processing\n",
      "09:08:32 - cmdstanpy - INFO - Chain [1] start processing\n",
      "09:08:32 - cmdstanpy - INFO - Chain [1] done processing\n"
     ]
    },
    {
     "name": "stdout",
     "output_type": "stream",
     "text": [
      "Processing i =  47  out of  100\n",
      "Processing i =  48  out of  100\n"
     ]
    },
    {
     "name": "stderr",
     "output_type": "stream",
     "text": [
      "09:08:32 - cmdstanpy - INFO - Chain [1] start processing\n",
      "09:08:32 - cmdstanpy - INFO - Chain [1] done processing\n",
      "09:08:32 - cmdstanpy - INFO - Chain [1] start processing\n",
      "09:08:32 - cmdstanpy - INFO - Chain [1] done processing\n"
     ]
    },
    {
     "name": "stdout",
     "output_type": "stream",
     "text": [
      "Processing i =  49  out of  100\n",
      "Processing i =  50  out of  100\n"
     ]
    },
    {
     "name": "stderr",
     "output_type": "stream",
     "text": [
      "09:08:32 - cmdstanpy - INFO - Chain [1] start processing\n",
      "09:08:32 - cmdstanpy - INFO - Chain [1] done processing\n",
      "09:08:33 - cmdstanpy - INFO - Chain [1] start processing\n",
      "09:08:33 - cmdstanpy - INFO - Chain [1] done processing\n"
     ]
    },
    {
     "name": "stdout",
     "output_type": "stream",
     "text": [
      "Processing i =  51  out of  100\n"
     ]
    },
    {
     "name": "stderr",
     "output_type": "stream",
     "text": [
      "09:08:33 - cmdstanpy - INFO - Chain [1] start processing\n",
      "09:08:33 - cmdstanpy - INFO - Chain [1] done processing\n"
     ]
    },
    {
     "name": "stdout",
     "output_type": "stream",
     "text": [
      "Processing i =  52  out of  100\n",
      "Processing i =  53  out of  100\n"
     ]
    },
    {
     "name": "stderr",
     "output_type": "stream",
     "text": [
      "09:08:33 - cmdstanpy - INFO - Chain [1] start processing\n",
      "09:08:33 - cmdstanpy - INFO - Chain [1] done processing\n",
      "09:08:33 - cmdstanpy - INFO - Chain [1] start processing\n",
      "09:08:33 - cmdstanpy - INFO - Chain [1] done processing\n"
     ]
    },
    {
     "name": "stdout",
     "output_type": "stream",
     "text": [
      "Processing i =  54  out of  100\n",
      "Processing i =  55  out of  100\n"
     ]
    },
    {
     "name": "stderr",
     "output_type": "stream",
     "text": [
      "09:08:33 - cmdstanpy - INFO - Chain [1] start processing\n",
      "09:08:34 - cmdstanpy - INFO - Chain [1] done processing\n",
      "09:08:34 - cmdstanpy - INFO - Chain [1] start processing\n",
      "09:08:34 - cmdstanpy - INFO - Chain [1] done processing\n"
     ]
    },
    {
     "name": "stdout",
     "output_type": "stream",
     "text": [
      "Processing i =  56  out of  100\n"
     ]
    },
    {
     "name": "stderr",
     "output_type": "stream",
     "text": [
      "09:08:34 - cmdstanpy - INFO - Chain [1] start processing\n",
      "09:08:34 - cmdstanpy - INFO - Chain [1] done processing\n"
     ]
    },
    {
     "name": "stdout",
     "output_type": "stream",
     "text": [
      "Processing i =  57  out of  100\n",
      "Processing i =  58  out of  100\n"
     ]
    },
    {
     "name": "stderr",
     "output_type": "stream",
     "text": [
      "09:08:34 - cmdstanpy - INFO - Chain [1] start processing\n",
      "09:08:34 - cmdstanpy - INFO - Chain [1] done processing\n",
      "09:08:34 - cmdstanpy - INFO - Chain [1] start processing\n",
      "09:08:34 - cmdstanpy - INFO - Chain [1] done processing\n"
     ]
    },
    {
     "name": "stdout",
     "output_type": "stream",
     "text": [
      "Processing i =  59  out of  100\n",
      "Processing i =  60  out of  100\n"
     ]
    },
    {
     "name": "stderr",
     "output_type": "stream",
     "text": [
      "09:08:35 - cmdstanpy - INFO - Chain [1] start processing\n",
      "09:08:35 - cmdstanpy - INFO - Chain [1] done processing\n",
      "09:08:35 - cmdstanpy - INFO - Chain [1] start processing\n",
      "09:08:35 - cmdstanpy - INFO - Chain [1] done processing\n"
     ]
    },
    {
     "name": "stdout",
     "output_type": "stream",
     "text": [
      "Processing i =  61  out of  100\n",
      "Processing i =  62  out of  100\n"
     ]
    },
    {
     "name": "stderr",
     "output_type": "stream",
     "text": [
      "09:08:35 - cmdstanpy - INFO - Chain [1] start processing\n",
      "09:08:35 - cmdstanpy - INFO - Chain [1] done processing\n",
      "09:08:35 - cmdstanpy - INFO - Chain [1] start processing\n",
      "09:08:35 - cmdstanpy - INFO - Chain [1] done processing\n"
     ]
    },
    {
     "name": "stdout",
     "output_type": "stream",
     "text": [
      "Processing i =  63  out of  100\n",
      "Processing i =  64  out of  100\n"
     ]
    },
    {
     "name": "stderr",
     "output_type": "stream",
     "text": [
      "09:08:35 - cmdstanpy - INFO - Chain [1] start processing\n",
      "09:08:35 - cmdstanpy - INFO - Chain [1] done processing\n",
      "09:08:36 - cmdstanpy - INFO - Chain [1] start processing\n",
      "09:08:36 - cmdstanpy - INFO - Chain [1] done processing\n"
     ]
    },
    {
     "name": "stdout",
     "output_type": "stream",
     "text": [
      "Processing i =  65  out of  100\n",
      "Processing i =  66  out of  100\n"
     ]
    },
    {
     "name": "stderr",
     "output_type": "stream",
     "text": [
      "09:08:36 - cmdstanpy - INFO - Chain [1] start processing\n",
      "09:08:36 - cmdstanpy - INFO - Chain [1] done processing\n",
      "09:08:36 - cmdstanpy - INFO - Chain [1] start processing\n",
      "09:08:36 - cmdstanpy - INFO - Chain [1] done processing\n"
     ]
    },
    {
     "name": "stdout",
     "output_type": "stream",
     "text": [
      "Processing i =  67  out of  100\n"
     ]
    },
    {
     "name": "stderr",
     "output_type": "stream",
     "text": [
      "09:08:36 - cmdstanpy - INFO - Chain [1] start processing\n",
      "09:08:36 - cmdstanpy - INFO - Chain [1] done processing\n"
     ]
    },
    {
     "name": "stdout",
     "output_type": "stream",
     "text": [
      "Processing i =  68  out of  100\n"
     ]
    },
    {
     "name": "stderr",
     "output_type": "stream",
     "text": [
      "09:08:36 - cmdstanpy - INFO - Chain [1] start processing\n",
      "09:08:36 - cmdstanpy - INFO - Chain [1] done processing\n"
     ]
    },
    {
     "name": "stdout",
     "output_type": "stream",
     "text": [
      "Processing i =  69  out of  100\n",
      "Processing i =  70  out of  100\n"
     ]
    },
    {
     "name": "stderr",
     "output_type": "stream",
     "text": [
      "09:08:37 - cmdstanpy - INFO - Chain [1] start processing\n",
      "09:08:37 - cmdstanpy - INFO - Chain [1] done processing\n",
      "09:08:37 - cmdstanpy - INFO - Chain [1] start processing\n",
      "09:08:37 - cmdstanpy - INFO - Chain [1] done processing\n"
     ]
    },
    {
     "name": "stdout",
     "output_type": "stream",
     "text": [
      "Processing i =  71  out of  100\n"
     ]
    },
    {
     "name": "stderr",
     "output_type": "stream",
     "text": [
      "09:08:37 - cmdstanpy - INFO - Chain [1] start processing\n",
      "09:08:37 - cmdstanpy - INFO - Chain [1] done processing\n"
     ]
    },
    {
     "name": "stdout",
     "output_type": "stream",
     "text": [
      "Processing i =  72  out of  100\n",
      "Processing i =  73  out of  100\n"
     ]
    },
    {
     "name": "stderr",
     "output_type": "stream",
     "text": [
      "09:08:37 - cmdstanpy - INFO - Chain [1] start processing\n",
      "09:08:37 - cmdstanpy - INFO - Chain [1] done processing\n",
      "09:08:37 - cmdstanpy - INFO - Chain [1] start processing\n"
     ]
    },
    {
     "name": "stdout",
     "output_type": "stream",
     "text": [
      "Processing i =  74  out of  100\n"
     ]
    },
    {
     "name": "stderr",
     "output_type": "stream",
     "text": [
      "09:08:37 - cmdstanpy - INFO - Chain [1] done processing\n",
      "09:08:38 - cmdstanpy - INFO - Chain [1] start processing\n",
      "09:08:38 - cmdstanpy - INFO - Chain [1] done processing\n"
     ]
    },
    {
     "name": "stdout",
     "output_type": "stream",
     "text": [
      "Processing i =  75  out of  100\n",
      "Processing i =  76  out of  100\n"
     ]
    },
    {
     "name": "stderr",
     "output_type": "stream",
     "text": [
      "09:08:38 - cmdstanpy - INFO - Chain [1] start processing\n",
      "09:08:38 - cmdstanpy - INFO - Chain [1] done processing\n",
      "09:08:38 - cmdstanpy - INFO - Chain [1] start processing\n",
      "09:08:38 - cmdstanpy - INFO - Chain [1] done processing\n"
     ]
    },
    {
     "name": "stdout",
     "output_type": "stream",
     "text": [
      "Processing i =  77  out of  100\n",
      "Processing i =  78  out of  100\n"
     ]
    },
    {
     "name": "stderr",
     "output_type": "stream",
     "text": [
      "09:08:38 - cmdstanpy - INFO - Chain [1] start processing\n",
      "09:08:38 - cmdstanpy - INFO - Chain [1] done processing\n",
      "09:08:39 - cmdstanpy - INFO - Chain [1] start processing\n",
      "09:08:39 - cmdstanpy - INFO - Chain [1] done processing\n"
     ]
    },
    {
     "name": "stdout",
     "output_type": "stream",
     "text": [
      "Processing i =  79  out of  100\n",
      "Processing i =  80  out of  100\n"
     ]
    },
    {
     "name": "stderr",
     "output_type": "stream",
     "text": [
      "09:08:39 - cmdstanpy - INFO - Chain [1] start processing\n",
      "09:08:39 - cmdstanpy - INFO - Chain [1] done processing\n",
      "09:08:39 - cmdstanpy - INFO - Chain [1] start processing\n",
      "09:08:39 - cmdstanpy - INFO - Chain [1] done processing\n"
     ]
    },
    {
     "name": "stdout",
     "output_type": "stream",
     "text": [
      "Processing i =  81  out of  100\n",
      "Processing i =  82  out of  100\n"
     ]
    },
    {
     "name": "stderr",
     "output_type": "stream",
     "text": [
      "09:08:39 - cmdstanpy - INFO - Chain [1] start processing\n",
      "09:08:39 - cmdstanpy - INFO - Chain [1] done processing\n",
      "09:08:39 - cmdstanpy - INFO - Chain [1] start processing\n",
      "09:08:39 - cmdstanpy - INFO - Chain [1] done processing\n"
     ]
    },
    {
     "name": "stdout",
     "output_type": "stream",
     "text": [
      "Processing i =  83  out of  100\n",
      "Processing i =  84  out of  100\n"
     ]
    },
    {
     "name": "stderr",
     "output_type": "stream",
     "text": [
      "09:08:40 - cmdstanpy - INFO - Chain [1] start processing\n",
      "09:08:40 - cmdstanpy - INFO - Chain [1] done processing\n",
      "09:08:40 - cmdstanpy - INFO - Chain [1] start processing\n",
      "09:08:40 - cmdstanpy - INFO - Chain [1] done processing\n"
     ]
    },
    {
     "name": "stdout",
     "output_type": "stream",
     "text": [
      "Processing i =  85  out of  100\n",
      "Processing i =  86  out of  100\n"
     ]
    },
    {
     "name": "stderr",
     "output_type": "stream",
     "text": [
      "09:08:40 - cmdstanpy - INFO - Chain [1] start processing\n",
      "09:08:40 - cmdstanpy - INFO - Chain [1] done processing\n",
      "09:08:40 - cmdstanpy - INFO - Chain [1] start processing\n",
      "09:08:40 - cmdstanpy - INFO - Chain [1] done processing\n"
     ]
    },
    {
     "name": "stdout",
     "output_type": "stream",
     "text": [
      "Processing i =  87  out of  100\n"
     ]
    },
    {
     "name": "stderr",
     "output_type": "stream",
     "text": [
      "09:08:40 - cmdstanpy - INFO - Chain [1] start processing\n",
      "09:08:40 - cmdstanpy - INFO - Chain [1] done processing\n"
     ]
    },
    {
     "name": "stdout",
     "output_type": "stream",
     "text": [
      "Processing i =  88  out of  100\n",
      "Processing i =  89  out of  100\n"
     ]
    },
    {
     "name": "stderr",
     "output_type": "stream",
     "text": [
      "09:08:41 - cmdstanpy - INFO - Chain [1] start processing\n",
      "09:08:41 - cmdstanpy - INFO - Chain [1] done processing\n",
      "09:08:41 - cmdstanpy - INFO - Chain [1] start processing\n",
      "09:08:41 - cmdstanpy - INFO - Chain [1] done processing\n"
     ]
    },
    {
     "name": "stdout",
     "output_type": "stream",
     "text": [
      "Processing i =  90  out of  100\n",
      "Processing i =  91  out of  100\n"
     ]
    },
    {
     "name": "stderr",
     "output_type": "stream",
     "text": [
      "09:08:41 - cmdstanpy - INFO - Chain [1] start processing\n",
      "09:08:41 - cmdstanpy - INFO - Chain [1] done processing\n",
      "09:08:41 - cmdstanpy - INFO - Chain [1] start processing\n",
      "09:08:41 - cmdstanpy - INFO - Chain [1] done processing\n"
     ]
    },
    {
     "name": "stdout",
     "output_type": "stream",
     "text": [
      "Processing i =  92  out of  100\n",
      "Processing i =  93  out of  100\n"
     ]
    },
    {
     "name": "stderr",
     "output_type": "stream",
     "text": [
      "09:08:41 - cmdstanpy - INFO - Chain [1] start processing\n",
      "09:08:42 - cmdstanpy - INFO - Chain [1] done processing\n",
      "09:08:42 - cmdstanpy - INFO - Chain [1] start processing\n",
      "09:08:42 - cmdstanpy - INFO - Chain [1] done processing\n"
     ]
    },
    {
     "name": "stdout",
     "output_type": "stream",
     "text": [
      "Processing i =  94  out of  100\n"
     ]
    },
    {
     "name": "stderr",
     "output_type": "stream",
     "text": [
      "09:08:42 - cmdstanpy - INFO - Chain [1] start processing\n",
      "09:08:42 - cmdstanpy - INFO - Chain [1] done processing\n"
     ]
    },
    {
     "name": "stdout",
     "output_type": "stream",
     "text": [
      "Processing i =  95  out of  100\n",
      "Processing i =  96  out of  100\n"
     ]
    },
    {
     "name": "stderr",
     "output_type": "stream",
     "text": [
      "09:08:42 - cmdstanpy - INFO - Chain [1] start processing\n",
      "09:08:42 - cmdstanpy - INFO - Chain [1] done processing\n",
      "09:08:42 - cmdstanpy - INFO - Chain [1] start processing\n",
      "09:08:42 - cmdstanpy - INFO - Chain [1] done processing\n"
     ]
    },
    {
     "name": "stdout",
     "output_type": "stream",
     "text": [
      "Processing i =  97  out of  100\n",
      "Processing i =  98  out of  100\n"
     ]
    },
    {
     "name": "stderr",
     "output_type": "stream",
     "text": [
      "09:08:43 - cmdstanpy - INFO - Chain [1] start processing\n",
      "09:08:43 - cmdstanpy - INFO - Chain [1] done processing\n",
      "09:08:43 - cmdstanpy - INFO - Chain [1] start processing\n"
     ]
    },
    {
     "name": "stdout",
     "output_type": "stream",
     "text": [
      "Processing i =  99  out of  100\n"
     ]
    },
    {
     "name": "stderr",
     "output_type": "stream",
     "text": [
      "09:08:43 - cmdstanpy - INFO - Chain [1] done processing\n",
      "09:08:43 - cmdstanpy - INFO - Chain [1] start processing\n",
      "09:08:43 - cmdstanpy - INFO - Chain [1] done processing\n"
     ]
    },
    {
     "name": "stdout",
     "output_type": "stream",
     "text": [
      "Processing i =  100  out of  100\n"
     ]
    },
    {
     "name": "stderr",
     "output_type": "stream",
     "text": [
      "09:08:43 - cmdstanpy - INFO - Chain [1] start processing\n"
     ]
    },
    {
     "name": "stdout",
     "output_type": "stream",
     "text": [
      "\n",
      "Processing CV 7 / 10....\n"
     ]
    },
    {
     "name": "stderr",
     "output_type": "stream",
     "text": [
      "09:08:43 - cmdstanpy - INFO - Chain [1] done processing\n",
      "C:\\Users\\z5404477\\AppData\\Local\\Temp\\ipykernel_33584\\1029035988.py:39: SettingWithCopyWarning: \n",
      "A value is trying to be set on a copy of a slice from a DataFrame\n",
      "\n",
      "See the caveats in the documentation: https://pandas.pydata.org/pandas-docs/stable/user_guide/indexing.html#returning-a-view-versus-a-copy\n",
      "  X_exog.rename(columns={'datetime': 'ds'}, inplace=True)\n",
      "C:\\Users\\z5404477\\AppData\\Local\\Temp\\ipykernel_33584\\1029035988.py:96: SettingWithCopyWarning: \n",
      "A value is trying to be set on a copy of a slice from a DataFrame\n",
      "\n",
      "See the caveats in the documentation: https://pandas.pydata.org/pandas-docs/stable/user_guide/indexing.html#returning-a-view-versus-a-copy\n",
      "  X_test.rename(columns={'datetime': 'ds'}, inplace=True)\n",
      "09:08:44 - cmdstanpy - INFO - Chain [1] start processing\n"
     ]
    },
    {
     "name": "stdout",
     "output_type": "stream",
     "text": [
      "Processing i =  1  out of  100\n",
      "Processing i =  2  out of  100\n"
     ]
    },
    {
     "name": "stderr",
     "output_type": "stream",
     "text": [
      "09:08:44 - cmdstanpy - INFO - Chain [1] done processing\n",
      "09:08:44 - cmdstanpy - INFO - Chain [1] start processing\n",
      "09:08:44 - cmdstanpy - INFO - Chain [1] done processing\n"
     ]
    },
    {
     "name": "stdout",
     "output_type": "stream",
     "text": [
      "Processing i =  3  out of  100\n",
      "Processing i =  4  out of  100\n"
     ]
    },
    {
     "name": "stderr",
     "output_type": "stream",
     "text": [
      "09:08:44 - cmdstanpy - INFO - Chain [1] start processing\n",
      "09:08:44 - cmdstanpy - INFO - Chain [1] done processing\n",
      "09:08:44 - cmdstanpy - INFO - Chain [1] start processing\n",
      "09:08:44 - cmdstanpy - INFO - Chain [1] done processing\n"
     ]
    },
    {
     "name": "stdout",
     "output_type": "stream",
     "text": [
      "Processing i =  5  out of  100\n",
      "Processing i =  6  out of  100\n"
     ]
    },
    {
     "name": "stderr",
     "output_type": "stream",
     "text": [
      "09:08:45 - cmdstanpy - INFO - Chain [1] start processing\n",
      "09:08:45 - cmdstanpy - INFO - Chain [1] done processing\n",
      "09:08:45 - cmdstanpy - INFO - Chain [1] start processing\n",
      "09:08:45 - cmdstanpy - INFO - Chain [1] done processing\n"
     ]
    },
    {
     "name": "stdout",
     "output_type": "stream",
     "text": [
      "Processing i =  7  out of  100\n",
      "Processing i =  8  out of  100\n"
     ]
    },
    {
     "name": "stderr",
     "output_type": "stream",
     "text": [
      "09:08:45 - cmdstanpy - INFO - Chain [1] start processing\n",
      "09:08:45 - cmdstanpy - INFO - Chain [1] done processing\n",
      "09:08:45 - cmdstanpy - INFO - Chain [1] start processing\n",
      "09:08:45 - cmdstanpy - INFO - Chain [1] done processing\n"
     ]
    },
    {
     "name": "stdout",
     "output_type": "stream",
     "text": [
      "Processing i =  9  out of  100\n",
      "Processing i =  10  out of  100\n"
     ]
    },
    {
     "name": "stderr",
     "output_type": "stream",
     "text": [
      "09:08:45 - cmdstanpy - INFO - Chain [1] start processing\n",
      "09:08:45 - cmdstanpy - INFO - Chain [1] done processing\n",
      "09:08:46 - cmdstanpy - INFO - Chain [1] start processing\n",
      "09:08:46 - cmdstanpy - INFO - Chain [1] done processing\n"
     ]
    },
    {
     "name": "stdout",
     "output_type": "stream",
     "text": [
      "Processing i =  11  out of  100\n",
      "Processing i =  12  out of  100\n"
     ]
    },
    {
     "name": "stderr",
     "output_type": "stream",
     "text": [
      "09:08:46 - cmdstanpy - INFO - Chain [1] start processing\n",
      "09:08:46 - cmdstanpy - INFO - Chain [1] done processing\n",
      "09:08:46 - cmdstanpy - INFO - Chain [1] start processing\n",
      "09:08:46 - cmdstanpy - INFO - Chain [1] done processing\n"
     ]
    },
    {
     "name": "stdout",
     "output_type": "stream",
     "text": [
      "Processing i =  13  out of  100\n",
      "Processing i =  14  out of  100\n"
     ]
    },
    {
     "name": "stderr",
     "output_type": "stream",
     "text": [
      "09:08:46 - cmdstanpy - INFO - Chain [1] start processing\n",
      "09:08:46 - cmdstanpy - INFO - Chain [1] done processing\n",
      "09:08:46 - cmdstanpy - INFO - Chain [1] start processing\n",
      "09:08:46 - cmdstanpy - INFO - Chain [1] done processing\n"
     ]
    },
    {
     "name": "stdout",
     "output_type": "stream",
     "text": [
      "Processing i =  15  out of  100\n",
      "Processing i =  16  out of  100\n"
     ]
    },
    {
     "name": "stderr",
     "output_type": "stream",
     "text": [
      "09:08:47 - cmdstanpy - INFO - Chain [1] start processing\n",
      "09:08:47 - cmdstanpy - INFO - Chain [1] done processing\n",
      "09:08:47 - cmdstanpy - INFO - Chain [1] start processing\n",
      "09:08:47 - cmdstanpy - INFO - Chain [1] done processing\n"
     ]
    },
    {
     "name": "stdout",
     "output_type": "stream",
     "text": [
      "Processing i =  17  out of  100\n",
      "Processing i =  18  out of  100\n"
     ]
    },
    {
     "name": "stderr",
     "output_type": "stream",
     "text": [
      "09:08:47 - cmdstanpy - INFO - Chain [1] start processing\n",
      "09:08:47 - cmdstanpy - INFO - Chain [1] done processing\n",
      "09:08:47 - cmdstanpy - INFO - Chain [1] start processing\n",
      "09:08:47 - cmdstanpy - INFO - Chain [1] done processing\n"
     ]
    },
    {
     "name": "stdout",
     "output_type": "stream",
     "text": [
      "Processing i =  19  out of  100\n",
      "Processing i =  20  out of  100\n"
     ]
    },
    {
     "name": "stderr",
     "output_type": "stream",
     "text": [
      "09:08:47 - cmdstanpy - INFO - Chain [1] start processing\n",
      "09:08:47 - cmdstanpy - INFO - Chain [1] done processing\n",
      "09:08:48 - cmdstanpy - INFO - Chain [1] start processing\n",
      "09:08:48 - cmdstanpy - INFO - Chain [1] done processing\n"
     ]
    },
    {
     "name": "stdout",
     "output_type": "stream",
     "text": [
      "Processing i =  21  out of  100\n",
      "Processing i =  22  out of  100\n"
     ]
    },
    {
     "name": "stderr",
     "output_type": "stream",
     "text": [
      "09:08:48 - cmdstanpy - INFO - Chain [1] start processing\n",
      "09:08:48 - cmdstanpy - INFO - Chain [1] done processing\n",
      "09:08:48 - cmdstanpy - INFO - Chain [1] start processing\n",
      "09:08:48 - cmdstanpy - INFO - Chain [1] done processing\n"
     ]
    },
    {
     "name": "stdout",
     "output_type": "stream",
     "text": [
      "Processing i =  23  out of  100\n",
      "Processing i =  24  out of  100\n"
     ]
    },
    {
     "name": "stderr",
     "output_type": "stream",
     "text": [
      "09:08:48 - cmdstanpy - INFO - Chain [1] start processing\n",
      "09:08:48 - cmdstanpy - INFO - Chain [1] done processing\n",
      "09:08:48 - cmdstanpy - INFO - Chain [1] start processing\n",
      "09:08:48 - cmdstanpy - INFO - Chain [1] done processing\n"
     ]
    },
    {
     "name": "stdout",
     "output_type": "stream",
     "text": [
      "Processing i =  25  out of  100\n",
      "Processing i =  26  out of  100\n"
     ]
    },
    {
     "name": "stderr",
     "output_type": "stream",
     "text": [
      "09:08:49 - cmdstanpy - INFO - Chain [1] start processing\n",
      "09:08:49 - cmdstanpy - INFO - Chain [1] done processing\n",
      "09:08:49 - cmdstanpy - INFO - Chain [1] start processing\n",
      "09:08:49 - cmdstanpy - INFO - Chain [1] done processing\n"
     ]
    },
    {
     "name": "stdout",
     "output_type": "stream",
     "text": [
      "Processing i =  27  out of  100\n",
      "Processing i =  28  out of  100\n"
     ]
    },
    {
     "name": "stderr",
     "output_type": "stream",
     "text": [
      "09:08:49 - cmdstanpy - INFO - Chain [1] start processing\n",
      "09:08:49 - cmdstanpy - INFO - Chain [1] done processing\n",
      "09:08:49 - cmdstanpy - INFO - Chain [1] start processing\n",
      "09:08:49 - cmdstanpy - INFO - Chain [1] done processing\n"
     ]
    },
    {
     "name": "stdout",
     "output_type": "stream",
     "text": [
      "Processing i =  29  out of  100\n",
      "Processing i =  30  out of  100\n"
     ]
    },
    {
     "name": "stderr",
     "output_type": "stream",
     "text": [
      "09:08:49 - cmdstanpy - INFO - Chain [1] start processing\n",
      "09:08:49 - cmdstanpy - INFO - Chain [1] done processing\n",
      "09:08:50 - cmdstanpy - INFO - Chain [1] start processing\n",
      "09:08:50 - cmdstanpy - INFO - Chain [1] done processing\n"
     ]
    },
    {
     "name": "stdout",
     "output_type": "stream",
     "text": [
      "Processing i =  31  out of  100\n"
     ]
    },
    {
     "name": "stderr",
     "output_type": "stream",
     "text": [
      "09:08:50 - cmdstanpy - INFO - Chain [1] start processing\n",
      "09:08:50 - cmdstanpy - INFO - Chain [1] done processing\n"
     ]
    },
    {
     "name": "stdout",
     "output_type": "stream",
     "text": [
      "Processing i =  32  out of  100\n",
      "Processing i =  33  out of  100\n"
     ]
    },
    {
     "name": "stderr",
     "output_type": "stream",
     "text": [
      "09:08:50 - cmdstanpy - INFO - Chain [1] start processing\n",
      "09:08:50 - cmdstanpy - INFO - Chain [1] done processing\n",
      "09:08:50 - cmdstanpy - INFO - Chain [1] start processing\n",
      "09:08:50 - cmdstanpy - INFO - Chain [1] done processing\n"
     ]
    },
    {
     "name": "stdout",
     "output_type": "stream",
     "text": [
      "Processing i =  34  out of  100\n"
     ]
    },
    {
     "name": "stderr",
     "output_type": "stream",
     "text": [
      "09:08:50 - cmdstanpy - INFO - Chain [1] start processing\n"
     ]
    },
    {
     "name": "stdout",
     "output_type": "stream",
     "text": [
      "Processing i =  35  out of  100\n"
     ]
    },
    {
     "name": "stderr",
     "output_type": "stream",
     "text": [
      "09:08:50 - cmdstanpy - INFO - Chain [1] done processing\n",
      "09:08:51 - cmdstanpy - INFO - Chain [1] start processing\n",
      "09:08:51 - cmdstanpy - INFO - Chain [1] done processing\n"
     ]
    },
    {
     "name": "stdout",
     "output_type": "stream",
     "text": [
      "Processing i =  36  out of  100\n"
     ]
    },
    {
     "name": "stderr",
     "output_type": "stream",
     "text": [
      "09:08:51 - cmdstanpy - INFO - Chain [1] start processing\n",
      "09:08:51 - cmdstanpy - INFO - Chain [1] done processing\n"
     ]
    },
    {
     "name": "stdout",
     "output_type": "stream",
     "text": [
      "Processing i =  37  out of  100\n",
      "Processing i =  38  out of  100\n"
     ]
    },
    {
     "name": "stderr",
     "output_type": "stream",
     "text": [
      "09:08:51 - cmdstanpy - INFO - Chain [1] start processing\n",
      "09:08:51 - cmdstanpy - INFO - Chain [1] done processing\n",
      "09:08:51 - cmdstanpy - INFO - Chain [1] start processing\n",
      "09:08:51 - cmdstanpy - INFO - Chain [1] done processing\n"
     ]
    },
    {
     "name": "stdout",
     "output_type": "stream",
     "text": [
      "Processing i =  39  out of  100\n"
     ]
    },
    {
     "name": "stderr",
     "output_type": "stream",
     "text": [
      "09:08:51 - cmdstanpy - INFO - Chain [1] start processing\n",
      "09:08:52 - cmdstanpy - INFO - Chain [1] done processing\n"
     ]
    },
    {
     "name": "stdout",
     "output_type": "stream",
     "text": [
      "Processing i =  40  out of  100\n"
     ]
    },
    {
     "name": "stderr",
     "output_type": "stream",
     "text": [
      "09:08:52 - cmdstanpy - INFO - Chain [1] start processing\n",
      "09:08:52 - cmdstanpy - INFO - Chain [1] done processing\n"
     ]
    },
    {
     "name": "stdout",
     "output_type": "stream",
     "text": [
      "Processing i =  41  out of  100\n",
      "Processing i =  42  out of  100\n"
     ]
    },
    {
     "name": "stderr",
     "output_type": "stream",
     "text": [
      "09:08:52 - cmdstanpy - INFO - Chain [1] start processing\n",
      "09:08:52 - cmdstanpy - INFO - Chain [1] done processing\n",
      "09:08:52 - cmdstanpy - INFO - Chain [1] start processing\n",
      "09:08:52 - cmdstanpy - INFO - Chain [1] done processing\n"
     ]
    },
    {
     "name": "stdout",
     "output_type": "stream",
     "text": [
      "Processing i =  43  out of  100\n"
     ]
    },
    {
     "name": "stderr",
     "output_type": "stream",
     "text": [
      "09:08:52 - cmdstanpy - INFO - Chain [1] start processing\n",
      "09:08:52 - cmdstanpy - INFO - Chain [1] done processing\n"
     ]
    },
    {
     "name": "stdout",
     "output_type": "stream",
     "text": [
      "Processing i =  44  out of  100\n",
      "Processing i =  45  out of  100\n"
     ]
    },
    {
     "name": "stderr",
     "output_type": "stream",
     "text": [
      "09:08:52 - cmdstanpy - INFO - Chain [1] start processing\n",
      "09:08:53 - cmdstanpy - INFO - Chain [1] done processing\n",
      "09:08:53 - cmdstanpy - INFO - Chain [1] start processing\n",
      "09:08:53 - cmdstanpy - INFO - Chain [1] done processing\n"
     ]
    },
    {
     "name": "stdout",
     "output_type": "stream",
     "text": [
      "Processing i =  46  out of  100\n"
     ]
    },
    {
     "name": "stderr",
     "output_type": "stream",
     "text": [
      "09:08:53 - cmdstanpy - INFO - Chain [1] start processing\n",
      "09:08:53 - cmdstanpy - INFO - Chain [1] done processing\n"
     ]
    },
    {
     "name": "stdout",
     "output_type": "stream",
     "text": [
      "Processing i =  47  out of  100\n",
      "Processing i =  48  out of  100\n"
     ]
    },
    {
     "name": "stderr",
     "output_type": "stream",
     "text": [
      "09:08:53 - cmdstanpy - INFO - Chain [1] start processing\n",
      "09:08:53 - cmdstanpy - INFO - Chain [1] done processing\n",
      "09:08:53 - cmdstanpy - INFO - Chain [1] start processing\n",
      "09:08:53 - cmdstanpy - INFO - Chain [1] done processing\n"
     ]
    },
    {
     "name": "stdout",
     "output_type": "stream",
     "text": [
      "Processing i =  49  out of  100\n",
      "Processing i =  50  out of  100\n"
     ]
    },
    {
     "name": "stderr",
     "output_type": "stream",
     "text": [
      "09:08:53 - cmdstanpy - INFO - Chain [1] start processing\n",
      "09:08:54 - cmdstanpy - INFO - Chain [1] done processing\n",
      "09:08:54 - cmdstanpy - INFO - Chain [1] start processing\n",
      "09:08:54 - cmdstanpy - INFO - Chain [1] done processing\n"
     ]
    },
    {
     "name": "stdout",
     "output_type": "stream",
     "text": [
      "Processing i =  51  out of  100\n",
      "Processing i =  52  out of  100\n"
     ]
    },
    {
     "name": "stderr",
     "output_type": "stream",
     "text": [
      "09:08:54 - cmdstanpy - INFO - Chain [1] start processing\n",
      "09:08:54 - cmdstanpy - INFO - Chain [1] done processing\n",
      "09:08:54 - cmdstanpy - INFO - Chain [1] start processing\n",
      "09:08:54 - cmdstanpy - INFO - Chain [1] done processing\n"
     ]
    },
    {
     "name": "stdout",
     "output_type": "stream",
     "text": [
      "Processing i =  53  out of  100\n",
      "Processing i =  54  out of  100\n"
     ]
    },
    {
     "name": "stderr",
     "output_type": "stream",
     "text": [
      "09:08:54 - cmdstanpy - INFO - Chain [1] start processing\n",
      "09:08:54 - cmdstanpy - INFO - Chain [1] done processing\n",
      "09:08:54 - cmdstanpy - INFO - Chain [1] start processing\n",
      "09:08:55 - cmdstanpy - INFO - Chain [1] done processing\n"
     ]
    },
    {
     "name": "stdout",
     "output_type": "stream",
     "text": [
      "Processing i =  55  out of  100\n",
      "Processing i =  56  out of  100\n"
     ]
    },
    {
     "name": "stderr",
     "output_type": "stream",
     "text": [
      "09:08:55 - cmdstanpy - INFO - Chain [1] start processing\n",
      "09:08:55 - cmdstanpy - INFO - Chain [1] done processing\n",
      "09:08:55 - cmdstanpy - INFO - Chain [1] start processing\n",
      "09:08:55 - cmdstanpy - INFO - Chain [1] done processing\n"
     ]
    },
    {
     "name": "stdout",
     "output_type": "stream",
     "text": [
      "Processing i =  57  out of  100\n"
     ]
    },
    {
     "name": "stderr",
     "output_type": "stream",
     "text": [
      "09:08:55 - cmdstanpy - INFO - Chain [1] start processing\n",
      "09:08:55 - cmdstanpy - INFO - Chain [1] done processing\n"
     ]
    },
    {
     "name": "stdout",
     "output_type": "stream",
     "text": [
      "Processing i =  58  out of  100\n"
     ]
    },
    {
     "name": "stderr",
     "output_type": "stream",
     "text": [
      "09:08:55 - cmdstanpy - INFO - Chain [1] start processing\n",
      "09:08:55 - cmdstanpy - INFO - Chain [1] done processing\n"
     ]
    },
    {
     "name": "stdout",
     "output_type": "stream",
     "text": [
      "Processing i =  59  out of  100\n",
      "Processing i =  60  out of  100\n"
     ]
    },
    {
     "name": "stderr",
     "output_type": "stream",
     "text": [
      "09:08:56 - cmdstanpy - INFO - Chain [1] start processing\n",
      "09:08:56 - cmdstanpy - INFO - Chain [1] done processing\n",
      "09:08:56 - cmdstanpy - INFO - Chain [1] start processing\n",
      "09:08:56 - cmdstanpy - INFO - Chain [1] done processing\n"
     ]
    },
    {
     "name": "stdout",
     "output_type": "stream",
     "text": [
      "Processing i =  61  out of  100\n",
      "Processing i =  62  out of  100\n"
     ]
    },
    {
     "name": "stderr",
     "output_type": "stream",
     "text": [
      "09:08:56 - cmdstanpy - INFO - Chain [1] start processing\n",
      "09:08:56 - cmdstanpy - INFO - Chain [1] done processing\n",
      "09:08:56 - cmdstanpy - INFO - Chain [1] start processing\n",
      "09:08:56 - cmdstanpy - INFO - Chain [1] done processing\n"
     ]
    },
    {
     "name": "stdout",
     "output_type": "stream",
     "text": [
      "Processing i =  63  out of  100\n",
      "Processing i =  64  out of  100\n"
     ]
    },
    {
     "name": "stderr",
     "output_type": "stream",
     "text": [
      "09:08:56 - cmdstanpy - INFO - Chain [1] start processing\n",
      "09:08:56 - cmdstanpy - INFO - Chain [1] done processing\n",
      "09:08:57 - cmdstanpy - INFO - Chain [1] start processing\n",
      "09:08:57 - cmdstanpy - INFO - Chain [1] done processing\n"
     ]
    },
    {
     "name": "stdout",
     "output_type": "stream",
     "text": [
      "Processing i =  65  out of  100\n",
      "Processing i =  66  out of  100\n"
     ]
    },
    {
     "name": "stderr",
     "output_type": "stream",
     "text": [
      "09:08:57 - cmdstanpy - INFO - Chain [1] start processing\n",
      "09:08:57 - cmdstanpy - INFO - Chain [1] done processing\n",
      "09:08:57 - cmdstanpy - INFO - Chain [1] start processing\n",
      "09:08:57 - cmdstanpy - INFO - Chain [1] done processing\n"
     ]
    },
    {
     "name": "stdout",
     "output_type": "stream",
     "text": [
      "Processing i =  67  out of  100\n"
     ]
    },
    {
     "name": "stderr",
     "output_type": "stream",
     "text": [
      "09:08:57 - cmdstanpy - INFO - Chain [1] start processing\n",
      "09:08:57 - cmdstanpy - INFO - Chain [1] done processing\n"
     ]
    },
    {
     "name": "stdout",
     "output_type": "stream",
     "text": [
      "Processing i =  68  out of  100\n",
      "Processing i =  69  out of  100\n"
     ]
    },
    {
     "name": "stderr",
     "output_type": "stream",
     "text": [
      "09:08:57 - cmdstanpy - INFO - Chain [1] start processing\n",
      "09:08:57 - cmdstanpy - INFO - Chain [1] done processing\n",
      "09:08:58 - cmdstanpy - INFO - Chain [1] start processing\n",
      "09:08:58 - cmdstanpy - INFO - Chain [1] done processing\n"
     ]
    },
    {
     "name": "stdout",
     "output_type": "stream",
     "text": [
      "Processing i =  70  out of  100\n",
      "Processing i =  71  out of  100\n"
     ]
    },
    {
     "name": "stderr",
     "output_type": "stream",
     "text": [
      "09:08:58 - cmdstanpy - INFO - Chain [1] start processing\n",
      "09:08:58 - cmdstanpy - INFO - Chain [1] done processing\n",
      "09:08:58 - cmdstanpy - INFO - Chain [1] start processing\n",
      "09:08:58 - cmdstanpy - INFO - Chain [1] done processing\n"
     ]
    },
    {
     "name": "stdout",
     "output_type": "stream",
     "text": [
      "Processing i =  72  out of  100\n"
     ]
    },
    {
     "name": "stderr",
     "output_type": "stream",
     "text": [
      "09:08:58 - cmdstanpy - INFO - Chain [1] start processing\n",
      "09:08:58 - cmdstanpy - INFO - Chain [1] done processing\n"
     ]
    },
    {
     "name": "stdout",
     "output_type": "stream",
     "text": [
      "Processing i =  73  out of  100\n",
      "Processing i =  74  out of  100\n"
     ]
    },
    {
     "name": "stderr",
     "output_type": "stream",
     "text": [
      "09:08:58 - cmdstanpy - INFO - Chain [1] start processing\n",
      "09:08:58 - cmdstanpy - INFO - Chain [1] done processing\n",
      "09:08:59 - cmdstanpy - INFO - Chain [1] start processing\n",
      "09:08:59 - cmdstanpy - INFO - Chain [1] done processing\n"
     ]
    },
    {
     "name": "stdout",
     "output_type": "stream",
     "text": [
      "Processing i =  75  out of  100\n"
     ]
    },
    {
     "name": "stderr",
     "output_type": "stream",
     "text": [
      "09:08:59 - cmdstanpy - INFO - Chain [1] start processing\n",
      "09:08:59 - cmdstanpy - INFO - Chain [1] done processing\n"
     ]
    },
    {
     "name": "stdout",
     "output_type": "stream",
     "text": [
      "Processing i =  76  out of  100\n"
     ]
    },
    {
     "name": "stderr",
     "output_type": "stream",
     "text": [
      "09:08:59 - cmdstanpy - INFO - Chain [1] start processing\n",
      "09:08:59 - cmdstanpy - INFO - Chain [1] done processing\n"
     ]
    },
    {
     "name": "stdout",
     "output_type": "stream",
     "text": [
      "Processing i =  77  out of  100\n"
     ]
    },
    {
     "name": "stderr",
     "output_type": "stream",
     "text": [
      "09:08:59 - cmdstanpy - INFO - Chain [1] start processing\n",
      "09:08:59 - cmdstanpy - INFO - Chain [1] done processing\n"
     ]
    },
    {
     "name": "stdout",
     "output_type": "stream",
     "text": [
      "Processing i =  78  out of  100\n"
     ]
    },
    {
     "name": "stderr",
     "output_type": "stream",
     "text": [
      "09:09:00 - cmdstanpy - INFO - Chain [1] start processing\n",
      "09:09:00 - cmdstanpy - INFO - Chain [1] done processing\n"
     ]
    },
    {
     "name": "stdout",
     "output_type": "stream",
     "text": [
      "Processing i =  79  out of  100\n"
     ]
    },
    {
     "name": "stderr",
     "output_type": "stream",
     "text": [
      "09:09:00 - cmdstanpy - INFO - Chain [1] start processing\n"
     ]
    },
    {
     "name": "stdout",
     "output_type": "stream",
     "text": [
      "Processing i =  80  out of  100\n"
     ]
    },
    {
     "name": "stderr",
     "output_type": "stream",
     "text": [
      "09:09:00 - cmdstanpy - INFO - Chain [1] done processing\n",
      "09:09:00 - cmdstanpy - INFO - Chain [1] start processing\n"
     ]
    },
    {
     "name": "stdout",
     "output_type": "stream",
     "text": [
      "Processing i =  81  out of  100\n"
     ]
    },
    {
     "name": "stderr",
     "output_type": "stream",
     "text": [
      "09:09:00 - cmdstanpy - INFO - Chain [1] done processing\n",
      "09:09:00 - cmdstanpy - INFO - Chain [1] start processing\n",
      "09:09:00 - cmdstanpy - INFO - Chain [1] done processing\n"
     ]
    },
    {
     "name": "stdout",
     "output_type": "stream",
     "text": [
      "Processing i =  82  out of  100\n"
     ]
    },
    {
     "name": "stderr",
     "output_type": "stream",
     "text": [
      "09:09:01 - cmdstanpy - INFO - Chain [1] start processing\n"
     ]
    },
    {
     "name": "stdout",
     "output_type": "stream",
     "text": [
      "Processing i =  83  out of  100\n"
     ]
    },
    {
     "name": "stderr",
     "output_type": "stream",
     "text": [
      "09:09:01 - cmdstanpy - INFO - Chain [1] done processing\n",
      "09:09:01 - cmdstanpy - INFO - Chain [1] start processing\n",
      "09:09:01 - cmdstanpy - INFO - Chain [1] done processing\n"
     ]
    },
    {
     "name": "stdout",
     "output_type": "stream",
     "text": [
      "Processing i =  84  out of  100\n"
     ]
    },
    {
     "name": "stderr",
     "output_type": "stream",
     "text": [
      "09:09:01 - cmdstanpy - INFO - Chain [1] start processing\n",
      "09:09:01 - cmdstanpy - INFO - Chain [1] done processing\n"
     ]
    },
    {
     "name": "stdout",
     "output_type": "stream",
     "text": [
      "Processing i =  85  out of  100\n"
     ]
    },
    {
     "name": "stderr",
     "output_type": "stream",
     "text": [
      "09:09:01 - cmdstanpy - INFO - Chain [1] start processing\n",
      "09:09:01 - cmdstanpy - INFO - Chain [1] done processing\n"
     ]
    },
    {
     "name": "stdout",
     "output_type": "stream",
     "text": [
      "Processing i =  86  out of  100\n"
     ]
    },
    {
     "name": "stderr",
     "output_type": "stream",
     "text": [
      "09:09:01 - cmdstanpy - INFO - Chain [1] start processing\n",
      "09:09:02 - cmdstanpy - INFO - Chain [1] done processing\n"
     ]
    },
    {
     "name": "stdout",
     "output_type": "stream",
     "text": [
      "Processing i =  87  out of  100\n"
     ]
    },
    {
     "name": "stderr",
     "output_type": "stream",
     "text": [
      "09:09:02 - cmdstanpy - INFO - Chain [1] start processing\n"
     ]
    },
    {
     "name": "stdout",
     "output_type": "stream",
     "text": [
      "Processing i =  88  out of  100\n"
     ]
    },
    {
     "name": "stderr",
     "output_type": "stream",
     "text": [
      "09:09:02 - cmdstanpy - INFO - Chain [1] done processing\n",
      "09:09:02 - cmdstanpy - INFO - Chain [1] start processing\n",
      "09:09:02 - cmdstanpy - INFO - Chain [1] done processing\n"
     ]
    },
    {
     "name": "stdout",
     "output_type": "stream",
     "text": [
      "Processing i =  89  out of  100\n",
      "Processing i =  90  out of  100\n"
     ]
    },
    {
     "name": "stderr",
     "output_type": "stream",
     "text": [
      "09:09:02 - cmdstanpy - INFO - Chain [1] start processing\n",
      "09:09:02 - cmdstanpy - INFO - Chain [1] done processing\n",
      "09:09:02 - cmdstanpy - INFO - Chain [1] start processing\n",
      "09:09:02 - cmdstanpy - INFO - Chain [1] done processing\n"
     ]
    },
    {
     "name": "stdout",
     "output_type": "stream",
     "text": [
      "Processing i =  91  out of  100\n",
      "Processing i =  92  out of  100\n"
     ]
    },
    {
     "name": "stderr",
     "output_type": "stream",
     "text": [
      "09:09:03 - cmdstanpy - INFO - Chain [1] start processing\n",
      "09:09:03 - cmdstanpy - INFO - Chain [1] done processing\n",
      "09:09:03 - cmdstanpy - INFO - Chain [1] start processing\n",
      "09:09:03 - cmdstanpy - INFO - Chain [1] done processing\n"
     ]
    },
    {
     "name": "stdout",
     "output_type": "stream",
     "text": [
      "Processing i =  93  out of  100\n"
     ]
    },
    {
     "name": "stderr",
     "output_type": "stream",
     "text": [
      "09:09:03 - cmdstanpy - INFO - Chain [1] start processing\n",
      "09:09:03 - cmdstanpy - INFO - Chain [1] done processing\n"
     ]
    },
    {
     "name": "stdout",
     "output_type": "stream",
     "text": [
      "Processing i =  94  out of  100\n"
     ]
    },
    {
     "name": "stderr",
     "output_type": "stream",
     "text": [
      "09:09:03 - cmdstanpy - INFO - Chain [1] start processing\n",
      "09:09:03 - cmdstanpy - INFO - Chain [1] done processing\n"
     ]
    },
    {
     "name": "stdout",
     "output_type": "stream",
     "text": [
      "Processing i =  95  out of  100\n"
     ]
    },
    {
     "name": "stderr",
     "output_type": "stream",
     "text": [
      "09:09:03 - cmdstanpy - INFO - Chain [1] start processing\n"
     ]
    },
    {
     "name": "stdout",
     "output_type": "stream",
     "text": [
      "Processing i =  96  out of  100\n"
     ]
    },
    {
     "name": "stderr",
     "output_type": "stream",
     "text": [
      "09:09:03 - cmdstanpy - INFO - Chain [1] done processing\n",
      "09:09:04 - cmdstanpy - INFO - Chain [1] start processing\n"
     ]
    },
    {
     "name": "stdout",
     "output_type": "stream",
     "text": [
      "Processing i =  97  out of  100\n"
     ]
    },
    {
     "name": "stderr",
     "output_type": "stream",
     "text": [
      "09:09:04 - cmdstanpy - INFO - Chain [1] done processing\n",
      "09:09:04 - cmdstanpy - INFO - Chain [1] start processing\n",
      "09:09:04 - cmdstanpy - INFO - Chain [1] done processing\n"
     ]
    },
    {
     "name": "stdout",
     "output_type": "stream",
     "text": [
      "Processing i =  98  out of  100\n"
     ]
    },
    {
     "name": "stderr",
     "output_type": "stream",
     "text": [
      "09:09:04 - cmdstanpy - INFO - Chain [1] start processing\n",
      "09:09:04 - cmdstanpy - INFO - Chain [1] done processing\n"
     ]
    },
    {
     "name": "stdout",
     "output_type": "stream",
     "text": [
      "Processing i =  99  out of  100\n"
     ]
    },
    {
     "name": "stderr",
     "output_type": "stream",
     "text": [
      "09:09:04 - cmdstanpy - INFO - Chain [1] start processing\n"
     ]
    },
    {
     "name": "stdout",
     "output_type": "stream",
     "text": [
      "Processing i =  100  out of  100\n"
     ]
    },
    {
     "name": "stderr",
     "output_type": "stream",
     "text": [
      "09:09:04 - cmdstanpy - INFO - Chain [1] done processing\n",
      "09:09:05 - cmdstanpy - INFO - Chain [1] start processing\n"
     ]
    },
    {
     "name": "stdout",
     "output_type": "stream",
     "text": [
      "\n",
      "Processing CV 8 / 10....\n"
     ]
    },
    {
     "name": "stderr",
     "output_type": "stream",
     "text": [
      "09:09:05 - cmdstanpy - INFO - Chain [1] done processing\n",
      "C:\\Users\\z5404477\\AppData\\Local\\Temp\\ipykernel_33584\\1029035988.py:39: SettingWithCopyWarning: \n",
      "A value is trying to be set on a copy of a slice from a DataFrame\n",
      "\n",
      "See the caveats in the documentation: https://pandas.pydata.org/pandas-docs/stable/user_guide/indexing.html#returning-a-view-versus-a-copy\n",
      "  X_exog.rename(columns={'datetime': 'ds'}, inplace=True)\n",
      "C:\\Users\\z5404477\\AppData\\Local\\Temp\\ipykernel_33584\\1029035988.py:96: SettingWithCopyWarning: \n",
      "A value is trying to be set on a copy of a slice from a DataFrame\n",
      "\n",
      "See the caveats in the documentation: https://pandas.pydata.org/pandas-docs/stable/user_guide/indexing.html#returning-a-view-versus-a-copy\n",
      "  X_test.rename(columns={'datetime': 'ds'}, inplace=True)\n",
      "09:09:05 - cmdstanpy - INFO - Chain [1] start processing\n"
     ]
    },
    {
     "name": "stdout",
     "output_type": "stream",
     "text": [
      "Processing i =  1  out of  100\n",
      "Processing i =  2  out of  100\n"
     ]
    },
    {
     "name": "stderr",
     "output_type": "stream",
     "text": [
      "09:09:05 - cmdstanpy - INFO - Chain [1] done processing\n",
      "09:09:05 - cmdstanpy - INFO - Chain [1] start processing\n",
      "09:09:05 - cmdstanpy - INFO - Chain [1] done processing\n"
     ]
    },
    {
     "name": "stdout",
     "output_type": "stream",
     "text": [
      "Processing i =  3  out of  100\n",
      "Processing i =  4  out of  100\n"
     ]
    },
    {
     "name": "stderr",
     "output_type": "stream",
     "text": [
      "09:09:06 - cmdstanpy - INFO - Chain [1] start processing\n",
      "09:09:06 - cmdstanpy - INFO - Chain [1] done processing\n",
      "09:09:06 - cmdstanpy - INFO - Chain [1] start processing\n",
      "09:09:06 - cmdstanpy - INFO - Chain [1] done processing\n"
     ]
    },
    {
     "name": "stdout",
     "output_type": "stream",
     "text": [
      "Processing i =  5  out of  100\n",
      "Processing i =  6  out of  100\n"
     ]
    },
    {
     "name": "stderr",
     "output_type": "stream",
     "text": [
      "09:09:06 - cmdstanpy - INFO - Chain [1] start processing\n",
      "09:09:06 - cmdstanpy - INFO - Chain [1] done processing\n",
      "09:09:06 - cmdstanpy - INFO - Chain [1] start processing\n",
      "09:09:06 - cmdstanpy - INFO - Chain [1] done processing\n"
     ]
    },
    {
     "name": "stdout",
     "output_type": "stream",
     "text": [
      "Processing i =  7  out of  100\n",
      "Processing i =  8  out of  100\n"
     ]
    },
    {
     "name": "stderr",
     "output_type": "stream",
     "text": [
      "09:09:06 - cmdstanpy - INFO - Chain [1] start processing\n",
      "09:09:06 - cmdstanpy - INFO - Chain [1] done processing\n",
      "09:09:07 - cmdstanpy - INFO - Chain [1] start processing\n",
      "09:09:07 - cmdstanpy - INFO - Chain [1] done processing\n"
     ]
    },
    {
     "name": "stdout",
     "output_type": "stream",
     "text": [
      "Processing i =  9  out of  100\n",
      "Processing i =  10  out of  100\n"
     ]
    },
    {
     "name": "stderr",
     "output_type": "stream",
     "text": [
      "09:09:07 - cmdstanpy - INFO - Chain [1] start processing\n",
      "09:09:07 - cmdstanpy - INFO - Chain [1] done processing\n",
      "09:09:07 - cmdstanpy - INFO - Chain [1] start processing\n",
      "09:09:07 - cmdstanpy - INFO - Chain [1] done processing\n"
     ]
    },
    {
     "name": "stdout",
     "output_type": "stream",
     "text": [
      "Processing i =  11  out of  100\n",
      "Processing i =  12  out of  100\n"
     ]
    },
    {
     "name": "stderr",
     "output_type": "stream",
     "text": [
      "09:09:07 - cmdstanpy - INFO - Chain [1] start processing\n",
      "09:09:07 - cmdstanpy - INFO - Chain [1] done processing\n",
      "09:09:07 - cmdstanpy - INFO - Chain [1] start processing\n",
      "09:09:07 - cmdstanpy - INFO - Chain [1] done processing\n"
     ]
    },
    {
     "name": "stdout",
     "output_type": "stream",
     "text": [
      "Processing i =  13  out of  100\n",
      "Processing i =  14  out of  100\n"
     ]
    },
    {
     "name": "stderr",
     "output_type": "stream",
     "text": [
      "09:09:07 - cmdstanpy - INFO - Chain [1] start processing\n",
      "09:09:08 - cmdstanpy - INFO - Chain [1] done processing\n",
      "09:09:08 - cmdstanpy - INFO - Chain [1] start processing\n",
      "09:09:08 - cmdstanpy - INFO - Chain [1] done processing\n"
     ]
    },
    {
     "name": "stdout",
     "output_type": "stream",
     "text": [
      "Processing i =  15  out of  100\n",
      "Processing i =  16  out of  100\n"
     ]
    },
    {
     "name": "stderr",
     "output_type": "stream",
     "text": [
      "09:09:08 - cmdstanpy - INFO - Chain [1] start processing\n",
      "09:09:08 - cmdstanpy - INFO - Chain [1] done processing\n",
      "09:09:08 - cmdstanpy - INFO - Chain [1] start processing\n",
      "09:09:08 - cmdstanpy - INFO - Chain [1] done processing\n"
     ]
    },
    {
     "name": "stdout",
     "output_type": "stream",
     "text": [
      "Processing i =  17  out of  100\n"
     ]
    },
    {
     "name": "stderr",
     "output_type": "stream",
     "text": [
      "09:09:08 - cmdstanpy - INFO - Chain [1] start processing\n",
      "09:09:08 - cmdstanpy - INFO - Chain [1] done processing\n"
     ]
    },
    {
     "name": "stdout",
     "output_type": "stream",
     "text": [
      "Processing i =  18  out of  100\n",
      "Processing i =  19  out of  100\n"
     ]
    },
    {
     "name": "stderr",
     "output_type": "stream",
     "text": [
      "09:09:08 - cmdstanpy - INFO - Chain [1] start processing\n",
      "09:09:08 - cmdstanpy - INFO - Chain [1] done processing\n",
      "09:09:09 - cmdstanpy - INFO - Chain [1] start processing\n",
      "09:09:09 - cmdstanpy - INFO - Chain [1] done processing\n"
     ]
    },
    {
     "name": "stdout",
     "output_type": "stream",
     "text": [
      "Processing i =  20  out of  100\n",
      "Processing i =  21  out of  100\n"
     ]
    },
    {
     "name": "stderr",
     "output_type": "stream",
     "text": [
      "09:09:09 - cmdstanpy - INFO - Chain [1] start processing\n",
      "09:09:09 - cmdstanpy - INFO - Chain [1] done processing\n",
      "09:09:09 - cmdstanpy - INFO - Chain [1] start processing\n",
      "09:09:09 - cmdstanpy - INFO - Chain [1] done processing\n"
     ]
    },
    {
     "name": "stdout",
     "output_type": "stream",
     "text": [
      "Processing i =  22  out of  100\n",
      "Processing i =  23  out of  100\n"
     ]
    },
    {
     "name": "stderr",
     "output_type": "stream",
     "text": [
      "09:09:09 - cmdstanpy - INFO - Chain [1] start processing\n",
      "09:09:09 - cmdstanpy - INFO - Chain [1] done processing\n",
      "09:09:09 - cmdstanpy - INFO - Chain [1] start processing\n",
      "09:09:09 - cmdstanpy - INFO - Chain [1] done processing\n"
     ]
    },
    {
     "name": "stdout",
     "output_type": "stream",
     "text": [
      "Processing i =  24  out of  100\n",
      "Processing i =  25  out of  100\n"
     ]
    },
    {
     "name": "stderr",
     "output_type": "stream",
     "text": [
      "09:09:10 - cmdstanpy - INFO - Chain [1] start processing\n",
      "09:09:10 - cmdstanpy - INFO - Chain [1] done processing\n",
      "09:09:10 - cmdstanpy - INFO - Chain [1] start processing\n",
      "09:09:10 - cmdstanpy - INFO - Chain [1] done processing\n"
     ]
    },
    {
     "name": "stdout",
     "output_type": "stream",
     "text": [
      "Processing i =  26  out of  100\n",
      "Processing i =  27  out of  100\n"
     ]
    },
    {
     "name": "stderr",
     "output_type": "stream",
     "text": [
      "09:09:10 - cmdstanpy - INFO - Chain [1] start processing\n",
      "09:09:10 - cmdstanpy - INFO - Chain [1] done processing\n",
      "09:09:10 - cmdstanpy - INFO - Chain [1] start processing\n",
      "09:09:10 - cmdstanpy - INFO - Chain [1] done processing\n"
     ]
    },
    {
     "name": "stdout",
     "output_type": "stream",
     "text": [
      "Processing i =  28  out of  100\n",
      "Processing i =  29  out of  100\n"
     ]
    },
    {
     "name": "stderr",
     "output_type": "stream",
     "text": [
      "09:09:10 - cmdstanpy - INFO - Chain [1] start processing\n",
      "09:09:10 - cmdstanpy - INFO - Chain [1] done processing\n",
      "09:09:11 - cmdstanpy - INFO - Chain [1] start processing\n",
      "09:09:11 - cmdstanpy - INFO - Chain [1] done processing\n"
     ]
    },
    {
     "name": "stdout",
     "output_type": "stream",
     "text": [
      "Processing i =  30  out of  100\n",
      "Processing i =  31  out of  100\n"
     ]
    },
    {
     "name": "stderr",
     "output_type": "stream",
     "text": [
      "09:09:11 - cmdstanpy - INFO - Chain [1] start processing\n",
      "09:09:11 - cmdstanpy - INFO - Chain [1] done processing\n",
      "09:09:11 - cmdstanpy - INFO - Chain [1] start processing\n",
      "09:09:11 - cmdstanpy - INFO - Chain [1] done processing\n"
     ]
    },
    {
     "name": "stdout",
     "output_type": "stream",
     "text": [
      "Processing i =  32  out of  100\n",
      "Processing i =  33  out of  100\n"
     ]
    },
    {
     "name": "stderr",
     "output_type": "stream",
     "text": [
      "09:09:11 - cmdstanpy - INFO - Chain [1] start processing\n",
      "09:09:11 - cmdstanpy - INFO - Chain [1] done processing\n",
      "09:09:11 - cmdstanpy - INFO - Chain [1] start processing\n",
      "09:09:11 - cmdstanpy - INFO - Chain [1] done processing\n"
     ]
    },
    {
     "name": "stdout",
     "output_type": "stream",
     "text": [
      "Processing i =  34  out of  100\n",
      "Processing i =  35  out of  100\n"
     ]
    },
    {
     "name": "stderr",
     "output_type": "stream",
     "text": [
      "09:09:12 - cmdstanpy - INFO - Chain [1] start processing\n",
      "09:09:12 - cmdstanpy - INFO - Chain [1] done processing\n",
      "09:09:12 - cmdstanpy - INFO - Chain [1] start processing\n",
      "09:09:12 - cmdstanpy - INFO - Chain [1] done processing\n"
     ]
    },
    {
     "name": "stdout",
     "output_type": "stream",
     "text": [
      "Processing i =  36  out of  100\n",
      "Processing i =  37  out of  100\n"
     ]
    },
    {
     "name": "stderr",
     "output_type": "stream",
     "text": [
      "09:09:12 - cmdstanpy - INFO - Chain [1] start processing\n",
      "09:09:12 - cmdstanpy - INFO - Chain [1] done processing\n",
      "09:09:12 - cmdstanpy - INFO - Chain [1] start processing\n",
      "09:09:12 - cmdstanpy - INFO - Chain [1] done processing\n"
     ]
    },
    {
     "name": "stdout",
     "output_type": "stream",
     "text": [
      "Processing i =  38  out of  100\n",
      "Processing i =  39  out of  100\n"
     ]
    },
    {
     "name": "stderr",
     "output_type": "stream",
     "text": [
      "09:09:12 - cmdstanpy - INFO - Chain [1] start processing\n",
      "09:09:12 - cmdstanpy - INFO - Chain [1] done processing\n",
      "09:09:13 - cmdstanpy - INFO - Chain [1] start processing\n",
      "09:09:13 - cmdstanpy - INFO - Chain [1] done processing\n"
     ]
    },
    {
     "name": "stdout",
     "output_type": "stream",
     "text": [
      "Processing i =  40  out of  100\n",
      "Processing i =  41  out of  100\n"
     ]
    },
    {
     "name": "stderr",
     "output_type": "stream",
     "text": [
      "09:09:13 - cmdstanpy - INFO - Chain [1] start processing\n",
      "09:09:13 - cmdstanpy - INFO - Chain [1] done processing\n",
      "09:09:13 - cmdstanpy - INFO - Chain [1] start processing\n",
      "09:09:13 - cmdstanpy - INFO - Chain [1] done processing\n"
     ]
    },
    {
     "name": "stdout",
     "output_type": "stream",
     "text": [
      "Processing i =  42  out of  100\n"
     ]
    },
    {
     "name": "stderr",
     "output_type": "stream",
     "text": [
      "09:09:13 - cmdstanpy - INFO - Chain [1] start processing\n",
      "09:09:13 - cmdstanpy - INFO - Chain [1] done processing\n"
     ]
    },
    {
     "name": "stdout",
     "output_type": "stream",
     "text": [
      "Processing i =  43  out of  100\n",
      "Processing i =  44  out of  100\n"
     ]
    },
    {
     "name": "stderr",
     "output_type": "stream",
     "text": [
      "09:09:13 - cmdstanpy - INFO - Chain [1] start processing\n",
      "09:09:13 - cmdstanpy - INFO - Chain [1] done processing\n",
      "09:09:14 - cmdstanpy - INFO - Chain [1] start processing\n",
      "09:09:14 - cmdstanpy - INFO - Chain [1] done processing\n"
     ]
    },
    {
     "name": "stdout",
     "output_type": "stream",
     "text": [
      "Processing i =  45  out of  100\n",
      "Processing i =  46  out of  100\n"
     ]
    },
    {
     "name": "stderr",
     "output_type": "stream",
     "text": [
      "09:09:14 - cmdstanpy - INFO - Chain [1] start processing\n",
      "09:09:14 - cmdstanpy - INFO - Chain [1] done processing\n",
      "09:09:14 - cmdstanpy - INFO - Chain [1] start processing\n",
      "09:09:14 - cmdstanpy - INFO - Chain [1] done processing\n"
     ]
    },
    {
     "name": "stdout",
     "output_type": "stream",
     "text": [
      "Processing i =  47  out of  100\n"
     ]
    },
    {
     "name": "stderr",
     "output_type": "stream",
     "text": [
      "09:09:14 - cmdstanpy - INFO - Chain [1] start processing\n",
      "09:09:14 - cmdstanpy - INFO - Chain [1] done processing\n"
     ]
    },
    {
     "name": "stdout",
     "output_type": "stream",
     "text": [
      "Processing i =  48  out of  100\n"
     ]
    },
    {
     "name": "stderr",
     "output_type": "stream",
     "text": [
      "09:09:14 - cmdstanpy - INFO - Chain [1] start processing\n"
     ]
    },
    {
     "name": "stdout",
     "output_type": "stream",
     "text": [
      "Processing i =  49  out of  100\n"
     ]
    },
    {
     "name": "stderr",
     "output_type": "stream",
     "text": [
      "09:09:14 - cmdstanpy - INFO - Chain [1] done processing\n",
      "09:09:15 - cmdstanpy - INFO - Chain [1] start processing\n",
      "09:09:15 - cmdstanpy - INFO - Chain [1] done processing\n"
     ]
    },
    {
     "name": "stdout",
     "output_type": "stream",
     "text": [
      "Processing i =  50  out of  100\n",
      "Processing i =  51  out of  100\n"
     ]
    },
    {
     "name": "stderr",
     "output_type": "stream",
     "text": [
      "09:09:15 - cmdstanpy - INFO - Chain [1] start processing\n",
      "09:09:15 - cmdstanpy - INFO - Chain [1] done processing\n",
      "09:09:15 - cmdstanpy - INFO - Chain [1] start processing\n",
      "09:09:15 - cmdstanpy - INFO - Chain [1] done processing\n"
     ]
    },
    {
     "name": "stdout",
     "output_type": "stream",
     "text": [
      "Processing i =  52  out of  100\n",
      "Processing i =  53  out of  100\n"
     ]
    },
    {
     "name": "stderr",
     "output_type": "stream",
     "text": [
      "09:09:15 - cmdstanpy - INFO - Chain [1] start processing\n",
      "09:09:15 - cmdstanpy - INFO - Chain [1] done processing\n",
      "09:09:15 - cmdstanpy - INFO - Chain [1] start processing\n",
      "09:09:16 - cmdstanpy - INFO - Chain [1] done processing\n"
     ]
    },
    {
     "name": "stdout",
     "output_type": "stream",
     "text": [
      "Processing i =  54  out of  100\n",
      "Processing i =  55  out of  100\n"
     ]
    },
    {
     "name": "stderr",
     "output_type": "stream",
     "text": [
      "09:09:16 - cmdstanpy - INFO - Chain [1] start processing\n",
      "09:09:16 - cmdstanpy - INFO - Chain [1] done processing\n",
      "09:09:16 - cmdstanpy - INFO - Chain [1] start processing\n"
     ]
    },
    {
     "name": "stdout",
     "output_type": "stream",
     "text": [
      "Processing i =  56  out of  100\n"
     ]
    },
    {
     "name": "stderr",
     "output_type": "stream",
     "text": [
      "09:09:16 - cmdstanpy - INFO - Chain [1] done processing\n",
      "09:09:16 - cmdstanpy - INFO - Chain [1] start processing\n"
     ]
    },
    {
     "name": "stdout",
     "output_type": "stream",
     "text": [
      "Processing i =  57  out of  100\n"
     ]
    },
    {
     "name": "stderr",
     "output_type": "stream",
     "text": [
      "09:09:16 - cmdstanpy - INFO - Chain [1] done processing\n"
     ]
    },
    {
     "name": "stdout",
     "output_type": "stream",
     "text": [
      "Processing i =  58  out of  100\n"
     ]
    },
    {
     "name": "stderr",
     "output_type": "stream",
     "text": [
      "09:09:17 - cmdstanpy - INFO - Chain [1] start processing\n",
      "09:09:17 - cmdstanpy - INFO - Chain [1] done processing\n",
      "09:09:17 - cmdstanpy - INFO - Chain [1] start processing\n"
     ]
    },
    {
     "name": "stdout",
     "output_type": "stream",
     "text": [
      "Processing i =  59  out of  100\n"
     ]
    },
    {
     "name": "stderr",
     "output_type": "stream",
     "text": [
      "09:09:17 - cmdstanpy - INFO - Chain [1] done processing\n",
      "09:09:17 - cmdstanpy - INFO - Chain [1] start processing\n",
      "09:09:17 - cmdstanpy - INFO - Chain [1] done processing\n"
     ]
    },
    {
     "name": "stdout",
     "output_type": "stream",
     "text": [
      "Processing i =  60  out of  100\n",
      "Processing i =  61  out of  100\n"
     ]
    },
    {
     "name": "stderr",
     "output_type": "stream",
     "text": [
      "09:09:17 - cmdstanpy - INFO - Chain [1] start processing\n",
      "09:09:17 - cmdstanpy - INFO - Chain [1] done processing\n",
      "09:09:17 - cmdstanpy - INFO - Chain [1] start processing\n",
      "09:09:18 - cmdstanpy - INFO - Chain [1] done processing\n"
     ]
    },
    {
     "name": "stdout",
     "output_type": "stream",
     "text": [
      "Processing i =  62  out of  100\n"
     ]
    },
    {
     "name": "stderr",
     "output_type": "stream",
     "text": [
      "09:09:18 - cmdstanpy - INFO - Chain [1] start processing\n",
      "09:09:18 - cmdstanpy - INFO - Chain [1] done processing\n"
     ]
    },
    {
     "name": "stdout",
     "output_type": "stream",
     "text": [
      "Processing i =  63  out of  100\n"
     ]
    },
    {
     "name": "stderr",
     "output_type": "stream",
     "text": [
      "09:09:18 - cmdstanpy - INFO - Chain [1] start processing\n"
     ]
    },
    {
     "name": "stdout",
     "output_type": "stream",
     "text": [
      "Processing i =  64  out of  100\n"
     ]
    },
    {
     "name": "stderr",
     "output_type": "stream",
     "text": [
      "09:09:18 - cmdstanpy - INFO - Chain [1] done processing\n",
      "09:09:18 - cmdstanpy - INFO - Chain [1] start processing\n",
      "09:09:18 - cmdstanpy - INFO - Chain [1] done processing\n"
     ]
    },
    {
     "name": "stdout",
     "output_type": "stream",
     "text": [
      "Processing i =  65  out of  100\n"
     ]
    },
    {
     "name": "stderr",
     "output_type": "stream",
     "text": [
      "09:09:18 - cmdstanpy - INFO - Chain [1] start processing\n",
      "09:09:19 - cmdstanpy - INFO - Chain [1] done processing\n"
     ]
    },
    {
     "name": "stdout",
     "output_type": "stream",
     "text": [
      "Processing i =  66  out of  100\n"
     ]
    },
    {
     "name": "stderr",
     "output_type": "stream",
     "text": [
      "09:09:19 - cmdstanpy - INFO - Chain [1] start processing\n",
      "09:09:19 - cmdstanpy - INFO - Chain [1] done processing\n"
     ]
    },
    {
     "name": "stdout",
     "output_type": "stream",
     "text": [
      "Processing i =  67  out of  100\n"
     ]
    },
    {
     "name": "stderr",
     "output_type": "stream",
     "text": [
      "09:09:19 - cmdstanpy - INFO - Chain [1] start processing\n",
      "09:09:19 - cmdstanpy - INFO - Chain [1] done processing\n"
     ]
    },
    {
     "name": "stdout",
     "output_type": "stream",
     "text": [
      "Processing i =  68  out of  100\n"
     ]
    },
    {
     "name": "stderr",
     "output_type": "stream",
     "text": [
      "09:09:19 - cmdstanpy - INFO - Chain [1] start processing\n"
     ]
    },
    {
     "name": "stdout",
     "output_type": "stream",
     "text": [
      "Processing i =  69  out of  100\n"
     ]
    },
    {
     "name": "stderr",
     "output_type": "stream",
     "text": [
      "09:09:19 - cmdstanpy - INFO - Chain [1] done processing\n",
      "09:09:19 - cmdstanpy - INFO - Chain [1] start processing\n",
      "09:09:19 - cmdstanpy - INFO - Chain [1] done processing\n"
     ]
    },
    {
     "name": "stdout",
     "output_type": "stream",
     "text": [
      "Processing i =  70  out of  100\n"
     ]
    },
    {
     "name": "stderr",
     "output_type": "stream",
     "text": [
      "09:09:20 - cmdstanpy - INFO - Chain [1] start processing\n",
      "09:09:20 - cmdstanpy - INFO - Chain [1] done processing\n"
     ]
    },
    {
     "name": "stdout",
     "output_type": "stream",
     "text": [
      "Processing i =  71  out of  100\n",
      "Processing i =  72  out of  100\n"
     ]
    },
    {
     "name": "stderr",
     "output_type": "stream",
     "text": [
      "09:09:20 - cmdstanpy - INFO - Chain [1] start processing\n",
      "09:09:20 - cmdstanpy - INFO - Chain [1] done processing\n",
      "09:09:20 - cmdstanpy - INFO - Chain [1] start processing\n",
      "09:09:20 - cmdstanpy - INFO - Chain [1] done processing\n"
     ]
    },
    {
     "name": "stdout",
     "output_type": "stream",
     "text": [
      "Processing i =  73  out of  100\n",
      "Processing i =  74  out of  100\n"
     ]
    },
    {
     "name": "stderr",
     "output_type": "stream",
     "text": [
      "09:09:21 - cmdstanpy - INFO - Chain [1] start processing\n",
      "09:09:21 - cmdstanpy - INFO - Chain [1] done processing\n",
      "09:09:21 - cmdstanpy - INFO - Chain [1] start processing\n",
      "09:09:21 - cmdstanpy - INFO - Chain [1] done processing\n"
     ]
    },
    {
     "name": "stdout",
     "output_type": "stream",
     "text": [
      "Processing i =  75  out of  100\n"
     ]
    },
    {
     "name": "stderr",
     "output_type": "stream",
     "text": [
      "09:09:21 - cmdstanpy - INFO - Chain [1] start processing\n",
      "09:09:21 - cmdstanpy - INFO - Chain [1] done processing\n"
     ]
    },
    {
     "name": "stdout",
     "output_type": "stream",
     "text": [
      "Processing i =  76  out of  100\n"
     ]
    },
    {
     "name": "stderr",
     "output_type": "stream",
     "text": [
      "09:09:21 - cmdstanpy - INFO - Chain [1] start processing\n",
      "09:09:21 - cmdstanpy - INFO - Chain [1] done processing\n"
     ]
    },
    {
     "name": "stdout",
     "output_type": "stream",
     "text": [
      "Processing i =  77  out of  100\n",
      "Processing i =  78  out of  100\n"
     ]
    },
    {
     "name": "stderr",
     "output_type": "stream",
     "text": [
      "09:09:21 - cmdstanpy - INFO - Chain [1] start processing\n",
      "09:09:21 - cmdstanpy - INFO - Chain [1] done processing\n",
      "09:09:22 - cmdstanpy - INFO - Chain [1] start processing\n",
      "09:09:22 - cmdstanpy - INFO - Chain [1] done processing\n"
     ]
    },
    {
     "name": "stdout",
     "output_type": "stream",
     "text": [
      "Processing i =  79  out of  100\n",
      "Processing i =  80  out of  100\n"
     ]
    },
    {
     "name": "stderr",
     "output_type": "stream",
     "text": [
      "09:09:22 - cmdstanpy - INFO - Chain [1] start processing\n",
      "09:09:22 - cmdstanpy - INFO - Chain [1] done processing\n",
      "09:09:22 - cmdstanpy - INFO - Chain [1] start processing\n",
      "09:09:22 - cmdstanpy - INFO - Chain [1] done processing\n"
     ]
    },
    {
     "name": "stdout",
     "output_type": "stream",
     "text": [
      "Processing i =  81  out of  100\n",
      "Processing i =  82  out of  100\n"
     ]
    },
    {
     "name": "stderr",
     "output_type": "stream",
     "text": [
      "09:09:22 - cmdstanpy - INFO - Chain [1] start processing\n",
      "09:09:22 - cmdstanpy - INFO - Chain [1] done processing\n",
      "09:09:23 - cmdstanpy - INFO - Chain [1] start processing\n"
     ]
    },
    {
     "name": "stdout",
     "output_type": "stream",
     "text": [
      "Processing i =  83  out of  100\n"
     ]
    },
    {
     "name": "stderr",
     "output_type": "stream",
     "text": [
      "09:09:23 - cmdstanpy - INFO - Chain [1] done processing\n",
      "09:09:23 - cmdstanpy - INFO - Chain [1] start processing\n",
      "09:09:23 - cmdstanpy - INFO - Chain [1] done processing\n"
     ]
    },
    {
     "name": "stdout",
     "output_type": "stream",
     "text": [
      "Processing i =  84  out of  100\n"
     ]
    },
    {
     "name": "stderr",
     "output_type": "stream",
     "text": [
      "09:09:23 - cmdstanpy - INFO - Chain [1] start processing\n",
      "09:09:23 - cmdstanpy - INFO - Chain [1] done processing\n"
     ]
    },
    {
     "name": "stdout",
     "output_type": "stream",
     "text": [
      "Processing i =  85  out of  100\n",
      "Processing i =  86  out of  100\n"
     ]
    },
    {
     "name": "stderr",
     "output_type": "stream",
     "text": [
      "09:09:23 - cmdstanpy - INFO - Chain [1] start processing\n",
      "09:09:23 - cmdstanpy - INFO - Chain [1] done processing\n",
      "09:09:23 - cmdstanpy - INFO - Chain [1] start processing\n",
      "09:09:23 - cmdstanpy - INFO - Chain [1] done processing\n"
     ]
    },
    {
     "name": "stdout",
     "output_type": "stream",
     "text": [
      "Processing i =  87  out of  100\n",
      "Processing i =  88  out of  100\n"
     ]
    },
    {
     "name": "stderr",
     "output_type": "stream",
     "text": [
      "09:09:24 - cmdstanpy - INFO - Chain [1] start processing\n",
      "09:09:24 - cmdstanpy - INFO - Chain [1] done processing\n",
      "09:09:24 - cmdstanpy - INFO - Chain [1] start processing\n",
      "09:09:24 - cmdstanpy - INFO - Chain [1] done processing\n"
     ]
    },
    {
     "name": "stdout",
     "output_type": "stream",
     "text": [
      "Processing i =  89  out of  100\n",
      "Processing i =  90  out of  100\n"
     ]
    },
    {
     "name": "stderr",
     "output_type": "stream",
     "text": [
      "09:09:24 - cmdstanpy - INFO - Chain [1] start processing\n",
      "09:09:24 - cmdstanpy - INFO - Chain [1] done processing\n",
      "09:09:24 - cmdstanpy - INFO - Chain [1] start processing\n",
      "09:09:24 - cmdstanpy - INFO - Chain [1] done processing\n"
     ]
    },
    {
     "name": "stdout",
     "output_type": "stream",
     "text": [
      "Processing i =  91  out of  100\n",
      "Processing i =  92  out of  100\n"
     ]
    },
    {
     "name": "stderr",
     "output_type": "stream",
     "text": [
      "09:09:24 - cmdstanpy - INFO - Chain [1] start processing\n",
      "09:09:24 - cmdstanpy - INFO - Chain [1] done processing\n",
      "09:09:25 - cmdstanpy - INFO - Chain [1] start processing\n",
      "09:09:25 - cmdstanpy - INFO - Chain [1] done processing\n"
     ]
    },
    {
     "name": "stdout",
     "output_type": "stream",
     "text": [
      "Processing i =  93  out of  100\n",
      "Processing i =  94  out of  100\n"
     ]
    },
    {
     "name": "stderr",
     "output_type": "stream",
     "text": [
      "09:09:25 - cmdstanpy - INFO - Chain [1] start processing\n",
      "09:09:25 - cmdstanpy - INFO - Chain [1] done processing\n",
      "09:09:25 - cmdstanpy - INFO - Chain [1] start processing\n"
     ]
    },
    {
     "name": "stdout",
     "output_type": "stream",
     "text": [
      "Processing i =  95  out of  100\n"
     ]
    },
    {
     "name": "stderr",
     "output_type": "stream",
     "text": [
      "09:09:25 - cmdstanpy - INFO - Chain [1] done processing\n",
      "09:09:25 - cmdstanpy - INFO - Chain [1] start processing\n",
      "09:09:25 - cmdstanpy - INFO - Chain [1] done processing\n"
     ]
    },
    {
     "name": "stdout",
     "output_type": "stream",
     "text": [
      "Processing i =  96  out of  100\n"
     ]
    },
    {
     "name": "stderr",
     "output_type": "stream",
     "text": [
      "09:09:25 - cmdstanpy - INFO - Chain [1] start processing\n",
      "09:09:25 - cmdstanpy - INFO - Chain [1] done processing\n"
     ]
    },
    {
     "name": "stdout",
     "output_type": "stream",
     "text": [
      "Processing i =  97  out of  100\n",
      "Processing i =  98  out of  100\n"
     ]
    },
    {
     "name": "stderr",
     "output_type": "stream",
     "text": [
      "09:09:26 - cmdstanpy - INFO - Chain [1] start processing\n",
      "09:09:26 - cmdstanpy - INFO - Chain [1] done processing\n",
      "09:09:26 - cmdstanpy - INFO - Chain [1] start processing\n",
      "09:09:26 - cmdstanpy - INFO - Chain [1] done processing\n"
     ]
    },
    {
     "name": "stdout",
     "output_type": "stream",
     "text": [
      "Processing i =  99  out of  100\n"
     ]
    },
    {
     "name": "stderr",
     "output_type": "stream",
     "text": [
      "09:09:26 - cmdstanpy - INFO - Chain [1] start processing\n",
      "09:09:26 - cmdstanpy - INFO - Chain [1] done processing\n"
     ]
    },
    {
     "name": "stdout",
     "output_type": "stream",
     "text": [
      "Processing i =  100  out of  100\n"
     ]
    },
    {
     "name": "stderr",
     "output_type": "stream",
     "text": [
      "09:09:26 - cmdstanpy - INFO - Chain [1] start processing\n"
     ]
    },
    {
     "name": "stdout",
     "output_type": "stream",
     "text": [
      "\n",
      "Processing CV 9 / 10....\n"
     ]
    },
    {
     "name": "stderr",
     "output_type": "stream",
     "text": [
      "09:09:26 - cmdstanpy - INFO - Chain [1] done processing\n",
      "C:\\Users\\z5404477\\AppData\\Local\\Temp\\ipykernel_33584\\1029035988.py:39: SettingWithCopyWarning: \n",
      "A value is trying to be set on a copy of a slice from a DataFrame\n",
      "\n",
      "See the caveats in the documentation: https://pandas.pydata.org/pandas-docs/stable/user_guide/indexing.html#returning-a-view-versus-a-copy\n",
      "  X_exog.rename(columns={'datetime': 'ds'}, inplace=True)\n",
      "C:\\Users\\z5404477\\AppData\\Local\\Temp\\ipykernel_33584\\1029035988.py:96: SettingWithCopyWarning: \n",
      "A value is trying to be set on a copy of a slice from a DataFrame\n",
      "\n",
      "See the caveats in the documentation: https://pandas.pydata.org/pandas-docs/stable/user_guide/indexing.html#returning-a-view-versus-a-copy\n",
      "  X_test.rename(columns={'datetime': 'ds'}, inplace=True)\n",
      "09:09:27 - cmdstanpy - INFO - Chain [1] start processing\n",
      "09:09:27 - cmdstanpy - INFO - Chain [1] done processing\n"
     ]
    },
    {
     "name": "stdout",
     "output_type": "stream",
     "text": [
      "Processing i =  1  out of  100\n",
      "Processing i =  2  out of  100\n"
     ]
    },
    {
     "name": "stderr",
     "output_type": "stream",
     "text": [
      "09:09:27 - cmdstanpy - INFO - Chain [1] start processing\n",
      "09:09:27 - cmdstanpy - INFO - Chain [1] done processing\n"
     ]
    },
    {
     "name": "stdout",
     "output_type": "stream",
     "text": [
      "Processing i =  3  out of  100\n",
      "Processing i =  4  out of  100\n"
     ]
    },
    {
     "name": "stderr",
     "output_type": "stream",
     "text": [
      "09:09:27 - cmdstanpy - INFO - Chain [1] start processing\n",
      "09:09:27 - cmdstanpy - INFO - Chain [1] done processing\n",
      "09:09:27 - cmdstanpy - INFO - Chain [1] start processing\n",
      "09:09:27 - cmdstanpy - INFO - Chain [1] done processing\n"
     ]
    },
    {
     "name": "stdout",
     "output_type": "stream",
     "text": [
      "Processing i =  5  out of  100\n",
      "Processing i =  6  out of  100\n"
     ]
    },
    {
     "name": "stderr",
     "output_type": "stream",
     "text": [
      "09:09:27 - cmdstanpy - INFO - Chain [1] start processing\n",
      "09:09:27 - cmdstanpy - INFO - Chain [1] done processing\n",
      "09:09:27 - cmdstanpy - INFO - Chain [1] start processing\n",
      "09:09:28 - cmdstanpy - INFO - Chain [1] done processing\n"
     ]
    },
    {
     "name": "stdout",
     "output_type": "stream",
     "text": [
      "Processing i =  7  out of  100\n",
      "Processing i =  8  out of  100\n"
     ]
    },
    {
     "name": "stderr",
     "output_type": "stream",
     "text": [
      "09:09:28 - cmdstanpy - INFO - Chain [1] start processing\n",
      "09:09:28 - cmdstanpy - INFO - Chain [1] done processing\n",
      "09:09:28 - cmdstanpy - INFO - Chain [1] start processing\n",
      "09:09:28 - cmdstanpy - INFO - Chain [1] done processing\n"
     ]
    },
    {
     "name": "stdout",
     "output_type": "stream",
     "text": [
      "Processing i =  9  out of  100\n",
      "Processing i =  10  out of  100\n"
     ]
    },
    {
     "name": "stderr",
     "output_type": "stream",
     "text": [
      "09:09:28 - cmdstanpy - INFO - Chain [1] start processing\n",
      "09:09:28 - cmdstanpy - INFO - Chain [1] done processing\n",
      "09:09:28 - cmdstanpy - INFO - Chain [1] start processing\n",
      "09:09:28 - cmdstanpy - INFO - Chain [1] done processing\n"
     ]
    },
    {
     "name": "stdout",
     "output_type": "stream",
     "text": [
      "Processing i =  11  out of  100\n",
      "Processing i =  12  out of  100\n"
     ]
    },
    {
     "name": "stderr",
     "output_type": "stream",
     "text": [
      "09:09:28 - cmdstanpy - INFO - Chain [1] start processing\n",
      "09:09:28 - cmdstanpy - INFO - Chain [1] done processing\n",
      "09:09:29 - cmdstanpy - INFO - Chain [1] start processing\n",
      "09:09:29 - cmdstanpy - INFO - Chain [1] done processing\n"
     ]
    },
    {
     "name": "stdout",
     "output_type": "stream",
     "text": [
      "Processing i =  13  out of  100\n",
      "Processing i =  14  out of  100\n"
     ]
    },
    {
     "name": "stderr",
     "output_type": "stream",
     "text": [
      "09:09:29 - cmdstanpy - INFO - Chain [1] start processing\n",
      "09:09:29 - cmdstanpy - INFO - Chain [1] done processing\n",
      "09:09:29 - cmdstanpy - INFO - Chain [1] start processing\n",
      "09:09:29 - cmdstanpy - INFO - Chain [1] done processing\n"
     ]
    },
    {
     "name": "stdout",
     "output_type": "stream",
     "text": [
      "Processing i =  15  out of  100\n",
      "Processing i =  16  out of  100\n"
     ]
    },
    {
     "name": "stderr",
     "output_type": "stream",
     "text": [
      "09:09:29 - cmdstanpy - INFO - Chain [1] start processing\n",
      "09:09:29 - cmdstanpy - INFO - Chain [1] done processing\n",
      "09:09:29 - cmdstanpy - INFO - Chain [1] start processing\n",
      "09:09:29 - cmdstanpy - INFO - Chain [1] done processing\n"
     ]
    },
    {
     "name": "stdout",
     "output_type": "stream",
     "text": [
      "Processing i =  17  out of  100\n",
      "Processing i =  18  out of  100\n"
     ]
    },
    {
     "name": "stderr",
     "output_type": "stream",
     "text": [
      "09:09:29 - cmdstanpy - INFO - Chain [1] start processing\n",
      "09:09:29 - cmdstanpy - INFO - Chain [1] done processing\n",
      "09:09:30 - cmdstanpy - INFO - Chain [1] start processing\n",
      "09:09:30 - cmdstanpy - INFO - Chain [1] done processing\n"
     ]
    },
    {
     "name": "stdout",
     "output_type": "stream",
     "text": [
      "Processing i =  19  out of  100\n",
      "Processing i =  20  out of  100\n"
     ]
    },
    {
     "name": "stderr",
     "output_type": "stream",
     "text": [
      "09:09:30 - cmdstanpy - INFO - Chain [1] start processing\n",
      "09:09:30 - cmdstanpy - INFO - Chain [1] done processing\n",
      "09:09:30 - cmdstanpy - INFO - Chain [1] start processing\n",
      "09:09:30 - cmdstanpy - INFO - Chain [1] done processing\n"
     ]
    },
    {
     "name": "stdout",
     "output_type": "stream",
     "text": [
      "Processing i =  21  out of  100\n",
      "Processing i =  22  out of  100\n"
     ]
    },
    {
     "name": "stderr",
     "output_type": "stream",
     "text": [
      "09:09:30 - cmdstanpy - INFO - Chain [1] start processing\n",
      "09:09:30 - cmdstanpy - INFO - Chain [1] done processing\n",
      "09:09:30 - cmdstanpy - INFO - Chain [1] start processing\n",
      "09:09:30 - cmdstanpy - INFO - Chain [1] done processing\n"
     ]
    },
    {
     "name": "stdout",
     "output_type": "stream",
     "text": [
      "Processing i =  23  out of  100\n",
      "Processing i =  24  out of  100\n"
     ]
    },
    {
     "name": "stderr",
     "output_type": "stream",
     "text": [
      "09:09:31 - cmdstanpy - INFO - Chain [1] start processing\n",
      "09:09:31 - cmdstanpy - INFO - Chain [1] done processing\n",
      "09:09:31 - cmdstanpy - INFO - Chain [1] start processing\n",
      "09:09:31 - cmdstanpy - INFO - Chain [1] done processing\n"
     ]
    },
    {
     "name": "stdout",
     "output_type": "stream",
     "text": [
      "Processing i =  25  out of  100\n",
      "Processing i =  26  out of  100\n"
     ]
    },
    {
     "name": "stderr",
     "output_type": "stream",
     "text": [
      "09:09:31 - cmdstanpy - INFO - Chain [1] start processing\n",
      "09:09:31 - cmdstanpy - INFO - Chain [1] done processing\n",
      "09:09:31 - cmdstanpy - INFO - Chain [1] start processing\n",
      "09:09:31 - cmdstanpy - INFO - Chain [1] done processing\n"
     ]
    },
    {
     "name": "stdout",
     "output_type": "stream",
     "text": [
      "Processing i =  27  out of  100\n",
      "Processing i =  28  out of  100\n"
     ]
    },
    {
     "name": "stderr",
     "output_type": "stream",
     "text": [
      "09:09:31 - cmdstanpy - INFO - Chain [1] start processing\n",
      "09:09:31 - cmdstanpy - INFO - Chain [1] done processing\n",
      "09:09:31 - cmdstanpy - INFO - Chain [1] start processing\n",
      "09:09:32 - cmdstanpy - INFO - Chain [1] done processing\n"
     ]
    },
    {
     "name": "stdout",
     "output_type": "stream",
     "text": [
      "Processing i =  29  out of  100\n",
      "Processing i =  30  out of  100\n"
     ]
    },
    {
     "name": "stderr",
     "output_type": "stream",
     "text": [
      "09:09:32 - cmdstanpy - INFO - Chain [1] start processing\n",
      "09:09:32 - cmdstanpy - INFO - Chain [1] done processing\n",
      "09:09:32 - cmdstanpy - INFO - Chain [1] start processing\n",
      "09:09:32 - cmdstanpy - INFO - Chain [1] done processing\n"
     ]
    },
    {
     "name": "stdout",
     "output_type": "stream",
     "text": [
      "Processing i =  31  out of  100\n",
      "Processing i =  32  out of  100\n"
     ]
    },
    {
     "name": "stderr",
     "output_type": "stream",
     "text": [
      "09:09:32 - cmdstanpy - INFO - Chain [1] start processing\n",
      "09:09:32 - cmdstanpy - INFO - Chain [1] done processing\n",
      "09:09:32 - cmdstanpy - INFO - Chain [1] start processing\n",
      "09:09:32 - cmdstanpy - INFO - Chain [1] done processing\n"
     ]
    },
    {
     "name": "stdout",
     "output_type": "stream",
     "text": [
      "Processing i =  33  out of  100\n",
      "Processing i =  34  out of  100\n"
     ]
    },
    {
     "name": "stderr",
     "output_type": "stream",
     "text": [
      "09:09:32 - cmdstanpy - INFO - Chain [1] start processing\n",
      "09:09:33 - cmdstanpy - INFO - Chain [1] done processing\n",
      "09:09:33 - cmdstanpy - INFO - Chain [1] start processing\n",
      "09:09:33 - cmdstanpy - INFO - Chain [1] done processing\n"
     ]
    },
    {
     "name": "stdout",
     "output_type": "stream",
     "text": [
      "Processing i =  35  out of  100\n",
      "Processing i =  36  out of  100\n"
     ]
    },
    {
     "name": "stderr",
     "output_type": "stream",
     "text": [
      "09:09:33 - cmdstanpy - INFO - Chain [1] start processing\n",
      "09:09:33 - cmdstanpy - INFO - Chain [1] done processing\n",
      "09:09:33 - cmdstanpy - INFO - Chain [1] start processing\n",
      "09:09:33 - cmdstanpy - INFO - Chain [1] done processing\n"
     ]
    },
    {
     "name": "stdout",
     "output_type": "stream",
     "text": [
      "Processing i =  37  out of  100\n",
      "Processing i =  38  out of  100\n"
     ]
    },
    {
     "name": "stderr",
     "output_type": "stream",
     "text": [
      "09:09:33 - cmdstanpy - INFO - Chain [1] start processing\n",
      "09:09:33 - cmdstanpy - INFO - Chain [1] done processing\n",
      "09:09:33 - cmdstanpy - INFO - Chain [1] start processing\n",
      "09:09:33 - cmdstanpy - INFO - Chain [1] done processing\n"
     ]
    },
    {
     "name": "stdout",
     "output_type": "stream",
     "text": [
      "Processing i =  39  out of  100\n",
      "Processing i =  40  out of  100\n"
     ]
    },
    {
     "name": "stderr",
     "output_type": "stream",
     "text": [
      "09:09:34 - cmdstanpy - INFO - Chain [1] start processing\n",
      "09:09:34 - cmdstanpy - INFO - Chain [1] done processing\n",
      "09:09:34 - cmdstanpy - INFO - Chain [1] start processing\n",
      "09:09:34 - cmdstanpy - INFO - Chain [1] done processing\n"
     ]
    },
    {
     "name": "stdout",
     "output_type": "stream",
     "text": [
      "Processing i =  41  out of  100\n",
      "Processing i =  42  out of  100\n"
     ]
    },
    {
     "name": "stderr",
     "output_type": "stream",
     "text": [
      "09:09:34 - cmdstanpy - INFO - Chain [1] start processing\n",
      "09:09:34 - cmdstanpy - INFO - Chain [1] done processing\n",
      "09:09:34 - cmdstanpy - INFO - Chain [1] start processing\n",
      "09:09:34 - cmdstanpy - INFO - Chain [1] done processing\n"
     ]
    },
    {
     "name": "stdout",
     "output_type": "stream",
     "text": [
      "Processing i =  43  out of  100\n",
      "Processing i =  44  out of  100\n"
     ]
    },
    {
     "name": "stderr",
     "output_type": "stream",
     "text": [
      "09:09:34 - cmdstanpy - INFO - Chain [1] start processing\n",
      "09:09:34 - cmdstanpy - INFO - Chain [1] done processing\n",
      "09:09:34 - cmdstanpy - INFO - Chain [1] start processing\n",
      "09:09:35 - cmdstanpy - INFO - Chain [1] done processing\n"
     ]
    },
    {
     "name": "stdout",
     "output_type": "stream",
     "text": [
      "Processing i =  45  out of  100\n",
      "Processing i =  46  out of  100\n"
     ]
    },
    {
     "name": "stderr",
     "output_type": "stream",
     "text": [
      "09:09:35 - cmdstanpy - INFO - Chain [1] start processing\n",
      "09:09:35 - cmdstanpy - INFO - Chain [1] done processing\n",
      "09:09:35 - cmdstanpy - INFO - Chain [1] start processing\n",
      "09:09:35 - cmdstanpy - INFO - Chain [1] done processing\n"
     ]
    },
    {
     "name": "stdout",
     "output_type": "stream",
     "text": [
      "Processing i =  47  out of  100\n",
      "Processing i =  48  out of  100\n"
     ]
    },
    {
     "name": "stderr",
     "output_type": "stream",
     "text": [
      "09:09:35 - cmdstanpy - INFO - Chain [1] start processing\n",
      "09:09:35 - cmdstanpy - INFO - Chain [1] done processing\n",
      "09:09:35 - cmdstanpy - INFO - Chain [1] start processing\n",
      "09:09:35 - cmdstanpy - INFO - Chain [1] done processing\n"
     ]
    },
    {
     "name": "stdout",
     "output_type": "stream",
     "text": [
      "Processing i =  49  out of  100\n",
      "Processing i =  50  out of  100\n"
     ]
    },
    {
     "name": "stderr",
     "output_type": "stream",
     "text": [
      "09:09:35 - cmdstanpy - INFO - Chain [1] start processing\n",
      "09:09:35 - cmdstanpy - INFO - Chain [1] done processing\n",
      "09:09:36 - cmdstanpy - INFO - Chain [1] start processing\n",
      "09:09:36 - cmdstanpy - INFO - Chain [1] done processing\n"
     ]
    },
    {
     "name": "stdout",
     "output_type": "stream",
     "text": [
      "Processing i =  51  out of  100\n",
      "Processing i =  52  out of  100\n"
     ]
    },
    {
     "name": "stderr",
     "output_type": "stream",
     "text": [
      "09:09:36 - cmdstanpy - INFO - Chain [1] start processing\n",
      "09:09:36 - cmdstanpy - INFO - Chain [1] done processing\n",
      "09:09:36 - cmdstanpy - INFO - Chain [1] start processing\n",
      "09:09:36 - cmdstanpy - INFO - Chain [1] done processing\n"
     ]
    },
    {
     "name": "stdout",
     "output_type": "stream",
     "text": [
      "Processing i =  53  out of  100\n",
      "Processing i =  54  out of  100\n"
     ]
    },
    {
     "name": "stderr",
     "output_type": "stream",
     "text": [
      "09:09:36 - cmdstanpy - INFO - Chain [1] start processing\n",
      "09:09:36 - cmdstanpy - INFO - Chain [1] done processing\n",
      "09:09:36 - cmdstanpy - INFO - Chain [1] start processing\n",
      "09:09:36 - cmdstanpy - INFO - Chain [1] done processing\n"
     ]
    },
    {
     "name": "stdout",
     "output_type": "stream",
     "text": [
      "Processing i =  55  out of  100\n",
      "Processing i =  56  out of  100\n"
     ]
    },
    {
     "name": "stderr",
     "output_type": "stream",
     "text": [
      "09:09:36 - cmdstanpy - INFO - Chain [1] start processing\n",
      "09:09:37 - cmdstanpy - INFO - Chain [1] done processing\n",
      "09:09:37 - cmdstanpy - INFO - Chain [1] start processing\n",
      "09:09:37 - cmdstanpy - INFO - Chain [1] done processing\n"
     ]
    },
    {
     "name": "stdout",
     "output_type": "stream",
     "text": [
      "Processing i =  57  out of  100\n",
      "Processing i =  58  out of  100\n"
     ]
    },
    {
     "name": "stderr",
     "output_type": "stream",
     "text": [
      "09:09:37 - cmdstanpy - INFO - Chain [1] start processing\n",
      "09:09:37 - cmdstanpy - INFO - Chain [1] done processing\n",
      "09:09:37 - cmdstanpy - INFO - Chain [1] start processing\n",
      "09:09:37 - cmdstanpy - INFO - Chain [1] done processing\n"
     ]
    },
    {
     "name": "stdout",
     "output_type": "stream",
     "text": [
      "Processing i =  59  out of  100\n",
      "Processing i =  60  out of  100\n"
     ]
    },
    {
     "name": "stderr",
     "output_type": "stream",
     "text": [
      "09:09:37 - cmdstanpy - INFO - Chain [1] start processing\n",
      "09:09:37 - cmdstanpy - INFO - Chain [1] done processing\n",
      "09:09:37 - cmdstanpy - INFO - Chain [1] start processing\n",
      "09:09:37 - cmdstanpy - INFO - Chain [1] done processing\n"
     ]
    },
    {
     "name": "stdout",
     "output_type": "stream",
     "text": [
      "Processing i =  61  out of  100\n",
      "Processing i =  62  out of  100\n"
     ]
    },
    {
     "name": "stderr",
     "output_type": "stream",
     "text": [
      "09:09:38 - cmdstanpy - INFO - Chain [1] start processing\n",
      "09:09:38 - cmdstanpy - INFO - Chain [1] done processing\n",
      "09:09:38 - cmdstanpy - INFO - Chain [1] start processing\n",
      "09:09:38 - cmdstanpy - INFO - Chain [1] done processing\n"
     ]
    },
    {
     "name": "stdout",
     "output_type": "stream",
     "text": [
      "Processing i =  63  out of  100\n",
      "Processing i =  64  out of  100\n"
     ]
    },
    {
     "name": "stderr",
     "output_type": "stream",
     "text": [
      "09:09:38 - cmdstanpy - INFO - Chain [1] start processing\n",
      "09:09:38 - cmdstanpy - INFO - Chain [1] done processing\n",
      "09:09:38 - cmdstanpy - INFO - Chain [1] start processing\n",
      "09:09:38 - cmdstanpy - INFO - Chain [1] done processing\n"
     ]
    },
    {
     "name": "stdout",
     "output_type": "stream",
     "text": [
      "Processing i =  65  out of  100\n",
      "Processing i =  66  out of  100\n"
     ]
    },
    {
     "name": "stderr",
     "output_type": "stream",
     "text": [
      "09:09:38 - cmdstanpy - INFO - Chain [1] start processing\n",
      "09:09:38 - cmdstanpy - INFO - Chain [1] done processing\n",
      "09:09:39 - cmdstanpy - INFO - Chain [1] start processing\n",
      "09:09:39 - cmdstanpy - INFO - Chain [1] done processing\n"
     ]
    },
    {
     "name": "stdout",
     "output_type": "stream",
     "text": [
      "Processing i =  67  out of  100\n",
      "Processing i =  68  out of  100\n"
     ]
    },
    {
     "name": "stderr",
     "output_type": "stream",
     "text": [
      "09:09:39 - cmdstanpy - INFO - Chain [1] start processing\n",
      "09:09:39 - cmdstanpy - INFO - Chain [1] done processing\n",
      "09:09:39 - cmdstanpy - INFO - Chain [1] start processing\n",
      "09:09:39 - cmdstanpy - INFO - Chain [1] done processing\n"
     ]
    },
    {
     "name": "stdout",
     "output_type": "stream",
     "text": [
      "Processing i =  69  out of  100\n",
      "Processing i =  70  out of  100\n"
     ]
    },
    {
     "name": "stderr",
     "output_type": "stream",
     "text": [
      "09:09:39 - cmdstanpy - INFO - Chain [1] start processing\n",
      "09:09:39 - cmdstanpy - INFO - Chain [1] done processing\n",
      "09:09:39 - cmdstanpy - INFO - Chain [1] start processing\n",
      "09:09:39 - cmdstanpy - INFO - Chain [1] done processing\n"
     ]
    },
    {
     "name": "stdout",
     "output_type": "stream",
     "text": [
      "Processing i =  71  out of  100\n",
      "Processing i =  72  out of  100\n"
     ]
    },
    {
     "name": "stderr",
     "output_type": "stream",
     "text": [
      "09:09:39 - cmdstanpy - INFO - Chain [1] start processing\n",
      "09:09:39 - cmdstanpy - INFO - Chain [1] done processing\n",
      "09:09:40 - cmdstanpy - INFO - Chain [1] start processing\n",
      "09:09:40 - cmdstanpy - INFO - Chain [1] done processing\n"
     ]
    },
    {
     "name": "stdout",
     "output_type": "stream",
     "text": [
      "Processing i =  73  out of  100\n",
      "Processing i =  74  out of  100\n"
     ]
    },
    {
     "name": "stderr",
     "output_type": "stream",
     "text": [
      "09:09:40 - cmdstanpy - INFO - Chain [1] start processing\n",
      "09:09:40 - cmdstanpy - INFO - Chain [1] done processing\n",
      "09:09:40 - cmdstanpy - INFO - Chain [1] start processing\n",
      "09:09:40 - cmdstanpy - INFO - Chain [1] done processing\n"
     ]
    },
    {
     "name": "stdout",
     "output_type": "stream",
     "text": [
      "Processing i =  75  out of  100\n",
      "Processing i =  76  out of  100\n"
     ]
    },
    {
     "name": "stderr",
     "output_type": "stream",
     "text": [
      "09:09:40 - cmdstanpy - INFO - Chain [1] start processing\n",
      "09:09:40 - cmdstanpy - INFO - Chain [1] done processing\n",
      "09:09:40 - cmdstanpy - INFO - Chain [1] start processing\n",
      "09:09:40 - cmdstanpy - INFO - Chain [1] done processing\n"
     ]
    },
    {
     "name": "stdout",
     "output_type": "stream",
     "text": [
      "Processing i =  77  out of  100\n",
      "Processing i =  78  out of  100\n"
     ]
    },
    {
     "name": "stderr",
     "output_type": "stream",
     "text": [
      "09:09:41 - cmdstanpy - INFO - Chain [1] start processing\n",
      "09:09:41 - cmdstanpy - INFO - Chain [1] done processing\n",
      "09:09:41 - cmdstanpy - INFO - Chain [1] start processing\n",
      "09:09:41 - cmdstanpy - INFO - Chain [1] done processing\n"
     ]
    },
    {
     "name": "stdout",
     "output_type": "stream",
     "text": [
      "Processing i =  79  out of  100\n",
      "Processing i =  80  out of  100\n"
     ]
    },
    {
     "name": "stderr",
     "output_type": "stream",
     "text": [
      "09:09:41 - cmdstanpy - INFO - Chain [1] start processing\n",
      "09:09:41 - cmdstanpy - INFO - Chain [1] done processing\n",
      "09:09:41 - cmdstanpy - INFO - Chain [1] start processing\n",
      "09:09:41 - cmdstanpy - INFO - Chain [1] done processing\n"
     ]
    },
    {
     "name": "stdout",
     "output_type": "stream",
     "text": [
      "Processing i =  81  out of  100\n",
      "Processing i =  82  out of  100\n"
     ]
    },
    {
     "name": "stderr",
     "output_type": "stream",
     "text": [
      "09:09:41 - cmdstanpy - INFO - Chain [1] start processing\n",
      "09:09:41 - cmdstanpy - INFO - Chain [1] done processing\n",
      "09:09:42 - cmdstanpy - INFO - Chain [1] start processing\n",
      "09:09:42 - cmdstanpy - INFO - Chain [1] done processing\n"
     ]
    },
    {
     "name": "stdout",
     "output_type": "stream",
     "text": [
      "Processing i =  83  out of  100\n",
      "Processing i =  84  out of  100\n"
     ]
    },
    {
     "name": "stderr",
     "output_type": "stream",
     "text": [
      "09:09:42 - cmdstanpy - INFO - Chain [1] start processing\n",
      "09:09:42 - cmdstanpy - INFO - Chain [1] done processing\n",
      "09:09:42 - cmdstanpy - INFO - Chain [1] start processing\n",
      "09:09:42 - cmdstanpy - INFO - Chain [1] done processing\n"
     ]
    },
    {
     "name": "stdout",
     "output_type": "stream",
     "text": [
      "Processing i =  85  out of  100\n",
      "Processing i =  86  out of  100\n"
     ]
    },
    {
     "name": "stderr",
     "output_type": "stream",
     "text": [
      "09:09:42 - cmdstanpy - INFO - Chain [1] start processing\n",
      "09:09:42 - cmdstanpy - INFO - Chain [1] done processing\n",
      "09:09:42 - cmdstanpy - INFO - Chain [1] start processing\n",
      "09:09:42 - cmdstanpy - INFO - Chain [1] done processing\n"
     ]
    },
    {
     "name": "stdout",
     "output_type": "stream",
     "text": [
      "Processing i =  87  out of  100\n",
      "Processing i =  88  out of  100\n"
     ]
    },
    {
     "name": "stderr",
     "output_type": "stream",
     "text": [
      "09:09:42 - cmdstanpy - INFO - Chain [1] start processing\n",
      "09:09:43 - cmdstanpy - INFO - Chain [1] done processing\n",
      "09:09:43 - cmdstanpy - INFO - Chain [1] start processing\n",
      "09:09:43 - cmdstanpy - INFO - Chain [1] done processing\n"
     ]
    },
    {
     "name": "stdout",
     "output_type": "stream",
     "text": [
      "Processing i =  89  out of  100\n",
      "Processing i =  90  out of  100\n"
     ]
    },
    {
     "name": "stderr",
     "output_type": "stream",
     "text": [
      "09:09:43 - cmdstanpy - INFO - Chain [1] start processing\n",
      "09:09:43 - cmdstanpy - INFO - Chain [1] done processing\n",
      "09:09:43 - cmdstanpy - INFO - Chain [1] start processing\n",
      "09:09:43 - cmdstanpy - INFO - Chain [1] done processing\n"
     ]
    },
    {
     "name": "stdout",
     "output_type": "stream",
     "text": [
      "Processing i =  91  out of  100\n"
     ]
    },
    {
     "name": "stderr",
     "output_type": "stream",
     "text": [
      "09:09:43 - cmdstanpy - INFO - Chain [1] start processing\n",
      "09:09:43 - cmdstanpy - INFO - Chain [1] done processing\n"
     ]
    },
    {
     "name": "stdout",
     "output_type": "stream",
     "text": [
      "Processing i =  92  out of  100\n"
     ]
    },
    {
     "name": "stderr",
     "output_type": "stream",
     "text": [
      "09:09:43 - cmdstanpy - INFO - Chain [1] start processing\n",
      "09:09:44 - cmdstanpy - INFO - Chain [1] done processing\n"
     ]
    },
    {
     "name": "stdout",
     "output_type": "stream",
     "text": [
      "Processing i =  93  out of  100\n",
      "Processing i =  94  out of  100\n"
     ]
    },
    {
     "name": "stderr",
     "output_type": "stream",
     "text": [
      "09:09:44 - cmdstanpy - INFO - Chain [1] start processing\n",
      "09:09:44 - cmdstanpy - INFO - Chain [1] done processing\n",
      "09:09:44 - cmdstanpy - INFO - Chain [1] start processing\n",
      "09:09:44 - cmdstanpy - INFO - Chain [1] done processing\n"
     ]
    },
    {
     "name": "stdout",
     "output_type": "stream",
     "text": [
      "Processing i =  95  out of  100\n",
      "Processing i =  96  out of  100\n"
     ]
    },
    {
     "name": "stderr",
     "output_type": "stream",
     "text": [
      "09:09:44 - cmdstanpy - INFO - Chain [1] start processing\n",
      "09:09:44 - cmdstanpy - INFO - Chain [1] done processing\n",
      "09:09:44 - cmdstanpy - INFO - Chain [1] start processing\n",
      "09:09:44 - cmdstanpy - INFO - Chain [1] done processing\n"
     ]
    },
    {
     "name": "stdout",
     "output_type": "stream",
     "text": [
      "Processing i =  97  out of  100\n",
      "Processing i =  98  out of  100\n"
     ]
    },
    {
     "name": "stderr",
     "output_type": "stream",
     "text": [
      "09:09:44 - cmdstanpy - INFO - Chain [1] start processing\n",
      "09:09:44 - cmdstanpy - INFO - Chain [1] done processing\n",
      "09:09:45 - cmdstanpy - INFO - Chain [1] start processing\n",
      "09:09:45 - cmdstanpy - INFO - Chain [1] done processing\n"
     ]
    },
    {
     "name": "stdout",
     "output_type": "stream",
     "text": [
      "Processing i =  99  out of  100\n",
      "Processing i =  100  out of  100\n"
     ]
    },
    {
     "name": "stderr",
     "output_type": "stream",
     "text": [
      "09:09:45 - cmdstanpy - INFO - Chain [1] start processing\n",
      "09:09:45 - cmdstanpy - INFO - Chain [1] done processing\n"
     ]
    },
    {
     "name": "stdout",
     "output_type": "stream",
     "text": [
      "\n",
      "Processing CV 10 / 10....\n"
     ]
    },
    {
     "name": "stderr",
     "output_type": "stream",
     "text": [
      "09:09:45 - cmdstanpy - INFO - Chain [1] start processing\n",
      "09:09:45 - cmdstanpy - INFO - Chain [1] done processing\n",
      "C:\\Users\\z5404477\\AppData\\Local\\Temp\\ipykernel_33584\\1029035988.py:39: SettingWithCopyWarning: \n",
      "A value is trying to be set on a copy of a slice from a DataFrame\n",
      "\n",
      "See the caveats in the documentation: https://pandas.pydata.org/pandas-docs/stable/user_guide/indexing.html#returning-a-view-versus-a-copy\n",
      "  X_exog.rename(columns={'datetime': 'ds'}, inplace=True)\n"
     ]
    },
    {
     "name": "stdout",
     "output_type": "stream",
     "text": [
      "Test set is before train set / CV 10, no test forecast can be made\n",
      "\n",
      "Running m17_xgb with hyperparameter hp1 on ds0_test.csv for forecast horizon 30\n",
      "Pass Test 1 - Forecast horizon is >= dataset frequency\n",
      "Pass Test 2 - Hyperparameter choice is possible given the forecast horizon\n",
      "Processing CV 1 / 10....\n",
      "\n",
      "Processing CV 2 / 10....\n",
      "\n",
      "Processing CV 3 / 10....\n",
      "\n",
      "Processing CV 4 / 10....\n",
      "\n",
      "Processing CV 5 / 10....\n",
      "\n",
      "Processing CV 6 / 10....\n",
      "\n",
      "Processing CV 7 / 10....\n",
      "\n",
      "Processing CV 8 / 10....\n",
      "\n",
      "Processing CV 9 / 10....\n",
      "\n",
      "Processing CV 10 / 10....\n",
      "\n",
      "Running m18_nbeats with hyperparameter hp1 on ds0_test.csv for forecast horizon 30\n",
      "Pass Test 1 - Forecast horizon is >= dataset frequency\n",
      "Pass Test 2 - Hyperparameter choice is possible given the forecast horizon\n",
      "Processing CV 1 / 10....\n",
      "\n",
      "Processing CV 2 / 10....\n",
      "\n",
      "Processing CV 3 / 10....\n",
      "\n",
      "Processing CV 4 / 10....\n",
      "\n",
      "Processing CV 5 / 10....\n",
      "\n",
      "Processing CV 6 / 10....\n",
      "\n",
      "Processing CV 7 / 10....\n",
      "\n",
      "Processing CV 8 / 10....\n",
      "\n",
      "Processing CV 9 / 10....\n",
      "\n",
      "Processing CV 10 / 10....\n",
      "\n"
     ]
    }
   ],
   "source": [
    "# RUN BATCH FOR ALL COMBINATIONS\n",
    "for dataset in list_dataset:\n",
    "    for forecast_horizon in list_forecast_horizon:\n",
    "        for model_name, hyperparameter_no in list_model_and_hp:\n",
    "            print(f\"Running {model_name} with hyperparameter {hyperparameter_no} on {dataset} for forecast horizon {forecast_horizon}\")\n",
    "            dataset = dataset\n",
    "            forecast_horizon = forecast_horizon # fh1 = 30 minutes ahead, fh9 = 2 days ahead\n",
    "\n",
    "            # MODEL AND HYPERPARAMETER TO CHOOSE\n",
    "            model_name = model_name\n",
    "            hyperparameter_no = hyperparameter_no\n",
    "\n",
    "            # 3. PREPARE FOLDER\n",
    "            hyperparameter, experiment_no_str, filepath = prepare_directory(path_result, forecast_horizon, model_name, hyperparameter_no)\n",
    "\n",
    "            # 4. INPUT DATA\n",
    "            block_length, holdout_df, df = input_and_process(path_data_cleaned, forecast_horizon, max_lag_day, n_block)\n",
    "\n",
    "            # 5. RUN MODEL\n",
    "            run_model(df, model_name, hyperparameter, filepath, forecast_horizon)"
   ]
  },
  {
   "cell_type": "markdown",
   "id": "519383dd",
   "metadata": {},
   "source": [
    "# Populate Last 18 Experiment Cross Validation Results For Testing"
   ]
  },
  {
   "cell_type": "code",
   "execution_count": 96,
   "id": "e7e49780",
   "metadata": {},
   "outputs": [
    {
     "name": "stdout",
     "output_type": "stream",
     "text": [
      "Extracting ..\\..\\experiment_result\\E00001_250819_ds0_fh30_m1_naive_hp1\n",
      "Extracting ..\\..\\experiment_result\\E00002_250819_ds0_fh30_m2_snaive_hp2\n",
      "Extracting ..\\..\\experiment_result\\E00003_250819_ds0_fh30_m3_ets_hp1\n",
      "Extracting ..\\..\\experiment_result\\E00004_250819_ds0_fh30_m4_arima_hp1\n",
      "Extracting ..\\..\\experiment_result\\E00005_250819_ds0_fh30_m5_sarima_hp1\n",
      "Extracting ..\\..\\experiment_result\\E00006_250819_ds0_fh30_m6_lr_hp1\n",
      "Extracting ..\\..\\experiment_result\\E00007_250819_ds0_fh30_m7_ann_hp1\n",
      "Extracting ..\\..\\experiment_result\\E00008_250819_ds0_fh30_m8_dnn_hp1\n",
      "Extracting ..\\..\\experiment_result\\E00009_250819_ds0_fh30_m9_rt_hp3\n",
      "Extracting ..\\..\\experiment_result\\E00010_250819_ds0_fh30_m10_rf_hp1\n",
      "Extracting ..\\..\\experiment_result\\E00011_250819_ds0_fh30_m11_svr_hp1\n",
      "Extracting ..\\..\\experiment_result\\E00012_250819_ds0_fh30_m12_rnn_hp1\n",
      "Extracting ..\\..\\experiment_result\\E00013_250819_ds0_fh30_m13_lstm_hp1\n",
      "Extracting ..\\..\\experiment_result\\E00014_250819_ds0_fh30_m14_gru_hp1\n",
      "Extracting ..\\..\\experiment_result\\E00015_250819_ds0_fh30_m15_transformer_hp1\n",
      "Extracting ..\\..\\experiment_result\\E00016_250819_ds0_fh30_m16_prophet_hp1\n",
      "Extracting ..\\..\\experiment_result\\E00017_250819_ds0_fh30_m17_xgb_hp1\n",
      "Extracting ..\\..\\experiment_result\\E00018_250819_ds0_fh30_m18_nbeats_hp1\n",
      "Exporting 20250819_test_result.csv\n"
     ]
    }
   ],
   "source": [
    "import pandas as pd\n",
    "import os\n",
    "from pathlib import Path\n",
    "import numpy as np\n",
    "from datetime import date\n",
    "\n",
    "exp_result_folder = '../../experiment_result/'\n",
    "benchmark_file = '../../experiment_result/Archive/Testing Result/testing_benchmark.csv'\n",
    "output_folder = '../../experiment_result/Archive/Testing Result/'\n",
    "\n",
    "# Get m1-m18 name\n",
    "\n",
    "# Create an empty Df\n",
    "df = pd.DataFrame()\n",
    "\n",
    "\n",
    "# Compute the number of folder in the experiment result folder \n",
    "def get_number_of_folders(path):\n",
    "    return len([name for name in os.listdir(path) if os.path.isdir(os.path.join(path, name))])\n",
    "\n",
    "# Get the number of folders in the experiment result folder\n",
    "number_of_folders = get_number_of_folders(exp_result_folder)\n",
    "n_experiments = number_of_folders - 1\n",
    "pos_first_naive = n_experiments - 18 + 1\n",
    "parent = Path(exp_result_folder)        # adjust\n",
    "\n",
    "summary_df = pd.DataFrame()\n",
    "\n",
    "for i in range(pos_first_naive, n_experiments + 1):        # 1 → n (change to 0-based if you need)\n",
    "    # “E” + 5-digit zero-padded index, e.g. 1 → E00001, 12 → E00012, 123 → E00123\n",
    "    pattern = f\"E{i:05d}_*\"                  # tail “_*” matches any suffix\n",
    "    for folder in parent.glob(pattern):      # returns Path objects for every match\n",
    "        print('Extracting ' + str(folder))                        # ↪ or os.chdir(folder) / open files here\n",
    "        \n",
    "        # Extract model name\n",
    "        \n",
    "        import re\n",
    "\n",
    "        match = re.search(r\"(m\\d+_[^_]+)\", str(folder))\n",
    "        if match:\n",
    "            model = match.group(1)\n",
    "        \n",
    "        try:\n",
    "            # any file that ends with “…_cross_validation_result[.csv]”\n",
    "            csv_path = next(folder.glob(\"*_cross_validation_result*.csv\"))\n",
    "            result_df = pd.read_csv(csv_path, header=0, skiprows=range(1, 11), nrows=2, index_col=0).T     #  result\n",
    "            \n",
    "            result_df = result_df.stack()\n",
    "            result_df.index = result_df.index.map(lambda x: f\"{x[0]}_{x[1]}\")\n",
    "            result_df = result_df.to_frame(name=\"value, test\")\n",
    "            result_df.index = model + \"_\" + result_df.index.astype(str)\n",
    "\n",
    "            summary_df = pd.concat([summary_df, result_df], axis=0)\n",
    "\n",
    "        except StopIteration:\n",
    "            print(f\"⚠️ no result file in {folder}\")\n",
    "        except Exception as e:\n",
    "            print(f\"⚠️ error reading {folder}: {e}\")\n",
    "\n",
    "# Copy benchmark values\n",
    "benchmark_df = pd.read_csv(benchmark_file, index_col=0)\n",
    "\n",
    "summary_df = pd.concat([benchmark_df, summary_df], axis=1)\n",
    "\n",
    "summary_df['error_percent'] = (\n",
    "    (summary_df['value, test'] - summary_df['value, benchmark']) \n",
    "    / (summary_df['value, benchmark'] + 1e-8) * 100\n",
    ").round(2)\n",
    "\n",
    "summary_df['test_result'] = np.where(summary_df['error_percent'].abs() < 5, 'pass', '>5% Difference')\n",
    "\n",
    "# Create output file name\n",
    "\n",
    "\n",
    "output_file = f\"{date.today().strftime('%Y%m%d')}_test_result.csv\"\n",
    "\n",
    "# Output testing file result\n",
    "print('Exporting ' + output_file)  # e.g. 20250819_test_result.csv\n",
    "summary_df.to_csv(output_folder + output_file, index=True)\n"
   ]
  },
  {
   "cell_type": "code",
   "execution_count": 95,
   "id": "dd310304",
   "metadata": {},
   "outputs": [
    {
     "data": {
      "application/vnd.microsoft.datawrangler.viewer.v0+json": {
       "columns": [
        {
         "name": "index",
         "rawType": "object",
         "type": "string"
        },
        {
         "name": "value, benchmark",
         "rawType": "float64",
         "type": "float"
        },
        {
         "name": "value, test",
         "rawType": "float64",
         "type": "float"
        },
        {
         "name": "error_percent",
         "rawType": "float64",
         "type": "float"
        },
        {
         "name": "test_result",
         "rawType": "object",
         "type": "string"
        }
       ],
       "ref": "4a34ddfd-bdd5-4d9c-9131-995e03131c23",
       "rows": [
        [
         "m1_naive_runtime_ms_mean",
         "1.703381538",
         "1.303720474243164",
         "-23.46",
         "pass"
        ],
        [
         "m1_naive_runtime_ms_stddev",
         "3.138867828",
         "0.8165697907189511",
         "-73.99",
         "pass"
        ],
        [
         "m1_naive_train_MBE_mean",
         "0.017431",
         "0.017431",
         "0.0",
         "pass"
        ],
        [
         "m1_naive_train_MBE_stddev",
         "0.013661965",
         "0.0136619654109095",
         "0.0",
         "pass"
        ],
        [
         "m1_naive_train_MAE_mean",
         "28.644",
         "28.644",
         "0.0",
         "pass"
        ],
        [
         "m1_naive_train_MAE_stddev",
         "0.339041459",
         "0.3390414592805894",
         "0.0",
         "pass"
        ],
        [
         "m1_naive_train_RMSE_mean",
         "38.1037",
         "38.1037",
         "0.0",
         "pass"
        ],
        [
         "m1_naive_train_RMSE_stddev",
         "0.44070223",
         "0.4407022300324284",
         "0.0",
         "pass"
        ],
        [
         "m1_naive_train_MAPE_mean",
         "71.6522",
         "71.65220000000001",
         "0.0",
         "pass"
        ],
        [
         "m1_naive_train_MAPE_stddev",
         "8.860581243",
         "8.860581242534575",
         "-0.0",
         "pass"
        ],
        [
         "m1_naive_train_MASE_mean",
         "1.0",
         "1.0",
         "0.0",
         "pass"
        ],
        [
         "m1_naive_train_MASE_stddev",
         "0.0",
         "0.0",
         "0.0",
         "pass"
        ],
        [
         "m1_naive_train_fskill_mean",
         "0.0",
         "0.0",
         "0.0",
         "pass"
        ],
        [
         "m1_naive_train_fskill_stddev",
         "0.0",
         "0.0",
         "0.0",
         "pass"
        ],
        [
         "m1_naive_train_R2_mean",
         "0.9419",
         "0.9418999999999998",
         "-0.0",
         "pass"
        ],
        [
         "m1_naive_train_R2_stddev",
         "0.000737865",
         "0.0007378647873726",
         "-0.0",
         "pass"
        ],
        [
         "m1_naive_test_MBE_mean",
         "0.017366",
         "0.017366",
         "0.0",
         "pass"
        ],
        [
         "m1_naive_test_MBE_stddev",
         "0.122894116",
         "0.1228941164128246",
         "0.0",
         "pass"
        ],
        [
         "m1_naive_test_MAE_mean",
         "28.6415",
         "28.6415",
         "0.0",
         "pass"
        ],
        [
         "m1_naive_test_MAE_stddev",
         "3.050673742",
         "3.050673741614756",
         "-0.0",
         "pass"
        ],
        [
         "m1_naive_test_RMSE_mean",
         "37.9093",
         "37.9093",
         "0.0",
         "pass"
        ],
        [
         "m1_naive_test_RMSE_stddev",
         "4.044132514",
         "4.044132513764713",
         "-0.0",
         "pass"
        ],
        [
         "m1_naive_test_MAPE_mean",
         "71.6464",
         "71.64639999999999",
         "-0.0",
         "pass"
        ],
        [
         "m1_naive_test_MAPE_stddev",
         "79.75359791",
         "79.75359790866979",
         "-0.0",
         "pass"
        ],
        [
         "m1_naive_test_MASE_mean",
         "1.0012",
         "1.0012",
         "0.0",
         "pass"
        ],
        [
         "m1_naive_test_MASE_stddev",
         "0.117835856",
         "0.1178358557014328",
         "-0.0",
         "pass"
        ],
        [
         "m1_naive_test_fskill_mean",
         "0.0",
         "0.0",
         "0.0",
         "pass"
        ],
        [
         "m1_naive_test_fskill_stddev",
         "0.0",
         "0.0",
         "0.0",
         "pass"
        ],
        [
         "m1_naive_test_R2_mean",
         "0.9387",
         "0.9387",
         "0.0",
         "pass"
        ],
        [
         "m1_naive_test_R2_stddev",
         "0.006464433",
         "0.0064644326037857",
         "-0.0",
         "pass"
        ],
        [
         "m1_naive_train_nRMSE_mean",
         "6.556693545",
         "6.556693544779071",
         "-0.0",
         "pass"
        ],
        [
         "m1_naive_train_nRMSE_stddev",
         "0.075833829",
         "0.0758338289148656",
         "-0.0",
         "pass"
        ],
        [
         "m1_naive_test_nRMSE_mean",
         "6.523242168",
         "6.523242168007132",
         "0.0",
         "pass"
        ],
        [
         "m1_naive_test_nRMSE_stddev",
         "0.695894035",
         "0.6958940351522883",
         "0.0",
         "pass"
        ],
        [
         "m2_snaive_runtime_ms_mean",
         "0.698852539",
         "1.0982751846313477",
         "57.15",
         "fail"
        ],
        [
         "m2_snaive_runtime_ms_stddev",
         "0.959757989",
         "1.1957008189755949",
         "24.58",
         "fail"
        ],
        [
         "m2_snaive_train_MBE_mean",
         "11.797289",
         "11.797289000000005",
         "0.0",
         "pass"
        ],
        [
         "m2_snaive_train_MBE_stddev",
         "1.911391731",
         "1.9113917311649005",
         "0.0",
         "pass"
        ],
        [
         "m2_snaive_train_MAE_mean",
         "54.0775",
         "54.0775",
         "0.0",
         "pass"
        ],
        [
         "m2_snaive_train_MAE_stddev",
         "0.753597778",
         "0.7535977780693851",
         "0.0",
         "pass"
        ],
        [
         "m2_snaive_train_RMSE_mean",
         "80.7955",
         "80.79550000000002",
         "0.0",
         "pass"
        ],
        [
         "m2_snaive_train_RMSE_stddev",
         "0.996096632",
         "0.9960966318585768",
         "-0.0",
         "pass"
        ],
        [
         "m2_snaive_train_MAPE_mean",
         "112.0509",
         "112.0509",
         "0.0",
         "pass"
        ],
        [
         "m2_snaive_train_MAPE_stddev",
         "8.495178076",
         "8.495178076087898",
         "0.0",
         "pass"
        ],
        [
         "m2_snaive_train_MASE_mean",
         "1.8882",
         "1.8882",
         "0.0",
         "pass"
        ],
        [
         "m2_snaive_train_MASE_stddev",
         "0.038334203",
         "0.0383342028886881",
         "-0.0",
         "pass"
        ],
        [
         "m2_snaive_train_fskill_mean",
         "-112.0679",
         "-112.0679",
         "-0.0",
         "pass"
        ],
        [
         "m2_snaive_train_fskill_stddev",
         "3.655591317",
         "3.655591317116532",
         "0.0",
         "pass"
        ],
        [
         "m2_snaive_train_R2_mean",
         "0.7582",
         "0.7582000000000001",
         "0.0",
         "pass"
        ],
        [
         "m2_snaive_train_R2_stddev",
         "0.006795423",
         "0.0067954232964384",
         "0.0",
         "pass"
        ]
       ],
       "shape": {
        "columns": 4,
        "rows": 612
       }
      },
      "text/html": [
       "<div>\n",
       "<style scoped>\n",
       "    .dataframe tbody tr th:only-of-type {\n",
       "        vertical-align: middle;\n",
       "    }\n",
       "\n",
       "    .dataframe tbody tr th {\n",
       "        vertical-align: top;\n",
       "    }\n",
       "\n",
       "    .dataframe thead th {\n",
       "        text-align: right;\n",
       "    }\n",
       "</style>\n",
       "<table border=\"1\" class=\"dataframe\">\n",
       "  <thead>\n",
       "    <tr style=\"text-align: right;\">\n",
       "      <th></th>\n",
       "      <th>value, benchmark</th>\n",
       "      <th>value, test</th>\n",
       "      <th>error_percent</th>\n",
       "      <th>test_result</th>\n",
       "    </tr>\n",
       "  </thead>\n",
       "  <tbody>\n",
       "    <tr>\n",
       "      <th>m1_naive_runtime_ms_mean</th>\n",
       "      <td>1.703382</td>\n",
       "      <td>1.303720</td>\n",
       "      <td>-23.46</td>\n",
       "      <td>pass</td>\n",
       "    </tr>\n",
       "    <tr>\n",
       "      <th>m1_naive_runtime_ms_stddev</th>\n",
       "      <td>3.138868</td>\n",
       "      <td>0.816570</td>\n",
       "      <td>-73.99</td>\n",
       "      <td>pass</td>\n",
       "    </tr>\n",
       "    <tr>\n",
       "      <th>m1_naive_train_MBE_mean</th>\n",
       "      <td>0.017431</td>\n",
       "      <td>0.017431</td>\n",
       "      <td>0.00</td>\n",
       "      <td>pass</td>\n",
       "    </tr>\n",
       "    <tr>\n",
       "      <th>m1_naive_train_MBE_stddev</th>\n",
       "      <td>0.013662</td>\n",
       "      <td>0.013662</td>\n",
       "      <td>0.00</td>\n",
       "      <td>pass</td>\n",
       "    </tr>\n",
       "    <tr>\n",
       "      <th>m1_naive_train_MAE_mean</th>\n",
       "      <td>28.644000</td>\n",
       "      <td>28.644000</td>\n",
       "      <td>0.00</td>\n",
       "      <td>pass</td>\n",
       "    </tr>\n",
       "    <tr>\n",
       "      <th>...</th>\n",
       "      <td>...</td>\n",
       "      <td>...</td>\n",
       "      <td>...</td>\n",
       "      <td>...</td>\n",
       "    </tr>\n",
       "    <tr>\n",
       "      <th>m18_nbeats_test_R2_stddev</th>\n",
       "      <td>0.086424</td>\n",
       "      <td>0.086424</td>\n",
       "      <td>0.00</td>\n",
       "      <td>pass</td>\n",
       "    </tr>\n",
       "    <tr>\n",
       "      <th>m18_nbeats_train_nRMSE_mean</th>\n",
       "      <td>44.421604</td>\n",
       "      <td>44.421604</td>\n",
       "      <td>-0.00</td>\n",
       "      <td>pass</td>\n",
       "    </tr>\n",
       "    <tr>\n",
       "      <th>m18_nbeats_train_nRMSE_stddev</th>\n",
       "      <td>0.625561</td>\n",
       "      <td>0.625561</td>\n",
       "      <td>0.00</td>\n",
       "      <td>pass</td>\n",
       "    </tr>\n",
       "    <tr>\n",
       "      <th>m18_nbeats_test_nRMSE_mean</th>\n",
       "      <td>43.065120</td>\n",
       "      <td>43.065120</td>\n",
       "      <td>-0.00</td>\n",
       "      <td>pass</td>\n",
       "    </tr>\n",
       "    <tr>\n",
       "      <th>m18_nbeats_test_nRMSE_stddev</th>\n",
       "      <td>16.672282</td>\n",
       "      <td>16.672282</td>\n",
       "      <td>-0.00</td>\n",
       "      <td>pass</td>\n",
       "    </tr>\n",
       "  </tbody>\n",
       "</table>\n",
       "<p>612 rows × 4 columns</p>\n",
       "</div>"
      ],
      "text/plain": [
       "                               value, benchmark  value, test  error_percent  \\\n",
       "m1_naive_runtime_ms_mean               1.703382     1.303720         -23.46   \n",
       "m1_naive_runtime_ms_stddev             3.138868     0.816570         -73.99   \n",
       "m1_naive_train_MBE_mean                0.017431     0.017431           0.00   \n",
       "m1_naive_train_MBE_stddev              0.013662     0.013662           0.00   \n",
       "m1_naive_train_MAE_mean               28.644000    28.644000           0.00   \n",
       "...                                         ...          ...            ...   \n",
       "m18_nbeats_test_R2_stddev              0.086424     0.086424           0.00   \n",
       "m18_nbeats_train_nRMSE_mean           44.421604    44.421604          -0.00   \n",
       "m18_nbeats_train_nRMSE_stddev          0.625561     0.625561           0.00   \n",
       "m18_nbeats_test_nRMSE_mean            43.065120    43.065120          -0.00   \n",
       "m18_nbeats_test_nRMSE_stddev          16.672282    16.672282          -0.00   \n",
       "\n",
       "                              test_result  \n",
       "m1_naive_runtime_ms_mean             pass  \n",
       "m1_naive_runtime_ms_stddev           pass  \n",
       "m1_naive_train_MBE_mean              pass  \n",
       "m1_naive_train_MBE_stddev            pass  \n",
       "m1_naive_train_MAE_mean              pass  \n",
       "...                                   ...  \n",
       "m18_nbeats_test_R2_stddev            pass  \n",
       "m18_nbeats_train_nRMSE_mean          pass  \n",
       "m18_nbeats_train_nRMSE_stddev        pass  \n",
       "m18_nbeats_test_nRMSE_mean           pass  \n",
       "m18_nbeats_test_nRMSE_stddev         pass  \n",
       "\n",
       "[612 rows x 4 columns]"
      ]
     },
     "execution_count": 95,
     "metadata": {},
     "output_type": "execute_result"
    }
   ],
   "source": [
    "summary_df"
   ]
  }
 ],
 "metadata": {
  "kernelspec": {
   "display_name": ".venv (3.12.3)",
   "language": "python",
   "name": "python3"
  },
  "language_info": {
   "codemirror_mode": {
    "name": "ipython",
    "version": 3
   },
   "file_extension": ".py",
   "mimetype": "text/x-python",
   "name": "python",
   "nbconvert_exporter": "python",
   "pygments_lexer": "ipython3",
   "version": "3.12.3"
  }
 },
 "nbformat": 4,
 "nbformat_minor": 5
}
