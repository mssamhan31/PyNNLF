{
 "cells": [
  {
   "cell_type": "code",
   "execution_count": 2,
   "metadata": {},
   "outputs": [
    {
     "name": "stdout",
     "output_type": "stream",
     "text": [
      "Pass Test 1 - Forecast horizon is >= dataset frequency\n",
      "Pass Test 2 - Hyperparameter choice is possible given the forecast horizon\n",
      "Processing CV 1 / 10....\n",
      "\n",
      "Processing CV 2 / 10....\n",
      "\n",
      "Processing CV 3 / 10....\n",
      "\n",
      "Processing CV 4 / 10....\n",
      "\n",
      "Processing CV 5 / 10....\n",
      "\n",
      "Processing CV 6 / 10....\n",
      "\n",
      "Processing CV 7 / 10....\n",
      "\n",
      "Processing CV 8 / 10....\n",
      "\n",
      "Processing CV 9 / 10....\n",
      "\n",
      "Processing CV 10 / 10....\n",
      "\n"
     ]
    }
   ],
   "source": [
    "# 1. RUN CONFIG\n",
    "%run \"../config/config.ipynb\"\n",
    "\n",
    "# 2. SETUP FORECAST PROBLEM AND MODEL SPECIFICATION (USER TO INPUT)\n",
    "# FORECAST PROBLEM\n",
    "dataset = ds12\n",
    "forecast_horizon = fh8 # fh1 = 30 minutes ahead, fh9 = 2 days ahead\n",
    "# MODEL SPECIFICATION\n",
    "model_name = m6\n",
    "hyperparameter_no = 'hp1'\n",
    "\n",
    "# 3. PREPARE FOLDER\n",
    "hyperparameter, experiment_no_str, filepath = prepare_directory(path_result, forecast_horizon, model_name, hyperparameter_no)\n",
    "# 4. INPUT DATA\n",
    "block_length, holdout_df, df = input_and_process(path_data_cleaned, forecast_horizon, max_lag_day, n_block)\n",
    "# 5. RUN MODEL\n",
    "run_model(df, model_name, hyperparameter, filepath, forecast_horizon)"
   ]
  },
  {
   "cell_type": "code",
   "execution_count": null,
   "metadata": {},
   "outputs": [],
   "source": []
  }
 ],
 "metadata": {
  "kernelspec": {
   "display_name": ".venv (3.12.3)",
   "language": "python",
   "name": "python3"
  },
  "language_info": {
   "codemirror_mode": {
    "name": "ipython",
    "version": 3
   },
   "file_extension": ".py",
   "mimetype": "text/x-python",
   "name": "python",
   "nbconvert_exporter": "python",
   "pygments_lexer": "ipython3",
   "version": "3.12.3"
  }
 },
 "nbformat": 4,
 "nbformat_minor": 2
}
