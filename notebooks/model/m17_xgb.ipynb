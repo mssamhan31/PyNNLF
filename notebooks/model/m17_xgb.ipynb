{
 "cells": [
  {
   "cell_type": "code",
   "execution_count": 3,
   "metadata": {},
   "outputs": [],
   "source": [
    "# IMPORT IMPORTANT LIBRARY\n",
    "import numpy as np\n",
    "import pandas as pd\n",
    "from xgboost import XGBRegressor"
   ]
  },
  {
   "cell_type": "code",
   "execution_count": null,
   "metadata": {},
   "outputs": [],
   "source": [
    "def train_model_m17_xgb(hyperparameter, train_df_X, train_df_y):\n",
    "    \"\"\"\n",
    "    Train an XGBoost regressor for point forecasting.\n",
    "\n",
    "    Args:\n",
    "        hyperparameter (dict): Dictionary containing model hyperparameters (e.g., n_estimators, learning_rate, max_depth, subsample, colsample_bytree, xgb_seed).\n",
    "        train_df_X (pd.DataFrame): Features matrix for training.\n",
    "        train_df_y (pd.DataFrame): Target vector for training.\n",
    "\n",
    "    Returns:\n",
    "        model (dict): Dictionary containing the trained XGBoost model under the key 'xgb'.\n",
    "    \"\"\"\n",
    "    \n",
    "    #UNPACK HYPERPARAMETER\n",
    "    xgb_seed = int(hyperparameter[\"xgb_seed\"])\n",
    "    n_estimators=hyperparameter[\"n_estimators\"]\n",
    "    learning_rate=hyperparameter[\"learning_rate\"]\n",
    "    max_depth=hyperparameter[\"max_depth\"]\n",
    "    subsample=hyperparameter[\"subsample\"]\n",
    "    colsample_bytree=hyperparameter[\"colsample_bytree\"]\n",
    "    \n",
    "    #INITIALIZE AND TRAIN MODEL\n",
    "    xgb = XGBRegressor(n_estimators=200, learning_rate=0.1, max_depth=6, subsample=0.8, colsample_bytree=0.8, random_state=xgb_seed)   \n",
    "    xgb.fit(train_df_X, train_df_y)   \n",
    "  \n",
    "    # PACK MODEL\n",
    "    model = {\"xgb\": xgb}\n",
    "  \n",
    "\n",
    "    return model"
   ]
  },
  {
   "cell_type": "code",
   "execution_count": null,
   "metadata": {},
   "outputs": [],
   "source": [
    "def produce_forecast_m17_xgb(model, train_df_X, test_df_X):\n",
    "    \"\"\"\n",
    "    Generate point forecasts for train and test sets using a trained XGBoost model.\n",
    "\n",
    "    Args:\n",
    "        model (dict): Dictionary containing the trained XGBoost model under the key 'xgb'.\n",
    "        train_df_X (pd.DataFrame): Feature matrix for the training set.\n",
    "        test_df_X (pd.DataFrame): Feature matrix for the test set.\n",
    "\n",
    "    Returns:\n",
    "        train_df_y_hat (np.ndarray): Predicted values for the training set.\n",
    "        test_df_y_hat (np.ndarray): Predicted values for the test set.\n",
    "    \"\"\"\n",
    "    \n",
    "    # UNPACK MODEL\n",
    "    xgb = model[\"xgb\"]\n",
    "    \n",
    "    # PRODUCE FORECAST\n",
    "    train_df_y_hat = xgb.predict(train_df_X)\n",
    "    test_df_y_hat = xgb.predict(test_df_X)\n",
    "    \n",
    "    return train_df_y_hat, test_df_y_hat"
   ]
  }
 ],
 "metadata": {
  "kernelspec": {
   "display_name": ".venv",
   "language": "python",
   "name": "python3"
  },
  "language_info": {
   "codemirror_mode": {
    "name": "ipython",
    "version": 3
   },
   "file_extension": ".py",
   "mimetype": "text/x-python",
   "name": "python",
   "nbconvert_exporter": "python",
   "pygments_lexer": "ipython3",
   "version": "3.12.3"
  }
 },
 "nbformat": 4,
 "nbformat_minor": 2
}
