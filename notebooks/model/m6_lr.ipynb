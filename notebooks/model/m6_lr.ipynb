{
 "cells": [
  {
   "cell_type": "code",
   "execution_count": null,
   "metadata": {},
   "outputs": [],
   "source": [
    "import sklearn\n",
    "from sklearn.feature_selection import SelectKBest, chi2, f_regression\n",
    "from sklearn.linear_model import LinearRegression"
   ]
  },
  {
   "cell_type": "code",
   "execution_count": null,
   "metadata": {},
   "outputs": [],
   "source": [
    "def train_model_m6_lr(hyperparameter, train_df_X, train_df_y):\n",
    "    ''' Train and test a linear model for point forecasting. \n",
    "        \n",
    "    Args:\n",
    "        hyperparameter (df) : hyperparameter value of the model consisting of number of features\n",
    "        train_df_X (df) : features matrix for training\n",
    "        train_df_y (df) : target matrix for training\n",
    "\n",
    "    \n",
    "    Returns:\n",
    "        model (dictionary) : trained model with all features\n",
    "    '''\n",
    "    \n",
    "    #UNPACK HYPERPARAMETER\n",
    "    num_feature = int(hyperparameter['num_features'])\n",
    "    \n",
    "    # FEATURE SELECTOR\n",
    "    def select_features(train_df_X, train_df_y, num_feature):\n",
    "        ''' Make model to select K best feature. \n",
    "            \n",
    "        Args:\n",
    "            train_df_X (df) : features matrix for training\n",
    "            train_df_y (df) : target matrix for training\n",
    "        \n",
    "        Returns:\n",
    "            fs_lr (model) : feature selector\n",
    "        '''\n",
    "        \n",
    "        train_df_y = train_df_y.values.ravel()\n",
    "        fs_lr = SelectKBest(f_regression, k = num_feature)\n",
    "        fs_lr.fit(train_df_X, train_df_y)\n",
    "        \n",
    "        return fs_lr\n",
    "\n",
    "    fs_lr = select_features(train_df_X, train_df_y, num_feature)\n",
    "    \n",
    "    #TRAIN MODEL\n",
    "    train_df_X = fs_lr.transform(train_df_X)\n",
    "    m06_lr = LinearRegression()\n",
    "    m06_lr.fit(train_df_X, train_df_y)\n",
    "  \n",
    "    # PACK MODEL\n",
    "    model = {\"feature_selector\": fs_lr, \"regression_model\": m06_lr}    \n",
    "\n",
    "    return model"
   ]
  },
  {
   "cell_type": "code",
   "execution_count": 1,
   "metadata": {},
   "outputs": [],
   "source": [
    "def produce_forecast_m6_lr(model, train_df_X, test_df_X):\n",
    "    \"\"\"Create forecast at the train and test set using the trained model\n",
    "\n",
    "    Args:\n",
    "        model (dictionary): all parameters of the trained model\n",
    "        train_df_X (df): predictors of train set\n",
    "        test_df_X (df): predictors of test set\n",
    "\n",
    "    Returns:\n",
    "        train_df_y_hat (df) : forecast result at train set\n",
    "        test_df_y_hat (df) : forecast result at test set\n",
    "        \n",
    "    \"\"\"\n",
    "    fs_lr = model['feature_selector']\n",
    "    m06_lr = model['regression_model']\n",
    "    \n",
    "    # SELECT K BEST FEATURES\n",
    "    train_df_X = fs_lr.transform(train_df_X)\n",
    "    test_df_X = fs_lr.transform(test_df_X)\n",
    "    \n",
    "    # PRODUCE FORECAST\n",
    "    train_df_y_hat = m06_lr.predict(train_df_X)\n",
    "    test_df_y_hat = m06_lr.predict(test_df_X)\n",
    "    \n",
    "    return train_df_y_hat, test_df_y_hat"
   ]
  }
 ],
 "metadata": {
  "kernelspec": {
   "display_name": ".venv",
   "language": "python",
   "name": "python3"
  },
  "language_info": {
   "codemirror_mode": {
    "name": "ipython",
    "version": 3
   },
   "file_extension": ".py",
   "mimetype": "text/x-python",
   "name": "python",
   "nbconvert_exporter": "python",
   "pygments_lexer": "ipython3",
   "version": "3.12.3"
  }
 },
 "nbformat": 4,
 "nbformat_minor": 2
}
