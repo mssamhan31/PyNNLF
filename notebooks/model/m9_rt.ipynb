{
 "cells": [
  {
   "cell_type": "code",
   "execution_count": null,
   "metadata": {},
   "outputs": [],
   "source": [
    "# IMPORT IMPORTANT LIBRARY\n",
    "from sklearn.tree import DecisionTreeRegressor\n",
    "from sklearn.metrics import mean_squared_error"
   ]
  },
  {
   "cell_type": "code",
   "execution_count": null,
   "metadata": {},
   "outputs": [],
   "source": [
    "def train_model_m9_rt(hyperparameter, train_df_X, train_df_y):\n",
    "    \"\"\"Train a regression tree (DecisionTreeRegressor) for point forecasting.\n",
    "\n",
    "    Args:\n",
    "        hyperparameter (dict): Dictionary of hyperparameters (seed, max_depth, min_samples_split, min_samples_leaf, max_features).\n",
    "        train_df_X (pd.DataFrame): Predictor variables for training.\n",
    "        train_df_y (pd.DataFrame): Target variable for training.\n",
    "\n",
    "    Returns:\n",
    "        model (dict): Contains the trained regression tree under key 'rt'.\n",
    "    \"\"\"\n",
    "    \n",
    "    #UNPACK HYPERPARAMETER\n",
    "    seed = hyperparameter['seed']\n",
    "    max_depth = hyperparameter['max_depth']\n",
    "    min_samples_split = hyperparameter['min_samples_split']\n",
    "    min_samples_leaf = hyperparameter['min_samples_leaf']\n",
    "    max_features = hyperparameter['max_features']\n",
    "    \n",
    "    #TRAIN MODEL\n",
    "    # Initialize the regression tree model with important hyperparameters\n",
    "    regressor = DecisionTreeRegressor(\n",
    "        criterion='squared_error',\n",
    "        max_depth=max_depth,\n",
    "        min_samples_split = min_samples_split,\n",
    "        min_samples_leaf = min_samples_leaf,\n",
    "        max_features = max_features,\n",
    "        random_state = seed\n",
    "    )\n",
    "    \n",
    "    # Train the model\n",
    "    regressor.fit(train_df_X, train_df_y)\n",
    "  \n",
    "    # PACK MODEL\n",
    "    model = {\"rt\": regressor}\n",
    "    \n",
    "    # print('I am here after training the model')\n",
    "  \n",
    "    return model"
   ]
  },
  {
   "cell_type": "code",
   "execution_count": null,
   "metadata": {},
   "outputs": [],
   "source": [
    "def produce_forecast_m9_rt(model, train_df_X, test_df_X):\n",
    "    \"\"\"Generate forecasts for train and test sets using a trained regression tree.\n",
    "\n",
    "    Args:\n",
    "        model (dict): Trained model containing the regression tree under key 'rt'.\n",
    "        train_df_X (pd.DataFrame): Predictor variables for the training set.\n",
    "        test_df_X (pd.DataFrame): Predictor variables for the test set.\n",
    "\n",
    "    Returns:\n",
    "        train_df_y_hat (pd.DataFrame): Forecasts for the training set.\n",
    "        test_df_y_hat (pd.DataFrame): Forecasts for the test set.\n",
    "    \"\"\"\n",
    "    \n",
    "    # UNPACK MODEL\n",
    "    regressor = model['rt']\n",
    "    \n",
    "    # PRODUCE FORECAST\n",
    "    train_df_y_hat = pd.DataFrame(regressor.predict(train_df_X), index = train_df_X.index, columns = ['y_hat'])\n",
    "    test_df_y_hat = pd.DataFrame(regressor.predict(test_df_X), index = test_df_X.index, columns = ['y_hat'])\n",
    "    \n",
    "    # print('I am here after training the model')\n",
    "    # print('train_df_y_hat', train_df_y_hat)\n",
    "    # print('test_df_y_hat', test_df_y_hat)\n",
    "    \n",
    "    return train_df_y_hat, test_df_y_hat"
   ]
  }
 ],
 "metadata": {
  "kernelspec": {
   "display_name": ".venv",
   "language": "python",
   "name": "python3"
  },
  "language_info": {
   "codemirror_mode": {
    "name": "ipython",
    "version": 3
   },
   "file_extension": ".py",
   "mimetype": "text/x-python",
   "name": "python",
   "nbconvert_exporter": "python",
   "pygments_lexer": "ipython3",
   "version": "3.12.3"
  }
 },
 "nbformat": 4,
 "nbformat_minor": 2
}
